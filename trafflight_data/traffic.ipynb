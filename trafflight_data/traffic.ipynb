{
 "cells": [
  {
   "cell_type": "code",
   "execution_count": 1,
   "metadata": {},
   "outputs": [],
   "source": [
    "import numpy as np\n",
    "import pandas as pd\n",
    "from datetime import datetime\n",
    "from dateutil import tz\n",
    "import matplotlib.pyplot as plt\n",
    "import matplotlib.dates as dates\n",
    "from matplotlib.dates import DateFormatter\n",
    "import matplotlib.transforms as mtransforms"
   ]
  },
  {
   "cell_type": "code",
   "execution_count": 2,
   "metadata": {},
   "outputs": [],
   "source": [
    "df_502_raw = pd.read_csv('502-data-2019-02-19.csv', header=None)\n",
    "df_503_raw = pd.read_csv('503-data-2019-02-19.csv', header=None)"
   ]
  },
  {
   "cell_type": "code",
   "execution_count": 3,
   "metadata": {},
   "outputs": [
    {
     "data": {
      "text/html": [
       "<div>\n",
       "<style scoped>\n",
       "    .dataframe tbody tr th:only-of-type {\n",
       "        vertical-align: middle;\n",
       "    }\n",
       "\n",
       "    .dataframe tbody tr th {\n",
       "        vertical-align: top;\n",
       "    }\n",
       "\n",
       "    .dataframe thead th {\n",
       "        text-align: right;\n",
       "    }\n",
       "</style>\n",
       "<table border=\"1\" class=\"dataframe\">\n",
       "  <thead>\n",
       "    <tr style=\"text-align: right;\">\n",
       "      <th></th>\n",
       "      <th>0</th>\n",
       "      <th>1</th>\n",
       "      <th>2</th>\n",
       "    </tr>\n",
       "  </thead>\n",
       "  <tbody>\n",
       "    <tr>\n",
       "      <th>0</th>\n",
       "      <td>502</td>\n",
       "      <td>Tue Feb 19 2019 00:02:23 GMT+0000 (UTC)</td>\n",
       "      <td>Detection Box (00100010 10111010 00100010 1111...</td>\n",
       "    </tr>\n",
       "    <tr>\n",
       "      <th>1</th>\n",
       "      <td>502</td>\n",
       "      <td>Tue Feb 19 2019 00:02:25 GMT+0000 (UTC)</td>\n",
       "      <td>Detection Box (00100010 10111010 00100010 1111...</td>\n",
       "    </tr>\n",
       "    <tr>\n",
       "      <th>2</th>\n",
       "      <td>502</td>\n",
       "      <td>Tue Feb 19 2019 00:17:12 GMT+0000 (UTC)</td>\n",
       "      <td>Detection Box (00100010 10111010 00100010 1111...</td>\n",
       "    </tr>\n",
       "    <tr>\n",
       "      <th>3</th>\n",
       "      <td>502</td>\n",
       "      <td>Tue Feb 19 2019 00:17:14 GMT+0000 (UTC)</td>\n",
       "      <td>Detection Box (00100010 10111010 00100010 1111...</td>\n",
       "    </tr>\n",
       "    <tr>\n",
       "      <th>4</th>\n",
       "      <td>502</td>\n",
       "      <td>Tue Feb 19 2019 00:17:16 GMT+0000 (UTC)</td>\n",
       "      <td>Detection Box (00100010 10111010 00100010 1111...</td>\n",
       "    </tr>\n",
       "  </tbody>\n",
       "</table>\n",
       "</div>"
      ],
      "text/plain": [
       "     0                                        1  \\\n",
       "0  502  Tue Feb 19 2019 00:02:23 GMT+0000 (UTC)   \n",
       "1  502  Tue Feb 19 2019 00:02:25 GMT+0000 (UTC)   \n",
       "2  502  Tue Feb 19 2019 00:17:12 GMT+0000 (UTC)   \n",
       "3  502  Tue Feb 19 2019 00:17:14 GMT+0000 (UTC)   \n",
       "4  502  Tue Feb 19 2019 00:17:16 GMT+0000 (UTC)   \n",
       "\n",
       "                                                   2  \n",
       "0  Detection Box (00100010 10111010 00100010 1111...  \n",
       "1  Detection Box (00100010 10111010 00100010 1111...  \n",
       "2  Detection Box (00100010 10111010 00100010 1111...  \n",
       "3  Detection Box (00100010 10111010 00100010 1111...  \n",
       "4  Detection Box (00100010 10111010 00100010 1111...  "
      ]
     },
     "execution_count": 3,
     "metadata": {},
     "output_type": "execute_result"
    }
   ],
   "source": [
    "df_502_raw.head()"
   ]
  },
  {
   "cell_type": "code",
   "execution_count": 4,
   "metadata": {},
   "outputs": [
    {
     "data": {
      "text/html": [
       "<div>\n",
       "<style scoped>\n",
       "    .dataframe tbody tr th:only-of-type {\n",
       "        vertical-align: middle;\n",
       "    }\n",
       "\n",
       "    .dataframe tbody tr th {\n",
       "        vertical-align: top;\n",
       "    }\n",
       "\n",
       "    .dataframe thead th {\n",
       "        text-align: right;\n",
       "    }\n",
       "</style>\n",
       "<table border=\"1\" class=\"dataframe\">\n",
       "  <thead>\n",
       "    <tr style=\"text-align: right;\">\n",
       "      <th></th>\n",
       "      <th>0</th>\n",
       "      <th>1</th>\n",
       "      <th>2</th>\n",
       "    </tr>\n",
       "  </thead>\n",
       "  <tbody>\n",
       "    <tr>\n",
       "      <th>0</th>\n",
       "      <td>503</td>\n",
       "      <td>Tue Feb 19 2019 00:00:01 GMT+0000 (UTC)</td>\n",
       "      <td>Detection Box (00100010 01101000)</td>\n",
       "    </tr>\n",
       "    <tr>\n",
       "      <th>1</th>\n",
       "      <td>503</td>\n",
       "      <td>Tue Feb 19 2019 00:00:21 GMT+0000 (UTC)</td>\n",
       "      <td>Detection Box (01100110 01100000)</td>\n",
       "    </tr>\n",
       "    <tr>\n",
       "      <th>2</th>\n",
       "      <td>503</td>\n",
       "      <td>Tue Feb 19 2019 00:00:23 GMT+0000 (UTC)</td>\n",
       "      <td>Detection Box (01100110 01100000)</td>\n",
       "    </tr>\n",
       "    <tr>\n",
       "      <th>3</th>\n",
       "      <td>503</td>\n",
       "      <td>Tue Feb 19 2019 00:00:24 GMT+0000 (UTC)</td>\n",
       "      <td>Detection Box (01100110 01100100)</td>\n",
       "    </tr>\n",
       "    <tr>\n",
       "      <th>4</th>\n",
       "      <td>503</td>\n",
       "      <td>Tue Feb 19 2019 00:00:26 GMT+0000 (UTC)</td>\n",
       "      <td>Detection Box (01100110 01100000)</td>\n",
       "    </tr>\n",
       "  </tbody>\n",
       "</table>\n",
       "</div>"
      ],
      "text/plain": [
       "     0                                        1  \\\n",
       "0  503  Tue Feb 19 2019 00:00:01 GMT+0000 (UTC)   \n",
       "1  503  Tue Feb 19 2019 00:00:21 GMT+0000 (UTC)   \n",
       "2  503  Tue Feb 19 2019 00:00:23 GMT+0000 (UTC)   \n",
       "3  503  Tue Feb 19 2019 00:00:24 GMT+0000 (UTC)   \n",
       "4  503  Tue Feb 19 2019 00:00:26 GMT+0000 (UTC)   \n",
       "\n",
       "                                   2  \n",
       "0  Detection Box (00100010 01101000)  \n",
       "1  Detection Box (01100110 01100000)  \n",
       "2  Detection Box (01100110 01100000)  \n",
       "3  Detection Box (01100110 01100100)  \n",
       "4  Detection Box (01100110 01100000)  "
      ]
     },
     "execution_count": 4,
     "metadata": {},
     "output_type": "execute_result"
    }
   ],
   "source": [
    "df_503_raw.head()"
   ]
  },
  {
   "cell_type": "markdown",
   "metadata": {},
   "source": [
    "# Format and Parse Data"
   ]
  },
  {
   "cell_type": "code",
   "execution_count": 5,
   "metadata": {},
   "outputs": [],
   "source": [
    "# format of timestamps\n",
    "t_format = '%b %d %Y %H:%M:%S'\n",
    "from_zone = tz.gettz('UTC')\n",
    "to_zone = tz.gettz('America/New_York')"
   ]
  },
  {
   "cell_type": "code",
   "execution_count": 6,
   "metadata": {},
   "outputs": [],
   "source": [
    "# function to reformat timestamps\n",
    "def t_rfmt(timestamp):\n",
    "    # read as datetime object\n",
    "    tm = datetime.strptime(timestamp, t_format)\n",
    "    # return datetime converted to local timezone\n",
    "    return(tm.replace(tzinfo=from_zone).astimezone(to_zone))"
   ]
  },
  {
   "cell_type": "code",
   "execution_count": 7,
   "metadata": {},
   "outputs": [],
   "source": [
    "# function to parse input by each wire\n",
    "def wires(reading):\n",
    "    wire_list = []\n",
    "    for group in reading.split():\n",
    "        wire_list.extend(list(group))\n",
    "    return(wire_list)"
   ]
  },
  {
   "cell_type": "code",
   "execution_count": 8,
   "metadata": {},
   "outputs": [],
   "source": [
    "# create map of sensor no. and direction\n",
    "dict_502 = {\n",
    "    1: 'phase_wb_lft', \n",
    "    2: 'phase_eb_str', \n",
    "    3: 'phase_NC1',\n",
    "    4: 'phase_sb_all', \n",
    "    5: 'phase_eb_lft', \n",
    "    6: 'phase_wb_str',\n",
    "    7: 'phase_NC2',\n",
    "    8: 'phase_nb_all',\n",
    "    9: 'ped_NC1',\n",
    "    10: 'ped_eb',\n",
    "    11: 'ped_NC2',\n",
    "    12: 'ped_NC3',\n",
    "    13: 'ped_NC4',\n",
    "    14: 'ped_wb',\n",
    "    15: 'ped_NC5',\n",
    "    16: 'ped_nb',\n",
    "    17: 'loop_wb_lft', \n",
    "    18: 'loop_eb_str',\n",
    "    19: 'loop_NC1',\n",
    "    20: 'loop_sb_all', \n",
    "    21: 'loop_eb_lft', \n",
    "    22: 'loop_wb_str',\n",
    "    23: 'loop_NC2',\n",
    "    24: 'loop_nb_all',\n",
    "    25: 'button_NC1',\n",
    "    26: 'button_NC2',\n",
    "    27: 'button_NC3',\n",
    "    28: 'button_NC4',\n",
    "    29: 'button_NC5',\n",
    "    30: 'button_NC6',\n",
    "    31: 'button_NC7',\n",
    "    32: 'button_NC8'\n",
    "}"
   ]
  },
  {
   "cell_type": "code",
   "execution_count": 9,
   "metadata": {},
   "outputs": [
    {
     "data": {
      "text/html": [
       "<div>\n",
       "<style scoped>\n",
       "    .dataframe tbody tr th:only-of-type {\n",
       "        vertical-align: middle;\n",
       "    }\n",
       "\n",
       "    .dataframe tbody tr th {\n",
       "        vertical-align: top;\n",
       "    }\n",
       "\n",
       "    .dataframe thead th {\n",
       "        text-align: right;\n",
       "    }\n",
       "</style>\n",
       "<table border=\"1\" class=\"dataframe\">\n",
       "  <thead>\n",
       "    <tr style=\"text-align: right;\">\n",
       "      <th></th>\n",
       "      <th>timestamp</th>\n",
       "      <th>phase_wb_lft</th>\n",
       "      <th>phase_eb_str</th>\n",
       "      <th>phase_NC1</th>\n",
       "      <th>phase_sb_all</th>\n",
       "      <th>phase_eb_lft</th>\n",
       "      <th>phase_wb_str</th>\n",
       "      <th>phase_NC2</th>\n",
       "      <th>phase_nb_all</th>\n",
       "      <th>ped_NC1</th>\n",
       "      <th>...</th>\n",
       "      <th>loop_NC2</th>\n",
       "      <th>loop_nb_all</th>\n",
       "      <th>button_NC1</th>\n",
       "      <th>button_NC2</th>\n",
       "      <th>button_NC3</th>\n",
       "      <th>button_NC4</th>\n",
       "      <th>button_NC5</th>\n",
       "      <th>button_NC6</th>\n",
       "      <th>button_NC7</th>\n",
       "      <th>button_NC8</th>\n",
       "    </tr>\n",
       "  </thead>\n",
       "  <tbody>\n",
       "    <tr>\n",
       "      <th>6183</th>\n",
       "      <td>2019-02-18 19:00:21-05:00</td>\n",
       "      <td>0</td>\n",
       "      <td>1</td>\n",
       "      <td>1</td>\n",
       "      <td>0</td>\n",
       "      <td>0</td>\n",
       "      <td>1</td>\n",
       "      <td>1</td>\n",
       "      <td>0</td>\n",
       "      <td>1</td>\n",
       "      <td>...</td>\n",
       "      <td>1</td>\n",
       "      <td>0</td>\n",
       "      <td>1</td>\n",
       "      <td>1</td>\n",
       "      <td>1</td>\n",
       "      <td>1</td>\n",
       "      <td>1</td>\n",
       "      <td>1</td>\n",
       "      <td>1</td>\n",
       "      <td>1</td>\n",
       "    </tr>\n",
       "    <tr>\n",
       "      <th>6184</th>\n",
       "      <td>2019-02-18 19:00:23-05:00</td>\n",
       "      <td>0</td>\n",
       "      <td>1</td>\n",
       "      <td>1</td>\n",
       "      <td>0</td>\n",
       "      <td>0</td>\n",
       "      <td>1</td>\n",
       "      <td>1</td>\n",
       "      <td>0</td>\n",
       "      <td>1</td>\n",
       "      <td>...</td>\n",
       "      <td>1</td>\n",
       "      <td>0</td>\n",
       "      <td>1</td>\n",
       "      <td>1</td>\n",
       "      <td>1</td>\n",
       "      <td>1</td>\n",
       "      <td>1</td>\n",
       "      <td>1</td>\n",
       "      <td>1</td>\n",
       "      <td>1</td>\n",
       "    </tr>\n",
       "    <tr>\n",
       "      <th>25335</th>\n",
       "      <td>2019-02-18 19:00:24-05:00</td>\n",
       "      <td>0</td>\n",
       "      <td>1</td>\n",
       "      <td>1</td>\n",
       "      <td>0</td>\n",
       "      <td>0</td>\n",
       "      <td>1</td>\n",
       "      <td>1</td>\n",
       "      <td>0</td>\n",
       "      <td>1</td>\n",
       "      <td>...</td>\n",
       "      <td>1</td>\n",
       "      <td>0</td>\n",
       "      <td>1</td>\n",
       "      <td>1</td>\n",
       "      <td>1</td>\n",
       "      <td>1</td>\n",
       "      <td>1</td>\n",
       "      <td>1</td>\n",
       "      <td>1</td>\n",
       "      <td>1</td>\n",
       "    </tr>\n",
       "    <tr>\n",
       "      <th>6185</th>\n",
       "      <td>2019-02-18 19:00:26-05:00</td>\n",
       "      <td>0</td>\n",
       "      <td>1</td>\n",
       "      <td>1</td>\n",
       "      <td>0</td>\n",
       "      <td>0</td>\n",
       "      <td>1</td>\n",
       "      <td>1</td>\n",
       "      <td>0</td>\n",
       "      <td>1</td>\n",
       "      <td>...</td>\n",
       "      <td>1</td>\n",
       "      <td>0</td>\n",
       "      <td>1</td>\n",
       "      <td>1</td>\n",
       "      <td>1</td>\n",
       "      <td>1</td>\n",
       "      <td>1</td>\n",
       "      <td>1</td>\n",
       "      <td>1</td>\n",
       "      <td>1</td>\n",
       "    </tr>\n",
       "    <tr>\n",
       "      <th>25336</th>\n",
       "      <td>2019-02-18 19:00:28-05:00</td>\n",
       "      <td>0</td>\n",
       "      <td>1</td>\n",
       "      <td>1</td>\n",
       "      <td>0</td>\n",
       "      <td>0</td>\n",
       "      <td>1</td>\n",
       "      <td>1</td>\n",
       "      <td>0</td>\n",
       "      <td>1</td>\n",
       "      <td>...</td>\n",
       "      <td>1</td>\n",
       "      <td>0</td>\n",
       "      <td>1</td>\n",
       "      <td>1</td>\n",
       "      <td>1</td>\n",
       "      <td>1</td>\n",
       "      <td>1</td>\n",
       "      <td>1</td>\n",
       "      <td>1</td>\n",
       "      <td>1</td>\n",
       "    </tr>\n",
       "  </tbody>\n",
       "</table>\n",
       "<p>5 rows × 33 columns</p>\n",
       "</div>"
      ],
      "text/plain": [
       "                      timestamp  phase_wb_lft  phase_eb_str  phase_NC1  \\\n",
       "6183  2019-02-18 19:00:21-05:00             0             1          1   \n",
       "6184  2019-02-18 19:00:23-05:00             0             1          1   \n",
       "25335 2019-02-18 19:00:24-05:00             0             1          1   \n",
       "6185  2019-02-18 19:00:26-05:00             0             1          1   \n",
       "25336 2019-02-18 19:00:28-05:00             0             1          1   \n",
       "\n",
       "       phase_sb_all  phase_eb_lft  phase_wb_str  phase_NC2  phase_nb_all  \\\n",
       "6183              0             0             1          1             0   \n",
       "6184              0             0             1          1             0   \n",
       "25335             0             0             1          1             0   \n",
       "6185              0             0             1          1             0   \n",
       "25336             0             0             1          1             0   \n",
       "\n",
       "       ped_NC1     ...      loop_NC2  loop_nb_all  button_NC1  button_NC2  \\\n",
       "6183         1     ...             1            0           1           1   \n",
       "6184         1     ...             1            0           1           1   \n",
       "25335        1     ...             1            0           1           1   \n",
       "6185         1     ...             1            0           1           1   \n",
       "25336        1     ...             1            0           1           1   \n",
       "\n",
       "       button_NC3  button_NC4  button_NC5  button_NC6  button_NC7  button_NC8  \n",
       "6183            1           1           1           1           1           1  \n",
       "6184            1           1           1           1           1           1  \n",
       "25335           1           1           1           1           1           1  \n",
       "6185            1           1           1           1           1           1  \n",
       "25336           1           1           1           1           1           1  \n",
       "\n",
       "[5 rows x 33 columns]"
      ]
     },
     "execution_count": 9,
     "metadata": {},
     "output_type": "execute_result"
    }
   ],
   "source": [
    "# input sensor data as individual columns\n",
    "df_502 = pd.DataFrame(list(df_502_raw.loc[:, 2].apply(lambda x: wires(x[15:-1]))), columns=list(range(1, 33)))\n",
    "# rename columns based on dictionary\n",
    "df_502.columns = [dict_502[x] for x in df_502.columns]\n",
    "# convert data type to integers\n",
    "df_502 = df_502.astype(int)\n",
    "# insert column for timestamp\n",
    "df_502.insert(0, 'timestamp', df_502_raw.loc[:, 1].apply(lambda x: t_rfmt(x[4:-15])))\n",
    "# sort observations by timestamp\n",
    "df_502.sort_values(by='timestamp', inplace=True)\n",
    "df_502.head()"
   ]
  },
  {
   "cell_type": "code",
   "execution_count": 10,
   "metadata": {},
   "outputs": [],
   "source": [
    "# create map of sensor no. and direction\n",
    "dict_503 = {\n",
    "    1: 'phase_wb_lft', \n",
    "    2: 'phase_eb_str', \n",
    "    3: 'phase_NC1',\n",
    "    4: 'phase_sb_all', \n",
    "    5: 'phase_eb_lft', \n",
    "    6: 'phase_wb_str',\n",
    "    7: 'phase_NC2',\n",
    "    8: 'phase_nb_all',\n",
    "    9: 'loop_wb_lft', \n",
    "    10: 'loop_eb_str',\n",
    "    11: 'loop_NC1',\n",
    "    12: 'loop_sb_all', \n",
    "    13: 'loop_eb_lft', \n",
    "    14: 'loop_wb_str',\n",
    "    15: 'loop_NC2',\n",
    "    16: 'loop_nb_all'\n",
    "}"
   ]
  },
  {
   "cell_type": "code",
   "execution_count": 11,
   "metadata": {},
   "outputs": [
    {
     "data": {
      "text/html": [
       "<div>\n",
       "<style scoped>\n",
       "    .dataframe tbody tr th:only-of-type {\n",
       "        vertical-align: middle;\n",
       "    }\n",
       "\n",
       "    .dataframe tbody tr th {\n",
       "        vertical-align: top;\n",
       "    }\n",
       "\n",
       "    .dataframe thead th {\n",
       "        text-align: right;\n",
       "    }\n",
       "</style>\n",
       "<table border=\"1\" class=\"dataframe\">\n",
       "  <thead>\n",
       "    <tr style=\"text-align: right;\">\n",
       "      <th></th>\n",
       "      <th>timestamp</th>\n",
       "      <th>phase_wb_lft</th>\n",
       "      <th>phase_eb_str</th>\n",
       "      <th>phase_NC1</th>\n",
       "      <th>phase_sb_all</th>\n",
       "      <th>phase_eb_lft</th>\n",
       "      <th>phase_wb_str</th>\n",
       "      <th>phase_NC2</th>\n",
       "      <th>phase_nb_all</th>\n",
       "      <th>loop_wb_lft</th>\n",
       "      <th>loop_eb_str</th>\n",
       "      <th>loop_NC1</th>\n",
       "      <th>loop_sb_all</th>\n",
       "      <th>loop_eb_lft</th>\n",
       "      <th>loop_wb_str</th>\n",
       "      <th>loop_NC2</th>\n",
       "      <th>loop_nb_all</th>\n",
       "    </tr>\n",
       "  </thead>\n",
       "  <tbody>\n",
       "    <tr>\n",
       "      <th>0</th>\n",
       "      <td>2019-02-18 19:00:01-05:00</td>\n",
       "      <td>0</td>\n",
       "      <td>0</td>\n",
       "      <td>1</td>\n",
       "      <td>0</td>\n",
       "      <td>0</td>\n",
       "      <td>0</td>\n",
       "      <td>1</td>\n",
       "      <td>0</td>\n",
       "      <td>0</td>\n",
       "      <td>1</td>\n",
       "      <td>1</td>\n",
       "      <td>0</td>\n",
       "      <td>1</td>\n",
       "      <td>0</td>\n",
       "      <td>0</td>\n",
       "      <td>0</td>\n",
       "    </tr>\n",
       "    <tr>\n",
       "      <th>1</th>\n",
       "      <td>2019-02-18 19:00:21-05:00</td>\n",
       "      <td>0</td>\n",
       "      <td>1</td>\n",
       "      <td>1</td>\n",
       "      <td>0</td>\n",
       "      <td>0</td>\n",
       "      <td>1</td>\n",
       "      <td>1</td>\n",
       "      <td>0</td>\n",
       "      <td>0</td>\n",
       "      <td>1</td>\n",
       "      <td>1</td>\n",
       "      <td>0</td>\n",
       "      <td>0</td>\n",
       "      <td>0</td>\n",
       "      <td>0</td>\n",
       "      <td>0</td>\n",
       "    </tr>\n",
       "    <tr>\n",
       "      <th>2</th>\n",
       "      <td>2019-02-18 19:00:23-05:00</td>\n",
       "      <td>0</td>\n",
       "      <td>1</td>\n",
       "      <td>1</td>\n",
       "      <td>0</td>\n",
       "      <td>0</td>\n",
       "      <td>1</td>\n",
       "      <td>1</td>\n",
       "      <td>0</td>\n",
       "      <td>0</td>\n",
       "      <td>1</td>\n",
       "      <td>1</td>\n",
       "      <td>0</td>\n",
       "      <td>0</td>\n",
       "      <td>0</td>\n",
       "      <td>0</td>\n",
       "      <td>0</td>\n",
       "    </tr>\n",
       "    <tr>\n",
       "      <th>3</th>\n",
       "      <td>2019-02-18 19:00:24-05:00</td>\n",
       "      <td>0</td>\n",
       "      <td>1</td>\n",
       "      <td>1</td>\n",
       "      <td>0</td>\n",
       "      <td>0</td>\n",
       "      <td>1</td>\n",
       "      <td>1</td>\n",
       "      <td>0</td>\n",
       "      <td>0</td>\n",
       "      <td>1</td>\n",
       "      <td>1</td>\n",
       "      <td>0</td>\n",
       "      <td>0</td>\n",
       "      <td>1</td>\n",
       "      <td>0</td>\n",
       "      <td>0</td>\n",
       "    </tr>\n",
       "    <tr>\n",
       "      <th>4</th>\n",
       "      <td>2019-02-18 19:00:26-05:00</td>\n",
       "      <td>0</td>\n",
       "      <td>1</td>\n",
       "      <td>1</td>\n",
       "      <td>0</td>\n",
       "      <td>0</td>\n",
       "      <td>1</td>\n",
       "      <td>1</td>\n",
       "      <td>0</td>\n",
       "      <td>0</td>\n",
       "      <td>1</td>\n",
       "      <td>1</td>\n",
       "      <td>0</td>\n",
       "      <td>0</td>\n",
       "      <td>0</td>\n",
       "      <td>0</td>\n",
       "      <td>0</td>\n",
       "    </tr>\n",
       "  </tbody>\n",
       "</table>\n",
       "</div>"
      ],
      "text/plain": [
       "                  timestamp  phase_wb_lft  phase_eb_str  phase_NC1  \\\n",
       "0 2019-02-18 19:00:01-05:00             0             0          1   \n",
       "1 2019-02-18 19:00:21-05:00             0             1          1   \n",
       "2 2019-02-18 19:00:23-05:00             0             1          1   \n",
       "3 2019-02-18 19:00:24-05:00             0             1          1   \n",
       "4 2019-02-18 19:00:26-05:00             0             1          1   \n",
       "\n",
       "   phase_sb_all  phase_eb_lft  phase_wb_str  phase_NC2  phase_nb_all  \\\n",
       "0             0             0             0          1             0   \n",
       "1             0             0             1          1             0   \n",
       "2             0             0             1          1             0   \n",
       "3             0             0             1          1             0   \n",
       "4             0             0             1          1             0   \n",
       "\n",
       "   loop_wb_lft  loop_eb_str  loop_NC1  loop_sb_all  loop_eb_lft  loop_wb_str  \\\n",
       "0            0            1         1            0            1            0   \n",
       "1            0            1         1            0            0            0   \n",
       "2            0            1         1            0            0            0   \n",
       "3            0            1         1            0            0            1   \n",
       "4            0            1         1            0            0            0   \n",
       "\n",
       "   loop_NC2  loop_nb_all  \n",
       "0         0            0  \n",
       "1         0            0  \n",
       "2         0            0  \n",
       "3         0            0  \n",
       "4         0            0  "
      ]
     },
     "execution_count": 11,
     "metadata": {},
     "output_type": "execute_result"
    }
   ],
   "source": [
    "# input sensor data as individual columns\n",
    "df_503 = pd.DataFrame(list(df_503_raw.loc[:, 2].apply(lambda x: wires(x[15:-1]))), columns=list(range(1, 17)))\n",
    "# rename columns based on dictionary\n",
    "df_503.columns = [dict_503[x] for x in df_503.columns]\n",
    "# convert data type to integers\n",
    "df_503 = df_503.astype(int)\n",
    "# insert column for timestamp\n",
    "df_503.insert(0, 'timestamp', df_503_raw.loc[:, 1].apply(lambda x: t_rfmt(x[4:-15])))\n",
    "# sort observations by timestamp\n",
    "df_503.sort_values(by='timestamp', inplace=True)\n",
    "df_503.head()"
   ]
  },
  {
   "cell_type": "markdown",
   "metadata": {},
   "source": [
    "# No Count Columns"
   ]
  },
  {
   "cell_type": "code",
   "execution_count": 12,
   "metadata": {},
   "outputs": [
    {
     "name": "stdout",
     "output_type": "stream",
     "text": [
      "phase_wb_lft :  [0 1]\n",
      "phase_eb_str :  [1 0]\n",
      "phase_NC1 :  [1]\n",
      "phase_sb_all :  [0 1]\n",
      "phase_eb_lft :  [0 1]\n",
      "phase_wb_str :  [1 0]\n",
      "phase_NC2 :  [1]\n",
      "phase_nb_all :  [0 1]\n",
      "ped_NC1 :  [1]\n",
      "ped_eb :  [0 1]\n",
      "ped_NC2 :  [1]\n",
      "ped_NC3 :  [1]\n",
      "ped_NC4 :  [1]\n",
      "ped_wb :  [0 1]\n",
      "ped_NC5 :  [1]\n",
      "ped_nb :  [0 1]\n",
      "loop_wb_lft :  [0 1]\n",
      "loop_eb_str :  [0]\n",
      "loop_NC1 :  [1]\n",
      "loop_sb_all :  [0 1]\n",
      "loop_eb_lft :  [0 1]\n",
      "loop_wb_str :  [0 1]\n",
      "loop_NC2 :  [1]\n",
      "loop_nb_all :  [0 1]\n",
      "button_NC1 :  [1]\n",
      "button_NC2 :  [1]\n",
      "button_NC3 :  [1]\n",
      "button_NC4 :  [1]\n",
      "button_NC5 :  [1]\n",
      "button_NC6 :  [1]\n",
      "button_NC7 :  [1]\n",
      "button_NC8 :  [1]\n"
     ]
    }
   ],
   "source": [
    "# check for no count columns\n",
    "for column in df_502.columns[1:]:\n",
    "    print(column, ': ', df_502[column].unique())"
   ]
  },
  {
   "cell_type": "code",
   "execution_count": 13,
   "metadata": {},
   "outputs": [
    {
     "name": "stdout",
     "output_type": "stream",
     "text": [
      "phase_wb_lft :  [0 1]\n",
      "phase_eb_str :  [0 1]\n",
      "phase_NC1 :  [1]\n",
      "phase_sb_all :  [0 1]\n",
      "phase_eb_lft :  [0 1]\n",
      "phase_wb_str :  [0 1]\n",
      "phase_NC2 :  [1]\n",
      "phase_nb_all :  [0 1]\n",
      "loop_wb_lft :  [0 1]\n",
      "loop_eb_str :  [1 0]\n",
      "loop_NC1 :  [1]\n",
      "loop_sb_all :  [0 1]\n",
      "loop_eb_lft :  [1 0]\n",
      "loop_wb_str :  [0 1]\n",
      "loop_NC2 :  [0 1]\n",
      "loop_nb_all :  [0 1]\n"
     ]
    }
   ],
   "source": [
    "# check for no count columns\n",
    "for column in df_503.columns[1:]:\n",
    "    print(column, ': ', df_503[column].unique())"
   ]
  },
  {
   "cell_type": "markdown",
   "metadata": {},
   "source": [
    "# Plots"
   ]
  },
  {
   "cell_type": "code",
   "execution_count": 50,
   "metadata": {},
   "outputs": [
    {
     "data": {
      "text/html": [
       "<div>\n",
       "<style scoped>\n",
       "    .dataframe tbody tr th:only-of-type {\n",
       "        vertical-align: middle;\n",
       "    }\n",
       "\n",
       "    .dataframe tbody tr th {\n",
       "        vertical-align: top;\n",
       "    }\n",
       "\n",
       "    .dataframe thead th {\n",
       "        text-align: right;\n",
       "    }\n",
       "</style>\n",
       "<table border=\"1\" class=\"dataframe\">\n",
       "  <thead>\n",
       "    <tr style=\"text-align: right;\">\n",
       "      <th></th>\n",
       "      <th>timestamp</th>\n",
       "      <th>phase_wb_lft</th>\n",
       "      <th>phase_eb_str</th>\n",
       "      <th>phase_NC1</th>\n",
       "      <th>phase_sb_all</th>\n",
       "      <th>phase_eb_lft</th>\n",
       "      <th>phase_wb_str</th>\n",
       "      <th>phase_NC2</th>\n",
       "      <th>phase_nb_all</th>\n",
       "      <th>ped_NC1</th>\n",
       "      <th>...</th>\n",
       "      <th>loop_NC2</th>\n",
       "      <th>loop_nb_all</th>\n",
       "      <th>button_NC1</th>\n",
       "      <th>button_NC2</th>\n",
       "      <th>button_NC3</th>\n",
       "      <th>button_NC4</th>\n",
       "      <th>button_NC5</th>\n",
       "      <th>button_NC6</th>\n",
       "      <th>button_NC7</th>\n",
       "      <th>button_NC8</th>\n",
       "    </tr>\n",
       "  </thead>\n",
       "  <tbody>\n",
       "    <tr>\n",
       "      <th>6183</th>\n",
       "      <td>2019-02-18 19:00:21-05:00</td>\n",
       "      <td>None</td>\n",
       "      <td>1</td>\n",
       "      <td>1</td>\n",
       "      <td>None</td>\n",
       "      <td>None</td>\n",
       "      <td>1</td>\n",
       "      <td>1</td>\n",
       "      <td>None</td>\n",
       "      <td>1</td>\n",
       "      <td>...</td>\n",
       "      <td>1</td>\n",
       "      <td>None</td>\n",
       "      <td>1</td>\n",
       "      <td>1</td>\n",
       "      <td>1</td>\n",
       "      <td>1</td>\n",
       "      <td>1</td>\n",
       "      <td>1</td>\n",
       "      <td>1</td>\n",
       "      <td>1</td>\n",
       "    </tr>\n",
       "    <tr>\n",
       "      <th>6184</th>\n",
       "      <td>2019-02-18 19:00:23-05:00</td>\n",
       "      <td>None</td>\n",
       "      <td>1</td>\n",
       "      <td>1</td>\n",
       "      <td>None</td>\n",
       "      <td>None</td>\n",
       "      <td>1</td>\n",
       "      <td>1</td>\n",
       "      <td>None</td>\n",
       "      <td>1</td>\n",
       "      <td>...</td>\n",
       "      <td>1</td>\n",
       "      <td>None</td>\n",
       "      <td>1</td>\n",
       "      <td>1</td>\n",
       "      <td>1</td>\n",
       "      <td>1</td>\n",
       "      <td>1</td>\n",
       "      <td>1</td>\n",
       "      <td>1</td>\n",
       "      <td>1</td>\n",
       "    </tr>\n",
       "    <tr>\n",
       "      <th>25335</th>\n",
       "      <td>2019-02-18 19:00:24-05:00</td>\n",
       "      <td>None</td>\n",
       "      <td>1</td>\n",
       "      <td>1</td>\n",
       "      <td>None</td>\n",
       "      <td>None</td>\n",
       "      <td>1</td>\n",
       "      <td>1</td>\n",
       "      <td>None</td>\n",
       "      <td>1</td>\n",
       "      <td>...</td>\n",
       "      <td>1</td>\n",
       "      <td>None</td>\n",
       "      <td>1</td>\n",
       "      <td>1</td>\n",
       "      <td>1</td>\n",
       "      <td>1</td>\n",
       "      <td>1</td>\n",
       "      <td>1</td>\n",
       "      <td>1</td>\n",
       "      <td>1</td>\n",
       "    </tr>\n",
       "    <tr>\n",
       "      <th>6185</th>\n",
       "      <td>2019-02-18 19:00:26-05:00</td>\n",
       "      <td>None</td>\n",
       "      <td>1</td>\n",
       "      <td>1</td>\n",
       "      <td>None</td>\n",
       "      <td>None</td>\n",
       "      <td>1</td>\n",
       "      <td>1</td>\n",
       "      <td>None</td>\n",
       "      <td>1</td>\n",
       "      <td>...</td>\n",
       "      <td>1</td>\n",
       "      <td>None</td>\n",
       "      <td>1</td>\n",
       "      <td>1</td>\n",
       "      <td>1</td>\n",
       "      <td>1</td>\n",
       "      <td>1</td>\n",
       "      <td>1</td>\n",
       "      <td>1</td>\n",
       "      <td>1</td>\n",
       "    </tr>\n",
       "    <tr>\n",
       "      <th>25336</th>\n",
       "      <td>2019-02-18 19:00:28-05:00</td>\n",
       "      <td>None</td>\n",
       "      <td>1</td>\n",
       "      <td>1</td>\n",
       "      <td>None</td>\n",
       "      <td>None</td>\n",
       "      <td>1</td>\n",
       "      <td>1</td>\n",
       "      <td>None</td>\n",
       "      <td>1</td>\n",
       "      <td>...</td>\n",
       "      <td>1</td>\n",
       "      <td>None</td>\n",
       "      <td>1</td>\n",
       "      <td>1</td>\n",
       "      <td>1</td>\n",
       "      <td>1</td>\n",
       "      <td>1</td>\n",
       "      <td>1</td>\n",
       "      <td>1</td>\n",
       "      <td>1</td>\n",
       "    </tr>\n",
       "  </tbody>\n",
       "</table>\n",
       "<p>5 rows × 33 columns</p>\n",
       "</div>"
      ],
      "text/plain": [
       "                      timestamp phase_wb_lft phase_eb_str phase_NC1  \\\n",
       "6183  2019-02-18 19:00:21-05:00         None            1         1   \n",
       "6184  2019-02-18 19:00:23-05:00         None            1         1   \n",
       "25335 2019-02-18 19:00:24-05:00         None            1         1   \n",
       "6185  2019-02-18 19:00:26-05:00         None            1         1   \n",
       "25336 2019-02-18 19:00:28-05:00         None            1         1   \n",
       "\n",
       "      phase_sb_all phase_eb_lft phase_wb_str phase_NC2 phase_nb_all ped_NC1  \\\n",
       "6183          None         None            1         1         None       1   \n",
       "6184          None         None            1         1         None       1   \n",
       "25335         None         None            1         1         None       1   \n",
       "6185          None         None            1         1         None       1   \n",
       "25336         None         None            1         1         None       1   \n",
       "\n",
       "         ...     loop_NC2 loop_nb_all button_NC1 button_NC2 button_NC3  \\\n",
       "6183     ...            1        None          1          1          1   \n",
       "6184     ...            1        None          1          1          1   \n",
       "25335    ...            1        None          1          1          1   \n",
       "6185     ...            1        None          1          1          1   \n",
       "25336    ...            1        None          1          1          1   \n",
       "\n",
       "      button_NC4 button_NC5 button_NC6 button_NC7 button_NC8  \n",
       "6183           1          1          1          1          1  \n",
       "6184           1          1          1          1          1  \n",
       "25335          1          1          1          1          1  \n",
       "6185           1          1          1          1          1  \n",
       "25336          1          1          1          1          1  \n",
       "\n",
       "[5 rows x 33 columns]"
      ]
     },
     "execution_count": 50,
     "metadata": {},
     "output_type": "execute_result"
    }
   ],
   "source": [
    "df_502_plot = df_502.copy()\n",
    "# replace all 0 values with None\n",
    "df_502_plot.iloc[:, 1:] = df_502_plot.iloc[:, 1:].replace(to_replace=[0], value=[None])\n",
    "# convert timestamp to hour:minute:second\n",
    "# df_502_plot.iloc[:, 0] = df_502_plot.iloc[:, 0].apply(lambda x: x.time)\n",
    "df_502_plot.head()"
   ]
  },
  {
   "cell_type": "code",
   "execution_count": 51,
   "metadata": {},
   "outputs": [
    {
     "data": {
      "text/html": [
       "<div>\n",
       "<style scoped>\n",
       "    .dataframe tbody tr th:only-of-type {\n",
       "        vertical-align: middle;\n",
       "    }\n",
       "\n",
       "    .dataframe tbody tr th {\n",
       "        vertical-align: top;\n",
       "    }\n",
       "\n",
       "    .dataframe thead th {\n",
       "        text-align: right;\n",
       "    }\n",
       "</style>\n",
       "<table border=\"1\" class=\"dataframe\">\n",
       "  <thead>\n",
       "    <tr style=\"text-align: right;\">\n",
       "      <th></th>\n",
       "      <th>timestamp</th>\n",
       "      <th>phase_wb_lft</th>\n",
       "      <th>phase_eb_str</th>\n",
       "      <th>phase_NC1</th>\n",
       "      <th>phase_sb_all</th>\n",
       "      <th>phase_eb_lft</th>\n",
       "      <th>phase_wb_str</th>\n",
       "      <th>phase_NC2</th>\n",
       "      <th>phase_nb_all</th>\n",
       "      <th>loop_wb_lft</th>\n",
       "      <th>loop_eb_str</th>\n",
       "      <th>loop_NC1</th>\n",
       "      <th>loop_sb_all</th>\n",
       "      <th>loop_eb_lft</th>\n",
       "      <th>loop_wb_str</th>\n",
       "      <th>loop_NC2</th>\n",
       "      <th>loop_nb_all</th>\n",
       "    </tr>\n",
       "  </thead>\n",
       "  <tbody>\n",
       "    <tr>\n",
       "      <th>0</th>\n",
       "      <td>2019-02-18 19:00:01-05:00</td>\n",
       "      <td>None</td>\n",
       "      <td>None</td>\n",
       "      <td>1</td>\n",
       "      <td>None</td>\n",
       "      <td>None</td>\n",
       "      <td>None</td>\n",
       "      <td>1</td>\n",
       "      <td>None</td>\n",
       "      <td>None</td>\n",
       "      <td>1</td>\n",
       "      <td>1</td>\n",
       "      <td>None</td>\n",
       "      <td>1</td>\n",
       "      <td>None</td>\n",
       "      <td>None</td>\n",
       "      <td>None</td>\n",
       "    </tr>\n",
       "    <tr>\n",
       "      <th>1</th>\n",
       "      <td>2019-02-18 19:00:21-05:00</td>\n",
       "      <td>None</td>\n",
       "      <td>1</td>\n",
       "      <td>1</td>\n",
       "      <td>None</td>\n",
       "      <td>None</td>\n",
       "      <td>1</td>\n",
       "      <td>1</td>\n",
       "      <td>None</td>\n",
       "      <td>None</td>\n",
       "      <td>1</td>\n",
       "      <td>1</td>\n",
       "      <td>None</td>\n",
       "      <td>None</td>\n",
       "      <td>None</td>\n",
       "      <td>None</td>\n",
       "      <td>None</td>\n",
       "    </tr>\n",
       "    <tr>\n",
       "      <th>2</th>\n",
       "      <td>2019-02-18 19:00:23-05:00</td>\n",
       "      <td>None</td>\n",
       "      <td>1</td>\n",
       "      <td>1</td>\n",
       "      <td>None</td>\n",
       "      <td>None</td>\n",
       "      <td>1</td>\n",
       "      <td>1</td>\n",
       "      <td>None</td>\n",
       "      <td>None</td>\n",
       "      <td>1</td>\n",
       "      <td>1</td>\n",
       "      <td>None</td>\n",
       "      <td>None</td>\n",
       "      <td>None</td>\n",
       "      <td>None</td>\n",
       "      <td>None</td>\n",
       "    </tr>\n",
       "    <tr>\n",
       "      <th>3</th>\n",
       "      <td>2019-02-18 19:00:24-05:00</td>\n",
       "      <td>None</td>\n",
       "      <td>1</td>\n",
       "      <td>1</td>\n",
       "      <td>None</td>\n",
       "      <td>None</td>\n",
       "      <td>1</td>\n",
       "      <td>1</td>\n",
       "      <td>None</td>\n",
       "      <td>None</td>\n",
       "      <td>1</td>\n",
       "      <td>1</td>\n",
       "      <td>None</td>\n",
       "      <td>None</td>\n",
       "      <td>1</td>\n",
       "      <td>None</td>\n",
       "      <td>None</td>\n",
       "    </tr>\n",
       "    <tr>\n",
       "      <th>4</th>\n",
       "      <td>2019-02-18 19:00:26-05:00</td>\n",
       "      <td>None</td>\n",
       "      <td>1</td>\n",
       "      <td>1</td>\n",
       "      <td>None</td>\n",
       "      <td>None</td>\n",
       "      <td>1</td>\n",
       "      <td>1</td>\n",
       "      <td>None</td>\n",
       "      <td>None</td>\n",
       "      <td>1</td>\n",
       "      <td>1</td>\n",
       "      <td>None</td>\n",
       "      <td>None</td>\n",
       "      <td>None</td>\n",
       "      <td>None</td>\n",
       "      <td>None</td>\n",
       "    </tr>\n",
       "  </tbody>\n",
       "</table>\n",
       "</div>"
      ],
      "text/plain": [
       "                  timestamp phase_wb_lft phase_eb_str phase_NC1 phase_sb_all  \\\n",
       "0 2019-02-18 19:00:01-05:00         None         None         1         None   \n",
       "1 2019-02-18 19:00:21-05:00         None            1         1         None   \n",
       "2 2019-02-18 19:00:23-05:00         None            1         1         None   \n",
       "3 2019-02-18 19:00:24-05:00         None            1         1         None   \n",
       "4 2019-02-18 19:00:26-05:00         None            1         1         None   \n",
       "\n",
       "  phase_eb_lft phase_wb_str phase_NC2 phase_nb_all loop_wb_lft loop_eb_str  \\\n",
       "0         None         None         1         None        None           1   \n",
       "1         None            1         1         None        None           1   \n",
       "2         None            1         1         None        None           1   \n",
       "3         None            1         1         None        None           1   \n",
       "4         None            1         1         None        None           1   \n",
       "\n",
       "  loop_NC1 loop_sb_all loop_eb_lft loop_wb_str loop_NC2 loop_nb_all  \n",
       "0        1        None           1        None     None        None  \n",
       "1        1        None        None        None     None        None  \n",
       "2        1        None        None        None     None        None  \n",
       "3        1        None        None           1     None        None  \n",
       "4        1        None        None        None     None        None  "
      ]
     },
     "execution_count": 51,
     "metadata": {},
     "output_type": "execute_result"
    }
   ],
   "source": [
    "df_503_plot = df_503.copy()\n",
    "# replace all 0 values with None\n",
    "df_503_plot.iloc[:, 1:] = df_503_plot.iloc[:, 1:].replace(to_replace=[0], value=[None])\n",
    "# convert timestamp to hour:minute:second\n",
    "# df_503_plot.iloc[:, 0] = df_503_plot.iloc[:, 0].apply(lambda x: x.time)\n",
    "df_503_plot.head()"
   ]
  },
  {
   "cell_type": "code",
   "execution_count": 64,
   "metadata": {},
   "outputs": [],
   "source": [
    "x = dates.date2num(df_503_plot.iloc[:200, :]['timestamp'])\n",
    "y = df_503_plot.iloc[:200, :]['phase_eb_str']\n",
    "z = df_503_plot.iloc[:200, :]['loop_eb_str']"
   ]
  },
  {
   "cell_type": "code",
   "execution_count": 67,
   "metadata": {},
   "outputs": [],
   "source": [
    "x = dates.date2num(df_503_plot['timestamp'])\n",
    "y = df_503_plot['phase_eb_str']\n",
    "z = df_503_plot['loop_eb_str']"
   ]
  },
  {
   "cell_type": "code",
   "execution_count": 69,
   "metadata": {},
   "outputs": [],
   "source": [
    "myFmt = DateFormatter(\"%H\")"
   ]
  },
  {
   "cell_type": "code",
   "execution_count": 79,
   "metadata": {
    "scrolled": true
   },
   "outputs": [
    {
     "data": {
      "text/plain": [
       "0        19\n",
       "1        19\n",
       "2        19\n",
       "3        19\n",
       "4        19\n",
       "5        19\n",
       "6        19\n",
       "7        19\n",
       "8        19\n",
       "9        19\n",
       "10       19\n",
       "11       19\n",
       "12       19\n",
       "13       19\n",
       "14       19\n",
       "15       19\n",
       "16       19\n",
       "17       19\n",
       "18       19\n",
       "19       19\n",
       "20       19\n",
       "21       19\n",
       "22       19\n",
       "23       19\n",
       "24       19\n",
       "25       19\n",
       "26       19\n",
       "27       19\n",
       "28       19\n",
       "29       19\n",
       "         ..\n",
       "43615    18\n",
       "43616    18\n",
       "43617    18\n",
       "43618    18\n",
       "43619    18\n",
       "43620    18\n",
       "43621    18\n",
       "43622    18\n",
       "43623    18\n",
       "43624    18\n",
       "43625    18\n",
       "43626    18\n",
       "43627    18\n",
       "43628    18\n",
       "43629    18\n",
       "43630    18\n",
       "43631    18\n",
       "43632    18\n",
       "43633    18\n",
       "43634    18\n",
       "43635    18\n",
       "43636    18\n",
       "43637    18\n",
       "43638    18\n",
       "43639    18\n",
       "43640    18\n",
       "43641    18\n",
       "43642    18\n",
       "43643    18\n",
       "43644    18\n",
       "Name: timestamp, Length: 43645, dtype: int64"
      ]
     },
     "execution_count": 79,
     "metadata": {},
     "output_type": "execute_result"
    }
   ],
   "source": [
    "df_503_plot['timestamp'].apply(lambda x: x.hour)"
   ]
  },
  {
   "cell_type": "code",
   "execution_count": null,
   "metadata": {},
   "outputs": [],
   "source": []
  },
  {
   "cell_type": "code",
   "execution_count": 82,
   "metadata": {},
   "outputs": [],
   "source": [
    "myFmt = DateFormatter(\"%H\")"
   ]
  },
  {
   "cell_type": "code",
   "execution_count": null,
   "metadata": {},
   "outputs": [],
   "source": []
  },
  {
   "cell_type": "code",
   "execution_count": 112,
   "metadata": {},
   "outputs": [],
   "source": [
    "def traff_plot(t_stamp, phase, loop):\n",
    "    ax.scatter(t_stamp, loop)\n",
    "    ax.set_yticks([])\n",
    "    ax.xaxis.set_major_locator(dates.HourLocator())\n",
    "    ax.xaxis.set_major_formatter(myFmt)\n",
    "    ax.set_xlim(min(x), max(x))\n",
    "    ax.set_ylim(0.5, 1.5)\n",
    "    trans = mtransforms.blended_transform_factory(ax.transData, ax.transAxes)\n",
    "    ax.fill_between(t_stamp, 0, 1, where=phase == 1, facecolor='green', alpha=0.5, transform=trans)\n",
    "    return(ax)"
   ]
  },
  {
   "cell_type": "code",
   "execution_count": 115,
   "metadata": {},
   "outputs": [
    {
     "data": {
      "image/png": "[encoded data removed]",
      "text/plain": [
       "<Figure size 1080x144 with 1 Axes>"
      ]
     },
     "metadata": {},
     "output_type": "display_data"
    }
   ],
   "source": [
    "fig, ax = plt.subplots(figsize=(15, 2))\n",
    "traff_plot(x, y, z);"
   ]
  },
  {
   "cell_type": "code",
   "execution_count": null,
   "metadata": {},
   "outputs": [],
   "source": [
    "fig, ax = plt.subplots(figsize=(15, 2))"
   ]
  },
  {
   "cell_type": "code",
   "execution_count": null,
   "metadata": {},
   "outputs": [],
   "source": []
  },
  {
   "cell_type": "code",
   "execution_count": null,
   "metadata": {},
   "outputs": [],
   "source": []
  },
  {
   "cell_type": "code",
   "execution_count": null,
   "metadata": {},
   "outputs": [],
   "source": []
  },
  {
   "cell_type": "code",
   "execution_count": null,
   "metadata": {},
   "outputs": [],
   "source": [
    "fig, ax = plt.subplots(figsize=(15, 2))\n",
    "for i in range(6):\n",
    "    ax[i].scatter()"
   ]
  },
  {
   "cell_type": "code",
   "execution_count": 87,
   "metadata": {},
   "outputs": [
    {
     "data": {
      "image/png": "[encoded data removed]",
      "text/plain": [
       "<Figure size 1080x144 with 1 Axes>"
      ]
     },
     "metadata": {},
     "output_type": "display_data"
    }
   ],
   "source": [
    "fig, ax = plt.subplots(figsize=(15, 2))\n",
    "ax.scatter(x, z)\n",
    "ax.set_ylabel('EB Straight')\n",
    "ax.set_yticks([])\n",
    "ax.set_xlabel('Time')\n",
    "ax.xaxis.set_major_locator(dates.HourLocator())\n",
    "ax.xaxis.set_major_formatter(myFmt)\n",
    "ax.set_xlim(min(x), max(x))\n",
    "ax.set_ylim(0.5, 1.5)\n",
    "trans = mtransforms.blended_transform_factory(ax.transData, ax.transAxes)\n",
    "ax.fill_between(x, 0, 1, where=y == 1, facecolor='green', alpha=0.5, transform=trans);"
   ]
  },
  {
   "cell_type": "code",
   "execution_count": 88,
   "metadata": {},
   "outputs": [],
   "source": [
    "x = dates.date2num(df_503_plot['timestamp'])\n",
    "y = df_503_plot['phase_wb_lft']\n",
    "z = df_503_plot['loop_wb_lft']"
   ]
  },
  {
   "cell_type": "code",
   "execution_count": 89,
   "metadata": {},
   "outputs": [
    {
     "data": {
      "image/png": "[encoded data removed]",
      "text/plain": [
       "<Figure size 1080x144 with 1 Axes>"
      ]
     },
     "metadata": {},
     "output_type": "display_data"
    }
   ],
   "source": [
    "fig, ax = plt.subplots(figsize=(15, 2))\n",
    "ax.scatter(x, z)\n",
    "ax.set_ylabel('WB Left')\n",
    "ax.set_yticks([])\n",
    "ax.set_xlabel('Time')\n",
    "ax.xaxis.set_major_locator(dates.HourLocator())\n",
    "ax.xaxis.set_major_formatter(myFmt)\n",
    "ax.set_xlim(min(x), max(x))\n",
    "ax.set_ylim(0.5, 1.5)\n",
    "trans = mtransforms.blended_transform_factory(ax.transData, ax.transAxes)\n",
    "ax.fill_between(x, 0, 1, where=y == 1, facecolor='green', alpha=0.5, transform=trans);"
   ]
  },
  {
   "cell_type": "code",
   "execution_count": 94,
   "metadata": {},
   "outputs": [],
   "source": [
    "x = dates.date2num(df_503_plot['timestamp'])\n",
    "y = df_503_plot['phase_sb_all']\n",
    "z = df_503_plot['loop_sb_all']"
   ]
  },
  {
   "cell_type": "code",
   "execution_count": 123,
   "metadata": {},
   "outputs": [
    {
     "data": {
      "image/png": "[encoded data removed]",
      "text/plain": [
       "<Figure size 1080x144 with 1 Axes>"
      ]
     },
     "metadata": {},
     "output_type": "display_data"
    }
   ],
   "source": [
    "fig, ax = plt.subplots(figsize=(15, 2))\n",
    "ax.scatter(x, z)\n",
    "ax.set_ylabel('SB All')\n",
    "ax.set_yticks([])\n",
    "ax.set_xlabel('Time')\n",
    "# ax.xaxis.set_major_locator(dates.HourLocator())\n",
    "# ax.xaxis.set_major_formatter(myFmt)\n",
    "ax.set_xticklabels(dates.num2date(x))\n",
    "ax.set_xlim(min(x), max(x))\n",
    "ax.set_ylim(0.5, 1.5)\n",
    "trans = mtransforms.blended_transform_factory(ax.transData, ax.transAxes)\n",
    "ax.fill_between(x, 0, 1, where=y == 1, facecolor='green', alpha=0.5, transform=trans);"
   ]
  },
  {
   "cell_type": "code",
   "execution_count": 135,
   "metadata": {},
   "outputs": [
    {
     "data": {
      "text/plain": [
       "datetime.datetime(2019, 2, 19, 0, 0, 21, tzinfo=<matplotlib.dates._UTC object at 0x7fa053827cf8>)"
      ]
     },
     "execution_count": 135,
     "metadata": {},
     "output_type": "execute_result"
    }
   ],
   "source": [
    "dates.num2date(x)[1]"
   ]
  },
  {
   "cell_type": "code",
   "execution_count": null,
   "metadata": {},
   "outputs": [],
   "source": []
  },
  {
   "cell_type": "code",
   "execution_count": null,
   "metadata": {},
   "outputs": [],
   "source": []
  },
  {
   "cell_type": "code",
   "execution_count": 79,
   "metadata": {},
   "outputs": [
    {
     "data": {
      "text/plain": [
       "<matplotlib.collections.PolyCollection at 0x7f5364949048>"
      ]
     },
     "execution_count": 79,
     "metadata": {},
     "output_type": "execute_result"
    },
    {
     "data": {
      "image/png": "[encoded data removed]",
      "text/plain": [
       "<Figure size 432x288 with 1 Axes>"
      ]
     },
     "metadata": {},
     "output_type": "display_data"
    }
   ],
   "source": [
    "fig, ax = plt.subplots()\n",
    "x = np.arange(1, 10)\n",
    "y = np.arange(5, 14)\n",
    "z = np.array([11, 5, 7, 19, 12, 3, 18, 6, 20])\n",
    "ax.scatter(x, y)\n",
    "trans = mtransforms.blended_transform_factory(ax.transData, ax.transAxes)\n",
    "ax.fill_between(x, 0, 1, where=z > 10, facecolor='green', alpha=0.5, transform=trans)"
   ]
  },
  {
   "cell_type": "code",
   "execution_count": 21,
   "metadata": {},
   "outputs": [],
   "source": [
    "x = dates.date2num(df_502['timestamp'])\n",
    "y = df_502_plot['loop_wb_lft']\n",
    "z = df_502_plot['phase_wb_lft']"
   ]
  },
  {
   "cell_type": "code",
   "execution_count": 24,
   "metadata": {},
   "outputs": [
    {
     "data": {
      "text/plain": [
       "<matplotlib.collections.PolyCollection at 0x7fa04dbe9da0>"
      ]
     },
     "execution_count": 24,
     "metadata": {},
     "output_type": "execute_result"
    },
    {
     "data": {
      "image/png": "[encoded data removed]",
      "text/plain": [
       "<Figure size 432x288 with 1 Axes>"
      ]
     },
     "metadata": {},
     "output_type": "display_data"
    }
   ],
   "source": [
    "fig, ax = plt.subplots()\n",
    "ax.scatter(x, y)\n",
    "ax.scatter(x, z)\n",
    "ax.xaxis.set_major_formatter(myFmt)\n",
    "trans = mtransforms.blended_transform_factory(ax.transData, ax.transAxes)\n",
    "ax.fill_between(x, 0, 1, where=z == 1, facecolor='green', alpha=0.5, transform=trans)"
   ]
  },
  {
   "cell_type": "code",
   "execution_count": 68,
   "metadata": {},
   "outputs": [
    {
     "data": {
      "text/plain": [
       "<matplotlib.collections.PathCollection at 0x7f5364721be0>"
      ]
     },
     "execution_count": 68,
     "metadata": {},
     "output_type": "execute_result"
    },
    {
     "data": {
      "image/png": "[encoded data removed]",
      "text/plain": [
       "<Figure size 432x288 with 1 Axes>"
      ]
     },
     "metadata": {},
     "output_type": "display_data"
    }
   ],
   "source": [
    "plt.scatter(x, z)"
   ]
  },
  {
   "cell_type": "code",
   "execution_count": null,
   "metadata": {},
   "outputs": [],
   "source": []
  },
  {
   "cell_type": "code",
   "execution_count": null,
   "metadata": {},
   "outputs": [],
   "source": []
  },
  {
   "cell_type": "code",
   "execution_count": 23,
   "metadata": {},
   "outputs": [],
   "source": [
    "myFmt = DateFormatter(\"%H\")"
   ]
  },
  {
   "cell_type": "code",
   "execution_count": 79,
   "metadata": {},
   "outputs": [
    {
     "data": {
      "image/png": "[encoded data removed]",
      "text/plain": [
       "<Figure size 720x144 with 1 Axes>"
      ]
     },
     "metadata": {},
     "output_type": "display_data"
    }
   ],
   "source": [
    "fig, ax = plt.subplots(figsize = (10,2))\n",
    "ax.scatter(x, y)\n",
    "ax.xaxis.set_major_formatter(myFmt)\n",
    "ax.set_ylabel('Detected Vehicle')\n",
    "ax.set_yticks([])\n",
    "ax.set_xlabel('Hour');"
   ]
  },
  {
   "cell_type": "code",
   "execution_count": null,
   "metadata": {},
   "outputs": [],
   "source": []
  },
  {
   "cell_type": "code",
   "execution_count": null,
   "metadata": {},
   "outputs": [],
   "source": []
  },
  {
   "cell_type": "code",
   "execution_count": 53,
   "metadata": {},
   "outputs": [],
   "source": []
  },
  {
   "cell_type": "code",
   "execution_count": 50,
   "metadata": {},
   "outputs": [
    {
     "data": {
      "text/plain": [
       "Timestamp('2019-02-18 19:02:23-0500', tz='dateutil//usr/share/zoneinfo/America/New_York')"
      ]
     },
     "execution_count": 50,
     "metadata": {},
     "output_type": "execute_result"
    }
   ],
   "source": [
    "df_502['timestamp'][0]"
   ]
  },
  {
   "cell_type": "code",
   "execution_count": 34,
   "metadata": {},
   "outputs": [],
   "source": [
    "plt_tm = dates.date2num(df_503['timestamp'][:1000])"
   ]
  },
  {
   "cell_type": "code",
   "execution_count": 52,
   "metadata": {},
   "outputs": [
    {
     "data": {
      "text/plain": [
       "<matplotlib.collections.PathCollection at 0x7faff22084a8>"
      ]
     },
     "execution_count": 52,
     "metadata": {},
     "output_type": "execute_result"
    },
    {
     "data": {
      "image/png": "[encoded data removed]",
      "text/plain": [
       "<Figure size 432x288 with 1 Axes>"
      ]
     },
     "metadata": {},
     "output_type": "display_data"
    }
   ],
   "source": [
    "plt.scatter(plt_tm, df_503_plot['phase'][2][:1000])"
   ]
  },
  {
   "cell_type": "code",
   "execution_count": 49,
   "metadata": {},
   "outputs": [
    {
     "data": {
      "text/plain": [
       "array([0, 1, 2])"
      ]
     },
     "execution_count": 49,
     "metadata": {},
     "output_type": "execute_result"
    }
   ],
   "source": [
    "np.arange(3)"
   ]
  },
  {
   "cell_type": "code",
   "execution_count": null,
   "metadata": {},
   "outputs": [],
   "source": []
  },
  {
   "cell_type": "code",
   "execution_count": null,
   "metadata": {},
   "outputs": [],
   "source": []
  },
  {
   "cell_type": "code",
   "execution_count": null,
   "metadata": {},
   "outputs": [],
   "source": []
  },
  {
   "cell_type": "code",
   "execution_count": null,
   "metadata": {},
   "outputs": [],
   "source": []
  },
  {
   "cell_type": "code",
   "execution_count": null,
   "metadata": {},
   "outputs": [],
   "source": []
  },
  {
   "cell_type": "code",
   "execution_count": null,
   "metadata": {},
   "outputs": [],
   "source": []
  },
  {
   "cell_type": "code",
   "execution_count": null,
   "metadata": {},
   "outputs": [],
   "source": []
  },
  {
   "cell_type": "code",
   "execution_count": null,
   "metadata": {},
   "outputs": [],
   "source": []
  },
  {
   "cell_type": "code",
   "execution_count": null,
   "metadata": {},
   "outputs": [],
   "source": []
  },
  {
   "cell_type": "code",
   "execution_count": null,
   "metadata": {},
   "outputs": [],
   "source": []
  },
  {
   "cell_type": "code",
   "execution_count": null,
   "metadata": {},
   "outputs": [],
   "source": []
  },
  {
   "cell_type": "code",
   "execution_count": null,
   "metadata": {},
   "outputs": [],
   "source": []
  }
 ],
 "metadata": {
  "kernelspec": {
   "display_name": "Python 3",
   "language": "python",
   "name": "python3"
  },
  "language_info": {
   "codemirror_mode": {
    "name": "ipython",
    "version": 3
   },
   "file_extension": ".py",
   "mimetype": "text/x-python",
   "name": "python",
   "nbconvert_exporter": "python",
   "pygments_lexer": "ipython3",
   "version": "3.6.5"
  }
 },
 "nbformat": 4,
 "nbformat_minor": 2
}
