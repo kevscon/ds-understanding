{
 "cells": [
  {
   "cell_type": "markdown",
   "metadata": {},
   "source": [
    "# Imports"
   ]
  },
  {
   "cell_type": "code",
   "execution_count": 1,
   "metadata": {},
   "outputs": [],
   "source": [
    "import numpy as np\n",
    "import pandas as pd\n",
    "from datetime import datetime\n",
    "from dateutil import tz\n",
    "import matplotlib.pyplot as plt\n",
    "import matplotlib.dates as dates\n",
    "from matplotlib.dates import DateFormatter\n",
    "import matplotlib.transforms as mtransforms"
   ]
  },
  {
   "cell_type": "markdown",
   "metadata": {},
   "source": [
    "# Plot Settings"
   ]
  },
  {
   "cell_type": "code",
   "execution_count": 18,
   "metadata": {},
   "outputs": [],
   "source": [
    "# format style\n",
    "plt.style.use('fivethirtyeight')\n",
    "# lineweight\n",
    "plt.rc('lines', linewidth=3)\n",
    "# figure size\n",
    "plt.rc('figure', figsize=(12, 7))\n",
    "# title fontsize\n",
    "plt.rc('axes', titlesize=33) \n",
    "# axes label fontsize\n",
    "plt.rc('axes', labelsize=28)\n",
    "# axes values fontsize\n",
    "plt.rc('xtick', labelsize=18)\n",
    "plt.rc('ytick', labelsize=18)\n",
    "# legend fontsize\n",
    "plt.rc('legend', fontsize=18)"
   ]
  },
  {
   "cell_type": "markdown",
   "metadata": {},
   "source": [
    "# Data"
   ]
  },
  {
   "cell_type": "code",
   "execution_count": 2,
   "metadata": {},
   "outputs": [],
   "source": [
    "df_502_raw = pd.read_csv('502-data-2019-02-19.csv', header=None)\n",
    "df_503_raw = pd.read_csv('503-data-2019-02-19.csv', header=None)"
   ]
  },
  {
   "cell_type": "code",
   "execution_count": 3,
   "metadata": {},
   "outputs": [
    {
     "data": {
      "text/html": [
       "<div>\n",
       "<style scoped>\n",
       "    .dataframe tbody tr th:only-of-type {\n",
       "        vertical-align: middle;\n",
       "    }\n",
       "\n",
       "    .dataframe tbody tr th {\n",
       "        vertical-align: top;\n",
       "    }\n",
       "\n",
       "    .dataframe thead th {\n",
       "        text-align: right;\n",
       "    }\n",
       "</style>\n",
       "<table border=\"1\" class=\"dataframe\">\n",
       "  <thead>\n",
       "    <tr style=\"text-align: right;\">\n",
       "      <th></th>\n",
       "      <th>0</th>\n",
       "      <th>1</th>\n",
       "      <th>2</th>\n",
       "    </tr>\n",
       "  </thead>\n",
       "  <tbody>\n",
       "    <tr>\n",
       "      <th>0</th>\n",
       "      <td>502</td>\n",
       "      <td>Tue Feb 19 2019 00:02:23 GMT+0000 (UTC)</td>\n",
       "      <td>Detection Box (00100010 10111010 00100010 1111...</td>\n",
       "    </tr>\n",
       "    <tr>\n",
       "      <th>1</th>\n",
       "      <td>502</td>\n",
       "      <td>Tue Feb 19 2019 00:02:25 GMT+0000 (UTC)</td>\n",
       "      <td>Detection Box (00100010 10111010 00100010 1111...</td>\n",
       "    </tr>\n",
       "    <tr>\n",
       "      <th>2</th>\n",
       "      <td>502</td>\n",
       "      <td>Tue Feb 19 2019 00:17:12 GMT+0000 (UTC)</td>\n",
       "      <td>Detection Box (00100010 10111010 00100010 1111...</td>\n",
       "    </tr>\n",
       "    <tr>\n",
       "      <th>3</th>\n",
       "      <td>502</td>\n",
       "      <td>Tue Feb 19 2019 00:17:14 GMT+0000 (UTC)</td>\n",
       "      <td>Detection Box (00100010 10111010 00100010 1111...</td>\n",
       "    </tr>\n",
       "    <tr>\n",
       "      <th>4</th>\n",
       "      <td>502</td>\n",
       "      <td>Tue Feb 19 2019 00:17:16 GMT+0000 (UTC)</td>\n",
       "      <td>Detection Box (00100010 10111010 00100010 1111...</td>\n",
       "    </tr>\n",
       "  </tbody>\n",
       "</table>\n",
       "</div>"
      ],
      "text/plain": [
       "     0                                        1  \\\n",
       "0  502  Tue Feb 19 2019 00:02:23 GMT+0000 (UTC)   \n",
       "1  502  Tue Feb 19 2019 00:02:25 GMT+0000 (UTC)   \n",
       "2  502  Tue Feb 19 2019 00:17:12 GMT+0000 (UTC)   \n",
       "3  502  Tue Feb 19 2019 00:17:14 GMT+0000 (UTC)   \n",
       "4  502  Tue Feb 19 2019 00:17:16 GMT+0000 (UTC)   \n",
       "\n",
       "                                                   2  \n",
       "0  Detection Box (00100010 10111010 00100010 1111...  \n",
       "1  Detection Box (00100010 10111010 00100010 1111...  \n",
       "2  Detection Box (00100010 10111010 00100010 1111...  \n",
       "3  Detection Box (00100010 10111010 00100010 1111...  \n",
       "4  Detection Box (00100010 10111010 00100010 1111...  "
      ]
     },
     "execution_count": 3,
     "metadata": {},
     "output_type": "execute_result"
    }
   ],
   "source": [
    "df_502_raw.head()"
   ]
  },
  {
   "cell_type": "code",
   "execution_count": 4,
   "metadata": {},
   "outputs": [
    {
     "data": {
      "text/html": [
       "<div>\n",
       "<style scoped>\n",
       "    .dataframe tbody tr th:only-of-type {\n",
       "        vertical-align: middle;\n",
       "    }\n",
       "\n",
       "    .dataframe tbody tr th {\n",
       "        vertical-align: top;\n",
       "    }\n",
       "\n",
       "    .dataframe thead th {\n",
       "        text-align: right;\n",
       "    }\n",
       "</style>\n",
       "<table border=\"1\" class=\"dataframe\">\n",
       "  <thead>\n",
       "    <tr style=\"text-align: right;\">\n",
       "      <th></th>\n",
       "      <th>0</th>\n",
       "      <th>1</th>\n",
       "      <th>2</th>\n",
       "    </tr>\n",
       "  </thead>\n",
       "  <tbody>\n",
       "    <tr>\n",
       "      <th>0</th>\n",
       "      <td>503</td>\n",
       "      <td>Tue Feb 19 2019 00:00:01 GMT+0000 (UTC)</td>\n",
       "      <td>Detection Box (00100010 01101000)</td>\n",
       "    </tr>\n",
       "    <tr>\n",
       "      <th>1</th>\n",
       "      <td>503</td>\n",
       "      <td>Tue Feb 19 2019 00:00:21 GMT+0000 (UTC)</td>\n",
       "      <td>Detection Box (01100110 01100000)</td>\n",
       "    </tr>\n",
       "    <tr>\n",
       "      <th>2</th>\n",
       "      <td>503</td>\n",
       "      <td>Tue Feb 19 2019 00:00:23 GMT+0000 (UTC)</td>\n",
       "      <td>Detection Box (01100110 01100000)</td>\n",
       "    </tr>\n",
       "    <tr>\n",
       "      <th>3</th>\n",
       "      <td>503</td>\n",
       "      <td>Tue Feb 19 2019 00:00:24 GMT+0000 (UTC)</td>\n",
       "      <td>Detection Box (01100110 01100100)</td>\n",
       "    </tr>\n",
       "    <tr>\n",
       "      <th>4</th>\n",
       "      <td>503</td>\n",
       "      <td>Tue Feb 19 2019 00:00:26 GMT+0000 (UTC)</td>\n",
       "      <td>Detection Box (01100110 01100000)</td>\n",
       "    </tr>\n",
       "  </tbody>\n",
       "</table>\n",
       "</div>"
      ],
      "text/plain": [
       "     0                                        1  \\\n",
       "0  503  Tue Feb 19 2019 00:00:01 GMT+0000 (UTC)   \n",
       "1  503  Tue Feb 19 2019 00:00:21 GMT+0000 (UTC)   \n",
       "2  503  Tue Feb 19 2019 00:00:23 GMT+0000 (UTC)   \n",
       "3  503  Tue Feb 19 2019 00:00:24 GMT+0000 (UTC)   \n",
       "4  503  Tue Feb 19 2019 00:00:26 GMT+0000 (UTC)   \n",
       "\n",
       "                                   2  \n",
       "0  Detection Box (00100010 01101000)  \n",
       "1  Detection Box (01100110 01100000)  \n",
       "2  Detection Box (01100110 01100000)  \n",
       "3  Detection Box (01100110 01100100)  \n",
       "4  Detection Box (01100110 01100000)  "
      ]
     },
     "execution_count": 4,
     "metadata": {},
     "output_type": "execute_result"
    }
   ],
   "source": [
    "df_503_raw.head()"
   ]
  },
  {
   "cell_type": "markdown",
   "metadata": {},
   "source": [
    "# Format and Parse Data"
   ]
  },
  {
   "cell_type": "code",
   "execution_count": 5,
   "metadata": {},
   "outputs": [],
   "source": [
    "# format of timestamps\n",
    "t_format = '%b %d %Y %H:%M:%S'\n",
    "from_zone = tz.gettz('UTC')\n",
    "to_zone = tz.gettz('America/New_York')"
   ]
  },
  {
   "cell_type": "code",
   "execution_count": 6,
   "metadata": {},
   "outputs": [],
   "source": [
    "# function to reformat timestamps\n",
    "def t_rfmt(timestamp):\n",
    "    # read as datetime object\n",
    "    tm = datetime.strptime(timestamp, t_format)\n",
    "    # return datetime converted to local timezone\n",
    "    return(tm.replace(tzinfo=from_zone).astimezone(to_zone))"
   ]
  },
  {
   "cell_type": "code",
   "execution_count": 7,
   "metadata": {},
   "outputs": [],
   "source": [
    "# function to parse input by each wire\n",
    "def wires(reading):\n",
    "    wire_list = []\n",
    "    for group in reading.split():\n",
    "        wire_list.extend(list(group))\n",
    "    return(wire_list)"
   ]
  },
  {
   "cell_type": "code",
   "execution_count": 8,
   "metadata": {},
   "outputs": [],
   "source": [
    "# create map of sensor no. and direction\n",
    "dict_502 = {\n",
    "    1: 'phase_wb_lft', \n",
    "    2: 'phase_eb_str', \n",
    "    3: 'phase_NC1',\n",
    "    4: 'phase_sb_all', \n",
    "    5: 'phase_eb_lft', \n",
    "    6: 'phase_wb_str',\n",
    "    7: 'phase_NC2',\n",
    "    8: 'phase_nb_all',\n",
    "    9: 'ped_NC1',\n",
    "    10: 'ped_eb',\n",
    "    11: 'ped_NC2',\n",
    "    12: 'ped_NC3',\n",
    "    13: 'ped_NC4',\n",
    "    14: 'ped_wb',\n",
    "    15: 'ped_NC5',\n",
    "    16: 'ped_nb',\n",
    "    17: 'loop_wb_lft', \n",
    "    18: 'loop_eb_str',\n",
    "    19: 'loop_NC1',\n",
    "    20: 'loop_sb_all', \n",
    "    21: 'loop_eb_lft', \n",
    "    22: 'loop_wb_str',\n",
    "    23: 'loop_NC2',\n",
    "    24: 'loop_nb_all',\n",
    "    25: 'button_NC1',\n",
    "    26: 'button_NC2',\n",
    "    27: 'button_NC3',\n",
    "    28: 'button_NC4',\n",
    "    29: 'button_NC5',\n",
    "    30: 'button_NC6',\n",
    "    31: 'button_NC7',\n",
    "    32: 'button_NC8'\n",
    "}"
   ]
  },
  {
   "cell_type": "code",
   "execution_count": 9,
   "metadata": {},
   "outputs": [
    {
     "data": {
      "text/html": [
       "<div>\n",
       "<style scoped>\n",
       "    .dataframe tbody tr th:only-of-type {\n",
       "        vertical-align: middle;\n",
       "    }\n",
       "\n",
       "    .dataframe tbody tr th {\n",
       "        vertical-align: top;\n",
       "    }\n",
       "\n",
       "    .dataframe thead th {\n",
       "        text-align: right;\n",
       "    }\n",
       "</style>\n",
       "<table border=\"1\" class=\"dataframe\">\n",
       "  <thead>\n",
       "    <tr style=\"text-align: right;\">\n",
       "      <th></th>\n",
       "      <th>timestamp</th>\n",
       "      <th>phase_wb_lft</th>\n",
       "      <th>phase_eb_str</th>\n",
       "      <th>phase_NC1</th>\n",
       "      <th>phase_sb_all</th>\n",
       "      <th>phase_eb_lft</th>\n",
       "      <th>phase_wb_str</th>\n",
       "      <th>phase_NC2</th>\n",
       "      <th>phase_nb_all</th>\n",
       "      <th>ped_NC1</th>\n",
       "      <th>...</th>\n",
       "      <th>loop_NC2</th>\n",
       "      <th>loop_nb_all</th>\n",
       "      <th>button_NC1</th>\n",
       "      <th>button_NC2</th>\n",
       "      <th>button_NC3</th>\n",
       "      <th>button_NC4</th>\n",
       "      <th>button_NC5</th>\n",
       "      <th>button_NC6</th>\n",
       "      <th>button_NC7</th>\n",
       "      <th>button_NC8</th>\n",
       "    </tr>\n",
       "  </thead>\n",
       "  <tbody>\n",
       "    <tr>\n",
       "      <th>6183</th>\n",
       "      <td>2019-02-18 19:00:21-05:00</td>\n",
       "      <td>0</td>\n",
       "      <td>1</td>\n",
       "      <td>1</td>\n",
       "      <td>0</td>\n",
       "      <td>0</td>\n",
       "      <td>1</td>\n",
       "      <td>1</td>\n",
       "      <td>0</td>\n",
       "      <td>1</td>\n",
       "      <td>...</td>\n",
       "      <td>1</td>\n",
       "      <td>0</td>\n",
       "      <td>1</td>\n",
       "      <td>1</td>\n",
       "      <td>1</td>\n",
       "      <td>1</td>\n",
       "      <td>1</td>\n",
       "      <td>1</td>\n",
       "      <td>1</td>\n",
       "      <td>1</td>\n",
       "    </tr>\n",
       "    <tr>\n",
       "      <th>6184</th>\n",
       "      <td>2019-02-18 19:00:23-05:00</td>\n",
       "      <td>0</td>\n",
       "      <td>1</td>\n",
       "      <td>1</td>\n",
       "      <td>0</td>\n",
       "      <td>0</td>\n",
       "      <td>1</td>\n",
       "      <td>1</td>\n",
       "      <td>0</td>\n",
       "      <td>1</td>\n",
       "      <td>...</td>\n",
       "      <td>1</td>\n",
       "      <td>0</td>\n",
       "      <td>1</td>\n",
       "      <td>1</td>\n",
       "      <td>1</td>\n",
       "      <td>1</td>\n",
       "      <td>1</td>\n",
       "      <td>1</td>\n",
       "      <td>1</td>\n",
       "      <td>1</td>\n",
       "    </tr>\n",
       "    <tr>\n",
       "      <th>25335</th>\n",
       "      <td>2019-02-18 19:00:24-05:00</td>\n",
       "      <td>0</td>\n",
       "      <td>1</td>\n",
       "      <td>1</td>\n",
       "      <td>0</td>\n",
       "      <td>0</td>\n",
       "      <td>1</td>\n",
       "      <td>1</td>\n",
       "      <td>0</td>\n",
       "      <td>1</td>\n",
       "      <td>...</td>\n",
       "      <td>1</td>\n",
       "      <td>0</td>\n",
       "      <td>1</td>\n",
       "      <td>1</td>\n",
       "      <td>1</td>\n",
       "      <td>1</td>\n",
       "      <td>1</td>\n",
       "      <td>1</td>\n",
       "      <td>1</td>\n",
       "      <td>1</td>\n",
       "    </tr>\n",
       "    <tr>\n",
       "      <th>6185</th>\n",
       "      <td>2019-02-18 19:00:26-05:00</td>\n",
       "      <td>0</td>\n",
       "      <td>1</td>\n",
       "      <td>1</td>\n",
       "      <td>0</td>\n",
       "      <td>0</td>\n",
       "      <td>1</td>\n",
       "      <td>1</td>\n",
       "      <td>0</td>\n",
       "      <td>1</td>\n",
       "      <td>...</td>\n",
       "      <td>1</td>\n",
       "      <td>0</td>\n",
       "      <td>1</td>\n",
       "      <td>1</td>\n",
       "      <td>1</td>\n",
       "      <td>1</td>\n",
       "      <td>1</td>\n",
       "      <td>1</td>\n",
       "      <td>1</td>\n",
       "      <td>1</td>\n",
       "    </tr>\n",
       "    <tr>\n",
       "      <th>25336</th>\n",
       "      <td>2019-02-18 19:00:28-05:00</td>\n",
       "      <td>0</td>\n",
       "      <td>1</td>\n",
       "      <td>1</td>\n",
       "      <td>0</td>\n",
       "      <td>0</td>\n",
       "      <td>1</td>\n",
       "      <td>1</td>\n",
       "      <td>0</td>\n",
       "      <td>1</td>\n",
       "      <td>...</td>\n",
       "      <td>1</td>\n",
       "      <td>0</td>\n",
       "      <td>1</td>\n",
       "      <td>1</td>\n",
       "      <td>1</td>\n",
       "      <td>1</td>\n",
       "      <td>1</td>\n",
       "      <td>1</td>\n",
       "      <td>1</td>\n",
       "      <td>1</td>\n",
       "    </tr>\n",
       "  </tbody>\n",
       "</table>\n",
       "<p>5 rows × 33 columns</p>\n",
       "</div>"
      ],
      "text/plain": [
       "                      timestamp  phase_wb_lft  phase_eb_str  phase_NC1  \\\n",
       "6183  2019-02-18 19:00:21-05:00             0             1          1   \n",
       "6184  2019-02-18 19:00:23-05:00             0             1          1   \n",
       "25335 2019-02-18 19:00:24-05:00             0             1          1   \n",
       "6185  2019-02-18 19:00:26-05:00             0             1          1   \n",
       "25336 2019-02-18 19:00:28-05:00             0             1          1   \n",
       "\n",
       "       phase_sb_all  phase_eb_lft  phase_wb_str  phase_NC2  phase_nb_all  \\\n",
       "6183              0             0             1          1             0   \n",
       "6184              0             0             1          1             0   \n",
       "25335             0             0             1          1             0   \n",
       "6185              0             0             1          1             0   \n",
       "25336             0             0             1          1             0   \n",
       "\n",
       "       ped_NC1     ...      loop_NC2  loop_nb_all  button_NC1  button_NC2  \\\n",
       "6183         1     ...             1            0           1           1   \n",
       "6184         1     ...             1            0           1           1   \n",
       "25335        1     ...             1            0           1           1   \n",
       "6185         1     ...             1            0           1           1   \n",
       "25336        1     ...             1            0           1           1   \n",
       "\n",
       "       button_NC3  button_NC4  button_NC5  button_NC6  button_NC7  button_NC8  \n",
       "6183            1           1           1           1           1           1  \n",
       "6184            1           1           1           1           1           1  \n",
       "25335           1           1           1           1           1           1  \n",
       "6185            1           1           1           1           1           1  \n",
       "25336           1           1           1           1           1           1  \n",
       "\n",
       "[5 rows x 33 columns]"
      ]
     },
     "execution_count": 9,
     "metadata": {},
     "output_type": "execute_result"
    }
   ],
   "source": [
    "# input sensor data as individual columns\n",
    "df_502 = pd.DataFrame(list(df_502_raw.loc[:, 2].apply(lambda x: wires(x[15:-1]))), columns=list(range(1, 33)))\n",
    "# rename columns based on dictionary\n",
    "df_502.columns = [dict_502[x] for x in df_502.columns]\n",
    "# convert data type to integers\n",
    "df_502 = df_502.astype(int)\n",
    "# insert column for timestamp\n",
    "df_502.insert(0, 'timestamp', df_502_raw.loc[:, 1].apply(lambda x: t_rfmt(x[4:-15])))\n",
    "# sort observations by timestamp\n",
    "df_502.sort_values(by='timestamp', inplace=True)\n",
    "df_502.head()"
   ]
  },
  {
   "cell_type": "code",
   "execution_count": 10,
   "metadata": {},
   "outputs": [],
   "source": [
    "# create map of sensor no. and direction\n",
    "dict_503 = {\n",
    "    1: 'phase_wb_lft', \n",
    "    2: 'phase_eb_str', \n",
    "    3: 'phase_NC1',\n",
    "    4: 'phase_sb_all', \n",
    "    5: 'phase_eb_lft', \n",
    "    6: 'phase_wb_str',\n",
    "    7: 'phase_NC2',\n",
    "    8: 'phase_nb_all',\n",
    "    9: 'loop_wb_lft', \n",
    "    10: 'loop_eb_str',\n",
    "    11: 'loop_NC1',\n",
    "    12: 'loop_sb_all', \n",
    "    13: 'loop_eb_lft', \n",
    "    14: 'loop_wb_str',\n",
    "    15: 'loop_NC2',\n",
    "    16: 'loop_nb_all'\n",
    "}"
   ]
  },
  {
   "cell_type": "code",
   "execution_count": 11,
   "metadata": {},
   "outputs": [
    {
     "data": {
      "text/html": [
       "<div>\n",
       "<style scoped>\n",
       "    .dataframe tbody tr th:only-of-type {\n",
       "        vertical-align: middle;\n",
       "    }\n",
       "\n",
       "    .dataframe tbody tr th {\n",
       "        vertical-align: top;\n",
       "    }\n",
       "\n",
       "    .dataframe thead th {\n",
       "        text-align: right;\n",
       "    }\n",
       "</style>\n",
       "<table border=\"1\" class=\"dataframe\">\n",
       "  <thead>\n",
       "    <tr style=\"text-align: right;\">\n",
       "      <th></th>\n",
       "      <th>timestamp</th>\n",
       "      <th>phase_wb_lft</th>\n",
       "      <th>phase_eb_str</th>\n",
       "      <th>phase_NC1</th>\n",
       "      <th>phase_sb_all</th>\n",
       "      <th>phase_eb_lft</th>\n",
       "      <th>phase_wb_str</th>\n",
       "      <th>phase_NC2</th>\n",
       "      <th>phase_nb_all</th>\n",
       "      <th>loop_wb_lft</th>\n",
       "      <th>loop_eb_str</th>\n",
       "      <th>loop_NC1</th>\n",
       "      <th>loop_sb_all</th>\n",
       "      <th>loop_eb_lft</th>\n",
       "      <th>loop_wb_str</th>\n",
       "      <th>loop_NC2</th>\n",
       "      <th>loop_nb_all</th>\n",
       "    </tr>\n",
       "  </thead>\n",
       "  <tbody>\n",
       "    <tr>\n",
       "      <th>0</th>\n",
       "      <td>2019-02-18 19:00:01-05:00</td>\n",
       "      <td>0</td>\n",
       "      <td>0</td>\n",
       "      <td>1</td>\n",
       "      <td>0</td>\n",
       "      <td>0</td>\n",
       "      <td>0</td>\n",
       "      <td>1</td>\n",
       "      <td>0</td>\n",
       "      <td>0</td>\n",
       "      <td>1</td>\n",
       "      <td>1</td>\n",
       "      <td>0</td>\n",
       "      <td>1</td>\n",
       "      <td>0</td>\n",
       "      <td>0</td>\n",
       "      <td>0</td>\n",
       "    </tr>\n",
       "    <tr>\n",
       "      <th>1</th>\n",
       "      <td>2019-02-18 19:00:21-05:00</td>\n",
       "      <td>0</td>\n",
       "      <td>1</td>\n",
       "      <td>1</td>\n",
       "      <td>0</td>\n",
       "      <td>0</td>\n",
       "      <td>1</td>\n",
       "      <td>1</td>\n",
       "      <td>0</td>\n",
       "      <td>0</td>\n",
       "      <td>1</td>\n",
       "      <td>1</td>\n",
       "      <td>0</td>\n",
       "      <td>0</td>\n",
       "      <td>0</td>\n",
       "      <td>0</td>\n",
       "      <td>0</td>\n",
       "    </tr>\n",
       "    <tr>\n",
       "      <th>2</th>\n",
       "      <td>2019-02-18 19:00:23-05:00</td>\n",
       "      <td>0</td>\n",
       "      <td>1</td>\n",
       "      <td>1</td>\n",
       "      <td>0</td>\n",
       "      <td>0</td>\n",
       "      <td>1</td>\n",
       "      <td>1</td>\n",
       "      <td>0</td>\n",
       "      <td>0</td>\n",
       "      <td>1</td>\n",
       "      <td>1</td>\n",
       "      <td>0</td>\n",
       "      <td>0</td>\n",
       "      <td>0</td>\n",
       "      <td>0</td>\n",
       "      <td>0</td>\n",
       "    </tr>\n",
       "    <tr>\n",
       "      <th>3</th>\n",
       "      <td>2019-02-18 19:00:24-05:00</td>\n",
       "      <td>0</td>\n",
       "      <td>1</td>\n",
       "      <td>1</td>\n",
       "      <td>0</td>\n",
       "      <td>0</td>\n",
       "      <td>1</td>\n",
       "      <td>1</td>\n",
       "      <td>0</td>\n",
       "      <td>0</td>\n",
       "      <td>1</td>\n",
       "      <td>1</td>\n",
       "      <td>0</td>\n",
       "      <td>0</td>\n",
       "      <td>1</td>\n",
       "      <td>0</td>\n",
       "      <td>0</td>\n",
       "    </tr>\n",
       "    <tr>\n",
       "      <th>4</th>\n",
       "      <td>2019-02-18 19:00:26-05:00</td>\n",
       "      <td>0</td>\n",
       "      <td>1</td>\n",
       "      <td>1</td>\n",
       "      <td>0</td>\n",
       "      <td>0</td>\n",
       "      <td>1</td>\n",
       "      <td>1</td>\n",
       "      <td>0</td>\n",
       "      <td>0</td>\n",
       "      <td>1</td>\n",
       "      <td>1</td>\n",
       "      <td>0</td>\n",
       "      <td>0</td>\n",
       "      <td>0</td>\n",
       "      <td>0</td>\n",
       "      <td>0</td>\n",
       "    </tr>\n",
       "  </tbody>\n",
       "</table>\n",
       "</div>"
      ],
      "text/plain": [
       "                  timestamp  phase_wb_lft  phase_eb_str  phase_NC1  \\\n",
       "0 2019-02-18 19:00:01-05:00             0             0          1   \n",
       "1 2019-02-18 19:00:21-05:00             0             1          1   \n",
       "2 2019-02-18 19:00:23-05:00             0             1          1   \n",
       "3 2019-02-18 19:00:24-05:00             0             1          1   \n",
       "4 2019-02-18 19:00:26-05:00             0             1          1   \n",
       "\n",
       "   phase_sb_all  phase_eb_lft  phase_wb_str  phase_NC2  phase_nb_all  \\\n",
       "0             0             0             0          1             0   \n",
       "1             0             0             1          1             0   \n",
       "2             0             0             1          1             0   \n",
       "3             0             0             1          1             0   \n",
       "4             0             0             1          1             0   \n",
       "\n",
       "   loop_wb_lft  loop_eb_str  loop_NC1  loop_sb_all  loop_eb_lft  loop_wb_str  \\\n",
       "0            0            1         1            0            1            0   \n",
       "1            0            1         1            0            0            0   \n",
       "2            0            1         1            0            0            0   \n",
       "3            0            1         1            0            0            1   \n",
       "4            0            1         1            0            0            0   \n",
       "\n",
       "   loop_NC2  loop_nb_all  \n",
       "0         0            0  \n",
       "1         0            0  \n",
       "2         0            0  \n",
       "3         0            0  \n",
       "4         0            0  "
      ]
     },
     "execution_count": 11,
     "metadata": {},
     "output_type": "execute_result"
    }
   ],
   "source": [
    "# input sensor data as individual columns\n",
    "df_503 = pd.DataFrame(list(df_503_raw.loc[:, 2].apply(lambda x: wires(x[15:-1]))), columns=list(range(1, 17)))\n",
    "# rename columns based on dictionary\n",
    "df_503.columns = [dict_503[x] for x in df_503.columns]\n",
    "# convert data type to integers\n",
    "df_503 = df_503.astype(int)\n",
    "# insert column for timestamp\n",
    "df_503.insert(0, 'timestamp', df_503_raw.loc[:, 1].apply(lambda x: t_rfmt(x[4:-15])))\n",
    "# sort observations by timestamp\n",
    "df_503.sort_values(by='timestamp', inplace=True)\n",
    "df_503.head()"
   ]
  },
  {
   "cell_type": "markdown",
   "metadata": {},
   "source": [
    "# No Count Columns"
   ]
  },
  {
   "cell_type": "code",
   "execution_count": 12,
   "metadata": {},
   "outputs": [
    {
     "name": "stdout",
     "output_type": "stream",
     "text": [
      "phase_wb_lft :  [0 1]\n",
      "phase_eb_str :  [1 0]\n",
      "phase_NC1 :  [1]\n",
      "phase_sb_all :  [0 1]\n",
      "phase_eb_lft :  [0 1]\n",
      "phase_wb_str :  [1 0]\n",
      "phase_NC2 :  [1]\n",
      "phase_nb_all :  [0 1]\n",
      "ped_NC1 :  [1]\n",
      "ped_eb :  [0 1]\n",
      "ped_NC2 :  [1]\n",
      "ped_NC3 :  [1]\n",
      "ped_NC4 :  [1]\n",
      "ped_wb :  [0 1]\n",
      "ped_NC5 :  [1]\n",
      "ped_nb :  [0 1]\n",
      "loop_wb_lft :  [0 1]\n",
      "loop_eb_str :  [0]\n",
      "loop_NC1 :  [1]\n",
      "loop_sb_all :  [0 1]\n",
      "loop_eb_lft :  [0 1]\n",
      "loop_wb_str :  [0 1]\n",
      "loop_NC2 :  [1]\n",
      "loop_nb_all :  [0 1]\n",
      "button_NC1 :  [1]\n",
      "button_NC2 :  [1]\n",
      "button_NC3 :  [1]\n",
      "button_NC4 :  [1]\n",
      "button_NC5 :  [1]\n",
      "button_NC6 :  [1]\n",
      "button_NC7 :  [1]\n",
      "button_NC8 :  [1]\n"
     ]
    }
   ],
   "source": [
    "# check for no count columns\n",
    "for column in df_502.columns[1:]:\n",
    "    print(column, ': ', df_502[column].unique())"
   ]
  },
  {
   "cell_type": "code",
   "execution_count": 13,
   "metadata": {},
   "outputs": [
    {
     "name": "stdout",
     "output_type": "stream",
     "text": [
      "phase_wb_lft :  [0 1]\n",
      "phase_eb_str :  [0 1]\n",
      "phase_NC1 :  [1]\n",
      "phase_sb_all :  [0 1]\n",
      "phase_eb_lft :  [0 1]\n",
      "phase_wb_str :  [0 1]\n",
      "phase_NC2 :  [1]\n",
      "phase_nb_all :  [0 1]\n",
      "loop_wb_lft :  [0 1]\n",
      "loop_eb_str :  [1 0]\n",
      "loop_NC1 :  [1]\n",
      "loop_sb_all :  [0 1]\n",
      "loop_eb_lft :  [1 0]\n",
      "loop_wb_str :  [0 1]\n",
      "loop_NC2 :  [0 1]\n",
      "loop_nb_all :  [0 1]\n"
     ]
    }
   ],
   "source": [
    "# check for no count columns\n",
    "for column in df_503.columns[1:]:\n",
    "    print(column, ': ', df_503[column].unique())"
   ]
  },
  {
   "cell_type": "markdown",
   "metadata": {},
   "source": [
    "# 502 Plots"
   ]
  },
  {
   "cell_type": "code",
   "execution_count": 14,
   "metadata": {},
   "outputs": [
    {
     "data": {
      "text/html": [
       "<div>\n",
       "<style scoped>\n",
       "    .dataframe tbody tr th:only-of-type {\n",
       "        vertical-align: middle;\n",
       "    }\n",
       "\n",
       "    .dataframe tbody tr th {\n",
       "        vertical-align: top;\n",
       "    }\n",
       "\n",
       "    .dataframe thead th {\n",
       "        text-align: right;\n",
       "    }\n",
       "</style>\n",
       "<table border=\"1\" class=\"dataframe\">\n",
       "  <thead>\n",
       "    <tr style=\"text-align: right;\">\n",
       "      <th></th>\n",
       "      <th>timestamp</th>\n",
       "      <th>phase_wb_lft</th>\n",
       "      <th>phase_eb_str</th>\n",
       "      <th>phase_NC1</th>\n",
       "      <th>phase_sb_all</th>\n",
       "      <th>phase_eb_lft</th>\n",
       "      <th>phase_wb_str</th>\n",
       "      <th>phase_NC2</th>\n",
       "      <th>phase_nb_all</th>\n",
       "      <th>ped_NC1</th>\n",
       "      <th>...</th>\n",
       "      <th>loop_NC2</th>\n",
       "      <th>loop_nb_all</th>\n",
       "      <th>button_NC1</th>\n",
       "      <th>button_NC2</th>\n",
       "      <th>button_NC3</th>\n",
       "      <th>button_NC4</th>\n",
       "      <th>button_NC5</th>\n",
       "      <th>button_NC6</th>\n",
       "      <th>button_NC7</th>\n",
       "      <th>button_NC8</th>\n",
       "    </tr>\n",
       "  </thead>\n",
       "  <tbody>\n",
       "    <tr>\n",
       "      <th>6183</th>\n",
       "      <td>2019-02-18 19:00:21-05:00</td>\n",
       "      <td>None</td>\n",
       "      <td>1</td>\n",
       "      <td>1</td>\n",
       "      <td>None</td>\n",
       "      <td>None</td>\n",
       "      <td>1</td>\n",
       "      <td>1</td>\n",
       "      <td>None</td>\n",
       "      <td>1</td>\n",
       "      <td>...</td>\n",
       "      <td>1</td>\n",
       "      <td>None</td>\n",
       "      <td>1</td>\n",
       "      <td>1</td>\n",
       "      <td>1</td>\n",
       "      <td>1</td>\n",
       "      <td>1</td>\n",
       "      <td>1</td>\n",
       "      <td>1</td>\n",
       "      <td>1</td>\n",
       "    </tr>\n",
       "    <tr>\n",
       "      <th>6184</th>\n",
       "      <td>2019-02-18 19:00:23-05:00</td>\n",
       "      <td>None</td>\n",
       "      <td>1</td>\n",
       "      <td>1</td>\n",
       "      <td>None</td>\n",
       "      <td>None</td>\n",
       "      <td>1</td>\n",
       "      <td>1</td>\n",
       "      <td>None</td>\n",
       "      <td>1</td>\n",
       "      <td>...</td>\n",
       "      <td>1</td>\n",
       "      <td>None</td>\n",
       "      <td>1</td>\n",
       "      <td>1</td>\n",
       "      <td>1</td>\n",
       "      <td>1</td>\n",
       "      <td>1</td>\n",
       "      <td>1</td>\n",
       "      <td>1</td>\n",
       "      <td>1</td>\n",
       "    </tr>\n",
       "    <tr>\n",
       "      <th>25335</th>\n",
       "      <td>2019-02-18 19:00:24-05:00</td>\n",
       "      <td>None</td>\n",
       "      <td>1</td>\n",
       "      <td>1</td>\n",
       "      <td>None</td>\n",
       "      <td>None</td>\n",
       "      <td>1</td>\n",
       "      <td>1</td>\n",
       "      <td>None</td>\n",
       "      <td>1</td>\n",
       "      <td>...</td>\n",
       "      <td>1</td>\n",
       "      <td>None</td>\n",
       "      <td>1</td>\n",
       "      <td>1</td>\n",
       "      <td>1</td>\n",
       "      <td>1</td>\n",
       "      <td>1</td>\n",
       "      <td>1</td>\n",
       "      <td>1</td>\n",
       "      <td>1</td>\n",
       "    </tr>\n",
       "    <tr>\n",
       "      <th>6185</th>\n",
       "      <td>2019-02-18 19:00:26-05:00</td>\n",
       "      <td>None</td>\n",
       "      <td>1</td>\n",
       "      <td>1</td>\n",
       "      <td>None</td>\n",
       "      <td>None</td>\n",
       "      <td>1</td>\n",
       "      <td>1</td>\n",
       "      <td>None</td>\n",
       "      <td>1</td>\n",
       "      <td>...</td>\n",
       "      <td>1</td>\n",
       "      <td>None</td>\n",
       "      <td>1</td>\n",
       "      <td>1</td>\n",
       "      <td>1</td>\n",
       "      <td>1</td>\n",
       "      <td>1</td>\n",
       "      <td>1</td>\n",
       "      <td>1</td>\n",
       "      <td>1</td>\n",
       "    </tr>\n",
       "    <tr>\n",
       "      <th>25336</th>\n",
       "      <td>2019-02-18 19:00:28-05:00</td>\n",
       "      <td>None</td>\n",
       "      <td>1</td>\n",
       "      <td>1</td>\n",
       "      <td>None</td>\n",
       "      <td>None</td>\n",
       "      <td>1</td>\n",
       "      <td>1</td>\n",
       "      <td>None</td>\n",
       "      <td>1</td>\n",
       "      <td>...</td>\n",
       "      <td>1</td>\n",
       "      <td>None</td>\n",
       "      <td>1</td>\n",
       "      <td>1</td>\n",
       "      <td>1</td>\n",
       "      <td>1</td>\n",
       "      <td>1</td>\n",
       "      <td>1</td>\n",
       "      <td>1</td>\n",
       "      <td>1</td>\n",
       "    </tr>\n",
       "  </tbody>\n",
       "</table>\n",
       "<p>5 rows × 33 columns</p>\n",
       "</div>"
      ],
      "text/plain": [
       "                      timestamp phase_wb_lft phase_eb_str phase_NC1  \\\n",
       "6183  2019-02-18 19:00:21-05:00         None            1         1   \n",
       "6184  2019-02-18 19:00:23-05:00         None            1         1   \n",
       "25335 2019-02-18 19:00:24-05:00         None            1         1   \n",
       "6185  2019-02-18 19:00:26-05:00         None            1         1   \n",
       "25336 2019-02-18 19:00:28-05:00         None            1         1   \n",
       "\n",
       "      phase_sb_all phase_eb_lft phase_wb_str phase_NC2 phase_nb_all ped_NC1  \\\n",
       "6183          None         None            1         1         None       1   \n",
       "6184          None         None            1         1         None       1   \n",
       "25335         None         None            1         1         None       1   \n",
       "6185          None         None            1         1         None       1   \n",
       "25336         None         None            1         1         None       1   \n",
       "\n",
       "         ...     loop_NC2 loop_nb_all button_NC1 button_NC2 button_NC3  \\\n",
       "6183     ...            1        None          1          1          1   \n",
       "6184     ...            1        None          1          1          1   \n",
       "25335    ...            1        None          1          1          1   \n",
       "6185     ...            1        None          1          1          1   \n",
       "25336    ...            1        None          1          1          1   \n",
       "\n",
       "      button_NC4 button_NC5 button_NC6 button_NC7 button_NC8  \n",
       "6183           1          1          1          1          1  \n",
       "6184           1          1          1          1          1  \n",
       "25335          1          1          1          1          1  \n",
       "6185           1          1          1          1          1  \n",
       "25336          1          1          1          1          1  \n",
       "\n",
       "[5 rows x 33 columns]"
      ]
     },
     "execution_count": 14,
     "metadata": {},
     "output_type": "execute_result"
    }
   ],
   "source": [
    "df_502_plot = df_502.copy()\n",
    "# replace all 0 values with None\n",
    "df_502_plot.iloc[:, 1:] = df_502_plot.iloc[:, 1:].replace(to_replace=[0], value=[None])\n",
    "df_502_plot.head()"
   ]
  },
  {
   "cell_type": "markdown",
   "metadata": {},
   "source": [
    "## Plot Function"
   ]
  },
  {
   "cell_type": "code",
   "execution_count": 15,
   "metadata": {},
   "outputs": [],
   "source": [
    "myFmt = DateFormatter(\"%H\")"
   ]
  },
  {
   "cell_type": "code",
   "execution_count": 22,
   "metadata": {},
   "outputs": [],
   "source": [
    "def traff_plot(t_stamp, phase, loop):\n",
    "    ax.scatter(t_stamp, loop)\n",
    "    ax.xaxis.set_major_locator(dates.HourLocator())\n",
    "    ax.xaxis.set_major_formatter(myFmt)\n",
    "    ax.set_xlabel('Hour')\n",
    "    ax.set_xlim(min(t_stamp), max(t_stamp))\n",
    "    ax.set_yticks([])\n",
    "    ax.set_ylim(0.5, 1.5)\n",
    "    trans = mtransforms.blended_transform_factory(ax.transData, ax.transAxes)\n",
    "    ax.fill_between(t_stamp, 0, 1, where=phase == 1, facecolor='green', alpha=0.5, transform=trans)\n",
    "    return(ax)"
   ]
  },
  {
   "cell_type": "markdown",
   "metadata": {},
   "source": [
    "## Eastbound Straight"
   ]
  },
  {
   "cell_type": "code",
   "execution_count": 33,
   "metadata": {
    "scrolled": true
   },
   "outputs": [
    {
     "data": {
      "text/plain": [
       "6183    2019-02-18 19:00:21-05:00\n",
       "6184    2019-02-18 19:00:23-05:00\n",
       "25335   2019-02-18 19:00:24-05:00\n",
       "6185    2019-02-18 19:00:26-05:00\n",
       "25336   2019-02-18 19:00:28-05:00\n",
       "25337   2019-02-18 19:00:30-05:00\n",
       "6186    2019-02-18 19:00:32-05:00\n",
       "6187    2019-02-18 19:00:34-05:00\n",
       "6188    2019-02-18 19:00:36-05:00\n",
       "28546   2019-02-18 19:00:38-05:00\n",
       "28547   2019-02-18 19:00:40-05:00\n",
       "44704   2019-02-18 19:00:41-05:00\n",
       "44949   2019-02-18 19:00:43-05:00\n",
       "44950   2019-02-18 19:00:45-05:00\n",
       "44705   2019-02-18 19:00:47-05:00\n",
       "35085   2019-02-18 19:00:49-05:00\n",
       "28548   2019-02-18 19:00:51-05:00\n",
       "28549   2019-02-18 19:00:53-05:00\n",
       "28550   2019-02-18 19:00:55-05:00\n",
       "28551   2019-02-18 19:00:57-05:00\n",
       "35086   2019-02-18 19:00:59-05:00\n",
       "28552   2019-02-18 19:01:00-05:00\n",
       "28553   2019-02-18 19:01:03-05:00\n",
       "28554   2019-02-18 19:01:06-05:00\n",
       "28555   2019-02-18 19:01:07-05:00\n",
       "28556   2019-02-18 19:01:09-05:00\n",
       "28557   2019-02-18 19:01:11-05:00\n",
       "28558   2019-02-18 19:01:13-05:00\n",
       "28559   2019-02-18 19:01:15-05:00\n",
       "28560   2019-02-18 19:01:17-05:00\n",
       "                   ...           \n",
       "25366   2019-02-18 19:15:22-05:00\n",
       "25367   2019-02-18 19:15:23-05:00\n",
       "6240    2019-02-18 19:15:25-05:00\n",
       "6241    2019-02-18 19:15:27-05:00\n",
       "6242    2019-02-18 19:15:29-05:00\n",
       "6243    2019-02-18 19:15:31-05:00\n",
       "25368   2019-02-18 19:15:33-05:00\n",
       "6244    2019-02-18 19:15:35-05:00\n",
       "6245    2019-02-18 19:15:36-05:00\n",
       "6246    2019-02-18 19:15:38-05:00\n",
       "25369   2019-02-18 19:15:40-05:00\n",
       "43409   2019-02-18 19:15:42-05:00\n",
       "43410   2019-02-18 19:15:44-05:00\n",
       "43411   2019-02-18 19:15:45-05:00\n",
       "43412   2019-02-18 19:15:47-05:00\n",
       "6247    2019-02-18 19:15:49-05:00\n",
       "6248    2019-02-18 19:15:51-05:00\n",
       "25370   2019-02-18 19:15:53-05:00\n",
       "6249    2019-02-18 19:15:55-05:00\n",
       "25371   2019-02-18 19:15:56-05:00\n",
       "25372   2019-02-18 19:15:58-05:00\n",
       "6250    2019-02-18 19:16:02-05:00\n",
       "25373   2019-02-18 19:16:04-05:00\n",
       "35132   2019-02-18 19:16:05-05:00\n",
       "35133   2019-02-18 19:16:07-05:00\n",
       "28680   2019-02-18 19:16:09-05:00\n",
       "35134   2019-02-18 19:16:11-05:00\n",
       "28681   2019-02-18 19:16:13-05:00\n",
       "28682   2019-02-18 19:16:14-05:00\n",
       "28683   2019-02-18 19:16:16-05:00\n",
       "Name: timestamp, Length: 500, dtype: datetime64[ns, tzfile('/usr/share/zoneinfo/America/New_York')]"
      ]
     },
     "execution_count": 33,
     "metadata": {},
     "output_type": "execute_result"
    }
   ],
   "source": [
    "df_502_plot['timestamp'][:500]"
   ]
  },
  {
   "cell_type": "code",
   "execution_count": 27,
   "metadata": {},
   "outputs": [
    {
     "data": {
      "image/png": "[encoded data removed]",
      "text/plain": [
       "<Figure size 1080x216 with 1 Axes>"
      ]
     },
     "metadata": {},
     "output_type": "display_data"
    }
   ],
   "source": [
    "# no loop data!\n",
    "fig, ax = plt.subplots(figsize=(15, 3))\n",
    "traff_plot(dates.date2num(df_502_plot['timestamp']), df_502_plot['phase_eb_str'], df_502_plot['loop_eb_str']);"
   ]
  },
  {
   "cell_type": "markdown",
   "metadata": {},
   "source": [
    "## Eastbound Left"
   ]
  },
  {
   "cell_type": "code",
   "execution_count": 28,
   "metadata": {},
   "outputs": [
    {
     "data": {
      "image/png": "[encoded data removed]",
      "text/plain": [
       "<Figure size 1080x216 with 1 Axes>"
      ]
     },
     "metadata": {},
     "output_type": "display_data"
    }
   ],
   "source": [
    "fig, ax = plt.subplots(figsize=(15, 3))\n",
    "traff_plot(dates.date2num(df_502_plot['timestamp']), df_502_plot['phase_eb_lft'], df_502_plot['loop_eb_lft']);"
   ]
  },
  {
   "cell_type": "markdown",
   "metadata": {},
   "source": [
    "## Westbound Straight"
   ]
  },
  {
   "cell_type": "code",
   "execution_count": 29,
   "metadata": {},
   "outputs": [
    {
     "data": {
      "image/png": "[encoded data removed]",
      "text/plain": [
       "<Figure size 1080x216 with 1 Axes>"
      ]
     },
     "metadata": {},
     "output_type": "display_data"
    }
   ],
   "source": [
    "fig, ax = plt.subplots(figsize=(15, 3))\n",
    "traff_plot(dates.date2num(df_502_plot['timestamp']), df_502_plot['phase_wb_str'], df_502_plot['loop_wb_str']);"
   ]
  },
  {
   "cell_type": "markdown",
   "metadata": {},
   "source": [
    "## Westbound Left"
   ]
  },
  {
   "cell_type": "code",
   "execution_count": 30,
   "metadata": {},
   "outputs": [
    {
     "data": {
      "image/png": "[encoded data removed]",
      "text/plain": [
       "<Figure size 1080x216 with 1 Axes>"
      ]
     },
     "metadata": {},
     "output_type": "display_data"
    }
   ],
   "source": [
    "fig, ax = plt.subplots(figsize=(15, 3))\n",
    "traff_plot(dates.date2num(df_502_plot['timestamp']), df_502_plot['phase_wb_lft'], df_502_plot['loop_wb_lft']);"
   ]
  },
  {
   "cell_type": "markdown",
   "metadata": {},
   "source": [
    "## Northbound"
   ]
  },
  {
   "cell_type": "code",
   "execution_count": 31,
   "metadata": {},
   "outputs": [
    {
     "data": {
      "image/png": "[encoded data removed]",
      "text/plain": [
       "<Figure size 1080x216 with 1 Axes>"
      ]
     },
     "metadata": {},
     "output_type": "display_data"
    }
   ],
   "source": [
    "fig, ax = plt.subplots(figsize=(15, 3))\n",
    "traff_plot(dates.date2num(df_502_plot['timestamp']), df_502_plot['phase_nb_all'], df_502_plot['loop_nb_all']);"
   ]
  },
  {
   "cell_type": "markdown",
   "metadata": {},
   "source": [
    "## Southbound"
   ]
  },
  {
   "cell_type": "code",
   "execution_count": 32,
   "metadata": {},
   "outputs": [
    {
     "data": {
      "image/png": "[encoded data removed]",
      "text/plain": [
       "<Figure size 1080x216 with 1 Axes>"
      ]
     },
     "metadata": {},
     "output_type": "display_data"
    }
   ],
   "source": [
    "fig, ax = plt.subplots(figsize=(15, 3))\n",
    "traff_plot(dates.date2num(df_502_plot['timestamp']), df_502_plot['phase_sb_all'], df_502_plot['loop_sb_all']);"
   ]
  },
  {
   "cell_type": "markdown",
   "metadata": {},
   "source": [
    "# 503 Plots"
   ]
  },
  {
   "cell_type": "code",
   "execution_count": 36,
   "metadata": {},
   "outputs": [
    {
     "data": {
      "text/html": [
       "<div>\n",
       "<style scoped>\n",
       "    .dataframe tbody tr th:only-of-type {\n",
       "        vertical-align: middle;\n",
       "    }\n",
       "\n",
       "    .dataframe tbody tr th {\n",
       "        vertical-align: top;\n",
       "    }\n",
       "\n",
       "    .dataframe thead th {\n",
       "        text-align: right;\n",
       "    }\n",
       "</style>\n",
       "<table border=\"1\" class=\"dataframe\">\n",
       "  <thead>\n",
       "    <tr style=\"text-align: right;\">\n",
       "      <th></th>\n",
       "      <th>timestamp</th>\n",
       "      <th>phase_wb_lft</th>\n",
       "      <th>phase_eb_str</th>\n",
       "      <th>phase_NC1</th>\n",
       "      <th>phase_sb_all</th>\n",
       "      <th>phase_eb_lft</th>\n",
       "      <th>phase_wb_str</th>\n",
       "      <th>phase_NC2</th>\n",
       "      <th>phase_nb_all</th>\n",
       "      <th>loop_wb_lft</th>\n",
       "      <th>loop_eb_str</th>\n",
       "      <th>loop_NC1</th>\n",
       "      <th>loop_sb_all</th>\n",
       "      <th>loop_eb_lft</th>\n",
       "      <th>loop_wb_str</th>\n",
       "      <th>loop_NC2</th>\n",
       "      <th>loop_nb_all</th>\n",
       "    </tr>\n",
       "  </thead>\n",
       "  <tbody>\n",
       "    <tr>\n",
       "      <th>0</th>\n",
       "      <td>2019-02-18 19:00:01-05:00</td>\n",
       "      <td>None</td>\n",
       "      <td>None</td>\n",
       "      <td>1</td>\n",
       "      <td>None</td>\n",
       "      <td>None</td>\n",
       "      <td>None</td>\n",
       "      <td>1</td>\n",
       "      <td>None</td>\n",
       "      <td>None</td>\n",
       "      <td>1</td>\n",
       "      <td>1</td>\n",
       "      <td>None</td>\n",
       "      <td>1</td>\n",
       "      <td>None</td>\n",
       "      <td>None</td>\n",
       "      <td>None</td>\n",
       "    </tr>\n",
       "    <tr>\n",
       "      <th>1</th>\n",
       "      <td>2019-02-18 19:00:21-05:00</td>\n",
       "      <td>None</td>\n",
       "      <td>1</td>\n",
       "      <td>1</td>\n",
       "      <td>None</td>\n",
       "      <td>None</td>\n",
       "      <td>1</td>\n",
       "      <td>1</td>\n",
       "      <td>None</td>\n",
       "      <td>None</td>\n",
       "      <td>1</td>\n",
       "      <td>1</td>\n",
       "      <td>None</td>\n",
       "      <td>None</td>\n",
       "      <td>None</td>\n",
       "      <td>None</td>\n",
       "      <td>None</td>\n",
       "    </tr>\n",
       "    <tr>\n",
       "      <th>2</th>\n",
       "      <td>2019-02-18 19:00:23-05:00</td>\n",
       "      <td>None</td>\n",
       "      <td>1</td>\n",
       "      <td>1</td>\n",
       "      <td>None</td>\n",
       "      <td>None</td>\n",
       "      <td>1</td>\n",
       "      <td>1</td>\n",
       "      <td>None</td>\n",
       "      <td>None</td>\n",
       "      <td>1</td>\n",
       "      <td>1</td>\n",
       "      <td>None</td>\n",
       "      <td>None</td>\n",
       "      <td>None</td>\n",
       "      <td>None</td>\n",
       "      <td>None</td>\n",
       "    </tr>\n",
       "    <tr>\n",
       "      <th>3</th>\n",
       "      <td>2019-02-18 19:00:24-05:00</td>\n",
       "      <td>None</td>\n",
       "      <td>1</td>\n",
       "      <td>1</td>\n",
       "      <td>None</td>\n",
       "      <td>None</td>\n",
       "      <td>1</td>\n",
       "      <td>1</td>\n",
       "      <td>None</td>\n",
       "      <td>None</td>\n",
       "      <td>1</td>\n",
       "      <td>1</td>\n",
       "      <td>None</td>\n",
       "      <td>None</td>\n",
       "      <td>1</td>\n",
       "      <td>None</td>\n",
       "      <td>None</td>\n",
       "    </tr>\n",
       "    <tr>\n",
       "      <th>4</th>\n",
       "      <td>2019-02-18 19:00:26-05:00</td>\n",
       "      <td>None</td>\n",
       "      <td>1</td>\n",
       "      <td>1</td>\n",
       "      <td>None</td>\n",
       "      <td>None</td>\n",
       "      <td>1</td>\n",
       "      <td>1</td>\n",
       "      <td>None</td>\n",
       "      <td>None</td>\n",
       "      <td>1</td>\n",
       "      <td>1</td>\n",
       "      <td>None</td>\n",
       "      <td>None</td>\n",
       "      <td>None</td>\n",
       "      <td>None</td>\n",
       "      <td>None</td>\n",
       "    </tr>\n",
       "  </tbody>\n",
       "</table>\n",
       "</div>"
      ],
      "text/plain": [
       "                  timestamp phase_wb_lft phase_eb_str phase_NC1 phase_sb_all  \\\n",
       "0 2019-02-18 19:00:01-05:00         None         None         1         None   \n",
       "1 2019-02-18 19:00:21-05:00         None            1         1         None   \n",
       "2 2019-02-18 19:00:23-05:00         None            1         1         None   \n",
       "3 2019-02-18 19:00:24-05:00         None            1         1         None   \n",
       "4 2019-02-18 19:00:26-05:00         None            1         1         None   \n",
       "\n",
       "  phase_eb_lft phase_wb_str phase_NC2 phase_nb_all loop_wb_lft loop_eb_str  \\\n",
       "0         None         None         1         None        None           1   \n",
       "1         None            1         1         None        None           1   \n",
       "2         None            1         1         None        None           1   \n",
       "3         None            1         1         None        None           1   \n",
       "4         None            1         1         None        None           1   \n",
       "\n",
       "  loop_NC1 loop_sb_all loop_eb_lft loop_wb_str loop_NC2 loop_nb_all  \n",
       "0        1        None           1        None     None        None  \n",
       "1        1        None        None        None     None        None  \n",
       "2        1        None        None        None     None        None  \n",
       "3        1        None        None           1     None        None  \n",
       "4        1        None        None        None     None        None  "
      ]
     },
     "execution_count": 36,
     "metadata": {},
     "output_type": "execute_result"
    }
   ],
   "source": [
    "df_503_plot = df_503.copy()\n",
    "# replace all 0 values with None\n",
    "df_503_plot.iloc[:, 1:] = df_503_plot.iloc[:, 1:].replace(to_replace=[0], value=[None])\n",
    "df_503_plot.head()"
   ]
  },
  {
   "cell_type": "markdown",
   "metadata": {},
   "source": [
    "## Eastbound Straight"
   ]
  },
  {
   "cell_type": "code",
   "execution_count": 38,
   "metadata": {},
   "outputs": [
    {
     "data": {
      "image/png": "[encoded data removed]",
      "text/plain": [
       "<Figure size 1080x216 with 1 Axes>"
      ]
     },
     "metadata": {},
     "output_type": "display_data"
    }
   ],
   "source": [
    "fig, ax = plt.subplots(figsize=(15, 3))\n",
    "traff_plot(dates.date2num(df_503_plot['timestamp']), df_503_plot['phase_eb_str'], df_503_plot['loop_eb_str']);"
   ]
  },
  {
   "cell_type": "markdown",
   "metadata": {},
   "source": [
    "## Eastbound Left"
   ]
  },
  {
   "cell_type": "code",
   "execution_count": 40,
   "metadata": {},
   "outputs": [
    {
     "data": {
      "image/png": "[encoded data removed]",
      "text/plain": [
       "<Figure size 1080x216 with 1 Axes>"
      ]
     },
     "metadata": {},
     "output_type": "display_data"
    }
   ],
   "source": [
    "fig, ax = plt.subplots(figsize=(15, 3))\n",
    "traff_plot(dates.date2num(df_503_plot['timestamp']), df_503_plot['phase_eb_lft'], df_503_plot['loop_eb_lft']);"
   ]
  },
  {
   "cell_type": "markdown",
   "metadata": {},
   "source": [
    "## Westbound Straight"
   ]
  },
  {
   "cell_type": "code",
   "execution_count": 41,
   "metadata": {},
   "outputs": [
    {
     "data": {
      "image/png": "[encoded data removed]",
      "text/plain": [
       "<Figure size 1080x216 with 1 Axes>"
      ]
     },
     "metadata": {},
     "output_type": "display_data"
    }
   ],
   "source": [
    "fig, ax = plt.subplots(figsize=(15, 3))\n",
    "traff_plot(dates.date2num(df_503_plot['timestamp']), df_503_plot['phase_wb_str'], df_503_plot['loop_wb_str']);"
   ]
  },
  {
   "cell_type": "markdown",
   "metadata": {},
   "source": [
    "## Westbound Left"
   ]
  },
  {
   "cell_type": "code",
   "execution_count": 42,
   "metadata": {},
   "outputs": [
    {
     "data": {
      "image/png": "[encoded data removed]",
      "text/plain": [
       "<Figure size 1080x216 with 1 Axes>"
      ]
     },
     "metadata": {},
     "output_type": "display_data"
    }
   ],
   "source": [
    "fig, ax = plt.subplots(figsize=(15, 3))\n",
    "traff_plot(dates.date2num(df_503_plot['timestamp']), df_503_plot['phase_wb_lft'], df_503_plot['loop_wb_lft']);"
   ]
  },
  {
   "cell_type": "markdown",
   "metadata": {},
   "source": [
    "## Northbound"
   ]
  },
  {
   "cell_type": "code",
   "execution_count": 39,
   "metadata": {},
   "outputs": [
    {
     "data": {
      "image/png": "[encoded data removed]",
      "text/plain": [
       "<Figure size 1080x216 with 1 Axes>"
      ]
     },
     "metadata": {},
     "output_type": "display_data"
    }
   ],
   "source": [
    "fig, ax = plt.subplots(figsize=(15, 3))\n",
    "traff_plot(dates.date2num(df_503_plot['timestamp']), df_503_plot['phase_nb_all'], df_503_plot['loop_nb_all']);"
   ]
  },
  {
   "cell_type": "markdown",
   "metadata": {},
   "source": [
    "## Southbound"
   ]
  },
  {
   "cell_type": "code",
   "execution_count": 37,
   "metadata": {},
   "outputs": [
    {
     "data": {
      "image/png": "[encoded data removed]",
      "text/plain": [
       "<Figure size 1080x216 with 1 Axes>"
      ]
     },
     "metadata": {},
     "output_type": "display_data"
    }
   ],
   "source": [
    "fig, ax = plt.subplots(figsize=(15, 3))\n",
    "traff_plot(dates.date2num(df_503_plot['timestamp']), df_503_plot['phase_sb_all'], df_503_plot['loop_sb_all']);"
   ]
  },
  {
   "cell_type": "code",
   "execution_count": null,
   "metadata": {},
   "outputs": [],
   "source": []
  }
 ],
 "metadata": {
  "kernelspec": {
   "display_name": "Python 3",
   "language": "python",
   "name": "python3"
  },
  "language_info": {
   "codemirror_mode": {
    "name": "ipython",
    "version": 3
   },
   "file_extension": ".py",
   "mimetype": "text/x-python",
   "name": "python",
   "nbconvert_exporter": "python",
   "pygments_lexer": "ipython3",
   "version": "3.6.5"
  }
 },
 "nbformat": 4,
 "nbformat_minor": 2
}
