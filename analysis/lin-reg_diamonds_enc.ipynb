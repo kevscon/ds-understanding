{
 "cells": [
  {
   "cell_type": "markdown",
   "metadata": {},
   "source": [
    "This notebook creates a linear regression model to predict the price of diamonds. Categorical features are encoded as a sparse matrix."
   ]
  },
  {
   "cell_type": "markdown",
   "metadata": {},
   "source": [
    "# Imports"
   ]
  },
  {
   "cell_type": "code",
   "execution_count": 1,
   "metadata": {},
   "outputs": [],
   "source": [
    "import random\n",
    "import numpy as np\n",
    "import pandas as pd\n",
    "import matplotlib.pyplot as plt\n",
    "import seaborn as sns"
   ]
  },
  {
   "cell_type": "markdown",
   "metadata": {},
   "source": [
    "## sklearn"
   ]
  },
  {
   "cell_type": "code",
   "execution_count": 2,
   "metadata": {},
   "outputs": [],
   "source": [
    "from sklearn.model_selection import train_test_split\n",
    "from sklearn.pipeline import Pipeline\n",
    "from sklearn.preprocessing import MinMaxScaler, StandardScaler\n",
    "from sklearn.linear_model import LinearRegression\n",
    "from sklearn.model_selection import cross_val_score\n",
    "from sklearn.model_selection import cross_validate\n",
    "from sklearn.preprocessing import PolynomialFeatures\n",
    "from sklearn import linear_model\n",
    "from sklearn import feature_selection"
   ]
  },
  {
   "cell_type": "markdown",
   "metadata": {},
   "source": [
    "## other"
   ]
  },
  {
   "cell_type": "code",
   "execution_count": 3,
   "metadata": {},
   "outputs": [],
   "source": [
    "import scipy.stats as stats"
   ]
  },
  {
   "cell_type": "markdown",
   "metadata": {},
   "source": [
    "# Custom Functions"
   ]
  },
  {
   "cell_type": "markdown",
   "metadata": {},
   "source": [
    "## Model Evaluation Function\n",
    "Function to create evaluation plots given test input"
   ]
  },
  {
   "cell_type": "code",
   "execution_count": 4,
   "metadata": {},
   "outputs": [],
   "source": [
    "def lr_eval(model, X, y):\n",
    "    # output r squared score for model\n",
    "    print('R-squared:', model.score(X, y))\n",
    "    \n",
    "    # cacluate model residuals\n",
    "    predictions = model.predict(X)\n",
    "    residuals = y - predictions\n",
    "    \n",
    "    # evaluation plots\n",
    "    fig, (ax1, ax2, ax3) = plt.subplots(nrows=3, ncols=1, figsize=(7, 20))\n",
    "    ax1.scatter(y, predictions)\n",
    "    ax1.set_title('Accuracy')\n",
    "    ax1.set_xlabel('Actual Value')\n",
    "    ax1.set_ylabel('Predicted Value')\n",
    "    ax2.scatter(predictions, residuals)\n",
    "    ax2.set_title('Residual Plot')\n",
    "    ax2.set_xlabel('Predicted Value')\n",
    "    ax2.set_ylabel('Residual')\n",
    "    stats.probplot(residuals, dist='norm', plot=plt);"
   ]
  },
  {
   "cell_type": "markdown",
   "metadata": {},
   "source": [
    "# Data"
   ]
  },
  {
   "cell_type": "code",
   "execution_count": 5,
   "metadata": {},
   "outputs": [],
   "source": [
    "filename = 'data/diamonds.csv'"
   ]
  },
  {
   "cell_type": "code",
   "execution_count": 6,
   "metadata": {},
   "outputs": [],
   "source": [
    "n = sum(1 for line in open(filename)) - 1\n",
    "s = 2000\n",
    "random.seed(5)\n",
    "skip = sorted(random.sample(range(1, n+1), n-s))\n",
    "df = pd.read_csv(filename, skiprows=skip, index_col=0)"
   ]
  },
  {
   "cell_type": "code",
   "execution_count": 7,
   "metadata": {},
   "outputs": [
    {
     "data": {
      "text/html": [
       "<div>\n",
       "<style scoped>\n",
       "    .dataframe tbody tr th:only-of-type {\n",
       "        vertical-align: middle;\n",
       "    }\n",
       "\n",
       "    .dataframe tbody tr th {\n",
       "        vertical-align: top;\n",
       "    }\n",
       "\n",
       "    .dataframe thead th {\n",
       "        text-align: right;\n",
       "    }\n",
       "</style>\n",
       "<table border=\"1\" class=\"dataframe\">\n",
       "  <thead>\n",
       "    <tr style=\"text-align: right;\">\n",
       "      <th></th>\n",
       "      <th>carat</th>\n",
       "      <th>cut</th>\n",
       "      <th>color</th>\n",
       "      <th>clarity</th>\n",
       "      <th>depth</th>\n",
       "      <th>table</th>\n",
       "      <th>price</th>\n",
       "      <th>x</th>\n",
       "      <th>y</th>\n",
       "      <th>z</th>\n",
       "    </tr>\n",
       "  </thead>\n",
       "  <tbody>\n",
       "    <tr>\n",
       "      <th>49</th>\n",
       "      <td>0.25</td>\n",
       "      <td>Very Good</td>\n",
       "      <td>E</td>\n",
       "      <td>VS2</td>\n",
       "      <td>63.3</td>\n",
       "      <td>60.0</td>\n",
       "      <td>404</td>\n",
       "      <td>4.00</td>\n",
       "      <td>4.03</td>\n",
       "      <td>2.54</td>\n",
       "    </tr>\n",
       "    <tr>\n",
       "      <th>66</th>\n",
       "      <td>0.28</td>\n",
       "      <td>Ideal</td>\n",
       "      <td>G</td>\n",
       "      <td>VVS2</td>\n",
       "      <td>61.4</td>\n",
       "      <td>56.0</td>\n",
       "      <td>553</td>\n",
       "      <td>4.19</td>\n",
       "      <td>4.22</td>\n",
       "      <td>2.58</td>\n",
       "    </tr>\n",
       "    <tr>\n",
       "      <th>79</th>\n",
       "      <td>0.26</td>\n",
       "      <td>Very Good</td>\n",
       "      <td>D</td>\n",
       "      <td>VVS2</td>\n",
       "      <td>62.8</td>\n",
       "      <td>60.0</td>\n",
       "      <td>554</td>\n",
       "      <td>4.01</td>\n",
       "      <td>4.05</td>\n",
       "      <td>2.53</td>\n",
       "    </tr>\n",
       "    <tr>\n",
       "      <th>120</th>\n",
       "      <td>0.80</td>\n",
       "      <td>Ideal</td>\n",
       "      <td>F</td>\n",
       "      <td>SI2</td>\n",
       "      <td>59.9</td>\n",
       "      <td>59.0</td>\n",
       "      <td>2762</td>\n",
       "      <td>6.01</td>\n",
       "      <td>6.07</td>\n",
       "      <td>3.62</td>\n",
       "    </tr>\n",
       "    <tr>\n",
       "      <th>188</th>\n",
       "      <td>0.71</td>\n",
       "      <td>Premium</td>\n",
       "      <td>F</td>\n",
       "      <td>VS2</td>\n",
       "      <td>62.1</td>\n",
       "      <td>58.0</td>\n",
       "      <td>2777</td>\n",
       "      <td>5.67</td>\n",
       "      <td>5.70</td>\n",
       "      <td>3.53</td>\n",
       "    </tr>\n",
       "  </tbody>\n",
       "</table>\n",
       "</div>"
      ],
      "text/plain": [
       "     carat        cut color clarity  depth  table  price     x     y     z\n",
       "49    0.25  Very Good     E     VS2   63.3   60.0    404  4.00  4.03  2.54\n",
       "66    0.28      Ideal     G    VVS2   61.4   56.0    553  4.19  4.22  2.58\n",
       "79    0.26  Very Good     D    VVS2   62.8   60.0    554  4.01  4.05  2.53\n",
       "120   0.80      Ideal     F     SI2   59.9   59.0   2762  6.01  6.07  3.62\n",
       "188   0.71    Premium     F     VS2   62.1   58.0   2777  5.67  5.70  3.53"
      ]
     },
     "execution_count": 7,
     "metadata": {},
     "output_type": "execute_result"
    }
   ],
   "source": [
    "df.head()"
   ]
  },
  {
   "cell_type": "code",
   "execution_count": 8,
   "metadata": {},
   "outputs": [],
   "source": [
    "X_num = df.iloc[:, [0, 4, 5, 6, 7, 8]].copy()"
   ]
  },
  {
   "cell_type": "code",
   "execution_count": 9,
   "metadata": {},
   "outputs": [
    {
     "data": {
      "text/plain": [
       "49      404\n",
       "66      553\n",
       "79      554\n",
       "120    2762\n",
       "188    2777\n",
       "Name: price, dtype: int64"
      ]
     },
     "execution_count": 9,
     "metadata": {},
     "output_type": "execute_result"
    }
   ],
   "source": [
    "y = X_num.pop('price')\n",
    "y.head()"
   ]
  },
  {
   "cell_type": "code",
   "execution_count": 10,
   "metadata": {},
   "outputs": [
    {
     "data": {
      "text/html": [
       "<div>\n",
       "<style scoped>\n",
       "    .dataframe tbody tr th:only-of-type {\n",
       "        vertical-align: middle;\n",
       "    }\n",
       "\n",
       "    .dataframe tbody tr th {\n",
       "        vertical-align: top;\n",
       "    }\n",
       "\n",
       "    .dataframe thead th {\n",
       "        text-align: right;\n",
       "    }\n",
       "</style>\n",
       "<table border=\"1\" class=\"dataframe\">\n",
       "  <thead>\n",
       "    <tr style=\"text-align: right;\">\n",
       "      <th></th>\n",
       "      <th>carat</th>\n",
       "      <th>depth</th>\n",
       "      <th>table</th>\n",
       "      <th>x</th>\n",
       "      <th>y</th>\n",
       "    </tr>\n",
       "  </thead>\n",
       "  <tbody>\n",
       "    <tr>\n",
       "      <th>49</th>\n",
       "      <td>0.25</td>\n",
       "      <td>63.3</td>\n",
       "      <td>60.0</td>\n",
       "      <td>4.00</td>\n",
       "      <td>4.03</td>\n",
       "    </tr>\n",
       "    <tr>\n",
       "      <th>66</th>\n",
       "      <td>0.28</td>\n",
       "      <td>61.4</td>\n",
       "      <td>56.0</td>\n",
       "      <td>4.19</td>\n",
       "      <td>4.22</td>\n",
       "    </tr>\n",
       "    <tr>\n",
       "      <th>79</th>\n",
       "      <td>0.26</td>\n",
       "      <td>62.8</td>\n",
       "      <td>60.0</td>\n",
       "      <td>4.01</td>\n",
       "      <td>4.05</td>\n",
       "    </tr>\n",
       "    <tr>\n",
       "      <th>120</th>\n",
       "      <td>0.80</td>\n",
       "      <td>59.9</td>\n",
       "      <td>59.0</td>\n",
       "      <td>6.01</td>\n",
       "      <td>6.07</td>\n",
       "    </tr>\n",
       "    <tr>\n",
       "      <th>188</th>\n",
       "      <td>0.71</td>\n",
       "      <td>62.1</td>\n",
       "      <td>58.0</td>\n",
       "      <td>5.67</td>\n",
       "      <td>5.70</td>\n",
       "    </tr>\n",
       "  </tbody>\n",
       "</table>\n",
       "</div>"
      ],
      "text/plain": [
       "     carat  depth  table     x     y\n",
       "49    0.25   63.3   60.0  4.00  4.03\n",
       "66    0.28   61.4   56.0  4.19  4.22\n",
       "79    0.26   62.8   60.0  4.01  4.05\n",
       "120   0.80   59.9   59.0  6.01  6.07\n",
       "188   0.71   62.1   58.0  5.67  5.70"
      ]
     },
     "execution_count": 10,
     "metadata": {},
     "output_type": "execute_result"
    }
   ],
   "source": [
    "X_num.head()"
   ]
  },
  {
   "cell_type": "code",
   "execution_count": 11,
   "metadata": {},
   "outputs": [
    {
     "data": {
      "text/html": [
       "<div>\n",
       "<style scoped>\n",
       "    .dataframe tbody tr th:only-of-type {\n",
       "        vertical-align: middle;\n",
       "    }\n",
       "\n",
       "    .dataframe tbody tr th {\n",
       "        vertical-align: top;\n",
       "    }\n",
       "\n",
       "    .dataframe thead th {\n",
       "        text-align: right;\n",
       "    }\n",
       "</style>\n",
       "<table border=\"1\" class=\"dataframe\">\n",
       "  <thead>\n",
       "    <tr style=\"text-align: right;\">\n",
       "      <th></th>\n",
       "      <th>cut</th>\n",
       "      <th>color</th>\n",
       "      <th>clarity</th>\n",
       "    </tr>\n",
       "  </thead>\n",
       "  <tbody>\n",
       "    <tr>\n",
       "      <th>49</th>\n",
       "      <td>Very Good</td>\n",
       "      <td>E</td>\n",
       "      <td>VS2</td>\n",
       "    </tr>\n",
       "    <tr>\n",
       "      <th>66</th>\n",
       "      <td>Ideal</td>\n",
       "      <td>G</td>\n",
       "      <td>VVS2</td>\n",
       "    </tr>\n",
       "    <tr>\n",
       "      <th>79</th>\n",
       "      <td>Very Good</td>\n",
       "      <td>D</td>\n",
       "      <td>VVS2</td>\n",
       "    </tr>\n",
       "    <tr>\n",
       "      <th>120</th>\n",
       "      <td>Ideal</td>\n",
       "      <td>F</td>\n",
       "      <td>SI2</td>\n",
       "    </tr>\n",
       "    <tr>\n",
       "      <th>188</th>\n",
       "      <td>Premium</td>\n",
       "      <td>F</td>\n",
       "      <td>VS2</td>\n",
       "    </tr>\n",
       "  </tbody>\n",
       "</table>\n",
       "</div>"
      ],
      "text/plain": [
       "           cut color clarity\n",
       "49   Very Good     E     VS2\n",
       "66       Ideal     G    VVS2\n",
       "79   Very Good     D    VVS2\n",
       "120      Ideal     F     SI2\n",
       "188    Premium     F     VS2"
      ]
     },
     "execution_count": 11,
     "metadata": {},
     "output_type": "execute_result"
    }
   ],
   "source": [
    "X_cat = df.iloc[:, [1, 2, 3]].copy()\n",
    "X_cat.head()"
   ]
  },
  {
   "cell_type": "markdown",
   "metadata": {},
   "source": [
    "## Column Definitions\n",
    "\n",
    "carat (num): weight in carats (1 carat = 200 mg) (0.2--5.01)\n",
    "\n",
    "cut (cat): quality of the cut (Fair, Good, Very Good, Premium, Ideal)\n",
    "\n",
    "color (cat): diamond color (J (worst) -- D (best))\n",
    "\n",
    "clarity (cat): how obvious inclusions are within the diamond (I1 (worst), SI2, SI1, VS2, VS1, VVS2, VVS1, IF (best))\n",
    "\n",
    "depth (num): height of diamond, measured from the culet (bottom tip) to the table (top), divided by its average girdle (widest dimension) diameter = z / mean(x, y) (43--79)\n",
    "\n",
    "table (num): width of diamond's table (top) expressed as a percentage of its average diameter\n",
    "\n",
    "price (num): price in US dollars (326--18,823)\n",
    "\n",
    "x (num): length in mm (0--10.74)\n",
    "\n",
    "y (num): width in mm (0--58.9)\n",
    "\n",
    "z (num): depth in mm (0--31.8)"
   ]
  },
  {
   "cell_type": "markdown",
   "metadata": {},
   "source": [
    "# Diamond Dimensions\n",
    "<img src = 'data/diamondanatomyimproved.jpg'>"
   ]
  },
  {
   "cell_type": "markdown",
   "metadata": {},
   "source": [
    "## EDA"
   ]
  },
  {
   "cell_type": "markdown",
   "metadata": {},
   "source": [
    "### Data Distributions"
   ]
  },
  {
   "cell_type": "code",
   "execution_count": 12,
   "metadata": {},
   "outputs": [],
   "source": [
    "# sns.pairplot(df);"
   ]
  },
  {
   "cell_type": "markdown",
   "metadata": {},
   "source": [
    "## Variable Distributions"
   ]
  },
  {
   "cell_type": "markdown",
   "metadata": {},
   "source": [
    "### Carat Distribution"
   ]
  },
  {
   "cell_type": "code",
   "execution_count": 13,
   "metadata": {},
   "outputs": [
    {
     "data": {
      "image/png": "[encoded data removed]",
      "text/plain": [
       "<Figure size 432x288 with 1 Axes>"
      ]
     },
     "metadata": {},
     "output_type": "display_data"
    }
   ],
   "source": [
    "plt.hist(df['carat']);"
   ]
  },
  {
   "cell_type": "markdown",
   "metadata": {},
   "source": [
    "### Price Distribution"
   ]
  },
  {
   "cell_type": "code",
   "execution_count": 14,
   "metadata": {},
   "outputs": [
    {
     "data": {
      "image/png": "[encoded data removed]",
      "text/plain": [
       "<Figure size 432x288 with 1 Axes>"
      ]
     },
     "metadata": {},
     "output_type": "display_data"
    }
   ],
   "source": [
    "plt.hist(df['price']);"
   ]
  },
  {
   "cell_type": "markdown",
   "metadata": {},
   "source": [
    "## Feature-Target Plots"
   ]
  },
  {
   "cell_type": "markdown",
   "metadata": {},
   "source": [
    "### Carat vs Price"
   ]
  },
  {
   "cell_type": "code",
   "execution_count": 15,
   "metadata": {},
   "outputs": [
    {
     "data": {
      "text/plain": [
       "Text(0,0.5,'Price ($)')"
      ]
     },
     "execution_count": 15,
     "metadata": {},
     "output_type": "execute_result"
    },
    {
     "data": {
      "image/png": "[encoded data removed]",
      "text/plain": [
       "<Figure size 432x288 with 1 Axes>"
      ]
     },
     "metadata": {},
     "output_type": "display_data"
    }
   ],
   "source": [
    "plt.scatter(df['carat'], df['price'])\n",
    "plt.xlabel('Carat')\n",
    "plt.ylabel('Price ($)')"
   ]
  },
  {
   "cell_type": "markdown",
   "metadata": {},
   "source": [
    "# Pre-processing"
   ]
  },
  {
   "cell_type": "markdown",
   "metadata": {},
   "source": [
    "## Categorical Data"
   ]
  },
  {
   "cell_type": "markdown",
   "metadata": {},
   "source": [
    "### One-Hot Encoding\n",
    "Encode categorical features as sparse matrix of categorical labels."
   ]
  },
  {
   "cell_type": "code",
   "execution_count": 16,
   "metadata": {},
   "outputs": [
    {
     "data": {
      "text/html": [
       "<div>\n",
       "<style scoped>\n",
       "    .dataframe tbody tr th:only-of-type {\n",
       "        vertical-align: middle;\n",
       "    }\n",
       "\n",
       "    .dataframe tbody tr th {\n",
       "        vertical-align: top;\n",
       "    }\n",
       "\n",
       "    .dataframe thead th {\n",
       "        text-align: right;\n",
       "    }\n",
       "</style>\n",
       "<table border=\"1\" class=\"dataframe\">\n",
       "  <thead>\n",
       "    <tr style=\"text-align: right;\">\n",
       "      <th></th>\n",
       "      <th>cut_Fair</th>\n",
       "      <th>cut_Good</th>\n",
       "      <th>cut_Ideal</th>\n",
       "      <th>cut_Premium</th>\n",
       "      <th>cut_Very Good</th>\n",
       "      <th>color_D</th>\n",
       "      <th>color_E</th>\n",
       "      <th>color_F</th>\n",
       "      <th>color_G</th>\n",
       "      <th>color_H</th>\n",
       "      <th>color_I</th>\n",
       "      <th>color_J</th>\n",
       "      <th>clarity_I1</th>\n",
       "      <th>clarity_IF</th>\n",
       "      <th>clarity_SI1</th>\n",
       "      <th>clarity_SI2</th>\n",
       "      <th>clarity_VS1</th>\n",
       "      <th>clarity_VS2</th>\n",
       "      <th>clarity_VVS1</th>\n",
       "      <th>clarity_VVS2</th>\n",
       "    </tr>\n",
       "  </thead>\n",
       "  <tbody>\n",
       "    <tr>\n",
       "      <th>49</th>\n",
       "      <td>0</td>\n",
       "      <td>0</td>\n",
       "      <td>0</td>\n",
       "      <td>0</td>\n",
       "      <td>1</td>\n",
       "      <td>0</td>\n",
       "      <td>1</td>\n",
       "      <td>0</td>\n",
       "      <td>0</td>\n",
       "      <td>0</td>\n",
       "      <td>0</td>\n",
       "      <td>0</td>\n",
       "      <td>0</td>\n",
       "      <td>0</td>\n",
       "      <td>0</td>\n",
       "      <td>0</td>\n",
       "      <td>0</td>\n",
       "      <td>1</td>\n",
       "      <td>0</td>\n",
       "      <td>0</td>\n",
       "    </tr>\n",
       "    <tr>\n",
       "      <th>66</th>\n",
       "      <td>0</td>\n",
       "      <td>0</td>\n",
       "      <td>1</td>\n",
       "      <td>0</td>\n",
       "      <td>0</td>\n",
       "      <td>0</td>\n",
       "      <td>0</td>\n",
       "      <td>0</td>\n",
       "      <td>1</td>\n",
       "      <td>0</td>\n",
       "      <td>0</td>\n",
       "      <td>0</td>\n",
       "      <td>0</td>\n",
       "      <td>0</td>\n",
       "      <td>0</td>\n",
       "      <td>0</td>\n",
       "      <td>0</td>\n",
       "      <td>0</td>\n",
       "      <td>0</td>\n",
       "      <td>1</td>\n",
       "    </tr>\n",
       "    <tr>\n",
       "      <th>79</th>\n",
       "      <td>0</td>\n",
       "      <td>0</td>\n",
       "      <td>0</td>\n",
       "      <td>0</td>\n",
       "      <td>1</td>\n",
       "      <td>1</td>\n",
       "      <td>0</td>\n",
       "      <td>0</td>\n",
       "      <td>0</td>\n",
       "      <td>0</td>\n",
       "      <td>0</td>\n",
       "      <td>0</td>\n",
       "      <td>0</td>\n",
       "      <td>0</td>\n",
       "      <td>0</td>\n",
       "      <td>0</td>\n",
       "      <td>0</td>\n",
       "      <td>0</td>\n",
       "      <td>0</td>\n",
       "      <td>1</td>\n",
       "    </tr>\n",
       "    <tr>\n",
       "      <th>120</th>\n",
       "      <td>0</td>\n",
       "      <td>0</td>\n",
       "      <td>1</td>\n",
       "      <td>0</td>\n",
       "      <td>0</td>\n",
       "      <td>0</td>\n",
       "      <td>0</td>\n",
       "      <td>1</td>\n",
       "      <td>0</td>\n",
       "      <td>0</td>\n",
       "      <td>0</td>\n",
       "      <td>0</td>\n",
       "      <td>0</td>\n",
       "      <td>0</td>\n",
       "      <td>0</td>\n",
       "      <td>1</td>\n",
       "      <td>0</td>\n",
       "      <td>0</td>\n",
       "      <td>0</td>\n",
       "      <td>0</td>\n",
       "    </tr>\n",
       "    <tr>\n",
       "      <th>188</th>\n",
       "      <td>0</td>\n",
       "      <td>0</td>\n",
       "      <td>0</td>\n",
       "      <td>1</td>\n",
       "      <td>0</td>\n",
       "      <td>0</td>\n",
       "      <td>0</td>\n",
       "      <td>1</td>\n",
       "      <td>0</td>\n",
       "      <td>0</td>\n",
       "      <td>0</td>\n",
       "      <td>0</td>\n",
       "      <td>0</td>\n",
       "      <td>0</td>\n",
       "      <td>0</td>\n",
       "      <td>0</td>\n",
       "      <td>0</td>\n",
       "      <td>1</td>\n",
       "      <td>0</td>\n",
       "      <td>0</td>\n",
       "    </tr>\n",
       "  </tbody>\n",
       "</table>\n",
       "</div>"
      ],
      "text/plain": [
       "     cut_Fair  cut_Good  cut_Ideal  cut_Premium  cut_Very Good  color_D  \\\n",
       "49          0         0          0            0              1        0   \n",
       "66          0         0          1            0              0        0   \n",
       "79          0         0          0            0              1        1   \n",
       "120         0         0          1            0              0        0   \n",
       "188         0         0          0            1              0        0   \n",
       "\n",
       "     color_E  color_F  color_G  color_H  color_I  color_J  clarity_I1  \\\n",
       "49         1        0        0        0        0        0           0   \n",
       "66         0        0        1        0        0        0           0   \n",
       "79         0        0        0        0        0        0           0   \n",
       "120        0        1        0        0        0        0           0   \n",
       "188        0        1        0        0        0        0           0   \n",
       "\n",
       "     clarity_IF  clarity_SI1  clarity_SI2  clarity_VS1  clarity_VS2  \\\n",
       "49            0            0            0            0            1   \n",
       "66            0            0            0            0            0   \n",
       "79            0            0            0            0            0   \n",
       "120           0            0            1            0            0   \n",
       "188           0            0            0            0            1   \n",
       "\n",
       "     clarity_VVS1  clarity_VVS2  \n",
       "49              0             0  \n",
       "66              0             1  \n",
       "79              0             1  \n",
       "120             0             0  \n",
       "188             0             0  "
      ]
     },
     "execution_count": 16,
     "metadata": {},
     "output_type": "execute_result"
    }
   ],
   "source": [
    "X_cat_enc = pd.get_dummies(X_cat)\n",
    "X_cat_enc.head()"
   ]
  },
  {
   "cell_type": "markdown",
   "metadata": {},
   "source": [
    "### Oridnal\n",
    "Encode categorical features as ordinal rank for each category."
   ]
  },
  {
   "cell_type": "code",
   "execution_count": 17,
   "metadata": {},
   "outputs": [],
   "source": [
    "X_cat_ord = X_cat.copy()"
   ]
  },
  {
   "cell_type": "code",
   "execution_count": 18,
   "metadata": {},
   "outputs": [],
   "source": [
    "cut_ord = ['Fair', 'Good', 'Very Good', 'Premium', 'Ideal']\n",
    "color_ord = ['J', 'I', 'H', 'G', 'F', 'E', 'D']\n",
    "clarity_ord = ['I1', 'SI2', 'SI1', 'VS2', 'VS1', 'VVS2', 'VVS1', 'IF']\n",
    "ord_list = [cut_ord, color_ord, clarity_ord]"
   ]
  },
  {
   "cell_type": "code",
   "execution_count": 19,
   "metadata": {},
   "outputs": [],
   "source": [
    "# replace string feature labels with ordinal values\n",
    "for i, column in enumerate(X_cat_ord.columns):\n",
    "    \n",
    "    # create label dictionary for each categorical feature\n",
    "    label_dict = {}\n",
    "    for j, label in enumerate(ord_list[i]):\n",
    "        # map each label to ordinal value\n",
    "        label_dict[label] = j\n",
    "    \n",
    "    # replace feature labels with ordinal values\n",
    "    X_cat_ord[column] = X_cat_ord[column].map(label_dict)"
   ]
  },
  {
   "cell_type": "code",
   "execution_count": 20,
   "metadata": {},
   "outputs": [
    {
     "data": {
      "text/html": [
       "<div>\n",
       "<style scoped>\n",
       "    .dataframe tbody tr th:only-of-type {\n",
       "        vertical-align: middle;\n",
       "    }\n",
       "\n",
       "    .dataframe tbody tr th {\n",
       "        vertical-align: top;\n",
       "    }\n",
       "\n",
       "    .dataframe thead th {\n",
       "        text-align: right;\n",
       "    }\n",
       "</style>\n",
       "<table border=\"1\" class=\"dataframe\">\n",
       "  <thead>\n",
       "    <tr style=\"text-align: right;\">\n",
       "      <th></th>\n",
       "      <th>cut</th>\n",
       "      <th>color</th>\n",
       "      <th>clarity</th>\n",
       "    </tr>\n",
       "  </thead>\n",
       "  <tbody>\n",
       "    <tr>\n",
       "      <th>49</th>\n",
       "      <td>Very Good</td>\n",
       "      <td>E</td>\n",
       "      <td>VS2</td>\n",
       "    </tr>\n",
       "    <tr>\n",
       "      <th>66</th>\n",
       "      <td>Ideal</td>\n",
       "      <td>G</td>\n",
       "      <td>VVS2</td>\n",
       "    </tr>\n",
       "    <tr>\n",
       "      <th>79</th>\n",
       "      <td>Very Good</td>\n",
       "      <td>D</td>\n",
       "      <td>VVS2</td>\n",
       "    </tr>\n",
       "    <tr>\n",
       "      <th>120</th>\n",
       "      <td>Ideal</td>\n",
       "      <td>F</td>\n",
       "      <td>SI2</td>\n",
       "    </tr>\n",
       "    <tr>\n",
       "      <th>188</th>\n",
       "      <td>Premium</td>\n",
       "      <td>F</td>\n",
       "      <td>VS2</td>\n",
       "    </tr>\n",
       "  </tbody>\n",
       "</table>\n",
       "</div>"
      ],
      "text/plain": [
       "           cut color clarity\n",
       "49   Very Good     E     VS2\n",
       "66       Ideal     G    VVS2\n",
       "79   Very Good     D    VVS2\n",
       "120      Ideal     F     SI2\n",
       "188    Premium     F     VS2"
      ]
     },
     "execution_count": 20,
     "metadata": {},
     "output_type": "execute_result"
    }
   ],
   "source": [
    "X_cat.head()"
   ]
  },
  {
   "cell_type": "code",
   "execution_count": 21,
   "metadata": {},
   "outputs": [
    {
     "data": {
      "text/html": [
       "<div>\n",
       "<style scoped>\n",
       "    .dataframe tbody tr th:only-of-type {\n",
       "        vertical-align: middle;\n",
       "    }\n",
       "\n",
       "    .dataframe tbody tr th {\n",
       "        vertical-align: top;\n",
       "    }\n",
       "\n",
       "    .dataframe thead th {\n",
       "        text-align: right;\n",
       "    }\n",
       "</style>\n",
       "<table border=\"1\" class=\"dataframe\">\n",
       "  <thead>\n",
       "    <tr style=\"text-align: right;\">\n",
       "      <th></th>\n",
       "      <th>cut</th>\n",
       "      <th>color</th>\n",
       "      <th>clarity</th>\n",
       "    </tr>\n",
       "  </thead>\n",
       "  <tbody>\n",
       "    <tr>\n",
       "      <th>49</th>\n",
       "      <td>2</td>\n",
       "      <td>5</td>\n",
       "      <td>3</td>\n",
       "    </tr>\n",
       "    <tr>\n",
       "      <th>66</th>\n",
       "      <td>4</td>\n",
       "      <td>3</td>\n",
       "      <td>5</td>\n",
       "    </tr>\n",
       "    <tr>\n",
       "      <th>79</th>\n",
       "      <td>2</td>\n",
       "      <td>6</td>\n",
       "      <td>5</td>\n",
       "    </tr>\n",
       "    <tr>\n",
       "      <th>120</th>\n",
       "      <td>4</td>\n",
       "      <td>4</td>\n",
       "      <td>1</td>\n",
       "    </tr>\n",
       "    <tr>\n",
       "      <th>188</th>\n",
       "      <td>3</td>\n",
       "      <td>4</td>\n",
       "      <td>3</td>\n",
       "    </tr>\n",
       "  </tbody>\n",
       "</table>\n",
       "</div>"
      ],
      "text/plain": [
       "     cut  color  clarity\n",
       "49     2      5        3\n",
       "66     4      3        5\n",
       "79     2      6        5\n",
       "120    4      4        1\n",
       "188    3      4        3"
      ]
     },
     "execution_count": 21,
     "metadata": {},
     "output_type": "execute_result"
    }
   ],
   "source": [
    "X_cat_ord.head()"
   ]
  },
  {
   "cell_type": "markdown",
   "metadata": {},
   "source": [
    "## Combine Numerical and Categorical Features"
   ]
  },
  {
   "cell_type": "code",
   "execution_count": 22,
   "metadata": {},
   "outputs": [
    {
     "data": {
      "text/html": [
       "<div>\n",
       "<style scoped>\n",
       "    .dataframe tbody tr th:only-of-type {\n",
       "        vertical-align: middle;\n",
       "    }\n",
       "\n",
       "    .dataframe tbody tr th {\n",
       "        vertical-align: top;\n",
       "    }\n",
       "\n",
       "    .dataframe thead th {\n",
       "        text-align: right;\n",
       "    }\n",
       "</style>\n",
       "<table border=\"1\" class=\"dataframe\">\n",
       "  <thead>\n",
       "    <tr style=\"text-align: right;\">\n",
       "      <th></th>\n",
       "      <th>carat</th>\n",
       "      <th>depth</th>\n",
       "      <th>table</th>\n",
       "      <th>x</th>\n",
       "      <th>y</th>\n",
       "      <th>cut_Fair</th>\n",
       "      <th>cut_Good</th>\n",
       "      <th>cut_Ideal</th>\n",
       "      <th>cut_Premium</th>\n",
       "      <th>cut_Very Good</th>\n",
       "      <th>...</th>\n",
       "      <th>color_I</th>\n",
       "      <th>color_J</th>\n",
       "      <th>clarity_I1</th>\n",
       "      <th>clarity_IF</th>\n",
       "      <th>clarity_SI1</th>\n",
       "      <th>clarity_SI2</th>\n",
       "      <th>clarity_VS1</th>\n",
       "      <th>clarity_VS2</th>\n",
       "      <th>clarity_VVS1</th>\n",
       "      <th>clarity_VVS2</th>\n",
       "    </tr>\n",
       "  </thead>\n",
       "  <tbody>\n",
       "    <tr>\n",
       "      <th>49</th>\n",
       "      <td>0.25</td>\n",
       "      <td>63.3</td>\n",
       "      <td>60.0</td>\n",
       "      <td>4.00</td>\n",
       "      <td>4.03</td>\n",
       "      <td>0</td>\n",
       "      <td>0</td>\n",
       "      <td>0</td>\n",
       "      <td>0</td>\n",
       "      <td>1</td>\n",
       "      <td>...</td>\n",
       "      <td>0</td>\n",
       "      <td>0</td>\n",
       "      <td>0</td>\n",
       "      <td>0</td>\n",
       "      <td>0</td>\n",
       "      <td>0</td>\n",
       "      <td>0</td>\n",
       "      <td>1</td>\n",
       "      <td>0</td>\n",
       "      <td>0</td>\n",
       "    </tr>\n",
       "    <tr>\n",
       "      <th>66</th>\n",
       "      <td>0.28</td>\n",
       "      <td>61.4</td>\n",
       "      <td>56.0</td>\n",
       "      <td>4.19</td>\n",
       "      <td>4.22</td>\n",
       "      <td>0</td>\n",
       "      <td>0</td>\n",
       "      <td>1</td>\n",
       "      <td>0</td>\n",
       "      <td>0</td>\n",
       "      <td>...</td>\n",
       "      <td>0</td>\n",
       "      <td>0</td>\n",
       "      <td>0</td>\n",
       "      <td>0</td>\n",
       "      <td>0</td>\n",
       "      <td>0</td>\n",
       "      <td>0</td>\n",
       "      <td>0</td>\n",
       "      <td>0</td>\n",
       "      <td>1</td>\n",
       "    </tr>\n",
       "    <tr>\n",
       "      <th>79</th>\n",
       "      <td>0.26</td>\n",
       "      <td>62.8</td>\n",
       "      <td>60.0</td>\n",
       "      <td>4.01</td>\n",
       "      <td>4.05</td>\n",
       "      <td>0</td>\n",
       "      <td>0</td>\n",
       "      <td>0</td>\n",
       "      <td>0</td>\n",
       "      <td>1</td>\n",
       "      <td>...</td>\n",
       "      <td>0</td>\n",
       "      <td>0</td>\n",
       "      <td>0</td>\n",
       "      <td>0</td>\n",
       "      <td>0</td>\n",
       "      <td>0</td>\n",
       "      <td>0</td>\n",
       "      <td>0</td>\n",
       "      <td>0</td>\n",
       "      <td>1</td>\n",
       "    </tr>\n",
       "    <tr>\n",
       "      <th>120</th>\n",
       "      <td>0.80</td>\n",
       "      <td>59.9</td>\n",
       "      <td>59.0</td>\n",
       "      <td>6.01</td>\n",
       "      <td>6.07</td>\n",
       "      <td>0</td>\n",
       "      <td>0</td>\n",
       "      <td>1</td>\n",
       "      <td>0</td>\n",
       "      <td>0</td>\n",
       "      <td>...</td>\n",
       "      <td>0</td>\n",
       "      <td>0</td>\n",
       "      <td>0</td>\n",
       "      <td>0</td>\n",
       "      <td>0</td>\n",
       "      <td>1</td>\n",
       "      <td>0</td>\n",
       "      <td>0</td>\n",
       "      <td>0</td>\n",
       "      <td>0</td>\n",
       "    </tr>\n",
       "    <tr>\n",
       "      <th>188</th>\n",
       "      <td>0.71</td>\n",
       "      <td>62.1</td>\n",
       "      <td>58.0</td>\n",
       "      <td>5.67</td>\n",
       "      <td>5.70</td>\n",
       "      <td>0</td>\n",
       "      <td>0</td>\n",
       "      <td>0</td>\n",
       "      <td>1</td>\n",
       "      <td>0</td>\n",
       "      <td>...</td>\n",
       "      <td>0</td>\n",
       "      <td>0</td>\n",
       "      <td>0</td>\n",
       "      <td>0</td>\n",
       "      <td>0</td>\n",
       "      <td>0</td>\n",
       "      <td>0</td>\n",
       "      <td>1</td>\n",
       "      <td>0</td>\n",
       "      <td>0</td>\n",
       "    </tr>\n",
       "  </tbody>\n",
       "</table>\n",
       "<p>5 rows × 25 columns</p>\n",
       "</div>"
      ],
      "text/plain": [
       "     carat  depth  table     x     y  cut_Fair  cut_Good  cut_Ideal  \\\n",
       "49    0.25   63.3   60.0  4.00  4.03         0         0          0   \n",
       "66    0.28   61.4   56.0  4.19  4.22         0         0          1   \n",
       "79    0.26   62.8   60.0  4.01  4.05         0         0          0   \n",
       "120   0.80   59.9   59.0  6.01  6.07         0         0          1   \n",
       "188   0.71   62.1   58.0  5.67  5.70         0         0          0   \n",
       "\n",
       "     cut_Premium  cut_Very Good      ...       color_I  color_J  clarity_I1  \\\n",
       "49             0              1      ...             0        0           0   \n",
       "66             0              0      ...             0        0           0   \n",
       "79             0              1      ...             0        0           0   \n",
       "120            0              0      ...             0        0           0   \n",
       "188            1              0      ...             0        0           0   \n",
       "\n",
       "     clarity_IF  clarity_SI1  clarity_SI2  clarity_VS1  clarity_VS2  \\\n",
       "49            0            0            0            0            1   \n",
       "66            0            0            0            0            0   \n",
       "79            0            0            0            0            0   \n",
       "120           0            0            1            0            0   \n",
       "188           0            0            0            0            1   \n",
       "\n",
       "     clarity_VVS1  clarity_VVS2  \n",
       "49              0             0  \n",
       "66              0             1  \n",
       "79              0             1  \n",
       "120             0             0  \n",
       "188             0             0  \n",
       "\n",
       "[5 rows x 25 columns]"
      ]
     },
     "execution_count": 22,
     "metadata": {},
     "output_type": "execute_result"
    }
   ],
   "source": [
    "X = pd.concat([X_num, X_cat_enc], axis=1)\n",
    "X.head()"
   ]
  },
  {
   "cell_type": "markdown",
   "metadata": {},
   "source": [
    "## Test/Train Split"
   ]
  },
  {
   "cell_type": "code",
   "execution_count": 23,
   "metadata": {},
   "outputs": [],
   "source": [
    "X_train, X_test, y_train, y_test = train_test_split(X, y, test_size=0.2, random_state=42)"
   ]
  },
  {
   "cell_type": "markdown",
   "metadata": {},
   "source": [
    "# Modeling"
   ]
  },
  {
   "cell_type": "code",
   "execution_count": 24,
   "metadata": {
    "scrolled": true
   },
   "outputs": [],
   "source": [
    "lr = LinearRegression()"
   ]
  },
  {
   "cell_type": "markdown",
   "metadata": {},
   "source": [
    "## Initial Model"
   ]
  },
  {
   "cell_type": "code",
   "execution_count": 25,
   "metadata": {},
   "outputs": [
    {
     "data": {
      "text/plain": [
       "0.9311490349026535"
      ]
     },
     "execution_count": 25,
     "metadata": {},
     "output_type": "execute_result"
    }
   ],
   "source": [
    "lr.fit(X_train, y_train)\n",
    "lr.score(X_train, y_train)"
   ]
  },
  {
   "cell_type": "markdown",
   "metadata": {},
   "source": [
    "## Cross-validation"
   ]
  },
  {
   "cell_type": "code",
   "execution_count": 26,
   "metadata": {},
   "outputs": [
    {
     "data": {
      "text/plain": [
       "0.9261137114096483"
      ]
     },
     "execution_count": 26,
     "metadata": {},
     "output_type": "execute_result"
    }
   ],
   "source": [
    "np.mean(cross_val_score(lr, X_train, y_train, cv=10))"
   ]
  },
  {
   "cell_type": "markdown",
   "metadata": {},
   "source": [
    "## Evaluation"
   ]
  },
  {
   "cell_type": "code",
   "execution_count": 27,
   "metadata": {},
   "outputs": [
    {
     "data": {
      "text/plain": [
       "0.9054174116393326"
      ]
     },
     "execution_count": 27,
     "metadata": {},
     "output_type": "execute_result"
    }
   ],
   "source": [
    "lr.score(X_test, y_test)"
   ]
  },
  {
   "cell_type": "markdown",
   "metadata": {},
   "source": [
    "### Accuracy"
   ]
  },
  {
   "cell_type": "code",
   "execution_count": 28,
   "metadata": {},
   "outputs": [],
   "source": [
    "predictions = lr.predict(X_test)"
   ]
  },
  {
   "cell_type": "code",
   "execution_count": 29,
   "metadata": {},
   "outputs": [
    {
     "data": {
      "image/png": "[encoded data removed]",
      "text/plain": [
       "<Figure size 432x288 with 1 Axes>"
      ]
     },
     "metadata": {},
     "output_type": "display_data"
    }
   ],
   "source": [
    "plt.scatter(y_test, predictions);"
   ]
  },
  {
   "cell_type": "markdown",
   "metadata": {},
   "source": [
    "**Plot shows some curvature as opposed to a straight line**"
   ]
  },
  {
   "cell_type": "markdown",
   "metadata": {},
   "source": [
    "### Residuals"
   ]
  },
  {
   "cell_type": "code",
   "execution_count": 30,
   "metadata": {},
   "outputs": [],
   "source": [
    "residuals = y_test - predictions"
   ]
  },
  {
   "cell_type": "code",
   "execution_count": 31,
   "metadata": {},
   "outputs": [
    {
     "data": {
      "image/png": "[encoded data removed]",
      "text/plain": [
       "<Figure size 432x288 with 1 Axes>"
      ]
     },
     "metadata": {},
     "output_type": "display_data"
    }
   ],
   "source": [
    "plt.scatter(predictions, residuals);"
   ]
  },
  {
   "cell_type": "markdown",
   "metadata": {},
   "source": [
    "**Plot shows lower bound due to target distribution (log-normal)**"
   ]
  },
  {
   "cell_type": "markdown",
   "metadata": {},
   "source": [
    "### Q-Q Plot"
   ]
  },
  {
   "cell_type": "code",
   "execution_count": 32,
   "metadata": {},
   "outputs": [
    {
     "data": {
      "image/png": "[encoded data removed]",
      "text/plain": [
       "<Figure size 432x288 with 1 Axes>"
      ]
     },
     "metadata": {},
     "output_type": "display_data"
    }
   ],
   "source": [
    "stats.probplot(residuals, dist=\"norm\", plot=plt);"
   ]
  },
  {
   "cell_type": "markdown",
   "metadata": {},
   "source": [
    "**Points are bowed around red line indicating non-normal distribution of residuals**"
   ]
  },
  {
   "cell_type": "markdown",
   "metadata": {},
   "source": [
    "# Model Refinement"
   ]
  },
  {
   "cell_type": "markdown",
   "metadata": {},
   "source": [
    "## Scaled Model\n",
    "Transform all features to same scale."
   ]
  },
  {
   "cell_type": "code",
   "execution_count": 33,
   "metadata": {},
   "outputs": [],
   "source": [
    "# use pipeline to streamline input parameters\n",
    "lr_pipe = Pipeline([\n",
    "    ('scaler', MinMaxScaler()),\n",
    "    ('model', LinearRegression())\n",
    "])"
   ]
  },
  {
   "cell_type": "code",
   "execution_count": 34,
   "metadata": {},
   "outputs": [
    {
     "data": {
      "text/plain": [
       "0.9311490349026535"
      ]
     },
     "execution_count": 34,
     "metadata": {},
     "output_type": "execute_result"
    }
   ],
   "source": [
    "lr_pipe.fit(X_train, y_train)\n",
    "lr_pipe.score(X_train, y_train)"
   ]
  },
  {
   "cell_type": "code",
   "execution_count": 35,
   "metadata": {},
   "outputs": [
    {
     "data": {
      "text/plain": [
       "0.9261983733240566"
      ]
     },
     "execution_count": 35,
     "metadata": {},
     "output_type": "execute_result"
    }
   ],
   "source": [
    "np.mean(cross_val_score(lr_pipe, X_train, y_train, cv=10))"
   ]
  },
  {
   "cell_type": "code",
   "execution_count": 36,
   "metadata": {},
   "outputs": [
    {
     "name": "stdout",
     "output_type": "stream",
     "text": [
      "R-squared: 0.9054174116393325\n"
     ]
    },
    {
     "data": {
      "image/png": "[encoded data removed]",
      "text/plain": [
       "<Figure size 504x1440 with 3 Axes>"
      ]
     },
     "metadata": {},
     "output_type": "display_data"
    }
   ],
   "source": [
    "lr_eval(lr_pipe, X_test, y_test)"
   ]
  },
  {
   "cell_type": "markdown",
   "metadata": {},
   "source": [
    "**No difference in score or plots**"
   ]
  },
  {
   "cell_type": "markdown",
   "metadata": {},
   "source": [
    "## Log Transform of Feature Variable\n",
    "Transform feature with apparent log-normal distribution to log scale."
   ]
  },
  {
   "cell_type": "code",
   "execution_count": 37,
   "metadata": {},
   "outputs": [
    {
     "data": {
      "image/png": "[encoded data removed]",
      "text/plain": [
       "<Figure size 432x288 with 1 Axes>"
      ]
     },
     "metadata": {},
     "output_type": "display_data"
    }
   ],
   "source": [
    "# feature disrtibution\n",
    "plt.hist(X_train['carat']);"
   ]
  },
  {
   "cell_type": "code",
   "execution_count": 38,
   "metadata": {},
   "outputs": [],
   "source": [
    "# transform feature to log-scale\n",
    "X_train_ln = X_train.copy()\n",
    "X_train_ln['carat'] = X_train_ln['carat'].apply(np.log)\n",
    "X_test_ln = X_test.copy()\n",
    "X_test_ln['carat'] = X_test_ln['carat'].apply(np.log)"
   ]
  },
  {
   "cell_type": "code",
   "execution_count": 39,
   "metadata": {},
   "outputs": [
    {
     "data": {
      "image/png": "[encoded data removed]",
      "text/plain": [
       "<Figure size 432x288 with 1 Axes>"
      ]
     },
     "metadata": {},
     "output_type": "display_data"
    }
   ],
   "source": [
    "# transformed feature distribution\n",
    "plt.hist(X_train_ln['carat']);"
   ]
  },
  {
   "cell_type": "markdown",
   "metadata": {},
   "source": [
    "### Model"
   ]
  },
  {
   "cell_type": "code",
   "execution_count": 40,
   "metadata": {},
   "outputs": [],
   "source": [
    "lr_pipe = Pipeline([\n",
    "    ('scaler', MinMaxScaler()),\n",
    "    ('model', LinearRegression())\n",
    "])"
   ]
  },
  {
   "cell_type": "code",
   "execution_count": 41,
   "metadata": {},
   "outputs": [
    {
     "data": {
      "text/plain": [
       "0.9277530001365788"
      ]
     },
     "execution_count": 41,
     "metadata": {},
     "output_type": "execute_result"
    }
   ],
   "source": [
    "lr_pipe.fit(X_train_ln, y_train)\n",
    "lr_pipe.score(X_train_ln, y_train)"
   ]
  },
  {
   "cell_type": "code",
   "execution_count": 42,
   "metadata": {},
   "outputs": [
    {
     "data": {
      "text/plain": [
       "0.9238130589225074"
      ]
     },
     "execution_count": 42,
     "metadata": {},
     "output_type": "execute_result"
    }
   ],
   "source": [
    "np.mean(cross_val_score(lr_pipe, X_train_ln, y_train, cv=10))"
   ]
  },
  {
   "cell_type": "code",
   "execution_count": 43,
   "metadata": {},
   "outputs": [
    {
     "name": "stdout",
     "output_type": "stream",
     "text": [
      "R-squared: 0.8448333221773431\n"
     ]
    },
    {
     "data": {
      "image/png": "[encoded data removed]",
      "text/plain": [
       "<Figure size 504x1440 with 3 Axes>"
      ]
     },
     "metadata": {},
     "output_type": "display_data"
    }
   ],
   "source": [
    "lr_eval(lr_pipe, X_test_ln, y_test)"
   ]
  },
  {
   "cell_type": "markdown",
   "metadata": {},
   "source": [
    "**Test accuracy is lower than original model.  \n",
    "Residual plot shows hard lower bound.  \n",
    "Q-Q plot shows bowing but is improved from original model.**"
   ]
  },
  {
   "cell_type": "markdown",
   "metadata": {},
   "source": [
    "## Log Transform of Target Variable\n",
    "Transform target variable with apparent log-normal distribution to log scale."
   ]
  },
  {
   "cell_type": "code",
   "execution_count": 44,
   "metadata": {},
   "outputs": [
    {
     "data": {
      "image/png": "[encoded data removed]",
      "text/plain": [
       "<Figure size 432x288 with 1 Axes>"
      ]
     },
     "metadata": {},
     "output_type": "display_data"
    }
   ],
   "source": [
    "# target distribution\n",
    "plt.hist(y_train);"
   ]
  },
  {
   "cell_type": "code",
   "execution_count": 45,
   "metadata": {},
   "outputs": [],
   "source": [
    "# transform target to log-scale\n",
    "y_train_ln = np.log(y_train)\n",
    "y_test_ln = np.log(y_test)"
   ]
  },
  {
   "cell_type": "code",
   "execution_count": 46,
   "metadata": {},
   "outputs": [
    {
     "data": {
      "image/png": "[encoded data removed]",
      "text/plain": [
       "<Figure size 432x288 with 1 Axes>"
      ]
     },
     "metadata": {},
     "output_type": "display_data"
    }
   ],
   "source": [
    "# transformed distribution\n",
    "plt.hist(y_train_ln);"
   ]
  },
  {
   "cell_type": "markdown",
   "metadata": {},
   "source": [
    "### Model"
   ]
  },
  {
   "cell_type": "code",
   "execution_count": 47,
   "metadata": {},
   "outputs": [],
   "source": [
    "lr_pipe = Pipeline([\n",
    "    ('scaler', MinMaxScaler()),\n",
    "    ('model', LinearRegression())\n",
    "])"
   ]
  },
  {
   "cell_type": "code",
   "execution_count": 48,
   "metadata": {},
   "outputs": [
    {
     "data": {
      "text/plain": [
       "0.9838526994234724"
      ]
     },
     "execution_count": 48,
     "metadata": {},
     "output_type": "execute_result"
    }
   ],
   "source": [
    "lr_pipe.fit(X_train, y_train_ln)\n",
    "lr_pipe.score(X_train, y_train_ln)"
   ]
  },
  {
   "cell_type": "code",
   "execution_count": 49,
   "metadata": {},
   "outputs": [
    {
     "data": {
      "text/plain": [
       "0.9831420703981365"
      ]
     },
     "execution_count": 49,
     "metadata": {},
     "output_type": "execute_result"
    }
   ],
   "source": [
    "np.mean(cross_val_score(lr_pipe, X_train, y_train_ln, cv=10))"
   ]
  },
  {
   "cell_type": "code",
   "execution_count": 50,
   "metadata": {},
   "outputs": [
    {
     "name": "stdout",
     "output_type": "stream",
     "text": [
      "R-squared: 0.9738929332263593\n"
     ]
    },
    {
     "data": {
      "image/png": "[encoded data removed]",
      "text/plain": [
       "<Figure size 504x1440 with 3 Axes>"
      ]
     },
     "metadata": {},
     "output_type": "display_data"
    }
   ],
   "source": [
    "lr_eval(lr_pipe, X_test, y_test_ln)"
   ]
  },
  {
   "cell_type": "markdown",
   "metadata": {},
   "source": [
    "**Test score shows significant improvement compared with original model.  \n",
    "Plots show significant improvement of model fit.**"
   ]
  },
  {
   "cell_type": "markdown",
   "metadata": {},
   "source": [
    "## Select Best Features\n",
    "Select optimal features for model performance."
   ]
  },
  {
   "cell_type": "code",
   "execution_count": 51,
   "metadata": {},
   "outputs": [],
   "source": [
    "# set initial k value\n",
    "k_0 = 1\n",
    "# input score method and number of features for selector\n",
    "feat_selector = feature_selection.SelectKBest(score_func=feature_selection.f_regression, k=k_0)"
   ]
  },
  {
   "cell_type": "code",
   "execution_count": 52,
   "metadata": {},
   "outputs": [],
   "source": [
    "lr_pipe = Pipeline([\n",
    "    ('scaler', MinMaxScaler()),\n",
    "    ('kbest', feat_selector),\n",
    "    ('model', LinearRegression())\n",
    "])"
   ]
  },
  {
   "cell_type": "code",
   "execution_count": 53,
   "metadata": {},
   "outputs": [],
   "source": [
    "lr_pipe.fit(X_train, y_train)\n",
    "# score using initial k features\n",
    "max_test_score = lr_pipe.score(X_test, y_test)\n",
    "best_k = k_0\n",
    "\n",
    "# input range for number of features\n",
    "k_range = range(1, len(X.columns)+1)\n",
    "train_scores = []\n",
    "test_scores = []\n",
    "\n",
    "# iterate through different number of features\n",
    "for k in k_range:\n",
    "    \n",
    "    # input k value into feature selector within pipeline\n",
    "    lr_pipe.set_params(kbest__k=k)\n",
    "    # run cross validated model on pipeline\n",
    "    cv_mod = cross_validate(lr_pipe, X_train, y_train, cv=10, return_train_score=True)\n",
    "    # record score for cv training set\n",
    "    train_scores.append(np.mean(cv_mod['train_score']))\n",
    "    # record score for cv test set\n",
    "    test_scores.append(np.mean(cv_mod['test_score']))\n",
    "    \n",
    "    # check if current cv test score > than current highest\n",
    "    if np.mean(cv_mod['test_score']) > max_test_score:\n",
    "        # update best test score\n",
    "        max_test_score = np.mean(cv_mod['test_score'])\n",
    "        # update best k value\n",
    "        best_k = k"
   ]
  },
  {
   "cell_type": "code",
   "execution_count": 54,
   "metadata": {},
   "outputs": [
    {
     "name": "stdout",
     "output_type": "stream",
     "text": [
      "Optimal No. Features: 25\n"
     ]
    },
    {
     "data": {
      "image/png": "[encoded data removed]",
      "text/plain": [
       "<Figure size 432x288 with 1 Axes>"
      ]
     },
     "metadata": {},
     "output_type": "display_data"
    }
   ],
   "source": [
    "print('Optimal No. Features:', best_k)\n",
    "plt.scatter(k_range, train_scores, label='train')\n",
    "plt.scatter(k_range, test_scores, label='test')\n",
    "plt.scatter(best_k, max_test_score, marker='X')\n",
    "plt.legend();"
   ]
  },
  {
   "cell_type": "markdown",
   "metadata": {},
   "source": [
    "**Using all features gives best performance**"
   ]
  },
  {
   "cell_type": "markdown",
   "metadata": {},
   "source": [
    "### Model"
   ]
  },
  {
   "cell_type": "code",
   "execution_count": 55,
   "metadata": {},
   "outputs": [
    {
     "data": {
      "text/plain": [
       "0.9311490349026535"
      ]
     },
     "execution_count": 55,
     "metadata": {},
     "output_type": "execute_result"
    }
   ],
   "source": [
    "lr_pipe.set_params(kbest__k=best_k)\n",
    "lr_pipe.fit(X_train, y_train)\n",
    "lr_pipe.score(X_train, y_train)"
   ]
  },
  {
   "cell_type": "code",
   "execution_count": 56,
   "metadata": {},
   "outputs": [
    {
     "data": {
      "text/plain": [
       "0.9261983733240566"
      ]
     },
     "execution_count": 56,
     "metadata": {},
     "output_type": "execute_result"
    }
   ],
   "source": [
    "np.mean(cross_val_score(lr_pipe, X_train, y_train, cv=10))"
   ]
  },
  {
   "cell_type": "code",
   "execution_count": 57,
   "metadata": {},
   "outputs": [
    {
     "name": "stdout",
     "output_type": "stream",
     "text": [
      "R-squared: 0.9054174116393325\n"
     ]
    },
    {
     "data": {
      "image/png": "[encoded data removed]",
      "text/plain": [
       "<Figure size 504x1440 with 3 Axes>"
      ]
     },
     "metadata": {},
     "output_type": "display_data"
    }
   ],
   "source": [
    "lr_eval(lr_pipe, X_test, y_test)"
   ]
  },
  {
   "cell_type": "markdown",
   "metadata": {},
   "source": [
    "**Same model as before: No difference in score or plots**"
   ]
  },
  {
   "cell_type": "markdown",
   "metadata": {},
   "source": [
    "### Feature Interpretation"
   ]
  },
  {
   "cell_type": "code",
   "execution_count": 58,
   "metadata": {},
   "outputs": [
    {
     "data": {
      "text/plain": [
       "Index(['carat', 'depth', 'table', 'x', 'y', 'cut_Fair', 'cut_Good',\n",
       "       'cut_Ideal', 'cut_Premium', 'cut_Very Good', 'color_D', 'color_E',\n",
       "       'color_F', 'color_G', 'color_H', 'color_I', 'color_J', 'clarity_I1',\n",
       "       'clarity_IF', 'clarity_SI1', 'clarity_SI2', 'clarity_VS1',\n",
       "       'clarity_VS2', 'clarity_VVS1', 'clarity_VVS2'],\n",
       "      dtype='object')"
      ]
     },
     "execution_count": 58,
     "metadata": {},
     "output_type": "execute_result"
    }
   ],
   "source": [
    "# list of optimal feature labels\n",
    "X.columns[lr_pipe.named_steps['kbest'].get_support()]"
   ]
  },
  {
   "cell_type": "code",
   "execution_count": 59,
   "metadata": {},
   "outputs": [
    {
     "data": {
      "text/plain": [
       "array([9.96916491e+03, 5.91962432e+00, 2.15686152e+01, 6.19407796e+03,\n",
       "       6.37818933e+03, 6.66758491e-02, 3.92502625e-01, 4.28939389e+00,\n",
       "       2.14568248e+00, 2.20235003e+00, 6.02974830e+00, 1.28509634e+01,\n",
       "       6.37046877e+00, 7.54704903e-02, 1.02340204e+01, 1.28151917e+01,\n",
       "       1.16212321e+01, 1.01958024e-01, 5.96795448e+00, 2.74490538e-02,\n",
       "       6.71878300e+01, 1.36079846e+00, 1.63222001e+00, 1.58276210e+01,\n",
       "       5.76272848e+00])"
      ]
     },
     "execution_count": 59,
     "metadata": {},
     "output_type": "execute_result"
    }
   ],
   "source": [
    "# score of each feature\n",
    "lr_pipe.named_steps['kbest'].scores_"
   ]
  },
  {
   "cell_type": "code",
   "execution_count": 60,
   "metadata": {},
   "outputs": [
    {
     "data": {
      "text/html": [
       "<div>\n",
       "<style scoped>\n",
       "    .dataframe tbody tr th:only-of-type {\n",
       "        vertical-align: middle;\n",
       "    }\n",
       "\n",
       "    .dataframe tbody tr th {\n",
       "        vertical-align: top;\n",
       "    }\n",
       "\n",
       "    .dataframe thead th {\n",
       "        text-align: right;\n",
       "    }\n",
       "</style>\n",
       "<table border=\"1\" class=\"dataframe\">\n",
       "  <thead>\n",
       "    <tr style=\"text-align: right;\">\n",
       "      <th></th>\n",
       "      <th>Feature Score</th>\n",
       "    </tr>\n",
       "  </thead>\n",
       "  <tbody>\n",
       "    <tr>\n",
       "      <th>carat</th>\n",
       "      <td>9969.164910</td>\n",
       "    </tr>\n",
       "    <tr>\n",
       "      <th>depth</th>\n",
       "      <td>5.919624</td>\n",
       "    </tr>\n",
       "    <tr>\n",
       "      <th>table</th>\n",
       "      <td>21.568615</td>\n",
       "    </tr>\n",
       "    <tr>\n",
       "      <th>x</th>\n",
       "      <td>6194.077965</td>\n",
       "    </tr>\n",
       "    <tr>\n",
       "      <th>y</th>\n",
       "      <td>6378.189331</td>\n",
       "    </tr>\n",
       "    <tr>\n",
       "      <th>cut_Fair</th>\n",
       "      <td>0.066676</td>\n",
       "    </tr>\n",
       "    <tr>\n",
       "      <th>cut_Good</th>\n",
       "      <td>0.392503</td>\n",
       "    </tr>\n",
       "    <tr>\n",
       "      <th>cut_Ideal</th>\n",
       "      <td>4.289394</td>\n",
       "    </tr>\n",
       "    <tr>\n",
       "      <th>cut_Premium</th>\n",
       "      <td>2.145682</td>\n",
       "    </tr>\n",
       "    <tr>\n",
       "      <th>cut_Very Good</th>\n",
       "      <td>2.202350</td>\n",
       "    </tr>\n",
       "    <tr>\n",
       "      <th>color_D</th>\n",
       "      <td>6.029748</td>\n",
       "    </tr>\n",
       "    <tr>\n",
       "      <th>color_E</th>\n",
       "      <td>12.850963</td>\n",
       "    </tr>\n",
       "    <tr>\n",
       "      <th>color_F</th>\n",
       "      <td>6.370469</td>\n",
       "    </tr>\n",
       "    <tr>\n",
       "      <th>color_G</th>\n",
       "      <td>0.075470</td>\n",
       "    </tr>\n",
       "    <tr>\n",
       "      <th>color_H</th>\n",
       "      <td>10.234020</td>\n",
       "    </tr>\n",
       "    <tr>\n",
       "      <th>color_I</th>\n",
       "      <td>12.815192</td>\n",
       "    </tr>\n",
       "    <tr>\n",
       "      <th>color_J</th>\n",
       "      <td>11.621232</td>\n",
       "    </tr>\n",
       "    <tr>\n",
       "      <th>clarity_I1</th>\n",
       "      <td>0.101958</td>\n",
       "    </tr>\n",
       "    <tr>\n",
       "      <th>clarity_IF</th>\n",
       "      <td>5.967954</td>\n",
       "    </tr>\n",
       "    <tr>\n",
       "      <th>clarity_SI1</th>\n",
       "      <td>0.027449</td>\n",
       "    </tr>\n",
       "    <tr>\n",
       "      <th>clarity_SI2</th>\n",
       "      <td>67.187830</td>\n",
       "    </tr>\n",
       "    <tr>\n",
       "      <th>clarity_VS1</th>\n",
       "      <td>1.360798</td>\n",
       "    </tr>\n",
       "    <tr>\n",
       "      <th>clarity_VS2</th>\n",
       "      <td>1.632220</td>\n",
       "    </tr>\n",
       "    <tr>\n",
       "      <th>clarity_VVS1</th>\n",
       "      <td>15.827621</td>\n",
       "    </tr>\n",
       "    <tr>\n",
       "      <th>clarity_VVS2</th>\n",
       "      <td>5.762728</td>\n",
       "    </tr>\n",
       "  </tbody>\n",
       "</table>\n",
       "</div>"
      ],
      "text/plain": [
       "               Feature Score\n",
       "carat            9969.164910\n",
       "depth               5.919624\n",
       "table              21.568615\n",
       "x                6194.077965\n",
       "y                6378.189331\n",
       "cut_Fair            0.066676\n",
       "cut_Good            0.392503\n",
       "cut_Ideal           4.289394\n",
       "cut_Premium         2.145682\n",
       "cut_Very Good       2.202350\n",
       "color_D             6.029748\n",
       "color_E            12.850963\n",
       "color_F             6.370469\n",
       "color_G             0.075470\n",
       "color_H            10.234020\n",
       "color_I            12.815192\n",
       "color_J            11.621232\n",
       "clarity_I1          0.101958\n",
       "clarity_IF          5.967954\n",
       "clarity_SI1         0.027449\n",
       "clarity_SI2        67.187830\n",
       "clarity_VS1         1.360798\n",
       "clarity_VS2         1.632220\n",
       "clarity_VVS1       15.827621\n",
       "clarity_VVS2        5.762728"
      ]
     },
     "execution_count": 60,
     "metadata": {},
     "output_type": "execute_result"
    }
   ],
   "source": [
    "pd.DataFrame(lr_pipe.named_steps['kbest'].scores_, index=X.columns, columns=['Feature Score'])"
   ]
  },
  {
   "cell_type": "markdown",
   "metadata": {},
   "source": [
    "## Polynomial Transformation of Feature Variables\n",
    "Transform feature data to polynomial features so that it is better able to fit the training data."
   ]
  },
  {
   "cell_type": "code",
   "execution_count": 61,
   "metadata": {},
   "outputs": [],
   "source": [
    "# input initial degree\n",
    "degree_0 = 2"
   ]
  },
  {
   "cell_type": "code",
   "execution_count": 62,
   "metadata": {},
   "outputs": [],
   "source": [
    "lr_pipe = Pipeline([\n",
    "    ('scaler', MinMaxScaler()),\n",
    "    ('poly', PolynomialFeatures(degree=degree_0)),\n",
    "    ('model', LinearRegression())\n",
    "])"
   ]
  },
  {
   "cell_type": "code",
   "execution_count": 63,
   "metadata": {},
   "outputs": [],
   "source": [
    "lr_pipe.fit(X_train, y_train)\n",
    "# score using initial degree value\n",
    "max_test_score = lr_pipe.score(X_test, y_test)\n",
    "best_degree = lr_pipe.named_steps['poly'].degree\n",
    "\n",
    "# input range for degree values\n",
    "deg_range = range(2, 5)\n",
    "train_scores = []\n",
    "test_scores = []\n",
    "\n",
    "# iterate through alpha values\n",
    "for degree in deg_range:\n",
    "    \n",
    "    # input current degeree value into model within pipeline\n",
    "    lr_pipe.set_params(poly__degree=degree)\n",
    "    # run cross validated model on pipeline\n",
    "    cv_mod = cross_validate(lr_pipe, X_train, y_train, cv=10, return_train_score=True)\n",
    "    # record score for cv training set\n",
    "    train_scores.append(np.mean(cv_mod['train_score']))\n",
    "    # record score for dv test set\n",
    "    test_scores.append(np.mean(cv_mod['test_score']))\n",
    "    \n",
    "    # check if current cv test score is > current highest\n",
    "    if np.mean(cv_mod['test_score']) > max_test_score:\n",
    "        # update best test score\n",
    "        max_test_score = np.mean(cv_mod['test_score'])\n",
    "        # update best degree value\n",
    "        best_degree = degree"
   ]
  },
  {
   "cell_type": "code",
   "execution_count": 64,
   "metadata": {
    "scrolled": true
   },
   "outputs": [
    {
     "name": "stdout",
     "output_type": "stream",
     "text": [
      "Optimal Polynomial Degree: 4\n"
     ]
    },
    {
     "data": {
      "image/png": "[encoded data removed]",
      "text/plain": [
       "<Figure size 432x288 with 1 Axes>"
      ]
     },
     "metadata": {},
     "output_type": "display_data"
    }
   ],
   "source": [
    "print('Optimal Polynomial Degree:', best_degree)\n",
    "plt.scatter(deg_range, train_scores, label='train')\n",
    "plt.scatter(deg_range, test_scores, label='test')\n",
    "plt.scatter(best_degree, max_test_score, marker='X')\n",
    "plt.legend();"
   ]
  },
  {
   "cell_type": "markdown",
   "metadata": {},
   "source": [
    "**Best degree determined to be 4.  \n",
    "Degree 3 selected since it also has good performance but will require much less compuing power.**"
   ]
  },
  {
   "cell_type": "code",
   "execution_count": 65,
   "metadata": {},
   "outputs": [],
   "source": [
    "degree = 3"
   ]
  },
  {
   "cell_type": "code",
   "execution_count": 66,
   "metadata": {},
   "outputs": [],
   "source": [
    "lr_pipe = Pipeline([\n",
    "    ('scaler', MinMaxScaler()),\n",
    "    ('poly', PolynomialFeatures(degree=degree)),\n",
    "    ('model', LinearRegression())\n",
    "])"
   ]
  },
  {
   "cell_type": "code",
   "execution_count": 67,
   "metadata": {},
   "outputs": [
    {
     "data": {
      "text/plain": [
       "0.9951377529323292"
      ]
     },
     "execution_count": 67,
     "metadata": {},
     "output_type": "execute_result"
    }
   ],
   "source": [
    "lr_pipe.fit(X_train, y_train)\n",
    "lr_pipe.score(X_train, y_train)"
   ]
  },
  {
   "cell_type": "code",
   "execution_count": 68,
   "metadata": {},
   "outputs": [
    {
     "data": {
      "text/plain": [
       "-4.641447759930986e+16"
      ]
     },
     "execution_count": 68,
     "metadata": {},
     "output_type": "execute_result"
    }
   ],
   "source": [
    "np.mean(cross_val_score(lr_pipe, X_train, y_train, cv=10))"
   ]
  },
  {
   "cell_type": "code",
   "execution_count": 69,
   "metadata": {},
   "outputs": [
    {
     "name": "stdout",
     "output_type": "stream",
     "text": [
      "R-squared: -11710685586632.078\n"
     ]
    },
    {
     "data": {
      "image/png": "[encoded data removed]",
      "text/plain": [
       "<Figure size 504x1440 with 3 Axes>"
      ]
     },
     "metadata": {},
     "output_type": "display_data"
    }
   ],
   "source": [
    "lr_eval(lr_pipe, X_test, y_test)"
   ]
  },
  {
   "cell_type": "markdown",
   "metadata": {},
   "source": [
    "**model is overfit: test score << training score**"
   ]
  },
  {
   "cell_type": "markdown",
   "metadata": {},
   "source": [
    "## Ridge Regularization\n",
    "Regularization is needed due to overfitting."
   ]
  },
  {
   "cell_type": "code",
   "execution_count": 70,
   "metadata": {},
   "outputs": [],
   "source": [
    "degree = 3\n",
    "alpha_0 = 0"
   ]
  },
  {
   "cell_type": "code",
   "execution_count": 71,
   "metadata": {},
   "outputs": [],
   "source": [
    "lr_reg_pipe = Pipeline([\n",
    "    ('scaler', MinMaxScaler()),\n",
    "    ('poly', PolynomialFeatures(degree=degree)),\n",
    "    ('model', linear_model.Ridge(alpha=alpha_0))\n",
    "])"
   ]
  },
  {
   "cell_type": "code",
   "execution_count": 72,
   "metadata": {},
   "outputs": [
    {
     "name": "stderr",
     "output_type": "stream",
     "text": [
      "/home/kevcon/anaconda3/lib/python3.6/site-packages/sklearn/linear_model/ridge.py:154: UserWarning: Singular matrix in solving dual problem. Using least-squares solution instead.\n",
      "  warnings.warn(\"Singular matrix in solving dual problem. Using \"\n"
     ]
    }
   ],
   "source": [
    "lr_reg_pipe.fit(X_train, y_train)\n",
    "# score using initial alpha value\n",
    "max_test_score = lr_reg_pipe.score(X_test, y_test)\n",
    "best_alpha = lr_reg_pipe.named_steps['model'].alpha\n",
    "\n",
    "# input range for alpha values\n",
    "alpha_range = np.linspace(0.001, 10, 10)\n",
    "train_scores = []\n",
    "test_scores = []\n",
    "\n",
    "# iterate through alpha values\n",
    "for alpha in alpha_range:\n",
    "    \n",
    "    # input current alpha value into regularization model within pipeline\n",
    "    lr_reg_pipe.set_params(model__alpha=alpha)\n",
    "    # run cross validated model on pipeline\n",
    "    cv_mod = cross_validate(lr_reg_pipe, X_train, y_train, cv=10, return_train_score=True)\n",
    "    # record score for cv training set\n",
    "    train_scores.append(np.mean(cv_mod['train_score']))\n",
    "    # record score for dv test set\n",
    "    test_scores.append(np.mean(cv_mod['test_score']))\n",
    "    \n",
    "    # check if current cv test score is > current highest\n",
    "    if np.mean(cv_mod['test_score']) > max_test_score:\n",
    "        # update best test score\n",
    "        max_test_score = np.mean(cv_mod['test_score'])\n",
    "        # update best alpha value\n",
    "        best_alpha = alpha"
   ]
  },
  {
   "cell_type": "code",
   "execution_count": 73,
   "metadata": {},
   "outputs": [
    {
     "name": "stdout",
     "output_type": "stream",
     "text": [
      "Optimal Alpha Value: 1.1119999999999999\n"
     ]
    },
    {
     "data": {
      "image/png": "[encoded data removed]",
      "text/plain": [
       "<Figure size 432x288 with 1 Axes>"
      ]
     },
     "metadata": {},
     "output_type": "display_data"
    }
   ],
   "source": [
    "print('Optimal Alpha Value:', best_alpha)\n",
    "plt.scatter(alpha_range, train_scores, label='train')\n",
    "plt.scatter(alpha_range, test_scores, label='test')\n",
    "plt.scatter(best_alpha, max_test_score, marker='X')\n",
    "plt.legend();"
   ]
  },
  {
   "cell_type": "markdown",
   "metadata": {},
   "source": [
    "### Model"
   ]
  },
  {
   "cell_type": "code",
   "execution_count": 74,
   "metadata": {},
   "outputs": [
    {
     "data": {
      "text/plain": [
       "0.9634098876037138"
      ]
     },
     "execution_count": 74,
     "metadata": {},
     "output_type": "execute_result"
    }
   ],
   "source": [
    "lr_reg_pipe.set_params(model__alpha=best_alpha)\n",
    "lr_reg_pipe.fit(X_train, y_train)\n",
    "np.mean(cross_val_score(lr_reg_pipe, X_train, y_train, cv=10))"
   ]
  },
  {
   "cell_type": "code",
   "execution_count": 75,
   "metadata": {},
   "outputs": [
    {
     "name": "stdout",
     "output_type": "stream",
     "text": [
      "R-squared: 0.9588320791738943\n"
     ]
    },
    {
     "data": {
      "image/png": "[encoded data removed]",
      "text/plain": [
       "<Figure size 504x1440 with 3 Axes>"
      ]
     },
     "metadata": {},
     "output_type": "display_data"
    }
   ],
   "source": [
    "lr_eval(lr_reg_pipe, X_test, y_test)"
   ]
  },
  {
   "cell_type": "markdown",
   "metadata": {},
   "source": [
    "**Significant improvement in test score.  \n",
    "Residual plot shows heteroskedasticity.  \n",
    "Q-Q plot shows bowing.**"
   ]
  },
  {
   "cell_type": "markdown",
   "metadata": {},
   "source": [
    "### Cross Validated Regularization"
   ]
  },
  {
   "cell_type": "code",
   "execution_count": 76,
   "metadata": {},
   "outputs": [],
   "source": [
    "alpha_range = np.linspace(0.001, 10, 10)\n",
    "\n",
    "lr_reg_pipe = Pipeline([\n",
    "    ('scaler', MinMaxScaler()),\n",
    "    ('poly', PolynomialFeatures(degree=3)),\n",
    "    ('model', linear_model.RidgeCV(alphas=alpha_range, cv=10, scoring='r2'))\n",
    "])"
   ]
  },
  {
   "cell_type": "code",
   "execution_count": 77,
   "metadata": {},
   "outputs": [
    {
     "data": {
      "text/plain": [
       "0.9825644733563605"
      ]
     },
     "execution_count": 77,
     "metadata": {},
     "output_type": "execute_result"
    }
   ],
   "source": [
    "lr_reg_pipe.fit(X_train, y_train)\n",
    "lr_reg_pipe.score(X_train, y_train)"
   ]
  },
  {
   "cell_type": "code",
   "execution_count": 78,
   "metadata": {},
   "outputs": [
    {
     "data": {
      "text/plain": [
       "1.1119999999999999"
      ]
     },
     "execution_count": 78,
     "metadata": {},
     "output_type": "execute_result"
    }
   ],
   "source": [
    "# retrieve best alpha value from model\n",
    "lr_reg_pipe.named_steps['model'].alpha_"
   ]
  },
  {
   "cell_type": "code",
   "execution_count": 79,
   "metadata": {},
   "outputs": [
    {
     "name": "stdout",
     "output_type": "stream",
     "text": [
      "R-squared: 0.9588320791738943\n"
     ]
    },
    {
     "data": {
      "image/png": "[encoded data removed]",
      "text/plain": [
       "<Figure size 504x1440 with 3 Axes>"
      ]
     },
     "metadata": {},
     "output_type": "display_data"
    }
   ],
   "source": [
    "lr_eval(lr_reg_pipe, X_test, y_test)"
   ]
  },
  {
   "cell_type": "markdown",
   "metadata": {},
   "source": [
    "# Final Model\n",
    "Combine polynomial features and feature and target transformed to log scale for final model."
   ]
  },
  {
   "cell_type": "code",
   "execution_count": 80,
   "metadata": {},
   "outputs": [],
   "source": [
    "# parameters for pipeline input\n",
    "degree = 3\n",
    "alpha_range = np.linspace(0.001, 10, 10)"
   ]
  },
  {
   "cell_type": "code",
   "execution_count": 81,
   "metadata": {},
   "outputs": [],
   "source": [
    "lr_reg_pipe = Pipeline([\n",
    "    ('scaler', MinMaxScaler()),\n",
    "    ('poly', PolynomialFeatures(degree=degree)),\n",
    "    ('model', linear_model.RidgeCV(alphas=alpha_range, cv=10, scoring='r2'))\n",
    "])"
   ]
  },
  {
   "cell_type": "code",
   "execution_count": 82,
   "metadata": {},
   "outputs": [
    {
     "data": {
      "text/plain": [
       "0.9903797947314591"
      ]
     },
     "execution_count": 82,
     "metadata": {},
     "output_type": "execute_result"
    }
   ],
   "source": [
    "lr_reg_pipe.fit(X_train_ln, y_train_ln)\n",
    "lr_reg_pipe.score(X_train_ln, y_train_ln)"
   ]
  },
  {
   "cell_type": "code",
   "execution_count": 83,
   "metadata": {},
   "outputs": [
    {
     "name": "stdout",
     "output_type": "stream",
     "text": [
      "R-squared: 0.9824581918505233\n"
     ]
    },
    {
     "data": {
      "image/png": "[encoded data removed]",
      "text/plain": [
       "<Figure size 504x1440 with 3 Axes>"
      ]
     },
     "metadata": {},
     "output_type": "display_data"
    }
   ],
   "source": [
    "lr_eval(lr_reg_pipe, X_test_ln, y_test_ln)"
   ]
  },
  {
   "cell_type": "markdown",
   "metadata": {},
   "source": [
    "**High test accuracy.  \n",
    "Normally distributed residuals.  \n",
    "Mostly aligned Q-Q plot. Values at tails veer off.**"
   ]
  },
  {
   "cell_type": "markdown",
   "metadata": {},
   "source": [
    "# Model Interpretation"
   ]
  },
  {
   "cell_type": "markdown",
   "metadata": {},
   "source": [
    "## Coefficients"
   ]
  },
  {
   "cell_type": "code",
   "execution_count": 84,
   "metadata": {},
   "outputs": [],
   "source": [
    "# output feature labels for polynomial-based model\n",
    "feature_labels = lr_reg_pipe.named_steps['poly'].get_feature_names(X.columns)"
   ]
  },
  {
   "cell_type": "code",
   "execution_count": 85,
   "metadata": {},
   "outputs": [],
   "source": [
    "# model coefficients for each feature\n",
    "coefs = lr_reg_pipe.named_steps['model'].coef_"
   ]
  },
  {
   "cell_type": "code",
   "execution_count": 86,
   "metadata": {},
   "outputs": [
    {
     "data": {
      "text/plain": [
       "[('1', 0.0),\n",
       " ('carat', 0.8124172040018184),\n",
       " ('depth', 0.03650291558070046),\n",
       " ('table', 0.009244602476147194),\n",
       " ('x', 0.6236135780291853),\n",
       " ('y', 0.5128647760415282),\n",
       " ('cut_Fair', 0.03971748537411652),\n",
       " ('cut_Good', -0.003598141724507396),\n",
       " ('cut_Ideal', -0.0125502070344885),\n",
       " ('cut_Premium', -0.0022531803200160298),\n",
       " ('cut_Very Good', -0.02131595629510443),\n",
       " ('color_D', 0.05211539891745),\n",
       " ('color_E', 0.00935426577680348),\n",
       " ('color_F', 0.001959350140738412),\n",
       " ('color_G', -0.0036445867745460176),\n",
       " ('color_H', -0.009596145938561777),\n",
       " ('color_I', -0.022338836686351286),\n",
       " ('color_J', -0.02784944543553273),\n",
       " ('clarity_I1', -0.05542126806695081),\n",
       " ('clarity_IF', 0.057175327358669946),\n",
       " ('clarity_SI1', -0.03430733300368696),\n",
       " ('clarity_SI2', -0.047553797770317596),\n",
       " ('clarity_VS1', 0.003782560934869232),\n",
       " ('clarity_VS2', 0.010258213415617968),\n",
       " ('clarity_VVS1', 0.05036306253513576),\n",
       " ('clarity_VVS2', 0.015703234596662792),\n",
       " ('carat^2', 0.45163436050361966),\n",
       " ('carat depth', 0.2397947439347358),\n",
       " ('carat table', 0.19758543204634726),\n",
       " ('carat x', 0.2384064959563206),\n",
       " ('carat y', 0.26678504115918494),\n",
       " ('carat cut_Fair', 0.06742020936705818),\n",
       " ('carat cut_Good', 0.14434641365074274),\n",
       " ('carat cut_Ideal', 0.23629285096032115),\n",
       " ('carat cut_Premium', 0.1384275145884708),\n",
       " ('carat cut_Very Good', 0.2259302154352244),\n",
       " ('carat color_D', 0.14068933547288323),\n",
       " ('carat color_E', 0.09772465724558684),\n",
       " ('carat color_F', 0.14410570120710917),\n",
       " ('carat color_G', 0.13941506586050567),\n",
       " ('carat color_H', 0.11365195688381755),\n",
       " ('carat color_I', 0.11133285797208523),\n",
       " ('carat color_J', 0.0654976293598317),\n",
       " ('carat clarity_I1', -0.021925745738390526),\n",
       " ('carat clarity_IF', 0.07532378034541341),\n",
       " ('carat clarity_SI1', 0.16270415761883975),\n",
       " ('carat clarity_SI2', 0.15799456647344431),\n",
       " ('carat clarity_VS1', 0.09253735551320169),\n",
       " ('carat clarity_VS2', 0.1284190819870506),\n",
       " ('carat clarity_VVS1', 0.1025664343747567),\n",
       " ('carat clarity_VVS2', 0.11479757342750145),\n",
       " ('depth^2', -0.046380281359171084),\n",
       " ('depth table', 0.0047314189584979375),\n",
       " ('depth x', 0.16836725798110502),\n",
       " ('depth y', 0.119230143296122),\n",
       " ('depth cut_Fair', -0.019116616409570308),\n",
       " ('depth cut_Good', 0.0209220091363887),\n",
       " ('depth cut_Ideal', -0.014070515782121373),\n",
       " ('depth cut_Premium', 0.04963420461261291),\n",
       " ('depth cut_Very Good', -0.0008661659766102254),\n",
       " ('depth color_D', -0.022413374884846148),\n",
       " ('depth color_E', 0.05321668055005636),\n",
       " ('depth color_F', 0.011227954063055275),\n",
       " ('depth color_G', 0.010975656834545808),\n",
       " ('depth color_H', -0.007579403279610961),\n",
       " ('depth color_I', 0.0018564916904050828),\n",
       " ('depth color_J', -0.010781089392904132),\n",
       " ('depth clarity_I1', -0.007235751945854838),\n",
       " ('depth clarity_IF', 0.03939638103120239),\n",
       " ('depth clarity_SI1', -0.023187507567928037),\n",
       " ('depth clarity_SI2', -0.017366965747117425),\n",
       " ('depth clarity_VS1', 0.02907990473252821),\n",
       " ('depth clarity_VS2', -0.03364849865550776),\n",
       " ('depth clarity_VVS1', 0.025541736383695435),\n",
       " ('depth clarity_VVS2', 0.023923617349683905),\n",
       " ('table^2', -0.027183375601955422),\n",
       " ('table x', 0.12059674220154866),\n",
       " ('table y', 0.07726256653221761),\n",
       " ('table cut_Fair', -0.013228723436901273),\n",
       " ('table cut_Good', -0.025252548059941676),\n",
       " ('table cut_Ideal', 0.015761400329011684),\n",
       " ('table cut_Premium', 0.005661487039817028),\n",
       " ('table cut_Very Good', 0.026302986604162613),\n",
       " ('table color_D', -0.011645564214599046),\n",
       " ('table color_E', 0.01826571369285897),\n",
       " ('table color_F', 0.004237912733696102),\n",
       " ('table color_G', 0.0016446713277914438),\n",
       " ('table color_H', 0.03356144469621365),\n",
       " ('table color_I', -0.018039409431190062),\n",
       " ('table color_J', -0.01878016632862333),\n",
       " ('table clarity_I1', 0.010181308789648437),\n",
       " ('table clarity_IF', 0.047827831092562445),\n",
       " ('table clarity_SI1', -0.008474572566972054),\n",
       " ('table clarity_SI2', -0.018124854678610473),\n",
       " ('table clarity_VS1', -0.007426581505982518),\n",
       " ('table clarity_VS2', -0.002213367507706024),\n",
       " ('table clarity_VVS1', -0.016100251655835018),\n",
       " ('table clarity_VVS2', 0.003575090509040914),\n",
       " ('x^2', 0.07065991946871061),\n",
       " ('x y', 0.10174178573773607),\n",
       " ('x cut_Fair', 0.06703673146143155),\n",
       " ('x cut_Good', 0.09757085653754463),\n",
       " ('x cut_Ideal', 0.1858301128106998),\n",
       " ('x cut_Premium', 0.13110044955289835),\n",
       " ('x cut_Very Good', 0.14207542766660886),\n",
       " ('x color_D', 0.10702237748905577),\n",
       " ('x color_E', 0.09977514864629058),\n",
       " ('x color_F', 0.10377689615992443),\n",
       " ('x color_G', 0.10285710327734704),\n",
       " ('x color_H', 0.08882191721904567),\n",
       " ('x color_I', 0.07269380367899171),\n",
       " ('x color_J', 0.04866633155852968),\n",
       " ('x clarity_I1', -0.015724132876676972),\n",
       " ('x clarity_IF', 0.06847036965284438),\n",
       " ('x clarity_SI1', 0.10154137985632843),\n",
       " ('x clarity_SI2', 0.07648202554416426),\n",
       " ('x clarity_VS1', 0.09561526914039858),\n",
       " ('x clarity_VS2', 0.1034154062949235),\n",
       " ('x clarity_VVS1', 0.0940707616096624),\n",
       " ('x clarity_VVS2', 0.09974249880754028),\n",
       " ('y^2', 0.13034716709916153),\n",
       " ('y cut_Fair', 0.06791176826653593),\n",
       " ('y cut_Good', 0.10828494833566538),\n",
       " ('y cut_Ideal', 0.12512037035918153),\n",
       " ('y cut_Premium', 0.07210610625180437),\n",
       " ('y cut_Very Good', 0.13944158282834157),\n",
       " ('y color_D', 0.09426983542687851),\n",
       " ('y color_E', 0.06651232545937195),\n",
       " ('y color_F', 0.07753145320775702),\n",
       " ('y color_G', 0.08851129649381201),\n",
       " ('y color_H', 0.0746349658244653),\n",
       " ('y color_I', 0.06914385754419929),\n",
       " ('y color_J', 0.04226104208504305),\n",
       " ('y clarity_I1', -0.011456533511293042),\n",
       " ('y clarity_IF', 0.06223732215665069),\n",
       " ('y clarity_SI1', 0.08533225332986545),\n",
       " ('y clarity_SI2', 0.09994447461307762),\n",
       " ('y clarity_VS1', 0.06994605744189311),\n",
       " ('y clarity_VS2', 0.0538650072736012),\n",
       " ('y clarity_VVS1', 0.07824020732393984),\n",
       " ('y clarity_VVS2', 0.07475598741379662),\n",
       " ('cut_Fair^2', 0.03971748537411652),\n",
       " ('cut_Fair cut_Good', 0.0),\n",
       " ('cut_Fair cut_Ideal', 0.0),\n",
       " ('cut_Fair cut_Premium', 0.0),\n",
       " ('cut_Fair cut_Very Good', 0.0),\n",
       " ('cut_Fair color_D', 0.01995094464966484),\n",
       " ('cut_Fair color_E', -0.0007846874627802314),\n",
       " ('cut_Fair color_F', 0.00019305033151855523),\n",
       " ('cut_Fair color_G', -0.0007826292323462922),\n",
       " ('cut_Fair color_H', 0.008944022356295432),\n",
       " ('cut_Fair color_I', 0.011763247678837609),\n",
       " ('cut_Fair color_J', 0.0004335370529264466),\n",
       " ('cut_Fair clarity_I1', -0.033887563635026784),\n",
       " ('cut_Fair clarity_IF', 0.0),\n",
       " ('cut_Fair clarity_SI1', 0.006370957652286523),\n",
       " ('cut_Fair clarity_SI2', 0.016778688594496494),\n",
       " ('cut_Fair clarity_VS1', 0.008357071410641924),\n",
       " ('cut_Fair clarity_VS2', 0.0252419301046311),\n",
       " ('cut_Fair clarity_VVS1', 0.0),\n",
       " ('cut_Fair clarity_VVS2', 0.016856401247087288),\n",
       " ('cut_Good^2', -0.003598141724507396),\n",
       " ('cut_Good cut_Ideal', 0.0),\n",
       " ('cut_Good cut_Premium', 0.0),\n",
       " ('cut_Good cut_Very Good', 0.0),\n",
       " ('cut_Good color_D', 0.018956344206138134),\n",
       " ('cut_Good color_E', -0.0013354257884165617),\n",
       " ('cut_Good color_F', -0.0031688051038993993),\n",
       " ('cut_Good color_G', -0.01190625662129746),\n",
       " ('cut_Good color_H', -0.007098772717820806),\n",
       " ('cut_Good color_I', -0.002333902430777282),\n",
       " ('cut_Good color_J', 0.0032886767315661223),\n",
       " ('cut_Good clarity_I1', -0.027309563853042663),\n",
       " ('cut_Good clarity_IF', 0.02844313293194443),\n",
       " ('cut_Good clarity_SI1', -0.0017289695044870907),\n",
       " ('cut_Good clarity_SI2', -0.01592301381867812),\n",
       " ('cut_Good clarity_VS1', -0.0015496536578350469),\n",
       " ('cut_Good clarity_VS2', -0.0015229643008209499),\n",
       " ('cut_Good clarity_VVS1', 0.024129123109731206),\n",
       " ('cut_Good clarity_VVS2', -0.008136232631319636),\n",
       " ('cut_Ideal^2', -0.0125502070344885),\n",
       " ('cut_Ideal cut_Premium', 0.0),\n",
       " ('cut_Ideal cut_Very Good', 0.0),\n",
       " ('cut_Ideal color_D', 0.02241704213028756),\n",
       " ('cut_Ideal color_E', 0.018779209039871937),\n",
       " ('cut_Ideal color_F', 0.010271416101271318),\n",
       " ('cut_Ideal color_G', -0.006839070377060505),\n",
       " ('cut_Ideal color_H', -0.012241952732850284),\n",
       " ('cut_Ideal color_I', -0.02181255619883602),\n",
       " ('cut_Ideal color_J', -0.023124294997172314),\n",
       " ('cut_Ideal clarity_I1', -8.513968621889883e-05),\n",
       " ('cut_Ideal clarity_IF', 0.01598749942611484),\n",
       " ('cut_Ideal clarity_SI1', -0.011382019503306182),\n",
       " ('cut_Ideal clarity_SI2', -0.02857758815931555),\n",
       " ('cut_Ideal clarity_VS1', 0.006383628710486962),\n",
       " ('cut_Ideal clarity_VS2', -0.008279344423718521),\n",
       " ('cut_Ideal clarity_VVS1', 0.0028498217486661436),\n",
       " ('cut_Ideal clarity_VVS2', 0.010552934852801513),\n",
       " ('cut_Premium^2', -0.0022531803200160298),\n",
       " ('cut_Premium cut_Very Good', 0.0),\n",
       " ('cut_Premium color_D', 0.0049739123464241745),\n",
       " ('cut_Premium color_E', -0.004849951993588395),\n",
       " ('cut_Premium color_F', -0.0046109864469607445),\n",
       " ('cut_Premium color_G', 0.0240101614711436),\n",
       " ('cut_Premium color_H', 0.00705856552781994),\n",
       " ('cut_Premium color_I', -0.021043960462996038),\n",
       " ('cut_Premium color_J', -0.007790920761859273),\n",
       " ('cut_Premium clarity_I1', -0.00420426910066153),\n",
       " ('cut_Premium clarity_IF', 0.010015880778818652),\n",
       " ('cut_Premium clarity_SI1', -0.015542781682986473),\n",
       " ('cut_Premium clarity_SI2', -0.028850027675826884),\n",
       " ('cut_Premium clarity_VS1', 0.004866962065228345),\n",
       " ('cut_Premium clarity_VS2', 0.006026133032705494),\n",
       " ('cut_Premium clarity_VVS1', 0.024177240319568815),\n",
       " ('cut_Premium clarity_VVS2', 0.001257681943136871),\n",
       " ('cut_Very Good^2', -0.02131595629510443),\n",
       " ('cut_Very Good color_D', -0.01418284441506328),\n",
       " ('cut_Very Good color_E', -0.002454878018284921),\n",
       " ('cut_Very Good color_F', -0.0007253247411911522),\n",
       " ('cut_Very Good color_G', -0.008126792014985016),\n",
       " ('cut_Very Good color_H', -0.00625800837200598),\n",
       " ('cut_Very Good color_I', 0.0110883347274213),\n",
       " ('cut_Very Good color_J', -0.0006564434609942647),\n",
       " ('cut_Very Good clarity_I1', 0.010065268207998992),\n",
       " ('cut_Very Good clarity_IF', 0.00272881422179173),\n",
       " ('cut_Very Good clarity_SI1', -0.01202451996519393),\n",
       " ('cut_Very Good clarity_SI2', 0.009018143289006176),\n",
       " ('cut_Very Good clarity_VS1', -0.014275447593652525),\n",
       " ('cut_Very Good clarity_VS2', -0.011207540997180783),\n",
       " ('cut_Very Good clarity_VVS1', -0.0007931226428314292),\n",
       " ('cut_Very Good clarity_VVS2', -0.0048275508150426956),\n",
       " ('color_D^2', 0.05211539891745),\n",
       " ('color_D color_E', 0.0),\n",
       " ('color_D color_F', 0.0),\n",
       " ('color_D color_G', 0.0),\n",
       " ('color_D color_H', 0.0),\n",
       " ('color_D color_I', 0.0),\n",
       " ('color_D color_J', 0.0),\n",
       " ('color_D clarity_I1', -0.020411520457538718),\n",
       " ('color_D clarity_IF', 0.0),\n",
       " ('color_D clarity_SI1', -0.012207583371466204),\n",
       " ('color_D clarity_SI2', -0.014435798775919367),\n",
       " ('color_D clarity_VS1', 0.0026261000233819298),\n",
       " ('color_D clarity_VS2', 0.03510889272736962),\n",
       " ('color_D clarity_VVS1', 0.023186892836016323),\n",
       " ('color_D clarity_VVS2', 0.03824841593560293),\n",
       " ('color_E^2', 0.00935426577680348),\n",
       " ('color_E color_F', 0.0),\n",
       " ('color_E color_G', 0.0),\n",
       " ('color_E color_H', 0.0),\n",
       " ('color_E color_I', 0.0),\n",
       " ('color_E color_J', 0.0),\n",
       " ('color_E clarity_I1', -0.032794021335926446),\n",
       " ('color_E clarity_IF', 0.03453475824499512),\n",
       " ('color_E clarity_SI1', -0.013574763202404841),\n",
       " ('color_E clarity_SI2', -0.019293965048404388),\n",
       " ('color_E clarity_VS1', -0.003781737411112705),\n",
       " ('color_E clarity_VS2', 0.014918931753969142),\n",
       " ('color_E clarity_VVS1', 0.015265182108845676),\n",
       " ('color_E clarity_VVS2', 0.0140798806668402),\n",
       " ('color_F^2', 0.001959350140738412),\n",
       " ('color_F color_G', 0.0),\n",
       " ('color_F color_H', 0.0),\n",
       " ('color_F color_I', 0.0),\n",
       " ('color_F color_J', 0.0),\n",
       " ('color_F clarity_I1', -0.025929825339466535),\n",
       " ('color_F clarity_IF', 0.0235245229524897),\n",
       " ('color_F clarity_SI1', -0.010005904007602168),\n",
       " ('color_F clarity_SI2', -0.027530613461345384),\n",
       " ('color_F clarity_VS1', -0.00021569398562465121),\n",
       " ('color_F clarity_VS2', 0.002557815025638987),\n",
       " ('color_F clarity_VVS1', 0.023803300154584973),\n",
       " ('color_F clarity_VVS2', 0.015755748802063544),\n",
       " ('color_G^2', -0.0036445867745460176),\n",
       " ('color_G color_H', 0.0),\n",
       " ('color_G color_I', 0.0),\n",
       " ('color_G color_J', 0.0),\n",
       " ('color_G clarity_I1', -0.02868288306134183),\n",
       " ('color_G clarity_IF', 0.02284456961360275),\n",
       " ('color_G clarity_SI1', 0.0016662616394135263),\n",
       " ('color_G clarity_SI2', -0.015588355026492801),\n",
       " ('color_G clarity_VS1', -0.0007043166401836708),\n",
       " ('color_G clarity_VS2', -0.006000847971484917),\n",
       " ('color_G clarity_VVS1', 0.014868331171003722),\n",
       " ('color_G clarity_VVS2', 0.007952653500937094),\n",
       " ('color_H^2', -0.009596145938561777),\n",
       " ('color_H color_I', 0.0),\n",
       " ('color_H color_J', 0.0),\n",
       " ('color_H clarity_I1', 0.011610872145607621),\n",
       " ('color_H clarity_IF', 0.007224694203267154),\n",
       " ('color_H clarity_SI1', 0.001853753011481256),\n",
       " ('color_H clarity_SI2', -0.01286855944060003),\n",
       " ('color_H clarity_VS1', 0.0026577312337341457),\n",
       " ('color_H clarity_VS2', -0.011973179016075908),\n",
       " ('color_H clarity_VVS1', 0.0004007366013246305),\n",
       " ('color_H clarity_VVS2', -0.008502194677302446),\n",
       " ('color_I^2', -0.022338836686351286),\n",
       " ('color_I color_J', 0.0),\n",
       " ('color_I clarity_I1', 0.012154406470196841),\n",
       " ('color_I clarity_IF', -0.0007850112563574042),\n",
       " ('color_I clarity_SI1', 0.0027273543649822757),\n",
       " ('color_I clarity_SI2', -0.002711283027868146),\n",
       " ('color_I clarity_VS1', 0.018423871733504283),\n",
       " ('color_I clarity_VS2', -0.02854633729727448),\n",
       " ('color_I clarity_VVS1', -0.005983443678313537),\n",
       " ('color_I clarity_VVS2', -0.017618393995218928),\n",
       " ('color_J^2', -0.02784944543553273),\n",
       " ('color_J clarity_I1', 0.02863170351151812),\n",
       " ('color_J clarity_IF', -0.030168206399326915),\n",
       " ('color_J clarity_SI1', -0.004766451438093574),\n",
       " ('color_J clarity_SI2', 0.04487477701031268),\n",
       " ('color_J clarity_VS1', -0.015223394018830499),\n",
       " ('color_J clarity_VS2', 0.004192938193474892),\n",
       " ('color_J clarity_VVS1', -0.02117793665832678),\n",
       " ('color_J clarity_VVS2', -0.03421287563626028),\n",
       " ('clarity_I1^2', -0.05542126806695081),\n",
       " ('clarity_I1 clarity_IF', 0.0),\n",
       " ('clarity_I1 clarity_SI1', 0.0),\n",
       " ('clarity_I1 clarity_SI2', 0.0),\n",
       " ('clarity_I1 clarity_VS1', 0.0),\n",
       " ('clarity_I1 clarity_VS2', 0.0),\n",
       " ('clarity_I1 clarity_VVS1', 0.0),\n",
       " ('clarity_I1 clarity_VVS2', 0.0),\n",
       " ('clarity_IF^2', 0.057175327358669946),\n",
       " ('clarity_IF clarity_SI1', 0.0),\n",
       " ('clarity_IF clarity_SI2', 0.0),\n",
       " ('clarity_IF clarity_VS1', 0.0),\n",
       " ('clarity_IF clarity_VS2', 0.0),\n",
       " ('clarity_IF clarity_VVS1', 0.0),\n",
       " ('clarity_IF clarity_VVS2', 0.0),\n",
       " ('clarity_SI1^2', -0.03430733300368696),\n",
       " ('clarity_SI1 clarity_SI2', 0.0),\n",
       " ('clarity_SI1 clarity_VS1', 0.0),\n",
       " ('clarity_SI1 clarity_VS2', 0.0),\n",
       " ('clarity_SI1 clarity_VVS1', 0.0),\n",
       " ('clarity_SI1 clarity_VVS2', 0.0),\n",
       " ('clarity_SI2^2', -0.047553797770317596),\n",
       " ('clarity_SI2 clarity_VS1', 0.0),\n",
       " ('clarity_SI2 clarity_VS2', 0.0),\n",
       " ('clarity_SI2 clarity_VVS1', 0.0),\n",
       " ('clarity_SI2 clarity_VVS2', 0.0),\n",
       " ('clarity_VS1^2', 0.003782560934869232),\n",
       " ('clarity_VS1 clarity_VS2', 0.0),\n",
       " ('clarity_VS1 clarity_VVS1', 0.0),\n",
       " ('clarity_VS1 clarity_VVS2', 0.0),\n",
       " ('clarity_VS2^2', 0.010258213415617968),\n",
       " ('clarity_VS2 clarity_VVS1', 0.0),\n",
       " ('clarity_VS2 clarity_VVS2', 0.0),\n",
       " ('clarity_VVS1^2', 0.05036306253513576),\n",
       " ('clarity_VVS1 clarity_VVS2', 0.0),\n",
       " ('clarity_VVS2^2', 0.015703234596662792),\n",
       " ('carat^3', 0.01189443594949444),\n",
       " ('carat^2 depth', 0.0757835589759199),\n",
       " ('carat^2 table', 0.053537760106059595),\n",
       " ('carat^2 x', -0.11104644400199712),\n",
       " ('carat^2 y', -0.07318958839989168),\n",
       " ('carat^2 cut_Fair', 0.06353822680696396),\n",
       " ('carat^2 cut_Good', 0.09754869464370124),\n",
       " ('carat^2 cut_Ideal', 0.11190037197252266),\n",
       " ('carat^2 cut_Premium', 0.0966953655186713),\n",
       " ('carat^2 cut_Very Good', 0.08195170156176138),\n",
       " ('carat^2 color_D', 0.0521253308832859),\n",
       " ('carat^2 color_E', 0.10905640755082002),\n",
       " ('carat^2 color_F', 0.11122759521476924),\n",
       " ('carat^2 color_G', 0.07426795253632314),\n",
       " ('carat^2 color_H', 0.035880766894443084),\n",
       " ('carat^2 color_I', 0.04008907054913319),\n",
       " ('carat^2 color_J', 0.028987236874845706),\n",
       " ('carat^2 clarity_I1', -0.009702775706261818),\n",
       " ('carat^2 clarity_IF', 0.06069472872475641),\n",
       " ('carat^2 clarity_SI1', 0.06666936781446696),\n",
       " ('carat^2 clarity_SI2', 0.019591399354128663),\n",
       " ('carat^2 clarity_VS1', 0.0930944704831319),\n",
       " ('carat^2 clarity_VS2', 0.07145949572603714),\n",
       " ('carat^2 clarity_VVS1', 0.07193276860688516),\n",
       " ('carat^2 clarity_VVS2', 0.07789490550047581),\n",
       " ('carat depth^2', 0.02032517788514979),\n",
       " ('carat depth table', 0.014157036074206184),\n",
       " ('carat depth x', -5.6434112315469624e-05),\n",
       " ('carat depth y', 0.010755060973708685),\n",
       " ('carat depth cut_Fair', 0.005799589177432848),\n",
       " ('carat depth cut_Good', 0.06421792834067),\n",
       " ('carat depth cut_Ideal', 0.09911334330993761),\n",
       " ('carat depth cut_Premium', 0.014381395947576281),\n",
       " ('carat depth cut_Very Good', 0.056282487159118134),\n",
       " ('carat depth color_D', 0.05393984158861008),\n",
       " ('carat depth color_E', 0.027647905520964598),\n",
       " ('carat depth color_F', 0.06805638694215017),\n",
       " ('carat depth color_G', 0.0335364961998572),\n",
       " ('carat depth color_H', 0.01148744389997728),\n",
       " ('carat depth color_I', 0.027349992852313952),\n",
       " ('carat depth color_J', 0.01777667693086187),\n",
       " ('carat depth clarity_I1', 0.0008658794019830423),\n",
       " ('carat depth clarity_IF', 0.033816388411155494),\n",
       " ('carat depth clarity_SI1', 0.03924860985617068),\n",
       " ('carat depth clarity_SI2', 0.03496965699613981),\n",
       " ('carat depth clarity_VS1', -0.008313180234459651),\n",
       " ('carat depth clarity_VS2', 0.041443109010244374),\n",
       " ('carat depth clarity_VVS1', 0.043546369912954595),\n",
       " ('carat depth clarity_VVS2', 0.05421791058054725),\n",
       " ('carat table^2', 0.01583513383711124),\n",
       " ('carat table x', -0.02069082159717212),\n",
       " ('carat table y', -0.007408087301472784),\n",
       " ('carat table cut_Fair', 0.016197262808505877),\n",
       " ('carat table cut_Good', 0.07842033215954158),\n",
       " ('carat table cut_Ideal', 0.014785045134307296),\n",
       " ('carat table cut_Premium', 0.0668556126356021),\n",
       " ('carat table cut_Very Good', 0.021327179308391245),\n",
       " ('carat table color_D', 0.047836666168760054),\n",
       " ('carat table color_E', 0.02174544411135732),\n",
       " ('carat table color_F', 0.0610693421864579),\n",
       " ('carat table color_G', 0.02138850957701151),\n",
       " ('carat table color_H', -0.008817390285200719),\n",
       " ('carat table color_I', 0.03190966444584787),\n",
       " ('carat table color_J', 0.022453195842112965),\n",
       " ('carat table clarity_I1', 0.010411637193295591),\n",
       " ('carat table clarity_IF', 0.03924532763464434),\n",
       " ('carat table clarity_SI1', 0.014520316207646792),\n",
       " ('carat table clarity_SI2', 0.02240681277160228),\n",
       " ('carat table clarity_VS1', 0.00975872765470196),\n",
       " ('carat table clarity_VS2', 0.03050065558250238),\n",
       " ('carat table clarity_VVS1', 0.0300629279094226),\n",
       " ('carat table clarity_VVS2', 0.04067902709253065),\n",
       " ('carat x^2', -0.19879770800575933),\n",
       " ('carat x y', -0.16582288729972997),\n",
       " ('carat x cut_Fair', 0.05871521254140071),\n",
       " ('carat x cut_Good', 0.06306649008966218),\n",
       " ('carat x cut_Ideal', 0.023317734797935495),\n",
       " ('carat x cut_Premium', 0.0632094882995968),\n",
       " ('carat x cut_Very Good', 0.030097570227724902),\n",
       " ('carat x color_D', 0.023851761519857947),\n",
       " ('carat x color_E', 0.08384522883369591),\n",
       " ('carat x color_F', 0.056259457106092266),\n",
       " ('carat x color_G', 0.0319767581453255),\n",
       " ('carat x color_H', 0.013846554087161045),\n",
       " ('carat x color_I', 0.01305183260463035),\n",
       " ('carat x color_J', 0.015574903659556757),\n",
       " ('carat x clarity_I1', -0.006304608934070549),\n",
       " ('carat x clarity_IF', 0.051514826656426496),\n",
       " ('carat x clarity_SI1', 0.008161100380940447),\n",
       " ('carat x clarity_SI2', -0.03716895209762079),\n",
       " ('carat x clarity_VS1', 0.07316561852782272),\n",
       " ('carat x clarity_VS2', 0.03321992965991711),\n",
       " ('carat x clarity_VVS1', 0.059964228866928364),\n",
       " ('carat x clarity_VVS2', 0.05585435289597617),\n",
       " ('carat y^2', -0.1326744799658919),\n",
       " ('carat y cut_Fair', 0.05815440321031399),\n",
       " ('carat y cut_Good', 0.07778995136146401),\n",
       " ('carat y cut_Ideal', 0.03174620423267877),\n",
       " ('carat y cut_Premium', 0.05799373116463921),\n",
       " ('carat y cut_Very Good', 0.04110075119008875),\n",
       " ('carat y color_D', 0.030312278956055642),\n",
       " ('carat y color_E', 0.08406014505722463),\n",
       " ('carat y color_F', 0.05539065970326476),\n",
       " ('carat y color_G', 0.040787082461665),\n",
       " ('carat y color_H', 0.022639888488936603),\n",
       " ('carat y color_I', 0.0196446324934287),\n",
       " ('carat y color_J', 0.0139503539986096),\n",
       " ('carat y clarity_I1', -0.003037622455461883),\n",
       " ('carat y clarity_IF', 0.05129900364258546),\n",
       " ('carat y clarity_SI1', 0.015997367674678336),\n",
       " ('carat y clarity_SI2', -0.008195756332338967),\n",
       " ('carat y clarity_VS1', 0.07364686616639828),\n",
       " ('carat y clarity_VS2', 0.029035583992413544),\n",
       " ('carat y clarity_VVS1', 0.056705553076436335),\n",
       " ('carat y clarity_VVS2', 0.051334045394474274),\n",
       " ('carat cut_Fair^2', 0.06742020936705818),\n",
       " ('carat cut_Fair cut_Good', 0.0),\n",
       " ('carat cut_Fair cut_Ideal', 0.0),\n",
       " ('carat cut_Fair cut_Premium', 0.0),\n",
       " ('carat cut_Fair cut_Very Good', 0.0),\n",
       " ('carat cut_Fair color_D', 0.013710669279730608),\n",
       " ('carat cut_Fair color_E', 0.016110913680820623),\n",
       " ('carat cut_Fair color_F', 0.017476163886456154),\n",
       " ('carat cut_Fair color_G', 0.02464355699806227),\n",
       " ('carat cut_Fair color_H', 0.000387259662034122),\n",
       " ('carat cut_Fair color_I', 0.0012388136078385096),\n",
       " ('carat cut_Fair color_J', -0.006147167747884354),\n",
       " ('carat cut_Fair clarity_I1', -0.015342320189420314),\n",
       " ('carat cut_Fair clarity_IF', 0.0),\n",
       " ('carat cut_Fair clarity_SI1', 0.011181043083446295),\n",
       " ('carat cut_Fair clarity_SI2', 0.021510466059725467),\n",
       " ('carat cut_Fair clarity_VS1', 0.02998076486705384),\n",
       " ('carat cut_Fair clarity_VS2', 0.014422701815229198),\n",
       " ('carat cut_Fair clarity_VVS1', 0.0),\n",
       " ('carat cut_Fair clarity_VVS2', 0.005667553731023545),\n",
       " ('carat cut_Good^2', 0.14434641365074274),\n",
       " ('carat cut_Good cut_Ideal', 0.0),\n",
       " ('carat cut_Good cut_Premium', 0.0),\n",
       " ('carat cut_Good cut_Very Good', 0.0),\n",
       " ('carat cut_Good color_D', 0.02544484775654642),\n",
       " ('carat cut_Good color_E', 0.04268824774884211),\n",
       " ('carat cut_Good color_F', 0.03261012863086729),\n",
       " ('carat cut_Good color_G', 0.0481564192209838),\n",
       " ('carat cut_Good color_H', -0.02294917174590451),\n",
       " ('carat cut_Good color_I', 0.02385016896235001),\n",
       " ('carat cut_Good color_J', -0.005454226922941781),\n",
       " ('carat cut_Good clarity_I1', -0.009565952738913686),\n",
       " ('carat cut_Good clarity_IF', 0.011286966722535229),\n",
       " ('carat cut_Good clarity_SI1', 0.016161225207360925),\n",
       " ('carat cut_Good clarity_SI2', 0.02623626400821057),\n",
       " ('carat cut_Good clarity_VS1', 0.024273255996004696),\n",
       " ('carat cut_Good clarity_VS2', 0.04719768158761641),\n",
       " ('carat cut_Good clarity_VVS1', 0.007141770987247901),\n",
       " ('carat cut_Good clarity_VVS2', 0.021615201880682222),\n",
       " ('carat cut_Ideal^2', 0.23629285096032115),\n",
       " ('carat cut_Ideal cut_Premium', 0.0),\n",
       " ('carat cut_Ideal cut_Very Good', 0.0),\n",
       " ('carat cut_Ideal color_D', 0.01940200788779509),\n",
       " ('carat cut_Ideal color_E', -0.014878950666130108),\n",
       " ('carat cut_Ideal color_F', 0.03160176078396882),\n",
       " ('carat cut_Ideal color_G', 0.05925013239987497),\n",
       " ('carat cut_Ideal color_H', 0.054978395106825735),\n",
       " ('carat cut_Ideal color_I', 0.04890064233806095),\n",
       " ('carat cut_Ideal color_J', 0.03703886310992734),\n",
       " ('carat cut_Ideal clarity_I1', 0.01061208688568181),\n",
       " ('carat cut_Ideal clarity_IF', 0.033972125970894884),\n",
       " ('carat cut_Ideal clarity_SI1', 0.05477661021709152),\n",
       " ('carat cut_Ideal clarity_SI2', 0.06586294016439898),\n",
       " ('carat cut_Ideal clarity_VS1', 0.016068011363920085),\n",
       " ('carat cut_Ideal clarity_VS2', -0.00733620615902827),\n",
       " ('carat cut_Ideal clarity_VVS1', 0.014423216951948831),\n",
       " ('carat cut_Ideal clarity_VVS2', 0.047914065565413076),\n",
       " ('carat cut_Premium^2', 0.1384275145884708),\n",
       " ('carat cut_Premium cut_Very Good', 0.0),\n",
       " ('carat cut_Premium color_D', 0.018997095093379962),\n",
       " ('carat cut_Premium color_E', 0.004960825406139295),\n",
       " ('carat cut_Premium color_F', 0.019967528965396587),\n",
       " ('carat cut_Premium color_G', -0.019953271975375254),\n",
       " ('carat cut_Premium color_H', 0.03672095371476055),\n",
       " ('carat cut_Premium color_I', 0.03906016722848789),\n",
       " ('carat cut_Premium color_J', 0.03867421615568112),\n",
       " ('carat cut_Premium clarity_I1', -0.010651400057260455),\n",
       " ('carat cut_Premium clarity_IF', 0.006479569829055054),\n",
       " ('carat cut_Premium clarity_SI1', 0.03923065688787693),\n",
       " ('carat cut_Premium clarity_SI2', 0.03401268591104908),\n",
       " ('carat cut_Premium clarity_VS1', 0.0070864998258656645),\n",
       " ('carat cut_Premium clarity_VS2', 0.009621733665626239),\n",
       " ('carat cut_Premium clarity_VVS1', 0.04120169374739235),\n",
       " ('carat cut_Premium clarity_VVS2', 0.011446074778864949),\n",
       " ('carat cut_Very Good^2', 0.2259302154352244),\n",
       " ('carat cut_Very Good color_D', 0.06313471545543228),\n",
       " ('carat cut_Very Good color_E', 0.048843621075914646),\n",
       " ('carat cut_Very Good color_F', 0.04245011894042037),\n",
       " ('carat cut_Very Good color_G', 0.027318229216959096),\n",
       " ('carat cut_Very Good color_H', 0.04451452014610139),\n",
       " ('carat cut_Very Good color_I', -0.001716934164652645),\n",
       " ('carat cut_Very Good color_J', 0.0013859447650496936),\n",
       " ('carat cut_Very Good clarity_I1', 0.0030218403615222566),\n",
       " ('carat cut_Very Good clarity_IF', 0.023585117822928776),\n",
       " ('carat cut_Very Good clarity_SI1', 0.04135462222306483),\n",
       " ('carat cut_Very Good clarity_SI2', 0.010372210330060217),\n",
       " ('carat cut_Very Good clarity_VS1', 0.01512882346035626),\n",
       " ('carat cut_Very Good clarity_VS2', 0.06451317107760746),\n",
       " ('carat cut_Very Good clarity_VVS1', 0.03979975268816717),\n",
       " ('carat cut_Very Good clarity_VVS2', 0.028154677471517606),\n",
       " ('carat color_D^2', 0.14068933547288323),\n",
       " ('carat color_D color_E', 0.0),\n",
       " ('carat color_D color_F', 0.0),\n",
       " ('carat color_D color_G', 0.0),\n",
       " ('carat color_D color_H', 0.0),\n",
       " ('carat color_D color_I', 0.0),\n",
       " ('carat color_D color_J', 0.0),\n",
       " ('carat color_D clarity_I1', -0.009285537715254245),\n",
       " ('carat color_D clarity_IF', 0.0),\n",
       " ('carat color_D clarity_SI1', 0.0023867082570533994),\n",
       " ('carat color_D clarity_SI2', 0.007419579026958778),\n",
       " ('carat color_D clarity_VS1', 0.038562412069640124),\n",
       " ('carat color_D clarity_VS2', -0.0517604320686783),\n",
       " ('carat color_D clarity_VVS1', 0.05574865215378352),\n",
       " ('carat color_D clarity_VVS2', 0.09761795374937979),\n",
       " ('carat color_E^2', 0.09772465724558684),\n",
       " ('carat color_E color_F', 0.0),\n",
       " ('carat color_E color_G', 0.0),\n",
       " ('carat color_E color_H', 0.0),\n",
       " ('carat color_E color_I', 0.0),\n",
       " ('carat color_E color_J', 0.0),\n",
       " ('carat color_E clarity_I1', -0.0264981733519556),\n",
       " ('carat color_E clarity_IF', 0.07622467664166314),\n",
       " ('carat color_E clarity_SI1', 0.0077199153013897725),\n",
       " ('carat color_E clarity_SI2', -0.010516505958871129),\n",
       " ('carat color_E clarity_VS1', 0.0002610696000174416),\n",
       " ('carat color_E clarity_VS2', -0.031529780370733694),\n",
       " ('carat color_E clarity_VVS1', 0.04518119415655639),\n",
       " ('carat color_E clarity_VVS2', 0.03688226122751985),\n",
       " ('carat color_F^2', 0.14410570120710917),\n",
       " ('carat color_F color_G', 0.0),\n",
       " ('carat color_F color_H', 0.0),\n",
       " ('carat color_F color_I', 0.0),\n",
       " ('carat color_F color_J', 0.0),\n",
       " ('carat color_F clarity_I1', -0.010203667188052655),\n",
       " ('carat color_F clarity_IF', 0.04373236492188298),\n",
       " ('carat color_F clarity_SI1', 0.014971725615966141),\n",
       " ('carat color_F clarity_SI2', 0.013424056698640031),\n",
       " ('carat color_F clarity_VS1', 0.005357242334737957),\n",
       " ('carat color_F clarity_VS2', 0.03121680349990567),\n",
       " ('carat color_F clarity_VVS1', 0.005973183176296818),\n",
       " ('carat color_F clarity_VVS2', 0.03963399214773153),\n",
       " ('carat color_G^2', 0.13941506586050567),\n",
       " ('carat color_G color_H', 0.0),\n",
       " ('carat color_G color_I', 0.0),\n",
       " ('carat color_G color_J', 0.0),\n",
       " ('carat color_G clarity_I1', -0.016327995983576753),\n",
       " ('carat color_G clarity_IF', 0.005994137496522476),\n",
       " ('carat color_G clarity_SI1', 0.003057633718611515),\n",
       " ('carat color_G clarity_SI2', 0.042143494961101154),\n",
       " ('carat color_G clarity_VS1', 0.02287592729693414),\n",
       " ('carat color_G clarity_VS2', 0.06264858064812853),\n",
       " ('carat color_G clarity_VVS1', 0.004730096974005154),\n",
       " ('carat color_G clarity_VVS2', 0.014293190748777274),\n",
       " ('carat color_H^2', 0.11365195688381755),\n",
       " ('carat color_H color_I', 0.0),\n",
       " ('carat color_H color_J', 0.0),\n",
       " ('carat color_H clarity_I1', 0.0013559800244853301),\n",
       " ('carat color_H clarity_IF', -0.0350173381434816),\n",
       " ('carat color_H clarity_SI1', 0.045888236822886744),\n",
       " ('carat color_H clarity_SI2', 0.042319380184031696),\n",
       " ('carat color_H clarity_VS1', 0.008478396118135216),\n",
       " ('carat color_H clarity_VS2', 0.06323696270446703),\n",
       " ('carat color_H clarity_VVS1', 0.006922773243245533),\n",
       " ('carat color_H clarity_VVS2', -0.0195324340699519),\n",
       " ('carat color_I^2', 0.11133285797208523),\n",
       " ('carat color_I color_J', 0.0),\n",
       " ('carat color_I clarity_I1', 0.017093047351351566),\n",
       " ('carat color_I clarity_IF', -0.007547982235245938),\n",
       " ('carat color_I clarity_SI1', 0.03920180790581175),\n",
       " ('carat color_I clarity_SI2', 0.0520178808181975),\n",
       " ('carat color_I clarity_VS1', -0.02854197873460968),\n",
       " ('carat color_I clarity_VS2', 0.07595594325380657),\n",
       " ('carat color_I clarity_VVS1', -0.006112061478794703),\n",
       " ('carat color_I clarity_VVS2', -0.030733798908432315),\n",
       " ('carat color_J^2', 0.0654976293598317),\n",
       " ('carat color_J clarity_I1', 0.021940601124611898),\n",
       " ('carat color_J clarity_IF', -0.00806207833592726),\n",
       " ('carat color_J clarity_SI1', 0.04947812999712046),\n",
       " ('carat color_J clarity_SI2', 0.011186680743386785),\n",
       " ('carat color_J clarity_VS1', 0.045544286828345236),\n",
       " ('carat color_J clarity_VS2', -0.02134899567984607),\n",
       " ('carat color_J clarity_VVS1', -0.009877403850336228),\n",
       " ('carat color_J clarity_VVS2', -0.0233635914675227),\n",
       " ('carat clarity_I1^2', -0.021925745738390526),\n",
       " ('carat clarity_I1 clarity_IF', 0.0),\n",
       " ('carat clarity_I1 clarity_SI1', 0.0),\n",
       " ('carat clarity_I1 clarity_SI2', 0.0),\n",
       " ('carat clarity_I1 clarity_VS1', 0.0),\n",
       " ('carat clarity_I1 clarity_VS2', 0.0),\n",
       " ('carat clarity_I1 clarity_VVS1', 0.0),\n",
       " ('carat clarity_I1 clarity_VVS2', 0.0),\n",
       " ('carat clarity_IF^2', 0.07532378034541341),\n",
       " ('carat clarity_IF clarity_SI1', 0.0),\n",
       " ('carat clarity_IF clarity_SI2', 0.0),\n",
       " ('carat clarity_IF clarity_VS1', 0.0),\n",
       " ('carat clarity_IF clarity_VS2', 0.0),\n",
       " ('carat clarity_IF clarity_VVS1', 0.0),\n",
       " ('carat clarity_IF clarity_VVS2', 0.0),\n",
       " ('carat clarity_SI1^2', 0.16270415761883975),\n",
       " ('carat clarity_SI1 clarity_SI2', 0.0),\n",
       " ('carat clarity_SI1 clarity_VS1', 0.0),\n",
       " ('carat clarity_SI1 clarity_VS2', 0.0),\n",
       " ('carat clarity_SI1 clarity_VVS1', 0.0),\n",
       " ('carat clarity_SI1 clarity_VVS2', 0.0),\n",
       " ('carat clarity_SI2^2', 0.15799456647344431),\n",
       " ('carat clarity_SI2 clarity_VS1', 0.0),\n",
       " ('carat clarity_SI2 clarity_VS2', 0.0),\n",
       " ('carat clarity_SI2 clarity_VVS1', 0.0),\n",
       " ('carat clarity_SI2 clarity_VVS2', 0.0),\n",
       " ('carat clarity_VS1^2', 0.09253735551320169),\n",
       " ('carat clarity_VS1 clarity_VS2', 0.0),\n",
       " ('carat clarity_VS1 clarity_VVS1', 0.0),\n",
       " ('carat clarity_VS1 clarity_VVS2', 0.0),\n",
       " ('carat clarity_VS2^2', 0.1284190819870506),\n",
       " ('carat clarity_VS2 clarity_VVS1', 0.0),\n",
       " ('carat clarity_VS2 clarity_VVS2', 0.0),\n",
       " ('carat clarity_VVS1^2', 0.1025664343747567),\n",
       " ('carat clarity_VVS1 clarity_VVS2', 0.0),\n",
       " ('carat clarity_VVS2^2', 0.11479757342750145),\n",
       " ('depth^3', -0.0741247446551688),\n",
       " ('depth^2 table', -0.05550690647425329),\n",
       " ('depth^2 x', 0.0009642907900085246),\n",
       " ('depth^2 y', -0.021203370254217306),\n",
       " ('depth^2 cut_Fair', -0.038445273262638434),\n",
       " ('depth^2 cut_Good', -0.0464759443747963),\n",
       " ('depth^2 cut_Ideal', -0.02408307380742149),\n",
       " ('depth^2 cut_Premium', 0.056480245309477595),\n",
       " ('depth^2 cut_Very Good', 0.006143764776206965),\n",
       " ('depth^2 color_D', -0.04265353581172676),\n",
       " ('depth^2 color_E', 0.032386613003262184),\n",
       " ('depth^2 color_F', -0.02139004859455205),\n",
       " ('depth^2 color_G', 0.018937160872752337),\n",
       " ('depth^2 color_H', -0.030802679130792644),\n",
       " ('depth^2 color_I', -0.009370205912495162),\n",
       " ('depth^2 color_J', 0.006512414214381314),\n",
       " ('depth^2 clarity_I1', -0.0007315286329823425),\n",
       " ('depth^2 clarity_IF', 0.027304049525496782),\n",
       " ('depth^2 clarity_SI1', -0.02742484479183748),\n",
       " ('depth^2 clarity_SI2', -0.05645041057888555),\n",
       " ('depth^2 clarity_VS1', 0.010381724350465877),\n",
       " ('depth^2 clarity_VS2', -0.032136977128905786),\n",
       " ('depth^2 clarity_VVS1', 0.010726201584752524),\n",
       " ('depth^2 clarity_VVS2', 0.02195150431272458),\n",
       " ('depth table^2', -0.01346008282339941),\n",
       " ('depth table x', -0.010316357286374101),\n",
       " ('depth table y', -0.02963328039990634),\n",
       " ('depth table cut_Fair', -0.040575012797371184),\n",
       " ('depth table cut_Good', 0.014462655546801692),\n",
       " ('depth table cut_Ideal', -0.001405646895338279),\n",
       " ('depth table cut_Premium', 0.012921946451529586),\n",
       " ('depth table cut_Very Good', 0.01932747665287661),\n",
       " ('depth table color_D', -0.021165405200042536),\n",
       " ('depth table color_E', 0.028053789649027265),\n",
       " ('depth table color_F', 0.00662528708520542),\n",
       " ('depth table color_G', -0.012952208863432462),\n",
       " ('depth table color_H', 0.024992316354951315),\n",
       " ('depth table color_I', -0.009659609750851568),\n",
       " ('depth table color_J', -0.011162750316359226),\n",
       " ('depth table clarity_I1', 0.016073265740339755),\n",
       " ('depth table clarity_IF', 0.024985644422923513),\n",
       " ('depth table clarity_SI1', -0.01853580917144449),\n",
       " ('depth table clarity_SI2', -0.008186590109932891),\n",
       " ('depth table clarity_VS1', -0.011779510886457975),\n",
       " ('depth table clarity_VS2', -0.015264561503620188),\n",
       " ('depth table clarity_VVS1', -0.007394427438915433),\n",
       " ('depth table clarity_VVS2', 0.02483340790560569),\n",
       " ('depth x^2', -0.058431493020735484),\n",
       " ('depth x y', -0.04642191263246908),\n",
       " ('depth x cut_Fair', 0.011385169246795602),\n",
       " ('depth x cut_Good', 0.0516111277079427),\n",
       " ('depth x cut_Ideal', 0.08126006587106209),\n",
       " ('depth x cut_Premium', 0.006513250518214838),\n",
       " ('depth x cut_Very Good', 0.017597644637090896),\n",
       " ('depth x color_D', 0.046012277142876874),\n",
       " ('depth x color_E', 0.030282492673422368),\n",
       " ('depth x color_F', 0.049994037948131315),\n",
       " ('depth x color_G', 0.015539951696849828),\n",
       " ('depth x color_H', 0.0044993601979471925),\n",
       " ('depth x color_I', 0.012217194395226142),\n",
       " ('depth x color_J', 0.009821943926651013),\n",
       " ('depth x clarity_I1', 0.002156178904830267),\n",
       " ('depth x clarity_IF', 0.030282722606165213),\n",
       " ('depth x clarity_SI1', 0.01593784820832398),\n",
       " ('depth x clarity_SI2', 0.006803929391882675),\n",
       " ('depth x clarity_VS1', -0.004561831099007607),\n",
       " ('depth x clarity_VS2', 0.03354600783148697),\n",
       " ('depth x clarity_VVS1', 0.03951323864085277),\n",
       " ('depth x clarity_VVS2', 0.04468916349657167),\n",
       " ('depth y^2', -0.03547027785372183),\n",
       " ('depth y cut_Fair', 0.011616186706107815),\n",
       " ('depth y cut_Good', 0.052818614378878526),\n",
       " ('depth y cut_Ideal', 0.054856972231362836),\n",
       " ('depth y cut_Premium', -0.017520103397511675),\n",
       " ('depth y cut_Very Good', 0.01745847337728431),\n",
       " ('depth y color_D', 0.039746661515969534),\n",
       " ('depth y color_E', 0.014723338649463041),\n",
       " ('depth y color_F', 0.03864384702323275),\n",
       " ('depth y color_G', 0.010903036984242378),\n",
       " ('depth y color_H', -0.0028175918858997055),\n",
       " ('depth y color_I', 0.011211058393365942),\n",
       " ('depth y color_J', 0.006819792615748091),\n",
       " ('depth y clarity_I1', 0.003963057495582283),\n",
       " ('depth y clarity_IF', 0.02754240984395862),\n",
       " ('depth y clarity_SI1', 0.007901964562795584),\n",
       " ('depth y clarity_SI2', 0.015124839905184833),\n",
       " ('depth y clarity_VS1', -0.012947254118691236),\n",
       " ('depth y clarity_VS2', 0.012492216270496327),\n",
       " ('depth y clarity_VVS1', 0.032220947533510035),\n",
       " ('depth y clarity_VVS2', 0.03293196180328575),\n",
       " ('depth cut_Fair^2', -0.019116616409570308),\n",
       " ('depth cut_Fair cut_Good', 0.0),\n",
       " ('depth cut_Fair cut_Ideal', 0.0),\n",
       " ('depth cut_Fair cut_Premium', 0.0),\n",
       " ('depth cut_Fair cut_Very Good', 0.0),\n",
       " ('depth cut_Fair color_D', -0.011473800455964859),\n",
       " ('depth cut_Fair color_E', -0.002380309783725134),\n",
       " ('depth cut_Fair color_F', 0.015133518145079338),\n",
       " ('depth cut_Fair color_G', -0.03909064237902986),\n",
       " ('depth cut_Fair color_H', 0.02609570434443941),\n",
       " ('depth cut_Fair color_I', -0.025493140387232036),\n",
       " ('depth cut_Fair color_J', 0.018092054106862838),\n",
       " ('depth cut_Fair clarity_I1', -0.011006023356762415),\n",
       " ('depth cut_Fair clarity_IF', 0.0),\n",
       " ('depth cut_Fair clarity_SI1', 0.005159618472767723),\n",
       " ('depth cut_Fair clarity_SI2', -0.014314391468742353),\n",
       " ('depth cut_Fair clarity_VS1', -0.025578103484984776),\n",
       " ('depth cut_Fair clarity_VS2', 0.012222957704858955),\n",
       " ('depth cut_Fair clarity_VVS1', 0.0),\n",
       " ('depth cut_Fair clarity_VVS2', 0.0143993257232925),\n",
       " ('depth cut_Good^2', 0.0209220091363887),\n",
       " ('depth cut_Good cut_Ideal', 0.0),\n",
       " ('depth cut_Good cut_Premium', 0.0),\n",
       " ('depth cut_Good cut_Very Good', 0.0),\n",
       " ('depth cut_Good color_D', 0.025040845819993336),\n",
       " ('depth cut_Good color_E', -0.011346469466475015),\n",
       " ('depth cut_Good color_F', 0.0003953382044254793),\n",
       " ('depth cut_Good color_G', 0.012684510356525123),\n",
       " ('depth cut_Good color_H', 0.02638393322847618),\n",
       " ('depth cut_Good color_I', -0.018334935677921722),\n",
       " ('depth cut_Good color_J', -0.013901213328634608),\n",
       " ('depth cut_Good clarity_I1', -0.026560923332233914),\n",
       " ('depth cut_Good clarity_IF', 0.009990733331468053),\n",
       " ('depth cut_Good clarity_SI1', -0.005666770763485213),\n",
       " ('depth cut_Good clarity_SI2', 0.0003611133848433762),\n",
       " ('depth cut_Good clarity_VS1', -0.01716769744302498),\n",
       " ('depth cut_Good clarity_VS2', 0.023657139664235133),\n",
       " ('depth cut_Good clarity_VVS1', 0.019701611344062262),\n",
       " ('depth cut_Good clarity_VVS2', 0.01660680295052413),\n",
       " ('depth cut_Ideal^2', -0.014070515782121373),\n",
       " ('depth cut_Ideal cut_Premium', 0.0),\n",
       " ('depth cut_Ideal cut_Very Good', 0.0),\n",
       " ('depth cut_Ideal color_D', -0.013706680687523261),\n",
       " ('depth cut_Ideal color_E', 0.04764775648988194),\n",
       " ('depth cut_Ideal color_F', 0.01497274134226696),\n",
       " ('depth cut_Ideal color_G', 0.03135489485149979),\n",
       " ('depth cut_Ideal color_H', -0.05479626156841794),\n",
       " ('depth cut_Ideal color_I', -0.03838872256585408),\n",
       " ('depth cut_Ideal color_J', -0.0011542436439738097),\n",
       " ('depth cut_Ideal clarity_I1', -0.0010094424921039621),\n",
       " ('depth cut_Ideal clarity_IF', 0.021534804904617854),\n",
       " ('depth cut_Ideal clarity_SI1', 0.0058845112076463205),\n",
       " ('depth cut_Ideal clarity_SI2', 0.034615210357862525),\n",
       " ('depth cut_Ideal clarity_VS1', 0.011731767236764177),\n",
       " ('depth cut_Ideal clarity_VS2', -0.05421828250754031),\n",
       " ('depth cut_Ideal clarity_VVS1', -0.002257619865820054),\n",
       " ('depth cut_Ideal clarity_VVS2', -0.030351464623544596),\n",
       " ('depth cut_Premium^2', 0.04963420461261291),\n",
       " ('depth cut_Premium cut_Very Good', 0.0),\n",
       " ('depth cut_Premium color_D', 0.027660149735641345),\n",
       " ('depth cut_Premium color_E', 0.07837390059597196),\n",
       " ('depth cut_Premium color_F', -0.007505329430577388),\n",
       " ('depth cut_Premium color_G', -0.04809890082087153),\n",
       " ('depth cut_Premium color_H', -0.00025750282251698513),\n",
       " ('depth cut_Premium color_I', 0.009708239590495157),\n",
       " ('depth cut_Premium color_J', -0.010246352235532172),\n",
       " ('depth cut_Premium clarity_I1', 0.020866616663000808),\n",
       " ('depth cut_Premium clarity_IF', 0.008141381401351233),\n",
       " ('depth cut_Premium clarity_SI1', -0.06228142411928621),\n",
       " ('depth cut_Premium clarity_SI2', 0.050211700054065875),\n",
       " ('depth cut_Premium clarity_VS1', 0.011359785475450461),\n",
       " ('depth cut_Premium clarity_VS2', -0.009102225755388736),\n",
       " ('depth cut_Premium clarity_VVS1', 0.01614331145815807),\n",
       " ('depth cut_Premium clarity_VVS2', 0.014295059435259562),\n",
       " ('depth cut_Very Good^2', -0.0008661659766102254),\n",
       " ('depth cut_Very Good color_D', -0.04993388929699296),\n",
       " ('depth cut_Very Good color_E', -0.05907819728559793),\n",
       " ('depth cut_Very Good color_F', -0.011768314198139534),\n",
       " ('depth cut_Very Good color_G', 0.05412579482642299),\n",
       " ('depth cut_Very Good color_H', -0.005005276461592727),\n",
       " ('depth cut_Very Good color_I', 0.07436505073091701),\n",
       " ('depth cut_Very Good color_J', -0.003571334291626471),\n",
       " ('depth cut_Very Good clarity_I1', 0.01047402057224467),\n",
       " ('depth cut_Very Good clarity_IF', -0.0002705386062349126),\n",
       " ('depth cut_Very Good clarity_SI1', 0.03371655763442712),\n",
       " ('depth cut_Very Good clarity_SI2', -0.08824059807514624),\n",
       " ('depth cut_Very Good clarity_VS1', 0.04873415294832522),\n",
       " ('depth cut_Very Good clarity_VS2', -0.006208087761672172),\n",
       " ('depth cut_Very Good clarity_VVS1', -0.008045566552705578),\n",
       " ('depth cut_Very Good clarity_VVS2', 0.008973893864152482),\n",
       " ('depth color_D^2', -0.022413374884846148),\n",
       " ('depth color_D color_E', 0.0),\n",
       " ('depth color_D color_F', 0.0),\n",
       " ('depth color_D color_G', 0.0),\n",
       " ('depth color_D color_H', 0.0),\n",
       " ('depth color_D color_I', 0.0),\n",
       " ('depth color_D color_J', 0.0),\n",
       " ('depth color_D clarity_I1', -0.0057883416222871045),\n",
       " ('depth color_D clarity_IF', 0.0),\n",
       " ('depth color_D clarity_SI1', 0.025154705488055356),\n",
       " ('depth color_D clarity_SI2', -0.05774380372893655),\n",
       " ('depth color_D clarity_VS1', -0.011381721278989544),\n",
       " ('depth color_D clarity_VS2', 0.012642400084212729),\n",
       " ('depth color_D clarity_VVS1', -0.00032195252728383543),\n",
       " ('depth color_D clarity_VVS2', 0.015025338700382676),\n",
       " ('depth color_E^2', 0.05321668055005636),\n",
       " ('depth color_E color_F', 0.0),\n",
       " ('depth color_E color_G', 0.0),\n",
       " ('depth color_E color_H', 0.0),\n",
       " ('depth color_E color_I', 0.0),\n",
       " ('depth color_E color_J', 0.0),\n",
       " ('depth color_E clarity_I1', -0.017811085029150322),\n",
       " ('depth color_E clarity_IF', 0.01839168298448556),\n",
       " ('depth color_E clarity_SI1', 0.020105364665638784),\n",
       " ('depth color_E clarity_SI2', 0.05046750806883291),\n",
       " ('depth color_E clarity_VS1', 0.03712699704288317),\n",
       " ('depth color_E clarity_VS2', -0.060024790813732805),\n",
       " ('depth color_E clarity_VVS1', 0.0108136067663784),\n",
       " ('depth color_E clarity_VVS2', -0.005852603135278729),\n",
       " ('depth color_F^2', 0.011227954063055275),\n",
       " ('depth color_F color_G', 0.0),\n",
       " ('depth color_F color_H', 0.0),\n",
       " ('depth color_F color_I', 0.0),\n",
       " ('depth color_F color_J', 0.0),\n",
       " ('depth color_F clarity_I1', -0.002115132634074824),\n",
       " ('depth color_F clarity_IF', 0.019536846429579865),\n",
       " ('depth color_F clarity_SI1', 0.012192439102841875),\n",
       " ('depth color_F clarity_SI2', 0.0044537843324771904),\n",
       " ('depth color_F clarity_VS1', 0.009812059737546008),\n",
       " ('depth color_F clarity_VS2', -0.03411470085193477),\n",
       " ('depth color_F clarity_VVS1', 0.019362678937450813),\n",
       " ('depth color_F clarity_VVS2', -0.017900020990830403),\n",
       " ('depth color_G^2', 0.010975656834545808),\n",
       " ('depth color_G color_H', 0.0),\n",
       " ('depth color_G color_I', 0.0),\n",
       " ('depth color_G color_J', 0.0),\n",
       " ('depth color_G clarity_I1', -0.014392813046773785),\n",
       " ('depth color_G clarity_IF', 0.011305200090533943),\n",
       " ('depth color_G clarity_SI1', -0.01101938620752004),\n",
       " ('depth color_G clarity_SI2', -0.037870461027108164),\n",
       " ('depth color_G clarity_VS1', 0.03743158582895025),\n",
       " ('depth color_G clarity_VS2', 0.0026962232533206667),\n",
       " ('depth color_G clarity_VVS1', 0.011896292895793747),\n",
       " ('depth color_G clarity_VVS2', 0.010929015047350155),\n",
       " ('depth color_H^2', -0.007579403279610961),\n",
       " ('depth color_H color_I', 0.0),\n",
       " ('depth color_H color_J', 0.0),\n",
       " ('depth color_H clarity_I1', 0.012683869360767817),\n",
       " ('depth color_H clarity_IF', 0.0014264222696565299),\n",
       " ('depth color_H clarity_SI1', -0.029599323306714),\n",
       " ('depth color_H clarity_SI2', -0.00019433920076738703),\n",
       " ('depth color_H clarity_VS1', -0.03214558277431035),\n",
       " ('depth color_H clarity_VS2', 0.0382387455239343),\n",
       " ('depth color_H clarity_VVS1', -0.012416915035656353),\n",
       " ('depth color_H clarity_VVS2', 0.014427719883477942),\n",
       " ('depth color_I^2', 0.0018564916904050828),\n",
       " ('depth color_I color_J', 0.0),\n",
       " ('depth color_I clarity_I1', 0.010999965570474812),\n",
       " ('depth color_I clarity_IF', 0.007773628122952698),\n",
       " ('depth color_I clarity_SI1', -0.034476695485906),\n",
       " ('depth color_I clarity_SI2', -0.0014613602107173967),\n",
       " ('depth color_I clarity_VS1', 0.005393788969349012),\n",
       " ('depth color_I clarity_VS2', -0.013213252796755176),\n",
       " ('depth color_I clarity_VVS1', 0.006765468010365328),\n",
       " ('depth color_I clarity_VVS2', 0.020074949510641867),\n",
       " ('depth color_J^2', -0.010781089392904132),\n",
       " ('depth color_J clarity_I1', 0.009187785455188684),\n",
       " ('depth color_J clarity_IF', -0.019037398866006423),\n",
       " ('depth color_J clarity_SI1', -0.0055446118243251625),\n",
       " ('depth color_J clarity_SI2', 0.024981706019102764),\n",
       " ('depth color_J clarity_VS1', -0.017157222792899333),\n",
       " ('depth color_J clarity_VS2', 0.020126876945447857),\n",
       " ('depth color_J clarity_VVS1', -0.010557442663353254),\n",
       " ('depth color_J clarity_VVS2', -0.01278078166605944),\n",
       " ('depth clarity_I1^2', -0.007235751945854838),\n",
       " ('depth clarity_I1 clarity_IF', 0.0),\n",
       " ('depth clarity_I1 clarity_SI1', 0.0),\n",
       " ('depth clarity_I1 clarity_SI2', 0.0),\n",
       " ('depth clarity_I1 clarity_VS1', 0.0),\n",
       " ('depth clarity_I1 clarity_VS2', 0.0),\n",
       " ('depth clarity_I1 clarity_VVS1', 0.0),\n",
       " ('depth clarity_I1 clarity_VVS2', 0.0),\n",
       " ('depth clarity_IF^2', 0.03939638103120239),\n",
       " ('depth clarity_IF clarity_SI1', 0.0),\n",
       " ('depth clarity_IF clarity_SI2', 0.0),\n",
       " ('depth clarity_IF clarity_VS1', 0.0),\n",
       " ('depth clarity_IF clarity_VS2', 0.0),\n",
       " ('depth clarity_IF clarity_VVS1', 0.0),\n",
       " ('depth clarity_IF clarity_VVS2', 0.0),\n",
       " ('depth clarity_SI1^2', -0.023187507567928037),\n",
       " ('depth clarity_SI1 clarity_SI2', 0.0),\n",
       " ('depth clarity_SI1 clarity_VS1', 0.0),\n",
       " ('depth clarity_SI1 clarity_VS2', 0.0),\n",
       " ('depth clarity_SI1 clarity_VVS1', 0.0),\n",
       " ('depth clarity_SI1 clarity_VVS2', 0.0),\n",
       " ('depth clarity_SI2^2', -0.017366965747117425),\n",
       " ('depth clarity_SI2 clarity_VS1', 0.0),\n",
       " ('depth clarity_SI2 clarity_VS2', 0.0),\n",
       " ('depth clarity_SI2 clarity_VVS1', 0.0),\n",
       " ('depth clarity_SI2 clarity_VVS2', 0.0),\n",
       " ('depth clarity_VS1^2', 0.02907990473252821),\n",
       " ('depth clarity_VS1 clarity_VS2', 0.0),\n",
       " ('depth clarity_VS1 clarity_VVS1', 0.0),\n",
       " ('depth clarity_VS1 clarity_VVS2', 0.0),\n",
       " ('depth clarity_VS2^2', -0.03364849865550776),\n",
       " ('depth clarity_VS2 clarity_VVS1', 0.0),\n",
       " ('depth clarity_VS2 clarity_VVS2', 0.0),\n",
       " ('depth clarity_VVS1^2', 0.025541736383695435),\n",
       " ('depth clarity_VVS1 clarity_VVS2', 0.0),\n",
       " ('depth clarity_VVS2^2', 0.023923617349683905),\n",
       " ('table^3', -0.03728850290277835),\n",
       " ('table^2 x', -0.01618910802476552),\n",
       " ('table^2 y', -0.03388667818845499),\n",
       " ('table^2 cut_Fair', 0.0005360571507759487),\n",
       " ('table^2 cut_Good', -0.015366466086958798),\n",
       " ('table^2 cut_Ideal', -0.01742958085752485),\n",
       " ('table^2 cut_Premium', 0.03378829042773057),\n",
       " ('table^2 cut_Very Good', -0.028711676235980366),\n",
       " ('table^2 color_D', -0.031104092346392692),\n",
       " ('table^2 color_E', 0.02837802254583199),\n",
       " ('table^2 color_F', 0.0023519413154330622),\n",
       " ('table^2 color_G', 0.010515965632458317),\n",
       " ('table^2 color_H', -0.016464912392330923),\n",
       " ('table^2 color_I', -0.0033834574054628255),\n",
       " ('table^2 color_J', -0.01747684295149226),\n",
       " ('table^2 clarity_I1', 0.031955926667333046),\n",
       " ('table^2 clarity_IF', 0.028566398753234024),\n",
       " ('table^2 clarity_SI1', -0.004976122641528987),\n",
       " ('table^2 clarity_SI2', -0.013900142045184569),\n",
       " ('table^2 clarity_VS1', 0.006761792263783899),\n",
       " ('table^2 clarity_VS2', -0.034016747534339344),\n",
       " ('table^2 clarity_VVS1', -0.022186530555516667),\n",
       " ('table^2 clarity_VVS2', -0.019387950509737843),\n",
       " ('table x^2', -0.07634796248767825),\n",
       " ...]"
      ]
     },
     "execution_count": 86,
     "metadata": {},
     "output_type": "execute_result"
    }
   ],
   "source": [
    "# pair feature labels with model coefficients\n",
    "feat_imp = list(zip(feature_labels, coefs))\n",
    "feat_imp"
   ]
  },
  {
   "cell_type": "code",
   "execution_count": 87,
   "metadata": {},
   "outputs": [
    {
     "data": {
      "text/plain": [
       "[('carat', 0.8124172040018184),\n",
       " ('x', 0.6236135780291853),\n",
       " ('y', 0.5128647760415282),\n",
       " ('carat^2', 0.45163436050361966),\n",
       " ('carat y', 0.26678504115918494),\n",
       " ('x^3', -0.2590495999123249),\n",
       " ('carat depth', 0.2397947439347358),\n",
       " ('carat x', 0.2384064959563206),\n",
       " ('carat cut_Ideal', 0.23629285096032115),\n",
       " ('carat cut_Ideal^2', 0.23629285096032115)]"
      ]
     },
     "execution_count": 87,
     "metadata": {},
     "output_type": "execute_result"
    }
   ],
   "source": [
    "# sort features by coefficient absolute value and return only top 10\n",
    "feat_imp = sorted(feat_imp, key=lambda pair: abs(pair[1]), reverse=True)[:10]\n",
    "feat_imp"
   ]
  },
  {
   "cell_type": "code",
   "execution_count": 88,
   "metadata": {},
   "outputs": [],
   "source": [
    "# return top 10 feature labels\n",
    "feat_labels = list(zip(*feat_imp))[0]"
   ]
  },
  {
   "cell_type": "code",
   "execution_count": 89,
   "metadata": {},
   "outputs": [],
   "source": [
    "# return top 10 feature coefficients\n",
    "feat_coefs = list(zip(*feat_imp))[1]"
   ]
  },
  {
   "cell_type": "code",
   "execution_count": 90,
   "metadata": {},
   "outputs": [
    {
     "data": {
      "image/png": "[encoded data removed]",
      "text/plain": [
       "<Figure size 432x288 with 1 Axes>"
      ]
     },
     "metadata": {},
     "output_type": "display_data"
    }
   ],
   "source": [
    "# plot top 10 features vs coefficient values\n",
    "plt.bar(feat_labels, feat_coefs)\n",
    "plt.xticks(rotation='vertical');"
   ]
  },
  {
   "cell_type": "markdown",
   "metadata": {},
   "source": [
    "## Predictions"
   ]
  },
  {
   "cell_type": "code",
   "execution_count": 91,
   "metadata": {},
   "outputs": [],
   "source": [
    "# maximum price\n",
    "y_test_max = y_test[y_test == y_test.max()]"
   ]
  },
  {
   "cell_type": "code",
   "execution_count": 92,
   "metadata": {},
   "outputs": [],
   "source": [
    "# minimum price\n",
    "y_test_min = y_test[y_test == y_test.min()]"
   ]
  },
  {
   "cell_type": "code",
   "execution_count": 93,
   "metadata": {},
   "outputs": [],
   "source": [
    "# prices near median\n",
    "y_test_mid = y_test[(y_test < (y_test.median()+20)) & (y_test > (y_test.median()-20))]"
   ]
  },
  {
   "cell_type": "code",
   "execution_count": 94,
   "metadata": {},
   "outputs": [],
   "source": [
    "y_test_sample = pd.concat([y_test_max, y_test_min, y_test_mid])"
   ]
  },
  {
   "cell_type": "code",
   "execution_count": 95,
   "metadata": {},
   "outputs": [
    {
     "data": {
      "text/html": [
       "<div>\n",
       "<style scoped>\n",
       "    .dataframe tbody tr th:only-of-type {\n",
       "        vertical-align: middle;\n",
       "    }\n",
       "\n",
       "    .dataframe tbody tr th {\n",
       "        vertical-align: top;\n",
       "    }\n",
       "\n",
       "    .dataframe thead th {\n",
       "        text-align: right;\n",
       "    }\n",
       "</style>\n",
       "<table border=\"1\" class=\"dataframe\">\n",
       "  <thead>\n",
       "    <tr style=\"text-align: right;\">\n",
       "      <th></th>\n",
       "      <th>carat</th>\n",
       "      <th>depth</th>\n",
       "      <th>table</th>\n",
       "      <th>x</th>\n",
       "      <th>y</th>\n",
       "      <th>cut_Fair</th>\n",
       "      <th>cut_Good</th>\n",
       "      <th>cut_Ideal</th>\n",
       "      <th>cut_Premium</th>\n",
       "      <th>cut_Very Good</th>\n",
       "      <th>...</th>\n",
       "      <th>color_I</th>\n",
       "      <th>color_J</th>\n",
       "      <th>clarity_I1</th>\n",
       "      <th>clarity_IF</th>\n",
       "      <th>clarity_SI1</th>\n",
       "      <th>clarity_SI2</th>\n",
       "      <th>clarity_VS1</th>\n",
       "      <th>clarity_VS2</th>\n",
       "      <th>clarity_VVS1</th>\n",
       "      <th>clarity_VVS2</th>\n",
       "    </tr>\n",
       "  </thead>\n",
       "  <tbody>\n",
       "    <tr>\n",
       "      <th>27628</th>\n",
       "      <td>0.760806</td>\n",
       "      <td>60.3</td>\n",
       "      <td>60.0</td>\n",
       "      <td>8.31</td>\n",
       "      <td>8.43</td>\n",
       "      <td>0</td>\n",
       "      <td>0</td>\n",
       "      <td>0</td>\n",
       "      <td>0</td>\n",
       "      <td>1</td>\n",
       "      <td>...</td>\n",
       "      <td>0</td>\n",
       "      <td>0</td>\n",
       "      <td>0</td>\n",
       "      <td>0</td>\n",
       "      <td>0</td>\n",
       "      <td>1</td>\n",
       "      <td>0</td>\n",
       "      <td>0</td>\n",
       "      <td>0</td>\n",
       "      <td>0</td>\n",
       "    </tr>\n",
       "    <tr>\n",
       "      <th>38253</th>\n",
       "      <td>-1.171183</td>\n",
       "      <td>62.5</td>\n",
       "      <td>60.0</td>\n",
       "      <td>4.31</td>\n",
       "      <td>4.36</td>\n",
       "      <td>0</td>\n",
       "      <td>0</td>\n",
       "      <td>0</td>\n",
       "      <td>1</td>\n",
       "      <td>0</td>\n",
       "      <td>...</td>\n",
       "      <td>0</td>\n",
       "      <td>1</td>\n",
       "      <td>0</td>\n",
       "      <td>0</td>\n",
       "      <td>0</td>\n",
       "      <td>0</td>\n",
       "      <td>0</td>\n",
       "      <td>1</td>\n",
       "      <td>0</td>\n",
       "      <td>0</td>\n",
       "    </tr>\n",
       "    <tr>\n",
       "      <th>51890</th>\n",
       "      <td>-0.248461</td>\n",
       "      <td>57.5</td>\n",
       "      <td>63.0</td>\n",
       "      <td>6.13</td>\n",
       "      <td>6.05</td>\n",
       "      <td>0</td>\n",
       "      <td>1</td>\n",
       "      <td>0</td>\n",
       "      <td>0</td>\n",
       "      <td>0</td>\n",
       "      <td>...</td>\n",
       "      <td>0</td>\n",
       "      <td>0</td>\n",
       "      <td>0</td>\n",
       "      <td>0</td>\n",
       "      <td>0</td>\n",
       "      <td>1</td>\n",
       "      <td>0</td>\n",
       "      <td>0</td>\n",
       "      <td>0</td>\n",
       "      <td>0</td>\n",
       "    </tr>\n",
       "    <tr>\n",
       "      <th>51718</th>\n",
       "      <td>-0.356675</td>\n",
       "      <td>57.2</td>\n",
       "      <td>63.0</td>\n",
       "      <td>5.84</td>\n",
       "      <td>5.87</td>\n",
       "      <td>0</td>\n",
       "      <td>1</td>\n",
       "      <td>0</td>\n",
       "      <td>0</td>\n",
       "      <td>0</td>\n",
       "      <td>...</td>\n",
       "      <td>0</td>\n",
       "      <td>0</td>\n",
       "      <td>0</td>\n",
       "      <td>0</td>\n",
       "      <td>1</td>\n",
       "      <td>0</td>\n",
       "      <td>0</td>\n",
       "      <td>0</td>\n",
       "      <td>0</td>\n",
       "      <td>0</td>\n",
       "    </tr>\n",
       "    <tr>\n",
       "      <th>51846</th>\n",
       "      <td>-0.356675</td>\n",
       "      <td>63.8</td>\n",
       "      <td>60.0</td>\n",
       "      <td>5.63</td>\n",
       "      <td>5.60</td>\n",
       "      <td>0</td>\n",
       "      <td>1</td>\n",
       "      <td>0</td>\n",
       "      <td>0</td>\n",
       "      <td>0</td>\n",
       "      <td>...</td>\n",
       "      <td>0</td>\n",
       "      <td>0</td>\n",
       "      <td>0</td>\n",
       "      <td>0</td>\n",
       "      <td>1</td>\n",
       "      <td>0</td>\n",
       "      <td>0</td>\n",
       "      <td>0</td>\n",
       "      <td>0</td>\n",
       "      <td>0</td>\n",
       "    </tr>\n",
       "    <tr>\n",
       "      <th>51586</th>\n",
       "      <td>-0.314711</td>\n",
       "      <td>60.3</td>\n",
       "      <td>58.0</td>\n",
       "      <td>5.87</td>\n",
       "      <td>5.83</td>\n",
       "      <td>0</td>\n",
       "      <td>0</td>\n",
       "      <td>0</td>\n",
       "      <td>1</td>\n",
       "      <td>0</td>\n",
       "      <td>...</td>\n",
       "      <td>1</td>\n",
       "      <td>0</td>\n",
       "      <td>0</td>\n",
       "      <td>0</td>\n",
       "      <td>0</td>\n",
       "      <td>0</td>\n",
       "      <td>1</td>\n",
       "      <td>0</td>\n",
       "      <td>0</td>\n",
       "      <td>0</td>\n",
       "    </tr>\n",
       "  </tbody>\n",
       "</table>\n",
       "<p>6 rows × 25 columns</p>\n",
       "</div>"
      ],
      "text/plain": [
       "          carat  depth  table     x     y  cut_Fair  cut_Good  cut_Ideal  \\\n",
       "27628  0.760806   60.3   60.0  8.31  8.43         0         0          0   \n",
       "38253 -1.171183   62.5   60.0  4.31  4.36         0         0          0   \n",
       "51890 -0.248461   57.5   63.0  6.13  6.05         0         1          0   \n",
       "51718 -0.356675   57.2   63.0  5.84  5.87         0         1          0   \n",
       "51846 -0.356675   63.8   60.0  5.63  5.60         0         1          0   \n",
       "51586 -0.314711   60.3   58.0  5.87  5.83         0         0          0   \n",
       "\n",
       "       cut_Premium  cut_Very Good      ...       color_I  color_J  clarity_I1  \\\n",
       "27628            0              1      ...             0        0           0   \n",
       "38253            1              0      ...             0        1           0   \n",
       "51890            0              0      ...             0        0           0   \n",
       "51718            0              0      ...             0        0           0   \n",
       "51846            0              0      ...             0        0           0   \n",
       "51586            1              0      ...             1        0           0   \n",
       "\n",
       "       clarity_IF  clarity_SI1  clarity_SI2  clarity_VS1  clarity_VS2  \\\n",
       "27628           0            0            1            0            0   \n",
       "38253           0            0            0            0            1   \n",
       "51890           0            0            1            0            0   \n",
       "51718           0            1            0            0            0   \n",
       "51846           0            1            0            0            0   \n",
       "51586           0            0            0            1            0   \n",
       "\n",
       "       clarity_VVS1  clarity_VVS2  \n",
       "27628             0             0  \n",
       "38253             0             0  \n",
       "51890             0             0  \n",
       "51718             0             0  \n",
       "51846             0             0  \n",
       "51586             0             0  \n",
       "\n",
       "[6 rows x 25 columns]"
      ]
     },
     "execution_count": 95,
     "metadata": {},
     "output_type": "execute_result"
    }
   ],
   "source": [
    "X_test_sample = X_test_ln.loc[y_test_sample.index, :]\n",
    "X_test_sample"
   ]
  },
  {
   "cell_type": "code",
   "execution_count": 96,
   "metadata": {
    "scrolled": true
   },
   "outputs": [
    {
     "data": {
      "text/plain": [
       "array([9.74583857, 6.27140791, 7.9017268 , 7.68504519, 7.70445861,\n",
       "       7.75452957])"
      ]
     },
     "execution_count": 96,
     "metadata": {},
     "output_type": "execute_result"
    }
   ],
   "source": [
    "# output model predictions (output in log-scale)\n",
    "lr_reg_pipe.predict(X_test_sample)"
   ]
  },
  {
   "cell_type": "code",
   "execution_count": 97,
   "metadata": {
    "scrolled": true
   },
   "outputs": [
    {
     "data": {
      "text/plain": [
       "array([17082.99101317,   529.22195026,  2701.94403005,  2175.56828804,\n",
       "        2218.21613204,  2332.11198914])"
      ]
     },
     "execution_count": 97,
     "metadata": {},
     "output_type": "execute_result"
    }
   ],
   "source": [
    "# transform model predictions back to normal scale\n",
    "predictions = np.exp(lr_reg_pipe.predict(X_test_sample))\n",
    "predictions"
   ]
  },
  {
   "cell_type": "code",
   "execution_count": 98,
   "metadata": {},
   "outputs": [
    {
     "data": {
      "text/plain": [
       "array([18526,   380,  2430,  2401,  2423,  2393])"
      ]
     },
     "execution_count": 98,
     "metadata": {},
     "output_type": "execute_result"
    }
   ],
   "source": [
    "y_test_sample.values"
   ]
  },
  {
   "cell_type": "code",
   "execution_count": 99,
   "metadata": {},
   "outputs": [
    {
     "data": {
      "text/plain": [
       "array([1443.00898683,  149.22195026,  271.94403005,  225.43171196,\n",
       "        204.78386796,   60.88801086])"
      ]
     },
     "execution_count": 99,
     "metadata": {},
     "output_type": "execute_result"
    }
   ],
   "source": [
    "abs(y_test_sample.values - predictions)"
   ]
  },
  {
   "cell_type": "code",
   "execution_count": 100,
   "metadata": {},
   "outputs": [
    {
     "data": {
      "image/png": "[encoded data removed]",
      "text/plain": [
       "<Figure size 432x288 with 1 Axes>"
      ]
     },
     "metadata": {},
     "output_type": "display_data"
    }
   ],
   "source": [
    "plt.scatter(range(1, len(X_test_sample)+1), predictions)\n",
    "plt.scatter(range(1, len(y_test_sample)+1), y_test_sample);"
   ]
  },
  {
   "cell_type": "code",
   "execution_count": null,
   "metadata": {},
   "outputs": [],
   "source": []
  }
 ],
 "metadata": {
  "kernelspec": {
   "display_name": "Python 3",
   "language": "python",
   "name": "python3"
  },
  "language_info": {
   "codemirror_mode": {
    "name": "ipython",
    "version": 3
   },
   "file_extension": ".py",
   "mimetype": "text/x-python",
   "name": "python",
   "nbconvert_exporter": "python",
   "pygments_lexer": "ipython3",
   "version": "3.6.5"
  }
 },
 "nbformat": 4,
 "nbformat_minor": 2
}
