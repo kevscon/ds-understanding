{
 "cells": [
  {
   "cell_type": "code",
   "execution_count": 1,
   "metadata": {},
   "outputs": [],
   "source": [
    "import re"
   ]
  },
  {
   "cell_type": "markdown",
   "metadata": {},
   "source": [
    "# Chapter I: The MIU System"
   ]
  },
  {
   "cell_type": "markdown",
   "metadata": {},
   "source": [
    "- formal system: rule-based methods to derive theorem(s) from axiom\n",
    "- axiom: string from which theorems can be derived in a formal system\n",
    "- theorem: strings produced from a formal system's rules\n",
    "- decision procedure: test for theoremhood within a formal system"
   ]
  },
  {
   "cell_type": "code",
   "execution_count": 2,
   "metadata": {},
   "outputs": [],
   "source": [
    "axiom = \"MI\""
   ]
  },
  {
   "cell_type": "code",
   "execution_count": 3,
   "metadata": {},
   "outputs": [],
   "source": [
    "iterations = 3"
   ]
  },
  {
   "cell_type": "code",
   "execution_count": 4,
   "metadata": {},
   "outputs": [],
   "source": [
    "theorems = []"
   ]
  },
  {
   "cell_type": "code",
   "execution_count": 5,
   "metadata": {},
   "outputs": [],
   "source": [
    "def miu_thrms(string):\n",
    "    # initialize list of strings\n",
    "    thrms = []\n",
    "    # Rule 1\n",
    "    if string[-1] == \"I\":\n",
    "        thrms.append(string + \"U\")\n",
    "    # Rule 2\n",
    "    if string[0] == \"M\":\n",
    "        thrms.append(string + string[1:])\n",
    "    # Rule 3\n",
    "    if \"III\" in string:\n",
    "        # starting index for each group of \"III\" in string\n",
    "        rep_idx = [m.start() for m in re.finditer('III', string)]\n",
    "        # create theorem for each group of \"III\"\n",
    "        for i in rep_idx:\n",
    "            thrms.append(string[0:i] + \"U\" + string[i+len(\"III\"):])\n",
    "    # Rule 4\n",
    "    if \"UU\" in string:\n",
    "        # starting index for each group of \"UU\" in string\n",
    "        rep_idx = [m.start() for m in re.finditer('UU', string)]\n",
    "        # create theorem for each group of \"UU\"\n",
    "        for i in rep_idx:\n",
    "            thrms.append(string[0:i] + \"\" + string[i+len(\"UU\"):])\n",
    "    # return list of thrms\n",
    "    return(thrms)"
   ]
  },
  {
   "cell_type": "code",
   "execution_count": 6,
   "metadata": {},
   "outputs": [],
   "source": [
    "theorems += miu_thrms(axiom)"
   ]
  },
  {
   "cell_type": "code",
   "execution_count": 7,
   "metadata": {},
   "outputs": [
    {
     "data": {
      "text/plain": [
       "['MIU', 'MII']"
      ]
     },
     "execution_count": 7,
     "metadata": {},
     "output_type": "execute_result"
    }
   ],
   "source": [
    "theorems"
   ]
  },
  {
   "cell_type": "code",
   "execution_count": 8,
   "metadata": {},
   "outputs": [],
   "source": [
    "# iterate through theorem production\n",
    "for i in range(iterations):\n",
    "    # initiate theorem list for each input string\n",
    "    lcl_thrms = []\n",
    "    # iterate through current theorem collection\n",
    "    for j in theorems:\n",
    "        # produce new theorems\n",
    "        lcl_thrms += miu_thrms(j)\n",
    "    # add new theorems to collection\n",
    "    theorems += lcl_thrms"
   ]
  },
  {
   "cell_type": "code",
   "execution_count": 9,
   "metadata": {},
   "outputs": [
    {
     "data": {
      "text/plain": [
       "['MIU',\n",
       " 'MII',\n",
       " 'MIUIU',\n",
       " 'MIIU',\n",
       " 'MIIII',\n",
       " 'MIUIU',\n",
       " 'MIIU',\n",
       " 'MIIII',\n",
       " 'MIUIUIUIU',\n",
       " 'MIIUIIU',\n",
       " 'MIIIIU',\n",
       " 'MIIIIIIII',\n",
       " 'MUI',\n",
       " 'MIUIU',\n",
       " 'MIIU',\n",
       " 'MIIII',\n",
       " 'MIUIUIUIU',\n",
       " 'MIIUIIU',\n",
       " 'MIIIIU',\n",
       " 'MIIIIIIII',\n",
       " 'MUI',\n",
       " 'MIUIUIUIU',\n",
       " 'MIIUIIU',\n",
       " 'MIIIIU',\n",
       " 'MIIIIIIII',\n",
       " 'MUI',\n",
       " 'MIUIUIUIUIUIUIUIU',\n",
       " 'MIIUIIUIIUIIU',\n",
       " 'MIIIIUIIIIU',\n",
       " 'MUIU',\n",
       " 'MIIIIIIIIU',\n",
       " 'MIIIIIIIIIIIIIIII',\n",
       " 'MUIIIII',\n",
       " 'MIIIUII',\n",
       " 'MUIU',\n",
       " 'MUIUI']"
      ]
     },
     "execution_count": 9,
     "metadata": {},
     "output_type": "execute_result"
    }
   ],
   "source": [
    "# list of all theorems for specified number of iterations\n",
    "theorems"
   ]
  },
  {
   "cell_type": "code",
   "execution_count": 10,
   "metadata": {},
   "outputs": [
    {
     "data": {
      "text/plain": [
       "False"
      ]
     },
     "execution_count": 10,
     "metadata": {},
     "output_type": "execute_result"
    }
   ],
   "source": [
    "\"MU\" in theorems"
   ]
  },
  {
   "cell_type": "markdown",
   "metadata": {},
   "source": [
    "# Chapter II: The pq- System"
   ]
  },
  {
   "cell_type": "markdown",
   "metadata": {},
   "source": [
    "- isomorphism: elements of two systems can be mapped to each other\n",
    "- well-formed string: string that makes \"grammatical\" sense"
   ]
  },
  {
   "cell_type": "code",
   "execution_count": 11,
   "metadata": {},
   "outputs": [],
   "source": [
    "axiom = \"--p-q---\""
   ]
  },
  {
   "cell_type": "code",
   "execution_count": 12,
   "metadata": {},
   "outputs": [],
   "source": [
    "def axm_chk(string):\n",
    "    # axiom definition, xp-qx-\n",
    "    str_grp = re.match(r'(-+)p-q(-+)$', string)\n",
    "    if len(str_grp.group(1)) + 1 == len(str_grp.group(2)):\n",
    "        print('string is an axiom')\n",
    "    else:\n",
    "        print('string is not an axiom')"
   ]
  },
  {
   "cell_type": "code",
   "execution_count": 13,
   "metadata": {},
   "outputs": [
    {
     "name": "stdout",
     "output_type": "stream",
     "text": [
      "string is an axiom\n"
     ]
    }
   ],
   "source": [
    "axm_chk(axiom)"
   ]
  },
  {
   "cell_type": "code",
   "execution_count": 14,
   "metadata": {},
   "outputs": [],
   "source": [
    "def pq_thrms(string):\n",
    "    # production rule\n",
    "    return(string[:string.find('p')+1] + '-' + string[string.find('p')+1:] + '-')"
   ]
  },
  {
   "cell_type": "code",
   "execution_count": 15,
   "metadata": {},
   "outputs": [
    {
     "data": {
      "text/plain": [
       "'--p--q----'"
      ]
     },
     "execution_count": 15,
     "metadata": {},
     "output_type": "execute_result"
    }
   ],
   "source": [
    "pq_thrms(axiom)"
   ]
  },
  {
   "cell_type": "code",
   "execution_count": null,
   "metadata": {},
   "outputs": [],
   "source": []
  }
 ],
 "metadata": {
  "kernelspec": {
   "display_name": "Python 3",
   "language": "python",
   "name": "python3"
  },
  "language_info": {
   "codemirror_mode": {
    "name": "ipython",
    "version": 3
   },
   "file_extension": ".py",
   "mimetype": "text/x-python",
   "name": "python",
   "nbconvert_exporter": "python",
   "pygments_lexer": "ipython3",
   "version": "3.6.5"
  }
 },
 "nbformat": 4,
 "nbformat_minor": 2
}
