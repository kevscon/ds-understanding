{
 "cells": [
  {
   "cell_type": "code",
   "execution_count": 1,
   "metadata": {},
   "outputs": [],
   "source": [
    "import re"
   ]
  },
  {
   "cell_type": "markdown",
   "metadata": {},
   "source": [
    "# Chapter I: The MIU System"
   ]
  },
  {
   "cell_type": "markdown",
   "metadata": {},
   "source": [
    "- formal system: rule-based methods to derive theorem(s) from axiom\n",
    "- axiom: string from which theorems can be derived in a formal system\n",
    "- theorem: strings produced from a formal system's rules\n",
    "- decision procedure: test for theoremhood within a formal system"
   ]
  },
  {
   "cell_type": "code",
   "execution_count": 2,
   "metadata": {},
   "outputs": [],
   "source": [
    "axiom = \"MI\""
   ]
  },
  {
   "cell_type": "code",
   "execution_count": 3,
   "metadata": {},
   "outputs": [],
   "source": [
    "iterations = 3"
   ]
  },
  {
   "cell_type": "code",
   "execution_count": 4,
   "metadata": {},
   "outputs": [],
   "source": [
    "theorems = []"
   ]
  },
  {
   "cell_type": "code",
   "execution_count": 5,
   "metadata": {},
   "outputs": [],
   "source": [
    "def miu_thrms(string):\n",
    "    # initialize list of strings\n",
    "    thrms = []\n",
    "    # Rule 1\n",
    "    if string[-1] == \"I\":\n",
    "        thrms.append(string + \"U\")\n",
    "    # Rule 2\n",
    "    if string[0] == \"M\":\n",
    "        thrms.append(string + string[1:])\n",
    "    # Rule 3\n",
    "    if \"III\" in string:\n",
    "        # starting index for each group of \"III\" in string\n",
    "        rep_idx = [m.start() for m in re.finditer('III', string)]\n",
    "        # create theorem for each group of \"III\"\n",
    "        for i in rep_idx:\n",
    "            thrms.append(string[0:i] + \"U\" + string[i+len(\"III\"):])\n",
    "    # Rule 4\n",
    "    if \"UU\" in string:\n",
    "        # starting index for each group of \"UU\" in string\n",
    "        rep_idx = [m.start() for m in re.finditer('UU', string)]\n",
    "        # create theorem for each group of \"UU\"\n",
    "        for i in rep_idx:\n",
    "            thrms.append(string[0:i] + \"\" + string[i+len(\"UU\"):])\n",
    "    # return list of thrms\n",
    "    return(thrms)"
   ]
  },
  {
   "cell_type": "code",
   "execution_count": 6,
   "metadata": {},
   "outputs": [],
   "source": [
    "theorems += miu_thrms(axiom)"
   ]
  },
  {
   "cell_type": "code",
   "execution_count": 7,
   "metadata": {},
   "outputs": [
    {
     "data": {
      "text/plain": [
       "['MIU', 'MII']"
      ]
     },
     "execution_count": 7,
     "metadata": {},
     "output_type": "execute_result"
    }
   ],
   "source": [
    "theorems"
   ]
  },
  {
   "cell_type": "code",
   "execution_count": 8,
   "metadata": {},
   "outputs": [],
   "source": [
    "# iterate through theorem production\n",
    "for i in range(iterations):\n",
    "    # initiate theorem list for each input string\n",
    "    lcl_thrms = []\n",
    "    # iterate through current theorem collection\n",
    "    for j in theorems:\n",
    "        # produce new theorems\n",
    "        lcl_thrms += miu_thrms(j)\n",
    "    # add new theorems to collection\n",
    "    theorems += lcl_thrms"
   ]
  },
  {
   "cell_type": "code",
   "execution_count": 9,
   "metadata": {},
   "outputs": [
    {
     "data": {
      "text/plain": [
       "['MIU',\n",
       " 'MII',\n",
       " 'MIUIU',\n",
       " 'MIIU',\n",
       " 'MIIII',\n",
       " 'MIUIU',\n",
       " 'MIIU',\n",
       " 'MIIII',\n",
       " 'MIUIUIUIU',\n",
       " 'MIIUIIU',\n",
       " 'MIIIIU',\n",
       " 'MIIIIIIII',\n",
       " 'MUI',\n",
       " 'MIUIU',\n",
       " 'MIIU',\n",
       " 'MIIII',\n",
       " 'MIUIUIUIU',\n",
       " 'MIIUIIU',\n",
       " 'MIIIIU',\n",
       " 'MIIIIIIII',\n",
       " 'MUI',\n",
       " 'MIUIUIUIU',\n",
       " 'MIIUIIU',\n",
       " 'MIIIIU',\n",
       " 'MIIIIIIII',\n",
       " 'MUI',\n",
       " 'MIUIUIUIUIUIUIUIU',\n",
       " 'MIIUIIUIIUIIU',\n",
       " 'MIIIIUIIIIU',\n",
       " 'MUIU',\n",
       " 'MIIIIIIIIU',\n",
       " 'MIIIIIIIIIIIIIIII',\n",
       " 'MUIIIII',\n",
       " 'MIIIUII',\n",
       " 'MUIU',\n",
       " 'MUIUI']"
      ]
     },
     "execution_count": 9,
     "metadata": {},
     "output_type": "execute_result"
    }
   ],
   "source": [
    "# list of all theorems for specified number of iterations\n",
    "theorems"
   ]
  },
  {
   "cell_type": "code",
   "execution_count": 10,
   "metadata": {},
   "outputs": [
    {
     "data": {
      "text/plain": [
       "False"
      ]
     },
     "execution_count": 10,
     "metadata": {},
     "output_type": "execute_result"
    }
   ],
   "source": [
    "\"MU\" in theorems"
   ]
  },
  {
   "cell_type": "markdown",
   "metadata": {},
   "source": [
    "# Chapter II: The pq- System"
   ]
  },
  {
   "cell_type": "markdown",
   "metadata": {},
   "source": [
    "- isomorphism: elements of two systems can be mapped to each other\n",
    "- well-formed string: string that makes \"grammatical\" sense"
   ]
  },
  {
   "cell_type": "code",
   "execution_count": 11,
   "metadata": {},
   "outputs": [],
   "source": [
    "axiom = \"--p-q---\""
   ]
  },
  {
   "cell_type": "code",
   "execution_count": 12,
   "metadata": {},
   "outputs": [],
   "source": [
    "def pq_axm_chk(string):\n",
    "    # axiom definition, xp-qx-\n",
    "    str_grp = re.match(r'(-+)p-q(-+)$', string)\n",
    "    if len(str_grp.group(1)) + 1 == len(str_grp.group(2)):\n",
    "        print('string is an axiom')\n",
    "    else:\n",
    "        print('string is not an axiom')"
   ]
  },
  {
   "cell_type": "code",
   "execution_count": 13,
   "metadata": {},
   "outputs": [
    {
     "name": "stdout",
     "output_type": "stream",
     "text": [
      "string is an axiom\n"
     ]
    }
   ],
   "source": [
    "pq_axm_chk(axiom)"
   ]
  },
  {
   "cell_type": "code",
   "execution_count": 14,
   "metadata": {},
   "outputs": [],
   "source": [
    "def pq_thrms(string):\n",
    "    # production rule\n",
    "    return(string[:string.find('p')+1] + '-' + string[string.find('p')+1:] + '-')"
   ]
  },
  {
   "cell_type": "code",
   "execution_count": 15,
   "metadata": {},
   "outputs": [
    {
     "data": {
      "text/plain": [
       "'--p--q----'"
      ]
     },
     "execution_count": 15,
     "metadata": {},
     "output_type": "execute_result"
    }
   ],
   "source": [
    "pq_thrms(axiom)"
   ]
  },
  {
   "cell_type": "markdown",
   "metadata": {},
   "source": [
    "# Chapter III"
   ]
  },
  {
   "cell_type": "markdown",
   "metadata": {},
   "source": [
    "## The tq- System"
   ]
  },
  {
   "cell_type": "code",
   "execution_count": 16,
   "metadata": {},
   "outputs": [],
   "source": [
    "axiom = \"--t-q--\""
   ]
  },
  {
   "cell_type": "code",
   "execution_count": 17,
   "metadata": {},
   "outputs": [],
   "source": [
    "def tq_axm_chk(string):\n",
    "    # axiom definition, xt-qx\n",
    "    str_grp = re.match(r'(-+)t-q(-+)$', string)\n",
    "    if len(str_grp.group(1)) == len(str_grp.group(2)):\n",
    "        print('string is an axiom')\n",
    "    else:\n",
    "        print('string is not an axiom')"
   ]
  },
  {
   "cell_type": "code",
   "execution_count": 18,
   "metadata": {},
   "outputs": [
    {
     "name": "stdout",
     "output_type": "stream",
     "text": [
      "string is an axiom\n"
     ]
    }
   ],
   "source": [
    "tq_axm_chk(axiom)"
   ]
  },
  {
   "cell_type": "code",
   "execution_count": 19,
   "metadata": {},
   "outputs": [],
   "source": [
    "def tq_thrms(string):\n",
    "    # break string into hyphen groups\n",
    "    str_grp = re.match(r'(-+)t(-+)q(-+)$', string)\n",
    "    # define each hyphen group and its number of hyphens\n",
    "    x = str_grp.group(1)\n",
    "    X = len(x)\n",
    "    y = str_grp.group(2)\n",
    "    Y = len(y)\n",
    "    z = str_grp.group(3)\n",
    "    Z = len(z)\n",
    "    # Rule of Inference\n",
    "    return(x + 't' + y + '-q' + Z*X*'-')"
   ]
  },
  {
   "cell_type": "code",
   "execution_count": 20,
   "metadata": {},
   "outputs": [
    {
     "data": {
      "text/plain": [
       "'--t--q----'"
      ]
     },
     "execution_count": 20,
     "metadata": {},
     "output_type": "execute_result"
    }
   ],
   "source": [
    "tq_thrms(axiom)"
   ]
  },
  {
   "cell_type": "markdown",
   "metadata": {},
   "source": [
    "## Primes"
   ]
  },
  {
   "cell_type": "code",
   "execution_count": 21,
   "metadata": {},
   "outputs": [],
   "source": [
    "def thrm_chk(string):\n",
    "    # axiom definition, xyDNDx\n",
    "    str_grp = re.match(r'(-+)DND(-+)$', string)\n",
    "    x = str_grp.group(2)\n",
    "    X = len(x)\n",
    "    xy = str_grp.group(1)\n",
    "    Y = len(xy) - X\n",
    "    if (X + Y) % X == 0:\n",
    "        return(False)\n",
    "    else:\n",
    "        return(True)"
   ]
  },
  {
   "cell_type": "code",
   "execution_count": 22,
   "metadata": {},
   "outputs": [],
   "source": [
    "def prod1(string):\n",
    "    str_grp = re.match(r'(-+)DND(-+)$', string)\n",
    "    x = str_grp.group(1)\n",
    "    y = str_grp.group(2)\n",
    "    return(x + 'DND' + x + y)"
   ]
  },
  {
   "cell_type": "code",
   "execution_count": 23,
   "metadata": {},
   "outputs": [],
   "source": [
    "def prod2(string):\n",
    "    str_grp = re.match(r'--DND(-+)$', string)\n",
    "    if str_grp:\n",
    "        z = str_grp.group(1)\n",
    "        return(z + 'DF--')"
   ]
  },
  {
   "cell_type": "code",
   "execution_count": 24,
   "metadata": {},
   "outputs": [],
   "source": [
    "def prod3(string):\n",
    "    str_grp = re.match(r'(-+)DF(-+)$', string)\n",
    "    z = str_grp.group(1)\n",
    "    Z = len(z)\n",
    "    x = str_grp.group(2)\n",
    "    X = len(x)\n",
    "    if X + 1 % Z:\n",
    "        return(z + 'DF' + x + '-')"
   ]
  },
  {
   "cell_type": "code",
   "execution_count": 25,
   "metadata": {},
   "outputs": [],
   "source": [
    "def prod4(string):\n",
    "    str_grp = re.match(r'(-+)DF(-+)$', string)\n",
    "    z = str_grp.group(2)\n",
    "    if str_grp.group(1) == z + '-':\n",
    "        return('P' + z + '-')"
   ]
  },
  {
   "cell_type": "code",
   "execution_count": 26,
   "metadata": {},
   "outputs": [],
   "source": [
    "# 2 is prime...\n",
    "axiom = 'P--'"
   ]
  },
  {
   "cell_type": "code",
   "execution_count": 27,
   "metadata": {},
   "outputs": [],
   "source": [
    "# create list of possible theorems\n",
    "i_num = 5\n",
    "thrm_list = []\n",
    "for i in range(1, i_num):\n",
    "    for j in range(1, i_num):\n",
    "        thrm_list.append('-'*i + 'DND' + '-'*j)"
   ]
  },
  {
   "cell_type": "code",
   "execution_count": 28,
   "metadata": {},
   "outputs": [
    {
     "data": {
      "text/plain": [
       "['-DND--',\n",
       " '-DND---',\n",
       " '-DND----',\n",
       " '--DND---',\n",
       " '--DND----',\n",
       " '---DND--',\n",
       " '---DND----',\n",
       " '----DND---']"
      ]
     },
     "execution_count": 28,
     "metadata": {},
     "output_type": "execute_result"
    }
   ],
   "source": [
    "# check if theorems\n",
    "tf_list = list(map(lambda x: thrm_chk(x), thrm_list))\n",
    "# keep true theorems\n",
    "true_thrms = [i for (i, v) in zip(thrm_list, tf_list) if v]\n",
    "true_thrms"
   ]
  },
  {
   "cell_type": "code",
   "execution_count": 29,
   "metadata": {},
   "outputs": [
    {
     "data": {
      "text/plain": [
       "['-DND---',\n",
       " '-DND----',\n",
       " '-DND-----',\n",
       " '--DND-----',\n",
       " '--DND------',\n",
       " '---DND-----',\n",
       " '---DND-------',\n",
       " '----DND-------']"
      ]
     },
     "execution_count": 29,
     "metadata": {},
     "output_type": "execute_result"
    }
   ],
   "source": [
    "# produce new theorems with Rule 1\n",
    "thrms1 = [prod1(i) for i in true_thrms]\n",
    "thrms1"
   ]
  },
  {
   "cell_type": "code",
   "execution_count": 30,
   "metadata": {},
   "outputs": [
    {
     "data": {
      "text/plain": [
       "['---DF--', '----DF--']"
      ]
     },
     "execution_count": 30,
     "metadata": {},
     "output_type": "execute_result"
    }
   ],
   "source": [
    "# ... with Rule 2\n",
    "thrms2 = [prod2(i) for i in true_thrms]\n",
    "# drop None values\n",
    "thrms2 = [i for i in thrms2 if i]\n",
    "thrms2"
   ]
  },
  {
   "cell_type": "code",
   "execution_count": 31,
   "metadata": {},
   "outputs": [
    {
     "data": {
      "text/plain": [
       "['---DF---', '----DF---']"
      ]
     },
     "execution_count": 31,
     "metadata": {},
     "output_type": "execute_result"
    }
   ],
   "source": [
    "# ... with Rule 3\n",
    "thrms3 = [prod3(i) for i in thrms2]\n",
    "thrms3"
   ]
  },
  {
   "cell_type": "code",
   "execution_count": 32,
   "metadata": {},
   "outputs": [
    {
     "data": {
      "text/plain": [
       "['P---', 'P----']"
      ]
     },
     "execution_count": 32,
     "metadata": {},
     "output_type": "execute_result"
    }
   ],
   "source": [
    "# with Rule 4\n",
    "thrms4 = [prod4(i) for i in thrms2 + thrms3]\n",
    "# drop None values\n",
    "thrms4 = [i for i in thrms4 if i]\n",
    "thrms4"
   ]
  },
  {
   "cell_type": "code",
   "execution_count": null,
   "metadata": {},
   "outputs": [],
   "source": []
  }
 ],
 "metadata": {
  "kernelspec": {
   "display_name": "Python 3",
   "language": "python",
   "name": "python3"
  },
  "language_info": {
   "codemirror_mode": {
    "name": "ipython",
    "version": 3
   },
   "file_extension": ".py",
   "mimetype": "text/x-python",
   "name": "python",
   "nbconvert_exporter": "python",
   "pygments_lexer": "ipython3",
   "version": "3.6.5"
  }
 },
 "nbformat": 4,
 "nbformat_minor": 2
}
