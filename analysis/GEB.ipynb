{
 "cells": [
  {
   "cell_type": "markdown",
   "metadata": {},
   "source": [
    "# The MIU System"
   ]
  },
  {
   "cell_type": "code",
   "execution_count": 66,
   "metadata": {},
   "outputs": [],
   "source": [
    "import re"
   ]
  },
  {
   "cell_type": "code",
   "execution_count": 92,
   "metadata": {},
   "outputs": [],
   "source": [
    "string_0 = \"MIIIUUIII\""
   ]
  },
  {
   "cell_type": "code",
   "execution_count": 95,
   "metadata": {},
   "outputs": [],
   "source": [
    "def miu_thrms(axiom):\n",
    "    # initialize list of strings\n",
    "    theorems = []\n",
    "    # Rule 1\n",
    "    if axiom[-1] == \"I\":\n",
    "        theorems.append(axiom + \"U\")\n",
    "    # Rule 2\n",
    "    if axiom[0] == \"M\":\n",
    "        theorems.append(axiom + axiom[1:])\n",
    "    # Rule 3\n",
    "    if \"III\" in axiom:\n",
    "        # starting index for each group of \"III\" in string\n",
    "        rep_idx = [m.start() for m in re.finditer('III', string_0)]\n",
    "        # create theorem for each group of \"III\"\n",
    "        for i in rep_idx:\n",
    "            theorems.append(string_0[0:i] + \"U\" + string_0[i+len(\"III\"):])\n",
    "    # Rule 4\n",
    "    if \"UU\" in axiom:\n",
    "        # starting index for each group of \"III\" in string\n",
    "        rep_idx = [m.start() for m in re.finditer('UU', string_0)]\n",
    "        # create theorem for each group of \"III\"\n",
    "        for i in rep_idx:\n",
    "            theorems.append(string_0[0:i] + \"\" + string_0[i+len(\"UU\"):])\n",
    "    # return list of theorems\n",
    "    return(theorems)"
   ]
  },
  {
   "cell_type": "code",
   "execution_count": 96,
   "metadata": {},
   "outputs": [
    {
     "data": {
      "text/plain": [
       "['MIIIUUIIIU', 'MIIIUUIIIIIIUUIII', 'MUUUIII', 'MIIIUUU', 'MIIIIII']"
      ]
     },
     "execution_count": 96,
     "metadata": {},
     "output_type": "execute_result"
    }
   ],
   "source": [
    "miu_thrms(string_0)"
   ]
  },
  {
   "cell_type": "code",
   "execution_count": null,
   "metadata": {},
   "outputs": [],
   "source": []
  },
  {
   "cell_type": "code",
   "execution_count": null,
   "metadata": {},
   "outputs": [],
   "source": []
  },
  {
   "cell_type": "code",
   "execution_count": null,
   "metadata": {},
   "outputs": [],
   "source": []
  }
 ],
 "metadata": {
  "kernelspec": {
   "display_name": "Python 3",
   "language": "python",
   "name": "python3"
  },
  "language_info": {
   "codemirror_mode": {
    "name": "ipython",
    "version": 3
   },
   "file_extension": ".py",
   "mimetype": "text/x-python",
   "name": "python",
   "nbconvert_exporter": "python",
   "pygments_lexer": "ipython3",
   "version": "3.6.5"
  }
 },
 "nbformat": 4,
 "nbformat_minor": 2
}
