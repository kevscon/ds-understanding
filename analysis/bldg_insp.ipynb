{
 "cells": [
  {
   "cell_type": "code",
   "execution_count": 1,
   "metadata": {},
   "outputs": [],
   "source": [
    "import numpy as np\n",
    "import pandas as pd\n",
    "import random\n",
    "import matplotlib.pyplot as plt"
   ]
  },
  {
   "cell_type": "code",
   "execution_count": 2,
   "metadata": {},
   "outputs": [],
   "source": [
    "from sklearn.feature_extraction.text import CountVectorizer\n",
    "from sklearn.feature_extraction.text import TfidfVectorizer\n",
    "from sklearn.cluster import KMeans\n",
    "from sklearn.decomposition import LatentDirichletAllocation\n",
    "from sklearn.decomposition import NMF"
   ]
  },
  {
   "cell_type": "code",
   "execution_count": 61,
   "metadata": {},
   "outputs": [],
   "source": [
    "# format style\n",
    "plt.style.use('fivethirtyeight')\n",
    "# lineweight\n",
    "plt.rc('lines', linewidth=3)\n",
    "# figure size\n",
    "plt.rc('figure', figsize=(12, 7))\n",
    "# title fontsize\n",
    "plt.rc('axes', titlesize=33) \n",
    "# axes label fontsize\n",
    "plt.rc('axes', labelsize=28)\n",
    "# axes values fontsize\n",
    "plt.rc('xtick', labelsize=18)\n",
    "plt.rc('ytick', labelsize=18)\n",
    "# legend fontsize\n",
    "plt.rc('legend', fontsize=18)"
   ]
  },
  {
   "cell_type": "code",
   "execution_count": 3,
   "metadata": {},
   "outputs": [
    {
     "data": {
      "text/plain": [
       "380521"
      ]
     },
     "execution_count": 3,
     "metadata": {},
     "output_type": "execute_result"
    }
   ],
   "source": [
    "f = 'data/bldg_insp/insp_viol.csv'\n",
    "# number of observations\n",
    "n_lines = sum(1 for line in open(f))\n",
    "n_lines"
   ]
  },
  {
   "cell_type": "code",
   "execution_count": 4,
   "metadata": {},
   "outputs": [
    {
     "data": {
      "text/html": [
       "<div>\n",
       "<style scoped>\n",
       "    .dataframe tbody tr th:only-of-type {\n",
       "        vertical-align: middle;\n",
       "    }\n",
       "\n",
       "    .dataframe tbody tr th {\n",
       "        vertical-align: top;\n",
       "    }\n",
       "\n",
       "    .dataframe thead th {\n",
       "        text-align: right;\n",
       "    }\n",
       "</style>\n",
       "<table border=\"1\" class=\"dataframe\">\n",
       "  <thead>\n",
       "    <tr style=\"text-align: right;\">\n",
       "      <th></th>\n",
       "      <th>Item Sequence Number</th>\n",
       "      <th>Date Filed</th>\n",
       "      <th>Block</th>\n",
       "      <th>Lot</th>\n",
       "      <th>Street Number</th>\n",
       "      <th>Street Name</th>\n",
       "      <th>Street Suffix</th>\n",
       "      <th>Unit</th>\n",
       "      <th>Status</th>\n",
       "      <th>Receiving Division</th>\n",
       "      <th>...</th>\n",
       "      <th>Supervisor District</th>\n",
       "      <th>Zipcode</th>\n",
       "      <th>Location</th>\n",
       "      <th>Supervisor Districts</th>\n",
       "      <th>Fire Prevention Districts</th>\n",
       "      <th>Current Police Districts</th>\n",
       "      <th>Neighborhoods - Analysis Boundaries 2</th>\n",
       "      <th>Zip Codes</th>\n",
       "      <th>Central Market/Tenderloin Boundary</th>\n",
       "      <th>Central Market/Tenderloin Boundary Polygon - Updated</th>\n",
       "    </tr>\n",
       "    <tr>\n",
       "      <th>Complaint Number</th>\n",
       "      <th></th>\n",
       "      <th></th>\n",
       "      <th></th>\n",
       "      <th></th>\n",
       "      <th></th>\n",
       "      <th></th>\n",
       "      <th></th>\n",
       "      <th></th>\n",
       "      <th></th>\n",
       "      <th></th>\n",
       "      <th></th>\n",
       "      <th></th>\n",
       "      <th></th>\n",
       "      <th></th>\n",
       "      <th></th>\n",
       "      <th></th>\n",
       "      <th></th>\n",
       "      <th></th>\n",
       "      <th></th>\n",
       "      <th></th>\n",
       "      <th></th>\n",
       "    </tr>\n",
       "  </thead>\n",
       "  <tbody>\n",
       "    <tr>\n",
       "      <th>H9603327</th>\n",
       "      <td>422</td>\n",
       "      <td>1996-07-24T00:00:00.000</td>\n",
       "      <td>3589</td>\n",
       "      <td>076</td>\n",
       "      <td>156</td>\n",
       "      <td>Lexington</td>\n",
       "      <td>St</td>\n",
       "      <td>NaN</td>\n",
       "      <td>not active</td>\n",
       "      <td>Housing Inspection Services</td>\n",
       "      <td>...</td>\n",
       "      <td>9.0</td>\n",
       "      <td>94110.0</td>\n",
       "      <td>{'longitude': '-122.42093448953031', 'human_ad...</td>\n",
       "      <td>7.0</td>\n",
       "      <td>2.0</td>\n",
       "      <td>7.0</td>\n",
       "      <td>20.0</td>\n",
       "      <td>28859.0</td>\n",
       "      <td>NaN</td>\n",
       "      <td>NaN</td>\n",
       "    </tr>\n",
       "    <tr>\n",
       "      <th>201971003</th>\n",
       "      <td>1261487</td>\n",
       "      <td>2019-07-18T00:00:00.000</td>\n",
       "      <td>3582</td>\n",
       "      <td>001</td>\n",
       "      <td>3909</td>\n",
       "      <td>17th</td>\n",
       "      <td>St</td>\n",
       "      <td>NaN</td>\n",
       "      <td>active</td>\n",
       "      <td>Housing Inspection Services</td>\n",
       "      <td>...</td>\n",
       "      <td>8.0</td>\n",
       "      <td>94114.0</td>\n",
       "      <td>{'longitude': '-122.43320350653741', 'human_ad...</td>\n",
       "      <td>5.0</td>\n",
       "      <td>15.0</td>\n",
       "      <td>7.0</td>\n",
       "      <td>5.0</td>\n",
       "      <td>28862.0</td>\n",
       "      <td>NaN</td>\n",
       "      <td>NaN</td>\n",
       "    </tr>\n",
       "    <tr>\n",
       "      <th>201970841</th>\n",
       "      <td>1261164</td>\n",
       "      <td>2019-07-17T00:00:00.000</td>\n",
       "      <td>1895</td>\n",
       "      <td>011</td>\n",
       "      <td>1645</td>\n",
       "      <td>48th</td>\n",
       "      <td>Av</td>\n",
       "      <td>NaN</td>\n",
       "      <td>active</td>\n",
       "      <td>Housing Inspection Services</td>\n",
       "      <td>...</td>\n",
       "      <td>4.0</td>\n",
       "      <td>94122.0</td>\n",
       "      <td>{'longitude': '-122.50807179043113', 'human_ad...</td>\n",
       "      <td>3.0</td>\n",
       "      <td>1.0</td>\n",
       "      <td>5.0</td>\n",
       "      <td>35.0</td>\n",
       "      <td>56.0</td>\n",
       "      <td>NaN</td>\n",
       "      <td>NaN</td>\n",
       "    </tr>\n",
       "    <tr>\n",
       "      <th>201970811</th>\n",
       "      <td>1261305</td>\n",
       "      <td>2019-07-17T00:00:00.000</td>\n",
       "      <td>1269</td>\n",
       "      <td>011</td>\n",
       "      <td>853</td>\n",
       "      <td>Ashbury</td>\n",
       "      <td>St</td>\n",
       "      <td>NaN</td>\n",
       "      <td>active</td>\n",
       "      <td>Housing Inspection Services</td>\n",
       "      <td>...</td>\n",
       "      <td>5.0</td>\n",
       "      <td>94117.0</td>\n",
       "      <td>{'longitude': '-122.44648077201172', 'human_ad...</td>\n",
       "      <td>11.0</td>\n",
       "      <td>15.0</td>\n",
       "      <td>8.0</td>\n",
       "      <td>3.0</td>\n",
       "      <td>29492.0</td>\n",
       "      <td>NaN</td>\n",
       "      <td>NaN</td>\n",
       "    </tr>\n",
       "    <tr>\n",
       "      <th>201970521</th>\n",
       "      <td>1260484</td>\n",
       "      <td>2019-07-16T00:00:00.000</td>\n",
       "      <td>2826</td>\n",
       "      <td>085</td>\n",
       "      <td>755</td>\n",
       "      <td>Burnett</td>\n",
       "      <td>Av</td>\n",
       "      <td>0.0</td>\n",
       "      <td>active</td>\n",
       "      <td>Housing Inspection Services</td>\n",
       "      <td>...</td>\n",
       "      <td>8.0</td>\n",
       "      <td>94131.0</td>\n",
       "      <td>{'longitude': '-122.44536906706848', 'human_ad...</td>\n",
       "      <td>5.0</td>\n",
       "      <td>2.0</td>\n",
       "      <td>8.0</td>\n",
       "      <td>38.0</td>\n",
       "      <td>63.0</td>\n",
       "      <td>NaN</td>\n",
       "      <td>NaN</td>\n",
       "    </tr>\n",
       "  </tbody>\n",
       "</table>\n",
       "<p>5 rows × 25 columns</p>\n",
       "</div>"
      ],
      "text/plain": [
       "                  Item Sequence Number               Date Filed Block  Lot  \\\n",
       "Complaint Number                                                             \n",
       "H9603327                           422  1996-07-24T00:00:00.000  3589  076   \n",
       "201971003                      1261487  2019-07-18T00:00:00.000  3582  001   \n",
       "201970841                      1261164  2019-07-17T00:00:00.000  1895  011   \n",
       "201970811                      1261305  2019-07-17T00:00:00.000  1269  011   \n",
       "201970521                      1260484  2019-07-16T00:00:00.000  2826  085   \n",
       "\n",
       "                  Street Number Street Name Street Suffix  Unit      Status  \\\n",
       "Complaint Number                                                              \n",
       "H9603327                    156   Lexington            St   NaN  not active   \n",
       "201971003                  3909        17th            St   NaN      active   \n",
       "201970841                  1645        48th            Av   NaN      active   \n",
       "201970811                   853     Ashbury            St   NaN      active   \n",
       "201970521                   755     Burnett            Av   0.0      active   \n",
       "\n",
       "                           Receiving Division  \\\n",
       "Complaint Number                                \n",
       "H9603327          Housing Inspection Services   \n",
       "201971003         Housing Inspection Services   \n",
       "201970841         Housing Inspection Services   \n",
       "201970811         Housing Inspection Services   \n",
       "201970521         Housing Inspection Services   \n",
       "\n",
       "                                          ...                           \\\n",
       "Complaint Number                          ...                            \n",
       "H9603327                                  ...                            \n",
       "201971003                                 ...                            \n",
       "201970841                                 ...                            \n",
       "201970811                                 ...                            \n",
       "201970521                                 ...                            \n",
       "\n",
       "                 Supervisor District  Zipcode  \\\n",
       "Complaint Number                                \n",
       "H9603327                         9.0  94110.0   \n",
       "201971003                        8.0  94114.0   \n",
       "201970841                        4.0  94122.0   \n",
       "201970811                        5.0  94117.0   \n",
       "201970521                        8.0  94131.0   \n",
       "\n",
       "                                                           Location  \\\n",
       "Complaint Number                                                      \n",
       "H9603327          {'longitude': '-122.42093448953031', 'human_ad...   \n",
       "201971003         {'longitude': '-122.43320350653741', 'human_ad...   \n",
       "201970841         {'longitude': '-122.50807179043113', 'human_ad...   \n",
       "201970811         {'longitude': '-122.44648077201172', 'human_ad...   \n",
       "201970521         {'longitude': '-122.44536906706848', 'human_ad...   \n",
       "\n",
       "                 Supervisor Districts Fire Prevention Districts  \\\n",
       "Complaint Number                                                  \n",
       "H9603327                          7.0                       2.0   \n",
       "201971003                         5.0                      15.0   \n",
       "201970841                         3.0                       1.0   \n",
       "201970811                        11.0                      15.0   \n",
       "201970521                         5.0                       2.0   \n",
       "\n",
       "                  Current Police Districts  \\\n",
       "Complaint Number                             \n",
       "H9603327                               7.0   \n",
       "201971003                              7.0   \n",
       "201970841                              5.0   \n",
       "201970811                              8.0   \n",
       "201970521                              8.0   \n",
       "\n",
       "                  Neighborhoods - Analysis Boundaries 2 Zip Codes  \\\n",
       "Complaint Number                                                    \n",
       "H9603327                                           20.0   28859.0   \n",
       "201971003                                           5.0   28862.0   \n",
       "201970841                                          35.0      56.0   \n",
       "201970811                                           3.0   29492.0   \n",
       "201970521                                          38.0      63.0   \n",
       "\n",
       "                  Central Market/Tenderloin Boundary  \\\n",
       "Complaint Number                                       \n",
       "H9603327                                         NaN   \n",
       "201971003                                        NaN   \n",
       "201970841                                        NaN   \n",
       "201970811                                        NaN   \n",
       "201970521                                        NaN   \n",
       "\n",
       "                  Central Market/Tenderloin Boundary Polygon - Updated  \n",
       "Complaint Number                                                        \n",
       "H9603327                                                        NaN     \n",
       "201971003                                                       NaN     \n",
       "201970841                                                       NaN     \n",
       "201970811                                                       NaN     \n",
       "201970521                                                       NaN     \n",
       "\n",
       "[5 rows x 25 columns]"
      ]
     },
     "execution_count": 4,
     "metadata": {},
     "output_type": "execute_result"
    }
   ],
   "source": [
    "# random sample\n",
    "pct = 3\n",
    "size = int(n_lines * pct/100)\n",
    "# row indicies to skip\n",
    "skip_idx = random.sample(range(1, n_lines), n_lines - size)\n",
    "df = pd.read_csv(f, index_col=0, skiprows=skip_idx)\n",
    "df.head()"
   ]
  },
  {
   "cell_type": "code",
   "execution_count": 5,
   "metadata": {},
   "outputs": [
    {
     "data": {
      "text/plain": [
       "11414"
      ]
     },
     "execution_count": 5,
     "metadata": {},
     "output_type": "execute_result"
    }
   ],
   "source": [
    "len(df)"
   ]
  },
  {
   "cell_type": "code",
   "execution_count": 6,
   "metadata": {},
   "outputs": [
    {
     "data": {
      "text/plain": [
       "Complaint Number\n",
       "H9603327     replaster and paint damaged wall and ceiling s...\n",
       "201971003    it is the property owner's responsibility to b...\n",
       "201970841                                         1645 48th av\n",
       "201970811                                                  NaN\n",
       "201970521    there is evidence of rodent activity at the bo...\n",
       "Name: NOV Item Description, dtype: object"
      ]
     },
     "execution_count": 6,
     "metadata": {},
     "output_type": "execute_result"
    }
   ],
   "source": [
    "# documents for analysis\n",
    "df_comments = df['NOV Item Description']\n",
    "df_comments.head()"
   ]
  },
  {
   "cell_type": "code",
   "execution_count": 7,
   "metadata": {},
   "outputs": [],
   "source": [
    "# drop nan's\n",
    "df_comments.dropna(inplace=True)"
   ]
  },
  {
   "cell_type": "markdown",
   "metadata": {},
   "source": [
    "# Vectorize Text"
   ]
  },
  {
   "cell_type": "markdown",
   "metadata": {},
   "source": [
    "# CountVectorizer"
   ]
  },
  {
   "cell_type": "code",
   "execution_count": 8,
   "metadata": {},
   "outputs": [
    {
     "data": {
      "text/plain": [
       "CountVectorizer(analyzer='word', binary=False, decode_error='strict',\n",
       "        dtype=<class 'numpy.int64'>, encoding='utf-8', input='content',\n",
       "        lowercase=True, max_df=1.0, max_features=None, min_df=0.01,\n",
       "        ngram_range=(1, 2), preprocessor=None, stop_words='english',\n",
       "        strip_accents=None, token_pattern='(?u)\\\\b\\\\w\\\\w+\\\\b',\n",
       "        tokenizer=None, vocabulary=None)"
      ]
     },
     "execution_count": 8,
     "metadata": {},
     "output_type": "execute_result"
    }
   ],
   "source": [
    "# create instance of vectorizer\n",
    "cv_vectorizer = CountVectorizer(stop_words='english', min_df=0.01, ngram_range=(1, 2))\n",
    "# input text from documents\n",
    "cv_vectorizer.fit(df_comments)"
   ]
  },
  {
   "cell_type": "code",
   "execution_count": 9,
   "metadata": {},
   "outputs": [],
   "source": [
    "# document-term matrix\n",
    "X = cv_vectorizer.transform(df_comments)"
   ]
  },
  {
   "cell_type": "code",
   "execution_count": 10,
   "metadata": {},
   "outputs": [
    {
     "data": {
      "text/html": [
       "<div>\n",
       "<style scoped>\n",
       "    .dataframe tbody tr th:only-of-type {\n",
       "        vertical-align: middle;\n",
       "    }\n",
       "\n",
       "    .dataframe tbody tr th {\n",
       "        vertical-align: top;\n",
       "    }\n",
       "\n",
       "    .dataframe thead tr th {\n",
       "        text-align: left;\n",
       "    }\n",
       "</style>\n",
       "<table border=\"1\" class=\"dataframe\">\n",
       "  <thead>\n",
       "    <tr>\n",
       "      <th></th>\n",
       "      <th>00</th>\n",
       "      <th>10</th>\n",
       "      <th>1001</th>\n",
       "      <th>1001hc</th>\n",
       "      <th>1954</th>\n",
       "      <th>1954 san</th>\n",
       "      <th>2nd</th>\n",
       "      <th>30</th>\n",
       "      <th>303</th>\n",
       "      <th>303 dwellings</th>\n",
       "      <th>...</th>\n",
       "      <th>water</th>\n",
       "      <th>weather</th>\n",
       "      <th>window</th>\n",
       "      <th>windows</th>\n",
       "      <th>wood</th>\n",
       "      <th>wood deterioration</th>\n",
       "      <th>work</th>\n",
       "      <th>working</th>\n",
       "      <th>written</th>\n",
       "      <th>yard</th>\n",
       "    </tr>\n",
       "  </thead>\n",
       "  <tbody>\n",
       "    <tr>\n",
       "      <th>0</th>\n",
       "      <td>0</td>\n",
       "      <td>0</td>\n",
       "      <td>0</td>\n",
       "      <td>0</td>\n",
       "      <td>0</td>\n",
       "      <td>0</td>\n",
       "      <td>0</td>\n",
       "      <td>0</td>\n",
       "      <td>0</td>\n",
       "      <td>0</td>\n",
       "      <td>...</td>\n",
       "      <td>0</td>\n",
       "      <td>0</td>\n",
       "      <td>0</td>\n",
       "      <td>0</td>\n",
       "      <td>0</td>\n",
       "      <td>0</td>\n",
       "      <td>0</td>\n",
       "      <td>0</td>\n",
       "      <td>0</td>\n",
       "      <td>0</td>\n",
       "    </tr>\n",
       "    <tr>\n",
       "      <th>1</th>\n",
       "      <td>0</td>\n",
       "      <td>0</td>\n",
       "      <td>0</td>\n",
       "      <td>0</td>\n",
       "      <td>1</td>\n",
       "      <td>1</td>\n",
       "      <td>0</td>\n",
       "      <td>0</td>\n",
       "      <td>1</td>\n",
       "      <td>1</td>\n",
       "      <td>...</td>\n",
       "      <td>0</td>\n",
       "      <td>0</td>\n",
       "      <td>0</td>\n",
       "      <td>0</td>\n",
       "      <td>0</td>\n",
       "      <td>0</td>\n",
       "      <td>0</td>\n",
       "      <td>0</td>\n",
       "      <td>0</td>\n",
       "      <td>0</td>\n",
       "    </tr>\n",
       "    <tr>\n",
       "      <th>2</th>\n",
       "      <td>0</td>\n",
       "      <td>0</td>\n",
       "      <td>0</td>\n",
       "      <td>0</td>\n",
       "      <td>0</td>\n",
       "      <td>0</td>\n",
       "      <td>0</td>\n",
       "      <td>0</td>\n",
       "      <td>0</td>\n",
       "      <td>0</td>\n",
       "      <td>...</td>\n",
       "      <td>0</td>\n",
       "      <td>0</td>\n",
       "      <td>0</td>\n",
       "      <td>0</td>\n",
       "      <td>0</td>\n",
       "      <td>0</td>\n",
       "      <td>0</td>\n",
       "      <td>0</td>\n",
       "      <td>0</td>\n",
       "      <td>0</td>\n",
       "    </tr>\n",
       "    <tr>\n",
       "      <th>3</th>\n",
       "      <td>0</td>\n",
       "      <td>0</td>\n",
       "      <td>0</td>\n",
       "      <td>0</td>\n",
       "      <td>0</td>\n",
       "      <td>0</td>\n",
       "      <td>0</td>\n",
       "      <td>0</td>\n",
       "      <td>0</td>\n",
       "      <td>0</td>\n",
       "      <td>...</td>\n",
       "      <td>0</td>\n",
       "      <td>0</td>\n",
       "      <td>0</td>\n",
       "      <td>0</td>\n",
       "      <td>0</td>\n",
       "      <td>0</td>\n",
       "      <td>0</td>\n",
       "      <td>0</td>\n",
       "      <td>0</td>\n",
       "      <td>0</td>\n",
       "    </tr>\n",
       "    <tr>\n",
       "      <th>4</th>\n",
       "      <td>0</td>\n",
       "      <td>0</td>\n",
       "      <td>0</td>\n",
       "      <td>0</td>\n",
       "      <td>0</td>\n",
       "      <td>0</td>\n",
       "      <td>0</td>\n",
       "      <td>0</td>\n",
       "      <td>0</td>\n",
       "      <td>0</td>\n",
       "      <td>...</td>\n",
       "      <td>0</td>\n",
       "      <td>0</td>\n",
       "      <td>0</td>\n",
       "      <td>0</td>\n",
       "      <td>0</td>\n",
       "      <td>0</td>\n",
       "      <td>4</td>\n",
       "      <td>0</td>\n",
       "      <td>0</td>\n",
       "      <td>0</td>\n",
       "    </tr>\n",
       "  </tbody>\n",
       "</table>\n",
       "<p>5 rows × 438 columns</p>\n",
       "</div>"
      ],
      "text/plain": [
       "  00 10 1001 1001hc 1954 1954 san 2nd 30 303 303 dwellings ...  water weather  \\\n",
       "0  0  0    0      0    0        0   0  0   0             0 ...      0       0   \n",
       "1  0  0    0      0    1        1   0  0   1             1 ...      0       0   \n",
       "2  0  0    0      0    0        0   0  0   0             0 ...      0       0   \n",
       "3  0  0    0      0    0        0   0  0   0             0 ...      0       0   \n",
       "4  0  0    0      0    0        0   0  0   0             0 ...      0       0   \n",
       "\n",
       "  window windows wood wood deterioration work working written yard  \n",
       "0      0       0    0                  0    0       0       0    0  \n",
       "1      0       0    0                  0    0       0       0    0  \n",
       "2      0       0    0                  0    0       0       0    0  \n",
       "3      0       0    0                  0    0       0       0    0  \n",
       "4      0       0    0                  0    4       0       0    0  \n",
       "\n",
       "[5 rows x 438 columns]"
      ]
     },
     "execution_count": 10,
     "metadata": {},
     "output_type": "execute_result"
    }
   ],
   "source": [
    "# document-term dataframe\n",
    "cv_df = pd.DataFrame(X.toarray(), columns=[cv_vectorizer.get_feature_names()])\n",
    "cv_df.head()"
   ]
  },
  {
   "cell_type": "markdown",
   "metadata": {},
   "source": [
    "## TFIDF"
   ]
  },
  {
   "cell_type": "code",
   "execution_count": 11,
   "metadata": {},
   "outputs": [
    {
     "data": {
      "text/plain": [
       "TfidfVectorizer(analyzer='word', binary=False, decode_error='strict',\n",
       "        dtype=<class 'numpy.int64'>, encoding='utf-8', input='content',\n",
       "        lowercase=True, max_df=0.95, max_features=None, min_df=0.01,\n",
       "        ngram_range=(1, 2), norm='l2', preprocessor=None, smooth_idf=True,\n",
       "        stop_words='english', strip_accents=None, sublinear_tf=False,\n",
       "        token_pattern='(?u)\\\\b\\\\w\\\\w+\\\\b', tokenizer=None, use_idf=True,\n",
       "        vocabulary=None)"
      ]
     },
     "execution_count": 11,
     "metadata": {},
     "output_type": "execute_result"
    }
   ],
   "source": [
    "# create instance of vectorizer\n",
    "tf_vectorizer = TfidfVectorizer(stop_words='english', max_df=0.95, min_df=0.01, ngram_range=(1, 2))\n",
    "# input text from documents\n",
    "tf_vectorizer.fit(df_comments)"
   ]
  },
  {
   "cell_type": "code",
   "execution_count": 12,
   "metadata": {},
   "outputs": [],
   "source": [
    "# document-term matrix\n",
    "X = tf_vectorizer.transform(df_comments)"
   ]
  },
  {
   "cell_type": "code",
   "execution_count": 13,
   "metadata": {},
   "outputs": [
    {
     "data": {
      "text/html": [
       "<div>\n",
       "<style scoped>\n",
       "    .dataframe tbody tr th:only-of-type {\n",
       "        vertical-align: middle;\n",
       "    }\n",
       "\n",
       "    .dataframe tbody tr th {\n",
       "        vertical-align: top;\n",
       "    }\n",
       "\n",
       "    .dataframe thead tr th {\n",
       "        text-align: left;\n",
       "    }\n",
       "</style>\n",
       "<table border=\"1\" class=\"dataframe\">\n",
       "  <thead>\n",
       "    <tr>\n",
       "      <th></th>\n",
       "      <th>00</th>\n",
       "      <th>10</th>\n",
       "      <th>1001</th>\n",
       "      <th>1001hc</th>\n",
       "      <th>1954</th>\n",
       "      <th>1954 san</th>\n",
       "      <th>2nd</th>\n",
       "      <th>30</th>\n",
       "      <th>303</th>\n",
       "      <th>303 dwellings</th>\n",
       "      <th>...</th>\n",
       "      <th>water</th>\n",
       "      <th>weather</th>\n",
       "      <th>window</th>\n",
       "      <th>windows</th>\n",
       "      <th>wood</th>\n",
       "      <th>wood deterioration</th>\n",
       "      <th>work</th>\n",
       "      <th>working</th>\n",
       "      <th>written</th>\n",
       "      <th>yard</th>\n",
       "    </tr>\n",
       "  </thead>\n",
       "  <tbody>\n",
       "    <tr>\n",
       "      <th>0</th>\n",
       "      <td>0.0</td>\n",
       "      <td>0.0</td>\n",
       "      <td>0.0</td>\n",
       "      <td>0.0</td>\n",
       "      <td>0.000000</td>\n",
       "      <td>0.000000</td>\n",
       "      <td>0.0</td>\n",
       "      <td>0.0</td>\n",
       "      <td>0.000000</td>\n",
       "      <td>0.000000</td>\n",
       "      <td>...</td>\n",
       "      <td>0.0</td>\n",
       "      <td>0.0</td>\n",
       "      <td>0.0</td>\n",
       "      <td>0.0</td>\n",
       "      <td>0.0</td>\n",
       "      <td>0.0</td>\n",
       "      <td>0.000000</td>\n",
       "      <td>0.0</td>\n",
       "      <td>0.0</td>\n",
       "      <td>0.0</td>\n",
       "    </tr>\n",
       "    <tr>\n",
       "      <th>1</th>\n",
       "      <td>0.0</td>\n",
       "      <td>0.0</td>\n",
       "      <td>0.0</td>\n",
       "      <td>0.0</td>\n",
       "      <td>0.082359</td>\n",
       "      <td>0.083036</td>\n",
       "      <td>0.0</td>\n",
       "      <td>0.0</td>\n",
       "      <td>0.082304</td>\n",
       "      <td>0.085698</td>\n",
       "      <td>...</td>\n",
       "      <td>0.0</td>\n",
       "      <td>0.0</td>\n",
       "      <td>0.0</td>\n",
       "      <td>0.0</td>\n",
       "      <td>0.0</td>\n",
       "      <td>0.0</td>\n",
       "      <td>0.000000</td>\n",
       "      <td>0.0</td>\n",
       "      <td>0.0</td>\n",
       "      <td>0.0</td>\n",
       "    </tr>\n",
       "    <tr>\n",
       "      <th>2</th>\n",
       "      <td>0.0</td>\n",
       "      <td>0.0</td>\n",
       "      <td>0.0</td>\n",
       "      <td>0.0</td>\n",
       "      <td>0.000000</td>\n",
       "      <td>0.000000</td>\n",
       "      <td>0.0</td>\n",
       "      <td>0.0</td>\n",
       "      <td>0.000000</td>\n",
       "      <td>0.000000</td>\n",
       "      <td>...</td>\n",
       "      <td>0.0</td>\n",
       "      <td>0.0</td>\n",
       "      <td>0.0</td>\n",
       "      <td>0.0</td>\n",
       "      <td>0.0</td>\n",
       "      <td>0.0</td>\n",
       "      <td>0.000000</td>\n",
       "      <td>0.0</td>\n",
       "      <td>0.0</td>\n",
       "      <td>0.0</td>\n",
       "    </tr>\n",
       "    <tr>\n",
       "      <th>3</th>\n",
       "      <td>0.0</td>\n",
       "      <td>0.0</td>\n",
       "      <td>0.0</td>\n",
       "      <td>0.0</td>\n",
       "      <td>0.000000</td>\n",
       "      <td>0.000000</td>\n",
       "      <td>0.0</td>\n",
       "      <td>0.0</td>\n",
       "      <td>0.000000</td>\n",
       "      <td>0.000000</td>\n",
       "      <td>...</td>\n",
       "      <td>0.0</td>\n",
       "      <td>0.0</td>\n",
       "      <td>0.0</td>\n",
       "      <td>0.0</td>\n",
       "      <td>0.0</td>\n",
       "      <td>0.0</td>\n",
       "      <td>0.000000</td>\n",
       "      <td>0.0</td>\n",
       "      <td>0.0</td>\n",
       "      <td>0.0</td>\n",
       "    </tr>\n",
       "    <tr>\n",
       "      <th>4</th>\n",
       "      <td>0.0</td>\n",
       "      <td>0.0</td>\n",
       "      <td>0.0</td>\n",
       "      <td>0.0</td>\n",
       "      <td>0.000000</td>\n",
       "      <td>0.000000</td>\n",
       "      <td>0.0</td>\n",
       "      <td>0.0</td>\n",
       "      <td>0.000000</td>\n",
       "      <td>0.000000</td>\n",
       "      <td>...</td>\n",
       "      <td>0.0</td>\n",
       "      <td>0.0</td>\n",
       "      <td>0.0</td>\n",
       "      <td>0.0</td>\n",
       "      <td>0.0</td>\n",
       "      <td>0.0</td>\n",
       "      <td>0.559309</td>\n",
       "      <td>0.0</td>\n",
       "      <td>0.0</td>\n",
       "      <td>0.0</td>\n",
       "    </tr>\n",
       "  </tbody>\n",
       "</table>\n",
       "<p>5 rows × 438 columns</p>\n",
       "</div>"
      ],
      "text/plain": [
       "    00   10 1001 1001hc      1954  1954 san  2nd   30       303 303 dwellings  \\\n",
       "0  0.0  0.0  0.0    0.0  0.000000  0.000000  0.0  0.0  0.000000      0.000000   \n",
       "1  0.0  0.0  0.0    0.0  0.082359  0.083036  0.0  0.0  0.082304      0.085698   \n",
       "2  0.0  0.0  0.0    0.0  0.000000  0.000000  0.0  0.0  0.000000      0.000000   \n",
       "3  0.0  0.0  0.0    0.0  0.000000  0.000000  0.0  0.0  0.000000      0.000000   \n",
       "4  0.0  0.0  0.0    0.0  0.000000  0.000000  0.0  0.0  0.000000      0.000000   \n",
       "\n",
       "  ...  water weather window windows wood wood deterioration      work working  \\\n",
       "0 ...    0.0     0.0    0.0     0.0  0.0                0.0  0.000000     0.0   \n",
       "1 ...    0.0     0.0    0.0     0.0  0.0                0.0  0.000000     0.0   \n",
       "2 ...    0.0     0.0    0.0     0.0  0.0                0.0  0.000000     0.0   \n",
       "3 ...    0.0     0.0    0.0     0.0  0.0                0.0  0.000000     0.0   \n",
       "4 ...    0.0     0.0    0.0     0.0  0.0                0.0  0.559309     0.0   \n",
       "\n",
       "  written yard  \n",
       "0     0.0  0.0  \n",
       "1     0.0  0.0  \n",
       "2     0.0  0.0  \n",
       "3     0.0  0.0  \n",
       "4     0.0  0.0  \n",
       "\n",
       "[5 rows x 438 columns]"
      ]
     },
     "execution_count": 13,
     "metadata": {},
     "output_type": "execute_result"
    }
   ],
   "source": [
    "# document-term dataframe\n",
    "tf_df = pd.DataFrame(X.toarray(), columns=[tf_vectorizer.get_feature_names()])\n",
    "tf_df.head()"
   ]
  },
  {
   "cell_type": "markdown",
   "metadata": {},
   "source": [
    "# Topic Modeling"
   ]
  },
  {
   "cell_type": "code",
   "execution_count": 14,
   "metadata": {},
   "outputs": [],
   "source": [
    "# function to print top words of topic model\n",
    "def print_top_words(model, feature_names, n_top_words):\n",
    "    for index, topic in enumerate(model.components_):\n",
    "        message = \"\\nTopic #{}:\".format(index)\n",
    "        message += \" \".join([feature_names[i] for i in topic.argsort()[:-n_top_words - 1 :-1]])\n",
    "        print(message)\n",
    "        print(\"=\"*70)"
   ]
  },
  {
   "cell_type": "code",
   "execution_count": 15,
   "metadata": {},
   "outputs": [],
   "source": [
    "# vectorized data\n",
    "vect_df = tf_df"
   ]
  },
  {
   "cell_type": "markdown",
   "metadata": {},
   "source": [
    "## Optimal Number of Topics"
   ]
  },
  {
   "cell_type": "code",
   "execution_count": 16,
   "metadata": {},
   "outputs": [
    {
     "data": {
      "image/png": "[encoded data removed]",
      "text/plain": [
       "<Figure size 432x288 with 1 Axes>"
      ]
     },
     "metadata": {},
     "output_type": "display_data"
    }
   ],
   "source": [
    "# calculate distortion for a range of number of cluster\n",
    "distortions = []\n",
    "for i in range(1, 11):\n",
    "    km = KMeans(\n",
    "        n_clusters=i, init='random',\n",
    "        n_init=10, max_iter=300,\n",
    "        tol=1e-04, random_state=0\n",
    "    )\n",
    "    km.fit(vect_df)\n",
    "    distortions.append(km.inertia_)\n",
    "\n",
    "# plot\n",
    "plt.plot(range(1, 11), distortions, marker='o')\n",
    "plt.xlabel('Number of clusters')\n",
    "plt.ylabel('Distortion')\n",
    "plt.show()\n"
   ]
  },
  {
   "cell_type": "markdown",
   "metadata": {},
   "source": [
    "## LDA"
   ]
  },
  {
   "cell_type": "code",
   "execution_count": 17,
   "metadata": {},
   "outputs": [
    {
     "name": "stderr",
     "output_type": "stream",
     "text": [
      "/home/kevcon/anaconda3/lib/python3.6/site-packages/sklearn/decomposition/online_lda.py:536: DeprecationWarning: The default value for 'learning_method' will be changed from 'online' to 'batch' in the release 0.20. This warning was introduced in 0.18.\n",
      "  DeprecationWarning)\n"
     ]
    },
    {
     "data": {
      "text/plain": [
       "LatentDirichletAllocation(batch_size=128, doc_topic_prior=None,\n",
       "             evaluate_every=-1, learning_decay=0.7, learning_method=None,\n",
       "             learning_offset=10.0, max_doc_update_iter=100, max_iter=10,\n",
       "             mean_change_tol=0.001, n_components=10, n_jobs=1,\n",
       "             n_topics=None, perp_tol=0.1, random_state=0,\n",
       "             topic_word_prior=None, total_samples=1000000.0, verbose=0)"
      ]
     },
     "execution_count": 17,
     "metadata": {},
     "output_type": "execute_result"
    }
   ],
   "source": [
    "# create instance of topic modeler\n",
    "lda = LatentDirichletAllocation(n_components=10, random_state=0)\n",
    "# fit model to dataset\n",
    "lda.fit(vect_df)"
   ]
  },
  {
   "cell_type": "code",
   "execution_count": 18,
   "metadata": {},
   "outputs": [
    {
     "data": {
      "text/plain": [
       "array([[0.02689783, 0.02689783, 0.53764101, ..., 0.12947671, 0.02689792,\n",
       "        0.02689783],\n",
       "       [0.00951085, 0.00951159, 0.0095101 , ..., 0.00951019, 0.00951052,\n",
       "        0.0095105 ],\n",
       "       [0.1       , 0.1       , 0.1       , ..., 0.1       , 0.1       ,\n",
       "        0.1       ],\n",
       "       ...,\n",
       "       [0.02946511, 0.02946511, 0.02946571, ..., 0.50813414, 0.02946514,\n",
       "        0.02946511],\n",
       "       [0.04142751, 0.04142751, 0.04142751, ..., 0.0414331 , 0.04142893,\n",
       "        0.04142751],\n",
       "       [0.03410474, 0.03411269, 0.03410563, ..., 0.03411561, 0.03416004,\n",
       "        0.03410474]])"
      ]
     },
     "execution_count": 18,
     "metadata": {},
     "output_type": "execute_result"
    }
   ],
   "source": [
    "# matrix of documents x topic weights\n",
    "lda.transform(vect_df)"
   ]
  },
  {
   "cell_type": "code",
   "execution_count": 19,
   "metadata": {},
   "outputs": [
    {
     "name": "stdout",
     "output_type": "stream",
     "text": [
      "\n",
      "Topic #0:street common common areas areas work required apartment california areas building post units building company interior inspection date path access common inspected including clean 30 complaint exit pm room\n",
      "======================================================================\n",
      "\n",
      "Topic #1:storage 1001hc basement time garage garbage time inspection toilet inspection access provide garages room time reinspection area plumbing permit rooms observed reinspection noted violations restore code complaint inspector\n",
      "======================================================================\n",
      "\n",
      "Topic #2:repair bathroom kitchen ceiling room floor damaged replace bedroom water walls unit wall window repair replace hallway sink clean light living area paint shower repair damaged living room\n",
      "======================================================================\n",
      "\n",
      "Topic #3:extinguishers common routine common area area routine inspection gate public inspection recharge tag clear date tag date items recharged building annually times safety reminder serviced public areas serviced annually department building\n",
      "======================================================================\n",
      "\n",
      "Topic #4:escape apt sec remove ladder rear yard working lead escapes roof service hazard proper 10 demonstrate paint available free immediately particularly parts hc contractor procedures\n",
      "======================================================================\n",
      "\n",
      "Topic #5:reinspection notice owner scheduled inspector responsibility property attend property owner section code section inspection areas code specified accessed provide tenants scheduled reinspection representative violation notice violation time owner responsibility 303\n",
      "======================================================================\n",
      "\n",
      "Topic #6:exterior stairs paint building rear surfaces peeling repairs stairway deteriorated wood sfhc repair peeling paint structure control deterioration remove rear exterior replace landing required interior contractor safe\n",
      "======================================================================\n",
      "\n",
      "Topic #7:door gas provide replace rear doors repair exit smoke floor roof windows missing lock unit remove broken emergency stair install stairs extinguisher egress open close\n",
      "======================================================================\n",
      "\n",
      "Topic #8:permit building building permit electrical required inspector affidavit permit required plumbing complete heat work note obtain permits reinspection housing inspector days sign order housing card repairs job job card\n",
      "======================================================================\n",
      "\n",
      "Topic #9:st unit violations located subject subject property property notice violation notice violation street noted cited san areas common common areas violations noted inspection interior rooms california inside room 30\n",
      "======================================================================\n"
     ]
    }
   ],
   "source": [
    "# topics and their top words\n",
    "print_top_words(lda, tf_vectorizer.get_feature_names(), 25)"
   ]
  },
  {
   "cell_type": "markdown",
   "metadata": {},
   "source": [
    "## NMF"
   ]
  },
  {
   "cell_type": "code",
   "execution_count": 20,
   "metadata": {},
   "outputs": [
    {
     "data": {
      "text/plain": [
       "NMF(alpha=0.0, beta_loss='frobenius', init=None, l1_ratio=0.0, max_iter=200,\n",
       "  n_components=10, random_state=0, shuffle=False, solver='cd', tol=0.0001,\n",
       "  verbose=0)"
      ]
     },
     "execution_count": 20,
     "metadata": {},
     "output_type": "execute_result"
    }
   ],
   "source": [
    "# create instance of topic modeler\n",
    "nmf = NMF(n_components=10, random_state=0)\n",
    "# fit model to dataset\n",
    "nmf.fit(vect_df)"
   ]
  },
  {
   "cell_type": "code",
   "execution_count": 21,
   "metadata": {},
   "outputs": [
    {
     "data": {
      "text/plain": [
       "array([[0.        , 0.0052409 , 0.        , ..., 0.        , 0.11474717,\n",
       "        0.        ],\n",
       "       [0.1723652 , 0.        , 0.00035102, ..., 0.        , 0.        ,\n",
       "        0.        ],\n",
       "       [0.        , 0.        , 0.        , ..., 0.        , 0.        ,\n",
       "        0.        ],\n",
       "       ...,\n",
       "       [0.00214463, 0.00130949, 0.        , ..., 0.00501414, 0.00146026,\n",
       "        0.00290167],\n",
       "       [0.        , 0.0046342 , 0.        , ..., 0.00234166, 0.00231085,\n",
       "        0.00199914],\n",
       "       [0.        , 0.00223504, 0.        , ..., 0.00679726, 0.        ,\n",
       "        0.00451017]])"
      ]
     },
     "execution_count": 21,
     "metadata": {},
     "output_type": "execute_result"
    }
   ],
   "source": [
    "# matrix of documents x topic weights\n",
    "nmf.transform(vect_df)"
   ]
  },
  {
   "cell_type": "code",
   "execution_count": 22,
   "metadata": {},
   "outputs": [
    {
     "name": "stdout",
     "output_type": "stream",
     "text": [
      "\n",
      "Topic #0:notice reinspection responsibility scheduled attend code section owner property owner section property inspector code accessed inspection specified areas provide violation notice violation owner responsibility inspection specified representative areas cited scheduled notice cited\n",
      "======================================================================\n",
      "\n",
      "Topic #1:repair replace repair replace kitchen floor window damaged broken sink missing replace damaged 1001hc light repair damaged bedroom toilet sash replace missing water windows wall deteriorated loose 1001 sfhc\n",
      "======================================================================\n",
      "\n",
      "Topic #2:common common areas street areas routine subject property subject violations routine inspection common area inspection property areas building located area public building public common notice notice violation safety violation apartment noted inspection conducted\n",
      "======================================================================\n",
      "\n",
      "Topic #3:door roof self lock closer entry door close provide exit closing entry self closing doors latch assistance room outside device gate passageway install adjust repair hc leading\n",
      "======================================================================\n",
      "\n",
      "Topic #4:building required work permit inspector inspection building permit housing inspector reinspection housing permit required exterior provide complete time plumbing repairs note permits obtain affidavit electrical job card job card\n",
      "======================================================================\n",
      "\n",
      "Topic #5:unit located provide violations street extinguishers date tag tag date noted entry posted current entry door recharged heat leaks extinguisher seal extinguishers required serviced missing annually check water\n",
      "======================================================================\n",
      "\n",
      "Topic #6:st common area area common sec apt violation 303 notice violation subject property subject notice routine inspection located california routine public areas violations garage property building self provide inspector ceiling affidavit\n",
      "======================================================================\n",
      "\n",
      "Topic #7:gas area visible shut common area near location post emergency provide common procedures adjacent install main accessible type garbage existing make tenants extinguishers stored extinguisher current\n",
      "======================================================================\n",
      "\n",
      "Topic #8:bathroom ceiling paint room walls damaged wall water peeling bedroom surfaces mold lead living living room peeling paint eliminate repaint repair damaged repair hallway shower ceilings exterior area\n",
      "======================================================================\n",
      "\n",
      "Topic #9:rear remove stairs storage items garage floor rear stairs egress escape area yard exit stair combustible exterior stored stairway clear times clean garbage path hazard basement\n",
      "======================================================================\n"
     ]
    }
   ],
   "source": [
    "# topics and their top words\n",
    "print_top_words(nmf, tf_vectorizer.get_feature_names(), 25)"
   ]
  },
  {
   "cell_type": "code",
   "execution_count": 71,
   "metadata": {},
   "outputs": [],
   "source": [
    "# topic names\n",
    "top_dic = {\n",
    "    0: 'General Inspection 1',\n",
    "    1: 'Various Room Repairs',\n",
    "    2: 'General Inspection 2',\n",
    "    3: 'Entry/Exit',\n",
    "    4: 'Permits',\n",
    "    5: 'General Violations 1',\n",
    "    6: 'General Violations 2',\n",
    "    7: 'Remidial Instruction',\n",
    "    8: 'Wall Concerns',\n",
    "    9: 'Access Concerns'\n",
    "}"
   ]
  },
  {
   "cell_type": "code",
   "execution_count": 72,
   "metadata": {},
   "outputs": [
    {
     "data": {
      "text/html": [
       "<div>\n",
       "<style scoped>\n",
       "    .dataframe tbody tr th:only-of-type {\n",
       "        vertical-align: middle;\n",
       "    }\n",
       "\n",
       "    .dataframe tbody tr th {\n",
       "        vertical-align: top;\n",
       "    }\n",
       "\n",
       "    .dataframe thead th {\n",
       "        text-align: right;\n",
       "    }\n",
       "</style>\n",
       "<table border=\"1\" class=\"dataframe\">\n",
       "  <thead>\n",
       "    <tr style=\"text-align: right;\">\n",
       "      <th></th>\n",
       "      <th>General Inspection 1</th>\n",
       "      <th>Various Room Repairs</th>\n",
       "      <th>General Inspection 2</th>\n",
       "      <th>Entry/Exit</th>\n",
       "      <th>Permits</th>\n",
       "      <th>General Violations 1</th>\n",
       "      <th>General Violations 2</th>\n",
       "      <th>Remidial Instruction</th>\n",
       "      <th>Wall Concerns</th>\n",
       "      <th>Access Concerns</th>\n",
       "    </tr>\n",
       "    <tr>\n",
       "      <th>Complaint Number</th>\n",
       "      <th></th>\n",
       "      <th></th>\n",
       "      <th></th>\n",
       "      <th></th>\n",
       "      <th></th>\n",
       "      <th></th>\n",
       "      <th></th>\n",
       "      <th></th>\n",
       "      <th></th>\n",
       "      <th></th>\n",
       "    </tr>\n",
       "  </thead>\n",
       "  <tbody>\n",
       "    <tr>\n",
       "      <th>H9603327</th>\n",
       "      <td>0.000000</td>\n",
       "      <td>0.005241</td>\n",
       "      <td>0.000000</td>\n",
       "      <td>0.000000</td>\n",
       "      <td>0.000000</td>\n",
       "      <td>0.003278</td>\n",
       "      <td>0.0</td>\n",
       "      <td>0.000000</td>\n",
       "      <td>0.114747</td>\n",
       "      <td>0.000000</td>\n",
       "    </tr>\n",
       "    <tr>\n",
       "      <th>201971003</th>\n",
       "      <td>0.172365</td>\n",
       "      <td>0.000000</td>\n",
       "      <td>0.000351</td>\n",
       "      <td>0.000000</td>\n",
       "      <td>0.000000</td>\n",
       "      <td>0.000000</td>\n",
       "      <td>0.0</td>\n",
       "      <td>0.000000</td>\n",
       "      <td>0.000000</td>\n",
       "      <td>0.000000</td>\n",
       "    </tr>\n",
       "    <tr>\n",
       "      <th>201970841</th>\n",
       "      <td>0.000000</td>\n",
       "      <td>0.000000</td>\n",
       "      <td>0.000000</td>\n",
       "      <td>0.000000</td>\n",
       "      <td>0.000000</td>\n",
       "      <td>0.000000</td>\n",
       "      <td>0.0</td>\n",
       "      <td>0.000000</td>\n",
       "      <td>0.000000</td>\n",
       "      <td>0.000000</td>\n",
       "    </tr>\n",
       "    <tr>\n",
       "      <th>201970521</th>\n",
       "      <td>0.004236</td>\n",
       "      <td>0.000000</td>\n",
       "      <td>0.000000</td>\n",
       "      <td>0.000845</td>\n",
       "      <td>0.060171</td>\n",
       "      <td>0.001202</td>\n",
       "      <td>0.0</td>\n",
       "      <td>0.000000</td>\n",
       "      <td>0.000000</td>\n",
       "      <td>0.038216</td>\n",
       "    </tr>\n",
       "    <tr>\n",
       "      <th>201969631</th>\n",
       "      <td>0.000000</td>\n",
       "      <td>0.000000</td>\n",
       "      <td>0.000000</td>\n",
       "      <td>0.000000</td>\n",
       "      <td>0.066351</td>\n",
       "      <td>0.000000</td>\n",
       "      <td>0.0</td>\n",
       "      <td>0.023414</td>\n",
       "      <td>0.025564</td>\n",
       "      <td>0.000000</td>\n",
       "    </tr>\n",
       "  </tbody>\n",
       "</table>\n",
       "</div>"
      ],
      "text/plain": [
       "                  General Inspection 1  Various Room Repairs  \\\n",
       "Complaint Number                                               \n",
       "H9603327                      0.000000              0.005241   \n",
       "201971003                     0.172365              0.000000   \n",
       "201970841                     0.000000              0.000000   \n",
       "201970521                     0.004236              0.000000   \n",
       "201969631                     0.000000              0.000000   \n",
       "\n",
       "                  General Inspection 2  Entry/Exit   Permits  \\\n",
       "Complaint Number                                               \n",
       "H9603327                      0.000000    0.000000  0.000000   \n",
       "201971003                     0.000351    0.000000  0.000000   \n",
       "201970841                     0.000000    0.000000  0.000000   \n",
       "201970521                     0.000000    0.000845  0.060171   \n",
       "201969631                     0.000000    0.000000  0.066351   \n",
       "\n",
       "                  General Violations 1  General Violations 2  \\\n",
       "Complaint Number                                               \n",
       "H9603327                      0.003278                   0.0   \n",
       "201971003                     0.000000                   0.0   \n",
       "201970841                     0.000000                   0.0   \n",
       "201970521                     0.001202                   0.0   \n",
       "201969631                     0.000000                   0.0   \n",
       "\n",
       "                  Remidial Instruction  Wall Concerns  Access Concerns  \n",
       "Complaint Number                                                        \n",
       "H9603327                      0.000000       0.114747         0.000000  \n",
       "201971003                     0.000000       0.000000         0.000000  \n",
       "201970841                     0.000000       0.000000         0.000000  \n",
       "201970521                     0.000000       0.000000         0.038216  \n",
       "201969631                     0.023414       0.025564         0.000000  "
      ]
     },
     "execution_count": 72,
     "metadata": {},
     "output_type": "execute_result"
    }
   ],
   "source": [
    "# document x topic weight dataframe \n",
    "df_topics = pd.DataFrame(nmf.transform(vect_df))\n",
    "# map topic name to integers\n",
    "df_topics.columns = df_topics.columns.map(top_dic)\n",
    "# reset index to complaint number\n",
    "df_topics.set_index(df_comments.index, inplace=True)\n",
    "df_topics.head()"
   ]
  },
  {
   "cell_type": "code",
   "execution_count": 73,
   "metadata": {
    "scrolled": true
   },
   "outputs": [],
   "source": [
    "# convert to %\n",
    "df_topics_perc = df_topics.div(df_topics.sum(axis=1), axis=0)"
   ]
  },
  {
   "cell_type": "code",
   "execution_count": 74,
   "metadata": {
    "scrolled": true
   },
   "outputs": [
    {
     "ename": "KeyError",
     "evalue": "0",
     "output_type": "error",
     "traceback": [
      "\u001b[0;31m---------------------------------------------------------------------------\u001b[0m",
      "\u001b[0;31mKeyError\u001b[0m                                  Traceback (most recent call last)",
      "\u001b[0;32m<ipython-input-74-0e182657dd56>\u001b[0m in \u001b[0;36m<module>\u001b[0;34m()\u001b[0m\n\u001b[1;32m      1\u001b[0m \u001b[0;31m# sort greatest to least per document\u001b[0m\u001b[0;34m\u001b[0m\u001b[0;34m\u001b[0m\u001b[0m\n\u001b[0;32m----> 2\u001b[0;31m \u001b[0mdf_topics_perc\u001b[0m\u001b[0;34m.\u001b[0m\u001b[0msort_values\u001b[0m\u001b[0;34m(\u001b[0m\u001b[0mby\u001b[0m\u001b[0;34m=\u001b[0m\u001b[0;36m0\u001b[0m\u001b[0;34m,\u001b[0m \u001b[0maxis\u001b[0m\u001b[0;34m=\u001b[0m\u001b[0;36m1\u001b[0m\u001b[0;34m,\u001b[0m \u001b[0mascending\u001b[0m\u001b[0;34m=\u001b[0m\u001b[0;32mFalse\u001b[0m\u001b[0;34m)\u001b[0m\u001b[0;34m\u001b[0m\u001b[0m\n\u001b[0m",
      "\u001b[0;32m~/anaconda3/lib/python3.6/site-packages/pandas/core/frame.py\u001b[0m in \u001b[0;36msort_values\u001b[0;34m(self, by, axis, ascending, inplace, kind, na_position)\u001b[0m\n\u001b[1;32m   4419\u001b[0m             \u001b[0mby\u001b[0m \u001b[0;34m=\u001b[0m \u001b[0mby\u001b[0m\u001b[0;34m[\u001b[0m\u001b[0;36m0\u001b[0m\u001b[0;34m]\u001b[0m\u001b[0;34m\u001b[0m\u001b[0m\n\u001b[1;32m   4420\u001b[0m             k = self._get_label_or_level_values(by, axis=axis,\n\u001b[0;32m-> 4421\u001b[0;31m                                                 stacklevel=stacklevel)\n\u001b[0m\u001b[1;32m   4422\u001b[0m \u001b[0;34m\u001b[0m\u001b[0m\n\u001b[1;32m   4423\u001b[0m             \u001b[0;32mif\u001b[0m \u001b[0misinstance\u001b[0m\u001b[0;34m(\u001b[0m\u001b[0mascending\u001b[0m\u001b[0;34m,\u001b[0m \u001b[0;34m(\u001b[0m\u001b[0mtuple\u001b[0m\u001b[0;34m,\u001b[0m \u001b[0mlist\u001b[0m\u001b[0;34m)\u001b[0m\u001b[0;34m)\u001b[0m\u001b[0;34m:\u001b[0m\u001b[0;34m\u001b[0m\u001b[0m\n",
      "\u001b[0;32m~/anaconda3/lib/python3.6/site-packages/pandas/core/generic.py\u001b[0m in \u001b[0;36m_get_label_or_level_values\u001b[0;34m(self, key, axis, stacklevel)\u001b[0m\n\u001b[1;32m   1377\u001b[0m             \u001b[0mvalues\u001b[0m \u001b[0;34m=\u001b[0m \u001b[0mself\u001b[0m\u001b[0;34m.\u001b[0m\u001b[0maxes\u001b[0m\u001b[0;34m[\u001b[0m\u001b[0maxis\u001b[0m\u001b[0;34m]\u001b[0m\u001b[0;34m.\u001b[0m\u001b[0mget_level_values\u001b[0m\u001b[0;34m(\u001b[0m\u001b[0mkey\u001b[0m\u001b[0;34m)\u001b[0m\u001b[0;34m.\u001b[0m\u001b[0m_values\u001b[0m\u001b[0;34m\u001b[0m\u001b[0m\n\u001b[1;32m   1378\u001b[0m         \u001b[0;32melse\u001b[0m\u001b[0;34m:\u001b[0m\u001b[0;34m\u001b[0m\u001b[0m\n\u001b[0;32m-> 1379\u001b[0;31m             \u001b[0;32mraise\u001b[0m \u001b[0mKeyError\u001b[0m\u001b[0;34m(\u001b[0m\u001b[0mkey\u001b[0m\u001b[0;34m)\u001b[0m\u001b[0;34m\u001b[0m\u001b[0m\n\u001b[0m\u001b[1;32m   1380\u001b[0m \u001b[0;34m\u001b[0m\u001b[0m\n\u001b[1;32m   1381\u001b[0m         \u001b[0;31m# Check for duplicates\u001b[0m\u001b[0;34m\u001b[0m\u001b[0;34m\u001b[0m\u001b[0m\n",
      "\u001b[0;31mKeyError\u001b[0m: 0"
     ]
    }
   ],
   "source": [
    "# sort greatest to least per document\n",
    "df_topics_perc.sort_values(by=0, axis=1, ascending=False)"
   ]
  },
  {
   "cell_type": "code",
   "execution_count": 75,
   "metadata": {},
   "outputs": [],
   "source": [
    "# array of top topic for each document\n",
    "top_vec = np.argmax(nmf.transform(vect_df), axis=1)"
   ]
  },
  {
   "cell_type": "code",
   "execution_count": 76,
   "metadata": {},
   "outputs": [
    {
     "data": {
      "text/plain": [
       "array(['Wall Concerns', 'General Inspection 1', 'General Inspection 1',\n",
       "       ..., 'Entry/Exit', 'Entry/Exit', 'Permits'], dtype='<U20')"
      ]
     },
     "execution_count": 76,
     "metadata": {},
     "output_type": "execute_result"
    }
   ],
   "source": [
    "# map topic array to topic descriptions\n",
    "np.vectorize(top_dic.get)(top_vec)"
   ]
  },
  {
   "cell_type": "code",
   "execution_count": 77,
   "metadata": {},
   "outputs": [
    {
     "data": {
      "text/plain": [
       "([0, 1, 2, 3, 4, 5, 6, 7, 8, 9], <a list of 10 Text xticklabel objects>)"
      ]
     },
     "execution_count": 77,
     "metadata": {},
     "output_type": "execute_result"
    },
    {
     "data": {
      "image/png": "[encoded data removed]",
      "text/plain": [
       "<Figure size 864x504 with 1 Axes>"
      ]
     },
     "metadata": {},
     "output_type": "display_data"
    }
   ],
   "source": [
    "# topic frequency plot\n",
    "plt.hist(np.vectorize(top_dic.get)(top_vec), bins=10)\n",
    "plt.xticks(rotation=90)"
   ]
  },
  {
   "cell_type": "code",
   "execution_count": null,
   "metadata": {},
   "outputs": [],
   "source": []
  }
 ],
 "metadata": {
  "kernelspec": {
   "display_name": "Python 3",
   "language": "python",
   "name": "python3"
  },
  "language_info": {
   "codemirror_mode": {
    "name": "ipython",
    "version": 3
   },
   "file_extension": ".py",
   "mimetype": "text/x-python",
   "name": "python",
   "nbconvert_exporter": "python",
   "pygments_lexer": "ipython3",
   "version": "3.6.5"
  }
 },
 "nbformat": 4,
 "nbformat_minor": 2
}
