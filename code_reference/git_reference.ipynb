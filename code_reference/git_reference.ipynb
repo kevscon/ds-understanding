{
 "cells": [
  {
   "cell_type": "markdown",
   "metadata": {},
   "source": [
    "# Setup Github repository from local directory\n",
    "1. Create local project directory/files\n",
    "2. Create project repository on Github\n",
    "3. Open terminal and go to project directory\n",
    "4. type `git init`\n",
    "5. add local file to repo:\n",
    "```\n",
    "git add .\n",
    "```\n",
    "6. commit changes:\n",
    "```\n",
    "git commit -m 'some text'\n",
    "```\n",
    "7. Copy Github URL\n",
    "8. In terminal, type:\n",
    "```\n",
    "git remote add origin (URL)\n",
    "```\n",
    "then, to check:\n",
    "```\n",
    "git remote -v\n",
    "```\n",
    "10. Push changes from local to Github (origin):\n",
    "```\n",
    "git push origin master\n",
    "```"
   ]
  },
  {
   "cell_type": "markdown",
   "metadata": {},
   "source": [
    "# Setup local git from Github repository\n",
    "1. Create project repository on Github\n",
    "2. Open terminal and go to desired project directory location\n",
    "3. type `git clone (URL)`\n",
    "4. Check with `git remote -v`  \n",
    "\n",
    "All directories and files on the Github repo should now be available locally."
   ]
  },
  {
   "cell_type": "markdown",
   "metadata": {},
   "source": [
    "# Change remote URL\n",
    "`git remote set-url origin *new-url*`"
   ]
  },
  {
   "cell_type": "markdown",
   "metadata": {},
   "source": [
    "# gitignore\n",
    "Create `.gitignore` file and list items for git to ignore.  \n",
    "- Create with `touch .gitignore`"
   ]
  },
  {
   "cell_type": "markdown",
   "metadata": {},
   "source": [
    "# Syncing"
   ]
  },
  {
   "cell_type": "markdown",
   "metadata": {},
   "source": [
    "## Status\n",
    "Check local changes to be synced with remote (Github):  \n",
    "`git status`"
   ]
  },
  {
   "cell_type": "markdown",
   "metadata": {},
   "source": [
    "## Download changes from Github to local\n",
    "In local directory, type `git pull origin master`"
   ]
  },
  {
   "cell_type": "markdown",
   "metadata": {},
   "source": [
    "## Add, Commit and Push Changes to Github\n",
    "Procedure to upload local changes to github repo:\n",
    "- `git add *filename*`\n",
    "- `git commit -m 'commit note'`\n",
    "- `git push origin master`  \n",
    "\n",
    "Detailed info on these commands provided in sections below..."
   ]
  },
  {
   "cell_type": "markdown",
   "metadata": {},
   "source": [
    "## Stage all items at once\n",
    "- `git add .`"
   ]
  },
  {
   "cell_type": "markdown",
   "metadata": {},
   "source": [
    "# Git Push Details\n",
    "## 1. Untracked (red)\n",
    "Items that are new to git\n",
    "- Begin tracking item (add to index):\n",
    "    - `git add *filename*`\n",
    "\n",
    "## 2. Tracked (red)\n",
    "\"Changes not staged for commit\" - tracked items that have been modified or deleted\n",
    "- Stage item for commit:\n",
    "    - `git add *filename*`\n",
    "\n",
    "### Stash\n",
    "Save Tracked and Untracked changes for later use\n",
    "- Stash:\n",
    "    - `git stash`\n",
    "- Reapply stashed changes:\n",
    "    - `git stash pop`\n",
    "\n",
    "## 3. Staged (green)\n",
    "\"Changes to be committed\"\n",
    "- Commit item:\n",
    "    - `git commit -m 'commit note'`\n",
    "- Modify commit:\n",
    "    - `git commit -m 'commit note' --amend`\n",
    "- Unstage item (undo git add):\n",
    "    - `git rm --cached *filename*`\n",
    "    - directory: `git rm --cached -r *folder_name*`\n",
    "- Unstage item (reset index):\n",
    "    - `git reset HEAD *filename*`\n",
    "\n",
    "## 4. Committed\n",
    "Committed changes to be pushed to remote\n",
    "- Upload items to Github:\n",
    "    - `git push origin master`\n",
    "- Undo last commit:\n",
    "    - `git reset --soft HEAD~1`"
   ]
  },
  {
   "cell_type": "markdown",
   "metadata": {},
   "source": [
    "# Remove file from Github repo\n",
    "Remove file from remote repo. \n",
    "- `git rm --cached *filename*`\n",
    "- `git commit -m 'some text'`\n",
    "- `git push origin master`"
   ]
  },
  {
   "cell_type": "markdown",
   "metadata": {},
   "source": [
    "# Resolve Merge Conflicts"
   ]
  },
  {
   "cell_type": "markdown",
   "metadata": {},
   "source": [
    "## Overwrite local files with Github repo files\n",
    "This will discard all local changes since last commit:  \n",
    "- `git reset --hard origin/master`\n",
    "- `git pull origin master`"
   ]
  },
  {
   "cell_type": "markdown",
   "metadata": {},
   "source": [
    "## Overwrite Github repo files with local files\n",
    "`git push origin master -f`"
   ]
  },
  {
   "cell_type": "code",
   "execution_count": null,
   "metadata": {},
   "outputs": [],
   "source": []
  }
 ],
 "metadata": {
  "kernelspec": {
   "display_name": "Python 3",
   "language": "python",
   "name": "python3"
  },
  "language_info": {
   "codemirror_mode": {
    "name": "ipython",
    "version": 3
   },
   "file_extension": ".py",
   "mimetype": "text/x-python",
   "name": "python",
   "nbconvert_exporter": "python",
   "pygments_lexer": "ipython3",
   "version": "3.6.5"
  }
 },
 "nbformat": 4,
 "nbformat_minor": 2
}
