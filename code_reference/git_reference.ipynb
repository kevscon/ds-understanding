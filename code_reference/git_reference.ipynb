{
 "cells": [
  {
   "cell_type": "markdown",
   "metadata": {},
   "source": [
    "# Setup Github repository from local directory\n",
    "1. Create local project directory/files\n",
    "2. Create project repository on Github\n",
    "3. Open terminal and go to project directory\n",
    "4. type `git init`\n",
    "5. add local file to repo:\n",
    "```\n",
    "git add .\n",
    "```\n",
    "6. commit changes:\n",
    "```\n",
    "git commit -m 'some text'\n",
    "```\n",
    "7. Copy Github URL\n",
    "8. In terminal, type:\n",
    "```\n",
    "git remote add origin (URL)\n",
    "```\n",
    "then, to check:\n",
    "```\n",
    "git remote -v\n",
    "```\n",
    "10. Push changes from local to Github (origin):\n",
    "```\n",
    "git push origin master\n",
    "```"
   ]
  },
  {
   "cell_type": "markdown",
   "metadata": {},
   "source": [
    "# Setup local git from Github repository\n",
    "1. Create project repository on Github\n",
    "2. Open terminal and go to desired project directory location\n",
    "3. type `git clone (URL)`\n",
    "4. Check with `git remote -v`  \n",
    "\n",
    "All directories and files on the Github repo should now be available locally."
   ]
  },
  {
   "cell_type": "markdown",
   "metadata": {},
   "source": [
    "# Change remote URL\n",
    "`git remote set-url origin *new-url*`"
   ]
  },
  {
   "cell_type": "markdown",
   "metadata": {},
   "source": [
    "# Syncing"
   ]
  },
  {
   "cell_type": "markdown",
   "metadata": {},
   "source": [
    "## Download changes from Github to local\n",
    "In local directory, type `git pull origin master`"
   ]
  },
  {
   "cell_type": "markdown",
   "metadata": {},
   "source": [
    "## Add, Commit and Push Changes to Github\n",
    "Procedure to update local changes to github repo:\n",
    "- `git add .`\n",
    "- `git commit -m 'commit note'`\n",
    "- `git push origin master`  \n",
    "\n",
    "Detailed info on these commands provided in sections below..."
   ]
  },
  {
   "cell_type": "markdown",
   "metadata": {},
   "source": [
    "# gitignore"
   ]
  },
  {
   "cell_type": "markdown",
   "metadata": {},
   "source": [
    "Create `.gitignore` file and list items for git to ignore.  \n",
    "- Create with `touch .gitignore`"
   ]
  },
  {
   "cell_type": "markdown",
   "metadata": {},
   "source": [
    "## Untracked files:\n",
    "Files that are new to git (red)\n",
    "- Begin tracking with `git add *filename*`\n",
    "- Begin tracking all untracked files with `git add .`"
   ]
  },
  {
   "cell_type": "markdown",
   "metadata": {},
   "source": [
    "## Tracked files"
   ]
  },
  {
   "cell_type": "markdown",
   "metadata": {},
   "source": [
    "### Changes not staged for commit:\n",
    "Tracked files that have been modified (red). These may be files that were deleted or modified.  \n",
    "- Stage with `git add *filename*`"
   ]
  },
  {
   "cell_type": "markdown",
   "metadata": {},
   "source": [
    "### Untrack file\n",
    "Remove file from staging area and change to untracked. Do this before commit.  \n",
    "Also removes file from git remote if previously committed.  \n",
    "- `git rm --cached *filename*`"
   ]
  },
  {
   "cell_type": "markdown",
   "metadata": {},
   "source": [
    "### Untrack directory\n",
    "Remove directory from staging area and change to untracked. Do this before commit.  \n",
    "Also removes directory from git remote if previously committed.  \n",
    "- `git rm --cached -r *folder_name*`"
   ]
  },
  {
   "cell_type": "markdown",
   "metadata": {},
   "source": [
    "### Stash files\n",
    "Clear changes from modified tracked files and staged changes. Files will be stashed for future retrieval.  \n",
    "- `git stash`\n",
    "- to retrieve type `git stash apply`"
   ]
  },
  {
   "cell_type": "markdown",
   "metadata": {},
   "source": [
    "### Changes to be committed:\n",
    "Commit tracked files that have been added (green). These may be files that were new, deleted or modified.\n",
    "- Commit with `git commit -m 'some text'`"
   ]
  },
  {
   "cell_type": "markdown",
   "metadata": {},
   "source": [
    "### Modify commit\n",
    "Add or delete files from a previous commit.  \n",
    "- After initial commit, add/remove files and type `git commit -m 'some text' --amend`"
   ]
  },
  {
   "cell_type": "markdown",
   "metadata": {},
   "source": [
    "## Upload changes from local to Github\n",
    "- Upload to Github with `git push origin master`"
   ]
  },
  {
   "cell_type": "markdown",
   "metadata": {},
   "source": [
    "### Remove file from Github repo\n",
    "Remove file from remote repo. \n",
    "- `git rm --cached *filename*`\n",
    "- `git commit -m 'some text'`\n",
    "- `git push origin master`"
   ]
  },
  {
   "cell_type": "markdown",
   "metadata": {},
   "source": [
    "# Resolving Merge Conflicts"
   ]
  },
  {
   "cell_type": "markdown",
   "metadata": {},
   "source": [
    "## Overwrite local files with Github repo files\n",
    "Type the following:  \n",
    "- `git reset --hard origin/master`\n",
    "- `git pull origin master`"
   ]
  },
  {
   "cell_type": "markdown",
   "metadata": {},
   "source": [
    "## Overwrite Github repo files with local files\n",
    "Type `git push origin master -f`"
   ]
  },
  {
   "cell_type": "code",
   "execution_count": null,
   "metadata": {},
   "outputs": [],
   "source": []
  }
 ],
 "metadata": {
  "kernelspec": {
   "display_name": "Python 3",
   "language": "python",
   "name": "python3"
  },
  "language_info": {
   "codemirror_mode": {
    "name": "ipython",
    "version": 3
   },
   "file_extension": ".py",
   "mimetype": "text/x-python",
   "name": "python",
   "nbconvert_exporter": "python",
   "pygments_lexer": "ipython3",
   "version": "3.6.5"
  }
 },
 "nbformat": 4,
 "nbformat_minor": 2
}
