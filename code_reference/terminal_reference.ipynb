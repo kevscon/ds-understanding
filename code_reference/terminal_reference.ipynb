{
 "cells": [
  {
   "cell_type": "markdown",
   "metadata": {},
   "source": [
    "# Alias\n",
    "save shortcut name for command"
   ]
  },
  {
   "cell_type": "markdown",
   "metadata": {},
   "source": [
    "1. navigate to root directory\n",
    "2. open .bashrc file: `nano .bashrc`\n",
    "3. type: `alias alias_name='command'`"
   ]
  },
  {
   "cell_type": "markdown",
   "metadata": {},
   "source": [
    "# Script\n",
    "run series of commands in one script. `hello-world` example script below"
   ]
  },
  {
   "cell_type": "markdown",
   "metadata": {},
   "source": [
    "- Create file in ~/bin directory: `touch hello-world`  \n",
    "- Make file executable: `chmod u+x hello-world`\n",
    "- In hello-world file (lines numbers shown):\n",
    "    1. include shebang: `#!/bin/bash`\n",
    "    3. assign value to variable: `greeting=\"Hello\"`\n",
    "    5. check for user input: `if [ \"$1\" != \"\" ]; then`\n",
    "    6. assign user input to variable: `greeted=$1`\n",
    "    7. no user input case: `else`\n",
    "    8. assign default value: `greeted=\"World\"`\n",
    "    9. end if statement: `fi`\n",
    "    11. print greeting: `echo $greeting, $greeted!`\n",
    "- Run script without input: `hello-world`\n",
    "    - output: `Hello, World!`\n",
    "- Run script with input: `hello-world Frank`\n",
    "    - output: `Hello, Frank!`"
   ]
  },
  {
   "cell_type": "markdown",
   "metadata": {},
   "source": [
    "### Full script:\n",
    "```\n",
    "#!/bin/bash\n",
    "\n",
    "greeting=\"Hello\"\n",
    "\n",
    "if [ \"$1\" != \"\" ]; then\n",
    "    greeted=$1\n",
    "else\n",
    "    greeted=\"World\"\n",
    "fi\n",
    "\n",
    "echo $greeting, $greeted!\n",
    "```"
   ]
  },
  {
   "cell_type": "code",
   "execution_count": null,
   "metadata": {},
   "outputs": [],
   "source": []
  }
 ],
 "metadata": {
  "kernelspec": {
   "display_name": "Python 3",
   "language": "python",
   "name": "python3"
  },
  "language_info": {
   "codemirror_mode": {
    "name": "ipython",
    "version": 3
   },
   "file_extension": ".py",
   "mimetype": "text/x-python",
   "name": "python",
   "nbconvert_exporter": "python",
   "pygments_lexer": "ipython3",
   "version": "3.6.5"
  }
 },
 "nbformat": 4,
 "nbformat_minor": 2
}
