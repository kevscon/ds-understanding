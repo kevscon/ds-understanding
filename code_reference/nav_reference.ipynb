{
 "cells": [
  {
   "cell_type": "markdown",
   "metadata": {},
   "source": [
    "# Contents\n",
    "- [Directory Navigation](#dir_nav)  \n",
    "- [Read Files](#rd_f)\n",
    "- [Write Files](#wt_f) \n",
    "- [Compare Files](#fl_comp)\n",
    "- [Requests](#rqsts)\n",
    "- [Read PDF](#rd_pdf)"
   ]
  },
  {
   "cell_type": "code",
   "execution_count": 1,
   "metadata": {},
   "outputs": [],
   "source": [
    "import os"
   ]
  },
  {
   "cell_type": "markdown",
   "metadata": {},
   "source": [
    "# Directory Navigation <a name=\"dir_nav\"></a>"
   ]
  },
  {
   "cell_type": "markdown",
   "metadata": {},
   "source": [
    "## List Items in Directory"
   ]
  },
  {
   "cell_type": "code",
   "execution_count": 2,
   "metadata": {},
   "outputs": [
    {
     "data": {
      "text/plain": [
       "['dog.py',\n",
       " 'wc_image.png',\n",
       " 'write_2.txt',\n",
       " 'usa.png',\n",
       " 'write.txt',\n",
       " 'plt_ref_fig.png',\n",
       " 'Life_expectancy_dataset.csv',\n",
       " 'write.json',\n",
       " '__pycache__',\n",
       " 'Concrete_Data.csv',\n",
       " 'nlp_paper.pdf',\n",
       " '.Rhistory',\n",
       " 'life_expectancy_out.csv']"
      ]
     },
     "execution_count": 2,
     "metadata": {},
     "output_type": "execute_result"
    }
   ],
   "source": [
    "# global path reference\n",
    "global_path = '/home/kevcon/ds/github/ds-understanding/coding_reference/data'\n",
    "os.listdir(global_path)"
   ]
  },
  {
   "cell_type": "code",
   "execution_count": 3,
   "metadata": {},
   "outputs": [
    {
     "data": {
      "text/plain": [
       "['dog.py',\n",
       " 'wc_image.png',\n",
       " 'write_2.txt',\n",
       " 'usa.png',\n",
       " 'write.txt',\n",
       " 'plt_ref_fig.png',\n",
       " 'Life_expectancy_dataset.csv',\n",
       " 'write.json',\n",
       " '__pycache__',\n",
       " 'Concrete_Data.csv',\n",
       " 'nlp_paper.pdf',\n",
       " '.Rhistory',\n",
       " 'life_expectancy_out.csv']"
      ]
     },
     "execution_count": 3,
     "metadata": {},
     "output_type": "execute_result"
    }
   ],
   "source": [
    "# local path reference\n",
    "local_path = 'data'\n",
    "os.listdir(local_path)"
   ]
  },
  {
   "cell_type": "markdown",
   "metadata": {},
   "source": [
    "### List only files"
   ]
  },
  {
   "cell_type": "code",
   "execution_count": 4,
   "metadata": {},
   "outputs": [
    {
     "data": {
      "text/plain": [
       "['dog.py',\n",
       " 'wc_image.png',\n",
       " 'write_2.txt',\n",
       " 'usa.png',\n",
       " 'write.txt',\n",
       " 'plt_ref_fig.png',\n",
       " 'Life_expectancy_dataset.csv',\n",
       " 'write.json',\n",
       " 'Concrete_Data.csv',\n",
       " 'nlp_paper.pdf',\n",
       " '.Rhistory',\n",
       " 'life_expectancy_out.csv']"
      ]
     },
     "execution_count": 4,
     "metadata": {},
     "output_type": "execute_result"
    }
   ],
   "source": [
    "[f for f in os.listdir(local_path) if os.path.isfile(os.path.join(local_path, f))]"
   ]
  },
  {
   "cell_type": "markdown",
   "metadata": {},
   "source": [
    "### Glob"
   ]
  },
  {
   "cell_type": "code",
   "execution_count": 5,
   "metadata": {},
   "outputs": [],
   "source": [
    "import glob"
   ]
  },
  {
   "cell_type": "code",
   "execution_count": 6,
   "metadata": {},
   "outputs": [
    {
     "data": {
      "text/plain": [
       "['/home/kevcon/ds/github/ds-understanding/coding_reference/data/Life_expectancy_dataset.csv',\n",
       " '/home/kevcon/ds/github/ds-understanding/coding_reference/data/Concrete_Data.csv',\n",
       " '/home/kevcon/ds/github/ds-understanding/coding_reference/data/life_expectancy_out.csv']"
      ]
     },
     "execution_count": 6,
     "metadata": {},
     "output_type": "execute_result"
    }
   ],
   "source": [
    "# return specified filetype with global reference\n",
    "glob.glob('/home/kevcon/ds/github/ds-understanding/coding_reference/data/*.csv')"
   ]
  },
  {
   "cell_type": "code",
   "execution_count": 7,
   "metadata": {},
   "outputs": [
    {
     "data": {
      "text/plain": [
       "['data/Life_expectancy_dataset.csv',\n",
       " 'data/Concrete_Data.csv',\n",
       " 'data/life_expectancy_out.csv']"
      ]
     },
     "execution_count": 7,
     "metadata": {},
     "output_type": "execute_result"
    }
   ],
   "source": [
    "# return specified filetype with local reference\n",
    "glob.glob('data/*.csv')"
   ]
  },
  {
   "cell_type": "code",
   "execution_count": 8,
   "metadata": {},
   "outputs": [
    {
     "data": {
      "text/plain": [
       "['data/usa.png']"
      ]
     },
     "execution_count": 8,
     "metadata": {},
     "output_type": "execute_result"
    }
   ],
   "source": [
    "# return files with variable character\n",
    "glob.glob('data/us?.png')"
   ]
  },
  {
   "cell_type": "code",
   "execution_count": 9,
   "metadata": {},
   "outputs": [
    {
     "data": {
      "text/plain": [
       "['data/dog.py', 'data/usa.png', 'data/plt_ref_fig.png']"
      ]
     },
     "execution_count": 9,
     "metadata": {},
     "output_type": "execute_result"
    }
   ],
   "source": [
    "# return files starting with range of characters\n",
    "glob.glob('data/[dup]*')"
   ]
  },
  {
   "cell_type": "markdown",
   "metadata": {},
   "source": [
    "# Read Files <a name=\"rd_f\"></a>"
   ]
  },
  {
   "cell_type": "code",
   "execution_count": 10,
   "metadata": {},
   "outputs": [],
   "source": [
    "path = '/home/kevcon/nltk_data/corpora/movie_reviews/pos/'"
   ]
  },
  {
   "cell_type": "code",
   "execution_count": 11,
   "metadata": {},
   "outputs": [],
   "source": [
    "file = os.listdir(path)[0]"
   ]
  },
  {
   "cell_type": "markdown",
   "metadata": {},
   "source": [
    "## Read File as String"
   ]
  },
  {
   "cell_type": "code",
   "execution_count": 12,
   "metadata": {},
   "outputs": [],
   "source": [
    "# open file\n",
    "f = open(path + file, 'r')\n",
    "# read all lines as single string\n",
    "document = f.read()\n",
    "# close file\n",
    "f.close()"
   ]
  },
  {
   "cell_type": "code",
   "execution_count": 13,
   "metadata": {
    "scrolled": true
   },
   "outputs": [
    {
     "data": {
      "text/plain": [
       "' \" love is the devil \" is a challenging film , munundating its audience with wild imagery and a plot structure that disallows a plot , perhaps in an attempt to get us to know the artist\\'s psyche rather than the artist\\'s lifeline . \\nwatching it , i was enthralled with the look of the film , the way the director shot everything like it was looking through a bizarre , personalized filter . \\neverything looks like it is not how life looks like but how painter francis bacon , the film\\'s subject , looked at it personally . \\nbut while i was engrossed , i stumbled upon my thoughts halfway through the film , awakened from my trance by some inner distraction , and began to try and follow what\\'s going on . \\nexactly what was i looking at ? \\nwatching this film , i wasn\\'t sure if it was the most insightful film i had ever seen or the most vacuous . \\ndirected ( and written ) by john maybury , \" love is the devil \" is stylish masterpiece for the senses . \\neverything looks originally bizarre and perplexing . \\nthe camera angles are ferociously askew , and the close-ups are uncomfortably too close . \\nthe editing is deft , occasionally cutting away to something bizarre every couple seconds , but other times holding on a shot for so long that you wonder if the audience is not supposed to be voyeurs , or rather , intruders to bacon\\'s world and psyche . \\nas such , there is no real story . \\ni\\'ve not heard much about francis bacon that i didn\\'t read prior to the film , but what i learned was this : he was a painter in england who reached his peak during the 60s and 70s , drawing hideously bizarre drawings of carnage and the like . \\nhe was one of the first to really come out of the closet , and in interviews , he was notoriously drunk yet incredibly witty . \\nas played by great shakesperean actor derek jacobi , he\\'s like a foppish and self-absorbed cross between oscar wilde and nero . \\nhe lives life the way he wants to live it , to the disatisfaction of those who have the privelege of being really close to him . \\nit\\'s as if he were taking delight in the destruction of others and maybe himself ( \" champagne for my real friends , and pain for my sham friends , \" he says one night at the bar he frequents ) . \\n \" love is the devil \" chronicles the latter part of his life . \\nbacon , well-known in his mid-life , awakens one night when he hears a man tumble through his ceiling window and land on the floor . \\nhe walks in , unafraid of what he finds , and discovers a thief , george dyer ( daniel craig ) . \\nbacon gives him an offer : if he spends the night with him , he can take anything he wants in the morning . \\ngeorge agrees to this , and off to bed he goes , but ends up staying with him , for whatever reason . \\nthe film shows their lives together , at least in reference to one another . \\nwhile creating bacon\\'s world of friends ( like \" high art , \" this film minors in showing a certain group of people who radiate a connection that is not shown but is understood ) , the film shows the relationship of bacon and george as it remains rather stagnant . \\nbacon is haughty and bizarre ; george is simple and doesn\\'t understand bacon in the least , especially not his paintings . \\nwhile watching this , that\\'s basically all i thought was there . \\nthe film has a hypnotic feel , free of any restraints of form , and is shot so uniquely that i felt my attention was almost entirely on the way this film was made rather than what it is about . \\nonce the film is over , it\\'s easier to piece it together . \\ni kept on thinking about this film , wondering what the point to all of it was . \\nsomeone doesn\\'t merely make a film of all style and no substance at all , and if they do , they do it by accident , but still allow some substance to creep in . \\nthinking about it , i remembered how the two fed off of eachother . \\ni thought about how bacon was a masochist , in love with cruelty ( in one scene , he watches a boxing match with a orgiastic delight , and lets out a squeal of pleasure when blood from the one boxer\\'s head splashes across his face ; in another scene , he masturbates to the odessa steps sequence of eisenstein\\'s \" battleship potemkin \" ) , and perhaps he drove george too far in his delight for pain . \\nhe drove him over the edge , and for him that was love , even if it wasn\\'t for george . \\ni guess that explains the title . \\na bit . \\nthat\\'s great and all , but i almost wish the film was devoid of any meaning . \\ni wish it hadn\\'t reduced itself to making some point about humanity , about how love is the most selfish thing in the world ( and it is , if you look at it a certain way ) . \\nor maybe if it had avoided any meaning about humanity and merely drove itself into being the one film that was truly inside one man\\'s twisted pysche . \\nit\\'s almost always best to obtain insights from looking at one man\\'s uniqueness than it is forcing universality down an audience\\'s throat . \\nthat way you don\\'t reduce your film to something it\\'s just not . \\ni can\\'t say i totally enjoyed \" love is the devil , \" though . \\ndespite all of the things i respect about this movie , it\\'s still rather uncomfortable to sit through . \\neven at a normally trite length of ninety minutes , the film still seems like an arduous task to sit through , especially after an exhausting first hour . \\nthough hypnotic , it still almost seems gimmicky and even redundant at times , as if it were taking advantage of one man\\'s truly bizarre nature but not doing anything deeper with it . \\nas such , i respect the way the film looks . \\nit\\'s beautiful and painstakingly crafted so that , along with \" what dreams may come \" and \" dark city , \" it\\'s the year\\'s most visually stunning film . \\nin fact , if a better script had been forged , i\\'d almost compare it in visual power to a peter greenaway film , complete with similar haunting images that stick in the mind forever . \\nand with a dymanite performance by derek jacobi , it has the comic and distanced tone that it needs . \\ni just wish it had been more than mostly style and just a hair bit of substance . \\nthen i would have had something to hold me over even now . \\n'"
      ]
     },
     "execution_count": 13,
     "metadata": {},
     "output_type": "execute_result"
    }
   ],
   "source": [
    "document"
   ]
  },
  {
   "cell_type": "code",
   "execution_count": 14,
   "metadata": {},
   "outputs": [
    {
     "data": {
      "text/plain": [
       "' '"
      ]
     },
     "execution_count": 14,
     "metadata": {},
     "output_type": "execute_result"
    }
   ],
   "source": [
    "document[0]"
   ]
  },
  {
   "cell_type": "code",
   "execution_count": 15,
   "metadata": {},
   "outputs": [],
   "source": [
    "# read specified range of strings\n",
    "f = open(path + file, 'r')\n",
    "document = f.read(20)\n",
    "f.close()"
   ]
  },
  {
   "cell_type": "code",
   "execution_count": 16,
   "metadata": {},
   "outputs": [
    {
     "data": {
      "text/plain": [
       "' \" love is the devil'"
      ]
     },
     "execution_count": 16,
     "metadata": {},
     "output_type": "execute_result"
    }
   ],
   "source": [
    "document"
   ]
  },
  {
   "cell_type": "markdown",
   "metadata": {},
   "source": [
    "## Read File as List of Lines"
   ]
  },
  {
   "cell_type": "code",
   "execution_count": 17,
   "metadata": {},
   "outputs": [],
   "source": [
    "f = open(path + file, 'r')\n",
    "# read each line\n",
    "document = f.readlines()\n",
    "f.close()"
   ]
  },
  {
   "cell_type": "code",
   "execution_count": 18,
   "metadata": {
    "scrolled": true
   },
   "outputs": [
    {
     "data": {
      "text/plain": [
       "[' \" love is the devil \" is a challenging film , munundating its audience with wild imagery and a plot structure that disallows a plot , perhaps in an attempt to get us to know the artist\\'s psyche rather than the artist\\'s lifeline . \\n',\n",
       " 'watching it , i was enthralled with the look of the film , the way the director shot everything like it was looking through a bizarre , personalized filter . \\n',\n",
       " \"everything looks like it is not how life looks like but how painter francis bacon , the film's subject , looked at it personally . \\n\",\n",
       " \"but while i was engrossed , i stumbled upon my thoughts halfway through the film , awakened from my trance by some inner distraction , and began to try and follow what's going on . \\n\",\n",
       " 'exactly what was i looking at ? \\n',\n",
       " \"watching this film , i wasn't sure if it was the most insightful film i had ever seen or the most vacuous . \\n\",\n",
       " 'directed ( and written ) by john maybury , \" love is the devil \" is stylish masterpiece for the senses . \\n',\n",
       " 'everything looks originally bizarre and perplexing . \\n',\n",
       " 'the camera angles are ferociously askew , and the close-ups are uncomfortably too close . \\n',\n",
       " \"the editing is deft , occasionally cutting away to something bizarre every couple seconds , but other times holding on a shot for so long that you wonder if the audience is not supposed to be voyeurs , or rather , intruders to bacon's world and psyche . \\n\",\n",
       " 'as such , there is no real story . \\n',\n",
       " \"i've not heard much about francis bacon that i didn't read prior to the film , but what i learned was this : he was a painter in england who reached his peak during the 60s and 70s , drawing hideously bizarre drawings of carnage and the like . \\n\",\n",
       " 'he was one of the first to really come out of the closet , and in interviews , he was notoriously drunk yet incredibly witty . \\n',\n",
       " \"as played by great shakesperean actor derek jacobi , he's like a foppish and self-absorbed cross between oscar wilde and nero . \\n\",\n",
       " 'he lives life the way he wants to live it , to the disatisfaction of those who have the privelege of being really close to him . \\n',\n",
       " 'it\\'s as if he were taking delight in the destruction of others and maybe himself ( \" champagne for my real friends , and pain for my sham friends , \" he says one night at the bar he frequents ) . \\n',\n",
       " ' \" love is the devil \" chronicles the latter part of his life . \\n',\n",
       " 'bacon , well-known in his mid-life , awakens one night when he hears a man tumble through his ceiling window and land on the floor . \\n',\n",
       " 'he walks in , unafraid of what he finds , and discovers a thief , george dyer ( daniel craig ) . \\n',\n",
       " 'bacon gives him an offer : if he spends the night with him , he can take anything he wants in the morning . \\n',\n",
       " 'george agrees to this , and off to bed he goes , but ends up staying with him , for whatever reason . \\n',\n",
       " 'the film shows their lives together , at least in reference to one another . \\n',\n",
       " 'while creating bacon\\'s world of friends ( like \" high art , \" this film minors in showing a certain group of people who radiate a connection that is not shown but is understood ) , the film shows the relationship of bacon and george as it remains rather stagnant . \\n',\n",
       " \"bacon is haughty and bizarre ; george is simple and doesn't understand bacon in the least , especially not his paintings . \\n\",\n",
       " \"while watching this , that's basically all i thought was there . \\n\",\n",
       " 'the film has a hypnotic feel , free of any restraints of form , and is shot so uniquely that i felt my attention was almost entirely on the way this film was made rather than what it is about . \\n',\n",
       " \"once the film is over , it's easier to piece it together . \\n\",\n",
       " 'i kept on thinking about this film , wondering what the point to all of it was . \\n',\n",
       " \"someone doesn't merely make a film of all style and no substance at all , and if they do , they do it by accident , but still allow some substance to creep in . \\n\",\n",
       " 'thinking about it , i remembered how the two fed off of eachother . \\n',\n",
       " 'i thought about how bacon was a masochist , in love with cruelty ( in one scene , he watches a boxing match with a orgiastic delight , and lets out a squeal of pleasure when blood from the one boxer\\'s head splashes across his face ; in another scene , he masturbates to the odessa steps sequence of eisenstein\\'s \" battleship potemkin \" ) , and perhaps he drove george too far in his delight for pain . \\n',\n",
       " \"he drove him over the edge , and for him that was love , even if it wasn't for george . \\n\",\n",
       " 'i guess that explains the title . \\n',\n",
       " 'a bit . \\n',\n",
       " \"that's great and all , but i almost wish the film was devoid of any meaning . \\n\",\n",
       " \"i wish it hadn't reduced itself to making some point about humanity , about how love is the most selfish thing in the world ( and it is , if you look at it a certain way ) . \\n\",\n",
       " \"or maybe if it had avoided any meaning about humanity and merely drove itself into being the one film that was truly inside one man's twisted pysche . \\n\",\n",
       " \"it's almost always best to obtain insights from looking at one man's uniqueness than it is forcing universality down an audience's throat . \\n\",\n",
       " \"that way you don't reduce your film to something it's just not . \\n\",\n",
       " 'i can\\'t say i totally enjoyed \" love is the devil , \" though . \\n',\n",
       " \"despite all of the things i respect about this movie , it's still rather uncomfortable to sit through . \\n\",\n",
       " 'even at a normally trite length of ninety minutes , the film still seems like an arduous task to sit through , especially after an exhausting first hour . \\n',\n",
       " \"though hypnotic , it still almost seems gimmicky and even redundant at times , as if it were taking advantage of one man's truly bizarre nature but not doing anything deeper with it . \\n\",\n",
       " 'as such , i respect the way the film looks . \\n',\n",
       " 'it\\'s beautiful and painstakingly crafted so that , along with \" what dreams may come \" and \" dark city , \" it\\'s the year\\'s most visually stunning film . \\n',\n",
       " \"in fact , if a better script had been forged , i'd almost compare it in visual power to a peter greenaway film , complete with similar haunting images that stick in the mind forever . \\n\",\n",
       " 'and with a dymanite performance by derek jacobi , it has the comic and distanced tone that it needs . \\n',\n",
       " 'i just wish it had been more than mostly style and just a hair bit of substance . \\n',\n",
       " 'then i would have had something to hold me over even now . \\n']"
      ]
     },
     "execution_count": 18,
     "metadata": {},
     "output_type": "execute_result"
    }
   ],
   "source": [
    "document"
   ]
  },
  {
   "cell_type": "code",
   "execution_count": 19,
   "metadata": {},
   "outputs": [
    {
     "data": {
      "text/plain": [
       "' \" love is the devil \" is a challenging film , munundating its audience with wild imagery and a plot structure that disallows a plot , perhaps in an attempt to get us to know the artist\\'s psyche rather than the artist\\'s lifeline . \\n'"
      ]
     },
     "execution_count": 19,
     "metadata": {},
     "output_type": "execute_result"
    }
   ],
   "source": [
    "document[0]"
   ]
  },
  {
   "cell_type": "markdown",
   "metadata": {},
   "source": [
    "## Read File using With"
   ]
  },
  {
   "cell_type": "code",
   "execution_count": 20,
   "metadata": {},
   "outputs": [],
   "source": [
    "# read file using with\n",
    "with open(path + file, 'r') as f:\n",
    "    document = f.read()"
   ]
  },
  {
   "cell_type": "code",
   "execution_count": 21,
   "metadata": {
    "scrolled": true
   },
   "outputs": [
    {
     "data": {
      "text/plain": [
       "' \" love is the devil \" is a challenging film , munundating its audience with wild imagery and a plot structure that disallows a plot , perhaps in an attempt to get us to know the artist\\'s psyche rather than the artist\\'s lifeline . \\nwatching it , i was enthralled with the look of the film , the way the director shot everything like it was looking through a bizarre , personalized filter . \\neverything looks like it is not how life looks like but how painter francis bacon , the film\\'s subject , looked at it personally . \\nbut while i was engrossed , i stumbled upon my thoughts halfway through the film , awakened from my trance by some inner distraction , and began to try and follow what\\'s going on . \\nexactly what was i looking at ? \\nwatching this film , i wasn\\'t sure if it was the most insightful film i had ever seen or the most vacuous . \\ndirected ( and written ) by john maybury , \" love is the devil \" is stylish masterpiece for the senses . \\neverything looks originally bizarre and perplexing . \\nthe camera angles are ferociously askew , and the close-ups are uncomfortably too close . \\nthe editing is deft , occasionally cutting away to something bizarre every couple seconds , but other times holding on a shot for so long that you wonder if the audience is not supposed to be voyeurs , or rather , intruders to bacon\\'s world and psyche . \\nas such , there is no real story . \\ni\\'ve not heard much about francis bacon that i didn\\'t read prior to the film , but what i learned was this : he was a painter in england who reached his peak during the 60s and 70s , drawing hideously bizarre drawings of carnage and the like . \\nhe was one of the first to really come out of the closet , and in interviews , he was notoriously drunk yet incredibly witty . \\nas played by great shakesperean actor derek jacobi , he\\'s like a foppish and self-absorbed cross between oscar wilde and nero . \\nhe lives life the way he wants to live it , to the disatisfaction of those who have the privelege of being really close to him . \\nit\\'s as if he were taking delight in the destruction of others and maybe himself ( \" champagne for my real friends , and pain for my sham friends , \" he says one night at the bar he frequents ) . \\n \" love is the devil \" chronicles the latter part of his life . \\nbacon , well-known in his mid-life , awakens one night when he hears a man tumble through his ceiling window and land on the floor . \\nhe walks in , unafraid of what he finds , and discovers a thief , george dyer ( daniel craig ) . \\nbacon gives him an offer : if he spends the night with him , he can take anything he wants in the morning . \\ngeorge agrees to this , and off to bed he goes , but ends up staying with him , for whatever reason . \\nthe film shows their lives together , at least in reference to one another . \\nwhile creating bacon\\'s world of friends ( like \" high art , \" this film minors in showing a certain group of people who radiate a connection that is not shown but is understood ) , the film shows the relationship of bacon and george as it remains rather stagnant . \\nbacon is haughty and bizarre ; george is simple and doesn\\'t understand bacon in the least , especially not his paintings . \\nwhile watching this , that\\'s basically all i thought was there . \\nthe film has a hypnotic feel , free of any restraints of form , and is shot so uniquely that i felt my attention was almost entirely on the way this film was made rather than what it is about . \\nonce the film is over , it\\'s easier to piece it together . \\ni kept on thinking about this film , wondering what the point to all of it was . \\nsomeone doesn\\'t merely make a film of all style and no substance at all , and if they do , they do it by accident , but still allow some substance to creep in . \\nthinking about it , i remembered how the two fed off of eachother . \\ni thought about how bacon was a masochist , in love with cruelty ( in one scene , he watches a boxing match with a orgiastic delight , and lets out a squeal of pleasure when blood from the one boxer\\'s head splashes across his face ; in another scene , he masturbates to the odessa steps sequence of eisenstein\\'s \" battleship potemkin \" ) , and perhaps he drove george too far in his delight for pain . \\nhe drove him over the edge , and for him that was love , even if it wasn\\'t for george . \\ni guess that explains the title . \\na bit . \\nthat\\'s great and all , but i almost wish the film was devoid of any meaning . \\ni wish it hadn\\'t reduced itself to making some point about humanity , about how love is the most selfish thing in the world ( and it is , if you look at it a certain way ) . \\nor maybe if it had avoided any meaning about humanity and merely drove itself into being the one film that was truly inside one man\\'s twisted pysche . \\nit\\'s almost always best to obtain insights from looking at one man\\'s uniqueness than it is forcing universality down an audience\\'s throat . \\nthat way you don\\'t reduce your film to something it\\'s just not . \\ni can\\'t say i totally enjoyed \" love is the devil , \" though . \\ndespite all of the things i respect about this movie , it\\'s still rather uncomfortable to sit through . \\neven at a normally trite length of ninety minutes , the film still seems like an arduous task to sit through , especially after an exhausting first hour . \\nthough hypnotic , it still almost seems gimmicky and even redundant at times , as if it were taking advantage of one man\\'s truly bizarre nature but not doing anything deeper with it . \\nas such , i respect the way the film looks . \\nit\\'s beautiful and painstakingly crafted so that , along with \" what dreams may come \" and \" dark city , \" it\\'s the year\\'s most visually stunning film . \\nin fact , if a better script had been forged , i\\'d almost compare it in visual power to a peter greenaway film , complete with similar haunting images that stick in the mind forever . \\nand with a dymanite performance by derek jacobi , it has the comic and distanced tone that it needs . \\ni just wish it had been more than mostly style and just a hair bit of substance . \\nthen i would have had something to hold me over even now . \\n'"
      ]
     },
     "execution_count": 21,
     "metadata": {},
     "output_type": "execute_result"
    }
   ],
   "source": [
    "document"
   ]
  },
  {
   "cell_type": "markdown",
   "metadata": {},
   "source": [
    "## Read File by Line"
   ]
  },
  {
   "cell_type": "code",
   "execution_count": 22,
   "metadata": {},
   "outputs": [],
   "source": [
    "lines = []\n",
    "with open(path + file, 'r') as f:\n",
    "    for line in f:\n",
    "        lines.append(line)"
   ]
  },
  {
   "cell_type": "code",
   "execution_count": 23,
   "metadata": {
    "scrolled": true
   },
   "outputs": [
    {
     "data": {
      "text/plain": [
       "[' \" love is the devil \" is a challenging film , munundating its audience with wild imagery and a plot structure that disallows a plot , perhaps in an attempt to get us to know the artist\\'s psyche rather than the artist\\'s lifeline . \\n',\n",
       " 'watching it , i was enthralled with the look of the film , the way the director shot everything like it was looking through a bizarre , personalized filter . \\n',\n",
       " \"everything looks like it is not how life looks like but how painter francis bacon , the film's subject , looked at it personally . \\n\",\n",
       " \"but while i was engrossed , i stumbled upon my thoughts halfway through the film , awakened from my trance by some inner distraction , and began to try and follow what's going on . \\n\",\n",
       " 'exactly what was i looking at ? \\n',\n",
       " \"watching this film , i wasn't sure if it was the most insightful film i had ever seen or the most vacuous . \\n\",\n",
       " 'directed ( and written ) by john maybury , \" love is the devil \" is stylish masterpiece for the senses . \\n',\n",
       " 'everything looks originally bizarre and perplexing . \\n',\n",
       " 'the camera angles are ferociously askew , and the close-ups are uncomfortably too close . \\n',\n",
       " \"the editing is deft , occasionally cutting away to something bizarre every couple seconds , but other times holding on a shot for so long that you wonder if the audience is not supposed to be voyeurs , or rather , intruders to bacon's world and psyche . \\n\",\n",
       " 'as such , there is no real story . \\n',\n",
       " \"i've not heard much about francis bacon that i didn't read prior to the film , but what i learned was this : he was a painter in england who reached his peak during the 60s and 70s , drawing hideously bizarre drawings of carnage and the like . \\n\",\n",
       " 'he was one of the first to really come out of the closet , and in interviews , he was notoriously drunk yet incredibly witty . \\n',\n",
       " \"as played by great shakesperean actor derek jacobi , he's like a foppish and self-absorbed cross between oscar wilde and nero . \\n\",\n",
       " 'he lives life the way he wants to live it , to the disatisfaction of those who have the privelege of being really close to him . \\n',\n",
       " 'it\\'s as if he were taking delight in the destruction of others and maybe himself ( \" champagne for my real friends , and pain for my sham friends , \" he says one night at the bar he frequents ) . \\n',\n",
       " ' \" love is the devil \" chronicles the latter part of his life . \\n',\n",
       " 'bacon , well-known in his mid-life , awakens one night when he hears a man tumble through his ceiling window and land on the floor . \\n',\n",
       " 'he walks in , unafraid of what he finds , and discovers a thief , george dyer ( daniel craig ) . \\n',\n",
       " 'bacon gives him an offer : if he spends the night with him , he can take anything he wants in the morning . \\n',\n",
       " 'george agrees to this , and off to bed he goes , but ends up staying with him , for whatever reason . \\n',\n",
       " 'the film shows their lives together , at least in reference to one another . \\n',\n",
       " 'while creating bacon\\'s world of friends ( like \" high art , \" this film minors in showing a certain group of people who radiate a connection that is not shown but is understood ) , the film shows the relationship of bacon and george as it remains rather stagnant . \\n',\n",
       " \"bacon is haughty and bizarre ; george is simple and doesn't understand bacon in the least , especially not his paintings . \\n\",\n",
       " \"while watching this , that's basically all i thought was there . \\n\",\n",
       " 'the film has a hypnotic feel , free of any restraints of form , and is shot so uniquely that i felt my attention was almost entirely on the way this film was made rather than what it is about . \\n',\n",
       " \"once the film is over , it's easier to piece it together . \\n\",\n",
       " 'i kept on thinking about this film , wondering what the point to all of it was . \\n',\n",
       " \"someone doesn't merely make a film of all style and no substance at all , and if they do , they do it by accident , but still allow some substance to creep in . \\n\",\n",
       " 'thinking about it , i remembered how the two fed off of eachother . \\n',\n",
       " 'i thought about how bacon was a masochist , in love with cruelty ( in one scene , he watches a boxing match with a orgiastic delight , and lets out a squeal of pleasure when blood from the one boxer\\'s head splashes across his face ; in another scene , he masturbates to the odessa steps sequence of eisenstein\\'s \" battleship potemkin \" ) , and perhaps he drove george too far in his delight for pain . \\n',\n",
       " \"he drove him over the edge , and for him that was love , even if it wasn't for george . \\n\",\n",
       " 'i guess that explains the title . \\n',\n",
       " 'a bit . \\n',\n",
       " \"that's great and all , but i almost wish the film was devoid of any meaning . \\n\",\n",
       " \"i wish it hadn't reduced itself to making some point about humanity , about how love is the most selfish thing in the world ( and it is , if you look at it a certain way ) . \\n\",\n",
       " \"or maybe if it had avoided any meaning about humanity and merely drove itself into being the one film that was truly inside one man's twisted pysche . \\n\",\n",
       " \"it's almost always best to obtain insights from looking at one man's uniqueness than it is forcing universality down an audience's throat . \\n\",\n",
       " \"that way you don't reduce your film to something it's just not . \\n\",\n",
       " 'i can\\'t say i totally enjoyed \" love is the devil , \" though . \\n',\n",
       " \"despite all of the things i respect about this movie , it's still rather uncomfortable to sit through . \\n\",\n",
       " 'even at a normally trite length of ninety minutes , the film still seems like an arduous task to sit through , especially after an exhausting first hour . \\n',\n",
       " \"though hypnotic , it still almost seems gimmicky and even redundant at times , as if it were taking advantage of one man's truly bizarre nature but not doing anything deeper with it . \\n\",\n",
       " 'as such , i respect the way the film looks . \\n',\n",
       " 'it\\'s beautiful and painstakingly crafted so that , along with \" what dreams may come \" and \" dark city , \" it\\'s the year\\'s most visually stunning film . \\n',\n",
       " \"in fact , if a better script had been forged , i'd almost compare it in visual power to a peter greenaway film , complete with similar haunting images that stick in the mind forever . \\n\",\n",
       " 'and with a dymanite performance by derek jacobi , it has the comic and distanced tone that it needs . \\n',\n",
       " 'i just wish it had been more than mostly style and just a hair bit of substance . \\n',\n",
       " 'then i would have had something to hold me over even now . \\n']"
      ]
     },
     "execution_count": 23,
     "metadata": {},
     "output_type": "execute_result"
    }
   ],
   "source": [
    "lines"
   ]
  },
  {
   "cell_type": "markdown",
   "metadata": {},
   "source": [
    "## Remove \\n character"
   ]
  },
  {
   "cell_type": "code",
   "execution_count": 24,
   "metadata": {},
   "outputs": [],
   "source": [
    "lines = []\n",
    "with open(path + file, 'r') as f:\n",
    "    for line in f:\n",
    "        # remove blank space at ends\n",
    "        lines.append(line.strip())"
   ]
  },
  {
   "cell_type": "code",
   "execution_count": 25,
   "metadata": {
    "scrolled": true
   },
   "outputs": [
    {
     "data": {
      "text/plain": [
       "['\" love is the devil \" is a challenging film , munundating its audience with wild imagery and a plot structure that disallows a plot , perhaps in an attempt to get us to know the artist\\'s psyche rather than the artist\\'s lifeline .',\n",
       " 'watching it , i was enthralled with the look of the film , the way the director shot everything like it was looking through a bizarre , personalized filter .',\n",
       " \"everything looks like it is not how life looks like but how painter francis bacon , the film's subject , looked at it personally .\",\n",
       " \"but while i was engrossed , i stumbled upon my thoughts halfway through the film , awakened from my trance by some inner distraction , and began to try and follow what's going on .\",\n",
       " 'exactly what was i looking at ?',\n",
       " \"watching this film , i wasn't sure if it was the most insightful film i had ever seen or the most vacuous .\",\n",
       " 'directed ( and written ) by john maybury , \" love is the devil \" is stylish masterpiece for the senses .',\n",
       " 'everything looks originally bizarre and perplexing .',\n",
       " 'the camera angles are ferociously askew , and the close-ups are uncomfortably too close .',\n",
       " \"the editing is deft , occasionally cutting away to something bizarre every couple seconds , but other times holding on a shot for so long that you wonder if the audience is not supposed to be voyeurs , or rather , intruders to bacon's world and psyche .\",\n",
       " 'as such , there is no real story .',\n",
       " \"i've not heard much about francis bacon that i didn't read prior to the film , but what i learned was this : he was a painter in england who reached his peak during the 60s and 70s , drawing hideously bizarre drawings of carnage and the like .\",\n",
       " 'he was one of the first to really come out of the closet , and in interviews , he was notoriously drunk yet incredibly witty .',\n",
       " \"as played by great shakesperean actor derek jacobi , he's like a foppish and self-absorbed cross between oscar wilde and nero .\",\n",
       " 'he lives life the way he wants to live it , to the disatisfaction of those who have the privelege of being really close to him .',\n",
       " 'it\\'s as if he were taking delight in the destruction of others and maybe himself ( \" champagne for my real friends , and pain for my sham friends , \" he says one night at the bar he frequents ) .',\n",
       " '\" love is the devil \" chronicles the latter part of his life .',\n",
       " 'bacon , well-known in his mid-life , awakens one night when he hears a man tumble through his ceiling window and land on the floor .',\n",
       " 'he walks in , unafraid of what he finds , and discovers a thief , george dyer ( daniel craig ) .',\n",
       " 'bacon gives him an offer : if he spends the night with him , he can take anything he wants in the morning .',\n",
       " 'george agrees to this , and off to bed he goes , but ends up staying with him , for whatever reason .',\n",
       " 'the film shows their lives together , at least in reference to one another .',\n",
       " 'while creating bacon\\'s world of friends ( like \" high art , \" this film minors in showing a certain group of people who radiate a connection that is not shown but is understood ) , the film shows the relationship of bacon and george as it remains rather stagnant .',\n",
       " \"bacon is haughty and bizarre ; george is simple and doesn't understand bacon in the least , especially not his paintings .\",\n",
       " \"while watching this , that's basically all i thought was there .\",\n",
       " 'the film has a hypnotic feel , free of any restraints of form , and is shot so uniquely that i felt my attention was almost entirely on the way this film was made rather than what it is about .',\n",
       " \"once the film is over , it's easier to piece it together .\",\n",
       " 'i kept on thinking about this film , wondering what the point to all of it was .',\n",
       " \"someone doesn't merely make a film of all style and no substance at all , and if they do , they do it by accident , but still allow some substance to creep in .\",\n",
       " 'thinking about it , i remembered how the two fed off of eachother .',\n",
       " 'i thought about how bacon was a masochist , in love with cruelty ( in one scene , he watches a boxing match with a orgiastic delight , and lets out a squeal of pleasure when blood from the one boxer\\'s head splashes across his face ; in another scene , he masturbates to the odessa steps sequence of eisenstein\\'s \" battleship potemkin \" ) , and perhaps he drove george too far in his delight for pain .',\n",
       " \"he drove him over the edge , and for him that was love , even if it wasn't for george .\",\n",
       " 'i guess that explains the title .',\n",
       " 'a bit .',\n",
       " \"that's great and all , but i almost wish the film was devoid of any meaning .\",\n",
       " \"i wish it hadn't reduced itself to making some point about humanity , about how love is the most selfish thing in the world ( and it is , if you look at it a certain way ) .\",\n",
       " \"or maybe if it had avoided any meaning about humanity and merely drove itself into being the one film that was truly inside one man's twisted pysche .\",\n",
       " \"it's almost always best to obtain insights from looking at one man's uniqueness than it is forcing universality down an audience's throat .\",\n",
       " \"that way you don't reduce your film to something it's just not .\",\n",
       " 'i can\\'t say i totally enjoyed \" love is the devil , \" though .',\n",
       " \"despite all of the things i respect about this movie , it's still rather uncomfortable to sit through .\",\n",
       " 'even at a normally trite length of ninety minutes , the film still seems like an arduous task to sit through , especially after an exhausting first hour .',\n",
       " \"though hypnotic , it still almost seems gimmicky and even redundant at times , as if it were taking advantage of one man's truly bizarre nature but not doing anything deeper with it .\",\n",
       " 'as such , i respect the way the film looks .',\n",
       " 'it\\'s beautiful and painstakingly crafted so that , along with \" what dreams may come \" and \" dark city , \" it\\'s the year\\'s most visually stunning film .',\n",
       " \"in fact , if a better script had been forged , i'd almost compare it in visual power to a peter greenaway film , complete with similar haunting images that stick in the mind forever .\",\n",
       " 'and with a dymanite performance by derek jacobi , it has the comic and distanced tone that it needs .',\n",
       " 'i just wish it had been more than mostly style and just a hair bit of substance .',\n",
       " 'then i would have had something to hold me over even now .']"
      ]
     },
     "execution_count": 25,
     "metadata": {},
     "output_type": "execute_result"
    }
   ],
   "source": [
    "lines"
   ]
  },
  {
   "cell_type": "markdown",
   "metadata": {},
   "source": [
    "# Write Files <a name=\"wt_f\"></a>"
   ]
  },
  {
   "cell_type": "code",
   "execution_count": 1,
   "metadata": {},
   "outputs": [],
   "source": [
    "# write file line by line \n",
    "write_file = open('data/write_1.txt', 'w') \n",
    "write_file.write('Hello World \\n') \n",
    "write_file.write('This is our new text file\\n') \n",
    "write_file.write('and this is another line.\\n') \n",
    "write_file.write('Why? Because we can.') \n",
    "write_file.close() "
   ]
  },
  {
   "cell_type": "code",
   "execution_count": 2,
   "metadata": {},
   "outputs": [],
   "source": [
    "# write file using with\n",
    "with open('data/write_2.txt', 'w') as outfile:\n",
    "    outfile.write('Hello World \\nThis is our new text file\\nand this is another line.\\nWhy? Because we can.')"
   ]
  },
  {
   "cell_type": "markdown",
   "metadata": {},
   "source": [
    "# Export Object"
   ]
  },
  {
   "cell_type": "code",
   "execution_count": 3,
   "metadata": {},
   "outputs": [],
   "source": [
    "# define object (dictionary)\n",
    "write_dict = {'Brutus': 'Sic Semper Tyrannis!', 'Julius': 'Et tu, Brute??'}"
   ]
  },
  {
   "cell_type": "markdown",
   "metadata": {},
   "source": [
    "## Text"
   ]
  },
  {
   "cell_type": "code",
   "execution_count": 4,
   "metadata": {},
   "outputs": [],
   "source": [
    "# create and write data to text file\n",
    "with open('data/write.txt', 'w') as outfile:\n",
    "    outfile.write(str(write_dict))"
   ]
  },
  {
   "cell_type": "code",
   "execution_count": 5,
   "metadata": {},
   "outputs": [],
   "source": [
    "# open and read text file\n",
    "with open('data/write.txt', 'r') as infile:\n",
    "    document = infile.read()"
   ]
  },
  {
   "cell_type": "code",
   "execution_count": 6,
   "metadata": {},
   "outputs": [
    {
     "data": {
      "text/plain": [
       "\"{'Brutus': 'Sic Semper Tyrannis!', 'Julius': 'Et tu, Brute??'}\""
      ]
     },
     "execution_count": 6,
     "metadata": {},
     "output_type": "execute_result"
    }
   ],
   "source": [
    "document"
   ]
  },
  {
   "cell_type": "markdown",
   "metadata": {},
   "source": [
    "### convert back to dictionary"
   ]
  },
  {
   "cell_type": "code",
   "execution_count": 7,
   "metadata": {},
   "outputs": [],
   "source": [
    "import ast"
   ]
  },
  {
   "cell_type": "code",
   "execution_count": 8,
   "metadata": {},
   "outputs": [
    {
     "data": {
      "text/plain": [
       "{'Brutus': 'Sic Semper Tyrannis!', 'Julius': 'Et tu, Brute??'}"
      ]
     },
     "execution_count": 8,
     "metadata": {},
     "output_type": "execute_result"
    }
   ],
   "source": [
    "ast.literal_eval(document)"
   ]
  },
  {
   "cell_type": "markdown",
   "metadata": {},
   "source": [
    "## CSV"
   ]
  },
  {
   "cell_type": "code",
   "execution_count": 9,
   "metadata": {},
   "outputs": [],
   "source": [
    "import csv"
   ]
  },
  {
   "cell_type": "code",
   "execution_count": 10,
   "metadata": {},
   "outputs": [],
   "source": [
    "# create and write data to csv file\n",
    "with open('data/write.csv', 'w') as outfile:\n",
    "    writer = csv.writer(outfile)\n",
    "    for key, value in write_dict.items():\n",
    "        writer.writerow([key, value])"
   ]
  },
  {
   "cell_type": "code",
   "execution_count": 11,
   "metadata": {},
   "outputs": [],
   "source": [
    "# open and read csv file\n",
    "with open('data/write.csv') as infile:\n",
    "    reader = csv.reader(infile)"
   ]
  },
  {
   "cell_type": "code",
   "execution_count": 12,
   "metadata": {},
   "outputs": [
    {
     "data": {
      "text/plain": [
       "<_csv.reader at 0x7fa8e0108518>"
      ]
     },
     "execution_count": 12,
     "metadata": {},
     "output_type": "execute_result"
    }
   ],
   "source": [
    "reader"
   ]
  },
  {
   "cell_type": "markdown",
   "metadata": {},
   "source": [
    "### convert back to dictionary"
   ]
  },
  {
   "cell_type": "code",
   "execution_count": 14,
   "metadata": {},
   "outputs": [],
   "source": [
    "with open('data/write.csv') as infile:\n",
    "    reader = dict(csv.reader(infile))"
   ]
  },
  {
   "cell_type": "code",
   "execution_count": 15,
   "metadata": {},
   "outputs": [
    {
     "data": {
      "text/plain": [
       "{'Brutus': 'Sic Semper Tyrannis!', 'Julius': 'Et tu, Brute??'}"
      ]
     },
     "execution_count": 15,
     "metadata": {},
     "output_type": "execute_result"
    }
   ],
   "source": [
    "reader"
   ]
  },
  {
   "cell_type": "markdown",
   "metadata": {},
   "source": [
    "## JSON"
   ]
  },
  {
   "cell_type": "code",
   "execution_count": 16,
   "metadata": {},
   "outputs": [],
   "source": [
    "import json"
   ]
  },
  {
   "cell_type": "code",
   "execution_count": 17,
   "metadata": {},
   "outputs": [],
   "source": [
    "# create and write data to json file\n",
    "with open('data/write.json', 'w') as outfile:\n",
    "    json.dump(write_dict, outfile)"
   ]
  },
  {
   "cell_type": "code",
   "execution_count": 18,
   "metadata": {},
   "outputs": [],
   "source": [
    "# open and read csv file\n",
    "with open('data/write.json', 'r') as infile:\n",
    "    document = json.load(infile)"
   ]
  },
  {
   "cell_type": "code",
   "execution_count": 19,
   "metadata": {},
   "outputs": [
    {
     "data": {
      "text/plain": [
       "{'Brutus': 'Sic Semper Tyrannis!', 'Julius': 'Et tu, Brute??'}"
      ]
     },
     "execution_count": 19,
     "metadata": {},
     "output_type": "execute_result"
    }
   ],
   "source": [
    "document"
   ]
  },
  {
   "cell_type": "markdown",
   "metadata": {},
   "source": [
    "## Pickle"
   ]
  },
  {
   "cell_type": "code",
   "execution_count": 20,
   "metadata": {},
   "outputs": [],
   "source": [
    "import pickle"
   ]
  },
  {
   "cell_type": "code",
   "execution_count": 21,
   "metadata": {},
   "outputs": [],
   "source": [
    "# create and write data to pkl file\n",
    "with open('data/write.pkl', 'wb') as outfile:\n",
    "    pickle.dump(write_dict, outfile)"
   ]
  },
  {
   "cell_type": "code",
   "execution_count": 22,
   "metadata": {},
   "outputs": [],
   "source": [
    "# open and read pkl file\n",
    "with open('data/write.pkl', 'rb') as infile:\n",
    "    document = pickle.load(infile)"
   ]
  },
  {
   "cell_type": "code",
   "execution_count": 23,
   "metadata": {},
   "outputs": [
    {
     "data": {
      "text/plain": [
       "{'Brutus': 'Sic Semper Tyrannis!', 'Julius': 'Et tu, Brute??'}"
      ]
     },
     "execution_count": 23,
     "metadata": {},
     "output_type": "execute_result"
    }
   ],
   "source": [
    "document"
   ]
  },
  {
   "cell_type": "markdown",
   "metadata": {},
   "source": [
    "# Compare Files <a name=\"fl_comp\"></a>"
   ]
  },
  {
   "cell_type": "code",
   "execution_count": 24,
   "metadata": {},
   "outputs": [],
   "source": [
    "import filecmp"
   ]
  },
  {
   "cell_type": "code",
   "execution_count": 25,
   "metadata": {},
   "outputs": [
    {
     "data": {
      "text/plain": [
       "True"
      ]
     },
     "execution_count": 25,
     "metadata": {},
     "output_type": "execute_result"
    }
   ],
   "source": [
    "filecmp.cmp('data/write_1.txt', 'data/write_2.txt')"
   ]
  },
  {
   "cell_type": "code",
   "execution_count": 27,
   "metadata": {},
   "outputs": [
    {
     "data": {
      "text/plain": [
       "False"
      ]
     },
     "execution_count": 27,
     "metadata": {},
     "output_type": "execute_result"
    }
   ],
   "source": [
    "filecmp.cmp('data/write.txt', 'data/write_1.txt')"
   ]
  },
  {
   "cell_type": "markdown",
   "metadata": {},
   "source": [
    "# Requests <a name=\"rqsts\"></a>"
   ]
  },
  {
   "cell_type": "code",
   "execution_count": 34,
   "metadata": {},
   "outputs": [],
   "source": [
    "import requests"
   ]
  },
  {
   "cell_type": "code",
   "execution_count": 35,
   "metadata": {},
   "outputs": [],
   "source": [
    "raw = requests.get('https://kevscon.github.io/about.html')"
   ]
  },
  {
   "cell_type": "code",
   "execution_count": 36,
   "metadata": {
    "scrolled": true
   },
   "outputs": [
    {
     "data": {
      "text/plain": [
       "'<!DOCTYPE html>\\n<html lang=\"en-us\">\\n\\n  <head>\\n  <link href=\"http://gmpg.org/xfn/11\" rel=\"profile\" />\\n  <meta http-equiv=\"X-UA-Compatible\" content=\"IE=edge\" />\\n  <meta http-equiv=\"content-type\" content=\"text/html; charset=utf-8\" />\\n\\n  <!-- Enable responsiveness on mobile devices-->\\n  <meta name=\"viewport\" content=\"width=device-width, initial-scale=1.0, maximum-scale=1\" />\\n\\n  <title>\\n    \\n      About &middot; Kevin\\'s Data Science Portfolio\\n    \\n  </title>\\n\\n  \\n\\n\\n  <!-- CSS -->\\n  <link rel=\"stylesheet\" href=\"/assets/css/main.css\" />\\n  \\n\\n<link rel=\"stylesheet\" href=\"https://fonts.googleapis.com/css?family=Abril+Fatface\" />\\n\\n  <!-- Icons -->\\n  <link rel=\"apple-touch-icon-precomposed\" sizes=\"144x144\" href=\"/favicon.png\" />\\n<link rel=\"shortcut icon\" href=\"/favicon.ico\" />\\n\\n<!-- <link rel=\"shortcut icon\" type=\"image/png\" href=\"/yinyang.png\" > -->\\n\\n\\n  <!-- RSS -->\\n  <link rel=\"alternate\" type=\"application/rss+xml\" title=\"RSS\" href=\"/feed.xml\" />\\n\\n  <!-- Additional head bits without overriding original head -->\\n</head>\\n\\n\\n  <body class=\"page\">\\n\\n    <div id=\"sidebar\">\\n  <header>\\n    <div class=\"site-title\">\\n      <a href=\"/\">\\n        \\n          <span class=\"back-arrow icon\"><svg fill=\"#000000\" height=\"24\" viewBox=\"0 0 24 24\" width=\"24\" xmlns=\"http://www.w3.org/2000/svg\">\\n  <path d=\"M0 0h24v24H0z\" fill=\"none\"/>\\n  <path d=\"M20 11H7.83l5.59-5.59L12 4l-8 8 8 8 1.41-1.41L7.83 13H20v-2z\"/>\\n</svg></span>\\n        \\n        Kevin\\'s Data Science Portfolio\\n      </a>\\n    </div>\\n    <p class=\"lead\">Sample Data Science Projects</p>\\n  </header>\\n  <nav id=\"sidebar-nav-links\">\\n  \\n    <a class=\"home-link \"\\n        href=\"/\">Home</a>\\n  \\n  \\n\\n  \\n\\n  \\n\\n\\n  \\n    \\n  \\n\\n  \\n    \\n      <a class=\"page-link  active\"\\n          href=\"/about.html\">About</a>\\n    \\n  \\n\\n  \\n    \\n  \\n\\n  \\n\\n  \\n    \\n  \\n\\n  \\n    \\n  \\n\\n  \\n    \\n  \\n\\n  \\n\\n  \\n\\n\\n  \\n\\n\\n  \\n    \\n  \\n\\n  \\n    \\n  \\n\\n  \\n    \\n  \\n\\n  \\n\\n  \\n    \\n      <a class=\"category-link \"\\n          href=\"/category/resume.html\">Resume</a>\\n    \\n  \\n\\n  \\n    \\n  \\n\\n  \\n    \\n  \\n\\n  \\n\\n  \\n\\n\\n  <!-- Optional additional links to insert in sidebar nav -->\\n</nav>\\n\\n\\n  \\n\\n  <nav id=\"sidebar-icon-links\">\\n  \\n    <a id=\"github-link\"\\n       class=\"icon\" title=\"Github\" aria-label=\"Github\"\\n       href=\"https://github.com/kevscon\">\\n      <svg version=\"1.1\" xmlns=\"http://www.w3.org/2000/svg\" viewBox=\"0 0 24 28\" height=\"24\" width=\"28\"><path d=\"M12 2c6.625 0 12 5.375 12 12 0 5.297-3.437 9.797-8.203 11.391-0.609 0.109-0.828-0.266-0.828-0.578 0-0.391 0.016-1.687 0.016-3.297 0-1.125-0.375-1.844-0.812-2.219 2.672-0.297 5.484-1.313 5.484-5.922 0-1.313-0.469-2.375-1.234-3.219 0.125-0.313 0.531-1.531-0.125-3.187-1-0.313-3.297 1.234-3.297 1.234-0.953-0.266-1.984-0.406-3-0.406s-2.047 0.141-3 0.406c0 0-2.297-1.547-3.297-1.234-0.656 1.656-0.25 2.875-0.125 3.187-0.766 0.844-1.234 1.906-1.234 3.219 0 4.594 2.797 5.625 5.469 5.922-0.344 0.313-0.656 0.844-0.766 1.609-0.688 0.313-2.438 0.844-3.484-1-0.656-1.141-1.844-1.234-1.844-1.234-1.172-0.016-0.078 0.734-0.078 0.734 0.781 0.359 1.328 1.75 1.328 1.75 0.703 2.141 4.047 1.422 4.047 1.422 0 1 0.016 1.937 0.016 2.234 0 0.313-0.219 0.688-0.828 0.578-4.766-1.594-8.203-6.094-8.203-11.391 0-6.625 5.375-12 12-12zM4.547 19.234c0.031-0.063-0.016-0.141-0.109-0.187-0.094-0.031-0.172-0.016-0.203 0.031-0.031 0.063 0.016 0.141 0.109 0.187 0.078 0.047 0.172 0.031 0.203-0.031zM5.031 19.766c0.063-0.047 0.047-0.156-0.031-0.25-0.078-0.078-0.187-0.109-0.25-0.047-0.063 0.047-0.047 0.156 0.031 0.25 0.078 0.078 0.187 0.109 0.25 0.047zM5.5 20.469c0.078-0.063 0.078-0.187 0-0.297-0.063-0.109-0.187-0.156-0.266-0.094-0.078 0.047-0.078 0.172 0 0.281s0.203 0.156 0.266 0.109zM6.156 21.125c0.063-0.063 0.031-0.203-0.063-0.297-0.109-0.109-0.25-0.125-0.313-0.047-0.078 0.063-0.047 0.203 0.063 0.297 0.109 0.109 0.25 0.125 0.313 0.047zM7.047 21.516c0.031-0.094-0.063-0.203-0.203-0.25-0.125-0.031-0.266 0.016-0.297 0.109s0.063 0.203 0.203 0.234c0.125 0.047 0.266 0 0.297-0.094zM8.031 21.594c0-0.109-0.125-0.187-0.266-0.172-0.141 0-0.25 0.078-0.25 0.172 0 0.109 0.109 0.187 0.266 0.172 0.141 0 0.25-0.078 0.25-0.172zM8.937 21.438c-0.016-0.094-0.141-0.156-0.281-0.141-0.141 0.031-0.234 0.125-0.219 0.234 0.016 0.094 0.141 0.156 0.281 0.125s0.234-0.125 0.219-0.219z\"></path>\\n</svg>\\n\\n    </a>\\n    <!-- <a id=\"github-download-link\"\\n       class=\"icon\" title=\"Download\" aria-label=\"Download\"\\n       href=\"https://github.com/kevscon/archive/v.zip\">\\n      <svg fill=\"#000000\" height=\"24\" viewBox=\"0 0 24 24\" width=\"24\" xmlns=\"http://www.w3.org/2000/svg\">\\n    <path d=\"M19 9h-4V3H9v6H5l7 7 7-7zM5 18v2h14v-2H5z\"/>\\n    <path d=\"M0 0h24v24H0z\" fill=\"none\"/>\\n</svg>\\n    </a> -->\\n  \\n\\n  <!-- <a id=\"subscribe-link\"\\n     class=\"icon\" title=\"Subscribe\" aria-label=\"Subscribe\"\\n     href=\"/feed.xml\">\\n    <svg fill=\"#000000\" height=\"24\" viewBox=\"0 0 24 24\" width=\"24\" xmlns=\"http://www.w3.org/2000/svg\">\\n    <path d=\"M0 0h24v24H0z\" fill=\"none\"/>\\n    <circle cx=\"6.18\" cy=\"17.82\" r=\"2.18\"/>\\n    <path d=\"M4 4.44v2.83c7.03 0 12.73 5.7 12.73 12.73h2.83c0-8.59-6.97-15.56-15.56-15.56zm0 5.66v2.83c3.9 0 7.07 3.17 7.07 7.07h2.83c0-5.47-4.43-9.9-9.9-9.9z\"/>\\n</svg>\\n  </a> -->\\n\\n  \\n  \\n  \\n  \\n\\n  <!-- \\n    <a id=\"tags-link\"\\n       class=\"icon\"\\n       title=\"Tags\" aria-label=\"Tags\"\\n       href=\"/tags.html\">\\n      <svg fill=\"#000000\" height=\"24\" viewBox=\"0 0 24 24\" width=\"24\" xmlns=\"http://www.w3.org/2000/svg\">\\n    <path d=\"M0 0h24v24H0z\" fill=\"none\"/>\\n    <path d=\"M17.63 5.84C17.27 5.33 16.67 5 16 5L5 5.01C3.9 5.01 3 5.9 3 7v10c0 1.1.9 1.99 2 1.99L16 19c.67 0 1.27-.33 1.63-.84L22 12l-4.37-6.16z\"/>\\n</svg>\\n    </a>\\n  \\n\\n  \\n    <a id=\"search-link\"\\n       class=\"icon\"\\n       title=\"Search\" aria-label=\"Search\"\\n       href=\"/search.html\">\\n      <svg fill=\"#000000\" height=\"24\" viewBox=\"0 0 24 24\" width=\"24\" xmlns=\"http://www.w3.org/2000/svg\">\\n    <path d=\"M15.5 14h-.79l-.28-.27C15.41 12.59 16 11.11 16 9.5 16 5.91 13.09 3 9.5 3S3 5.91 3 9.5 5.91 16 9.5 16c1.61 0 3.09-.59 4.23-1.57l.27.28v.79l5 4.99L20.49 19l-4.99-5zm-6 0C7.01 14 5 11.99 5 9.5S7.01 5 9.5 5 14 7.01 14 9.5 11.99 14 9.5 14z\"/>\\n    <path d=\"M0 0h24v24H0z\" fill=\"none\"/>\\n</svg>\\n    </a>\\n   -->\\n\\n  <!-- Optional additional links to insert for icons links -->\\n<a id=\"custom-link\"\\n   class=\"icon\" title=\"LinkedIn\" aria-label=\"LinkedIn\"\\n   href=\"https://www.linkedin.com/in/kevscon\">\\n  <svg xmlns=\"http://www.w3.org/2000/svg\" width=\"24\" height=\"24\" viewBox=\"0 0 24 24\"><path d=\"M19 0h-14c-2.761 0-5 2.239-5 5v14c0 2.761 2.239 5 5 5h14c2.762 0 5-2.239 5-5v-14c0-2.761-2.238-5-5-5zm-11 19h-3v-11h3v11zm-1.5-12.268c-.966 0-1.75-.79-1.75-1.764s.784-1.764 1.75-1.764 1.75.79 1.75 1.764-.783 1.764-1.75 1.764zm13.5 12.268h-3v-5.604c0-3.368-4-3.113-4 0v5.604h-3v-11h3v1.765c1.396-2.586 7-2.777 7 2.476v6.759z\"/></svg>\\n</a>\\n\\n</nav>\\n\\n  <p>\\n  &copy; 2018\\n  <!-- <a href=\"/LICENSE.md\">MIT License.</a> -->\\n</p>\\n\\n</div>\\n\\n    <main class=\"container\">\\n      <header>\\n  <h1 class=\"page-title\">About</h1>\\n</header>\\n<div class=\"content\">\\n  <p>I have Bachelors and Masters degrees in Civil Engineering and nine years professional working experience in the structural engineering field. During that time, I have gained experience in both design and inspection of bridges. But it was data-related projects in the industry that I have found the most engaging and this was the driving force in my decision to make a career shift to data science. I plan to utilize the machine-learning skills I have recently developed, in combination with my previous technical experience, to provide data-based solutions to today’s challenges.</p>\\n\\n</div>\\n\\n    </main>\\n\\n    <!-- Optional footer content -->\\n\\n  </body>\\n</html>\\n'"
      ]
     },
     "execution_count": 36,
     "metadata": {},
     "output_type": "execute_result"
    }
   ],
   "source": [
    "raw.text"
   ]
  },
  {
   "cell_type": "code",
   "execution_count": 37,
   "metadata": {},
   "outputs": [
    {
     "data": {
      "text/plain": [
       "{'Server': 'GitHub.com', 'Content-Type': 'text/html; charset=utf-8', 'Strict-Transport-Security': 'max-age=31557600', 'Last-Modified': 'Fri, 10 Aug 2018 23:41:37 GMT', 'ETag': 'W/\"5b6e22b1-1d6f\"', 'Access-Control-Allow-Origin': '*', 'Expires': 'Wed, 14 Nov 2018 03:01:13 GMT', 'Cache-Control': 'max-age=600', 'Content-Encoding': 'gzip', 'X-GitHub-Request-Id': 'EC52:7D3B:14EB6FD:1C331FD:5BEB8DA0', 'Content-Length': '2968', 'Accept-Ranges': 'bytes', 'Date': 'Wed, 14 Nov 2018 02:51:13 GMT', 'Via': '1.1 varnish', 'Age': '0', 'Connection': 'keep-alive', 'X-Served-By': 'cache-dca17723-DCA', 'X-Cache': 'MISS', 'X-Cache-Hits': '0', 'X-Timer': 'S1542163873.277810,VS0,VE8', 'Vary': 'Accept-Encoding', 'X-Fastly-Request-ID': '30ed8785bcca20f59a5f43157f4f342024f42949'}"
      ]
     },
     "execution_count": 37,
     "metadata": {},
     "output_type": "execute_result"
    }
   ],
   "source": [
    "raw.headers"
   ]
  },
  {
   "cell_type": "markdown",
   "metadata": {},
   "source": [
    "# Read PDF <a name=\"rd_pdf\"></a>"
   ]
  },
  {
   "cell_type": "code",
   "execution_count": 38,
   "metadata": {},
   "outputs": [],
   "source": [
    "import PyPDF2"
   ]
  },
  {
   "cell_type": "code",
   "execution_count": 39,
   "metadata": {},
   "outputs": [],
   "source": [
    "pdfFileObj = open('data/nlp_paper.pdf', 'rb')"
   ]
  },
  {
   "cell_type": "code",
   "execution_count": 40,
   "metadata": {},
   "outputs": [
    {
     "name": "stderr",
     "output_type": "stream",
     "text": [
      "PdfReadWarning: Xref table not zero-indexed. ID numbers for objects will be corrected. [pdf.py:1736]\n"
     ]
    }
   ],
   "source": [
    "pdfReader = PyPDF2.PdfFileReader(pdfFileObj)"
   ]
  },
  {
   "cell_type": "code",
   "execution_count": 41,
   "metadata": {},
   "outputs": [],
   "source": [
    "pageObj = pdfReader.getPage(0)"
   ]
  },
  {
   "cell_type": "code",
   "execution_count": 42,
   "metadata": {},
   "outputs": [
    {
     "data": {
      "text/plain": [
       "'White Paper on Natural Language Processing Ralph Weiscbedel, Chairperson BBN Systems and Technologies Corporation Jaime Carbonell Carnegie-Mellon University Barbara Grosz Harvard University Ł Wendy Lehnert University of Massachusetts, Amherst Mitchell Marcus University of Pennsylvania Raymond Perrault SRI International Robert Wilensky University of California, Berkeley I. Scope 1.1. Major Challenges We take the ultimate goal of natural language processing (NLP) to be the ability to use natural languages as effectively as humans do. Natural language, whether spoken, written, or typed, is the most natural means of communication between humans, and the mode of expression of choice for most of the documents they produce. As computers play a larger role in the preparation, acquisition, transmission, monitoring, storage, analysis, and transformation of information, endowing them with the ability to understand and generate information expressed in natural languages becomes more and more necessary. Some tasks currently performed by humans cannot be automated without endowing computers with natural language processing capabilities, and these provide two major challenges to NLP systems: 1. Reading and writing text, applied to tasks such as message routing, abstracting, monitoring, summarizing, and entering information in databases, with applications, in such areas as intelligence, logistics, office automation, and libraries. Computers should be able to assimilate and compose extended communications. 2. Translation, of documents or spoken language, with applications, in such areas as in science, diplomacy, multinational commerce, and intelligence. Computers should be able to understand input in more than one language, provide output in more than one language, and translate between languages. The dominance of natural language as a means of communication in a broad range of interactions among humans suggests that it would be an attractive medium in human-computer interaction as well. The case is particularly strong where the environment precludes the use of keyboard, display, and mouse, so that spoken natural language is almost the only alternative. However, speech recognition alone will not suffice in these settings. Words and phrases must be parsed and interpreted so that their intended meaning (as command, query, or assertion) may be determined and an appropriate response formulated and expressed. 481 '"
      ]
     },
     "execution_count": 42,
     "metadata": {},
     "output_type": "execute_result"
    }
   ],
   "source": [
    "pageObj.extractText()"
   ]
  },
  {
   "cell_type": "code",
   "execution_count": null,
   "metadata": {},
   "outputs": [],
   "source": []
  }
 ],
 "metadata": {
  "kernelspec": {
   "display_name": "Python 3",
   "language": "python",
   "name": "python3"
  },
  "language_info": {
   "codemirror_mode": {
    "name": "ipython",
    "version": 3
   },
   "file_extension": ".py",
   "mimetype": "text/x-python",
   "name": "python",
   "nbconvert_exporter": "python",
   "pygments_lexer": "ipython3",
   "version": "3.6.5"
  }
 },
 "nbformat": 4,
 "nbformat_minor": 2
}
