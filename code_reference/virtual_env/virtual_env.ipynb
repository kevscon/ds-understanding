{
 "cells": [
  {
   "cell_type": "markdown",
   "metadata": {},
   "source": [
    "# Virtual Environment\n",
    "enter commands in terminal within application directory"
   ]
  },
  {
   "cell_type": "markdown",
   "metadata": {},
   "source": [
    "- create virtual environment directories:  \n",
    "```virtualenv *environment_name*```  \n",
    "- enter virtual environment:  \n",
    "```source *environment_name*/bin/activate```\n",
    "- exit virtual environment:  \n",
    "```deactivate```"
   ]
  },
  {
   "cell_type": "markdown",
   "metadata": {},
   "source": [
    "## Install Package Verions\n",
    "after creating and entering a virtual environment..."
   ]
  },
  {
   "cell_type": "markdown",
   "metadata": {},
   "source": [
    "- install package:\n",
    "`pip install *package*==*version*`\n",
    "- read in requirements.txt file: `python -m pip install -r requirements.txt`"
   ]
  },
  {
   "cell_type": "markdown",
   "metadata": {},
   "source": [
    "## Jupyter Notebook in Virtual Environment"
   ]
  },
  {
   "cell_type": "markdown",
   "metadata": {},
   "source": [
    "after creating and entering a virtual environment...\n",
    "- `pip install ipykernel`\n",
    "- `ipython kernel install --user --name=*environment_name*`\n",
    "- `jupyter notebook`"
   ]
  },
  {
   "cell_type": "markdown",
   "metadata": {},
   "source": [
    "to remove virtual environment from jupyter after `deactivate`...\n",
    "- check available kernels:\n",
    "    - `jupyter kernelspec list`\n",
    "- remove virtual kernel:\n",
    "    - `jupyter kernelspec uninstall *environment_name*`"
   ]
  },
  {
   "cell_type": "code",
   "execution_count": null,
   "metadata": {},
   "outputs": [],
   "source": []
  }
 ],
 "metadata": {
  "kernelspec": {
   "display_name": "Python 3",
   "language": "python",
   "name": "python3"
  },
  "language_info": {
   "codemirror_mode": {
    "name": "ipython",
    "version": 3
   },
   "file_extension": ".py",
   "mimetype": "text/x-python",
   "name": "python",
   "nbconvert_exporter": "python",
   "pygments_lexer": "ipython3",
   "version": "3.6.5"
  }
 },
 "nbformat": 4,
 "nbformat_minor": 2
}
