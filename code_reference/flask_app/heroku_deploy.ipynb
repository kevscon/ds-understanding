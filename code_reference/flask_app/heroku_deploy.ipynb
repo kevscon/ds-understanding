{
 "cells": [
  {
   "cell_type": "markdown",
   "metadata": {},
   "source": [
    "# Local Deploy\n",
    "Serves on local 5000"
   ]
  },
  {
   "cell_type": "markdown",
   "metadata": {},
   "source": [
    "```export FLASK_APP=*app_filename*```  \n",
    "```flask run```"
   ]
  },
  {
   "cell_type": "markdown",
   "metadata": {},
   "source": [
    "# Deploy App through Heroku\n",
    "enter commands in terminal within application directory"
   ]
  },
  {
   "cell_type": "markdown",
   "metadata": {},
   "source": [
    "1. login to heroku account:  \n",
    "    - ```heroku login```\n",
    "2. intitiatlize git for app:  \n",
    "    - ```git init```\n",
    "3. create Procfile:  \n",
    "    - ```touch Procfile```\n",
    "    - within Procfile:  \n",
    "        - ```web: gunicorn *app_filename*:*app_name_in_file*```\n",
    "4. create package requirements file:  \n",
    "    - ```touch requirements.txt```\n",
    "    - within requirements.txt, include required packages:\n",
    "        - django\n",
    "        - gunicorn\n",
    "        - django-heroku\n",
    "        - ...python packages used in app\n",
    "5. create app in heroku:\n",
    "    - ```heroku create *heroku_app_name*```\n",
    "6. add files to commit:\n",
    "    - ```git add .```\n",
    "7. commit files:\n",
    "    - ```git commit -m \"*commit note*\"```\n",
    "8. push committed files:\n",
    "    - ```git push heroku master```"
   ]
  },
  {
   "cell_type": "code",
   "execution_count": null,
   "metadata": {},
   "outputs": [],
   "source": []
  }
 ],
 "metadata": {
  "kernelspec": {
   "display_name": "Python 3",
   "language": "python",
   "name": "python3"
  },
  "language_info": {
   "codemirror_mode": {
    "name": "ipython",
    "version": 3
   },
   "file_extension": ".py",
   "mimetype": "text/x-python",
   "name": "python",
   "nbconvert_exporter": "python",
   "pygments_lexer": "ipython3",
   "version": "3.6.5"
  }
 },
 "nbformat": 4,
 "nbformat_minor": 2
}
