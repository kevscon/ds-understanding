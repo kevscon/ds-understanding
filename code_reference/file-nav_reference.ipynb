{
 "cells": [
  {
   "cell_type": "markdown",
   "metadata": {},
   "source": [
    "# Contents\n",
    "- [Directory Navigation](#dir_nav)  \n",
    "- [Read Files](#rd_f)\n",
    "- [Write Files](#wt_f) \n",
    "- [Compare Files](#fl_comp)"
   ]
  },
  {
   "cell_type": "code",
   "execution_count": 1,
   "metadata": {},
   "outputs": [],
   "source": [
    "import os"
   ]
  },
  {
   "cell_type": "markdown",
   "metadata": {},
   "source": [
    "# Directory Navigation <a name=\"dir_nav\"></a>"
   ]
  },
  {
   "cell_type": "markdown",
   "metadata": {},
   "source": [
    "## List Items in Directory"
   ]
  },
  {
   "cell_type": "code",
   "execution_count": 2,
   "metadata": {},
   "outputs": [
    {
     "data": {
      "text/plain": [
       "['dog.py',\n",
       " 'wc_image.png',\n",
       " 'write_2.txt',\n",
       " 'usa.png',\n",
       " 'write.txt',\n",
       " 'plt_ref_fig.png',\n",
       " 'Life_expectancy_dataset.csv',\n",
       " 'write.json',\n",
       " '__pycache__',\n",
       " 'Concrete_Data.csv',\n",
       " 'nlp_paper.pdf',\n",
       " '.Rhistory',\n",
       " 'life_expectancy_out.csv']"
      ]
     },
     "execution_count": 2,
     "metadata": {},
     "output_type": "execute_result"
    }
   ],
   "source": [
    "# global path reference\n",
    "global_path = '/home/kevcon/ds/github/ds-understanding/coding_reference/data'\n",
    "os.listdir(global_path)"
   ]
  },
  {
   "cell_type": "code",
   "execution_count": 3,
   "metadata": {},
   "outputs": [
    {
     "data": {
      "text/plain": [
       "['dog.py',\n",
       " 'wc_image.png',\n",
       " 'write_2.txt',\n",
       " 'usa.png',\n",
       " 'write.txt',\n",
       " 'plt_ref_fig.png',\n",
       " 'Life_expectancy_dataset.csv',\n",
       " 'write.json',\n",
       " '__pycache__',\n",
       " 'Concrete_Data.csv',\n",
       " 'nlp_paper.pdf',\n",
       " '.Rhistory',\n",
       " 'life_expectancy_out.csv']"
      ]
     },
     "execution_count": 3,
     "metadata": {},
     "output_type": "execute_result"
    }
   ],
   "source": [
    "# local path reference\n",
    "local_path = 'data'\n",
    "os.listdir(local_path)"
   ]
  },
  {
   "cell_type": "markdown",
   "metadata": {},
   "source": [
    "### List only files"
   ]
  },
  {
   "cell_type": "code",
   "execution_count": 4,
   "metadata": {},
   "outputs": [
    {
     "data": {
      "text/plain": [
       "['dog.py',\n",
       " 'wc_image.png',\n",
       " 'write_2.txt',\n",
       " 'usa.png',\n",
       " 'write.txt',\n",
       " 'plt_ref_fig.png',\n",
       " 'Life_expectancy_dataset.csv',\n",
       " 'write.json',\n",
       " 'Concrete_Data.csv',\n",
       " 'nlp_paper.pdf',\n",
       " '.Rhistory',\n",
       " 'life_expectancy_out.csv']"
      ]
     },
     "execution_count": 4,
     "metadata": {},
     "output_type": "execute_result"
    }
   ],
   "source": [
    "[f for f in os.listdir(local_path) if os.path.isfile(os.path.join(local_path, f))]"
   ]
  },
  {
   "cell_type": "markdown",
   "metadata": {},
   "source": [
    "### Glob"
   ]
  },
  {
   "cell_type": "code",
   "execution_count": 5,
   "metadata": {},
   "outputs": [],
   "source": [
    "import glob"
   ]
  },
  {
   "cell_type": "code",
   "execution_count": 6,
   "metadata": {},
   "outputs": [
    {
     "data": {
      "text/plain": [
       "['/home/kevcon/ds/github/ds-understanding/coding_reference/data/Life_expectancy_dataset.csv',\n",
       " '/home/kevcon/ds/github/ds-understanding/coding_reference/data/Concrete_Data.csv',\n",
       " '/home/kevcon/ds/github/ds-understanding/coding_reference/data/life_expectancy_out.csv']"
      ]
     },
     "execution_count": 6,
     "metadata": {},
     "output_type": "execute_result"
    }
   ],
   "source": [
    "# return specified filetype with global reference\n",
    "glob.glob('/home/kevcon/ds/github/ds-understanding/coding_reference/data/*.csv')"
   ]
  },
  {
   "cell_type": "code",
   "execution_count": 7,
   "metadata": {},
   "outputs": [
    {
     "data": {
      "text/plain": [
       "['data/Life_expectancy_dataset.csv',\n",
       " 'data/Concrete_Data.csv',\n",
       " 'data/life_expectancy_out.csv']"
      ]
     },
     "execution_count": 7,
     "metadata": {},
     "output_type": "execute_result"
    }
   ],
   "source": [
    "# return specified filetype with local reference\n",
    "glob.glob('data/*.csv')"
   ]
  },
  {
   "cell_type": "code",
   "execution_count": 8,
   "metadata": {},
   "outputs": [
    {
     "data": {
      "text/plain": [
       "['data/usa.png']"
      ]
     },
     "execution_count": 8,
     "metadata": {},
     "output_type": "execute_result"
    }
   ],
   "source": [
    "# return files with variable character\n",
    "glob.glob('data/us?.png')"
   ]
  },
  {
   "cell_type": "code",
   "execution_count": 9,
   "metadata": {},
   "outputs": [
    {
     "data": {
      "text/plain": [
       "['data/dog.py', 'data/usa.png', 'data/plt_ref_fig.png']"
      ]
     },
     "execution_count": 9,
     "metadata": {},
     "output_type": "execute_result"
    }
   ],
   "source": [
    "# return files starting with range of characters\n",
    "glob.glob('data/[dup]*')"
   ]
  },
  {
   "cell_type": "markdown",
   "metadata": {},
   "source": [
    "# Read Files <a name=\"rd_f\"></a>\n",
    "Read files and save data as variable"
   ]
  },
  {
   "cell_type": "code",
   "execution_count": 10,
   "metadata": {},
   "outputs": [],
   "source": [
    "path = '/home/kevcon/nltk_data/corpora/movie_reviews/pos/'"
   ]
  },
  {
   "cell_type": "code",
   "execution_count": 11,
   "metadata": {},
   "outputs": [],
   "source": [
    "file = os.listdir(path)[0]"
   ]
  },
  {
   "cell_type": "markdown",
   "metadata": {},
   "source": [
    "## Read File as String"
   ]
  },
  {
   "cell_type": "code",
   "execution_count": 12,
   "metadata": {},
   "outputs": [],
   "source": [
    "# open file\n",
    "f = open(path + file, 'r')\n",
    "# read all lines as single string\n",
    "document = f.read()\n",
    "# close file\n",
    "f.close()"
   ]
  },
  {
   "cell_type": "code",
   "execution_count": 13,
   "metadata": {
    "scrolled": false
   },
   "outputs": [
    {
     "data": {
      "text/plain": [
       "' \" love is the devil \" is a challenging film , munundating its audience with wild imagery and a plot structure that disallows a plot , perhaps in an attempt to get us to know the artist\\'s psyche rather than the artist\\'s lifeline . \\nwatching it , i was enthralled with the look of the film , the way the director shot everything like it was looking through a bizarre , personalized filter . \\neverything looks like it is not how life looks like but how painter francis bacon , the film\\'s subject , looked at it personally . \\nbut while i was engrossed , i stumbled upon my thoughts halfway through the film , awakened from my trance by some inner distraction , and began to try and follow what\\'s going on . \\nexactly what was i looking at ? \\nwatching this film , i wasn\\'t sure if it was the most insightful film i had ever seen or the most vacuous . \\ndirected ( and written ) by john maybury , \" love is the devil \" is stylish masterpiece for the senses . \\neverything looks originally bizarre and perplexing . \\nthe camera angles are ferociously askew , and the close-ups are uncomfortably too close . \\nthe editing is deft , occasionally cutting away to something bizarre every couple seconds , but other times holding on a shot for so long that you wonder if the audience is not supposed to be voyeurs , or rather , intruders to bacon\\'s world and psyche . \\nas such , there is no real story . \\ni\\'ve not heard much about francis bacon that i didn\\'t read prior to the film , but what i learned was this : he was a painter in england who reached his peak during the 60s and 70s , drawing hideously bizarre drawings of carnage and the like . \\nhe was one of the first to really come out of the closet , and in interviews , he was notoriously drunk yet incredibly witty . \\nas played by great shakesperean actor derek jacobi , he\\'s like a foppish and self-absorbed cross between oscar wilde and nero . \\nhe lives life the way he wants to live it , to the disatisfaction of those who have the privelege of being really close to him . \\nit\\'s as if he were taking delight in the destruction of others and maybe himself ( \" champagne for my real friends , and pain for my sham friends , \" he says one night at the bar he frequents ) . \\n \" love is the devil \" chronicles the latter part of his life . \\nbacon , well-known in his mid-life , awakens one night when he hears a man tumble through his ceiling window and land on the floor . \\nhe walks in , unafraid of what he finds , and discovers a thief , george dyer ( daniel craig ) . \\nbacon gives him an offer : if he spends the night with him , he can take anything he wants in the morning . \\ngeorge agrees to this , and off to bed he goes , but ends up staying with him , for whatever reason . \\nthe film shows their lives together , at least in reference to one another . \\nwhile creating bacon\\'s world of friends ( like \" high art , \" this film minors in showing a certain group of people who radiate a connection that is not shown but is understood ) , the film shows the relationship of bacon and george as it remains rather stagnant . \\nbacon is haughty and bizarre ; george is simple and doesn\\'t understand bacon in the least , especially not his paintings . \\nwhile watching this , that\\'s basically all i thought was there . \\nthe film has a hypnotic feel , free of any restraints of form , and is shot so uniquely that i felt my attention was almost entirely on the way this film was made rather than what it is about . \\nonce the film is over , it\\'s easier to piece it together . \\ni kept on thinking about this film , wondering what the point to all of it was . \\nsomeone doesn\\'t merely make a film of all style and no substance at all , and if they do , they do it by accident , but still allow some substance to creep in . \\nthinking about it , i remembered how the two fed off of eachother . \\ni thought about how bacon was a masochist , in love with cruelty ( in one scene , he watches a boxing match with a orgiastic delight , and lets out a squeal of pleasure when blood from the one boxer\\'s head splashes across his face ; in another scene , he masturbates to the odessa steps sequence of eisenstein\\'s \" battleship potemkin \" ) , and perhaps he drove george too far in his delight for pain . \\nhe drove him over the edge , and for him that was love , even if it wasn\\'t for george . \\ni guess that explains the title . \\na bit . \\nthat\\'s great and all , but i almost wish the film was devoid of any meaning . \\ni wish it hadn\\'t reduced itself to making some point about humanity , about how love is the most selfish thing in the world ( and it is , if you look at it a certain way ) . \\nor maybe if it had avoided any meaning about humanity and merely drove itself into being the one film that was truly inside one man\\'s twisted pysche . \\nit\\'s almost always best to obtain insights from looking at one man\\'s uniqueness than it is forcing universality down an audience\\'s throat . \\nthat way you don\\'t reduce your film to something it\\'s just not . \\ni can\\'t say i totally enjoyed \" love is the devil , \" though . \\ndespite all of the things i respect about this movie , it\\'s still rather uncomfortable to sit through . \\neven at a normally trite length of ninety minutes , the film still seems like an arduous task to sit through , especially after an exhausting first hour . \\nthough hypnotic , it still almost seems gimmicky and even redundant at times , as if it were taking advantage of one man\\'s truly bizarre nature but not doing anything deeper with it . \\nas such , i respect the way the film looks . \\nit\\'s beautiful and painstakingly crafted so that , along with \" what dreams may come \" and \" dark city , \" it\\'s the year\\'s most visually stunning film . \\nin fact , if a better script had been forged , i\\'d almost compare it in visual power to a peter greenaway film , complete with similar haunting images that stick in the mind forever . \\nand with a dymanite performance by derek jacobi , it has the comic and distanced tone that it needs . \\ni just wish it had been more than mostly style and just a hair bit of substance . \\nthen i would have had something to hold me over even now . \\n'"
      ]
     },
     "execution_count": 13,
     "metadata": {},
     "output_type": "execute_result"
    }
   ],
   "source": [
    "document"
   ]
  },
  {
   "cell_type": "code",
   "execution_count": 14,
   "metadata": {},
   "outputs": [
    {
     "data": {
      "text/plain": [
       "' '"
      ]
     },
     "execution_count": 14,
     "metadata": {},
     "output_type": "execute_result"
    }
   ],
   "source": [
    "document[0]"
   ]
  },
  {
   "cell_type": "code",
   "execution_count": 15,
   "metadata": {},
   "outputs": [],
   "source": [
    "# read specified range of strings\n",
    "f = open(path + file, 'r')\n",
    "document = f.read(20)\n",
    "f.close()"
   ]
  },
  {
   "cell_type": "code",
   "execution_count": 16,
   "metadata": {},
   "outputs": [
    {
     "data": {
      "text/plain": [
       "' \" love is the devil'"
      ]
     },
     "execution_count": 16,
     "metadata": {},
     "output_type": "execute_result"
    }
   ],
   "source": [
    "document"
   ]
  },
  {
   "cell_type": "markdown",
   "metadata": {},
   "source": [
    "## Read File as List of Lines"
   ]
  },
  {
   "cell_type": "code",
   "execution_count": 17,
   "metadata": {},
   "outputs": [],
   "source": [
    "f = open(path + file, 'r')\n",
    "# read each line\n",
    "document = f.readlines()\n",
    "f.close()"
   ]
  },
  {
   "cell_type": "code",
   "execution_count": 18,
   "metadata": {
    "scrolled": false
   },
   "outputs": [
    {
     "data": {
      "text/plain": [
       "[' \" love is the devil \" is a challenging film , munundating its audience with wild imagery and a plot structure that disallows a plot , perhaps in an attempt to get us to know the artist\\'s psyche rather than the artist\\'s lifeline . \\n',\n",
       " 'watching it , i was enthralled with the look of the film , the way the director shot everything like it was looking through a bizarre , personalized filter . \\n',\n",
       " \"everything looks like it is not how life looks like but how painter francis bacon , the film's subject , looked at it personally . \\n\",\n",
       " \"but while i was engrossed , i stumbled upon my thoughts halfway through the film , awakened from my trance by some inner distraction , and began to try and follow what's going on . \\n\",\n",
       " 'exactly what was i looking at ? \\n',\n",
       " \"watching this film , i wasn't sure if it was the most insightful film i had ever seen or the most vacuous . \\n\",\n",
       " 'directed ( and written ) by john maybury , \" love is the devil \" is stylish masterpiece for the senses . \\n',\n",
       " 'everything looks originally bizarre and perplexing . \\n',\n",
       " 'the camera angles are ferociously askew , and the close-ups are uncomfortably too close . \\n',\n",
       " \"the editing is deft , occasionally cutting away to something bizarre every couple seconds , but other times holding on a shot for so long that you wonder if the audience is not supposed to be voyeurs , or rather , intruders to bacon's world and psyche . \\n\",\n",
       " 'as such , there is no real story . \\n',\n",
       " \"i've not heard much about francis bacon that i didn't read prior to the film , but what i learned was this : he was a painter in england who reached his peak during the 60s and 70s , drawing hideously bizarre drawings of carnage and the like . \\n\",\n",
       " 'he was one of the first to really come out of the closet , and in interviews , he was notoriously drunk yet incredibly witty . \\n',\n",
       " \"as played by great shakesperean actor derek jacobi , he's like a foppish and self-absorbed cross between oscar wilde and nero . \\n\",\n",
       " 'he lives life the way he wants to live it , to the disatisfaction of those who have the privelege of being really close to him . \\n',\n",
       " 'it\\'s as if he were taking delight in the destruction of others and maybe himself ( \" champagne for my real friends , and pain for my sham friends , \" he says one night at the bar he frequents ) . \\n',\n",
       " ' \" love is the devil \" chronicles the latter part of his life . \\n',\n",
       " 'bacon , well-known in his mid-life , awakens one night when he hears a man tumble through his ceiling window and land on the floor . \\n',\n",
       " 'he walks in , unafraid of what he finds , and discovers a thief , george dyer ( daniel craig ) . \\n',\n",
       " 'bacon gives him an offer : if he spends the night with him , he can take anything he wants in the morning . \\n',\n",
       " 'george agrees to this , and off to bed he goes , but ends up staying with him , for whatever reason . \\n',\n",
       " 'the film shows their lives together , at least in reference to one another . \\n',\n",
       " 'while creating bacon\\'s world of friends ( like \" high art , \" this film minors in showing a certain group of people who radiate a connection that is not shown but is understood ) , the film shows the relationship of bacon and george as it remains rather stagnant . \\n',\n",
       " \"bacon is haughty and bizarre ; george is simple and doesn't understand bacon in the least , especially not his paintings . \\n\",\n",
       " \"while watching this , that's basically all i thought was there . \\n\",\n",
       " 'the film has a hypnotic feel , free of any restraints of form , and is shot so uniquely that i felt my attention was almost entirely on the way this film was made rather than what it is about . \\n',\n",
       " \"once the film is over , it's easier to piece it together . \\n\",\n",
       " 'i kept on thinking about this film , wondering what the point to all of it was . \\n',\n",
       " \"someone doesn't merely make a film of all style and no substance at all , and if they do , they do it by accident , but still allow some substance to creep in . \\n\",\n",
       " 'thinking about it , i remembered how the two fed off of eachother . \\n',\n",
       " 'i thought about how bacon was a masochist , in love with cruelty ( in one scene , he watches a boxing match with a orgiastic delight , and lets out a squeal of pleasure when blood from the one boxer\\'s head splashes across his face ; in another scene , he masturbates to the odessa steps sequence of eisenstein\\'s \" battleship potemkin \" ) , and perhaps he drove george too far in his delight for pain . \\n',\n",
       " \"he drove him over the edge , and for him that was love , even if it wasn't for george . \\n\",\n",
       " 'i guess that explains the title . \\n',\n",
       " 'a bit . \\n',\n",
       " \"that's great and all , but i almost wish the film was devoid of any meaning . \\n\",\n",
       " \"i wish it hadn't reduced itself to making some point about humanity , about how love is the most selfish thing in the world ( and it is , if you look at it a certain way ) . \\n\",\n",
       " \"or maybe if it had avoided any meaning about humanity and merely drove itself into being the one film that was truly inside one man's twisted pysche . \\n\",\n",
       " \"it's almost always best to obtain insights from looking at one man's uniqueness than it is forcing universality down an audience's throat . \\n\",\n",
       " \"that way you don't reduce your film to something it's just not . \\n\",\n",
       " 'i can\\'t say i totally enjoyed \" love is the devil , \" though . \\n',\n",
       " \"despite all of the things i respect about this movie , it's still rather uncomfortable to sit through . \\n\",\n",
       " 'even at a normally trite length of ninety minutes , the film still seems like an arduous task to sit through , especially after an exhausting first hour . \\n',\n",
       " \"though hypnotic , it still almost seems gimmicky and even redundant at times , as if it were taking advantage of one man's truly bizarre nature but not doing anything deeper with it . \\n\",\n",
       " 'as such , i respect the way the film looks . \\n',\n",
       " 'it\\'s beautiful and painstakingly crafted so that , along with \" what dreams may come \" and \" dark city , \" it\\'s the year\\'s most visually stunning film . \\n',\n",
       " \"in fact , if a better script had been forged , i'd almost compare it in visual power to a peter greenaway film , complete with similar haunting images that stick in the mind forever . \\n\",\n",
       " 'and with a dymanite performance by derek jacobi , it has the comic and distanced tone that it needs . \\n',\n",
       " 'i just wish it had been more than mostly style and just a hair bit of substance . \\n',\n",
       " 'then i would have had something to hold me over even now . \\n']"
      ]
     },
     "execution_count": 18,
     "metadata": {},
     "output_type": "execute_result"
    }
   ],
   "source": [
    "document"
   ]
  },
  {
   "cell_type": "code",
   "execution_count": 19,
   "metadata": {},
   "outputs": [
    {
     "data": {
      "text/plain": [
       "' \" love is the devil \" is a challenging film , munundating its audience with wild imagery and a plot structure that disallows a plot , perhaps in an attempt to get us to know the artist\\'s psyche rather than the artist\\'s lifeline . \\n'"
      ]
     },
     "execution_count": 19,
     "metadata": {},
     "output_type": "execute_result"
    }
   ],
   "source": [
    "document[0]"
   ]
  },
  {
   "cell_type": "markdown",
   "metadata": {},
   "source": [
    "## Read File using With"
   ]
  },
  {
   "cell_type": "code",
   "execution_count": 20,
   "metadata": {},
   "outputs": [],
   "source": [
    "# read file using with\n",
    "with open(path + file, 'r') as f:\n",
    "    document = f.read()"
   ]
  },
  {
   "cell_type": "code",
   "execution_count": 21,
   "metadata": {
    "scrolled": false
   },
   "outputs": [
    {
     "data": {
      "text/plain": [
       "' \" love is the devil \" is a challenging film , munundating its audience with wild imagery and a plot structure that disallows a plot , perhaps in an attempt to get us to know the artist\\'s psyche rather than the artist\\'s lifeline . \\nwatching it , i was enthralled with the look of the film , the way the director shot everything like it was looking through a bizarre , personalized filter . \\neverything looks like it is not how life looks like but how painter francis bacon , the film\\'s subject , looked at it personally . \\nbut while i was engrossed , i stumbled upon my thoughts halfway through the film , awakened from my trance by some inner distraction , and began to try and follow what\\'s going on . \\nexactly what was i looking at ? \\nwatching this film , i wasn\\'t sure if it was the most insightful film i had ever seen or the most vacuous . \\ndirected ( and written ) by john maybury , \" love is the devil \" is stylish masterpiece for the senses . \\neverything looks originally bizarre and perplexing . \\nthe camera angles are ferociously askew , and the close-ups are uncomfortably too close . \\nthe editing is deft , occasionally cutting away to something bizarre every couple seconds , but other times holding on a shot for so long that you wonder if the audience is not supposed to be voyeurs , or rather , intruders to bacon\\'s world and psyche . \\nas such , there is no real story . \\ni\\'ve not heard much about francis bacon that i didn\\'t read prior to the film , but what i learned was this : he was a painter in england who reached his peak during the 60s and 70s , drawing hideously bizarre drawings of carnage and the like . \\nhe was one of the first to really come out of the closet , and in interviews , he was notoriously drunk yet incredibly witty . \\nas played by great shakesperean actor derek jacobi , he\\'s like a foppish and self-absorbed cross between oscar wilde and nero . \\nhe lives life the way he wants to live it , to the disatisfaction of those who have the privelege of being really close to him . \\nit\\'s as if he were taking delight in the destruction of others and maybe himself ( \" champagne for my real friends , and pain for my sham friends , \" he says one night at the bar he frequents ) . \\n \" love is the devil \" chronicles the latter part of his life . \\nbacon , well-known in his mid-life , awakens one night when he hears a man tumble through his ceiling window and land on the floor . \\nhe walks in , unafraid of what he finds , and discovers a thief , george dyer ( daniel craig ) . \\nbacon gives him an offer : if he spends the night with him , he can take anything he wants in the morning . \\ngeorge agrees to this , and off to bed he goes , but ends up staying with him , for whatever reason . \\nthe film shows their lives together , at least in reference to one another . \\nwhile creating bacon\\'s world of friends ( like \" high art , \" this film minors in showing a certain group of people who radiate a connection that is not shown but is understood ) , the film shows the relationship of bacon and george as it remains rather stagnant . \\nbacon is haughty and bizarre ; george is simple and doesn\\'t understand bacon in the least , especially not his paintings . \\nwhile watching this , that\\'s basically all i thought was there . \\nthe film has a hypnotic feel , free of any restraints of form , and is shot so uniquely that i felt my attention was almost entirely on the way this film was made rather than what it is about . \\nonce the film is over , it\\'s easier to piece it together . \\ni kept on thinking about this film , wondering what the point to all of it was . \\nsomeone doesn\\'t merely make a film of all style and no substance at all , and if they do , they do it by accident , but still allow some substance to creep in . \\nthinking about it , i remembered how the two fed off of eachother . \\ni thought about how bacon was a masochist , in love with cruelty ( in one scene , he watches a boxing match with a orgiastic delight , and lets out a squeal of pleasure when blood from the one boxer\\'s head splashes across his face ; in another scene , he masturbates to the odessa steps sequence of eisenstein\\'s \" battleship potemkin \" ) , and perhaps he drove george too far in his delight for pain . \\nhe drove him over the edge , and for him that was love , even if it wasn\\'t for george . \\ni guess that explains the title . \\na bit . \\nthat\\'s great and all , but i almost wish the film was devoid of any meaning . \\ni wish it hadn\\'t reduced itself to making some point about humanity , about how love is the most selfish thing in the world ( and it is , if you look at it a certain way ) . \\nor maybe if it had avoided any meaning about humanity and merely drove itself into being the one film that was truly inside one man\\'s twisted pysche . \\nit\\'s almost always best to obtain insights from looking at one man\\'s uniqueness than it is forcing universality down an audience\\'s throat . \\nthat way you don\\'t reduce your film to something it\\'s just not . \\ni can\\'t say i totally enjoyed \" love is the devil , \" though . \\ndespite all of the things i respect about this movie , it\\'s still rather uncomfortable to sit through . \\neven at a normally trite length of ninety minutes , the film still seems like an arduous task to sit through , especially after an exhausting first hour . \\nthough hypnotic , it still almost seems gimmicky and even redundant at times , as if it were taking advantage of one man\\'s truly bizarre nature but not doing anything deeper with it . \\nas such , i respect the way the film looks . \\nit\\'s beautiful and painstakingly crafted so that , along with \" what dreams may come \" and \" dark city , \" it\\'s the year\\'s most visually stunning film . \\nin fact , if a better script had been forged , i\\'d almost compare it in visual power to a peter greenaway film , complete with similar haunting images that stick in the mind forever . \\nand with a dymanite performance by derek jacobi , it has the comic and distanced tone that it needs . \\ni just wish it had been more than mostly style and just a hair bit of substance . \\nthen i would have had something to hold me over even now . \\n'"
      ]
     },
     "execution_count": 21,
     "metadata": {},
     "output_type": "execute_result"
    }
   ],
   "source": [
    "document"
   ]
  },
  {
   "cell_type": "markdown",
   "metadata": {},
   "source": [
    "## Read File by Line"
   ]
  },
  {
   "cell_type": "code",
   "execution_count": 22,
   "metadata": {},
   "outputs": [],
   "source": [
    "lines = []\n",
    "with open(path + file, 'r') as f:\n",
    "    for line in f:\n",
    "        lines.append(line)"
   ]
  },
  {
   "cell_type": "code",
   "execution_count": 23,
   "metadata": {
    "scrolled": false
   },
   "outputs": [
    {
     "data": {
      "text/plain": [
       "[' \" love is the devil \" is a challenging film , munundating its audience with wild imagery and a plot structure that disallows a plot , perhaps in an attempt to get us to know the artist\\'s psyche rather than the artist\\'s lifeline . \\n',\n",
       " 'watching it , i was enthralled with the look of the film , the way the director shot everything like it was looking through a bizarre , personalized filter . \\n',\n",
       " \"everything looks like it is not how life looks like but how painter francis bacon , the film's subject , looked at it personally . \\n\",\n",
       " \"but while i was engrossed , i stumbled upon my thoughts halfway through the film , awakened from my trance by some inner distraction , and began to try and follow what's going on . \\n\",\n",
       " 'exactly what was i looking at ? \\n',\n",
       " \"watching this film , i wasn't sure if it was the most insightful film i had ever seen or the most vacuous . \\n\",\n",
       " 'directed ( and written ) by john maybury , \" love is the devil \" is stylish masterpiece for the senses . \\n',\n",
       " 'everything looks originally bizarre and perplexing . \\n',\n",
       " 'the camera angles are ferociously askew , and the close-ups are uncomfortably too close . \\n',\n",
       " \"the editing is deft , occasionally cutting away to something bizarre every couple seconds , but other times holding on a shot for so long that you wonder if the audience is not supposed to be voyeurs , or rather , intruders to bacon's world and psyche . \\n\",\n",
       " 'as such , there is no real story . \\n',\n",
       " \"i've not heard much about francis bacon that i didn't read prior to the film , but what i learned was this : he was a painter in england who reached his peak during the 60s and 70s , drawing hideously bizarre drawings of carnage and the like . \\n\",\n",
       " 'he was one of the first to really come out of the closet , and in interviews , he was notoriously drunk yet incredibly witty . \\n',\n",
       " \"as played by great shakesperean actor derek jacobi , he's like a foppish and self-absorbed cross between oscar wilde and nero . \\n\",\n",
       " 'he lives life the way he wants to live it , to the disatisfaction of those who have the privelege of being really close to him . \\n',\n",
       " 'it\\'s as if he were taking delight in the destruction of others and maybe himself ( \" champagne for my real friends , and pain for my sham friends , \" he says one night at the bar he frequents ) . \\n',\n",
       " ' \" love is the devil \" chronicles the latter part of his life . \\n',\n",
       " 'bacon , well-known in his mid-life , awakens one night when he hears a man tumble through his ceiling window and land on the floor . \\n',\n",
       " 'he walks in , unafraid of what he finds , and discovers a thief , george dyer ( daniel craig ) . \\n',\n",
       " 'bacon gives him an offer : if he spends the night with him , he can take anything he wants in the morning . \\n',\n",
       " 'george agrees to this , and off to bed he goes , but ends up staying with him , for whatever reason . \\n',\n",
       " 'the film shows their lives together , at least in reference to one another . \\n',\n",
       " 'while creating bacon\\'s world of friends ( like \" high art , \" this film minors in showing a certain group of people who radiate a connection that is not shown but is understood ) , the film shows the relationship of bacon and george as it remains rather stagnant . \\n',\n",
       " \"bacon is haughty and bizarre ; george is simple and doesn't understand bacon in the least , especially not his paintings . \\n\",\n",
       " \"while watching this , that's basically all i thought was there . \\n\",\n",
       " 'the film has a hypnotic feel , free of any restraints of form , and is shot so uniquely that i felt my attention was almost entirely on the way this film was made rather than what it is about . \\n',\n",
       " \"once the film is over , it's easier to piece it together . \\n\",\n",
       " 'i kept on thinking about this film , wondering what the point to all of it was . \\n',\n",
       " \"someone doesn't merely make a film of all style and no substance at all , and if they do , they do it by accident , but still allow some substance to creep in . \\n\",\n",
       " 'thinking about it , i remembered how the two fed off of eachother . \\n',\n",
       " 'i thought about how bacon was a masochist , in love with cruelty ( in one scene , he watches a boxing match with a orgiastic delight , and lets out a squeal of pleasure when blood from the one boxer\\'s head splashes across his face ; in another scene , he masturbates to the odessa steps sequence of eisenstein\\'s \" battleship potemkin \" ) , and perhaps he drove george too far in his delight for pain . \\n',\n",
       " \"he drove him over the edge , and for him that was love , even if it wasn't for george . \\n\",\n",
       " 'i guess that explains the title . \\n',\n",
       " 'a bit . \\n',\n",
       " \"that's great and all , but i almost wish the film was devoid of any meaning . \\n\",\n",
       " \"i wish it hadn't reduced itself to making some point about humanity , about how love is the most selfish thing in the world ( and it is , if you look at it a certain way ) . \\n\",\n",
       " \"or maybe if it had avoided any meaning about humanity and merely drove itself into being the one film that was truly inside one man's twisted pysche . \\n\",\n",
       " \"it's almost always best to obtain insights from looking at one man's uniqueness than it is forcing universality down an audience's throat . \\n\",\n",
       " \"that way you don't reduce your film to something it's just not . \\n\",\n",
       " 'i can\\'t say i totally enjoyed \" love is the devil , \" though . \\n',\n",
       " \"despite all of the things i respect about this movie , it's still rather uncomfortable to sit through . \\n\",\n",
       " 'even at a normally trite length of ninety minutes , the film still seems like an arduous task to sit through , especially after an exhausting first hour . \\n',\n",
       " \"though hypnotic , it still almost seems gimmicky and even redundant at times , as if it were taking advantage of one man's truly bizarre nature but not doing anything deeper with it . \\n\",\n",
       " 'as such , i respect the way the film looks . \\n',\n",
       " 'it\\'s beautiful and painstakingly crafted so that , along with \" what dreams may come \" and \" dark city , \" it\\'s the year\\'s most visually stunning film . \\n',\n",
       " \"in fact , if a better script had been forged , i'd almost compare it in visual power to a peter greenaway film , complete with similar haunting images that stick in the mind forever . \\n\",\n",
       " 'and with a dymanite performance by derek jacobi , it has the comic and distanced tone that it needs . \\n',\n",
       " 'i just wish it had been more than mostly style and just a hair bit of substance . \\n',\n",
       " 'then i would have had something to hold me over even now . \\n']"
      ]
     },
     "execution_count": 23,
     "metadata": {},
     "output_type": "execute_result"
    }
   ],
   "source": [
    "lines"
   ]
  },
  {
   "cell_type": "markdown",
   "metadata": {},
   "source": [
    "## Remove \\n character"
   ]
  },
  {
   "cell_type": "code",
   "execution_count": 24,
   "metadata": {},
   "outputs": [],
   "source": [
    "lines = []\n",
    "with open(path + file, 'r') as f:\n",
    "    for line in f:\n",
    "        # remove blank space at ends\n",
    "        lines.append(line.strip())"
   ]
  },
  {
   "cell_type": "code",
   "execution_count": 25,
   "metadata": {
    "scrolled": false
   },
   "outputs": [
    {
     "data": {
      "text/plain": [
       "['\" love is the devil \" is a challenging film , munundating its audience with wild imagery and a plot structure that disallows a plot , perhaps in an attempt to get us to know the artist\\'s psyche rather than the artist\\'s lifeline .',\n",
       " 'watching it , i was enthralled with the look of the film , the way the director shot everything like it was looking through a bizarre , personalized filter .',\n",
       " \"everything looks like it is not how life looks like but how painter francis bacon , the film's subject , looked at it personally .\",\n",
       " \"but while i was engrossed , i stumbled upon my thoughts halfway through the film , awakened from my trance by some inner distraction , and began to try and follow what's going on .\",\n",
       " 'exactly what was i looking at ?',\n",
       " \"watching this film , i wasn't sure if it was the most insightful film i had ever seen or the most vacuous .\",\n",
       " 'directed ( and written ) by john maybury , \" love is the devil \" is stylish masterpiece for the senses .',\n",
       " 'everything looks originally bizarre and perplexing .',\n",
       " 'the camera angles are ferociously askew , and the close-ups are uncomfortably too close .',\n",
       " \"the editing is deft , occasionally cutting away to something bizarre every couple seconds , but other times holding on a shot for so long that you wonder if the audience is not supposed to be voyeurs , or rather , intruders to bacon's world and psyche .\",\n",
       " 'as such , there is no real story .',\n",
       " \"i've not heard much about francis bacon that i didn't read prior to the film , but what i learned was this : he was a painter in england who reached his peak during the 60s and 70s , drawing hideously bizarre drawings of carnage and the like .\",\n",
       " 'he was one of the first to really come out of the closet , and in interviews , he was notoriously drunk yet incredibly witty .',\n",
       " \"as played by great shakesperean actor derek jacobi , he's like a foppish and self-absorbed cross between oscar wilde and nero .\",\n",
       " 'he lives life the way he wants to live it , to the disatisfaction of those who have the privelege of being really close to him .',\n",
       " 'it\\'s as if he were taking delight in the destruction of others and maybe himself ( \" champagne for my real friends , and pain for my sham friends , \" he says one night at the bar he frequents ) .',\n",
       " '\" love is the devil \" chronicles the latter part of his life .',\n",
       " 'bacon , well-known in his mid-life , awakens one night when he hears a man tumble through his ceiling window and land on the floor .',\n",
       " 'he walks in , unafraid of what he finds , and discovers a thief , george dyer ( daniel craig ) .',\n",
       " 'bacon gives him an offer : if he spends the night with him , he can take anything he wants in the morning .',\n",
       " 'george agrees to this , and off to bed he goes , but ends up staying with him , for whatever reason .',\n",
       " 'the film shows their lives together , at least in reference to one another .',\n",
       " 'while creating bacon\\'s world of friends ( like \" high art , \" this film minors in showing a certain group of people who radiate a connection that is not shown but is understood ) , the film shows the relationship of bacon and george as it remains rather stagnant .',\n",
       " \"bacon is haughty and bizarre ; george is simple and doesn't understand bacon in the least , especially not his paintings .\",\n",
       " \"while watching this , that's basically all i thought was there .\",\n",
       " 'the film has a hypnotic feel , free of any restraints of form , and is shot so uniquely that i felt my attention was almost entirely on the way this film was made rather than what it is about .',\n",
       " \"once the film is over , it's easier to piece it together .\",\n",
       " 'i kept on thinking about this film , wondering what the point to all of it was .',\n",
       " \"someone doesn't merely make a film of all style and no substance at all , and if they do , they do it by accident , but still allow some substance to creep in .\",\n",
       " 'thinking about it , i remembered how the two fed off of eachother .',\n",
       " 'i thought about how bacon was a masochist , in love with cruelty ( in one scene , he watches a boxing match with a orgiastic delight , and lets out a squeal of pleasure when blood from the one boxer\\'s head splashes across his face ; in another scene , he masturbates to the odessa steps sequence of eisenstein\\'s \" battleship potemkin \" ) , and perhaps he drove george too far in his delight for pain .',\n",
       " \"he drove him over the edge , and for him that was love , even if it wasn't for george .\",\n",
       " 'i guess that explains the title .',\n",
       " 'a bit .',\n",
       " \"that's great and all , but i almost wish the film was devoid of any meaning .\",\n",
       " \"i wish it hadn't reduced itself to making some point about humanity , about how love is the most selfish thing in the world ( and it is , if you look at it a certain way ) .\",\n",
       " \"or maybe if it had avoided any meaning about humanity and merely drove itself into being the one film that was truly inside one man's twisted pysche .\",\n",
       " \"it's almost always best to obtain insights from looking at one man's uniqueness than it is forcing universality down an audience's throat .\",\n",
       " \"that way you don't reduce your film to something it's just not .\",\n",
       " 'i can\\'t say i totally enjoyed \" love is the devil , \" though .',\n",
       " \"despite all of the things i respect about this movie , it's still rather uncomfortable to sit through .\",\n",
       " 'even at a normally trite length of ninety minutes , the film still seems like an arduous task to sit through , especially after an exhausting first hour .',\n",
       " \"though hypnotic , it still almost seems gimmicky and even redundant at times , as if it were taking advantage of one man's truly bizarre nature but not doing anything deeper with it .\",\n",
       " 'as such , i respect the way the film looks .',\n",
       " 'it\\'s beautiful and painstakingly crafted so that , along with \" what dreams may come \" and \" dark city , \" it\\'s the year\\'s most visually stunning film .',\n",
       " \"in fact , if a better script had been forged , i'd almost compare it in visual power to a peter greenaway film , complete with similar haunting images that stick in the mind forever .\",\n",
       " 'and with a dymanite performance by derek jacobi , it has the comic and distanced tone that it needs .',\n",
       " 'i just wish it had been more than mostly style and just a hair bit of substance .',\n",
       " 'then i would have had something to hold me over even now .']"
      ]
     },
     "execution_count": 25,
     "metadata": {},
     "output_type": "execute_result"
    }
   ],
   "source": [
    "lines"
   ]
  },
  {
   "cell_type": "markdown",
   "metadata": {},
   "source": [
    "# Write Files <a name=\"wt_f\"></a>\n",
    "Create file and save data to it"
   ]
  },
  {
   "cell_type": "code",
   "execution_count": 1,
   "metadata": {},
   "outputs": [],
   "source": [
    "# write file line by line \n",
    "write_file = open('data/write_1.txt', 'w') \n",
    "write_file.write('Hello World \\n') \n",
    "write_file.write('This is our new text file\\n') \n",
    "write_file.write('and this is another line.\\n') \n",
    "write_file.write('Why? Because we can.') \n",
    "write_file.close() "
   ]
  },
  {
   "cell_type": "code",
   "execution_count": 2,
   "metadata": {},
   "outputs": [],
   "source": [
    "# write file using with\n",
    "with open('data/write_2.txt', 'w') as outfile:\n",
    "    outfile.write('Hello World \\nThis is our new text file\\nand this is another line.\\nWhy? Because we can.')"
   ]
  },
  {
   "cell_type": "markdown",
   "metadata": {},
   "source": [
    "# Export Object"
   ]
  },
  {
   "cell_type": "code",
   "execution_count": 3,
   "metadata": {},
   "outputs": [],
   "source": [
    "# define object (dictionary)\n",
    "write_dict = {'Brutus': 'Sic Semper Tyrannis!', 'Julius': 'Et tu, Brute??'}"
   ]
  },
  {
   "cell_type": "markdown",
   "metadata": {},
   "source": [
    "## Text"
   ]
  },
  {
   "cell_type": "code",
   "execution_count": 4,
   "metadata": {},
   "outputs": [],
   "source": [
    "# create and write data to text file\n",
    "with open('data/write.txt', 'w') as outfile:\n",
    "    outfile.write(str(write_dict))"
   ]
  },
  {
   "cell_type": "code",
   "execution_count": 5,
   "metadata": {},
   "outputs": [],
   "source": [
    "# open and read text file\n",
    "with open('data/write.txt', 'r') as infile:\n",
    "    document = infile.read()"
   ]
  },
  {
   "cell_type": "code",
   "execution_count": 6,
   "metadata": {},
   "outputs": [
    {
     "data": {
      "text/plain": [
       "\"{'Brutus': 'Sic Semper Tyrannis!', 'Julius': 'Et tu, Brute??'}\""
      ]
     },
     "execution_count": 6,
     "metadata": {},
     "output_type": "execute_result"
    }
   ],
   "source": [
    "document"
   ]
  },
  {
   "cell_type": "markdown",
   "metadata": {},
   "source": [
    "### convert back to dictionary"
   ]
  },
  {
   "cell_type": "code",
   "execution_count": 7,
   "metadata": {},
   "outputs": [],
   "source": [
    "import ast"
   ]
  },
  {
   "cell_type": "code",
   "execution_count": 8,
   "metadata": {},
   "outputs": [
    {
     "data": {
      "text/plain": [
       "{'Brutus': 'Sic Semper Tyrannis!', 'Julius': 'Et tu, Brute??'}"
      ]
     },
     "execution_count": 8,
     "metadata": {},
     "output_type": "execute_result"
    }
   ],
   "source": [
    "ast.literal_eval(document)"
   ]
  },
  {
   "cell_type": "markdown",
   "metadata": {},
   "source": [
    "## CSV"
   ]
  },
  {
   "cell_type": "code",
   "execution_count": 9,
   "metadata": {},
   "outputs": [],
   "source": [
    "import csv"
   ]
  },
  {
   "cell_type": "code",
   "execution_count": 10,
   "metadata": {},
   "outputs": [],
   "source": [
    "# create and write data to csv file\n",
    "with open('data/write.csv', 'w') as outfile:\n",
    "    writer = csv.writer(outfile)\n",
    "    for key, value in write_dict.items():\n",
    "        writer.writerow([key, value])"
   ]
  },
  {
   "cell_type": "code",
   "execution_count": 11,
   "metadata": {},
   "outputs": [],
   "source": [
    "# open and read csv file\n",
    "with open('data/write.csv') as infile:\n",
    "    reader = csv.reader(infile)"
   ]
  },
  {
   "cell_type": "code",
   "execution_count": 12,
   "metadata": {},
   "outputs": [
    {
     "data": {
      "text/plain": [
       "<_csv.reader at 0x7fa8e0108518>"
      ]
     },
     "execution_count": 12,
     "metadata": {},
     "output_type": "execute_result"
    }
   ],
   "source": [
    "reader"
   ]
  },
  {
   "cell_type": "markdown",
   "metadata": {},
   "source": [
    "### convert back to dictionary"
   ]
  },
  {
   "cell_type": "code",
   "execution_count": 14,
   "metadata": {},
   "outputs": [],
   "source": [
    "with open('data/write.csv') as infile:\n",
    "    reader = dict(csv.reader(infile))"
   ]
  },
  {
   "cell_type": "code",
   "execution_count": 15,
   "metadata": {},
   "outputs": [
    {
     "data": {
      "text/plain": [
       "{'Brutus': 'Sic Semper Tyrannis!', 'Julius': 'Et tu, Brute??'}"
      ]
     },
     "execution_count": 15,
     "metadata": {},
     "output_type": "execute_result"
    }
   ],
   "source": [
    "reader"
   ]
  },
  {
   "cell_type": "markdown",
   "metadata": {},
   "source": [
    "## JSON"
   ]
  },
  {
   "cell_type": "code",
   "execution_count": 16,
   "metadata": {},
   "outputs": [],
   "source": [
    "import json"
   ]
  },
  {
   "cell_type": "code",
   "execution_count": 17,
   "metadata": {},
   "outputs": [],
   "source": [
    "# create and write data to json file\n",
    "with open('data/write.json', 'w') as outfile:\n",
    "    json.dump(write_dict, outfile)"
   ]
  },
  {
   "cell_type": "code",
   "execution_count": 18,
   "metadata": {},
   "outputs": [],
   "source": [
    "# open and read csv file\n",
    "with open('data/write.json', 'r') as infile:\n",
    "    document = json.load(infile)"
   ]
  },
  {
   "cell_type": "code",
   "execution_count": 19,
   "metadata": {},
   "outputs": [
    {
     "data": {
      "text/plain": [
       "{'Brutus': 'Sic Semper Tyrannis!', 'Julius': 'Et tu, Brute??'}"
      ]
     },
     "execution_count": 19,
     "metadata": {},
     "output_type": "execute_result"
    }
   ],
   "source": [
    "document"
   ]
  },
  {
   "cell_type": "markdown",
   "metadata": {},
   "source": [
    "## Pickle"
   ]
  },
  {
   "cell_type": "code",
   "execution_count": 20,
   "metadata": {},
   "outputs": [],
   "source": [
    "import pickle"
   ]
  },
  {
   "cell_type": "code",
   "execution_count": 21,
   "metadata": {},
   "outputs": [],
   "source": [
    "# create and write data to pkl file\n",
    "with open('data/write.pkl', 'wb') as outfile:\n",
    "    pickle.dump(write_dict, outfile)"
   ]
  },
  {
   "cell_type": "code",
   "execution_count": 22,
   "metadata": {},
   "outputs": [],
   "source": [
    "# open and read pkl file\n",
    "with open('data/write.pkl', 'rb') as infile:\n",
    "    document = pickle.load(infile)"
   ]
  },
  {
   "cell_type": "code",
   "execution_count": 23,
   "metadata": {},
   "outputs": [
    {
     "data": {
      "text/plain": [
       "{'Brutus': 'Sic Semper Tyrannis!', 'Julius': 'Et tu, Brute??'}"
      ]
     },
     "execution_count": 23,
     "metadata": {},
     "output_type": "execute_result"
    }
   ],
   "source": [
    "document"
   ]
  },
  {
   "cell_type": "markdown",
   "metadata": {},
   "source": [
    "# Compare Files <a name=\"fl_comp\"></a>\n",
    "Compare if files contain the exact same data"
   ]
  },
  {
   "cell_type": "code",
   "execution_count": 24,
   "metadata": {},
   "outputs": [],
   "source": [
    "import filecmp"
   ]
  },
  {
   "cell_type": "code",
   "execution_count": 25,
   "metadata": {},
   "outputs": [
    {
     "data": {
      "text/plain": [
       "True"
      ]
     },
     "execution_count": 25,
     "metadata": {},
     "output_type": "execute_result"
    }
   ],
   "source": [
    "# same file content\n",
    "filecmp.cmp('data/write_1.txt', 'data/write_2.txt')"
   ]
  },
  {
   "cell_type": "code",
   "execution_count": 27,
   "metadata": {},
   "outputs": [
    {
     "data": {
      "text/plain": [
       "False"
      ]
     },
     "execution_count": 27,
     "metadata": {},
     "output_type": "execute_result"
    }
   ],
   "source": [
    "# different file content\n",
    "filecmp.cmp('data/write.txt', 'data/write_1.txt')"
   ]
  },
  {
   "cell_type": "code",
   "execution_count": null,
   "metadata": {},
   "outputs": [],
   "source": []
  }
 ],
 "metadata": {
  "kernelspec": {
   "display_name": "Python 3",
   "language": "python",
   "name": "python3"
  },
  "language_info": {
   "codemirror_mode": {
    "name": "ipython",
    "version": 3
   },
   "file_extension": ".py",
   "mimetype": "text/x-python",
   "name": "python",
   "nbconvert_exporter": "python",
   "pygments_lexer": "ipython3",
   "version": "3.6.5"
  }
 },
 "nbformat": 4,
 "nbformat_minor": 2
}
