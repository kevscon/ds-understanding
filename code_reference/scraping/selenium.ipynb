{
 "cells": [
  {
   "cell_type": "code",
   "execution_count": 1,
   "metadata": {},
   "outputs": [],
   "source": [
    "from selenium import webdriver\n",
    "from selenium.webdriver.common.keys import Keys\n",
    "import time"
   ]
  },
  {
   "cell_type": "markdown",
   "metadata": {},
   "source": [
    "# Driver Object"
   ]
  },
  {
   "cell_type": "code",
   "execution_count": 2,
   "metadata": {},
   "outputs": [],
   "source": [
    "# driver (Chrome) location\n",
    "drv_loc = '/bin/chromedriver'"
   ]
  },
  {
   "cell_type": "code",
   "execution_count": 3,
   "metadata": {},
   "outputs": [],
   "source": [
    "# initialize driver object; open Chrome browser\n",
    "driver = webdriver.Chrome(drv_loc)"
   ]
  },
  {
   "cell_type": "code",
   "execution_count": 4,
   "metadata": {},
   "outputs": [],
   "source": [
    "# website url\n",
    "url = 'http://www.alice-in-wonderland.net/resources/chapters-script/alices-adventures-in-wonderland/chapter-1/'"
   ]
  },
  {
   "cell_type": "code",
   "execution_count": 5,
   "metadata": {},
   "outputs": [],
   "source": [
    "# load url into driver\n",
    "driver.get(url)"
   ]
  },
  {
   "cell_type": "markdown",
   "metadata": {},
   "source": [
    "# Retrieve Website Elements"
   ]
  },
  {
   "cell_type": "markdown",
   "metadata": {},
   "source": [
    "## XML Path\n",
    "XPath format:  \n",
    "```xpath=//tagname[@attribute='value']```"
   ]
  },
  {
   "cell_type": "code",
   "execution_count": 6,
   "metadata": {},
   "outputs": [],
   "source": [
    "# absolute xpath reference\n",
    "x_path = 'html/body/div/div/div/div/main/article/header/h1'"
   ]
  },
  {
   "cell_type": "code",
   "execution_count": 7,
   "metadata": {},
   "outputs": [
    {
     "data": {
      "text/plain": [
       "<selenium.webdriver.remote.webelement.WebElement (session=\"501c7c2d3dff679e3c3a55e94b4b06c1\", element=\"4c18309b-ea87-4de6-9a3c-ab4196008c28\")>"
      ]
     },
     "execution_count": 7,
     "metadata": {},
     "output_type": "execute_result"
    }
   ],
   "source": [
    "# retrieve element\n",
    "driver.find_element_by_xpath(x_path)"
   ]
  },
  {
   "cell_type": "code",
   "execution_count": 8,
   "metadata": {},
   "outputs": [
    {
     "data": {
      "text/plain": [
       "'Chapter 1: Down the Rabbit-Hole'"
      ]
     },
     "execution_count": 8,
     "metadata": {},
     "output_type": "execute_result"
    }
   ],
   "source": [
    "# element text\n",
    "driver.find_element_by_xpath(x_path).text"
   ]
  },
  {
   "cell_type": "code",
   "execution_count": 9,
   "metadata": {},
   "outputs": [
    {
     "data": {
      "text/plain": [
       "'Chapter 1: Down the Rabbit-Hole'"
      ]
     },
     "execution_count": 9,
     "metadata": {},
     "output_type": "execute_result"
    }
   ],
   "source": [
    "# relative xpath reference\n",
    "x_path = '//h1'\n",
    "driver.find_element_by_xpath(x_path).text"
   ]
  },
  {
   "cell_type": "code",
   "execution_count": 10,
   "metadata": {},
   "outputs": [
    {
     "data": {
      "text/plain": [
       "'Alice was beginning to get very tired of sitting by her sister on the bank, and of having nothing to do: once or twice she had peeped into the book her sister was reading, but it had no pictures or conversations in it, `and what is the use of a book,’ thought Alice `without pictures or conversation?’'"
      ]
     },
     "execution_count": 10,
     "metadata": {},
     "output_type": "execute_result"
    }
   ],
   "source": [
    "# \"p\" elements\n",
    "paragraphs = driver.find_elements_by_xpath('//main/article/p')\n",
    "# first element text\n",
    "paragraphs[0].text"
   ]
  },
  {
   "cell_type": "code",
   "execution_count": 11,
   "metadata": {},
   "outputs": [],
   "source": [
    "# x_path for chapter menu\n",
    "chapter_path = '//ul[@class=\"sub-menu-ul\"]/ul/li/a[@href]'"
   ]
  },
  {
   "cell_type": "code",
   "execution_count": 12,
   "metadata": {},
   "outputs": [
    {
     "name": "stdout",
     "output_type": "stream",
     "text": [
      "Poem: \"All in the golden afternoon\"\n",
      "Chapter 1: Down the Rabbit-Hole\n",
      "Chapter 2: The Pool of Tears\n",
      "Chapter 3: A Caucus-Race and a long Tale\n",
      "Chapter 4: The Rabbit sends in a little Bill\n",
      "Chapter 5: Advice from a Caterpillar\n",
      "Chapter 6: Pig and Pepper\n",
      "Chapter 7: A Mad Tea-Party\n",
      "Chapter 8: The Queen's Croquet-Ground\n",
      "Chapter 9: The Mock Turtle's Story\n",
      "Chapter 10: The Lobster Quadrille\n",
      "Chapter 11: Who stole the Tarts?\n",
      "Chapter 12: Alice's Evidence\n",
      "An Easter Greeting to every child who loves Alice\n",
      "Christmas Greetings\n"
     ]
    }
   ],
   "source": [
    "# chapter menu element text\n",
    "chapters = driver.find_elements_by_xpath(chapter_path)\n",
    "for chapter in chapters:\n",
    "    print(chapter.get_attribute('text'))"
   ]
  },
  {
   "cell_type": "code",
   "execution_count": 13,
   "metadata": {},
   "outputs": [
    {
     "name": "stdout",
     "output_type": "stream",
     "text": [
      "http://www.alice-in-wonderland.net/resources/chapters-script/alices-adventures-in-wonderland/all-in-the-golden-afternoon/\n",
      "http://www.alice-in-wonderland.net/resources/chapters-script/alices-adventures-in-wonderland/chapter-1/\n",
      "http://www.alice-in-wonderland.net/resources/chapters-script/alices-adventures-in-wonderland/chapter-2/\n",
      "http://www.alice-in-wonderland.net/resources/chapters-script/alices-adventures-in-wonderland/chapter-3/\n",
      "http://www.alice-in-wonderland.net/resources/chapters-script/alices-adventures-in-wonderland/chapter-4/\n",
      "http://www.alice-in-wonderland.net/resources/chapters-script/alices-adventures-in-wonderland/chapter-5/\n",
      "http://www.alice-in-wonderland.net/resources/chapters-script/alices-adventures-in-wonderland/chapter-6/\n",
      "http://www.alice-in-wonderland.net/resources/chapters-script/alices-adventures-in-wonderland/chapter-7/\n",
      "http://www.alice-in-wonderland.net/resources/chapters-script/alices-adventures-in-wonderland/chapter-8/\n",
      "http://www.alice-in-wonderland.net/resources/chapters-script/alices-adventures-in-wonderland/chapter-9/\n",
      "http://www.alice-in-wonderland.net/resources/chapters-script/alices-adventures-in-wonderland/chapter-10/\n",
      "http://www.alice-in-wonderland.net/resources/chapters-script/alices-adventures-in-wonderland/chapter-11/\n",
      "http://www.alice-in-wonderland.net/resources/chapters-script/alices-adventures-in-wonderland/chapter-12/\n",
      "http://www.alice-in-wonderland.net/resources/chapters-script/alices-adventures-in-wonderland/easter-greeting/\n",
      "http://www.alice-in-wonderland.net/resources/chapters-script/alices-adventures-in-wonderland/christmas-greetings/\n"
     ]
    }
   ],
   "source": [
    "# chapter menu element links\n",
    "links = driver.find_elements_by_xpath(chapter_path)\n",
    "for link in links:\n",
    "    print(link.get_attribute('href'))"
   ]
  },
  {
   "cell_type": "code",
   "execution_count": 14,
   "metadata": {},
   "outputs": [
    {
     "data": {
      "text/plain": [
       "'http://www.alice-in-wonderland.net/resources/'"
      ]
     },
     "execution_count": 14,
     "metadata": {},
     "output_type": "execute_result"
    }
   ],
   "source": [
    "# xpath element class contains\n",
    "driver.find_element_by_xpath('//li[contains(@class, \"current\")]/a').get_attribute(\"href\")"
   ]
  },
  {
   "cell_type": "code",
   "execution_count": 15,
   "metadata": {},
   "outputs": [
    {
     "data": {
      "text/plain": [
       "'Alice was beginning to get very tired of sitting by her sister on the bank, and of having nothing to do: once or twice she had peeped into the book her sister was reading, but it had no pictures or conversations in it, `and what is the use of a book,’ thought Alice `without pictures or conversation?’'"
      ]
     },
     "execution_count": 15,
     "metadata": {},
     "output_type": "execute_result"
    }
   ],
   "source": [
    "# xpath element text contains\n",
    "driver.find_element_by_xpath('//p[contains(text(), \"Alice\")]').text"
   ]
  },
  {
   "cell_type": "code",
   "execution_count": 16,
   "metadata": {},
   "outputs": [
    {
     "data": {
      "text/plain": [
       "'So she was considering in her own mind (as well as she could, for the hot day made her feel very sleepy and stupid), whether the pleasure of making a daisy-chain would be worth the trouble of getting up and picking the daisies, when suddenly a White Rabbit with pink eyes ran close by her.'"
      ]
     },
     "execution_count": 16,
     "metadata": {},
     "output_type": "execute_result"
    }
   ],
   "source": [
    "# next element\n",
    "driver.find_element_by_xpath('//article[@class=\"justify\"]/p/following-sibling::p').text"
   ]
  },
  {
   "cell_type": "code",
   "execution_count": 17,
   "metadata": {},
   "outputs": [
    {
     "data": {
      "text/plain": [
       "<selenium.webdriver.remote.webelement.WebElement (session=\"501c7c2d3dff679e3c3a55e94b4b06c1\", element=\"64b83b85-6402-4ce4-b7cb-1a4a10414c22\")>"
      ]
     },
     "execution_count": 17,
     "metadata": {},
     "output_type": "execute_result"
    }
   ],
   "source": [
    "# parent of element\n",
    "driver.find_element_by_xpath('//article[@class=\"justify\"]/p/parent::article')"
   ]
  },
  {
   "cell_type": "markdown",
   "metadata": {},
   "source": [
    "## Webpage Interaction"
   ]
  },
  {
   "cell_type": "markdown",
   "metadata": {},
   "source": [
    "### Enter Text Input"
   ]
  },
  {
   "cell_type": "code",
   "execution_count": 18,
   "metadata": {},
   "outputs": [],
   "source": [
    "# maximize browser window\n",
    "driver.maximize_window()\n",
    "# create search field element object\n",
    "search = driver.find_element_by_id('searchfield')\n",
    "# clear field object\n",
    "search.clear()\n",
    "# enter text into field object\n",
    "search.send_keys('cheshire cat')\n",
    "# wait 1 second\n",
    "time.sleep(1)\n",
    "# enter key\n",
    "search.send_keys(Keys.ENTER) "
   ]
  },
  {
   "cell_type": "code",
   "execution_count": 19,
   "metadata": {},
   "outputs": [],
   "source": [
    "# navigate back\n",
    "driver.execute_script('window.history.go(-1)')"
   ]
  },
  {
   "cell_type": "code",
   "execution_count": 20,
   "metadata": {},
   "outputs": [],
   "source": [
    "# create button element object\n",
    "button = driver.find_element_by_link_text('Home')\n",
    "# click button object\n",
    "button.click()"
   ]
  },
  {
   "cell_type": "code",
   "execution_count": 21,
   "metadata": {},
   "outputs": [],
   "source": [
    "# scroll to bottom of page\n",
    "lenOfPage = driver.execute_script('window.scrollTo(0, document.body.scrollHeight);var lenOfPage=document.body.scrollHeight;return lenOfPage;')\n",
    "match=False\n",
    "while(match==False):\n",
    "        lastCount = lenOfPage\n",
    "        time.sleep(1)\n",
    "        lenOfPage = driver.execute_script('window.scrollTo(0, document.body.scrollHeight);var lenOfPage=document.body.scrollHeight;return lenOfPage;')\n",
    "        if lastCount==lenOfPage:\n",
    "            match=True"
   ]
  },
  {
   "cell_type": "markdown",
   "metadata": {},
   "source": [
    "## Close Driver"
   ]
  },
  {
   "cell_type": "code",
   "execution_count": 22,
   "metadata": {},
   "outputs": [],
   "source": [
    "# close driver object\n",
    "driver.close()"
   ]
  },
  {
   "cell_type": "code",
   "execution_count": null,
   "metadata": {},
   "outputs": [],
   "source": []
  }
 ],
 "metadata": {
  "kernelspec": {
   "display_name": "Python 3",
   "language": "python",
   "name": "python3"
  },
  "language_info": {
   "codemirror_mode": {
    "name": "ipython",
    "version": 3
   },
   "file_extension": ".py",
   "mimetype": "text/x-python",
   "name": "python",
   "nbconvert_exporter": "python",
   "pygments_lexer": "ipython3",
   "version": "3.6.5"
  }
 },
 "nbformat": 4,
 "nbformat_minor": 2
}
