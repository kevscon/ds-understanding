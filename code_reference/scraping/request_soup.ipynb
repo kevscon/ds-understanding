{
 "cells": [
  {
   "cell_type": "markdown",
   "metadata": {},
   "source": [
    "# Requests and BeautifulSoup\n",
    "Accessing and retrieving text data from webpages"
   ]
  },
  {
   "cell_type": "markdown",
   "metadata": {},
   "source": [
    "# Contents\n",
    "- [Requests](#req) \n",
    "- [BeautifulSoup](#bs) "
   ]
  },
  {
   "cell_type": "code",
   "execution_count": 1,
   "metadata": {},
   "outputs": [],
   "source": [
    "# website for example\n",
    "url = 'http://www.alice-in-wonderland.net/resources/chapters-script/alices-adventures-in-wonderland/chapter-1/'"
   ]
  },
  {
   "cell_type": "markdown",
   "metadata": {},
   "source": [
    "# Requests <a name=\"req\"></a>"
   ]
  },
  {
   "cell_type": "code",
   "execution_count": 2,
   "metadata": {},
   "outputs": [],
   "source": [
    "import requests"
   ]
  },
  {
   "cell_type": "code",
   "execution_count": 3,
   "metadata": {},
   "outputs": [
    {
     "data": {
      "text/plain": [
       "<Response [200]>"
      ]
     },
     "execution_count": 3,
     "metadata": {},
     "output_type": "execute_result"
    }
   ],
   "source": [
    "# get response from webpage; access content\n",
    "requests.get(url)"
   ]
  },
  {
   "cell_type": "code",
   "execution_count": 4,
   "metadata": {},
   "outputs": [],
   "source": [
    "# create response object\n",
    "response = requests.get(url)"
   ]
  },
  {
   "cell_type": "code",
   "execution_count": 5,
   "metadata": {},
   "outputs": [],
   "source": [
    "# check for error in download\n",
    "response.raise_for_status()"
   ]
  },
  {
   "cell_type": "code",
   "execution_count": 6,
   "metadata": {},
   "outputs": [
    {
     "data": {
      "text/plain": [
       "200"
      ]
     },
     "execution_count": 6,
     "metadata": {},
     "output_type": "execute_result"
    }
   ],
   "source": [
    "# request status code\n",
    "response.status_code"
   ]
  },
  {
   "cell_type": "code",
   "execution_count": 8,
   "metadata": {
    "scrolled": false
   },
   "outputs": [
    {
     "data": {
      "text/plain": [
       "b'<!doctype html>\\r\\n\\r\\n\\r\\n<!--[if lt IE 7 ]> <html class=\"ie ie6 ie-lt10 ie-lt9 ie-lt8 ie-lt7 no-js\" lang=\"en\"> <![endif]-->\\r\\n<!--[if IE 7 ]>    <html class=\"ie ie7 ie-lt10 ie-lt9 ie-lt8 no-js\" lang=\"en\"> <![endif]-->\\r\\n<!--[if IE 8 ]>    <html class=\"ie ie8 ie-lt10 ie-lt9 no-js\" lang=\"en\"> <![endif]-->\\r\\n<!--[if IE 9 ]>    <html class=\"ie ie9 ie-lt10 no-js\" lang=\"en\"> <![endif]-->\\r\\n<!--[if gt IE 9]><!--><html class=\"no-js\" lang=\"en\"><!--<![endif]-->\\r\\n<!-- the \"no-js\" class is for Modernizr. --> \\r\\n<head>\\r\\n\\t<meta charset=\"utf-8\">\\t\\r\\n\\t<meta content=\"IE=edge,chrome=1\" http-equiv=\"X-UA-Compatible\">\\r\\n        <script src=\"//cdn.optimizely.com/js/4120621558.js\"></script>\\r\\n\\t\\t<title>\\r\\n\\t\\t\\tChapter 1: Down the Rabbit-Hole - Alice-in-Wonderland.net\\t</title>\\r\\n\\r\\n\\r\\n\\r\\n\\t\\n<!-- This site is optimized with the Yoast SEO plugin v12.1 - https://yoast.com/wordpress/plugins/seo/ -->\\n<meta name=\"description\" content=\"Chapter I: Down the Rabbit-Hole; from Alice&#039;s Adventures in Wonderland\"/>\\n<link rel=\"canonical\" href=\"http://www.alice-in-wonderland.net/resources/chapters-script/alices-adventures-in-wonderland/chapter-1/\" />\\n<meta property=\"og:locale\" content=\"en_US\" />\\n<meta property=\"og:type\" content=\"article\" />\\n<meta property=\"og:title\" content=\"Chapter 1: Down the Rabbit-Hole - Alice-in-Wonderland.net\" />\\n<meta property=\"og:description\" content=\"Chapter I: Down the Rabbit-Hole; from Alice&#039;s Adventures in Wonderland\" />\\n<meta property=\"og:url\" content=\"http://www.alice-in-wonderland.net/resources/chapters-script/alices-adventures-in-wonderland/chapter-1/\" />\\n<meta property=\"og:site_name\" content=\"Alice-in-Wonderland.net\" />\\n<meta property=\"og:image\" content=\"http://www.alice-in-wonderland.net/wp-content/uploads/alice-logo-desktop.jpg\" />\\n<meta property=\"og:image:width\" content=\"340\" />\\n<meta property=\"og:image:height\" content=\"240\" />\\n<meta name=\"twitter:card\" content=\"summary\" />\\n<meta name=\"twitter:description\" content=\"Chapter I: Down the Rabbit-Hole; from Alice&#039;s Adventures in Wonderland\" />\\n<meta name=\"twitter:title\" content=\"Chapter 1: Down the Rabbit-Hole - Alice-in-Wonderland.net\" />\\n<meta name=\"twitter:image\" content=\"http://www.alice-in-wonderland.net/wp-content/uploads/alice-logo-desktop.jpg\" />\\n<script type=\\'application/ld+json\\' class=\\'yoast-schema-graph yoast-schema-graph--main\\'>{\"@context\":\"https://schema.org\",\"@graph\":[{\"@type\":\"WebSite\",\"@id\":\"http://www.alice-in-wonderland.net/#website\",\"url\":\"http://www.alice-in-wonderland.net/\",\"name\":\"Alice-in-Wonderlan'"
      ]
     },
     "execution_count": 8,
     "metadata": {},
     "output_type": "execute_result"
    }
   ],
   "source": [
    "# raw webpage content\n",
    "response.content[0:2500]"
   ]
  },
  {
   "cell_type": "code",
   "execution_count": 9,
   "metadata": {
    "scrolled": false
   },
   "outputs": [
    {
     "data": {
      "text/plain": [
       "'<!doctype html>\\r\\n\\r\\n\\r\\n<!--[if lt IE 7 ]> <html class=\"ie ie6 ie-lt10 ie-lt9 ie-lt8 ie-lt7 no-js\" lang=\"en\"> <![endif]-->\\r\\n<!--[if IE 7 ]>    <html class=\"ie ie7 ie-lt10 ie-lt9 ie-lt8 no-js\" lang=\"en\"> <![endif]-->\\r\\n<!--[if IE 8 ]>    <html class=\"ie ie8 ie-lt10 ie-lt9 no-js\" lang=\"en\"> <![endif]-->\\r\\n<!--[if IE 9 ]>    <html class=\"ie ie9 ie-lt10 no-js\" lang=\"en\"> <![endif]-->\\r\\n<!--[if gt IE 9]><!--><html class=\"no-js\" lang=\"en\"><!--<![endif]-->\\r\\n<!-- the \"no-js\" class is for Modernizr. --> \\r\\n<head>\\r\\n\\t<meta charset=\"utf-8\">\\t\\r\\n\\t<meta content=\"IE=edge,chrome=1\" http-equiv=\"X-UA-Compatible\">\\r\\n        <script src=\"//cdn.optimizely.com/js/4120621558.js\"></script>\\r\\n\\t\\t<title>\\r\\n\\t\\t\\tChapter 1: Down the Rabbit-Hole - Alice-in-Wonderland.net\\t</title>\\r\\n\\r\\n\\r\\n\\r\\n\\t\\n<!-- This site is optimized with the Yoast SEO plugin v12.1 - https://yoast.com/wordpress/plugins/seo/ -->\\n<meta name=\"description\" content=\"Chapter I: Down the Rabbit-Hole; from Alice&#039;s Adventures in Wonderland\"/>\\n<link rel=\"canonical\" href=\"http://www.alice-in-wonderland.net/resources/chapters-script/alices-adventures-in-wonderland/chapter-1/\" />\\n<meta property=\"og:locale\" content=\"en_US\" />\\n<meta property=\"og:type\" content=\"article\" />\\n<meta property=\"og:title\" content=\"Chapter 1: Down the Rabbit-Hole - Alice-in-Wonderland.net\" />\\n<meta property=\"og:description\" content=\"Chapter I: Down the Rabbit-Hole; from Alice&#039;s Adventures in Wonderland\" />\\n<meta property=\"og:url\" content=\"http://www.alice-in-wonderland.net/resources/chapters-script/alices-adventures-in-wonderland/chapter-1/\" />\\n<meta property=\"og:site_name\" content=\"Alice-in-Wonderland.net\" />\\n<meta property=\"og:image\" content=\"http://www.alice-in-wonderland.net/wp-content/uploads/alice-logo-desktop.jpg\" />\\n<meta property=\"og:image:width\" content=\"340\" />\\n<meta property=\"og:image:height\" content=\"240\" />\\n<meta name=\"twitter:card\" content=\"summary\" />\\n<meta name=\"twitter:description\" content=\"Chapter I: Down the Rabbit-Hole; from Alice&#039;s Adventures in Wonderland\" />\\n<meta name=\"twitter:title\" content=\"Chapter 1: Down the Rabbit-Hole - Alice-in-Wonderland.net\" />\\n<meta name=\"twitter:image\" content=\"http://www.alice-in-wonderland.net/wp-content/uploads/alice-logo-desktop.jpg\" />\\n<script type=\\'application/ld+json\\' class=\\'yoast-schema-graph yoast-schema-graph--main\\'>{\"@context\":\"https://schema.org\",\"@graph\":[{\"@type\":\"WebSite\",\"@id\":\"http://www.alice-in-wonderland.net/#website\",\"url\":\"http://www.alice-in-wonderland.net/\",\"name\":\"Alice-in-Wonderlan'"
      ]
     },
     "execution_count": 9,
     "metadata": {},
     "output_type": "execute_result"
    }
   ],
   "source": [
    "# webpage content as string (first 500 characters)\n",
    "response.text[0:2500]"
   ]
  },
  {
   "cell_type": "code",
   "execution_count": 10,
   "metadata": {},
   "outputs": [
    {
     "data": {
      "text/plain": [
       "{'Date': 'Tue, 24 Sep 2019 23:01:33 GMT', 'Content-Type': 'text/html; charset=UTF-8', 'Transfer-Encoding': 'chunked', 'Connection': 'keep-alive', 'Set-Cookie': '__cfduid=de607488ade9fac96f30febf1dae7c3c51569366092; expires=Wed, 23-Sep-20 23:01:32 GMT; path=/; domain=.alice-in-wonderland.net; HttpOnly, PHPSESSID=sqgu03rol304nd58qouo61jni2; path=/', 'X-Powered-By': 'PHP/7.0.33', 'Expires': 'Thu, 19 Nov 1981 08:52:00 GMT', 'Cache-Control': 'no-store, no-cache, must-revalidate', 'Pragma': 'no-cache', 'Link': '<http://www.alice-in-wonderland.net/wp-json/>; rel=\"https://api.w.org/\", <http://www.alice-in-wonderland.net/?p=591>; rel=shortlink', 'Vary': 'Accept-Encoding', 'Strict-Transport-Security': 'max-age=63072000; includeSubDomains', 'X-Frame-Options': 'SAMEORIGIN', 'X-Content-Type-Options': 'nosniff', 'X-Turbo-Charged-By': 'LiteSpeed', 'Server': 'cloudflare', 'CF-RAY': '51b8617efe86c1a7-IAD', 'Content-Encoding': 'gzip'}"
      ]
     },
     "execution_count": 10,
     "metadata": {},
     "output_type": "execute_result"
    }
   ],
   "source": [
    "# webpage information\n",
    "response.headers"
   ]
  },
  {
   "cell_type": "markdown",
   "metadata": {},
   "source": [
    "# BeautifulSoup <a name=\"bs\"></a>"
   ]
  },
  {
   "cell_type": "code",
   "execution_count": 10,
   "metadata": {},
   "outputs": [],
   "source": [
    "import requests\n",
    "from bs4 import BeautifulSoup"
   ]
  },
  {
   "cell_type": "code",
   "execution_count": 11,
   "metadata": {},
   "outputs": [],
   "source": [
    "# create response object\n",
    "response = requests.get(url)"
   ]
  },
  {
   "cell_type": "code",
   "execution_count": 12,
   "metadata": {
    "scrolled": false
   },
   "outputs": [],
   "source": [
    "# create BS object of parsed webpage\n",
    "soup = BeautifulSoup(response.content, 'html.parser')"
   ]
  },
  {
   "cell_type": "code",
   "execution_count": 16,
   "metadata": {},
   "outputs": [
    {
     "data": {
      "text/plain": [
       "[<h1>Chapter 1: Down the Rabbit-Hole</h1>]"
      ]
     },
     "execution_count": 16,
     "metadata": {},
     "output_type": "execute_result"
    }
   ],
   "source": [
    "# css selector\n",
    "soup.select('header h1') # page title"
   ]
  },
  {
   "cell_type": "code",
   "execution_count": 13,
   "metadata": {},
   "outputs": [
    {
     "data": {
      "text/plain": [
       "<p><strong>A</strong>lice was beginning to get very tired of sitting by her sister on the bank, and of having nothing to do: once or twice she had peeped into the book her sister was reading, but it had no pictures or conversations in it, `and what is the use of a book,’ thought Alice `without pictures or conversation?’</p>"
      ]
     },
     "execution_count": 13,
     "metadata": {},
     "output_type": "execute_result"
    }
   ],
   "source": [
    "# return first element in list of all specified tags\n",
    "soup.find_all('p')[0]"
   ]
  },
  {
   "cell_type": "code",
   "execution_count": 14,
   "metadata": {},
   "outputs": [
    {
     "data": {
      "text/plain": [
       "'Alice was beginning to get very tired of sitting by her sister on the bank, and of having nothing to do: once or twice she had peeped into the book her sister was reading, but it had no pictures or conversations in it, `and what is the use of a book,’ thought Alice `without pictures or conversation?’'"
      ]
     },
     "execution_count": 14,
     "metadata": {},
     "output_type": "execute_result"
    }
   ],
   "source": [
    "# return text of element\n",
    "soup.find_all('p')[0].get_text()"
   ]
  },
  {
   "cell_type": "code",
   "execution_count": 15,
   "metadata": {},
   "outputs": [
    {
     "data": {
      "text/plain": [
       "'Alice\\'s Adventures in Wonderland Poem: \"All in the golden afternoon\" Chapter 1: Down the Rabbit-Hole Chapter 2: The Pool of Tears Chapter 3: A Caucus-Race and a long Tale Chapter 4: The Rabbit sends in a little Bill Chapter 5: Advice from a Caterpillar Chapter 6: Pig and Pepper Chapter 7: A Mad Tea-Party Chapter 8: The Queen\\'s Croquet-Ground Chapter 9: The Mock Turtle\\'s Story Chapter 10: The Lobster Quadrille Chapter 11: Who stole the Tarts? Chapter 12: Alice\\'s Evidence An Easter Greeting to every child who loves Alice Christmas Greetings Through the Looking Glass Alice\\'s Adventures Under Ground The Nursery \"Alice\" The lost chapter: a Wasp in a Wig Alice in Wonderland quotes Summaries Disney movie script '"
      ]
     },
     "execution_count": 15,
     "metadata": {},
     "output_type": "execute_result"
    }
   ],
   "source": [
    "# return all elements of specified class\n",
    "soup.find_all('ul', class_='sub-menu-ul')[0].get_text()"
   ]
  },
  {
   "cell_type": "code",
   "execution_count": 17,
   "metadata": {},
   "outputs": [],
   "source": [
    "# return chapter menu elements\n",
    "chapters = soup.find(class_=\"sub-menu-ul\").select('ul li')"
   ]
  },
  {
   "cell_type": "code",
   "execution_count": 18,
   "metadata": {},
   "outputs": [
    {
     "name": "stdout",
     "output_type": "stream",
     "text": [
      "Poem: \"All in the golden afternoon\" \n",
      "Chapter 1: Down the Rabbit-Hole \n",
      "Chapter 2: The Pool of Tears \n",
      "Chapter 3: A Caucus-Race and a long Tale \n",
      "Chapter 4: The Rabbit sends in a little Bill \n",
      "Chapter 5: Advice from a Caterpillar \n",
      "Chapter 6: Pig and Pepper \n",
      "Chapter 7: A Mad Tea-Party \n",
      "Chapter 8: The Queen's Croquet-Ground \n",
      "Chapter 9: The Mock Turtle's Story \n",
      "Chapter 10: The Lobster Quadrille \n",
      "Chapter 11: Who stole the Tarts? \n",
      "Chapter 12: Alice's Evidence \n",
      "An Easter Greeting to every child who loves Alice \n",
      "Christmas Greetings \n"
     ]
    }
   ],
   "source": [
    "# print each element as text\n",
    "for chapter in chapters:\n",
    "    print(chapter.get_text())"
   ]
  },
  {
   "cell_type": "code",
   "execution_count": 19,
   "metadata": {},
   "outputs": [],
   "source": [
    "# return chapter link elements\n",
    "links = soup.find(class_=\"sub-menu-ul\").select('ul li a')"
   ]
  },
  {
   "cell_type": "code",
   "execution_count": 20,
   "metadata": {},
   "outputs": [
    {
     "name": "stdout",
     "output_type": "stream",
     "text": [
      "http://www.alice-in-wonderland.net/resources/chapters-script/alices-adventures-in-wonderland/all-in-the-golden-afternoon/\n",
      "http://www.alice-in-wonderland.net/resources/chapters-script/alices-adventures-in-wonderland/chapter-1/\n",
      "http://www.alice-in-wonderland.net/resources/chapters-script/alices-adventures-in-wonderland/chapter-2/\n",
      "http://www.alice-in-wonderland.net/resources/chapters-script/alices-adventures-in-wonderland/chapter-3/\n",
      "http://www.alice-in-wonderland.net/resources/chapters-script/alices-adventures-in-wonderland/chapter-4/\n",
      "http://www.alice-in-wonderland.net/resources/chapters-script/alices-adventures-in-wonderland/chapter-5/\n",
      "http://www.alice-in-wonderland.net/resources/chapters-script/alices-adventures-in-wonderland/chapter-6/\n",
      "http://www.alice-in-wonderland.net/resources/chapters-script/alices-adventures-in-wonderland/chapter-7/\n",
      "http://www.alice-in-wonderland.net/resources/chapters-script/alices-adventures-in-wonderland/chapter-8/\n",
      "http://www.alice-in-wonderland.net/resources/chapters-script/alices-adventures-in-wonderland/chapter-9/\n",
      "http://www.alice-in-wonderland.net/resources/chapters-script/alices-adventures-in-wonderland/chapter-10/\n",
      "http://www.alice-in-wonderland.net/resources/chapters-script/alices-adventures-in-wonderland/chapter-11/\n",
      "http://www.alice-in-wonderland.net/resources/chapters-script/alices-adventures-in-wonderland/chapter-12/\n",
      "http://www.alice-in-wonderland.net/resources/chapters-script/alices-adventures-in-wonderland/easter-greeting/\n",
      "http://www.alice-in-wonderland.net/resources/chapters-script/alices-adventures-in-wonderland/christmas-greetings/\n"
     ]
    }
   ],
   "source": [
    "# print each element as hyperlink\n",
    "for link in links:\n",
    "    print(link['href'])"
   ]
  },
  {
   "cell_type": "code",
   "execution_count": null,
   "metadata": {},
   "outputs": [],
   "source": []
  }
 ],
 "metadata": {
  "kernelspec": {
   "display_name": "Python 3",
   "language": "python",
   "name": "python3"
  },
  "language_info": {
   "codemirror_mode": {
    "name": "ipython",
    "version": 3
   },
   "file_extension": ".py",
   "mimetype": "text/x-python",
   "name": "python",
   "nbconvert_exporter": "python",
   "pygments_lexer": "ipython3",
   "version": "3.6.5"
  }
 },
 "nbformat": 4,
 "nbformat_minor": 2
}
