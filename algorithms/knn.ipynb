{
 "cells": [
  {
   "cell_type": "markdown",
   "metadata": {},
   "source": [
    "# Imports"
   ]
  },
  {
   "cell_type": "code",
   "execution_count": 1,
   "metadata": {},
   "outputs": [],
   "source": [
    "import pandas as pd\n",
    "import numpy as np\n",
    "import matplotlib.pyplot as plt"
   ]
  },
  {
   "cell_type": "markdown",
   "metadata": {},
   "source": [
    "# Functions\n",
    "Calculate euclidean distance between two points"
   ]
  },
  {
   "cell_type": "code",
   "execution_count": 2,
   "metadata": {},
   "outputs": [],
   "source": [
    "def eucl_dist(A, B):\n",
    "    squares = [(a - b)**2 for a, b in zip(A, B)]\n",
    "    return(sum(squares)**0.5)"
   ]
  },
  {
   "cell_type": "markdown",
   "metadata": {},
   "source": [
    "# KNN Algorithm in 2-D"
   ]
  },
  {
   "cell_type": "markdown",
   "metadata": {},
   "source": [
    "## Generate Data"
   ]
  },
  {
   "cell_type": "code",
   "execution_count": 3,
   "metadata": {},
   "outputs": [],
   "source": [
    "# number of groups\n",
    "num_grps = 3"
   ]
  },
  {
   "cell_type": "code",
   "execution_count": 4,
   "metadata": {},
   "outputs": [],
   "source": [
    "# minimum number of points per group\n",
    "min_pts = 5"
   ]
  },
  {
   "cell_type": "code",
   "execution_count": 10,
   "metadata": {},
   "outputs": [],
   "source": [
    "# maximum number of points per group\n",
    "max_pts = 20"
   ]
  },
  {
   "cell_type": "code",
   "execution_count": 11,
   "metadata": {},
   "outputs": [],
   "source": [
    "# generate random test and train data sets\n",
    "train_xdict = {}\n",
    "train_ydict = {}\n",
    "test_xdict = {}\n",
    "test_ydict = {}\n",
    "for i in range(num_grps):\n",
    "    size = np.random.randint(min_pts, max_pts+1)\n",
    "    train_xdict[i] = np.random.randint(1, 11, size=2)[0] + np.random.normal(0, 1.5, size=size)\n",
    "    train_ydict[i] = np.random.randint(1, 11, size=2)[0] + np.random.normal(0, 1.5, size=size)\n",
    "    delete_list = []\n",
    "    test_xvals = []\n",
    "    test_yvals = []\n",
    "    for j in range(int(size*0.2)):\n",
    "        idx = np.random.randint(0, size)\n",
    "        test_xvals.append(train_xdict[i][idx])\n",
    "        test_yvals.append(train_ydict[i][idx])\n",
    "        delete_list.append(idx)\n",
    "    test_xdict[i] = test_xvals\n",
    "    test_ydict[i] = test_yvals\n",
    "    train_xdict[i] = np.delete(train_xdict[i], delete_list)\n",
    "    train_ydict[i] = np.delete(train_ydict[i], delete_list)"
   ]
  },
  {
   "cell_type": "code",
   "execution_count": 12,
   "metadata": {},
   "outputs": [
    {
     "data": {
      "image/png": "[encoded data removed]",
      "text/plain": [
       "<Figure size 432x288 with 1 Axes>"
      ]
     },
     "metadata": {},
     "output_type": "display_data"
    }
   ],
   "source": [
    "# plot training set\n",
    "fig, ax = plt.subplots()\n",
    "for i in range(num_grps):\n",
    "    ax.scatter(train_xdict[i], train_ydict[i], label='Group ' + str(i+1))\n",
    "ax.legend(loc='center left', bbox_to_anchor=(1, 0.5));"
   ]
  },
  {
   "cell_type": "code",
   "execution_count": 13,
   "metadata": {},
   "outputs": [
    {
     "data": {
      "image/png": "[encoded data removed]",
      "text/plain": [
       "<Figure size 432x288 with 1 Axes>"
      ]
     },
     "metadata": {},
     "output_type": "display_data"
    }
   ],
   "source": [
    "# plot test set with training set\n",
    "fig, ax = plt.subplots()\n",
    "for i in range(num_grps):\n",
    "    ax.scatter(train_xdict[i], train_ydict[i], label='Group ' + str(i+1))\n",
    "    ax.scatter(test_xdict[i], test_ydict[i], c='black')\n",
    "ax.legend(loc='center left', bbox_to_anchor=(1, 0.5));"
   ]
  },
  {
   "cell_type": "markdown",
   "metadata": {},
   "source": [
    "## Classify Test Set"
   ]
  },
  {
   "cell_type": "code",
   "execution_count": null,
   "metadata": {},
   "outputs": [],
   "source": []
  },
  {
   "cell_type": "code",
   "execution_count": null,
   "metadata": {},
   "outputs": [],
   "source": []
  },
  {
   "cell_type": "code",
   "execution_count": null,
   "metadata": {},
   "outputs": [],
   "source": []
  },
  {
   "cell_type": "code",
   "execution_count": null,
   "metadata": {},
   "outputs": [],
   "source": []
  },
  {
   "cell_type": "code",
   "execution_count": null,
   "metadata": {},
   "outputs": [],
   "source": []
  },
  {
   "cell_type": "code",
   "execution_count": null,
   "metadata": {},
   "outputs": [],
   "source": []
  },
  {
   "cell_type": "markdown",
   "metadata": {},
   "source": [
    "## Generate Data Centroids"
   ]
  },
  {
   "cell_type": "code",
   "execution_count": 91,
   "metadata": {},
   "outputs": [],
   "source": [
    "np.random.seed(0)\n",
    "centroid_1 = np.random.randint(0, 100, size=2)\n",
    "np.random.seed(5)\n",
    "centroid_2 = np.random.randint(0, 100, size=2)\n",
    "np.random.seed(2)\n",
    "centroid_3 = np.random.randint(0, 100, size=2)\n",
    "np.random.seed(3)\n",
    "centroid_4 = np.random.randint(0, 100, size=2)"
   ]
  },
  {
   "cell_type": "markdown",
   "metadata": {},
   "source": [
    "## Generate Training Set"
   ]
  },
  {
   "cell_type": "code",
   "execution_count": 92,
   "metadata": {},
   "outputs": [],
   "source": [
    "grp_1_x = centroid_1[0] + np.random.normal(0, 5, size=5)\n",
    "grp_1_y = centroid_1[1] + np.random.normal(0, 5, size=5)\n",
    "grp_2_x = centroid_2[0] + np.random.normal(0, 5, size=6)\n",
    "grp_2_y = centroid_2[1] + np.random.normal(0, 5, size=6)\n",
    "grp_3_x = centroid_3[0] + np.random.normal(0, 5, size=7)\n",
    "grp_3_y = centroid_3[1] + np.random.normal(0, 5, size=7)\n",
    "grp_4_x = centroid_4[0] + np.random.normal(0, 5, size=10)\n",
    "grp_4_y = centroid_4[1] + np.random.normal(0, 5, size=10)"
   ]
  },
  {
   "cell_type": "code",
   "execution_count": 93,
   "metadata": {},
   "outputs": [
    {
     "data": {
      "image/png": "[encoded data removed]",
      "text/plain": [
       "<Figure size 432x288 with 1 Axes>"
      ]
     },
     "metadata": {},
     "output_type": "display_data"
    }
   ],
   "source": [
    "fig, ax = plt.subplots()\n",
    "ax.scatter(grp_1_x, grp_1_y, label='Group 1')\n",
    "ax.scatter(grp_2_x, grp_2_y, label='Group 2')\n",
    "ax.scatter(grp_3_x, grp_3_y, label='Group 3')\n",
    "ax.scatter(grp_4_x, grp_4_y, label='Group 4')\n",
    "ax.legend(loc='center left', bbox_to_anchor=(1, 0.5));"
   ]
  },
  {
   "cell_type": "markdown",
   "metadata": {},
   "source": [
    "## Generate Test Set"
   ]
  },
  {
   "cell_type": "code",
   "execution_count": 88,
   "metadata": {},
   "outputs": [],
   "source": [
    "# number of test points per group\n",
    "num_grp_1 = np.random.randint(1, 4)\n",
    "num_grp_2 = np.random.randint(1, 4)\n",
    "num_grp_3 = np.random.randint(1, 4)\n",
    "num_grp_4 = np.random.randint(1, 4)"
   ]
  },
  {
   "cell_type": "code",
   "execution_count": 90,
   "metadata": {},
   "outputs": [],
   "source": [
    "grp_1_x_test = centroid_1[0] + np.random.normal(0, 5, size=num_grp_1)\n",
    "grp_1_y_test = centroid_1[1] + np.random.normal(0, 5, size=num_grp_1)\n",
    "grp_2_x_test = centroid_2[0] + np.random.normal(0, 5, size=num_grp_2)\n",
    "grp_2_y_test = centroid_2[1] + np.random.normal(0, 5, size=num_grp_2)\n",
    "grp_3_x_test = centroid_3[0] + np.random.normal(0, 5, size=num_grp_3)\n",
    "grp_3_y_test = centroid_3[1] + np.random.normal(0, 5, size=num_grp_3)\n",
    "grp_4_x_test = centroid_4[0] + np.random.normal(0, 5, size=num_grp_4)\n",
    "grp_4_y_test = centroid_4[1] + np.random.normal(0, 5, size=num_grp_4)"
   ]
  },
  {
   "cell_type": "markdown",
   "metadata": {},
   "source": [
    "## Classify"
   ]
  },
  {
   "cell_type": "code",
   "execution_count": 98,
   "metadata": {},
   "outputs": [
    {
     "data": {
      "image/png": "[encoded data removed]",
      "text/plain": [
       "<Figure size 432x288 with 1 Axes>"
      ]
     },
     "metadata": {},
     "output_type": "display_data"
    }
   ],
   "source": [
    "fig, ax = plt.subplots()\n",
    "ax.scatter(grp_1_x, grp_1_y, label='Group 1')\n",
    "ax.scatter(grp_2_x, grp_2_y, label='Group 2')\n",
    "ax.scatter(grp_3_x, grp_3_y, label='Group 3')\n",
    "ax.scatter(grp_4_x, grp_4_y, label='Group 4')\n",
    "ax.scatter(grp_1_x_test, grp_1_y_test, c='black')\n",
    "ax.scatter(grp_2_x_test, grp_2_y_test, c='black')\n",
    "ax.scatter(grp_3_x_test, grp_3_y_test, c='black')\n",
    "ax.scatter(grp_4_x_test, grp_4_y_test, c='black')\n",
    "ax.legend(loc='center left', bbox_to_anchor=(1, 0.5));"
   ]
  },
  {
   "cell_type": "code",
   "execution_count": null,
   "metadata": {},
   "outputs": [],
   "source": [
    "# assign number of nearest neighbors\n",
    "n = 3"
   ]
  },
  {
   "cell_type": "code",
   "execution_count": null,
   "metadata": {
    "collapsed": true
   },
   "outputs": [],
   "source": []
  },
  {
   "cell_type": "code",
   "execution_count": null,
   "metadata": {},
   "outputs": [],
   "source": []
  },
  {
   "cell_type": "code",
   "execution_count": null,
   "metadata": {},
   "outputs": [],
   "source": []
  },
  {
   "cell_type": "code",
   "execution_count": null,
   "metadata": {},
   "outputs": [],
   "source": []
  },
  {
   "cell_type": "code",
   "execution_count": 3,
   "metadata": {},
   "outputs": [],
   "source": [
    "train_data = pd.read_csv('data/wookiee-train.csv', index_col=0)\n",
    "test_data = pd.read_csv('data/wookiee-test.csv', index_col=0)\n",
    "hold_data = pd.read_csv('data/wookiee-ho.csv', index_col=0)"
   ]
  },
  {
   "cell_type": "code",
   "execution_count": 4,
   "metadata": {
    "scrolled": true
   },
   "outputs": [
    {
     "data": {
      "text/html": [
       "<div>\n",
       "<style scoped>\n",
       "    .dataframe tbody tr th:only-of-type {\n",
       "        vertical-align: middle;\n",
       "    }\n",
       "\n",
       "    .dataframe tbody tr th {\n",
       "        vertical-align: top;\n",
       "    }\n",
       "\n",
       "    .dataframe thead th {\n",
       "        text-align: right;\n",
       "    }\n",
       "</style>\n",
       "<table border=\"1\" class=\"dataframe\">\n",
       "  <thead>\n",
       "    <tr style=\"text-align: right;\">\n",
       "      <th></th>\n",
       "      <th>wookieecolor</th>\n",
       "      <th>xcoord</th>\n",
       "      <th>ycoord</th>\n",
       "      <th>zcoord</th>\n",
       "    </tr>\n",
       "  </thead>\n",
       "  <tbody>\n",
       "    <tr>\n",
       "      <th>0</th>\n",
       "      <td>red</td>\n",
       "      <td>-3.410692</td>\n",
       "      <td>0.854400</td>\n",
       "      <td>0.228154</td>\n",
       "    </tr>\n",
       "    <tr>\n",
       "      <th>1</th>\n",
       "      <td>red</td>\n",
       "      <td>0.350080</td>\n",
       "      <td>-0.751120</td>\n",
       "      <td>-1.845183</td>\n",
       "    </tr>\n",
       "    <tr>\n",
       "      <th>2</th>\n",
       "      <td>chartreuse</td>\n",
       "      <td>0.841712</td>\n",
       "      <td>-0.058204</td>\n",
       "      <td>0.246217</td>\n",
       "    </tr>\n",
       "    <tr>\n",
       "      <th>3</th>\n",
       "      <td>red</td>\n",
       "      <td>-0.646260</td>\n",
       "      <td>-1.821082</td>\n",
       "      <td>0.444616</td>\n",
       "    </tr>\n",
       "    <tr>\n",
       "      <th>4</th>\n",
       "      <td>blue</td>\n",
       "      <td>1.423538</td>\n",
       "      <td>2.269409</td>\n",
       "      <td>-1.061053</td>\n",
       "    </tr>\n",
       "  </tbody>\n",
       "</table>\n",
       "</div>"
      ],
      "text/plain": [
       "  wookieecolor    xcoord    ycoord    zcoord\n",
       "0          red -3.410692  0.854400  0.228154\n",
       "1          red  0.350080 -0.751120 -1.845183\n",
       "2   chartreuse  0.841712 -0.058204  0.246217\n",
       "3          red -0.646260 -1.821082  0.444616\n",
       "4         blue  1.423538  2.269409 -1.061053"
      ]
     },
     "execution_count": 4,
     "metadata": {},
     "output_type": "execute_result"
    }
   ],
   "source": [
    "train_data.head()"
   ]
  },
  {
   "cell_type": "code",
   "execution_count": 5,
   "metadata": {},
   "outputs": [
    {
     "data": {
      "text/html": [
       "<div>\n",
       "<style scoped>\n",
       "    .dataframe tbody tr th:only-of-type {\n",
       "        vertical-align: middle;\n",
       "    }\n",
       "\n",
       "    .dataframe tbody tr th {\n",
       "        vertical-align: top;\n",
       "    }\n",
       "\n",
       "    .dataframe thead th {\n",
       "        text-align: right;\n",
       "    }\n",
       "</style>\n",
       "<table border=\"1\" class=\"dataframe\">\n",
       "  <thead>\n",
       "    <tr style=\"text-align: right;\">\n",
       "      <th></th>\n",
       "      <th>wookieecolor</th>\n",
       "      <th>xcoord</th>\n",
       "      <th>ycoord</th>\n",
       "      <th>zcoord</th>\n",
       "    </tr>\n",
       "  </thead>\n",
       "  <tbody>\n",
       "    <tr>\n",
       "      <th>0</th>\n",
       "      <td>chartreuse</td>\n",
       "      <td>-0.500883</td>\n",
       "      <td>3.642656</td>\n",
       "      <td>-0.332794</td>\n",
       "    </tr>\n",
       "    <tr>\n",
       "      <th>1</th>\n",
       "      <td>blue</td>\n",
       "      <td>-0.697365</td>\n",
       "      <td>0.391459</td>\n",
       "      <td>0.913703</td>\n",
       "    </tr>\n",
       "    <tr>\n",
       "      <th>2</th>\n",
       "      <td>red</td>\n",
       "      <td>-0.653677</td>\n",
       "      <td>-1.676559</td>\n",
       "      <td>0.462973</td>\n",
       "    </tr>\n",
       "    <tr>\n",
       "      <th>3</th>\n",
       "      <td>white</td>\n",
       "      <td>-0.843060</td>\n",
       "      <td>0.856792</td>\n",
       "      <td>0.425849</td>\n",
       "    </tr>\n",
       "    <tr>\n",
       "      <th>4</th>\n",
       "      <td>red</td>\n",
       "      <td>-0.939812</td>\n",
       "      <td>0.182101</td>\n",
       "      <td>-1.452490</td>\n",
       "    </tr>\n",
       "  </tbody>\n",
       "</table>\n",
       "</div>"
      ],
      "text/plain": [
       "  wookieecolor    xcoord    ycoord    zcoord\n",
       "0   chartreuse -0.500883  3.642656 -0.332794\n",
       "1         blue -0.697365  0.391459  0.913703\n",
       "2          red -0.653677 -1.676559  0.462973\n",
       "3        white -0.843060  0.856792  0.425849\n",
       "4          red -0.939812  0.182101 -1.452490"
      ]
     },
     "execution_count": 5,
     "metadata": {},
     "output_type": "execute_result"
    }
   ],
   "source": [
    "test_data.head()"
   ]
  },
  {
   "cell_type": "code",
   "execution_count": 6,
   "metadata": {},
   "outputs": [
    {
     "data": {
      "text/html": [
       "<div>\n",
       "<style scoped>\n",
       "    .dataframe tbody tr th:only-of-type {\n",
       "        vertical-align: middle;\n",
       "    }\n",
       "\n",
       "    .dataframe tbody tr th {\n",
       "        vertical-align: top;\n",
       "    }\n",
       "\n",
       "    .dataframe thead th {\n",
       "        text-align: right;\n",
       "    }\n",
       "</style>\n",
       "<table border=\"1\" class=\"dataframe\">\n",
       "  <thead>\n",
       "    <tr style=\"text-align: right;\">\n",
       "      <th></th>\n",
       "      <th>xcoord</th>\n",
       "      <th>ycoord</th>\n",
       "      <th>zcoord</th>\n",
       "    </tr>\n",
       "  </thead>\n",
       "  <tbody>\n",
       "    <tr>\n",
       "      <th>0</th>\n",
       "      <td>-0.420177</td>\n",
       "      <td>-0.403701</td>\n",
       "      <td>-1.367733</td>\n",
       "    </tr>\n",
       "    <tr>\n",
       "      <th>1</th>\n",
       "      <td>-1.552317</td>\n",
       "      <td>1.851824</td>\n",
       "      <td>-0.430991</td>\n",
       "    </tr>\n",
       "    <tr>\n",
       "      <th>2</th>\n",
       "      <td>-0.554652</td>\n",
       "      <td>0.138217</td>\n",
       "      <td>-0.185971</td>\n",
       "    </tr>\n",
       "    <tr>\n",
       "      <th>3</th>\n",
       "      <td>-0.431224</td>\n",
       "      <td>0.007767</td>\n",
       "      <td>0.899117</td>\n",
       "    </tr>\n",
       "    <tr>\n",
       "      <th>4</th>\n",
       "      <td>0.549926</td>\n",
       "      <td>-1.030384</td>\n",
       "      <td>0.799581</td>\n",
       "    </tr>\n",
       "  </tbody>\n",
       "</table>\n",
       "</div>"
      ],
      "text/plain": [
       "     xcoord    ycoord    zcoord\n",
       "0 -0.420177 -0.403701 -1.367733\n",
       "1 -1.552317  1.851824 -0.430991\n",
       "2 -0.554652  0.138217 -0.185971\n",
       "3 -0.431224  0.007767  0.899117\n",
       "4  0.549926 -1.030384  0.799581"
      ]
     },
     "execution_count": 6,
     "metadata": {},
     "output_type": "execute_result"
    }
   ],
   "source": [
    "hold_data.head()"
   ]
  },
  {
   "cell_type": "markdown",
   "metadata": {},
   "source": [
    "## Training Data"
   ]
  },
  {
   "cell_type": "code",
   "execution_count": 8,
   "metadata": {},
   "outputs": [
    {
     "data": {
      "text/plain": [
       "array(['red', 'chartreuse', 'blue', 'white'], dtype=object)"
      ]
     },
     "execution_count": 8,
     "metadata": {},
     "output_type": "execute_result"
    }
   ],
   "source": [
    "train_data['wookieecolor'].unique()"
   ]
  },
  {
   "cell_type": "code",
   "execution_count": 9,
   "metadata": {},
   "outputs": [],
   "source": [
    "reds = train_data[train_data['wookieecolor'] == 'red'].iloc[:, 1:]\n",
    "chartreuses = train_data[train_data['wookieecolor'] == 'chartreuse'].iloc[:, 1:]\n",
    "blues = train_data[train_data['wookieecolor'] == 'blue'].iloc[:, 1:]\n",
    "whites = train_data[train_data['wookieecolor'] == 'white'].iloc[:, 1:]"
   ]
  },
  {
   "cell_type": "code",
   "execution_count": 17,
   "metadata": {},
   "outputs": [
    {
     "data": {
      "image/png": "[encoded data removed]",
      "text/plain": [
       "<Figure size 432x288 with 1 Axes>"
      ]
     },
     "metadata": {},
     "output_type": "display_data"
    }
   ],
   "source": [
    "fig, ax = plt.subplots()\n",
    "ax.set_facecolor('gray')\n",
    "ax.scatter(reds.iloc[:,0], reds.iloc[:,1], c='r', label='red')\n",
    "ax.scatter(chartreuses.iloc[:,0], chartreuses.iloc[:,1], c='g', label='chartreuse')\n",
    "ax.scatter(blues.iloc[:,0], blues.iloc[:,1], c='blue', label='blue')\n",
    "ax.scatter(whites.iloc[:,0], whites.iloc[:,1], c='white', label='white');"
   ]
  },
  {
   "cell_type": "code",
   "execution_count": null,
   "metadata": {},
   "outputs": [],
   "source": []
  },
  {
   "cell_type": "code",
   "execution_count": null,
   "metadata": {},
   "outputs": [],
   "source": []
  },
  {
   "cell_type": "code",
   "execution_count": null,
   "metadata": {},
   "outputs": [],
   "source": []
  },
  {
   "cell_type": "code",
   "execution_count": null,
   "metadata": {},
   "outputs": [],
   "source": []
  },
  {
   "cell_type": "code",
   "execution_count": null,
   "metadata": {},
   "outputs": [],
   "source": []
  },
  {
   "cell_type": "code",
   "execution_count": null,
   "metadata": {},
   "outputs": [],
   "source": []
  },
  {
   "cell_type": "markdown",
   "metadata": {},
   "source": [
    "## Functions"
   ]
  },
  {
   "cell_type": "code",
   "execution_count": 16,
   "metadata": {},
   "outputs": [],
   "source": [
    "# caclualate euclidean distance between two points\n",
    "\n",
    "def euc_dist(coord1, coord2):\n",
    "    \n",
    "    diff_sqr = 0\n",
    "    \n",
    "    for i in range(len(coord1)):\n",
    "        diff_sqr += (coord1[i] - coord2[i])**2\n",
    "    \n",
    "    distance = np.sqrt(diff_sqr)\n",
    "    \n",
    "    return(distance)"
   ]
  },
  {
   "cell_type": "code",
   "execution_count": 17,
   "metadata": {},
   "outputs": [],
   "source": [
    "def knn_classify(X_train, y_train, coords, test_pts, k):\n",
    "    \n",
    "    test_labels = []\n",
    "    \n",
    "    for test_pt in test_pts.values:\n",
    "        \n",
    "        # initialize dataframe to store distance and labels of training observations\n",
    "        knn_df = pd.DataFrame(columns=['distance', 'label'])\n",
    "        # calculate distance to all training ovservations\n",
    "        knn_df['distance'] = X_train.apply(lambda x: euc_dist(test_pt, x[coords]), axis=1)\n",
    "        # input all training labels\n",
    "        knn_df['label'] = y_train\n",
    "        # sort dataframe by closest distance to training observations\n",
    "        knn_df.sort_values(by='distance', inplace=True)\n",
    "        # select most frequent label in k observations\n",
    "        test_labels.append(knn_df.iloc[0:k, :]['label'].mode()[0])\n",
    "    \n",
    "    return(test_labels)"
   ]
  },
  {
   "cell_type": "markdown",
   "metadata": {},
   "source": [
    "## Test Model"
   ]
  },
  {
   "cell_type": "code",
   "execution_count": 18,
   "metadata": {},
   "outputs": [],
   "source": [
    "test_predicts = knn_classify(train_X, train_y, coords, test_X, 1)"
   ]
  },
  {
   "cell_type": "code",
   "execution_count": 19,
   "metadata": {},
   "outputs": [
    {
     "data": {
      "text/plain": [
       "0.688"
      ]
     },
     "execution_count": 19,
     "metadata": {},
     "output_type": "execute_result"
    }
   ],
   "source": [
    "sum(test_predicts == test_y) / len(test_y)"
   ]
  },
  {
   "cell_type": "code",
   "execution_count": 20,
   "metadata": {},
   "outputs": [],
   "source": [
    "k_num = 5"
   ]
  },
  {
   "cell_type": "code",
   "execution_count": null,
   "metadata": {},
   "outputs": [],
   "source": [
    "acc = []\n",
    "\n",
    "for k in range(k_num):\n",
    "    test_predicts = knn_classify(train_X, train_y, coords, test_X, k + 1)\n",
    "    acc.append(sum(test_predicts == test_y) / len(test_y) * 100)"
   ]
  },
  {
   "cell_type": "code",
   "execution_count": null,
   "metadata": {},
   "outputs": [],
   "source": [
    "fig, ax = plt.subplots(figsize=(10, 7))\n",
    "\n",
    "ax.plot(range(k_num), acc)\n",
    "ax.set_ylim(0, 100)\n",
    "ax.set_ylabel('Accuracy')\n",
    "ax.set_xlabel('k-value')"
   ]
  },
  {
   "cell_type": "markdown",
   "metadata": {},
   "source": [
    "## Model Predictions"
   ]
  },
  {
   "cell_type": "code",
   "execution_count": null,
   "metadata": {},
   "outputs": [],
   "source": [
    "test_predicts = knn_classify(train_X, train_y, coords, hold_data, 3)"
   ]
  },
  {
   "cell_type": "code",
   "execution_count": null,
   "metadata": {},
   "outputs": [],
   "source": [
    "test_predicts"
   ]
  },
  {
   "cell_type": "code",
   "execution_count": null,
   "metadata": {},
   "outputs": [],
   "source": []
  }
 ],
 "metadata": {
  "kernelspec": {
   "display_name": "Python 3",
   "language": "python",
   "name": "python3"
  },
  "language_info": {
   "codemirror_mode": {
    "name": "ipython",
    "version": 3
   },
   "file_extension": ".py",
   "mimetype": "text/x-python",
   "name": "python",
   "nbconvert_exporter": "python",
   "pygments_lexer": "ipython3",
   "version": "3.6.5"
  }
 },
 "nbformat": 4,
 "nbformat_minor": 2
}
