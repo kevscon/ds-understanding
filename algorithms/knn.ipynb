{
 "cells": [
  {
   "cell_type": "markdown",
   "metadata": {},
   "source": [
    "# Imports"
   ]
  },
  {
   "cell_type": "code",
   "execution_count": 1,
   "metadata": {},
   "outputs": [],
   "source": [
    "import random\n",
    "import numpy as np\n",
    "from collections import Counter\n",
    "import matplotlib.pyplot as plt"
   ]
  },
  {
   "cell_type": "markdown",
   "metadata": {},
   "source": [
    "# Functions\n",
    "Calculate euclidean distance between two points"
   ]
  },
  {
   "cell_type": "code",
   "execution_count": 2,
   "metadata": {},
   "outputs": [],
   "source": [
    "def eucl_dist(A, B):\n",
    "    squares = [(a - b)**2 for a, b in zip(A, B)]\n",
    "    return(sum(squares)**0.5)"
   ]
  },
  {
   "cell_type": "markdown",
   "metadata": {},
   "source": [
    "# KNN Example in 2-D"
   ]
  },
  {
   "cell_type": "markdown",
   "metadata": {},
   "source": [
    "## Generate Data"
   ]
  },
  {
   "cell_type": "code",
   "execution_count": 3,
   "metadata": {},
   "outputs": [],
   "source": [
    "# number of groups\n",
    "num_grps = 3"
   ]
  },
  {
   "cell_type": "code",
   "execution_count": 4,
   "metadata": {},
   "outputs": [],
   "source": [
    "# minimum number of points per group\n",
    "min_pts = 5"
   ]
  },
  {
   "cell_type": "code",
   "execution_count": 5,
   "metadata": {},
   "outputs": [],
   "source": [
    "# maximum number of points per group\n",
    "max_pts = 50"
   ]
  },
  {
   "cell_type": "code",
   "execution_count": 6,
   "metadata": {},
   "outputs": [],
   "source": [
    "data = []\n",
    "# generate randomized data set for each group\n",
    "for i in range(num_grps):\n",
    "    # random size of group based on limits\n",
    "    size = np.random.randint(min_pts, max_pts+1)\n",
    "    # assign x values (random centroid with noise)\n",
    "    x = np.random.randint(1, 11, size=2)[0] + np.random.normal(0, 1.5, size=size)\n",
    "    # assign y values (random centroid with noise)\n",
    "    y = np.random.randint(1, 11, size=2)[0] + np.random.normal(0, 1.5, size=size)\n",
    "    # assign group to points\n",
    "    grp = ['Group ' + str(i+1)] * size\n",
    "    # combine x, y coords and group and add to data list\n",
    "    data += [i for i in zip(x, y, grp)]"
   ]
  },
  {
   "cell_type": "code",
   "execution_count": 7,
   "metadata": {},
   "outputs": [],
   "source": [
    "# select test set from data (20%)\n",
    "test_set = random.sample(data, int(len(data) * 0.2))\n",
    "# define variable with only test coordinates\n",
    "test_pts = [(pt[0], pt[1]) for pt in test_set]\n",
    "# define variable with test groups\n",
    "test_grp = [pt[2] for pt in test_set]"
   ]
  },
  {
   "cell_type": "code",
   "execution_count": 8,
   "metadata": {},
   "outputs": [],
   "source": [
    "# designate training data\n",
    "train_set = [i for i in data if i not in test_set]\n",
    "# define variable with only train coordinates\n",
    "train_pts = [(pt[0], pt[1]) for pt in train_set]\n",
    "# define variable containing train groups\n",
    "train_grp = [pt[2] for pt in train_set]"
   ]
  },
  {
   "cell_type": "code",
   "execution_count": 9,
   "metadata": {},
   "outputs": [
    {
     "data": {
      "image/png": "[encoded data removed]",
      "text/plain": [
       "<Figure size 432x288 with 1 Axes>"
      ]
     },
     "metadata": {},
     "output_type": "display_data"
    }
   ],
   "source": [
    "# plot training set\n",
    "fig, ax = plt.subplots()\n",
    "# iterate through all groups in training set\n",
    "for i in range(num_grps):\n",
    "    # prepare label for training group\n",
    "    group = sorted(list(set(train_grp)))[i]\n",
    "    # all x values for training group\n",
    "    x_val = [pt[0] for pt in train_set if pt[2] == group]\n",
    "    # all y values for training group\n",
    "    y_val = [pt[1] for pt in train_set if pt[2] == group]\n",
    "    # plot all training points by group\n",
    "    ax.scatter(x_val, y_val, label=group)\n",
    "ax.legend(loc='center left', bbox_to_anchor=(1, 0.5));"
   ]
  },
  {
   "cell_type": "code",
   "execution_count": 10,
   "metadata": {},
   "outputs": [
    {
     "data": {
      "image/png": "[encoded data removed]",
      "text/plain": [
       "<Figure size 432x288 with 1 Axes>"
      ]
     },
     "metadata": {},
     "output_type": "display_data"
    }
   ],
   "source": [
    "# plot test set with training set\n",
    "fig, ax = plt.subplots()\n",
    "for i in range(num_grps):\n",
    "    group = sorted(list(set(train_grp)))[i]\n",
    "    x_val = [pt[0] for pt in train_set if pt[2] == group]\n",
    "    y_val = [pt[1] for pt in train_set if pt[2] == group]\n",
    "    ax.scatter(x_val, y_val, label=group)\n",
    "# all x values for test points\n",
    "test_x = [pt[0] for pt in test_pts]\n",
    "# all y values for test points\n",
    "test_y = [pt[1] for pt in test_pts]\n",
    "# add test points to plot\n",
    "ax.scatter(test_x, test_y, label='Test Point', c='black')\n",
    "ax.legend(loc='center left', bbox_to_anchor=(1, 0.5));"
   ]
  },
  {
   "cell_type": "markdown",
   "metadata": {},
   "source": [
    "## Classify Test Set"
   ]
  },
  {
   "cell_type": "code",
   "execution_count": 11,
   "metadata": {},
   "outputs": [],
   "source": [
    "# number of nearest neighbors for predictions\n",
    "k_num = 3"
   ]
  },
  {
   "cell_type": "code",
   "execution_count": 12,
   "metadata": {},
   "outputs": [
    {
     "data": {
      "text/plain": [
       "[(4.753505946999526, 4.524329888865637, 'Group 2'),\n",
       " (1.78412126134453, 2.928879959410746, 'Group 2'),\n",
       " (3.923338949508203, 4.062932364606692, 'Group 1'),\n",
       " (0.1443335876208911, 3.97922546387342, 'Group 2'),\n",
       " (3.1005824739929566, 1.581740717154541, 'Group 2'),\n",
       " (4.71797635100359, 8.232419553266165, 'Group 3'),\n",
       " (1.390755331298041, 3.4672727943158423, 'Group 2'),\n",
       " (0.7804772454144597, 2.6175771218360513, 'Group 2'),\n",
       " (3.6432746938866822, 5.108744438656159, 'Group 1'),\n",
       " (5.363427492433084, 6.018811553987962, 'Group 1'),\n",
       " (3.3919530151919224, 3.9659223965155226, 'Group 1'),\n",
       " (2.394890010091244, -0.26891532465771384, 'Group 2'),\n",
       " (4.504647364792677, 3.6200698438322796, 'Group 1'),\n",
       " (7.626974459959493, 5.770148609943934, 'Group 3'),\n",
       " (4.692590646946136, 4.929561624759414, 'Group 1'),\n",
       " (0.6282197073492828, 2.1577759320311016, 'Group 2')]"
      ]
     },
     "execution_count": 12,
     "metadata": {},
     "output_type": "execute_result"
    }
   ],
   "source": [
    "test_preds = []\n",
    "# predict group for each test point\n",
    "for point in test_pts:\n",
    "    # calculate distance from all training points to test point\n",
    "    dists = list(map(eucl_dist, train_pts, [point]*len(train_pts)))\n",
    "    # return the indices for test point's nearest neighbors\n",
    "    min_dists = np.argsort(dists)[:k_num]\n",
    "    # return the nearest neighbors\n",
    "    test_pt_nns = [train_set[i] for i in np.argsort(dists)[:k_num]]\n",
    "    # find mode of nearest neighbor groups for test point prediction\n",
    "    grp_pred = Counter([point[2] for point in test_pt_nns]).most_common(1)[0][0]\n",
    "    test_preds.append((point[0], point[1], grp_pred))\n",
    "test_preds"
   ]
  },
  {
   "cell_type": "code",
   "execution_count": 13,
   "metadata": {},
   "outputs": [
    {
     "data": {
      "image/png": "[encoded data removed]",
      "text/plain": [
       "<Figure size 432x288 with 1 Axes>"
      ]
     },
     "metadata": {},
     "output_type": "display_data"
    }
   ],
   "source": [
    "# plot predicted test set with train set\n",
    "fig, ax = plt.subplots()\n",
    "for i in range(num_grps):\n",
    "    group = sorted(list(set(train_grp)))[i]\n",
    "    x_val = [pt[0] for pt in train_set if pt[2] == group]\n",
    "    y_val = [pt[1] for pt in train_set if pt[2] == group]\n",
    "    x_val.extend([pt[0] for pt in test_preds if pt[2] == group])\n",
    "    y_val.extend([pt[1] for pt in test_preds if pt[2] == group])\n",
    "    ax.scatter(x_val, y_val, label=group)"
   ]
  },
  {
   "cell_type": "markdown",
   "metadata": {},
   "source": [
    "## Evaluate Model"
   ]
  },
  {
   "cell_type": "code",
   "execution_count": 14,
   "metadata": {},
   "outputs": [
    {
     "data": {
      "image/png": "[encoded data removed]",
      "text/plain": [
       "<Figure size 432x288 with 1 Axes>"
      ]
     },
     "metadata": {},
     "output_type": "display_data"
    }
   ],
   "source": [
    "# plot actual test and train sets\n",
    "fig, ax = plt.subplots()\n",
    "for i in range(num_grps):\n",
    "    group = sorted(list(set([pt[2] for pt in data])))[i]\n",
    "    x_val = [pt[0] for pt in data if pt[2] == group]\n",
    "    y_val = [pt[1] for pt in data if pt[2] == group]\n",
    "    ax.scatter(x_val, y_val, label=group)\n",
    "ax.legend(loc='center left', bbox_to_anchor=(1, 0.5));"
   ]
  },
  {
   "cell_type": "code",
   "execution_count": 15,
   "metadata": {},
   "outputs": [
    {
     "data": {
      "text/plain": [
       "0.6875"
      ]
     },
     "execution_count": 15,
     "metadata": {},
     "output_type": "execute_result"
    }
   ],
   "source": [
    "# calculate model prediction accuracy\n",
    "sum(list(map(lambda x, y: x == y, [item[2] for item in test_preds], test_grp))) / len(test_set)"
   ]
  },
  {
   "cell_type": "markdown",
   "metadata": {},
   "source": [
    "## Find Optimal k value"
   ]
  },
  {
   "cell_type": "code",
   "execution_count": 16,
   "metadata": {},
   "outputs": [],
   "source": [
    "# maximum number of nearest neighbors\n",
    "k_num_max = 10"
   ]
  },
  {
   "cell_type": "code",
   "execution_count": 17,
   "metadata": {},
   "outputs": [],
   "source": [
    "acc = []\n",
    "for n in range(1, k_num_max+1):\n",
    "    \n",
    "    test_preds = []\n",
    "    # predict group for each test point\n",
    "    for point in test_pts:\n",
    "        # calculate distance from all training points to test point\n",
    "        dists = list(map(eucl_dist, train_pts, [point]*len(train_pts)))\n",
    "        # return the indices for test point's nearest neighbors\n",
    "        min_dists = np.argsort(dists)[:n]\n",
    "        # return the nearest neighbors\n",
    "        test_pt_nns = [train_set[i] for i in np.argsort(dists)[:n]]\n",
    "        # find mode of nearest neighbor groups for test point prediction\n",
    "        grp_pred = Counter([point[2] for point in test_pt_nns]).most_common(1)[0][0]\n",
    "        test_preds.append((point[0], point[1], grp_pred))\n",
    "    acc.append(sum(list(map(lambda x, y: x == y, [item[2] for item in test_preds], test_grp))) / len(test_set))"
   ]
  },
  {
   "cell_type": "code",
   "execution_count": 18,
   "metadata": {},
   "outputs": [
    {
     "data": {
      "image/png": "[encoded data removed]",
      "text/plain": [
       "<Figure size 432x288 with 1 Axes>"
      ]
     },
     "metadata": {},
     "output_type": "display_data"
    }
   ],
   "source": [
    "# select k value with highest accuracy\n",
    "plt.plot(range(1, k_num_max+1), acc)\n",
    "plt.xlabel('Number Nearest Neighors')\n",
    "plt.ylabel('Accuracy');"
   ]
  },
  {
   "cell_type": "markdown",
   "metadata": {},
   "source": [
    "# Sklearn KNN"
   ]
  },
  {
   "cell_type": "code",
   "execution_count": 19,
   "metadata": {},
   "outputs": [],
   "source": [
    "from sklearn.neighbors import KNeighborsClassifier"
   ]
  },
  {
   "cell_type": "code",
   "execution_count": 20,
   "metadata": {},
   "outputs": [],
   "source": [
    "# create instance of KNN model with input for number of nearest neighbors\n",
    "knn = KNeighborsClassifier(n_neighbors=3)"
   ]
  },
  {
   "cell_type": "code",
   "execution_count": 21,
   "metadata": {},
   "outputs": [
    {
     "data": {
      "text/plain": [
       "KNeighborsClassifier(algorithm='auto', leaf_size=30, metric='minkowski',\n",
       "           metric_params=None, n_jobs=1, n_neighbors=3, p=2,\n",
       "           weights='uniform')"
      ]
     },
     "execution_count": 21,
     "metadata": {},
     "output_type": "execute_result"
    }
   ],
   "source": [
    "# fit model to training data\n",
    "knn.fit(train_pts, train_grp)"
   ]
  },
  {
   "cell_type": "code",
   "execution_count": 22,
   "metadata": {},
   "outputs": [
    {
     "data": {
      "text/plain": [
       "array(['Group 2', 'Group 2', 'Group 1', 'Group 2', 'Group 2', 'Group 3',\n",
       "       'Group 2', 'Group 2', 'Group 1', 'Group 1', 'Group 1', 'Group 2',\n",
       "       'Group 1', 'Group 3', 'Group 1', 'Group 2'], dtype='<U7')"
      ]
     },
     "execution_count": 22,
     "metadata": {},
     "output_type": "execute_result"
    }
   ],
   "source": [
    "# output model predictions for test data\n",
    "knn.predict(test_pts)"
   ]
  },
  {
   "cell_type": "code",
   "execution_count": 23,
   "metadata": {},
   "outputs": [
    {
     "data": {
      "text/plain": [
       "array(['Group 1', 'Group 2', 'Group 3'], dtype='<U7')"
      ]
     },
     "execution_count": 23,
     "metadata": {},
     "output_type": "execute_result"
    }
   ],
   "source": [
    "# output model labels\n",
    "knn.classes_"
   ]
  },
  {
   "cell_type": "code",
   "execution_count": 24,
   "metadata": {},
   "outputs": [
    {
     "data": {
      "text/plain": [
       "array([[0.33333333, 0.66666667, 0.        ],\n",
       "       [0.        , 1.        , 0.        ],\n",
       "       [1.        , 0.        , 0.        ],\n",
       "       [0.33333333, 0.66666667, 0.        ],\n",
       "       [0.33333333, 0.66666667, 0.        ],\n",
       "       [0.33333333, 0.        , 0.66666667],\n",
       "       [0.33333333, 0.66666667, 0.        ],\n",
       "       [0.        , 1.        , 0.        ],\n",
       "       [1.        , 0.        , 0.        ],\n",
       "       [0.66666667, 0.33333333, 0.        ],\n",
       "       [0.66666667, 0.33333333, 0.        ],\n",
       "       [0.        , 1.        , 0.        ],\n",
       "       [0.66666667, 0.33333333, 0.        ],\n",
       "       [0.33333333, 0.        , 0.66666667],\n",
       "       [1.        , 0.        , 0.        ],\n",
       "       [0.        , 1.        , 0.        ]])"
      ]
     },
     "execution_count": 24,
     "metadata": {},
     "output_type": "execute_result"
    }
   ],
   "source": [
    "# output model prediction probabilities for each label\n",
    "knn.predict_proba(test_pts)"
   ]
  },
  {
   "cell_type": "markdown",
   "metadata": {},
   "source": [
    "## Evaluate Model"
   ]
  },
  {
   "cell_type": "code",
   "execution_count": 25,
   "metadata": {},
   "outputs": [],
   "source": [
    "from sklearn import metrics"
   ]
  },
  {
   "cell_type": "code",
   "execution_count": 26,
   "metadata": {},
   "outputs": [
    {
     "data": {
      "text/plain": [
       "0.6875"
      ]
     },
     "execution_count": 26,
     "metadata": {},
     "output_type": "execute_result"
    }
   ],
   "source": [
    "# return accuracy score of model predictions\n",
    "metrics.accuracy_score(test_grp, knn.predict(test_pts))"
   ]
  },
  {
   "cell_type": "code",
   "execution_count": null,
   "metadata": {},
   "outputs": [],
   "source": []
  }
 ],
 "metadata": {
  "kernelspec": {
   "display_name": "Python 3",
   "language": "python",
   "name": "python3"
  },
  "language_info": {
   "codemirror_mode": {
    "name": "ipython",
    "version": 3
   },
   "file_extension": ".py",
   "mimetype": "text/x-python",
   "name": "python",
   "nbconvert_exporter": "python",
   "pygments_lexer": "ipython3",
   "version": "3.6.5"
  }
 },
 "nbformat": 4,
 "nbformat_minor": 2
}
