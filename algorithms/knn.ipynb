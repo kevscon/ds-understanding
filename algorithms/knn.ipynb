{
 "cells": [
  {
   "cell_type": "markdown",
   "metadata": {},
   "source": [
    "# Imports"
   ]
  },
  {
   "cell_type": "code",
   "execution_count": 1,
   "metadata": {},
   "outputs": [],
   "source": [
    "import random\n",
    "import numpy as np\n",
    "from collections import Counter\n",
    "import matplotlib.pyplot as plt"
   ]
  },
  {
   "cell_type": "markdown",
   "metadata": {},
   "source": [
    "# Functions\n",
    "Calculate euclidean distance between two points"
   ]
  },
  {
   "cell_type": "code",
   "execution_count": 2,
   "metadata": {},
   "outputs": [],
   "source": [
    "def eucl_dist(A, B):\n",
    "    squares = [(a - b)**2 for a, b in zip(A, B)]\n",
    "    return(sum(squares)**0.5)"
   ]
  },
  {
   "cell_type": "markdown",
   "metadata": {},
   "source": [
    "# KNN Example in 2-D"
   ]
  },
  {
   "cell_type": "markdown",
   "metadata": {},
   "source": [
    "## Generate Data"
   ]
  },
  {
   "cell_type": "code",
   "execution_count": 3,
   "metadata": {},
   "outputs": [],
   "source": [
    "# number of groups\n",
    "num_grps = 3"
   ]
  },
  {
   "cell_type": "code",
   "execution_count": 4,
   "metadata": {},
   "outputs": [],
   "source": [
    "# minimum number of points per group\n",
    "min_pts = 5"
   ]
  },
  {
   "cell_type": "code",
   "execution_count": 5,
   "metadata": {},
   "outputs": [],
   "source": [
    "# maximum number of points per group\n",
    "max_pts = 50"
   ]
  },
  {
   "cell_type": "code",
   "execution_count": 6,
   "metadata": {},
   "outputs": [],
   "source": [
    "data = []\n",
    "# generate randomized data set for each group\n",
    "for i in range(num_grps):\n",
    "    # random size of group based on limits\n",
    "    size = np.random.randint(min_pts, max_pts+1)\n",
    "    # assign x values (random centroid with noise)\n",
    "    x = np.random.randint(1, 11, size=2)[0] + np.random.normal(0, 1.5, size=size)\n",
    "    # assign y values (random centroid with noise)\n",
    "    y = np.random.randint(1, 11, size=2)[0] + np.random.normal(0, 1.5, size=size)\n",
    "    # assign group to points\n",
    "    grp = ['Group ' + str(i+1)] * size\n",
    "    # combine x, y coords and group and add to data list\n",
    "    data += [i for i in zip(x, y, grp)]"
   ]
  },
  {
   "cell_type": "code",
   "execution_count": 7,
   "metadata": {},
   "outputs": [],
   "source": [
    "# select test set from data (20%)\n",
    "test_set = random.sample(data, int(len(data) * 0.2))\n",
    "# define variable with only test coordinates\n",
    "test_pts = [(pt[0], pt[1]) for pt in test_set]\n",
    "# define variable with test groups\n",
    "test_grp = [pt[2] for pt in test_set]"
   ]
  },
  {
   "cell_type": "code",
   "execution_count": 8,
   "metadata": {},
   "outputs": [],
   "source": [
    "# designate training data\n",
    "train_set = [i for i in data if i not in test_set]\n",
    "# define variable with only train coordinates\n",
    "train_pts = [(pt[0], pt[1]) for pt in train_set]\n",
    "# define variable containing train groups\n",
    "train_grp = [pt[2] for pt in train_set]"
   ]
  },
  {
   "cell_type": "code",
   "execution_count": 9,
   "metadata": {},
   "outputs": [
    {
     "data": {
      "image/png": "[encoded data removed]",
      "text/plain": [
       "<Figure size 432x288 with 1 Axes>"
      ]
     },
     "metadata": {},
     "output_type": "display_data"
    }
   ],
   "source": [
    "# plot training set\n",
    "fig, ax = plt.subplots()\n",
    "# iterate through all groups in training set\n",
    "for i in range(num_grps):\n",
    "    # prepare label for training group\n",
    "    group = sorted(list(set(train_grp)))[i]\n",
    "    # all x values for training group\n",
    "    x_val = [pt[0] for pt in train_set if pt[2] == group]\n",
    "    # all y values for training group\n",
    "    y_val = [pt[1] for pt in train_set if pt[2] == group]\n",
    "    # plot all training points by group\n",
    "    ax.scatter(x_val, y_val, label=group)\n",
    "ax.legend(loc='center left', bbox_to_anchor=(1, 0.5));"
   ]
  },
  {
   "cell_type": "code",
   "execution_count": 10,
   "metadata": {},
   "outputs": [
    {
     "data": {
      "image/png": "[encoded data removed]",
      "text/plain": [
       "<Figure size 432x288 with 1 Axes>"
      ]
     },
     "metadata": {},
     "output_type": "display_data"
    }
   ],
   "source": [
    "# plot test set with training set\n",
    "fig, ax = plt.subplots()\n",
    "for i in range(num_grps):\n",
    "    group = sorted(list(set(train_grp)))[i]\n",
    "    x_val = [pt[0] for pt in train_set if pt[2] == group]\n",
    "    y_val = [pt[1] for pt in train_set if pt[2] == group]\n",
    "    ax.scatter(x_val, y_val, label=group)\n",
    "# all x values for test points\n",
    "test_x = [pt[0] for pt in test_pts]\n",
    "# all y values for test points\n",
    "test_y = [pt[1] for pt in test_pts]\n",
    "# add test points to plot\n",
    "ax.scatter(test_x, test_y, label='Test Point', c='black')\n",
    "ax.legend(loc='center left', bbox_to_anchor=(1, 0.5));"
   ]
  },
  {
   "cell_type": "markdown",
   "metadata": {},
   "source": [
    "## Classify Test Set"
   ]
  },
  {
   "cell_type": "code",
   "execution_count": 11,
   "metadata": {},
   "outputs": [],
   "source": [
    "# number of nearest neighbors for predictions\n",
    "k_num = 3"
   ]
  },
  {
   "cell_type": "code",
   "execution_count": 12,
   "metadata": {},
   "outputs": [
    {
     "data": {
      "text/plain": [
       "[(6.818928656284214, 4.3740142970112865, 'Group 3'),\n",
       " (6.126884796553082, 4.154915985395975, 'Group 3'),\n",
       " (5.002558654905181, 9.287402025653854, 'Group 2'),\n",
       " (3.4487075406852163, 3.0566068030848137, 'Group 3'),\n",
       " (2.7235018752851765, 1.5803562430841556, 'Group 3'),\n",
       " (4.989009744783136, 11.058506710530029, 'Group 1'),\n",
       " (3.526075650281452, 8.507796459755728, 'Group 2'),\n",
       " (2.483060472110752, 8.801738384878949, 'Group 2'),\n",
       " (4.204867203461108, 0.9380228457124038, 'Group 3'),\n",
       " (2.705053442000585, 9.306861193406972, 'Group 2'),\n",
       " (4.83961488917925, 2.6903746787419607, 'Group 3'),\n",
       " (4.823413349125162, 3.626234365348499, 'Group 3'),\n",
       " (6.464006625049972, 4.751732783621892, 'Group 3'),\n",
       " (4.684689320058164, 4.12486591203704, 'Group 3')]"
      ]
     },
     "execution_count": 12,
     "metadata": {},
     "output_type": "execute_result"
    }
   ],
   "source": [
    "test_preds = []\n",
    "# predict group for each test point\n",
    "for point in test_pts:\n",
    "    # calculate distance from all training points to test point\n",
    "    dists = list(map(eucl_dist, train_pts, [point]*len(train_pts)))\n",
    "    # return the indices for test point's nearest neighbors\n",
    "    min_dists = np.argsort(dists)[:k_num]\n",
    "    # return the nearest neighbors\n",
    "    test_pt_nns = [train_set[i] for i in np.argsort(dists)[:k_num]]\n",
    "    # find mode of nearest neighbor groups for test point prediction\n",
    "    grp_pred = Counter([point[2] for point in test_pt_nns]).most_common(1)[0][0]\n",
    "    test_preds.append((point[0], point[1], grp_pred))\n",
    "test_preds"
   ]
  },
  {
   "cell_type": "code",
   "execution_count": 13,
   "metadata": {},
   "outputs": [
    {
     "data": {
      "image/png": "[encoded data removed]",
      "text/plain": [
       "<Figure size 432x288 with 1 Axes>"
      ]
     },
     "metadata": {},
     "output_type": "display_data"
    }
   ],
   "source": [
    "# plot predicted test set with train set\n",
    "fig, ax = plt.subplots()\n",
    "for i in range(num_grps):\n",
    "    group = sorted(list(set(train_grp)))[i]\n",
    "    x_val = [pt[0] for pt in train_set if pt[2] == group]\n",
    "    y_val = [pt[1] for pt in train_set if pt[2] == group]\n",
    "    x_val.extend([pt[0] for pt in test_preds if pt[2] == group])\n",
    "    y_val.extend([pt[1] for pt in test_preds if pt[2] == group])\n",
    "    ax.scatter(x_val, y_val, label=group)"
   ]
  },
  {
   "cell_type": "markdown",
   "metadata": {},
   "source": [
    "## Evaluate Model"
   ]
  },
  {
   "cell_type": "code",
   "execution_count": 14,
   "metadata": {},
   "outputs": [
    {
     "data": {
      "image/png": "[encoded data removed]",
      "text/plain": [
       "<Figure size 432x288 with 1 Axes>"
      ]
     },
     "metadata": {},
     "output_type": "display_data"
    }
   ],
   "source": [
    "# plot actual test and train sets\n",
    "fig, ax = plt.subplots()\n",
    "for i in range(num_grps):\n",
    "    group = sorted(list(set([pt[2] for pt in data])))[i]\n",
    "    x_val = [pt[0] for pt in data if pt[2] == group]\n",
    "    y_val = [pt[1] for pt in data if pt[2] == group]\n",
    "    ax.scatter(x_val, y_val, label=group)\n",
    "ax.legend(loc='center left', bbox_to_anchor=(1, 0.5));"
   ]
  },
  {
   "cell_type": "code",
   "execution_count": 15,
   "metadata": {},
   "outputs": [
    {
     "data": {
      "text/plain": [
       "1.0"
      ]
     },
     "execution_count": 15,
     "metadata": {},
     "output_type": "execute_result"
    }
   ],
   "source": [
    "# calculate model prediction accuracy\n",
    "sum(list(map(lambda x, y: x == y, [item[2] for item in test_preds], test_grp))) / len(test_set)"
   ]
  },
  {
   "cell_type": "markdown",
   "metadata": {},
   "source": [
    "## Find Optimal k value"
   ]
  },
  {
   "cell_type": "code",
   "execution_count": 16,
   "metadata": {},
   "outputs": [],
   "source": [
    "# maximum number of nearest neighbors\n",
    "k_num_max = 10"
   ]
  },
  {
   "cell_type": "code",
   "execution_count": 17,
   "metadata": {},
   "outputs": [],
   "source": [
    "acc = []\n",
    "for n in range(1, k_num_max+1):\n",
    "    \n",
    "    test_preds = []\n",
    "    # predict group for each test point\n",
    "    for point in test_pts:\n",
    "        # calculate distance from all training points to test point\n",
    "        dists = list(map(eucl_dist, train_pts, [point]*len(train_pts)))\n",
    "        # return the indices for test point's nearest neighbors\n",
    "        min_dists = np.argsort(dists)[:n]\n",
    "        # return the nearest neighbors\n",
    "        test_pt_nns = [train_set[i] for i in np.argsort(dists)[:n]]\n",
    "        # find mode of nearest neighbor groups for test point prediction\n",
    "        grp_pred = Counter([point[2] for point in test_pt_nns]).most_common(1)[0][0]\n",
    "        test_preds.append((point[0], point[1], grp_pred))\n",
    "    acc.append(sum(list(map(lambda x, y: x == y, [item[2] for item in test_preds], test_grp))) / len(test_set))"
   ]
  },
  {
   "cell_type": "code",
   "execution_count": 18,
   "metadata": {},
   "outputs": [
    {
     "data": {
      "image/png": "[encoded data removed]",
      "text/plain": [
       "<Figure size 432x288 with 1 Axes>"
      ]
     },
     "metadata": {},
     "output_type": "display_data"
    }
   ],
   "source": [
    "plt.plot(range(1, k_num_max+1), acc)\n",
    "plt.xlabel('Number Nearest Neighors')\n",
    "plt.ylabel('Accuracy');"
   ]
  },
  {
   "cell_type": "code",
   "execution_count": null,
   "metadata": {},
   "outputs": [],
   "source": []
  }
 ],
 "metadata": {
  "kernelspec": {
   "display_name": "Python 3",
   "language": "python",
   "name": "python3"
  },
  "language_info": {
   "codemirror_mode": {
    "name": "ipython",
    "version": 3
   },
   "file_extension": ".py",
   "mimetype": "text/x-python",
   "name": "python",
   "nbconvert_exporter": "python",
   "pygments_lexer": "ipython3",
   "version": "3.6.5"
  }
 },
 "nbformat": 4,
 "nbformat_minor": 2
}
