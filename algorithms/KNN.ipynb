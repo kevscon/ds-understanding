{
 "cells": [
  {
   "cell_type": "code",
   "execution_count": 6,
   "metadata": {},
   "outputs": [],
   "source": [
    "import pandas as pd\n",
    "import numpy as np\n",
    "import matplotlib.pyplot as plt\n",
    "plt.style.use('fivethirtyeight')"
   ]
  },
  {
   "cell_type": "code",
   "execution_count": 7,
   "metadata": {},
   "outputs": [],
   "source": [
    "train_data = pd.read_csv('data/wookiee-train.csv', index_col=0)\n",
    "test_data = pd.read_csv('data/wookiee-test.csv', index_col=0)\n",
    "hold_data = pd.read_csv('data/wookiee-ho.csv', index_col=0)"
   ]
  },
  {
   "cell_type": "code",
   "execution_count": 8,
   "metadata": {
    "scrolled": true
   },
   "outputs": [
    {
     "data": {
      "text/html": [
       "<div>\n",
       "<style scoped>\n",
       "    .dataframe tbody tr th:only-of-type {\n",
       "        vertical-align: middle;\n",
       "    }\n",
       "\n",
       "    .dataframe tbody tr th {\n",
       "        vertical-align: top;\n",
       "    }\n",
       "\n",
       "    .dataframe thead th {\n",
       "        text-align: right;\n",
       "    }\n",
       "</style>\n",
       "<table border=\"1\" class=\"dataframe\">\n",
       "  <thead>\n",
       "    <tr style=\"text-align: right;\">\n",
       "      <th></th>\n",
       "      <th>wookieecolor</th>\n",
       "      <th>xcoord</th>\n",
       "      <th>ycoord</th>\n",
       "      <th>zcoord</th>\n",
       "    </tr>\n",
       "  </thead>\n",
       "  <tbody>\n",
       "    <tr>\n",
       "      <th>0</th>\n",
       "      <td>red</td>\n",
       "      <td>-3.410692</td>\n",
       "      <td>0.854400</td>\n",
       "      <td>0.228154</td>\n",
       "    </tr>\n",
       "    <tr>\n",
       "      <th>1</th>\n",
       "      <td>red</td>\n",
       "      <td>0.350080</td>\n",
       "      <td>-0.751120</td>\n",
       "      <td>-1.845183</td>\n",
       "    </tr>\n",
       "    <tr>\n",
       "      <th>2</th>\n",
       "      <td>chartreuse</td>\n",
       "      <td>0.841712</td>\n",
       "      <td>-0.058204</td>\n",
       "      <td>0.246217</td>\n",
       "    </tr>\n",
       "    <tr>\n",
       "      <th>3</th>\n",
       "      <td>red</td>\n",
       "      <td>-0.646260</td>\n",
       "      <td>-1.821082</td>\n",
       "      <td>0.444616</td>\n",
       "    </tr>\n",
       "    <tr>\n",
       "      <th>4</th>\n",
       "      <td>blue</td>\n",
       "      <td>1.423538</td>\n",
       "      <td>2.269409</td>\n",
       "      <td>-1.061053</td>\n",
       "    </tr>\n",
       "  </tbody>\n",
       "</table>\n",
       "</div>"
      ],
      "text/plain": [
       "  wookieecolor    xcoord    ycoord    zcoord\n",
       "0          red -3.410692  0.854400  0.228154\n",
       "1          red  0.350080 -0.751120 -1.845183\n",
       "2   chartreuse  0.841712 -0.058204  0.246217\n",
       "3          red -0.646260 -1.821082  0.444616\n",
       "4         blue  1.423538  2.269409 -1.061053"
      ]
     },
     "execution_count": 8,
     "metadata": {},
     "output_type": "execute_result"
    }
   ],
   "source": [
    "train_data.head()"
   ]
  },
  {
   "cell_type": "code",
   "execution_count": 9,
   "metadata": {},
   "outputs": [],
   "source": [
    "coords = ['xcoord', 'ycoord', 'zcoord']"
   ]
  },
  {
   "cell_type": "code",
   "execution_count": 10,
   "metadata": {},
   "outputs": [],
   "source": [
    "train_X = train_data[coords]"
   ]
  },
  {
   "cell_type": "code",
   "execution_count": 11,
   "metadata": {},
   "outputs": [],
   "source": [
    "train_y = train_data['wookieecolor']"
   ]
  },
  {
   "cell_type": "code",
   "execution_count": 12,
   "metadata": {},
   "outputs": [
    {
     "data": {
      "text/html": [
       "<div>\n",
       "<style scoped>\n",
       "    .dataframe tbody tr th:only-of-type {\n",
       "        vertical-align: middle;\n",
       "    }\n",
       "\n",
       "    .dataframe tbody tr th {\n",
       "        vertical-align: top;\n",
       "    }\n",
       "\n",
       "    .dataframe thead th {\n",
       "        text-align: right;\n",
       "    }\n",
       "</style>\n",
       "<table border=\"1\" class=\"dataframe\">\n",
       "  <thead>\n",
       "    <tr style=\"text-align: right;\">\n",
       "      <th></th>\n",
       "      <th>wookieecolor</th>\n",
       "      <th>xcoord</th>\n",
       "      <th>ycoord</th>\n",
       "      <th>zcoord</th>\n",
       "    </tr>\n",
       "  </thead>\n",
       "  <tbody>\n",
       "    <tr>\n",
       "      <th>0</th>\n",
       "      <td>chartreuse</td>\n",
       "      <td>-0.500883</td>\n",
       "      <td>3.642656</td>\n",
       "      <td>-0.332794</td>\n",
       "    </tr>\n",
       "    <tr>\n",
       "      <th>1</th>\n",
       "      <td>blue</td>\n",
       "      <td>-0.697365</td>\n",
       "      <td>0.391459</td>\n",
       "      <td>0.913703</td>\n",
       "    </tr>\n",
       "    <tr>\n",
       "      <th>2</th>\n",
       "      <td>red</td>\n",
       "      <td>-0.653677</td>\n",
       "      <td>-1.676559</td>\n",
       "      <td>0.462973</td>\n",
       "    </tr>\n",
       "    <tr>\n",
       "      <th>3</th>\n",
       "      <td>white</td>\n",
       "      <td>-0.843060</td>\n",
       "      <td>0.856792</td>\n",
       "      <td>0.425849</td>\n",
       "    </tr>\n",
       "    <tr>\n",
       "      <th>4</th>\n",
       "      <td>red</td>\n",
       "      <td>-0.939812</td>\n",
       "      <td>0.182101</td>\n",
       "      <td>-1.452490</td>\n",
       "    </tr>\n",
       "  </tbody>\n",
       "</table>\n",
       "</div>"
      ],
      "text/plain": [
       "  wookieecolor    xcoord    ycoord    zcoord\n",
       "0   chartreuse -0.500883  3.642656 -0.332794\n",
       "1         blue -0.697365  0.391459  0.913703\n",
       "2          red -0.653677 -1.676559  0.462973\n",
       "3        white -0.843060  0.856792  0.425849\n",
       "4          red -0.939812  0.182101 -1.452490"
      ]
     },
     "execution_count": 12,
     "metadata": {},
     "output_type": "execute_result"
    }
   ],
   "source": [
    "test_data.head()"
   ]
  },
  {
   "cell_type": "code",
   "execution_count": 13,
   "metadata": {},
   "outputs": [],
   "source": [
    "test_X = test_data[coords]"
   ]
  },
  {
   "cell_type": "code",
   "execution_count": 14,
   "metadata": {},
   "outputs": [],
   "source": [
    "test_y = test_data['wookieecolor']"
   ]
  },
  {
   "cell_type": "code",
   "execution_count": 15,
   "metadata": {},
   "outputs": [
    {
     "data": {
      "text/html": [
       "<div>\n",
       "<style scoped>\n",
       "    .dataframe tbody tr th:only-of-type {\n",
       "        vertical-align: middle;\n",
       "    }\n",
       "\n",
       "    .dataframe tbody tr th {\n",
       "        vertical-align: top;\n",
       "    }\n",
       "\n",
       "    .dataframe thead th {\n",
       "        text-align: right;\n",
       "    }\n",
       "</style>\n",
       "<table border=\"1\" class=\"dataframe\">\n",
       "  <thead>\n",
       "    <tr style=\"text-align: right;\">\n",
       "      <th></th>\n",
       "      <th>xcoord</th>\n",
       "      <th>ycoord</th>\n",
       "      <th>zcoord</th>\n",
       "    </tr>\n",
       "  </thead>\n",
       "  <tbody>\n",
       "    <tr>\n",
       "      <th>0</th>\n",
       "      <td>-0.420177</td>\n",
       "      <td>-0.403701</td>\n",
       "      <td>-1.367733</td>\n",
       "    </tr>\n",
       "    <tr>\n",
       "      <th>1</th>\n",
       "      <td>-1.552317</td>\n",
       "      <td>1.851824</td>\n",
       "      <td>-0.430991</td>\n",
       "    </tr>\n",
       "    <tr>\n",
       "      <th>2</th>\n",
       "      <td>-0.554652</td>\n",
       "      <td>0.138217</td>\n",
       "      <td>-0.185971</td>\n",
       "    </tr>\n",
       "    <tr>\n",
       "      <th>3</th>\n",
       "      <td>-0.431224</td>\n",
       "      <td>0.007767</td>\n",
       "      <td>0.899117</td>\n",
       "    </tr>\n",
       "    <tr>\n",
       "      <th>4</th>\n",
       "      <td>0.549926</td>\n",
       "      <td>-1.030384</td>\n",
       "      <td>0.799581</td>\n",
       "    </tr>\n",
       "  </tbody>\n",
       "</table>\n",
       "</div>"
      ],
      "text/plain": [
       "     xcoord    ycoord    zcoord\n",
       "0 -0.420177 -0.403701 -1.367733\n",
       "1 -1.552317  1.851824 -0.430991\n",
       "2 -0.554652  0.138217 -0.185971\n",
       "3 -0.431224  0.007767  0.899117\n",
       "4  0.549926 -1.030384  0.799581"
      ]
     },
     "execution_count": 15,
     "metadata": {},
     "output_type": "execute_result"
    }
   ],
   "source": [
    "hold_data.head()"
   ]
  },
  {
   "cell_type": "markdown",
   "metadata": {},
   "source": [
    "# Train Model"
   ]
  },
  {
   "cell_type": "markdown",
   "metadata": {},
   "source": [
    "## Functions"
   ]
  },
  {
   "cell_type": "code",
   "execution_count": 16,
   "metadata": {},
   "outputs": [],
   "source": [
    "# caclualate euclidean distance between two points\n",
    "\n",
    "def euc_dist(coord1, coord2):\n",
    "    \n",
    "    diff_sqr = 0\n",
    "    \n",
    "    for i in range(len(coord1)):\n",
    "        diff_sqr += (coord1[i] - coord2[i])**2\n",
    "    \n",
    "    distance = np.sqrt(diff_sqr)\n",
    "    \n",
    "    return(distance)"
   ]
  },
  {
   "cell_type": "code",
   "execution_count": 17,
   "metadata": {},
   "outputs": [],
   "source": [
    "def knn_classify(X_train, y_train, coords, test_pts, k):\n",
    "    \n",
    "    test_labels = []\n",
    "    \n",
    "    for test_pt in test_pts.values:\n",
    "        \n",
    "        # initialize dataframe to store distance and labels of training observations\n",
    "        knn_df = pd.DataFrame(columns=['distance', 'label'])\n",
    "        # calculate distance to all training ovservations\n",
    "        knn_df['distance'] = X_train.apply(lambda x: euc_dist(test_pt, x[coords]), axis=1)\n",
    "        # input all training labels\n",
    "        knn_df['label'] = y_train\n",
    "        # sort dataframe by closest distance to training observations\n",
    "        knn_df.sort_values(by='distance', inplace=True)\n",
    "        # select most frequent label in k observations\n",
    "        test_labels.append(knn_df.iloc[0:k, :]['label'].mode()[0])\n",
    "    \n",
    "    return(test_labels)"
   ]
  },
  {
   "cell_type": "markdown",
   "metadata": {},
   "source": [
    "## Test Model"
   ]
  },
  {
   "cell_type": "code",
   "execution_count": 18,
   "metadata": {},
   "outputs": [],
   "source": [
    "test_predicts = knn_classify(train_X, train_y, coords, test_X, 1)"
   ]
  },
  {
   "cell_type": "code",
   "execution_count": 19,
   "metadata": {},
   "outputs": [
    {
     "data": {
      "text/plain": [
       "0.688"
      ]
     },
     "execution_count": 19,
     "metadata": {},
     "output_type": "execute_result"
    }
   ],
   "source": [
    "sum(test_predicts == test_y) / len(test_y)"
   ]
  },
  {
   "cell_type": "code",
   "execution_count": 20,
   "metadata": {},
   "outputs": [],
   "source": [
    "k_num = 5"
   ]
  },
  {
   "cell_type": "code",
   "execution_count": null,
   "metadata": {},
   "outputs": [],
   "source": [
    "acc = []\n",
    "\n",
    "for k in range(k_num):\n",
    "    test_predicts = knn_classify(train_X, train_y, coords, test_X, k + 1)\n",
    "    acc.append(sum(test_predicts == test_y) / len(test_y) * 100)"
   ]
  },
  {
   "cell_type": "code",
   "execution_count": null,
   "metadata": {},
   "outputs": [],
   "source": [
    "fig, ax = plt.subplots(figsize=(10, 7))\n",
    "\n",
    "ax.plot(range(k_num), acc)\n",
    "ax.set_ylim(0, 100)\n",
    "ax.set_ylabel('Accuracy')\n",
    "ax.set_xlabel('k-value')"
   ]
  },
  {
   "cell_type": "markdown",
   "metadata": {},
   "source": [
    "## Model Predictions"
   ]
  },
  {
   "cell_type": "code",
   "execution_count": null,
   "metadata": {},
   "outputs": [],
   "source": [
    "test_predicts = knn_classify(train_X, train_y, coords, hold_data, 3)"
   ]
  },
  {
   "cell_type": "code",
   "execution_count": null,
   "metadata": {},
   "outputs": [],
   "source": [
    "test_predicts"
   ]
  },
  {
   "cell_type": "code",
   "execution_count": null,
   "metadata": {},
   "outputs": [],
   "source": []
  }
 ],
 "metadata": {
  "kernelspec": {
   "display_name": "Python 3",
   "language": "python",
   "name": "python3"
  },
  "language_info": {
   "codemirror_mode": {
    "name": "ipython",
    "version": 3
   },
   "file_extension": ".py",
   "mimetype": "text/x-python",
   "name": "python",
   "nbconvert_exporter": "python",
   "pygments_lexer": "ipython3",
   "version": "3.6.5"
  }
 },
 "nbformat": 4,
 "nbformat_minor": 2
}
