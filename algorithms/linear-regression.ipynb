{
 "cells": [
  {
   "cell_type": "markdown",
   "metadata": {},
   "source": [
    "# Contents\n",
    "- [EDA](#eda)  \n",
    "- [Preprocessing](#prepro)  \n",
    "    - [Test/Train Split](#tt_splt)  \n",
    "    - [Standardize Data](#std)  \n",
    "    - [Normalize Data](#norm)\n",
    "    - [Polynomial Transformation](#poly)  \n",
    "    - [Logarithmic Transformation](#log)\n",
    "    - [Categorical Data](#cat)\n",
    "- [Linear Regression Modeling](#model)\n",
    "    - [Cross Validation](#crs_val)  \n",
    "    - [Model Evaluation](#eval)  \n",
    "    - [Feature Selection](#feat_sel)\n",
    "- [Refined Modeling](#ref_mod)\n",
    "    - [Pipeline](#pipe)  \n",
    "    - [Regularization](#reg)\n",
    "    - [Feature Importance](#feat_imp)"
   ]
  },
  {
   "cell_type": "markdown",
   "metadata": {},
   "source": [
    "# Imports"
   ]
  },
  {
   "cell_type": "code",
   "execution_count": 1,
   "metadata": {},
   "outputs": [],
   "source": [
    "import random\n",
    "import numpy as np\n",
    "import pandas as pd\n",
    "import matplotlib.pyplot as plt"
   ]
  },
  {
   "cell_type": "markdown",
   "metadata": {},
   "source": [
    "# EDA <a name=\"eda\"></a>"
   ]
  },
  {
   "cell_type": "markdown",
   "metadata": {},
   "source": [
    "## Load Data"
   ]
  },
  {
   "cell_type": "code",
   "execution_count": 2,
   "metadata": {},
   "outputs": [],
   "source": [
    "df_conc = pd.read_csv('data/Concrete_Data.csv')"
   ]
  },
  {
   "cell_type": "code",
   "execution_count": 3,
   "metadata": {
    "scrolled": true
   },
   "outputs": [
    {
     "data": {
      "text/html": [
       "<div>\n",
       "<style scoped>\n",
       "    .dataframe tbody tr th:only-of-type {\n",
       "        vertical-align: middle;\n",
       "    }\n",
       "\n",
       "    .dataframe tbody tr th {\n",
       "        vertical-align: top;\n",
       "    }\n",
       "\n",
       "    .dataframe thead th {\n",
       "        text-align: right;\n",
       "    }\n",
       "</style>\n",
       "<table border=\"1\" class=\"dataframe\">\n",
       "  <thead>\n",
       "    <tr style=\"text-align: right;\">\n",
       "      <th></th>\n",
       "      <th>Cement (component 1)(kg in a m^3 mixture)</th>\n",
       "      <th>Blast Furnace Slag (component 2)(kg in a m^3 mixture)</th>\n",
       "      <th>Fly Ash (component 3)(kg in a m^3 mixture)</th>\n",
       "      <th>Water  (component 4)(kg in a m^3 mixture)</th>\n",
       "      <th>Superplasticizer (component 5)(kg in a m^3 mixture)</th>\n",
       "      <th>Coarse Aggregate  (component 6)(kg in a m^3 mixture)</th>\n",
       "      <th>Fine Aggregate (component 7)(kg in a m^3 mixture)</th>\n",
       "      <th>Age (day)</th>\n",
       "      <th>Concrete compressive strength(MPa, megapascals)</th>\n",
       "    </tr>\n",
       "  </thead>\n",
       "  <tbody>\n",
       "    <tr>\n",
       "      <th>0</th>\n",
       "      <td>540.0</td>\n",
       "      <td>0.0</td>\n",
       "      <td>0.0</td>\n",
       "      <td>162.0</td>\n",
       "      <td>2.5</td>\n",
       "      <td>1040.0</td>\n",
       "      <td>676.0</td>\n",
       "      <td>28</td>\n",
       "      <td>79.99</td>\n",
       "    </tr>\n",
       "    <tr>\n",
       "      <th>1</th>\n",
       "      <td>540.0</td>\n",
       "      <td>0.0</td>\n",
       "      <td>0.0</td>\n",
       "      <td>162.0</td>\n",
       "      <td>2.5</td>\n",
       "      <td>1055.0</td>\n",
       "      <td>676.0</td>\n",
       "      <td>28</td>\n",
       "      <td>61.89</td>\n",
       "    </tr>\n",
       "    <tr>\n",
       "      <th>2</th>\n",
       "      <td>332.5</td>\n",
       "      <td>142.5</td>\n",
       "      <td>0.0</td>\n",
       "      <td>228.0</td>\n",
       "      <td>0.0</td>\n",
       "      <td>932.0</td>\n",
       "      <td>594.0</td>\n",
       "      <td>270</td>\n",
       "      <td>40.27</td>\n",
       "    </tr>\n",
       "    <tr>\n",
       "      <th>3</th>\n",
       "      <td>332.5</td>\n",
       "      <td>142.5</td>\n",
       "      <td>0.0</td>\n",
       "      <td>228.0</td>\n",
       "      <td>0.0</td>\n",
       "      <td>932.0</td>\n",
       "      <td>594.0</td>\n",
       "      <td>365</td>\n",
       "      <td>41.05</td>\n",
       "    </tr>\n",
       "    <tr>\n",
       "      <th>4</th>\n",
       "      <td>198.6</td>\n",
       "      <td>132.4</td>\n",
       "      <td>0.0</td>\n",
       "      <td>192.0</td>\n",
       "      <td>0.0</td>\n",
       "      <td>978.4</td>\n",
       "      <td>825.5</td>\n",
       "      <td>360</td>\n",
       "      <td>44.30</td>\n",
       "    </tr>\n",
       "  </tbody>\n",
       "</table>\n",
       "</div>"
      ],
      "text/plain": [
       "   Cement (component 1)(kg in a m^3 mixture)  \\\n",
       "0                                      540.0   \n",
       "1                                      540.0   \n",
       "2                                      332.5   \n",
       "3                                      332.5   \n",
       "4                                      198.6   \n",
       "\n",
       "   Blast Furnace Slag (component 2)(kg in a m^3 mixture)  \\\n",
       "0                                                0.0       \n",
       "1                                                0.0       \n",
       "2                                              142.5       \n",
       "3                                              142.5       \n",
       "4                                              132.4       \n",
       "\n",
       "   Fly Ash (component 3)(kg in a m^3 mixture)  \\\n",
       "0                                         0.0   \n",
       "1                                         0.0   \n",
       "2                                         0.0   \n",
       "3                                         0.0   \n",
       "4                                         0.0   \n",
       "\n",
       "   Water  (component 4)(kg in a m^3 mixture)  \\\n",
       "0                                      162.0   \n",
       "1                                      162.0   \n",
       "2                                      228.0   \n",
       "3                                      228.0   \n",
       "4                                      192.0   \n",
       "\n",
       "   Superplasticizer (component 5)(kg in a m^3 mixture)  \\\n",
       "0                                                2.5     \n",
       "1                                                2.5     \n",
       "2                                                0.0     \n",
       "3                                                0.0     \n",
       "4                                                0.0     \n",
       "\n",
       "   Coarse Aggregate  (component 6)(kg in a m^3 mixture)  \\\n",
       "0                                             1040.0      \n",
       "1                                             1055.0      \n",
       "2                                              932.0      \n",
       "3                                              932.0      \n",
       "4                                              978.4      \n",
       "\n",
       "   Fine Aggregate (component 7)(kg in a m^3 mixture)  Age (day)  \\\n",
       "0                                              676.0         28   \n",
       "1                                              676.0         28   \n",
       "2                                              594.0        270   \n",
       "3                                              594.0        365   \n",
       "4                                              825.5        360   \n",
       "\n",
       "   Concrete compressive strength(MPa, megapascals)   \n",
       "0                                             79.99  \n",
       "1                                             61.89  \n",
       "2                                             40.27  \n",
       "3                                             41.05  \n",
       "4                                             44.30  "
      ]
     },
     "execution_count": 3,
     "metadata": {},
     "output_type": "execute_result"
    }
   ],
   "source": [
    "df_conc.head()"
   ]
  },
  {
   "cell_type": "code",
   "execution_count": 4,
   "metadata": {},
   "outputs": [],
   "source": [
    "df = df_conc[['Cement (component 1)(kg in a m^3 mixture)', \n",
    "              'Age (day)', 'Concrete compressive strength(MPa, megapascals) ']]\n",
    "df.columns=['Cement', 'Age', 'Strength']"
   ]
  },
  {
   "cell_type": "code",
   "execution_count": 5,
   "metadata": {
    "scrolled": true
   },
   "outputs": [
    {
     "data": {
      "text/html": [
       "<div>\n",
       "<style scoped>\n",
       "    .dataframe tbody tr th:only-of-type {\n",
       "        vertical-align: middle;\n",
       "    }\n",
       "\n",
       "    .dataframe tbody tr th {\n",
       "        vertical-align: top;\n",
       "    }\n",
       "\n",
       "    .dataframe thead th {\n",
       "        text-align: right;\n",
       "    }\n",
       "</style>\n",
       "<table border=\"1\" class=\"dataframe\">\n",
       "  <thead>\n",
       "    <tr style=\"text-align: right;\">\n",
       "      <th></th>\n",
       "      <th>Cement</th>\n",
       "      <th>Age</th>\n",
       "      <th>Strength</th>\n",
       "    </tr>\n",
       "  </thead>\n",
       "  <tbody>\n",
       "    <tr>\n",
       "      <th>0</th>\n",
       "      <td>540.0</td>\n",
       "      <td>28</td>\n",
       "      <td>79.99</td>\n",
       "    </tr>\n",
       "    <tr>\n",
       "      <th>1</th>\n",
       "      <td>540.0</td>\n",
       "      <td>28</td>\n",
       "      <td>61.89</td>\n",
       "    </tr>\n",
       "    <tr>\n",
       "      <th>2</th>\n",
       "      <td>332.5</td>\n",
       "      <td>270</td>\n",
       "      <td>40.27</td>\n",
       "    </tr>\n",
       "    <tr>\n",
       "      <th>3</th>\n",
       "      <td>332.5</td>\n",
       "      <td>365</td>\n",
       "      <td>41.05</td>\n",
       "    </tr>\n",
       "    <tr>\n",
       "      <th>4</th>\n",
       "      <td>198.6</td>\n",
       "      <td>360</td>\n",
       "      <td>44.30</td>\n",
       "    </tr>\n",
       "  </tbody>\n",
       "</table>\n",
       "</div>"
      ],
      "text/plain": [
       "   Cement  Age  Strength\n",
       "0   540.0   28     79.99\n",
       "1   540.0   28     61.89\n",
       "2   332.5  270     40.27\n",
       "3   332.5  365     41.05\n",
       "4   198.6  360     44.30"
      ]
     },
     "execution_count": 5,
     "metadata": {},
     "output_type": "execute_result"
    }
   ],
   "source": [
    "df.head()"
   ]
  },
  {
   "cell_type": "code",
   "execution_count": 6,
   "metadata": {},
   "outputs": [],
   "source": [
    "# plotting variables\n",
    "x_1 = df.iloc[:, 0]\n",
    "x_1_label = df.columns[0]\n",
    "x_2 = df.iloc[:, 1]\n",
    "x_2_label = df.columns[1]\n",
    "y = df.iloc[:, -1]\n",
    "y_label = df.columns[-1]"
   ]
  },
  {
   "cell_type": "markdown",
   "metadata": {},
   "source": [
    "## Plot Variable Distributions\n",
    "Determine if variables are normally distributed"
   ]
  },
  {
   "cell_type": "code",
   "execution_count": 7,
   "metadata": {},
   "outputs": [
    {
     "data": {
      "image/png": "[encoded data removed]",
      "text/plain": [
       "<Figure size 432x288 with 1 Axes>"
      ]
     },
     "metadata": {},
     "output_type": "display_data"
    }
   ],
   "source": [
    "plt.hist(x_1)\n",
    "plt.xlabel(x_1_label)\n",
    "plt.ylabel('Count')\n",
    "plt.title('Feature Distribution');"
   ]
  },
  {
   "cell_type": "code",
   "execution_count": 8,
   "metadata": {},
   "outputs": [
    {
     "data": {
      "image/png": "[encoded data removed]",
      "text/plain": [
       "<Figure size 432x288 with 1 Axes>"
      ]
     },
     "metadata": {},
     "output_type": "display_data"
    }
   ],
   "source": [
    "plt.hist(x_2)\n",
    "plt.xlabel(x_2_label)\n",
    "plt.ylabel('Count')\n",
    "plt.title('Feature Distribution');"
   ]
  },
  {
   "cell_type": "code",
   "execution_count": 9,
   "metadata": {},
   "outputs": [
    {
     "data": {
      "image/png": "[encoded data removed]",
      "text/plain": [
       "<Figure size 432x288 with 1 Axes>"
      ]
     },
     "metadata": {},
     "output_type": "display_data"
    }
   ],
   "source": [
    "plt.hist(y)\n",
    "plt.xlabel(y_label)\n",
    "plt.ylabel('Count')\n",
    "plt.title('Target Distribution');"
   ]
  },
  {
   "cell_type": "markdown",
   "metadata": {},
   "source": [
    "## Feature Relationship\n",
    "Determine if colinearity exists between features"
   ]
  },
  {
   "cell_type": "code",
   "execution_count": 10,
   "metadata": {},
   "outputs": [
    {
     "data": {
      "image/png": "[encoded data removed]",
      "text/plain": [
       "<Figure size 432x288 with 1 Axes>"
      ]
     },
     "metadata": {},
     "output_type": "display_data"
    }
   ],
   "source": [
    "plt.scatter(x_1, x_2)\n",
    "plt.xlabel(x_1_label)\n",
    "plt.ylabel(x_2_label)\n",
    "plt.title('Feature Relationship');"
   ]
  },
  {
   "cell_type": "markdown",
   "metadata": {},
   "source": [
    "## Plot Features vs Target\n",
    "Investigate relationship of individual features with target variable"
   ]
  },
  {
   "cell_type": "code",
   "execution_count": 11,
   "metadata": {},
   "outputs": [
    {
     "data": {
      "image/png": "[encoded data removed]",
      "text/plain": [
       "<Figure size 432x288 with 1 Axes>"
      ]
     },
     "metadata": {},
     "output_type": "display_data"
    }
   ],
   "source": [
    "plt.scatter(x_1, y)\n",
    "plt.xlabel(x_1_label)\n",
    "plt.ylabel(y_label)\n",
    "plt.title('Feature vs Target');"
   ]
  },
  {
   "cell_type": "code",
   "execution_count": 12,
   "metadata": {
    "scrolled": true
   },
   "outputs": [
    {
     "data": {
      "image/png": "[encoded data removed]",
      "text/plain": [
       "<Figure size 432x288 with 1 Axes>"
      ]
     },
     "metadata": {},
     "output_type": "display_data"
    }
   ],
   "source": [
    "plt.scatter(x_2, y)\n",
    "plt.xlabel(x_2_label)\n",
    "plt.ylabel(y_label)\n",
    "plt.title('Feature vs Target');"
   ]
  },
  {
   "cell_type": "markdown",
   "metadata": {},
   "source": [
    "### 3D Plot"
   ]
  },
  {
   "cell_type": "code",
   "execution_count": 13,
   "metadata": {},
   "outputs": [],
   "source": [
    "from mpl_toolkits import mplot3d"
   ]
  },
  {
   "cell_type": "code",
   "execution_count": 14,
   "metadata": {},
   "outputs": [
    {
     "data": {
      "image/png": "[encoded data removed]",
      "text/plain": [
       "<Figure size 432x288 with 1 Axes>"
      ]
     },
     "metadata": {},
     "output_type": "display_data"
    }
   ],
   "source": [
    "# uncomment for interactivity:\n",
    "# %matplotlib notebook\n",
    "\n",
    "ax = plt.axes(projection='3d')\n",
    "ax.scatter3D(x_1, x_2, y)\n",
    "ax.set_xlabel(x_1_label)\n",
    "ax.set_ylabel(x_2_label)\n",
    "ax.set_zlabel(y_label);"
   ]
  },
  {
   "cell_type": "code",
   "execution_count": 15,
   "metadata": {},
   "outputs": [],
   "source": [
    "%matplotlib inline"
   ]
  },
  {
   "cell_type": "markdown",
   "metadata": {},
   "source": [
    "# Preprocessing <a name=\"prepro\"></a>"
   ]
  },
  {
   "cell_type": "markdown",
   "metadata": {},
   "source": [
    "## Define Variables"
   ]
  },
  {
   "cell_type": "code",
   "execution_count": 16,
   "metadata": {},
   "outputs": [],
   "source": [
    "# independent (feature) variables\n",
    "X = df.iloc[:, 0:-1]"
   ]
  },
  {
   "cell_type": "code",
   "execution_count": 17,
   "metadata": {},
   "outputs": [],
   "source": [
    "# dependent (target) variable\n",
    "y = df.iloc[:, -1]"
   ]
  },
  {
   "cell_type": "markdown",
   "metadata": {},
   "source": [
    "## Test/Train Split <a name=\"tt_splt\"></a>\n",
    "Split data into feature training, feature test, target training and target test variables"
   ]
  },
  {
   "cell_type": "code",
   "execution_count": 18,
   "metadata": {},
   "outputs": [],
   "source": [
    "from sklearn.model_selection import train_test_split"
   ]
  },
  {
   "cell_type": "code",
   "execution_count": 19,
   "metadata": {},
   "outputs": [],
   "source": [
    "# specify test size\n",
    "X_train, X_test, y_train, y_test = train_test_split(X, y, test_size=0.2, random_state=42)"
   ]
  },
  {
   "cell_type": "code",
   "execution_count": 20,
   "metadata": {},
   "outputs": [
    {
     "data": {
      "text/html": [
       "<div>\n",
       "<style scoped>\n",
       "    .dataframe tbody tr th:only-of-type {\n",
       "        vertical-align: middle;\n",
       "    }\n",
       "\n",
       "    .dataframe tbody tr th {\n",
       "        vertical-align: top;\n",
       "    }\n",
       "\n",
       "    .dataframe thead th {\n",
       "        text-align: right;\n",
       "    }\n",
       "</style>\n",
       "<table border=\"1\" class=\"dataframe\">\n",
       "  <thead>\n",
       "    <tr style=\"text-align: right;\">\n",
       "      <th></th>\n",
       "      <th>Cement</th>\n",
       "      <th>Age</th>\n",
       "    </tr>\n",
       "  </thead>\n",
       "  <tbody>\n",
       "    <tr>\n",
       "      <th>995</th>\n",
       "      <td>158.6</td>\n",
       "      <td>28</td>\n",
       "    </tr>\n",
       "    <tr>\n",
       "      <th>507</th>\n",
       "      <td>424.0</td>\n",
       "      <td>28</td>\n",
       "    </tr>\n",
       "    <tr>\n",
       "      <th>334</th>\n",
       "      <td>275.1</td>\n",
       "      <td>3</td>\n",
       "    </tr>\n",
       "    <tr>\n",
       "      <th>848</th>\n",
       "      <td>252.0</td>\n",
       "      <td>28</td>\n",
       "    </tr>\n",
       "    <tr>\n",
       "      <th>294</th>\n",
       "      <td>168.9</td>\n",
       "      <td>3</td>\n",
       "    </tr>\n",
       "  </tbody>\n",
       "</table>\n",
       "</div>"
      ],
      "text/plain": [
       "     Cement  Age\n",
       "995   158.6   28\n",
       "507   424.0   28\n",
       "334   275.1    3\n",
       "848   252.0   28\n",
       "294   168.9    3"
      ]
     },
     "execution_count": 20,
     "metadata": {},
     "output_type": "execute_result"
    }
   ],
   "source": [
    "X_train.head()"
   ]
  },
  {
   "cell_type": "code",
   "execution_count": 21,
   "metadata": {},
   "outputs": [
    {
     "data": {
      "text/plain": [
       "995    27.68\n",
       "507    62.05\n",
       "334    23.80\n",
       "848    33.40\n",
       "294     7.40\n",
       "Name: Strength, dtype: float64"
      ]
     },
     "execution_count": 21,
     "metadata": {},
     "output_type": "execute_result"
    }
   ],
   "source": [
    "y_train.head()"
   ]
  },
  {
   "cell_type": "code",
   "execution_count": 22,
   "metadata": {},
   "outputs": [
    {
     "data": {
      "text/html": [
       "<div>\n",
       "<style scoped>\n",
       "    .dataframe tbody tr th:only-of-type {\n",
       "        vertical-align: middle;\n",
       "    }\n",
       "\n",
       "    .dataframe tbody tr th {\n",
       "        vertical-align: top;\n",
       "    }\n",
       "\n",
       "    .dataframe thead th {\n",
       "        text-align: right;\n",
       "    }\n",
       "</style>\n",
       "<table border=\"1\" class=\"dataframe\">\n",
       "  <thead>\n",
       "    <tr style=\"text-align: right;\">\n",
       "      <th></th>\n",
       "      <th>Cement</th>\n",
       "      <th>Age</th>\n",
       "    </tr>\n",
       "  </thead>\n",
       "  <tbody>\n",
       "    <tr>\n",
       "      <th>31</th>\n",
       "      <td>266.0</td>\n",
       "      <td>365</td>\n",
       "    </tr>\n",
       "    <tr>\n",
       "      <th>109</th>\n",
       "      <td>362.6</td>\n",
       "      <td>7</td>\n",
       "    </tr>\n",
       "    <tr>\n",
       "      <th>136</th>\n",
       "      <td>389.9</td>\n",
       "      <td>28</td>\n",
       "    </tr>\n",
       "    <tr>\n",
       "      <th>88</th>\n",
       "      <td>362.6</td>\n",
       "      <td>3</td>\n",
       "    </tr>\n",
       "    <tr>\n",
       "      <th>918</th>\n",
       "      <td>145.0</td>\n",
       "      <td>28</td>\n",
       "    </tr>\n",
       "  </tbody>\n",
       "</table>\n",
       "</div>"
      ],
      "text/plain": [
       "     Cement  Age\n",
       "31    266.0  365\n",
       "109   362.6    7\n",
       "136   389.9   28\n",
       "88    362.6    3\n",
       "918   145.0   28"
      ]
     },
     "execution_count": 22,
     "metadata": {},
     "output_type": "execute_result"
    }
   ],
   "source": [
    "X_test.head()"
   ]
  },
  {
   "cell_type": "code",
   "execution_count": 23,
   "metadata": {},
   "outputs": [
    {
     "data": {
      "text/plain": [
       "31     52.91\n",
       "109    55.90\n",
       "136    74.50\n",
       "88     35.30\n",
       "918    10.54\n",
       "Name: Strength, dtype: float64"
      ]
     },
     "execution_count": 23,
     "metadata": {},
     "output_type": "execute_result"
    }
   ],
   "source": [
    "y_test.head()"
   ]
  },
  {
   "cell_type": "markdown",
   "metadata": {},
   "source": [
    "## Standardize Data <a name=\"std\"></a>\n",
    "For each feature, subtract mean and then divide by standard deviation"
   ]
  },
  {
   "cell_type": "code",
   "execution_count": 24,
   "metadata": {},
   "outputs": [],
   "source": [
    "X_train_std = pd.DataFrame()\n",
    "\n",
    "for feature in X_train.columns:\n",
    "    X_train_mean = np.mean(X_train[feature])\n",
    "    X_train_sigma = np.std(X_train[feature])\n",
    "    X_train_std[feature] = (X_train[feature] - X_train_mean) / X_train_sigma"
   ]
  },
  {
   "cell_type": "code",
   "execution_count": 25,
   "metadata": {
    "scrolled": true
   },
   "outputs": [
    {
     "data": {
      "text/html": [
       "<div>\n",
       "<style scoped>\n",
       "    .dataframe tbody tr th:only-of-type {\n",
       "        vertical-align: middle;\n",
       "    }\n",
       "\n",
       "    .dataframe tbody tr th {\n",
       "        vertical-align: top;\n",
       "    }\n",
       "\n",
       "    .dataframe thead th {\n",
       "        text-align: right;\n",
       "    }\n",
       "</style>\n",
       "<table border=\"1\" class=\"dataframe\">\n",
       "  <thead>\n",
       "    <tr style=\"text-align: right;\">\n",
       "      <th></th>\n",
       "      <th>Cement</th>\n",
       "      <th>Age</th>\n",
       "    </tr>\n",
       "  </thead>\n",
       "  <tbody>\n",
       "    <tr>\n",
       "      <th>995</th>\n",
       "      <td>-1.160877</td>\n",
       "      <td>-0.275673</td>\n",
       "    </tr>\n",
       "    <tr>\n",
       "      <th>507</th>\n",
       "      <td>1.308623</td>\n",
       "      <td>-0.275673</td>\n",
       "    </tr>\n",
       "    <tr>\n",
       "      <th>334</th>\n",
       "      <td>-0.076865</td>\n",
       "      <td>-0.689313</td>\n",
       "    </tr>\n",
       "    <tr>\n",
       "      <th>848</th>\n",
       "      <td>-0.291807</td>\n",
       "      <td>-0.275673</td>\n",
       "    </tr>\n",
       "    <tr>\n",
       "      <th>294</th>\n",
       "      <td>-1.065038</td>\n",
       "      <td>-0.689313</td>\n",
       "    </tr>\n",
       "  </tbody>\n",
       "</table>\n",
       "</div>"
      ],
      "text/plain": [
       "       Cement       Age\n",
       "995 -1.160877 -0.275673\n",
       "507  1.308623 -0.275673\n",
       "334 -0.076865 -0.689313\n",
       "848 -0.291807 -0.275673\n",
       "294 -1.065038 -0.689313"
      ]
     },
     "execution_count": 25,
     "metadata": {},
     "output_type": "execute_result"
    }
   ],
   "source": [
    "X_train_std.head()"
   ]
  },
  {
   "cell_type": "markdown",
   "metadata": {},
   "source": [
    "### StandardScaler"
   ]
  },
  {
   "cell_type": "code",
   "execution_count": 26,
   "metadata": {},
   "outputs": [],
   "source": [
    "from sklearn.preprocessing import StandardScaler"
   ]
  },
  {
   "cell_type": "code",
   "execution_count": 27,
   "metadata": {},
   "outputs": [],
   "source": [
    "# create instance of scaler\n",
    "std_scaler = StandardScaler()"
   ]
  },
  {
   "cell_type": "code",
   "execution_count": 28,
   "metadata": {},
   "outputs": [
    {
     "data": {
      "text/plain": [
       "StandardScaler(copy=True, with_mean=True, with_std=True)"
      ]
     },
     "execution_count": 28,
     "metadata": {},
     "output_type": "execute_result"
    }
   ],
   "source": [
    "# fit scaler to training feature data\n",
    "std_scaler.fit(X_train)"
   ]
  },
  {
   "cell_type": "code",
   "execution_count": 29,
   "metadata": {
    "scrolled": true
   },
   "outputs": [
    {
     "data": {
      "text/plain": [
       "array([[-1.16087734, -0.27567315],\n",
       "       [ 1.30862304, -0.27567315],\n",
       "       [-0.0768653 , -0.68931339],\n",
       "       [-0.29180674, -0.27567315],\n",
       "       [-1.06503765, -0.68931339]])"
      ]
     },
     "execution_count": 29,
     "metadata": {},
     "output_type": "execute_result"
    }
   ],
   "source": [
    "# apply scaler to feature data\n",
    "std_scaler.transform(X_train)[0:5]"
   ]
  },
  {
   "cell_type": "code",
   "execution_count": 30,
   "metadata": {
    "scrolled": true
   },
   "outputs": [
    {
     "data": {
      "image/png": "[encoded data removed]",
      "text/plain": [
       "<Figure size 432x288 with 1 Axes>"
      ]
     },
     "metadata": {},
     "output_type": "display_data"
    }
   ],
   "source": [
    "plt.scatter([feature[0] for feature in std_scaler.transform(X_train)], y_train.values, c='orange')\n",
    "plt.title('Std Scale Feature vs Target')\n",
    "plt.xlabel(df.columns[0])\n",
    "plt.ylabel(df.columns[-1]);"
   ]
  },
  {
   "cell_type": "code",
   "execution_count": 31,
   "metadata": {},
   "outputs": [
    {
     "data": {
      "image/png": "[encoded data removed]",
      "text/plain": [
       "<Figure size 432x288 with 1 Axes>"
      ]
     },
     "metadata": {},
     "output_type": "display_data"
    }
   ],
   "source": [
    "plt.scatter(X_train.iloc[:, 0], y_train, label='Raw')\n",
    "plt.scatter([feature[0] for feature in std_scaler.transform(X_train)], y_train, label='Std Scale')\n",
    "plt.title('Feature vs Target')\n",
    "plt.xlabel(df.columns[0])\n",
    "plt.ylabel(df.columns[-1])\n",
    "plt.legend();"
   ]
  },
  {
   "cell_type": "markdown",
   "metadata": {},
   "source": [
    "### Apply to Data"
   ]
  },
  {
   "cell_type": "code",
   "execution_count": 32,
   "metadata": {},
   "outputs": [],
   "source": [
    "# fit and apply to training data\n",
    "X_train_std = std_scaler.fit_transform(X_train)"
   ]
  },
  {
   "cell_type": "code",
   "execution_count": 33,
   "metadata": {},
   "outputs": [],
   "source": [
    "# apply to test data\n",
    "X_test_std = std_scaler.transform(X_test)"
   ]
  },
  {
   "cell_type": "markdown",
   "metadata": {},
   "source": [
    "## Normalize Data <a name=\"norm\"></a>\n",
    "For each feature, subtract minimum and then divide by difference between maximum and minimum  \n",
    "Scaled values are between 0 and 1"
   ]
  },
  {
   "cell_type": "code",
   "execution_count": 34,
   "metadata": {},
   "outputs": [],
   "source": [
    "X_train_norm = pd.DataFrame()\n",
    "\n",
    "for feature in X.columns:\n",
    "    X_train_min = min(X_train[feature])\n",
    "    X_train_max = max(X_train[feature])\n",
    "    X_train_norm[feature] = (X_train[feature] - X_train_min) / (X_train_max - X_train_min)"
   ]
  },
  {
   "cell_type": "code",
   "execution_count": 35,
   "metadata": {
    "scrolled": true
   },
   "outputs": [
    {
     "data": {
      "text/html": [
       "<div>\n",
       "<style scoped>\n",
       "    .dataframe tbody tr th:only-of-type {\n",
       "        vertical-align: middle;\n",
       "    }\n",
       "\n",
       "    .dataframe tbody tr th {\n",
       "        vertical-align: top;\n",
       "    }\n",
       "\n",
       "    .dataframe thead th {\n",
       "        text-align: right;\n",
       "    }\n",
       "</style>\n",
       "<table border=\"1\" class=\"dataframe\">\n",
       "  <thead>\n",
       "    <tr style=\"text-align: right;\">\n",
       "      <th></th>\n",
       "      <th>Cement</th>\n",
       "      <th>Age</th>\n",
       "    </tr>\n",
       "  </thead>\n",
       "  <tbody>\n",
       "    <tr>\n",
       "      <th>995</th>\n",
       "      <td>0.129224</td>\n",
       "      <td>0.074176</td>\n",
       "    </tr>\n",
       "    <tr>\n",
       "      <th>507</th>\n",
       "      <td>0.735160</td>\n",
       "      <td>0.074176</td>\n",
       "    </tr>\n",
       "    <tr>\n",
       "      <th>334</th>\n",
       "      <td>0.395205</td>\n",
       "      <td>0.005495</td>\n",
       "    </tr>\n",
       "    <tr>\n",
       "      <th>848</th>\n",
       "      <td>0.342466</td>\n",
       "      <td>0.074176</td>\n",
       "    </tr>\n",
       "    <tr>\n",
       "      <th>294</th>\n",
       "      <td>0.152740</td>\n",
       "      <td>0.005495</td>\n",
       "    </tr>\n",
       "  </tbody>\n",
       "</table>\n",
       "</div>"
      ],
      "text/plain": [
       "       Cement       Age\n",
       "995  0.129224  0.074176\n",
       "507  0.735160  0.074176\n",
       "334  0.395205  0.005495\n",
       "848  0.342466  0.074176\n",
       "294  0.152740  0.005495"
      ]
     },
     "execution_count": 35,
     "metadata": {},
     "output_type": "execute_result"
    }
   ],
   "source": [
    "X_train_norm.head()"
   ]
  },
  {
   "cell_type": "markdown",
   "metadata": {},
   "source": [
    "### MinMaxScaler"
   ]
  },
  {
   "cell_type": "code",
   "execution_count": 36,
   "metadata": {},
   "outputs": [],
   "source": [
    "from sklearn.preprocessing import MinMaxScaler"
   ]
  },
  {
   "cell_type": "code",
   "execution_count": 37,
   "metadata": {},
   "outputs": [],
   "source": [
    "# create instance of scaler\n",
    "norm_scaler = MinMaxScaler()"
   ]
  },
  {
   "cell_type": "code",
   "execution_count": 38,
   "metadata": {},
   "outputs": [
    {
     "data": {
      "text/plain": [
       "MinMaxScaler(copy=True, feature_range=(0, 1))"
      ]
     },
     "execution_count": 38,
     "metadata": {},
     "output_type": "execute_result"
    }
   ],
   "source": [
    "# fit scaler to training feature data\n",
    "norm_scaler.fit(X_train)"
   ]
  },
  {
   "cell_type": "code",
   "execution_count": 39,
   "metadata": {
    "scrolled": true
   },
   "outputs": [
    {
     "data": {
      "text/plain": [
       "array([[0.12922374, 0.07417582],\n",
       "       [0.73515982, 0.07417582],\n",
       "       [0.39520548, 0.00549451],\n",
       "       [0.34246575, 0.07417582],\n",
       "       [0.15273973, 0.00549451]])"
      ]
     },
     "execution_count": 39,
     "metadata": {},
     "output_type": "execute_result"
    }
   ],
   "source": [
    "# apply scaler to training feature data\n",
    "norm_scaler.transform(X_train)[0:5]"
   ]
  },
  {
   "cell_type": "code",
   "execution_count": 40,
   "metadata": {
    "scrolled": true
   },
   "outputs": [
    {
     "data": {
      "image/png": "[encoded data removed]",
      "text/plain": [
       "<Figure size 432x288 with 1 Axes>"
      ]
     },
     "metadata": {},
     "output_type": "display_data"
    }
   ],
   "source": [
    "plt.scatter([feature[0] for feature in norm_scaler.transform(X_train)], y_train, c='orange')\n",
    "plt.title('Norm Scale Feature vs Target')\n",
    "plt.xlabel(df.columns[0])\n",
    "plt.ylabel(df.columns[-1]);"
   ]
  },
  {
   "cell_type": "code",
   "execution_count": 41,
   "metadata": {},
   "outputs": [
    {
     "data": {
      "image/png": "[encoded data removed]",
      "text/plain": [
       "<Figure size 432x288 with 1 Axes>"
      ]
     },
     "metadata": {},
     "output_type": "display_data"
    }
   ],
   "source": [
    "plt.scatter(X_train.iloc[:, 0], y_train, label='Raw')\n",
    "plt.scatter([feature[0] for feature in norm_scaler.transform(X_train)], y_train, label='Norm Scale')\n",
    "plt.title('Feature vs Target')\n",
    "plt.xlabel(df.columns[0])\n",
    "plt.ylabel(df.columns[-1])\n",
    "plt.legend();"
   ]
  },
  {
   "cell_type": "markdown",
   "metadata": {},
   "source": [
    "### Apply to Data"
   ]
  },
  {
   "cell_type": "code",
   "execution_count": 42,
   "metadata": {},
   "outputs": [],
   "source": [
    "# fit and apply to training data\n",
    "X_train_norm = norm_scaler.fit_transform(X_train)"
   ]
  },
  {
   "cell_type": "code",
   "execution_count": 43,
   "metadata": {},
   "outputs": [],
   "source": [
    "# apply to test data\n",
    "X_test_norm = norm_scaler.transform(X_test)"
   ]
  },
  {
   "cell_type": "markdown",
   "metadata": {},
   "source": [
    "## Polynomial Transformation <a name=\"poly\"></a>\n",
    "Create polynomial interaction of features for model"
   ]
  },
  {
   "cell_type": "code",
   "execution_count": 44,
   "metadata": {},
   "outputs": [],
   "source": [
    "from sklearn.preprocessing import PolynomialFeatures"
   ]
  },
  {
   "cell_type": "code",
   "execution_count": 45,
   "metadata": {},
   "outputs": [],
   "source": [
    "# create instance of polynomial features, specify degree\n",
    "poly = PolynomialFeatures(degree=2)"
   ]
  },
  {
   "cell_type": "code",
   "execution_count": 46,
   "metadata": {},
   "outputs": [
    {
     "data": {
      "text/plain": [
       "PolynomialFeatures(degree=2, include_bias=True, interaction_only=False)"
      ]
     },
     "execution_count": 46,
     "metadata": {},
     "output_type": "execute_result"
    }
   ],
   "source": [
    "# fit scaler to training feature data\n",
    "poly.fit(X_train)"
   ]
  },
  {
   "cell_type": "code",
   "execution_count": 47,
   "metadata": {},
   "outputs": [
    {
     "data": {
      "text/plain": [
       "array([[1.000000e+00, 1.586000e+02, 2.800000e+01, 2.515396e+04,\n",
       "        4.440800e+03, 7.840000e+02],\n",
       "       [1.000000e+00, 4.240000e+02, 2.800000e+01, 1.797760e+05,\n",
       "        1.187200e+04, 7.840000e+02],\n",
       "       [1.000000e+00, 2.751000e+02, 3.000000e+00, 7.568001e+04,\n",
       "        8.253000e+02, 9.000000e+00],\n",
       "       [1.000000e+00, 2.520000e+02, 2.800000e+01, 6.350400e+04,\n",
       "        7.056000e+03, 7.840000e+02],\n",
       "       [1.000000e+00, 1.689000e+02, 3.000000e+00, 2.852721e+04,\n",
       "        5.067000e+02, 9.000000e+00]])"
      ]
     },
     "execution_count": 47,
     "metadata": {},
     "output_type": "execute_result"
    }
   ],
   "source": [
    "# apply to training feature data, creates new features\n",
    "poly.transform(X_train)[0:5]"
   ]
  },
  {
   "cell_type": "code",
   "execution_count": 48,
   "metadata": {},
   "outputs": [
    {
     "data": {
      "text/plain": [
       "['1', 'x0', 'x1', 'x0^2', 'x0 x1', 'x1^2']"
      ]
     },
     "execution_count": 48,
     "metadata": {},
     "output_type": "execute_result"
    }
   ],
   "source": [
    "# output features\n",
    "poly.get_feature_names()"
   ]
  },
  {
   "cell_type": "code",
   "execution_count": 49,
   "metadata": {},
   "outputs": [
    {
     "data": {
      "text/plain": [
       "['1', 'Cement', 'Age', 'Cement^2', 'Cement Age', 'Age^2']"
      ]
     },
     "execution_count": 49,
     "metadata": {},
     "output_type": "execute_result"
    }
   ],
   "source": [
    "# output features mapped to dataframe columns\n",
    "poly.get_feature_names(input_features=X_train.columns)"
   ]
  },
  {
   "cell_type": "code",
   "execution_count": 50,
   "metadata": {
    "scrolled": true
   },
   "outputs": [
    {
     "data": {
      "text/html": [
       "<div>\n",
       "<style scoped>\n",
       "    .dataframe tbody tr th:only-of-type {\n",
       "        vertical-align: middle;\n",
       "    }\n",
       "\n",
       "    .dataframe tbody tr th {\n",
       "        vertical-align: top;\n",
       "    }\n",
       "\n",
       "    .dataframe thead th {\n",
       "        text-align: right;\n",
       "    }\n",
       "</style>\n",
       "<table border=\"1\" class=\"dataframe\">\n",
       "  <thead>\n",
       "    <tr style=\"text-align: right;\">\n",
       "      <th></th>\n",
       "      <th>1</th>\n",
       "      <th>Cement</th>\n",
       "      <th>Age</th>\n",
       "      <th>Cement^2</th>\n",
       "      <th>Cement Age</th>\n",
       "      <th>Age^2</th>\n",
       "    </tr>\n",
       "  </thead>\n",
       "  <tbody>\n",
       "    <tr>\n",
       "      <th>0</th>\n",
       "      <td>1.0</td>\n",
       "      <td>158.6</td>\n",
       "      <td>28.0</td>\n",
       "      <td>25153.96</td>\n",
       "      <td>4440.8</td>\n",
       "      <td>784.0</td>\n",
       "    </tr>\n",
       "    <tr>\n",
       "      <th>1</th>\n",
       "      <td>1.0</td>\n",
       "      <td>424.0</td>\n",
       "      <td>28.0</td>\n",
       "      <td>179776.00</td>\n",
       "      <td>11872.0</td>\n",
       "      <td>784.0</td>\n",
       "    </tr>\n",
       "    <tr>\n",
       "      <th>2</th>\n",
       "      <td>1.0</td>\n",
       "      <td>275.1</td>\n",
       "      <td>3.0</td>\n",
       "      <td>75680.01</td>\n",
       "      <td>825.3</td>\n",
       "      <td>9.0</td>\n",
       "    </tr>\n",
       "    <tr>\n",
       "      <th>3</th>\n",
       "      <td>1.0</td>\n",
       "      <td>252.0</td>\n",
       "      <td>28.0</td>\n",
       "      <td>63504.00</td>\n",
       "      <td>7056.0</td>\n",
       "      <td>784.0</td>\n",
       "    </tr>\n",
       "    <tr>\n",
       "      <th>4</th>\n",
       "      <td>1.0</td>\n",
       "      <td>168.9</td>\n",
       "      <td>3.0</td>\n",
       "      <td>28527.21</td>\n",
       "      <td>506.7</td>\n",
       "      <td>9.0</td>\n",
       "    </tr>\n",
       "  </tbody>\n",
       "</table>\n",
       "</div>"
      ],
      "text/plain": [
       "     1  Cement   Age   Cement^2  Cement Age  Age^2\n",
       "0  1.0   158.6  28.0   25153.96      4440.8  784.0\n",
       "1  1.0   424.0  28.0  179776.00     11872.0  784.0\n",
       "2  1.0   275.1   3.0   75680.01       825.3    9.0\n",
       "3  1.0   252.0  28.0   63504.00      7056.0  784.0\n",
       "4  1.0   168.9   3.0   28527.21       506.7    9.0"
      ]
     },
     "execution_count": 50,
     "metadata": {},
     "output_type": "execute_result"
    }
   ],
   "source": [
    "# polynomial features dataframe\n",
    "df_poly = pd.DataFrame(poly.transform(X_train), columns=poly.get_feature_names(input_features=X_train.columns))\n",
    "df_poly.head()"
   ]
  },
  {
   "cell_type": "markdown",
   "metadata": {},
   "source": [
    "### Apply to Data"
   ]
  },
  {
   "cell_type": "code",
   "execution_count": 51,
   "metadata": {},
   "outputs": [],
   "source": [
    "# fit and apply to training data\n",
    "X_train_poly = poly.fit_transform(X_train)"
   ]
  },
  {
   "cell_type": "code",
   "execution_count": 52,
   "metadata": {},
   "outputs": [],
   "source": [
    "# apply to test data\n",
    "X_test_poly = poly.transform(X_test)"
   ]
  },
  {
   "cell_type": "markdown",
   "metadata": {},
   "source": [
    "## Logarithmic Transformation <a name=\"log\"></a>\n",
    "Transform data into natural log scale"
   ]
  },
  {
   "cell_type": "code",
   "execution_count": 53,
   "metadata": {},
   "outputs": [
    {
     "data": {
      "text/html": [
       "<div>\n",
       "<style scoped>\n",
       "    .dataframe tbody tr th:only-of-type {\n",
       "        vertical-align: middle;\n",
       "    }\n",
       "\n",
       "    .dataframe tbody tr th {\n",
       "        vertical-align: top;\n",
       "    }\n",
       "\n",
       "    .dataframe thead th {\n",
       "        text-align: right;\n",
       "    }\n",
       "</style>\n",
       "<table border=\"1\" class=\"dataframe\">\n",
       "  <thead>\n",
       "    <tr style=\"text-align: right;\">\n",
       "      <th></th>\n",
       "      <th>Cement</th>\n",
       "      <th>Age</th>\n",
       "    </tr>\n",
       "  </thead>\n",
       "  <tbody>\n",
       "    <tr>\n",
       "      <th>995</th>\n",
       "      <td>5.066385</td>\n",
       "      <td>3.332205</td>\n",
       "    </tr>\n",
       "    <tr>\n",
       "      <th>507</th>\n",
       "      <td>6.049733</td>\n",
       "      <td>3.332205</td>\n",
       "    </tr>\n",
       "    <tr>\n",
       "      <th>334</th>\n",
       "      <td>5.617135</td>\n",
       "      <td>1.098612</td>\n",
       "    </tr>\n",
       "    <tr>\n",
       "      <th>848</th>\n",
       "      <td>5.529429</td>\n",
       "      <td>3.332205</td>\n",
       "    </tr>\n",
       "    <tr>\n",
       "      <th>294</th>\n",
       "      <td>5.129307</td>\n",
       "      <td>1.098612</td>\n",
       "    </tr>\n",
       "  </tbody>\n",
       "</table>\n",
       "</div>"
      ],
      "text/plain": [
       "       Cement       Age\n",
       "995  5.066385  3.332205\n",
       "507  6.049733  3.332205\n",
       "334  5.617135  1.098612\n",
       "848  5.529429  3.332205\n",
       "294  5.129307  1.098612"
      ]
     },
     "execution_count": 53,
     "metadata": {},
     "output_type": "execute_result"
    }
   ],
   "source": [
    "# transform training feature values to natural log scale\n",
    "X_train_ln = np.log(X_train)\n",
    "X_train_ln.head()"
   ]
  },
  {
   "cell_type": "code",
   "execution_count": 54,
   "metadata": {},
   "outputs": [
    {
     "data": {
      "image/png": "[encoded data removed]",
      "text/plain": [
       "<Figure size 432x288 with 1 Axes>"
      ]
     },
     "metadata": {},
     "output_type": "display_data"
    }
   ],
   "source": [
    "plt.scatter(X_train_ln.iloc[:, 0], y_train, c='orange')\n",
    "plt.title('Log Scale Feature vs Target')\n",
    "plt.xlabel(df.columns[0])\n",
    "plt.ylabel(df.columns[-1]);"
   ]
  },
  {
   "cell_type": "code",
   "execution_count": 55,
   "metadata": {},
   "outputs": [
    {
     "data": {
      "image/png": "[encoded data removed]",
      "text/plain": [
       "<Figure size 432x288 with 1 Axes>"
      ]
     },
     "metadata": {},
     "output_type": "display_data"
    }
   ],
   "source": [
    "plt.scatter(X_train.iloc[:, 0], y_train, label='Raw')\n",
    "plt.scatter(X_train_ln.iloc[:, 0], y_train, label='Log Scale')\n",
    "plt.title('Feature vs Target')\n",
    "plt.xlabel(df.columns[0])\n",
    "plt.ylabel(df.columns[-1])\n",
    "plt.legend();"
   ]
  },
  {
   "cell_type": "code",
   "execution_count": 56,
   "metadata": {},
   "outputs": [],
   "source": [
    "# transform test feature values to natural log scale\n",
    "X_test_ln = np.log(X_test)"
   ]
  },
  {
   "cell_type": "markdown",
   "metadata": {},
   "source": [
    "## Categorical Data <a name=\"cat\"></a>\n",
    "Convert non-numerical data to numerical encoding"
   ]
  },
  {
   "cell_type": "markdown",
   "metadata": {},
   "source": [
    "### One-Hot Encoding"
   ]
  },
  {
   "cell_type": "code",
   "execution_count": 57,
   "metadata": {},
   "outputs": [
    {
     "data": {
      "text/html": [
       "<div>\n",
       "<style scoped>\n",
       "    .dataframe tbody tr th:only-of-type {\n",
       "        vertical-align: middle;\n",
       "    }\n",
       "\n",
       "    .dataframe tbody tr th {\n",
       "        vertical-align: top;\n",
       "    }\n",
       "\n",
       "    .dataframe thead th {\n",
       "        text-align: right;\n",
       "    }\n",
       "</style>\n",
       "<table border=\"1\" class=\"dataframe\">\n",
       "  <thead>\n",
       "    <tr style=\"text-align: right;\">\n",
       "      <th></th>\n",
       "      <th>Cement</th>\n",
       "      <th>Age</th>\n",
       "      <th>Category</th>\n",
       "      <th>Strength</th>\n",
       "    </tr>\n",
       "  </thead>\n",
       "  <tbody>\n",
       "    <tr>\n",
       "      <th>0</th>\n",
       "      <td>540.0</td>\n",
       "      <td>28</td>\n",
       "      <td>gray</td>\n",
       "      <td>79.99</td>\n",
       "    </tr>\n",
       "    <tr>\n",
       "      <th>1</th>\n",
       "      <td>540.0</td>\n",
       "      <td>28</td>\n",
       "      <td>blue</td>\n",
       "      <td>61.89</td>\n",
       "    </tr>\n",
       "    <tr>\n",
       "      <th>2</th>\n",
       "      <td>332.5</td>\n",
       "      <td>270</td>\n",
       "      <td>blue</td>\n",
       "      <td>40.27</td>\n",
       "    </tr>\n",
       "    <tr>\n",
       "      <th>3</th>\n",
       "      <td>332.5</td>\n",
       "      <td>365</td>\n",
       "      <td>red</td>\n",
       "      <td>41.05</td>\n",
       "    </tr>\n",
       "    <tr>\n",
       "      <th>4</th>\n",
       "      <td>198.6</td>\n",
       "      <td>360</td>\n",
       "      <td>blue</td>\n",
       "      <td>44.30</td>\n",
       "    </tr>\n",
       "  </tbody>\n",
       "</table>\n",
       "</div>"
      ],
      "text/plain": [
       "   Cement  Age Category  Strength\n",
       "0   540.0   28     gray     79.99\n",
       "1   540.0   28     blue     61.89\n",
       "2   332.5  270     blue     40.27\n",
       "3   332.5  365      red     41.05\n",
       "4   198.6  360     blue     44.30"
      ]
     },
     "execution_count": 57,
     "metadata": {},
     "output_type": "execute_result"
    }
   ],
   "source": [
    "# create categorical feature\n",
    "df_cat = df.copy()\n",
    "group_set = ['red', 'blue', 'gray']\n",
    "group = random.choices(group_set, k=len(df_conc))\n",
    "df_cat.insert(2, 'Category', group)\n",
    "df_cat.head()"
   ]
  },
  {
   "cell_type": "code",
   "execution_count": 58,
   "metadata": {},
   "outputs": [
    {
     "data": {
      "text/html": [
       "<div>\n",
       "<style scoped>\n",
       "    .dataframe tbody tr th:only-of-type {\n",
       "        vertical-align: middle;\n",
       "    }\n",
       "\n",
       "    .dataframe tbody tr th {\n",
       "        vertical-align: top;\n",
       "    }\n",
       "\n",
       "    .dataframe thead th {\n",
       "        text-align: right;\n",
       "    }\n",
       "</style>\n",
       "<table border=\"1\" class=\"dataframe\">\n",
       "  <thead>\n",
       "    <tr style=\"text-align: right;\">\n",
       "      <th></th>\n",
       "      <th>blue</th>\n",
       "      <th>gray</th>\n",
       "      <th>red</th>\n",
       "    </tr>\n",
       "  </thead>\n",
       "  <tbody>\n",
       "    <tr>\n",
       "      <th>0</th>\n",
       "      <td>0</td>\n",
       "      <td>1</td>\n",
       "      <td>0</td>\n",
       "    </tr>\n",
       "    <tr>\n",
       "      <th>1</th>\n",
       "      <td>1</td>\n",
       "      <td>0</td>\n",
       "      <td>0</td>\n",
       "    </tr>\n",
       "    <tr>\n",
       "      <th>2</th>\n",
       "      <td>1</td>\n",
       "      <td>0</td>\n",
       "      <td>0</td>\n",
       "    </tr>\n",
       "    <tr>\n",
       "      <th>3</th>\n",
       "      <td>0</td>\n",
       "      <td>0</td>\n",
       "      <td>1</td>\n",
       "    </tr>\n",
       "    <tr>\n",
       "      <th>4</th>\n",
       "      <td>1</td>\n",
       "      <td>0</td>\n",
       "      <td>0</td>\n",
       "    </tr>\n",
       "  </tbody>\n",
       "</table>\n",
       "</div>"
      ],
      "text/plain": [
       "   blue  gray  red\n",
       "0     0     1    0\n",
       "1     1     0    0\n",
       "2     1     0    0\n",
       "3     0     0    1\n",
       "4     1     0    0"
      ]
     },
     "execution_count": 58,
     "metadata": {},
     "output_type": "execute_result"
    }
   ],
   "source": [
    "# one-hot encoding of categorical variables\n",
    "pd.get_dummies(df_cat['Category']).head()"
   ]
  },
  {
   "cell_type": "markdown",
   "metadata": {},
   "source": [
    "# Linear Regression Modeling <a name=\"model\"></a>"
   ]
  },
  {
   "cell_type": "code",
   "execution_count": 59,
   "metadata": {},
   "outputs": [],
   "source": [
    "from sklearn.linear_model import LinearRegression"
   ]
  },
  {
   "cell_type": "code",
   "execution_count": 60,
   "metadata": {},
   "outputs": [],
   "source": [
    "# create instance of linear regression model\n",
    "lin_reg = LinearRegression()"
   ]
  },
  {
   "cell_type": "code",
   "execution_count": 61,
   "metadata": {},
   "outputs": [
    {
     "data": {
      "text/plain": [
       "LinearRegression(copy_X=True, fit_intercept=True, n_jobs=1, normalize=False)"
      ]
     },
     "execution_count": 61,
     "metadata": {},
     "output_type": "execute_result"
    }
   ],
   "source": [
    "# fit model on training data\n",
    "lin_reg.fit(X_train, y_train)"
   ]
  },
  {
   "cell_type": "code",
   "execution_count": 62,
   "metadata": {},
   "outputs": [
    {
     "data": {
      "text/plain": [
       "array([0.07351341, 0.07984872])"
      ]
     },
     "execution_count": 62,
     "metadata": {},
     "output_type": "execute_result"
    }
   ],
   "source": [
    "# output model coefficients\n",
    "lin_reg.coef_"
   ]
  },
  {
   "cell_type": "code",
   "execution_count": 63,
   "metadata": {},
   "outputs": [
    {
     "data": {
      "text/plain": [
       "11.460889597721213"
      ]
     },
     "execution_count": 63,
     "metadata": {},
     "output_type": "execute_result"
    }
   ],
   "source": [
    "# output model intercept\n",
    "lin_reg.intercept_"
   ]
  },
  {
   "cell_type": "code",
   "execution_count": 64,
   "metadata": {},
   "outputs": [
    {
     "data": {
      "text/plain": [
       "Index(['Cement', 'Age'], dtype='object')"
      ]
     },
     "execution_count": 64,
     "metadata": {},
     "output_type": "execute_result"
    }
   ],
   "source": [
    "# features\n",
    "X.columns"
   ]
  },
  {
   "cell_type": "code",
   "execution_count": 65,
   "metadata": {},
   "outputs": [],
   "source": [
    "coefs = [lin_reg.intercept_, lin_reg.coef_[0], lin_reg.coef_[1]]"
   ]
  },
  {
   "cell_type": "code",
   "execution_count": 66,
   "metadata": {},
   "outputs": [],
   "source": [
    "feats = ['intercept', X.columns[0], X.columns[1]]"
   ]
  },
  {
   "cell_type": "code",
   "execution_count": 67,
   "metadata": {},
   "outputs": [
    {
     "data": {
      "text/html": [
       "<div>\n",
       "<style scoped>\n",
       "    .dataframe tbody tr th:only-of-type {\n",
       "        vertical-align: middle;\n",
       "    }\n",
       "\n",
       "    .dataframe tbody tr th {\n",
       "        vertical-align: top;\n",
       "    }\n",
       "\n",
       "    .dataframe thead th {\n",
       "        text-align: right;\n",
       "    }\n",
       "</style>\n",
       "<table border=\"1\" class=\"dataframe\">\n",
       "  <thead>\n",
       "    <tr style=\"text-align: right;\">\n",
       "      <th></th>\n",
       "      <th>Model Coefficients</th>\n",
       "    </tr>\n",
       "  </thead>\n",
       "  <tbody>\n",
       "    <tr>\n",
       "      <th>intercept</th>\n",
       "      <td>11.460890</td>\n",
       "    </tr>\n",
       "    <tr>\n",
       "      <th>Cement</th>\n",
       "      <td>0.073513</td>\n",
       "    </tr>\n",
       "    <tr>\n",
       "      <th>Age</th>\n",
       "      <td>0.079849</td>\n",
       "    </tr>\n",
       "  </tbody>\n",
       "</table>\n",
       "</div>"
      ],
      "text/plain": [
       "           Model Coefficients\n",
       "intercept           11.460890\n",
       "Cement               0.073513\n",
       "Age                  0.079849"
      ]
     },
     "execution_count": 67,
     "metadata": {},
     "output_type": "execute_result"
    }
   ],
   "source": [
    "pd.DataFrame(coefs, index=feats, columns=['Model Coefficients'])"
   ]
  },
  {
   "cell_type": "markdown",
   "metadata": {},
   "source": [
    "### Model Equation"
   ]
  },
  {
   "cell_type": "code",
   "execution_count": 68,
   "metadata": {
    "scrolled": true
   },
   "outputs": [
    {
     "name": "stdout",
     "output_type": "stream",
     "text": [
      "Linear Regression Model\n",
      "--------------------------------------------------------------------------------\n",
      "y = 0.0735*Cement + 0.0798*Age + 11.46\n",
      "--------------------------------------------------------------------------------\n"
     ]
    }
   ],
   "source": [
    "print('Linear Regression Model')\n",
    "print('-'*80)\n",
    "print(f'y = {round(lin_reg.coef_[0], 4)}*{X.columns[0]} \\\n",
    "+ {round(lin_reg.coef_[1], 4)}*{X.columns[1]} + {round(lin_reg.intercept_, 2)}')\n",
    "print('-'*80)"
   ]
  },
  {
   "cell_type": "markdown",
   "metadata": {},
   "source": [
    "### Model Vizualization"
   ]
  },
  {
   "cell_type": "code",
   "execution_count": 69,
   "metadata": {},
   "outputs": [
    {
     "data": {
      "image/png": "[encoded data removed]",
      "text/plain": [
       "<Figure size 432x288 with 1 Axes>"
      ]
     },
     "metadata": {},
     "output_type": "display_data"
    }
   ],
   "source": [
    "# uncomment for interactivity:\n",
    "# %matplotlib notebook\n",
    "\n",
    "x1_lim = np.linspace(min(x_1), max(x_1), 10)\n",
    "x2_lim = np.linspace(min(x_2), max(x_2), 10)\n",
    "\n",
    "X1, X2 = np.meshgrid(x1_lim, x2_lim)\n",
    "Y = lin_reg.coef_[0]*X1 + lin_reg.coef_[1]*X2 + lin_reg.intercept_\n",
    "\n",
    "fig = plt.figure()\n",
    "ax = fig.gca(projection='3d')\n",
    "ax.set_xlabel(x_1_label)\n",
    "ax.set_ylabel(x_2_label)\n",
    "ax.set_zlabel(y_label)\n",
    "\n",
    "surf = ax.plot_surface(X1, X2, Y)"
   ]
  },
  {
   "cell_type": "code",
   "execution_count": 70,
   "metadata": {},
   "outputs": [],
   "source": [
    "%matplotlib inline"
   ]
  },
  {
   "cell_type": "markdown",
   "metadata": {},
   "source": [
    "### Model Predictions"
   ]
  },
  {
   "cell_type": "code",
   "execution_count": 71,
   "metadata": {},
   "outputs": [
    {
     "data": {
      "text/plain": [
       "array([60.16023784, 38.67579264, 42.35953174, 38.35639777, 24.35609793,\n",
       "       34.01575985, 24.65015157, 37.95643757, 29.32560437, 47.53804373,\n",
       "       36.70635061, 24.53916413, 46.17822447, 35.81612104, 25.33334805,\n",
       "       28.78088782, 37.07391765, 30.41288549, 33.76581426, 24.70848408,\n",
       "       33.75111157, 31.57547369, 37.6703327 , 23.96247233, 28.37680318,\n",
       "       32.00884379, 28.56034759, 36.70635061, 35.14087402, 36.62148132,\n",
       "       43.46958422, 42.58742331, 33.60725277, 37.58887053, 24.00658038,\n",
       "       38.13986208, 29.31825302, 33.26592308, 21.79711398, 37.78060281,\n",
       "       34.07385325, 20.22799117, 33.24703706, 42.14634286, 28.60851977,\n",
       "       43.4264326 , 41.99931604, 63.1742876 , 35.89770311, 22.08788041,\n",
       "       37.29445788, 35.99643855, 25.16474543, 25.39191967, 50.82092509,\n",
       "       39.19445063, 28.20772234, 30.54520963, 29.92201941, 32.25878938,\n",
       "       33.25122039, 36.03337405, 36.35384526, 43.26302935, 29.28149632,\n",
       "       25.82636611, 32.22938401, 24.87069179, 33.11985269, 31.0600426 ,\n",
       "       32.94581088, 27.21576953, 30.37284158, 36.68429658, 24.28258452,\n",
       "       28.04981786, 62.95374738, 37.99319428, 52.02750143, 22.28230248,\n",
       "       36.09613043, 40.58714127, 43.1272392 , 33.43596035, 65.04887953,\n",
       "       38.35639777, 24.13555771, 32.94981542, 25.95821203, 29.48685565,\n",
       "       38.61769924, 48.26481044, 25.7194428 , 38.02959197, 35.58894679,\n",
       "       46.98759071, 28.16361429, 29.40646912, 40.5912054 , 41.21589058,\n",
       "       41.2046539 , 34.79500198, 43.29309315, 40.10195277, 53.20491151,\n",
       "       29.52337324, 31.72250051, 36.10354066, 29.39176643, 36.70635061,\n",
       "       50.46889939, 36.30298329, 36.46303903, 33.75882193, 38.41114437,\n",
       "       48.71939804, 37.74952369, 25.60582588, 31.97304352, 35.60364948,\n",
       "       32.07428853, 37.31967991, 31.62753049, 41.66211079, 23.62096384,\n",
       "       29.31185812, 52.27601237, 43.26302935, 34.89792075, 32.87630201,\n",
       "       30.54520963, 32.9493372 , 28.39933541, 48.20480417, 30.44635499,\n",
       "       57.46325146, 38.02959197, 35.03795525, 33.04872966, 25.16474543,\n",
       "       26.37036533, 37.36797129, 24.45501217, 39.01048831, 36.77986402,\n",
       "       34.05986789, 24.91479984, 24.34139525, 21.47771912, 33.7062862 ,\n",
       "       34.06721923, 25.76755538, 40.46951981, 25.2524833 , 31.86217599,\n",
       "       37.82411344, 35.75067629, 65.5308993 , 38.67579264, 37.36797129,\n",
       "       26.6195936 , 41.26418195, 34.3166866 , 60.95513838, 42.94363448,\n",
       "       42.32373147, 50.07425633, 31.0600426 , 44.80681093, 30.21111208,\n",
       "       33.92019241, 23.56143579, 26.89183232, 37.69878163, 24.87069179,\n",
       "       25.70802733, 28.39933541, 34.47985076, 37.40472799, 50.75470414,\n",
       "       25.23825884, 24.56193548, 36.68429658, 51.56335163, 31.83976295,\n",
       "       55.36811931, 34.35392153, 29.78873884, 36.54061657, 34.80898734,\n",
       "       40.15012495, 32.11947292, 33.43536293, 43.18951594, 59.27807694,\n",
       "       24.85551089, 34.07552701, 25.7528527 , 24.46636805, 26.21598717,\n",
       "       32.95668854, 48.71939804, 32.4425729 , 33.06671955, 47.10210304,\n",
       "       43.56831966])"
      ]
     },
     "execution_count": 71,
     "metadata": {},
     "output_type": "execute_result"
    }
   ],
   "source": [
    "# predict target variable with test feature data as input\n",
    "lin_reg.predict(X_test)"
   ]
  },
  {
   "cell_type": "markdown",
   "metadata": {},
   "source": [
    "## Cross Validation <a name=\"crs_val\"></a>\n",
    "Score model multiple times using different segments of training data"
   ]
  },
  {
   "cell_type": "code",
   "execution_count": 72,
   "metadata": {},
   "outputs": [],
   "source": [
    "from sklearn.model_selection import cross_val_score"
   ]
  },
  {
   "cell_type": "code",
   "execution_count": 73,
   "metadata": {},
   "outputs": [
    {
     "data": {
      "text/plain": [
       "array([0.28550795, 0.33908852, 0.28792884, 0.27291628, 0.32788017,\n",
       "       0.42747334, 0.25370201, 0.39314915, 0.23017856, 0.34670925])"
      ]
     },
     "execution_count": 73,
     "metadata": {},
     "output_type": "execute_result"
    }
   ],
   "source": [
    "# output R-squared scores for cv number of model trials\n",
    "cross_val_score(lin_reg, X_train, y_train, cv=10)"
   ]
  },
  {
   "cell_type": "code",
   "execution_count": 74,
   "metadata": {},
   "outputs": [
    {
     "data": {
      "text/plain": [
       "0.3164534074003848"
      ]
     },
     "execution_count": 74,
     "metadata": {},
     "output_type": "execute_result"
    }
   ],
   "source": [
    "# calculate average score for all cross validation trials\n",
    "np.mean(cross_val_score(lin_reg, X_train, y_train, cv=10))"
   ]
  },
  {
   "cell_type": "markdown",
   "metadata": {},
   "source": [
    "## Model Evaluation <a name=\"eval\"></a>\n",
    "Evaluate model using test data"
   ]
  },
  {
   "cell_type": "markdown",
   "metadata": {},
   "source": [
    "### Plot of Observed and Predicted Targets"
   ]
  },
  {
   "cell_type": "code",
   "execution_count": 75,
   "metadata": {},
   "outputs": [],
   "source": [
    "predictions = lin_reg.predict(X_test)"
   ]
  },
  {
   "cell_type": "code",
   "execution_count": 76,
   "metadata": {},
   "outputs": [],
   "source": [
    "x_1_test = X_test.iloc[:, 0]\n",
    "x_2_test = X_test.iloc[:, 1]"
   ]
  },
  {
   "cell_type": "code",
   "execution_count": 77,
   "metadata": {},
   "outputs": [
    {
     "data": {
      "image/png": "[encoded data removed]",
      "text/plain": [
       "<Figure size 432x288 with 1 Axes>"
      ]
     },
     "metadata": {},
     "output_type": "display_data"
    }
   ],
   "source": [
    "# uncomment for interactivity:\n",
    "# %matplotlib notebook\n",
    "\n",
    "x1_lim = np.linspace(min(x_1), max(x_1), 10)\n",
    "x2_lim = np.linspace(min(x_2), max(x_2), 10)\n",
    "\n",
    "X1, X2 = np.meshgrid(x1_lim, x2_lim)\n",
    "Y = lin_reg.coef_[0]*X1 + lin_reg.coef_[1]*X2 + lin_reg.intercept_\n",
    "\n",
    "fig = plt.figure()\n",
    "ax = fig.gca(projection='3d')\n",
    "ax.set_xlabel(x_1_label)\n",
    "ax.set_ylabel(x_2_label)\n",
    "ax.set_zlabel(y_label)\n",
    "\n",
    "ax.scatter3D(x_1_test, x_2_test, y_test)\n",
    "surf = ax.plot_surface(X1, X2, Y)"
   ]
  },
  {
   "cell_type": "code",
   "execution_count": 78,
   "metadata": {},
   "outputs": [],
   "source": [
    "%matplotlib inline"
   ]
  },
  {
   "cell_type": "code",
   "execution_count": 79,
   "metadata": {},
   "outputs": [
    {
     "data": {
      "image/png": "[encoded data removed]",
      "text/plain": [
       "<Figure size 432x288 with 1 Axes>"
      ]
     },
     "metadata": {},
     "output_type": "display_data"
    }
   ],
   "source": [
    "# plot feature vs observed and predicted values for target\n",
    "fig, ax = plt.subplots()\n",
    "ax.scatter(x_1_test, y_test, label='Observation')\n",
    "z = np.polyfit(x_1_test, y_test, 1)\n",
    "p = np.poly1d(z)\n",
    "ax.plot(x_1_test, p(x_1_test), \"b-\", linewidth=1, label='Observed Trendline')\n",
    "ax.scatter(x_1_test, predictions, label='Prediction')\n",
    "z = np.polyfit(x_1_test, predictions, 1)\n",
    "p = np.poly1d(z)\n",
    "ax.plot(x_1_test, p(x_1_test), \"r-\", linewidth=1, label='Predicted Trendline')\n",
    "ax.axhline(y=np.mean(y_test), linewidth=2, linestyle='dashed', c='b', label='Observed Mean')\n",
    "ax.legend()\n",
    "ax.set_xlabel(df.columns[0])\n",
    "ax.set_ylabel(df.columns[-1])\n",
    "ax.set_title('Feature vs Observed and Predicted Targets');"
   ]
  },
  {
   "cell_type": "code",
   "execution_count": 80,
   "metadata": {},
   "outputs": [
    {
     "data": {
      "image/png": "[encoded data removed]",
      "text/plain": [
       "<Figure size 432x288 with 1 Axes>"
      ]
     },
     "metadata": {},
     "output_type": "display_data"
    }
   ],
   "source": [
    "# plot feature vs observed and predicted values for target\n",
    "fig, ax = plt.subplots()\n",
    "ax.scatter(x_2_test, y_test, label='Observation')\n",
    "z = np.polyfit(x_2_test, y_test, 1)\n",
    "p = np.poly1d(z)\n",
    "ax.plot(x_2_test, p(x_2_test), \"b-\", linewidth=1, label='Observed Trendline')\n",
    "ax.scatter(x_2_test, predictions, label='Prediction')\n",
    "z = np.polyfit(x_2_test, predictions, 1)\n",
    "p = np.poly1d(z)\n",
    "ax.plot(x_2_test, p(x_2_test), \"r-\", linewidth=1, label='Predicted Trendline')\n",
    "ax.axhline(y=np.mean(y_test), linewidth=2, linestyle='dashed', c='b', label='Observed Mean')\n",
    "ax.legend()\n",
    "ax.set_xlabel(df.columns[1])\n",
    "ax.set_ylabel(df.columns[-1])\n",
    "ax.set_title('Feature vs Observed and Predicted Targets');"
   ]
  },
  {
   "cell_type": "markdown",
   "metadata": {},
   "source": [
    "### Calculate R-squared Value\n",
    "Proportion of target variation explained by the model"
   ]
  },
  {
   "cell_type": "code",
   "execution_count": 81,
   "metadata": {},
   "outputs": [
    {
     "data": {
      "text/plain": [
       "0.3449454006130701"
      ]
     },
     "execution_count": 81,
     "metadata": {},
     "output_type": "execute_result"
    }
   ],
   "source": [
    "# sum of squared errors (observations - predictions)^2\n",
    "SSE = sum((y_test - predictions)**2)\n",
    "# sum squared errors from observed mean (observations - observed mean)^2\n",
    "SST = sum((y_test - np.mean(y_test))**2)\n",
    "# calculated r-squared score\n",
    "R_sqr = 1 - SSE/SST\n",
    "R_sqr"
   ]
  },
  {
   "cell_type": "code",
   "execution_count": 82,
   "metadata": {},
   "outputs": [
    {
     "data": {
      "text/plain": [
       "0.34494540061307033"
      ]
     },
     "execution_count": 82,
     "metadata": {},
     "output_type": "execute_result"
    }
   ],
   "source": [
    "# model r-squared score\n",
    "lin_reg.score(X_test, y_test)"
   ]
  },
  {
   "cell_type": "markdown",
   "metadata": {},
   "source": [
    "### Plot of Accuracy"
   ]
  },
  {
   "cell_type": "code",
   "execution_count": 83,
   "metadata": {},
   "outputs": [
    {
     "data": {
      "image/png": "[encoded data removed]",
      "text/plain": [
       "<Figure size 432x288 with 1 Axes>"
      ]
     },
     "metadata": {},
     "output_type": "display_data"
    }
   ],
   "source": [
    "fig, ax = plt.subplots()\n",
    "ax.scatter(y_test, predictions)\n",
    "ax.set_xlabel('Observed Target')\n",
    "ax.set_ylabel('Predicted Target')\n",
    "ax.set_title('Observed vs Predicted Target');"
   ]
  },
  {
   "cell_type": "markdown",
   "metadata": {},
   "source": [
    "### Residual Plot\n",
    "Determine if residuals are normally distributed as assumed by model"
   ]
  },
  {
   "cell_type": "code",
   "execution_count": 84,
   "metadata": {},
   "outputs": [],
   "source": [
    "# calculate residual values (observations - predictions)\n",
    "residuals = y_test - predictions"
   ]
  },
  {
   "cell_type": "code",
   "execution_count": 85,
   "metadata": {},
   "outputs": [
    {
     "data": {
      "image/png": "[encoded data removed]",
      "text/plain": [
       "<Figure size 432x288 with 1 Axes>"
      ]
     },
     "metadata": {},
     "output_type": "display_data"
    }
   ],
   "source": [
    "fig, ax = plt.subplots()\n",
    "ax.scatter(predictions, residuals)\n",
    "ax.set_xlabel(df.columns[-1])\n",
    "ax.set_ylabel('Residual')\n",
    "ax.set_title('Residual Plot');"
   ]
  },
  {
   "cell_type": "markdown",
   "metadata": {},
   "source": [
    "### Q-Q Plot\n",
    "Determine if residuals are normally distributed as assumed by model  \n",
    "Points should mainly fall on the trendline"
   ]
  },
  {
   "cell_type": "code",
   "execution_count": 86,
   "metadata": {},
   "outputs": [],
   "source": [
    "import scipy.stats as stats"
   ]
  },
  {
   "cell_type": "code",
   "execution_count": 87,
   "metadata": {
    "scrolled": true
   },
   "outputs": [
    {
     "data": {
      "image/png": "[encoded data removed]",
      "text/plain": [
       "<Figure size 432x288 with 1 Axes>"
      ]
     },
     "metadata": {},
     "output_type": "display_data"
    }
   ],
   "source": [
    "stats.probplot(residuals, dist=\"norm\", plot=plt)\n",
    "plt.title(\"Normal Q-Q plot\");"
   ]
  },
  {
   "cell_type": "markdown",
   "metadata": {},
   "source": [
    "## Feature Selection <a name=\"feat_sel\"></a>\n",
    "Score features to determine if they have a significant impact on model predictions"
   ]
  },
  {
   "cell_type": "code",
   "execution_count": 88,
   "metadata": {},
   "outputs": [],
   "source": [
    "from sklearn import feature_selection"
   ]
  },
  {
   "cell_type": "code",
   "execution_count": 89,
   "metadata": {},
   "outputs": [],
   "source": [
    "# create instance of feature selector\n",
    "feat_selector = feature_selection.SelectKBest(score_func=feature_selection.f_regression, k='all')"
   ]
  },
  {
   "cell_type": "code",
   "execution_count": 90,
   "metadata": {},
   "outputs": [
    {
     "data": {
      "text/plain": [
       "SelectKBest(k='all', score_func=<function f_regression at 0x7efd19304510>)"
      ]
     },
     "execution_count": 90,
     "metadata": {},
     "output_type": "execute_result"
    }
   ],
   "source": [
    "# fit on training data\n",
    "feat_selector.fit(X_train, y_train)"
   ]
  },
  {
   "cell_type": "code",
   "execution_count": 91,
   "metadata": {},
   "outputs": [
    {
     "data": {
      "text/plain": [
       "Index(['Cement', 'Age'], dtype='object')"
      ]
     },
     "execution_count": 91,
     "metadata": {},
     "output_type": "execute_result"
    }
   ],
   "source": [
    "# features\n",
    "X.columns"
   ]
  },
  {
   "cell_type": "code",
   "execution_count": 92,
   "metadata": {},
   "outputs": [
    {
     "data": {
      "text/plain": [
       "array([269.19472061, 101.87905754])"
      ]
     },
     "execution_count": 92,
     "metadata": {},
     "output_type": "execute_result"
    }
   ],
   "source": [
    "# output scores for each feature\n",
    "feat_selector.scores_"
   ]
  },
  {
   "cell_type": "code",
   "execution_count": 93,
   "metadata": {},
   "outputs": [
    {
     "data": {
      "text/html": [
       "<div>\n",
       "<style scoped>\n",
       "    .dataframe tbody tr th:only-of-type {\n",
       "        vertical-align: middle;\n",
       "    }\n",
       "\n",
       "    .dataframe tbody tr th {\n",
       "        vertical-align: top;\n",
       "    }\n",
       "\n",
       "    .dataframe thead th {\n",
       "        text-align: right;\n",
       "    }\n",
       "</style>\n",
       "<table border=\"1\" class=\"dataframe\">\n",
       "  <thead>\n",
       "    <tr style=\"text-align: right;\">\n",
       "      <th></th>\n",
       "      <th>Feature Score</th>\n",
       "    </tr>\n",
       "  </thead>\n",
       "  <tbody>\n",
       "    <tr>\n",
       "      <th>Cement</th>\n",
       "      <td>269.194721</td>\n",
       "    </tr>\n",
       "    <tr>\n",
       "      <th>Age</th>\n",
       "      <td>101.879058</td>\n",
       "    </tr>\n",
       "  </tbody>\n",
       "</table>\n",
       "</div>"
      ],
      "text/plain": [
       "        Feature Score\n",
       "Cement     269.194721\n",
       "Age        101.879058"
      ]
     },
     "execution_count": 93,
     "metadata": {},
     "output_type": "execute_result"
    }
   ],
   "source": [
    "pd.DataFrame(feat_selector.scores_, index=X.columns, columns=['Feature Score'])"
   ]
  },
  {
   "cell_type": "markdown",
   "metadata": {},
   "source": [
    "# Refined Modeling <a name=\"ref_mod\"></a>"
   ]
  },
  {
   "cell_type": "code",
   "execution_count": 94,
   "metadata": {},
   "outputs": [
    {
     "data": {
      "text/html": [
       "<div>\n",
       "<style scoped>\n",
       "    .dataframe tbody tr th:only-of-type {\n",
       "        vertical-align: middle;\n",
       "    }\n",
       "\n",
       "    .dataframe tbody tr th {\n",
       "        vertical-align: top;\n",
       "    }\n",
       "\n",
       "    .dataframe thead th {\n",
       "        text-align: right;\n",
       "    }\n",
       "</style>\n",
       "<table border=\"1\" class=\"dataframe\">\n",
       "  <thead>\n",
       "    <tr style=\"text-align: right;\">\n",
       "      <th></th>\n",
       "      <th>Cement (component 1)(kg in a m^3 mixture)</th>\n",
       "      <th>Blast Furnace Slag (component 2)(kg in a m^3 mixture)</th>\n",
       "      <th>Fly Ash (component 3)(kg in a m^3 mixture)</th>\n",
       "      <th>Water  (component 4)(kg in a m^3 mixture)</th>\n",
       "      <th>Superplasticizer (component 5)(kg in a m^3 mixture)</th>\n",
       "      <th>Coarse Aggregate  (component 6)(kg in a m^3 mixture)</th>\n",
       "      <th>Fine Aggregate (component 7)(kg in a m^3 mixture)</th>\n",
       "      <th>Age (day)</th>\n",
       "      <th>Concrete compressive strength(MPa, megapascals)</th>\n",
       "    </tr>\n",
       "  </thead>\n",
       "  <tbody>\n",
       "    <tr>\n",
       "      <th>0</th>\n",
       "      <td>540.0</td>\n",
       "      <td>0.0</td>\n",
       "      <td>0.0</td>\n",
       "      <td>162.0</td>\n",
       "      <td>2.5</td>\n",
       "      <td>1040.0</td>\n",
       "      <td>676.0</td>\n",
       "      <td>28</td>\n",
       "      <td>79.99</td>\n",
       "    </tr>\n",
       "    <tr>\n",
       "      <th>1</th>\n",
       "      <td>540.0</td>\n",
       "      <td>0.0</td>\n",
       "      <td>0.0</td>\n",
       "      <td>162.0</td>\n",
       "      <td>2.5</td>\n",
       "      <td>1055.0</td>\n",
       "      <td>676.0</td>\n",
       "      <td>28</td>\n",
       "      <td>61.89</td>\n",
       "    </tr>\n",
       "    <tr>\n",
       "      <th>2</th>\n",
       "      <td>332.5</td>\n",
       "      <td>142.5</td>\n",
       "      <td>0.0</td>\n",
       "      <td>228.0</td>\n",
       "      <td>0.0</td>\n",
       "      <td>932.0</td>\n",
       "      <td>594.0</td>\n",
       "      <td>270</td>\n",
       "      <td>40.27</td>\n",
       "    </tr>\n",
       "    <tr>\n",
       "      <th>3</th>\n",
       "      <td>332.5</td>\n",
       "      <td>142.5</td>\n",
       "      <td>0.0</td>\n",
       "      <td>228.0</td>\n",
       "      <td>0.0</td>\n",
       "      <td>932.0</td>\n",
       "      <td>594.0</td>\n",
       "      <td>365</td>\n",
       "      <td>41.05</td>\n",
       "    </tr>\n",
       "    <tr>\n",
       "      <th>4</th>\n",
       "      <td>198.6</td>\n",
       "      <td>132.4</td>\n",
       "      <td>0.0</td>\n",
       "      <td>192.0</td>\n",
       "      <td>0.0</td>\n",
       "      <td>978.4</td>\n",
       "      <td>825.5</td>\n",
       "      <td>360</td>\n",
       "      <td>44.30</td>\n",
       "    </tr>\n",
       "  </tbody>\n",
       "</table>\n",
       "</div>"
      ],
      "text/plain": [
       "   Cement (component 1)(kg in a m^3 mixture)  \\\n",
       "0                                      540.0   \n",
       "1                                      540.0   \n",
       "2                                      332.5   \n",
       "3                                      332.5   \n",
       "4                                      198.6   \n",
       "\n",
       "   Blast Furnace Slag (component 2)(kg in a m^3 mixture)  \\\n",
       "0                                                0.0       \n",
       "1                                                0.0       \n",
       "2                                              142.5       \n",
       "3                                              142.5       \n",
       "4                                              132.4       \n",
       "\n",
       "   Fly Ash (component 3)(kg in a m^3 mixture)  \\\n",
       "0                                         0.0   \n",
       "1                                         0.0   \n",
       "2                                         0.0   \n",
       "3                                         0.0   \n",
       "4                                         0.0   \n",
       "\n",
       "   Water  (component 4)(kg in a m^3 mixture)  \\\n",
       "0                                      162.0   \n",
       "1                                      162.0   \n",
       "2                                      228.0   \n",
       "3                                      228.0   \n",
       "4                                      192.0   \n",
       "\n",
       "   Superplasticizer (component 5)(kg in a m^3 mixture)  \\\n",
       "0                                                2.5     \n",
       "1                                                2.5     \n",
       "2                                                0.0     \n",
       "3                                                0.0     \n",
       "4                                                0.0     \n",
       "\n",
       "   Coarse Aggregate  (component 6)(kg in a m^3 mixture)  \\\n",
       "0                                             1040.0      \n",
       "1                                             1055.0      \n",
       "2                                              932.0      \n",
       "3                                              932.0      \n",
       "4                                              978.4      \n",
       "\n",
       "   Fine Aggregate (component 7)(kg in a m^3 mixture)  Age (day)  \\\n",
       "0                                              676.0         28   \n",
       "1                                              676.0         28   \n",
       "2                                              594.0        270   \n",
       "3                                              594.0        365   \n",
       "4                                              825.5        360   \n",
       "\n",
       "   Concrete compressive strength(MPa, megapascals)   \n",
       "0                                             79.99  \n",
       "1                                             61.89  \n",
       "2                                             40.27  \n",
       "3                                             41.05  \n",
       "4                                             44.30  "
      ]
     },
     "execution_count": 94,
     "metadata": {},
     "output_type": "execute_result"
    }
   ],
   "source": [
    "# full dataset\n",
    "df_conc.head()"
   ]
  },
  {
   "cell_type": "markdown",
   "metadata": {},
   "source": [
    "## Define Variables"
   ]
  },
  {
   "cell_type": "code",
   "execution_count": 95,
   "metadata": {},
   "outputs": [],
   "source": [
    "# independent (feature) variables\n",
    "X = df_conc.iloc[:, 0:-1]"
   ]
  },
  {
   "cell_type": "code",
   "execution_count": 96,
   "metadata": {},
   "outputs": [],
   "source": [
    "# dependent (target) variable\n",
    "y = df_conc.iloc[:, -1]"
   ]
  },
  {
   "cell_type": "markdown",
   "metadata": {},
   "source": [
    "## Test/Train Split <a name=\"tt_splt\"></a>\n",
    "Split data into feature training, feature test, target training and target test variables"
   ]
  },
  {
   "cell_type": "code",
   "execution_count": 97,
   "metadata": {},
   "outputs": [],
   "source": [
    "from sklearn.model_selection import train_test_split"
   ]
  },
  {
   "cell_type": "code",
   "execution_count": 98,
   "metadata": {},
   "outputs": [],
   "source": [
    "# specify test size\n",
    "X_train, X_test, y_train, y_test = train_test_split(X, y, test_size=0.2, random_state=42)"
   ]
  },
  {
   "cell_type": "markdown",
   "metadata": {},
   "source": [
    "## Data Transformations"
   ]
  },
  {
   "cell_type": "markdown",
   "metadata": {},
   "source": [
    "### Normalize"
   ]
  },
  {
   "cell_type": "code",
   "execution_count": 99,
   "metadata": {},
   "outputs": [],
   "source": [
    "from sklearn.preprocessing import MinMaxScaler"
   ]
  },
  {
   "cell_type": "code",
   "execution_count": 100,
   "metadata": {},
   "outputs": [],
   "source": [
    "norm_scaler = MinMaxScaler()\n",
    "X_train_norm = norm_scaler.fit_transform(X_train)\n",
    "X_test_norm = norm_scaler.transform(X_test)"
   ]
  },
  {
   "cell_type": "markdown",
   "metadata": {},
   "source": [
    "### Polynomial"
   ]
  },
  {
   "cell_type": "code",
   "execution_count": 101,
   "metadata": {},
   "outputs": [],
   "source": [
    "from sklearn.preprocessing import PolynomialFeatures"
   ]
  },
  {
   "cell_type": "code",
   "execution_count": 102,
   "metadata": {},
   "outputs": [],
   "source": [
    "poly = PolynomialFeatures(4)\n",
    "X_train_norm_poly = poly.fit_transform(X_train_norm)\n",
    "X_test_norm_poly = poly.transform(X_test_norm)"
   ]
  },
  {
   "cell_type": "markdown",
   "metadata": {},
   "source": [
    "## Modeling"
   ]
  },
  {
   "cell_type": "code",
   "execution_count": 103,
   "metadata": {},
   "outputs": [],
   "source": [
    "from sklearn.linear_model import LinearRegression"
   ]
  },
  {
   "cell_type": "code",
   "execution_count": 104,
   "metadata": {},
   "outputs": [
    {
     "data": {
      "text/plain": [
       "0.9832765787994403"
      ]
     },
     "execution_count": 104,
     "metadata": {},
     "output_type": "execute_result"
    }
   ],
   "source": [
    "lin_reg = LinearRegression()\n",
    "lin_reg.fit(X_train_norm_poly, y_train)\n",
    "lin_reg.score(X_train_norm_poly, y_train)"
   ]
  },
  {
   "cell_type": "code",
   "execution_count": 105,
   "metadata": {},
   "outputs": [],
   "source": [
    "from sklearn.model_selection import cross_val_score"
   ]
  },
  {
   "cell_type": "code",
   "execution_count": 106,
   "metadata": {},
   "outputs": [
    {
     "data": {
      "text/plain": [
       "-397.2481897619681"
      ]
     },
     "execution_count": 106,
     "metadata": {},
     "output_type": "execute_result"
    }
   ],
   "source": [
    "np.mean(cross_val_score(lin_reg, X_train_norm_poly, y_train, cv=10))"
   ]
  },
  {
   "cell_type": "code",
   "execution_count": 107,
   "metadata": {},
   "outputs": [
    {
     "data": {
      "text/plain": [
       "-25.7337390454956"
      ]
     },
     "execution_count": 107,
     "metadata": {},
     "output_type": "execute_result"
    }
   ],
   "source": [
    "lin_reg.score(X_test_norm_poly, y_test)"
   ]
  },
  {
   "cell_type": "markdown",
   "metadata": {},
   "source": [
    "## Pipeline <a name=\"pipe\"></a>"
   ]
  },
  {
   "cell_type": "code",
   "execution_count": 108,
   "metadata": {},
   "outputs": [],
   "source": [
    "from sklearn.pipeline import Pipeline"
   ]
  },
  {
   "cell_type": "code",
   "execution_count": 109,
   "metadata": {},
   "outputs": [],
   "source": [
    "# set pipeline parameters\n",
    "lr_pipe = Pipeline([\n",
    "    ('scaler', MinMaxScaler()), # apply normalizer to data\n",
    "    ('poly', PolynomialFeatures(4)), # calculate polynomial features\n",
    "    ('model', LinearRegression()) # linear regression modeling\n",
    "])"
   ]
  },
  {
   "cell_type": "code",
   "execution_count": 110,
   "metadata": {},
   "outputs": [
    {
     "data": {
      "text/plain": [
       "Pipeline(memory=None,\n",
       "     steps=[('scaler', MinMaxScaler(copy=True, feature_range=(0, 1))), ('poly', PolynomialFeatures(degree=4, include_bias=True, interaction_only=False)), ('model', LinearRegression(copy_X=True, fit_intercept=True, n_jobs=1, normalize=False))])"
      ]
     },
     "execution_count": 110,
     "metadata": {},
     "output_type": "execute_result"
    }
   ],
   "source": [
    "# fit model using pipeline parameters\n",
    "lr_pipe.fit(X_train, y_train)"
   ]
  },
  {
   "cell_type": "code",
   "execution_count": 111,
   "metadata": {},
   "outputs": [
    {
     "data": {
      "text/plain": [
       "-25.7337390454956"
      ]
     },
     "execution_count": 111,
     "metadata": {},
     "output_type": "execute_result"
    }
   ],
   "source": [
    "# score pipelined model\n",
    "lr_pipe.score(X_test, y_test)"
   ]
  },
  {
   "cell_type": "markdown",
   "metadata": {},
   "source": [
    "## Regularization <a name=\"reg\"></a>\n",
    "Optimizes feature effects in model  \n",
    "Introduces penalty for adding features  \n",
    "Reduces overfitting"
   ]
  },
  {
   "cell_type": "code",
   "execution_count": 112,
   "metadata": {},
   "outputs": [],
   "source": [
    "from sklearn import linear_model"
   ]
  },
  {
   "cell_type": "markdown",
   "metadata": {},
   "source": [
    "### Ridge\n",
    "Adds the L2 norm (square root of the sum of squares) of the coefficients to the cost function"
   ]
  },
  {
   "cell_type": "code",
   "execution_count": 113,
   "metadata": {},
   "outputs": [],
   "source": [
    "# specify alpha values\n",
    "# higher alpha values penalize coefficients more\n",
    "alpha_range = np.linspace(0.0001, 0.1, 50)"
   ]
  },
  {
   "cell_type": "code",
   "execution_count": 114,
   "metadata": {},
   "outputs": [],
   "source": [
    "# initialize regularized model\n",
    "LR_ridgecv = linear_model.RidgeCV(alphas=alpha_range, cv=10, scoring='r2')"
   ]
  },
  {
   "cell_type": "code",
   "execution_count": 115,
   "metadata": {},
   "outputs": [
    {
     "data": {
      "text/plain": [
       "RidgeCV(alphas=array([0.0001 , 0.00214, 0.00418, 0.00622, 0.00826, 0.01029, 0.01233,\n",
       "       0.01437, 0.01641, 0.01845, 0.02049, 0.02253, 0.02457, 0.0266 ,\n",
       "       0.02864, 0.03068, 0.03272, 0.03476, 0.0368 , 0.03884, 0.04088,\n",
       "       0.04291, 0.04495, 0.04699, 0.04903, 0.05107, 0.05311, 0.05515,\n",
       "       0.0571...165, 0.08369,\n",
       "       0.08573, 0.08777, 0.08981, 0.09184, 0.09388, 0.09592, 0.09796,\n",
       "       0.1    ]),\n",
       "    cv=10, fit_intercept=True, gcv_mode=None, normalize=False,\n",
       "    scoring='r2', store_cv_values=False)"
      ]
     },
     "execution_count": 115,
     "metadata": {},
     "output_type": "execute_result"
    }
   ],
   "source": [
    "# fit model on traning data\n",
    "LR_ridgecv.fit(X_train_norm_poly, y_train)"
   ]
  },
  {
   "cell_type": "code",
   "execution_count": 116,
   "metadata": {},
   "outputs": [
    {
     "data": {
      "text/plain": [
       "0.8639285666676336"
      ]
     },
     "execution_count": 116,
     "metadata": {},
     "output_type": "execute_result"
    }
   ],
   "source": [
    "# score on test data\n",
    "LR_ridgecv.score(X_test_norm_poly, y_test)"
   ]
  },
  {
   "cell_type": "code",
   "execution_count": 117,
   "metadata": {},
   "outputs": [
    {
     "data": {
      "text/plain": [
       "0.0021387755102040816"
      ]
     },
     "execution_count": 117,
     "metadata": {},
     "output_type": "execute_result"
    }
   ],
   "source": [
    "# output best alpha value\n",
    "LR_ridgecv.alpha_"
   ]
  },
  {
   "cell_type": "markdown",
   "metadata": {},
   "source": [
    "### Lasso\n",
    "Adds the L1 norm (sum of absolute values) of the coefficients to the cost function"
   ]
  },
  {
   "cell_type": "code",
   "execution_count": 118,
   "metadata": {},
   "outputs": [],
   "source": [
    "# specify alpha values\n",
    "# higher alpha values penalize coefficients more\n",
    "alpha_range = np.linspace(0.0001, 0.1, 50)"
   ]
  },
  {
   "cell_type": "code",
   "execution_count": 119,
   "metadata": {},
   "outputs": [],
   "source": [
    "# initialize regularized model\n",
    "LR_lassocv = linear_model.LassoCV(alphas=alpha_range, cv=10)"
   ]
  },
  {
   "cell_type": "code",
   "execution_count": 120,
   "metadata": {},
   "outputs": [
    {
     "name": "stderr",
     "output_type": "stream",
     "text": [
      "/home/kevcon/anaconda3/lib/python3.6/site-packages/sklearn/linear_model/coordinate_descent.py:491: ConvergenceWarning: Objective did not converge. You might want to increase the number of iterations. Fitting data with very small alpha may cause precision problems.\n",
      "  ConvergenceWarning)\n",
      "/home/kevcon/anaconda3/lib/python3.6/site-packages/sklearn/linear_model/coordinate_descent.py:491: ConvergenceWarning: Objective did not converge. You might want to increase the number of iterations. Fitting data with very small alpha may cause precision problems.\n",
      "  ConvergenceWarning)\n"
     ]
    },
    {
     "data": {
      "text/plain": [
       "LassoCV(alphas=array([0.0001 , 0.00214, 0.00418, 0.00622, 0.00826, 0.01029, 0.01233,\n",
       "       0.01437, 0.01641, 0.01845, 0.02049, 0.02253, 0.02457, 0.0266 ,\n",
       "       0.02864, 0.03068, 0.03272, 0.03476, 0.0368 , 0.03884, 0.04088,\n",
       "       0.04291, 0.04495, 0.04699, 0.04903, 0.05107, 0.05311, 0.05515,\n",
       "       0.0571...165, 0.08369,\n",
       "       0.08573, 0.08777, 0.08981, 0.09184, 0.09388, 0.09592, 0.09796,\n",
       "       0.1    ]),\n",
       "    copy_X=True, cv=10, eps=0.001, fit_intercept=True, max_iter=1000,\n",
       "    n_alphas=100, n_jobs=1, normalize=False, positive=False,\n",
       "    precompute='auto', random_state=None, selection='cyclic', tol=0.0001,\n",
       "    verbose=False)"
      ]
     },
     "execution_count": 120,
     "metadata": {},
     "output_type": "execute_result"
    }
   ],
   "source": [
    "# fit model on training data\n",
    "LR_lassocv.fit(X_train_norm_poly, y_train)"
   ]
  },
  {
   "cell_type": "code",
   "execution_count": 121,
   "metadata": {},
   "outputs": [
    {
     "data": {
      "text/plain": [
       "0.8582169706873326"
      ]
     },
     "execution_count": 121,
     "metadata": {},
     "output_type": "execute_result"
    }
   ],
   "source": [
    "# score on test data\n",
    "LR_lassocv.score(X_test_norm_poly, y_test)"
   ]
  },
  {
   "cell_type": "code",
   "execution_count": 122,
   "metadata": {},
   "outputs": [
    {
     "data": {
      "text/plain": [
       "0.0001"
      ]
     },
     "execution_count": 122,
     "metadata": {},
     "output_type": "execute_result"
    }
   ],
   "source": [
    "# output best alpha value\n",
    "LR_lassocv.alpha_"
   ]
  },
  {
   "cell_type": "markdown",
   "metadata": {},
   "source": [
    "### ElasticNet\n",
    "Combines Lasso and Ridge by adding both the L1 and L2 norm of the coefficients to the cost function"
   ]
  },
  {
   "cell_type": "code",
   "execution_count": 123,
   "metadata": {},
   "outputs": [],
   "source": [
    "# specify alpha values\n",
    "# higher alpha values penalize coefficients more\n",
    "alpha_range = np.linspace(0.0001, 0.1, 50)"
   ]
  },
  {
   "cell_type": "code",
   "execution_count": 124,
   "metadata": {},
   "outputs": [],
   "source": [
    "# initialize regularized model\n",
    "LR_elasticcv = linear_model.ElasticNetCV(alphas=alpha_range, cv=10)"
   ]
  },
  {
   "cell_type": "code",
   "execution_count": 125,
   "metadata": {},
   "outputs": [
    {
     "name": "stderr",
     "output_type": "stream",
     "text": [
      "/home/kevcon/anaconda3/lib/python3.6/site-packages/sklearn/linear_model/coordinate_descent.py:491: ConvergenceWarning: Objective did not converge. You might want to increase the number of iterations. Fitting data with very small alpha may cause precision problems.\n",
      "  ConvergenceWarning)\n",
      "/home/kevcon/anaconda3/lib/python3.6/site-packages/sklearn/linear_model/coordinate_descent.py:491: ConvergenceWarning: Objective did not converge. You might want to increase the number of iterations. Fitting data with very small alpha may cause precision problems.\n",
      "  ConvergenceWarning)\n"
     ]
    },
    {
     "data": {
      "text/plain": [
       "ElasticNetCV(alphas=array([0.0001 , 0.00214, 0.00418, 0.00622, 0.00826, 0.01029, 0.01233,\n",
       "       0.01437, 0.01641, 0.01845, 0.02049, 0.02253, 0.02457, 0.0266 ,\n",
       "       0.02864, 0.03068, 0.03272, 0.03476, 0.0368 , 0.03884, 0.04088,\n",
       "       0.04291, 0.04495, 0.04699, 0.04903, 0.05107, 0.05311, 0.05515,\n",
       "       0.0571...165, 0.08369,\n",
       "       0.08573, 0.08777, 0.08981, 0.09184, 0.09388, 0.09592, 0.09796,\n",
       "       0.1    ]),\n",
       "       copy_X=True, cv=10, eps=0.001, fit_intercept=True, l1_ratio=0.5,\n",
       "       max_iter=1000, n_alphas=100, n_jobs=1, normalize=False,\n",
       "       positive=False, precompute='auto', random_state=None,\n",
       "       selection='cyclic', tol=0.0001, verbose=0)"
      ]
     },
     "execution_count": 125,
     "metadata": {},
     "output_type": "execute_result"
    }
   ],
   "source": [
    "# fit model on training data\n",
    "LR_elasticcv.fit(X_train_norm_poly, y_train)"
   ]
  },
  {
   "cell_type": "code",
   "execution_count": 126,
   "metadata": {},
   "outputs": [
    {
     "data": {
      "text/plain": [
       "0.8368123875937423"
      ]
     },
     "execution_count": 126,
     "metadata": {},
     "output_type": "execute_result"
    }
   ],
   "source": [
    "# score on test data\n",
    "LR_elasticcv.score(X_test_norm_poly, y_test)"
   ]
  },
  {
   "cell_type": "code",
   "execution_count": 127,
   "metadata": {},
   "outputs": [
    {
     "data": {
      "text/plain": [
       "0.0001"
      ]
     },
     "execution_count": 127,
     "metadata": {},
     "output_type": "execute_result"
    }
   ],
   "source": [
    "# output best alpha value\n",
    "LR_elasticcv.alpha_"
   ]
  },
  {
   "cell_type": "markdown",
   "metadata": {},
   "source": [
    "## Feature Importance <a name=\"feat_imp\"></a>"
   ]
  },
  {
   "cell_type": "code",
   "execution_count": 128,
   "metadata": {},
   "outputs": [
    {
     "data": {
      "text/plain": [
       "['1',\n",
       " 'Cement (component 1)(kg in a m^3 mixture)',\n",
       " 'Blast Furnace Slag (component 2)(kg in a m^3 mixture)',\n",
       " 'Fly Ash (component 3)(kg in a m^3 mixture)',\n",
       " 'Water  (component 4)(kg in a m^3 mixture)',\n",
       " 'Superplasticizer (component 5)(kg in a m^3 mixture)',\n",
       " 'Coarse Aggregate  (component 6)(kg in a m^3 mixture)',\n",
       " 'Fine Aggregate (component 7)(kg in a m^3 mixture)',\n",
       " 'Age (day)',\n",
       " 'Cement (component 1)(kg in a m^3 mixture)^2',\n",
       " 'Cement (component 1)(kg in a m^3 mixture) Blast Furnace Slag (component 2)(kg in a m^3 mixture)',\n",
       " 'Cement (component 1)(kg in a m^3 mixture) Fly Ash (component 3)(kg in a m^3 mixture)',\n",
       " 'Cement (component 1)(kg in a m^3 mixture) Water  (component 4)(kg in a m^3 mixture)',\n",
       " 'Cement (component 1)(kg in a m^3 mixture) Superplasticizer (component 5)(kg in a m^3 mixture)',\n",
       " 'Cement (component 1)(kg in a m^3 mixture) Coarse Aggregate  (component 6)(kg in a m^3 mixture)',\n",
       " 'Cement (component 1)(kg in a m^3 mixture) Fine Aggregate (component 7)(kg in a m^3 mixture)',\n",
       " 'Cement (component 1)(kg in a m^3 mixture) Age (day)',\n",
       " 'Blast Furnace Slag (component 2)(kg in a m^3 mixture)^2',\n",
       " 'Blast Furnace Slag (component 2)(kg in a m^3 mixture) Fly Ash (component 3)(kg in a m^3 mixture)',\n",
       " 'Blast Furnace Slag (component 2)(kg in a m^3 mixture) Water  (component 4)(kg in a m^3 mixture)',\n",
       " 'Blast Furnace Slag (component 2)(kg in a m^3 mixture) Superplasticizer (component 5)(kg in a m^3 mixture)',\n",
       " 'Blast Furnace Slag (component 2)(kg in a m^3 mixture) Coarse Aggregate  (component 6)(kg in a m^3 mixture)',\n",
       " 'Blast Furnace Slag (component 2)(kg in a m^3 mixture) Fine Aggregate (component 7)(kg in a m^3 mixture)',\n",
       " 'Blast Furnace Slag (component 2)(kg in a m^3 mixture) Age (day)',\n",
       " 'Fly Ash (component 3)(kg in a m^3 mixture)^2',\n",
       " 'Fly Ash (component 3)(kg in a m^3 mixture) Water  (component 4)(kg in a m^3 mixture)',\n",
       " 'Fly Ash (component 3)(kg in a m^3 mixture) Superplasticizer (component 5)(kg in a m^3 mixture)',\n",
       " 'Fly Ash (component 3)(kg in a m^3 mixture) Coarse Aggregate  (component 6)(kg in a m^3 mixture)',\n",
       " 'Fly Ash (component 3)(kg in a m^3 mixture) Fine Aggregate (component 7)(kg in a m^3 mixture)',\n",
       " 'Fly Ash (component 3)(kg in a m^3 mixture) Age (day)',\n",
       " 'Water  (component 4)(kg in a m^3 mixture)^2',\n",
       " 'Water  (component 4)(kg in a m^3 mixture) Superplasticizer (component 5)(kg in a m^3 mixture)',\n",
       " 'Water  (component 4)(kg in a m^3 mixture) Coarse Aggregate  (component 6)(kg in a m^3 mixture)',\n",
       " 'Water  (component 4)(kg in a m^3 mixture) Fine Aggregate (component 7)(kg in a m^3 mixture)',\n",
       " 'Water  (component 4)(kg in a m^3 mixture) Age (day)',\n",
       " 'Superplasticizer (component 5)(kg in a m^3 mixture)^2',\n",
       " 'Superplasticizer (component 5)(kg in a m^3 mixture) Coarse Aggregate  (component 6)(kg in a m^3 mixture)',\n",
       " 'Superplasticizer (component 5)(kg in a m^3 mixture) Fine Aggregate (component 7)(kg in a m^3 mixture)',\n",
       " 'Superplasticizer (component 5)(kg in a m^3 mixture) Age (day)',\n",
       " 'Coarse Aggregate  (component 6)(kg in a m^3 mixture)^2',\n",
       " 'Coarse Aggregate  (component 6)(kg in a m^3 mixture) Fine Aggregate (component 7)(kg in a m^3 mixture)',\n",
       " 'Coarse Aggregate  (component 6)(kg in a m^3 mixture) Age (day)',\n",
       " 'Fine Aggregate (component 7)(kg in a m^3 mixture)^2',\n",
       " 'Fine Aggregate (component 7)(kg in a m^3 mixture) Age (day)',\n",
       " 'Age (day)^2',\n",
       " 'Cement (component 1)(kg in a m^3 mixture)^3',\n",
       " 'Cement (component 1)(kg in a m^3 mixture)^2 Blast Furnace Slag (component 2)(kg in a m^3 mixture)',\n",
       " 'Cement (component 1)(kg in a m^3 mixture)^2 Fly Ash (component 3)(kg in a m^3 mixture)',\n",
       " 'Cement (component 1)(kg in a m^3 mixture)^2 Water  (component 4)(kg in a m^3 mixture)',\n",
       " 'Cement (component 1)(kg in a m^3 mixture)^2 Superplasticizer (component 5)(kg in a m^3 mixture)',\n",
       " 'Cement (component 1)(kg in a m^3 mixture)^2 Coarse Aggregate  (component 6)(kg in a m^3 mixture)',\n",
       " 'Cement (component 1)(kg in a m^3 mixture)^2 Fine Aggregate (component 7)(kg in a m^3 mixture)',\n",
       " 'Cement (component 1)(kg in a m^3 mixture)^2 Age (day)',\n",
       " 'Cement (component 1)(kg in a m^3 mixture) Blast Furnace Slag (component 2)(kg in a m^3 mixture)^2',\n",
       " 'Cement (component 1)(kg in a m^3 mixture) Blast Furnace Slag (component 2)(kg in a m^3 mixture) Fly Ash (component 3)(kg in a m^3 mixture)',\n",
       " 'Cement (component 1)(kg in a m^3 mixture) Blast Furnace Slag (component 2)(kg in a m^3 mixture) Water  (component 4)(kg in a m^3 mixture)',\n",
       " 'Cement (component 1)(kg in a m^3 mixture) Blast Furnace Slag (component 2)(kg in a m^3 mixture) Superplasticizer (component 5)(kg in a m^3 mixture)',\n",
       " 'Cement (component 1)(kg in a m^3 mixture) Blast Furnace Slag (component 2)(kg in a m^3 mixture) Coarse Aggregate  (component 6)(kg in a m^3 mixture)',\n",
       " 'Cement (component 1)(kg in a m^3 mixture) Blast Furnace Slag (component 2)(kg in a m^3 mixture) Fine Aggregate (component 7)(kg in a m^3 mixture)',\n",
       " 'Cement (component 1)(kg in a m^3 mixture) Blast Furnace Slag (component 2)(kg in a m^3 mixture) Age (day)',\n",
       " 'Cement (component 1)(kg in a m^3 mixture) Fly Ash (component 3)(kg in a m^3 mixture)^2',\n",
       " 'Cement (component 1)(kg in a m^3 mixture) Fly Ash (component 3)(kg in a m^3 mixture) Water  (component 4)(kg in a m^3 mixture)',\n",
       " 'Cement (component 1)(kg in a m^3 mixture) Fly Ash (component 3)(kg in a m^3 mixture) Superplasticizer (component 5)(kg in a m^3 mixture)',\n",
       " 'Cement (component 1)(kg in a m^3 mixture) Fly Ash (component 3)(kg in a m^3 mixture) Coarse Aggregate  (component 6)(kg in a m^3 mixture)',\n",
       " 'Cement (component 1)(kg in a m^3 mixture) Fly Ash (component 3)(kg in a m^3 mixture) Fine Aggregate (component 7)(kg in a m^3 mixture)',\n",
       " 'Cement (component 1)(kg in a m^3 mixture) Fly Ash (component 3)(kg in a m^3 mixture) Age (day)',\n",
       " 'Cement (component 1)(kg in a m^3 mixture) Water  (component 4)(kg in a m^3 mixture)^2',\n",
       " 'Cement (component 1)(kg in a m^3 mixture) Water  (component 4)(kg in a m^3 mixture) Superplasticizer (component 5)(kg in a m^3 mixture)',\n",
       " 'Cement (component 1)(kg in a m^3 mixture) Water  (component 4)(kg in a m^3 mixture) Coarse Aggregate  (component 6)(kg in a m^3 mixture)',\n",
       " 'Cement (component 1)(kg in a m^3 mixture) Water  (component 4)(kg in a m^3 mixture) Fine Aggregate (component 7)(kg in a m^3 mixture)',\n",
       " 'Cement (component 1)(kg in a m^3 mixture) Water  (component 4)(kg in a m^3 mixture) Age (day)',\n",
       " 'Cement (component 1)(kg in a m^3 mixture) Superplasticizer (component 5)(kg in a m^3 mixture)^2',\n",
       " 'Cement (component 1)(kg in a m^3 mixture) Superplasticizer (component 5)(kg in a m^3 mixture) Coarse Aggregate  (component 6)(kg in a m^3 mixture)',\n",
       " 'Cement (component 1)(kg in a m^3 mixture) Superplasticizer (component 5)(kg in a m^3 mixture) Fine Aggregate (component 7)(kg in a m^3 mixture)',\n",
       " 'Cement (component 1)(kg in a m^3 mixture) Superplasticizer (component 5)(kg in a m^3 mixture) Age (day)',\n",
       " 'Cement (component 1)(kg in a m^3 mixture) Coarse Aggregate  (component 6)(kg in a m^3 mixture)^2',\n",
       " 'Cement (component 1)(kg in a m^3 mixture) Coarse Aggregate  (component 6)(kg in a m^3 mixture) Fine Aggregate (component 7)(kg in a m^3 mixture)',\n",
       " 'Cement (component 1)(kg in a m^3 mixture) Coarse Aggregate  (component 6)(kg in a m^3 mixture) Age (day)',\n",
       " 'Cement (component 1)(kg in a m^3 mixture) Fine Aggregate (component 7)(kg in a m^3 mixture)^2',\n",
       " 'Cement (component 1)(kg in a m^3 mixture) Fine Aggregate (component 7)(kg in a m^3 mixture) Age (day)',\n",
       " 'Cement (component 1)(kg in a m^3 mixture) Age (day)^2',\n",
       " 'Blast Furnace Slag (component 2)(kg in a m^3 mixture)^3',\n",
       " 'Blast Furnace Slag (component 2)(kg in a m^3 mixture)^2 Fly Ash (component 3)(kg in a m^3 mixture)',\n",
       " 'Blast Furnace Slag (component 2)(kg in a m^3 mixture)^2 Water  (component 4)(kg in a m^3 mixture)',\n",
       " 'Blast Furnace Slag (component 2)(kg in a m^3 mixture)^2 Superplasticizer (component 5)(kg in a m^3 mixture)',\n",
       " 'Blast Furnace Slag (component 2)(kg in a m^3 mixture)^2 Coarse Aggregate  (component 6)(kg in a m^3 mixture)',\n",
       " 'Blast Furnace Slag (component 2)(kg in a m^3 mixture)^2 Fine Aggregate (component 7)(kg in a m^3 mixture)',\n",
       " 'Blast Furnace Slag (component 2)(kg in a m^3 mixture)^2 Age (day)',\n",
       " 'Blast Furnace Slag (component 2)(kg in a m^3 mixture) Fly Ash (component 3)(kg in a m^3 mixture)^2',\n",
       " 'Blast Furnace Slag (component 2)(kg in a m^3 mixture) Fly Ash (component 3)(kg in a m^3 mixture) Water  (component 4)(kg in a m^3 mixture)',\n",
       " 'Blast Furnace Slag (component 2)(kg in a m^3 mixture) Fly Ash (component 3)(kg in a m^3 mixture) Superplasticizer (component 5)(kg in a m^3 mixture)',\n",
       " 'Blast Furnace Slag (component 2)(kg in a m^3 mixture) Fly Ash (component 3)(kg in a m^3 mixture) Coarse Aggregate  (component 6)(kg in a m^3 mixture)',\n",
       " 'Blast Furnace Slag (component 2)(kg in a m^3 mixture) Fly Ash (component 3)(kg in a m^3 mixture) Fine Aggregate (component 7)(kg in a m^3 mixture)',\n",
       " 'Blast Furnace Slag (component 2)(kg in a m^3 mixture) Fly Ash (component 3)(kg in a m^3 mixture) Age (day)',\n",
       " 'Blast Furnace Slag (component 2)(kg in a m^3 mixture) Water  (component 4)(kg in a m^3 mixture)^2',\n",
       " 'Blast Furnace Slag (component 2)(kg in a m^3 mixture) Water  (component 4)(kg in a m^3 mixture) Superplasticizer (component 5)(kg in a m^3 mixture)',\n",
       " 'Blast Furnace Slag (component 2)(kg in a m^3 mixture) Water  (component 4)(kg in a m^3 mixture) Coarse Aggregate  (component 6)(kg in a m^3 mixture)',\n",
       " 'Blast Furnace Slag (component 2)(kg in a m^3 mixture) Water  (component 4)(kg in a m^3 mixture) Fine Aggregate (component 7)(kg in a m^3 mixture)',\n",
       " 'Blast Furnace Slag (component 2)(kg in a m^3 mixture) Water  (component 4)(kg in a m^3 mixture) Age (day)',\n",
       " 'Blast Furnace Slag (component 2)(kg in a m^3 mixture) Superplasticizer (component 5)(kg in a m^3 mixture)^2',\n",
       " 'Blast Furnace Slag (component 2)(kg in a m^3 mixture) Superplasticizer (component 5)(kg in a m^3 mixture) Coarse Aggregate  (component 6)(kg in a m^3 mixture)',\n",
       " 'Blast Furnace Slag (component 2)(kg in a m^3 mixture) Superplasticizer (component 5)(kg in a m^3 mixture) Fine Aggregate (component 7)(kg in a m^3 mixture)',\n",
       " 'Blast Furnace Slag (component 2)(kg in a m^3 mixture) Superplasticizer (component 5)(kg in a m^3 mixture) Age (day)',\n",
       " 'Blast Furnace Slag (component 2)(kg in a m^3 mixture) Coarse Aggregate  (component 6)(kg in a m^3 mixture)^2',\n",
       " 'Blast Furnace Slag (component 2)(kg in a m^3 mixture) Coarse Aggregate  (component 6)(kg in a m^3 mixture) Fine Aggregate (component 7)(kg in a m^3 mixture)',\n",
       " 'Blast Furnace Slag (component 2)(kg in a m^3 mixture) Coarse Aggregate  (component 6)(kg in a m^3 mixture) Age (day)',\n",
       " 'Blast Furnace Slag (component 2)(kg in a m^3 mixture) Fine Aggregate (component 7)(kg in a m^3 mixture)^2',\n",
       " 'Blast Furnace Slag (component 2)(kg in a m^3 mixture) Fine Aggregate (component 7)(kg in a m^3 mixture) Age (day)',\n",
       " 'Blast Furnace Slag (component 2)(kg in a m^3 mixture) Age (day)^2',\n",
       " 'Fly Ash (component 3)(kg in a m^3 mixture)^3',\n",
       " 'Fly Ash (component 3)(kg in a m^3 mixture)^2 Water  (component 4)(kg in a m^3 mixture)',\n",
       " 'Fly Ash (component 3)(kg in a m^3 mixture)^2 Superplasticizer (component 5)(kg in a m^3 mixture)',\n",
       " 'Fly Ash (component 3)(kg in a m^3 mixture)^2 Coarse Aggregate  (component 6)(kg in a m^3 mixture)',\n",
       " 'Fly Ash (component 3)(kg in a m^3 mixture)^2 Fine Aggregate (component 7)(kg in a m^3 mixture)',\n",
       " 'Fly Ash (component 3)(kg in a m^3 mixture)^2 Age (day)',\n",
       " 'Fly Ash (component 3)(kg in a m^3 mixture) Water  (component 4)(kg in a m^3 mixture)^2',\n",
       " 'Fly Ash (component 3)(kg in a m^3 mixture) Water  (component 4)(kg in a m^3 mixture) Superplasticizer (component 5)(kg in a m^3 mixture)',\n",
       " 'Fly Ash (component 3)(kg in a m^3 mixture) Water  (component 4)(kg in a m^3 mixture) Coarse Aggregate  (component 6)(kg in a m^3 mixture)',\n",
       " 'Fly Ash (component 3)(kg in a m^3 mixture) Water  (component 4)(kg in a m^3 mixture) Fine Aggregate (component 7)(kg in a m^3 mixture)',\n",
       " 'Fly Ash (component 3)(kg in a m^3 mixture) Water  (component 4)(kg in a m^3 mixture) Age (day)',\n",
       " 'Fly Ash (component 3)(kg in a m^3 mixture) Superplasticizer (component 5)(kg in a m^3 mixture)^2',\n",
       " 'Fly Ash (component 3)(kg in a m^3 mixture) Superplasticizer (component 5)(kg in a m^3 mixture) Coarse Aggregate  (component 6)(kg in a m^3 mixture)',\n",
       " 'Fly Ash (component 3)(kg in a m^3 mixture) Superplasticizer (component 5)(kg in a m^3 mixture) Fine Aggregate (component 7)(kg in a m^3 mixture)',\n",
       " 'Fly Ash (component 3)(kg in a m^3 mixture) Superplasticizer (component 5)(kg in a m^3 mixture) Age (day)',\n",
       " 'Fly Ash (component 3)(kg in a m^3 mixture) Coarse Aggregate  (component 6)(kg in a m^3 mixture)^2',\n",
       " 'Fly Ash (component 3)(kg in a m^3 mixture) Coarse Aggregate  (component 6)(kg in a m^3 mixture) Fine Aggregate (component 7)(kg in a m^3 mixture)',\n",
       " 'Fly Ash (component 3)(kg in a m^3 mixture) Coarse Aggregate  (component 6)(kg in a m^3 mixture) Age (day)',\n",
       " 'Fly Ash (component 3)(kg in a m^3 mixture) Fine Aggregate (component 7)(kg in a m^3 mixture)^2',\n",
       " 'Fly Ash (component 3)(kg in a m^3 mixture) Fine Aggregate (component 7)(kg in a m^3 mixture) Age (day)',\n",
       " 'Fly Ash (component 3)(kg in a m^3 mixture) Age (day)^2',\n",
       " 'Water  (component 4)(kg in a m^3 mixture)^3',\n",
       " 'Water  (component 4)(kg in a m^3 mixture)^2 Superplasticizer (component 5)(kg in a m^3 mixture)',\n",
       " 'Water  (component 4)(kg in a m^3 mixture)^2 Coarse Aggregate  (component 6)(kg in a m^3 mixture)',\n",
       " 'Water  (component 4)(kg in a m^3 mixture)^2 Fine Aggregate (component 7)(kg in a m^3 mixture)',\n",
       " 'Water  (component 4)(kg in a m^3 mixture)^2 Age (day)',\n",
       " 'Water  (component 4)(kg in a m^3 mixture) Superplasticizer (component 5)(kg in a m^3 mixture)^2',\n",
       " 'Water  (component 4)(kg in a m^3 mixture) Superplasticizer (component 5)(kg in a m^3 mixture) Coarse Aggregate  (component 6)(kg in a m^3 mixture)',\n",
       " 'Water  (component 4)(kg in a m^3 mixture) Superplasticizer (component 5)(kg in a m^3 mixture) Fine Aggregate (component 7)(kg in a m^3 mixture)',\n",
       " 'Water  (component 4)(kg in a m^3 mixture) Superplasticizer (component 5)(kg in a m^3 mixture) Age (day)',\n",
       " 'Water  (component 4)(kg in a m^3 mixture) Coarse Aggregate  (component 6)(kg in a m^3 mixture)^2',\n",
       " 'Water  (component 4)(kg in a m^3 mixture) Coarse Aggregate  (component 6)(kg in a m^3 mixture) Fine Aggregate (component 7)(kg in a m^3 mixture)',\n",
       " 'Water  (component 4)(kg in a m^3 mixture) Coarse Aggregate  (component 6)(kg in a m^3 mixture) Age (day)',\n",
       " 'Water  (component 4)(kg in a m^3 mixture) Fine Aggregate (component 7)(kg in a m^3 mixture)^2',\n",
       " 'Water  (component 4)(kg in a m^3 mixture) Fine Aggregate (component 7)(kg in a m^3 mixture) Age (day)',\n",
       " 'Water  (component 4)(kg in a m^3 mixture) Age (day)^2',\n",
       " 'Superplasticizer (component 5)(kg in a m^3 mixture)^3',\n",
       " 'Superplasticizer (component 5)(kg in a m^3 mixture)^2 Coarse Aggregate  (component 6)(kg in a m^3 mixture)',\n",
       " 'Superplasticizer (component 5)(kg in a m^3 mixture)^2 Fine Aggregate (component 7)(kg in a m^3 mixture)',\n",
       " 'Superplasticizer (component 5)(kg in a m^3 mixture)^2 Age (day)',\n",
       " 'Superplasticizer (component 5)(kg in a m^3 mixture) Coarse Aggregate  (component 6)(kg in a m^3 mixture)^2',\n",
       " 'Superplasticizer (component 5)(kg in a m^3 mixture) Coarse Aggregate  (component 6)(kg in a m^3 mixture) Fine Aggregate (component 7)(kg in a m^3 mixture)',\n",
       " 'Superplasticizer (component 5)(kg in a m^3 mixture) Coarse Aggregate  (component 6)(kg in a m^3 mixture) Age (day)',\n",
       " 'Superplasticizer (component 5)(kg in a m^3 mixture) Fine Aggregate (component 7)(kg in a m^3 mixture)^2',\n",
       " 'Superplasticizer (component 5)(kg in a m^3 mixture) Fine Aggregate (component 7)(kg in a m^3 mixture) Age (day)',\n",
       " 'Superplasticizer (component 5)(kg in a m^3 mixture) Age (day)^2',\n",
       " 'Coarse Aggregate  (component 6)(kg in a m^3 mixture)^3',\n",
       " 'Coarse Aggregate  (component 6)(kg in a m^3 mixture)^2 Fine Aggregate (component 7)(kg in a m^3 mixture)',\n",
       " 'Coarse Aggregate  (component 6)(kg in a m^3 mixture)^2 Age (day)',\n",
       " 'Coarse Aggregate  (component 6)(kg in a m^3 mixture) Fine Aggregate (component 7)(kg in a m^3 mixture)^2',\n",
       " 'Coarse Aggregate  (component 6)(kg in a m^3 mixture) Fine Aggregate (component 7)(kg in a m^3 mixture) Age (day)',\n",
       " 'Coarse Aggregate  (component 6)(kg in a m^3 mixture) Age (day)^2',\n",
       " 'Fine Aggregate (component 7)(kg in a m^3 mixture)^3',\n",
       " 'Fine Aggregate (component 7)(kg in a m^3 mixture)^2 Age (day)',\n",
       " 'Fine Aggregate (component 7)(kg in a m^3 mixture) Age (day)^2',\n",
       " 'Age (day)^3',\n",
       " 'Cement (component 1)(kg in a m^3 mixture)^4',\n",
       " 'Cement (component 1)(kg in a m^3 mixture)^3 Blast Furnace Slag (component 2)(kg in a m^3 mixture)',\n",
       " 'Cement (component 1)(kg in a m^3 mixture)^3 Fly Ash (component 3)(kg in a m^3 mixture)',\n",
       " 'Cement (component 1)(kg in a m^3 mixture)^3 Water  (component 4)(kg in a m^3 mixture)',\n",
       " 'Cement (component 1)(kg in a m^3 mixture)^3 Superplasticizer (component 5)(kg in a m^3 mixture)',\n",
       " 'Cement (component 1)(kg in a m^3 mixture)^3 Coarse Aggregate  (component 6)(kg in a m^3 mixture)',\n",
       " 'Cement (component 1)(kg in a m^3 mixture)^3 Fine Aggregate (component 7)(kg in a m^3 mixture)',\n",
       " 'Cement (component 1)(kg in a m^3 mixture)^3 Age (day)',\n",
       " 'Cement (component 1)(kg in a m^3 mixture)^2 Blast Furnace Slag (component 2)(kg in a m^3 mixture)^2',\n",
       " 'Cement (component 1)(kg in a m^3 mixture)^2 Blast Furnace Slag (component 2)(kg in a m^3 mixture) Fly Ash (component 3)(kg in a m^3 mixture)',\n",
       " 'Cement (component 1)(kg in a m^3 mixture)^2 Blast Furnace Slag (component 2)(kg in a m^3 mixture) Water  (component 4)(kg in a m^3 mixture)',\n",
       " 'Cement (component 1)(kg in a m^3 mixture)^2 Blast Furnace Slag (component 2)(kg in a m^3 mixture) Superplasticizer (component 5)(kg in a m^3 mixture)',\n",
       " 'Cement (component 1)(kg in a m^3 mixture)^2 Blast Furnace Slag (component 2)(kg in a m^3 mixture) Coarse Aggregate  (component 6)(kg in a m^3 mixture)',\n",
       " 'Cement (component 1)(kg in a m^3 mixture)^2 Blast Furnace Slag (component 2)(kg in a m^3 mixture) Fine Aggregate (component 7)(kg in a m^3 mixture)',\n",
       " 'Cement (component 1)(kg in a m^3 mixture)^2 Blast Furnace Slag (component 2)(kg in a m^3 mixture) Age (day)',\n",
       " 'Cement (component 1)(kg in a m^3 mixture)^2 Fly Ash (component 3)(kg in a m^3 mixture)^2',\n",
       " 'Cement (component 1)(kg in a m^3 mixture)^2 Fly Ash (component 3)(kg in a m^3 mixture) Water  (component 4)(kg in a m^3 mixture)',\n",
       " 'Cement (component 1)(kg in a m^3 mixture)^2 Fly Ash (component 3)(kg in a m^3 mixture) Superplasticizer (component 5)(kg in a m^3 mixture)',\n",
       " 'Cement (component 1)(kg in a m^3 mixture)^2 Fly Ash (component 3)(kg in a m^3 mixture) Coarse Aggregate  (component 6)(kg in a m^3 mixture)',\n",
       " 'Cement (component 1)(kg in a m^3 mixture)^2 Fly Ash (component 3)(kg in a m^3 mixture) Fine Aggregate (component 7)(kg in a m^3 mixture)',\n",
       " 'Cement (component 1)(kg in a m^3 mixture)^2 Fly Ash (component 3)(kg in a m^3 mixture) Age (day)',\n",
       " 'Cement (component 1)(kg in a m^3 mixture)^2 Water  (component 4)(kg in a m^3 mixture)^2',\n",
       " 'Cement (component 1)(kg in a m^3 mixture)^2 Water  (component 4)(kg in a m^3 mixture) Superplasticizer (component 5)(kg in a m^3 mixture)',\n",
       " 'Cement (component 1)(kg in a m^3 mixture)^2 Water  (component 4)(kg in a m^3 mixture) Coarse Aggregate  (component 6)(kg in a m^3 mixture)',\n",
       " 'Cement (component 1)(kg in a m^3 mixture)^2 Water  (component 4)(kg in a m^3 mixture) Fine Aggregate (component 7)(kg in a m^3 mixture)',\n",
       " 'Cement (component 1)(kg in a m^3 mixture)^2 Water  (component 4)(kg in a m^3 mixture) Age (day)',\n",
       " 'Cement (component 1)(kg in a m^3 mixture)^2 Superplasticizer (component 5)(kg in a m^3 mixture)^2',\n",
       " 'Cement (component 1)(kg in a m^3 mixture)^2 Superplasticizer (component 5)(kg in a m^3 mixture) Coarse Aggregate  (component 6)(kg in a m^3 mixture)',\n",
       " 'Cement (component 1)(kg in a m^3 mixture)^2 Superplasticizer (component 5)(kg in a m^3 mixture) Fine Aggregate (component 7)(kg in a m^3 mixture)',\n",
       " 'Cement (component 1)(kg in a m^3 mixture)^2 Superplasticizer (component 5)(kg in a m^3 mixture) Age (day)',\n",
       " 'Cement (component 1)(kg in a m^3 mixture)^2 Coarse Aggregate  (component 6)(kg in a m^3 mixture)^2',\n",
       " 'Cement (component 1)(kg in a m^3 mixture)^2 Coarse Aggregate  (component 6)(kg in a m^3 mixture) Fine Aggregate (component 7)(kg in a m^3 mixture)',\n",
       " 'Cement (component 1)(kg in a m^3 mixture)^2 Coarse Aggregate  (component 6)(kg in a m^3 mixture) Age (day)',\n",
       " 'Cement (component 1)(kg in a m^3 mixture)^2 Fine Aggregate (component 7)(kg in a m^3 mixture)^2',\n",
       " 'Cement (component 1)(kg in a m^3 mixture)^2 Fine Aggregate (component 7)(kg in a m^3 mixture) Age (day)',\n",
       " 'Cement (component 1)(kg in a m^3 mixture)^2 Age (day)^2',\n",
       " 'Cement (component 1)(kg in a m^3 mixture) Blast Furnace Slag (component 2)(kg in a m^3 mixture)^3',\n",
       " 'Cement (component 1)(kg in a m^3 mixture) Blast Furnace Slag (component 2)(kg in a m^3 mixture)^2 Fly Ash (component 3)(kg in a m^3 mixture)',\n",
       " 'Cement (component 1)(kg in a m^3 mixture) Blast Furnace Slag (component 2)(kg in a m^3 mixture)^2 Water  (component 4)(kg in a m^3 mixture)',\n",
       " 'Cement (component 1)(kg in a m^3 mixture) Blast Furnace Slag (component 2)(kg in a m^3 mixture)^2 Superplasticizer (component 5)(kg in a m^3 mixture)',\n",
       " 'Cement (component 1)(kg in a m^3 mixture) Blast Furnace Slag (component 2)(kg in a m^3 mixture)^2 Coarse Aggregate  (component 6)(kg in a m^3 mixture)',\n",
       " 'Cement (component 1)(kg in a m^3 mixture) Blast Furnace Slag (component 2)(kg in a m^3 mixture)^2 Fine Aggregate (component 7)(kg in a m^3 mixture)',\n",
       " 'Cement (component 1)(kg in a m^3 mixture) Blast Furnace Slag (component 2)(kg in a m^3 mixture)^2 Age (day)',\n",
       " 'Cement (component 1)(kg in a m^3 mixture) Blast Furnace Slag (component 2)(kg in a m^3 mixture) Fly Ash (component 3)(kg in a m^3 mixture)^2',\n",
       " 'Cement (component 1)(kg in a m^3 mixture) Blast Furnace Slag (component 2)(kg in a m^3 mixture) Fly Ash (component 3)(kg in a m^3 mixture) Water  (component 4)(kg in a m^3 mixture)',\n",
       " 'Cement (component 1)(kg in a m^3 mixture) Blast Furnace Slag (component 2)(kg in a m^3 mixture) Fly Ash (component 3)(kg in a m^3 mixture) Superplasticizer (component 5)(kg in a m^3 mixture)',\n",
       " 'Cement (component 1)(kg in a m^3 mixture) Blast Furnace Slag (component 2)(kg in a m^3 mixture) Fly Ash (component 3)(kg in a m^3 mixture) Coarse Aggregate  (component 6)(kg in a m^3 mixture)',\n",
       " 'Cement (component 1)(kg in a m^3 mixture) Blast Furnace Slag (component 2)(kg in a m^3 mixture) Fly Ash (component 3)(kg in a m^3 mixture) Fine Aggregate (component 7)(kg in a m^3 mixture)',\n",
       " 'Cement (component 1)(kg in a m^3 mixture) Blast Furnace Slag (component 2)(kg in a m^3 mixture) Fly Ash (component 3)(kg in a m^3 mixture) Age (day)',\n",
       " 'Cement (component 1)(kg in a m^3 mixture) Blast Furnace Slag (component 2)(kg in a m^3 mixture) Water  (component 4)(kg in a m^3 mixture)^2',\n",
       " 'Cement (component 1)(kg in a m^3 mixture) Blast Furnace Slag (component 2)(kg in a m^3 mixture) Water  (component 4)(kg in a m^3 mixture) Superplasticizer (component 5)(kg in a m^3 mixture)',\n",
       " 'Cement (component 1)(kg in a m^3 mixture) Blast Furnace Slag (component 2)(kg in a m^3 mixture) Water  (component 4)(kg in a m^3 mixture) Coarse Aggregate  (component 6)(kg in a m^3 mixture)',\n",
       " 'Cement (component 1)(kg in a m^3 mixture) Blast Furnace Slag (component 2)(kg in a m^3 mixture) Water  (component 4)(kg in a m^3 mixture) Fine Aggregate (component 7)(kg in a m^3 mixture)',\n",
       " 'Cement (component 1)(kg in a m^3 mixture) Blast Furnace Slag (component 2)(kg in a m^3 mixture) Water  (component 4)(kg in a m^3 mixture) Age (day)',\n",
       " 'Cement (component 1)(kg in a m^3 mixture) Blast Furnace Slag (component 2)(kg in a m^3 mixture) Superplasticizer (component 5)(kg in a m^3 mixture)^2',\n",
       " 'Cement (component 1)(kg in a m^3 mixture) Blast Furnace Slag (component 2)(kg in a m^3 mixture) Superplasticizer (component 5)(kg in a m^3 mixture) Coarse Aggregate  (component 6)(kg in a m^3 mixture)',\n",
       " 'Cement (component 1)(kg in a m^3 mixture) Blast Furnace Slag (component 2)(kg in a m^3 mixture) Superplasticizer (component 5)(kg in a m^3 mixture) Fine Aggregate (component 7)(kg in a m^3 mixture)',\n",
       " 'Cement (component 1)(kg in a m^3 mixture) Blast Furnace Slag (component 2)(kg in a m^3 mixture) Superplasticizer (component 5)(kg in a m^3 mixture) Age (day)',\n",
       " 'Cement (component 1)(kg in a m^3 mixture) Blast Furnace Slag (component 2)(kg in a m^3 mixture) Coarse Aggregate  (component 6)(kg in a m^3 mixture)^2',\n",
       " 'Cement (component 1)(kg in a m^3 mixture) Blast Furnace Slag (component 2)(kg in a m^3 mixture) Coarse Aggregate  (component 6)(kg in a m^3 mixture) Fine Aggregate (component 7)(kg in a m^3 mixture)',\n",
       " 'Cement (component 1)(kg in a m^3 mixture) Blast Furnace Slag (component 2)(kg in a m^3 mixture) Coarse Aggregate  (component 6)(kg in a m^3 mixture) Age (day)',\n",
       " 'Cement (component 1)(kg in a m^3 mixture) Blast Furnace Slag (component 2)(kg in a m^3 mixture) Fine Aggregate (component 7)(kg in a m^3 mixture)^2',\n",
       " 'Cement (component 1)(kg in a m^3 mixture) Blast Furnace Slag (component 2)(kg in a m^3 mixture) Fine Aggregate (component 7)(kg in a m^3 mixture) Age (day)',\n",
       " 'Cement (component 1)(kg in a m^3 mixture) Blast Furnace Slag (component 2)(kg in a m^3 mixture) Age (day)^2',\n",
       " 'Cement (component 1)(kg in a m^3 mixture) Fly Ash (component 3)(kg in a m^3 mixture)^3',\n",
       " 'Cement (component 1)(kg in a m^3 mixture) Fly Ash (component 3)(kg in a m^3 mixture)^2 Water  (component 4)(kg in a m^3 mixture)',\n",
       " 'Cement (component 1)(kg in a m^3 mixture) Fly Ash (component 3)(kg in a m^3 mixture)^2 Superplasticizer (component 5)(kg in a m^3 mixture)',\n",
       " 'Cement (component 1)(kg in a m^3 mixture) Fly Ash (component 3)(kg in a m^3 mixture)^2 Coarse Aggregate  (component 6)(kg in a m^3 mixture)',\n",
       " 'Cement (component 1)(kg in a m^3 mixture) Fly Ash (component 3)(kg in a m^3 mixture)^2 Fine Aggregate (component 7)(kg in a m^3 mixture)',\n",
       " 'Cement (component 1)(kg in a m^3 mixture) Fly Ash (component 3)(kg in a m^3 mixture)^2 Age (day)',\n",
       " 'Cement (component 1)(kg in a m^3 mixture) Fly Ash (component 3)(kg in a m^3 mixture) Water  (component 4)(kg in a m^3 mixture)^2',\n",
       " 'Cement (component 1)(kg in a m^3 mixture) Fly Ash (component 3)(kg in a m^3 mixture) Water  (component 4)(kg in a m^3 mixture) Superplasticizer (component 5)(kg in a m^3 mixture)',\n",
       " 'Cement (component 1)(kg in a m^3 mixture) Fly Ash (component 3)(kg in a m^3 mixture) Water  (component 4)(kg in a m^3 mixture) Coarse Aggregate  (component 6)(kg in a m^3 mixture)',\n",
       " 'Cement (component 1)(kg in a m^3 mixture) Fly Ash (component 3)(kg in a m^3 mixture) Water  (component 4)(kg in a m^3 mixture) Fine Aggregate (component 7)(kg in a m^3 mixture)',\n",
       " 'Cement (component 1)(kg in a m^3 mixture) Fly Ash (component 3)(kg in a m^3 mixture) Water  (component 4)(kg in a m^3 mixture) Age (day)',\n",
       " 'Cement (component 1)(kg in a m^3 mixture) Fly Ash (component 3)(kg in a m^3 mixture) Superplasticizer (component 5)(kg in a m^3 mixture)^2',\n",
       " 'Cement (component 1)(kg in a m^3 mixture) Fly Ash (component 3)(kg in a m^3 mixture) Superplasticizer (component 5)(kg in a m^3 mixture) Coarse Aggregate  (component 6)(kg in a m^3 mixture)',\n",
       " 'Cement (component 1)(kg in a m^3 mixture) Fly Ash (component 3)(kg in a m^3 mixture) Superplasticizer (component 5)(kg in a m^3 mixture) Fine Aggregate (component 7)(kg in a m^3 mixture)',\n",
       " 'Cement (component 1)(kg in a m^3 mixture) Fly Ash (component 3)(kg in a m^3 mixture) Superplasticizer (component 5)(kg in a m^3 mixture) Age (day)',\n",
       " 'Cement (component 1)(kg in a m^3 mixture) Fly Ash (component 3)(kg in a m^3 mixture) Coarse Aggregate  (component 6)(kg in a m^3 mixture)^2',\n",
       " 'Cement (component 1)(kg in a m^3 mixture) Fly Ash (component 3)(kg in a m^3 mixture) Coarse Aggregate  (component 6)(kg in a m^3 mixture) Fine Aggregate (component 7)(kg in a m^3 mixture)',\n",
       " 'Cement (component 1)(kg in a m^3 mixture) Fly Ash (component 3)(kg in a m^3 mixture) Coarse Aggregate  (component 6)(kg in a m^3 mixture) Age (day)',\n",
       " 'Cement (component 1)(kg in a m^3 mixture) Fly Ash (component 3)(kg in a m^3 mixture) Fine Aggregate (component 7)(kg in a m^3 mixture)^2',\n",
       " 'Cement (component 1)(kg in a m^3 mixture) Fly Ash (component 3)(kg in a m^3 mixture) Fine Aggregate (component 7)(kg in a m^3 mixture) Age (day)',\n",
       " 'Cement (component 1)(kg in a m^3 mixture) Fly Ash (component 3)(kg in a m^3 mixture) Age (day)^2',\n",
       " 'Cement (component 1)(kg in a m^3 mixture) Water  (component 4)(kg in a m^3 mixture)^3',\n",
       " 'Cement (component 1)(kg in a m^3 mixture) Water  (component 4)(kg in a m^3 mixture)^2 Superplasticizer (component 5)(kg in a m^3 mixture)',\n",
       " 'Cement (component 1)(kg in a m^3 mixture) Water  (component 4)(kg in a m^3 mixture)^2 Coarse Aggregate  (component 6)(kg in a m^3 mixture)',\n",
       " 'Cement (component 1)(kg in a m^3 mixture) Water  (component 4)(kg in a m^3 mixture)^2 Fine Aggregate (component 7)(kg in a m^3 mixture)',\n",
       " 'Cement (component 1)(kg in a m^3 mixture) Water  (component 4)(kg in a m^3 mixture)^2 Age (day)',\n",
       " 'Cement (component 1)(kg in a m^3 mixture) Water  (component 4)(kg in a m^3 mixture) Superplasticizer (component 5)(kg in a m^3 mixture)^2',\n",
       " 'Cement (component 1)(kg in a m^3 mixture) Water  (component 4)(kg in a m^3 mixture) Superplasticizer (component 5)(kg in a m^3 mixture) Coarse Aggregate  (component 6)(kg in a m^3 mixture)',\n",
       " 'Cement (component 1)(kg in a m^3 mixture) Water  (component 4)(kg in a m^3 mixture) Superplasticizer (component 5)(kg in a m^3 mixture) Fine Aggregate (component 7)(kg in a m^3 mixture)',\n",
       " 'Cement (component 1)(kg in a m^3 mixture) Water  (component 4)(kg in a m^3 mixture) Superplasticizer (component 5)(kg in a m^3 mixture) Age (day)',\n",
       " 'Cement (component 1)(kg in a m^3 mixture) Water  (component 4)(kg in a m^3 mixture) Coarse Aggregate  (component 6)(kg in a m^3 mixture)^2',\n",
       " 'Cement (component 1)(kg in a m^3 mixture) Water  (component 4)(kg in a m^3 mixture) Coarse Aggregate  (component 6)(kg in a m^3 mixture) Fine Aggregate (component 7)(kg in a m^3 mixture)',\n",
       " 'Cement (component 1)(kg in a m^3 mixture) Water  (component 4)(kg in a m^3 mixture) Coarse Aggregate  (component 6)(kg in a m^3 mixture) Age (day)',\n",
       " 'Cement (component 1)(kg in a m^3 mixture) Water  (component 4)(kg in a m^3 mixture) Fine Aggregate (component 7)(kg in a m^3 mixture)^2',\n",
       " 'Cement (component 1)(kg in a m^3 mixture) Water  (component 4)(kg in a m^3 mixture) Fine Aggregate (component 7)(kg in a m^3 mixture) Age (day)',\n",
       " 'Cement (component 1)(kg in a m^3 mixture) Water  (component 4)(kg in a m^3 mixture) Age (day)^2',\n",
       " 'Cement (component 1)(kg in a m^3 mixture) Superplasticizer (component 5)(kg in a m^3 mixture)^3',\n",
       " 'Cement (component 1)(kg in a m^3 mixture) Superplasticizer (component 5)(kg in a m^3 mixture)^2 Coarse Aggregate  (component 6)(kg in a m^3 mixture)',\n",
       " 'Cement (component 1)(kg in a m^3 mixture) Superplasticizer (component 5)(kg in a m^3 mixture)^2 Fine Aggregate (component 7)(kg in a m^3 mixture)',\n",
       " 'Cement (component 1)(kg in a m^3 mixture) Superplasticizer (component 5)(kg in a m^3 mixture)^2 Age (day)',\n",
       " 'Cement (component 1)(kg in a m^3 mixture) Superplasticizer (component 5)(kg in a m^3 mixture) Coarse Aggregate  (component 6)(kg in a m^3 mixture)^2',\n",
       " 'Cement (component 1)(kg in a m^3 mixture) Superplasticizer (component 5)(kg in a m^3 mixture) Coarse Aggregate  (component 6)(kg in a m^3 mixture) Fine Aggregate (component 7)(kg in a m^3 mixture)',\n",
       " 'Cement (component 1)(kg in a m^3 mixture) Superplasticizer (component 5)(kg in a m^3 mixture) Coarse Aggregate  (component 6)(kg in a m^3 mixture) Age (day)',\n",
       " 'Cement (component 1)(kg in a m^3 mixture) Superplasticizer (component 5)(kg in a m^3 mixture) Fine Aggregate (component 7)(kg in a m^3 mixture)^2',\n",
       " 'Cement (component 1)(kg in a m^3 mixture) Superplasticizer (component 5)(kg in a m^3 mixture) Fine Aggregate (component 7)(kg in a m^3 mixture) Age (day)',\n",
       " 'Cement (component 1)(kg in a m^3 mixture) Superplasticizer (component 5)(kg in a m^3 mixture) Age (day)^2',\n",
       " 'Cement (component 1)(kg in a m^3 mixture) Coarse Aggregate  (component 6)(kg in a m^3 mixture)^3',\n",
       " 'Cement (component 1)(kg in a m^3 mixture) Coarse Aggregate  (component 6)(kg in a m^3 mixture)^2 Fine Aggregate (component 7)(kg in a m^3 mixture)',\n",
       " 'Cement (component 1)(kg in a m^3 mixture) Coarse Aggregate  (component 6)(kg in a m^3 mixture)^2 Age (day)',\n",
       " 'Cement (component 1)(kg in a m^3 mixture) Coarse Aggregate  (component 6)(kg in a m^3 mixture) Fine Aggregate (component 7)(kg in a m^3 mixture)^2',\n",
       " 'Cement (component 1)(kg in a m^3 mixture) Coarse Aggregate  (component 6)(kg in a m^3 mixture) Fine Aggregate (component 7)(kg in a m^3 mixture) Age (day)',\n",
       " 'Cement (component 1)(kg in a m^3 mixture) Coarse Aggregate  (component 6)(kg in a m^3 mixture) Age (day)^2',\n",
       " 'Cement (component 1)(kg in a m^3 mixture) Fine Aggregate (component 7)(kg in a m^3 mixture)^3',\n",
       " 'Cement (component 1)(kg in a m^3 mixture) Fine Aggregate (component 7)(kg in a m^3 mixture)^2 Age (day)',\n",
       " 'Cement (component 1)(kg in a m^3 mixture) Fine Aggregate (component 7)(kg in a m^3 mixture) Age (day)^2',\n",
       " 'Cement (component 1)(kg in a m^3 mixture) Age (day)^3',\n",
       " 'Blast Furnace Slag (component 2)(kg in a m^3 mixture)^4',\n",
       " 'Blast Furnace Slag (component 2)(kg in a m^3 mixture)^3 Fly Ash (component 3)(kg in a m^3 mixture)',\n",
       " 'Blast Furnace Slag (component 2)(kg in a m^3 mixture)^3 Water  (component 4)(kg in a m^3 mixture)',\n",
       " 'Blast Furnace Slag (component 2)(kg in a m^3 mixture)^3 Superplasticizer (component 5)(kg in a m^3 mixture)',\n",
       " 'Blast Furnace Slag (component 2)(kg in a m^3 mixture)^3 Coarse Aggregate  (component 6)(kg in a m^3 mixture)',\n",
       " 'Blast Furnace Slag (component 2)(kg in a m^3 mixture)^3 Fine Aggregate (component 7)(kg in a m^3 mixture)',\n",
       " 'Blast Furnace Slag (component 2)(kg in a m^3 mixture)^3 Age (day)',\n",
       " 'Blast Furnace Slag (component 2)(kg in a m^3 mixture)^2 Fly Ash (component 3)(kg in a m^3 mixture)^2',\n",
       " 'Blast Furnace Slag (component 2)(kg in a m^3 mixture)^2 Fly Ash (component 3)(kg in a m^3 mixture) Water  (component 4)(kg in a m^3 mixture)',\n",
       " 'Blast Furnace Slag (component 2)(kg in a m^3 mixture)^2 Fly Ash (component 3)(kg in a m^3 mixture) Superplasticizer (component 5)(kg in a m^3 mixture)',\n",
       " 'Blast Furnace Slag (component 2)(kg in a m^3 mixture)^2 Fly Ash (component 3)(kg in a m^3 mixture) Coarse Aggregate  (component 6)(kg in a m^3 mixture)',\n",
       " 'Blast Furnace Slag (component 2)(kg in a m^3 mixture)^2 Fly Ash (component 3)(kg in a m^3 mixture) Fine Aggregate (component 7)(kg in a m^3 mixture)',\n",
       " 'Blast Furnace Slag (component 2)(kg in a m^3 mixture)^2 Fly Ash (component 3)(kg in a m^3 mixture) Age (day)',\n",
       " 'Blast Furnace Slag (component 2)(kg in a m^3 mixture)^2 Water  (component 4)(kg in a m^3 mixture)^2',\n",
       " 'Blast Furnace Slag (component 2)(kg in a m^3 mixture)^2 Water  (component 4)(kg in a m^3 mixture) Superplasticizer (component 5)(kg in a m^3 mixture)',\n",
       " 'Blast Furnace Slag (component 2)(kg in a m^3 mixture)^2 Water  (component 4)(kg in a m^3 mixture) Coarse Aggregate  (component 6)(kg in a m^3 mixture)',\n",
       " 'Blast Furnace Slag (component 2)(kg in a m^3 mixture)^2 Water  (component 4)(kg in a m^3 mixture) Fine Aggregate (component 7)(kg in a m^3 mixture)',\n",
       " 'Blast Furnace Slag (component 2)(kg in a m^3 mixture)^2 Water  (component 4)(kg in a m^3 mixture) Age (day)',\n",
       " 'Blast Furnace Slag (component 2)(kg in a m^3 mixture)^2 Superplasticizer (component 5)(kg in a m^3 mixture)^2',\n",
       " 'Blast Furnace Slag (component 2)(kg in a m^3 mixture)^2 Superplasticizer (component 5)(kg in a m^3 mixture) Coarse Aggregate  (component 6)(kg in a m^3 mixture)',\n",
       " 'Blast Furnace Slag (component 2)(kg in a m^3 mixture)^2 Superplasticizer (component 5)(kg in a m^3 mixture) Fine Aggregate (component 7)(kg in a m^3 mixture)',\n",
       " 'Blast Furnace Slag (component 2)(kg in a m^3 mixture)^2 Superplasticizer (component 5)(kg in a m^3 mixture) Age (day)',\n",
       " 'Blast Furnace Slag (component 2)(kg in a m^3 mixture)^2 Coarse Aggregate  (component 6)(kg in a m^3 mixture)^2',\n",
       " 'Blast Furnace Slag (component 2)(kg in a m^3 mixture)^2 Coarse Aggregate  (component 6)(kg in a m^3 mixture) Fine Aggregate (component 7)(kg in a m^3 mixture)',\n",
       " 'Blast Furnace Slag (component 2)(kg in a m^3 mixture)^2 Coarse Aggregate  (component 6)(kg in a m^3 mixture) Age (day)',\n",
       " 'Blast Furnace Slag (component 2)(kg in a m^3 mixture)^2 Fine Aggregate (component 7)(kg in a m^3 mixture)^2',\n",
       " 'Blast Furnace Slag (component 2)(kg in a m^3 mixture)^2 Fine Aggregate (component 7)(kg in a m^3 mixture) Age (day)',\n",
       " 'Blast Furnace Slag (component 2)(kg in a m^3 mixture)^2 Age (day)^2',\n",
       " 'Blast Furnace Slag (component 2)(kg in a m^3 mixture) Fly Ash (component 3)(kg in a m^3 mixture)^3',\n",
       " 'Blast Furnace Slag (component 2)(kg in a m^3 mixture) Fly Ash (component 3)(kg in a m^3 mixture)^2 Water  (component 4)(kg in a m^3 mixture)',\n",
       " 'Blast Furnace Slag (component 2)(kg in a m^3 mixture) Fly Ash (component 3)(kg in a m^3 mixture)^2 Superplasticizer (component 5)(kg in a m^3 mixture)',\n",
       " 'Blast Furnace Slag (component 2)(kg in a m^3 mixture) Fly Ash (component 3)(kg in a m^3 mixture)^2 Coarse Aggregate  (component 6)(kg in a m^3 mixture)',\n",
       " 'Blast Furnace Slag (component 2)(kg in a m^3 mixture) Fly Ash (component 3)(kg in a m^3 mixture)^2 Fine Aggregate (component 7)(kg in a m^3 mixture)',\n",
       " 'Blast Furnace Slag (component 2)(kg in a m^3 mixture) Fly Ash (component 3)(kg in a m^3 mixture)^2 Age (day)',\n",
       " 'Blast Furnace Slag (component 2)(kg in a m^3 mixture) Fly Ash (component 3)(kg in a m^3 mixture) Water  (component 4)(kg in a m^3 mixture)^2',\n",
       " 'Blast Furnace Slag (component 2)(kg in a m^3 mixture) Fly Ash (component 3)(kg in a m^3 mixture) Water  (component 4)(kg in a m^3 mixture) Superplasticizer (component 5)(kg in a m^3 mixture)',\n",
       " 'Blast Furnace Slag (component 2)(kg in a m^3 mixture) Fly Ash (component 3)(kg in a m^3 mixture) Water  (component 4)(kg in a m^3 mixture) Coarse Aggregate  (component 6)(kg in a m^3 mixture)',\n",
       " 'Blast Furnace Slag (component 2)(kg in a m^3 mixture) Fly Ash (component 3)(kg in a m^3 mixture) Water  (component 4)(kg in a m^3 mixture) Fine Aggregate (component 7)(kg in a m^3 mixture)',\n",
       " 'Blast Furnace Slag (component 2)(kg in a m^3 mixture) Fly Ash (component 3)(kg in a m^3 mixture) Water  (component 4)(kg in a m^3 mixture) Age (day)',\n",
       " 'Blast Furnace Slag (component 2)(kg in a m^3 mixture) Fly Ash (component 3)(kg in a m^3 mixture) Superplasticizer (component 5)(kg in a m^3 mixture)^2',\n",
       " 'Blast Furnace Slag (component 2)(kg in a m^3 mixture) Fly Ash (component 3)(kg in a m^3 mixture) Superplasticizer (component 5)(kg in a m^3 mixture) Coarse Aggregate  (component 6)(kg in a m^3 mixture)',\n",
       " 'Blast Furnace Slag (component 2)(kg in a m^3 mixture) Fly Ash (component 3)(kg in a m^3 mixture) Superplasticizer (component 5)(kg in a m^3 mixture) Fine Aggregate (component 7)(kg in a m^3 mixture)',\n",
       " 'Blast Furnace Slag (component 2)(kg in a m^3 mixture) Fly Ash (component 3)(kg in a m^3 mixture) Superplasticizer (component 5)(kg in a m^3 mixture) Age (day)',\n",
       " 'Blast Furnace Slag (component 2)(kg in a m^3 mixture) Fly Ash (component 3)(kg in a m^3 mixture) Coarse Aggregate  (component 6)(kg in a m^3 mixture)^2',\n",
       " 'Blast Furnace Slag (component 2)(kg in a m^3 mixture) Fly Ash (component 3)(kg in a m^3 mixture) Coarse Aggregate  (component 6)(kg in a m^3 mixture) Fine Aggregate (component 7)(kg in a m^3 mixture)',\n",
       " 'Blast Furnace Slag (component 2)(kg in a m^3 mixture) Fly Ash (component 3)(kg in a m^3 mixture) Coarse Aggregate  (component 6)(kg in a m^3 mixture) Age (day)',\n",
       " 'Blast Furnace Slag (component 2)(kg in a m^3 mixture) Fly Ash (component 3)(kg in a m^3 mixture) Fine Aggregate (component 7)(kg in a m^3 mixture)^2',\n",
       " 'Blast Furnace Slag (component 2)(kg in a m^3 mixture) Fly Ash (component 3)(kg in a m^3 mixture) Fine Aggregate (component 7)(kg in a m^3 mixture) Age (day)',\n",
       " 'Blast Furnace Slag (component 2)(kg in a m^3 mixture) Fly Ash (component 3)(kg in a m^3 mixture) Age (day)^2',\n",
       " 'Blast Furnace Slag (component 2)(kg in a m^3 mixture) Water  (component 4)(kg in a m^3 mixture)^3',\n",
       " 'Blast Furnace Slag (component 2)(kg in a m^3 mixture) Water  (component 4)(kg in a m^3 mixture)^2 Superplasticizer (component 5)(kg in a m^3 mixture)',\n",
       " 'Blast Furnace Slag (component 2)(kg in a m^3 mixture) Water  (component 4)(kg in a m^3 mixture)^2 Coarse Aggregate  (component 6)(kg in a m^3 mixture)',\n",
       " 'Blast Furnace Slag (component 2)(kg in a m^3 mixture) Water  (component 4)(kg in a m^3 mixture)^2 Fine Aggregate (component 7)(kg in a m^3 mixture)',\n",
       " 'Blast Furnace Slag (component 2)(kg in a m^3 mixture) Water  (component 4)(kg in a m^3 mixture)^2 Age (day)',\n",
       " 'Blast Furnace Slag (component 2)(kg in a m^3 mixture) Water  (component 4)(kg in a m^3 mixture) Superplasticizer (component 5)(kg in a m^3 mixture)^2',\n",
       " 'Blast Furnace Slag (component 2)(kg in a m^3 mixture) Water  (component 4)(kg in a m^3 mixture) Superplasticizer (component 5)(kg in a m^3 mixture) Coarse Aggregate  (component 6)(kg in a m^3 mixture)',\n",
       " 'Blast Furnace Slag (component 2)(kg in a m^3 mixture) Water  (component 4)(kg in a m^3 mixture) Superplasticizer (component 5)(kg in a m^3 mixture) Fine Aggregate (component 7)(kg in a m^3 mixture)',\n",
       " 'Blast Furnace Slag (component 2)(kg in a m^3 mixture) Water  (component 4)(kg in a m^3 mixture) Superplasticizer (component 5)(kg in a m^3 mixture) Age (day)',\n",
       " 'Blast Furnace Slag (component 2)(kg in a m^3 mixture) Water  (component 4)(kg in a m^3 mixture) Coarse Aggregate  (component 6)(kg in a m^3 mixture)^2',\n",
       " 'Blast Furnace Slag (component 2)(kg in a m^3 mixture) Water  (component 4)(kg in a m^3 mixture) Coarse Aggregate  (component 6)(kg in a m^3 mixture) Fine Aggregate (component 7)(kg in a m^3 mixture)',\n",
       " 'Blast Furnace Slag (component 2)(kg in a m^3 mixture) Water  (component 4)(kg in a m^3 mixture) Coarse Aggregate  (component 6)(kg in a m^3 mixture) Age (day)',\n",
       " 'Blast Furnace Slag (component 2)(kg in a m^3 mixture) Water  (component 4)(kg in a m^3 mixture) Fine Aggregate (component 7)(kg in a m^3 mixture)^2',\n",
       " 'Blast Furnace Slag (component 2)(kg in a m^3 mixture) Water  (component 4)(kg in a m^3 mixture) Fine Aggregate (component 7)(kg in a m^3 mixture) Age (day)',\n",
       " 'Blast Furnace Slag (component 2)(kg in a m^3 mixture) Water  (component 4)(kg in a m^3 mixture) Age (day)^2',\n",
       " 'Blast Furnace Slag (component 2)(kg in a m^3 mixture) Superplasticizer (component 5)(kg in a m^3 mixture)^3',\n",
       " 'Blast Furnace Slag (component 2)(kg in a m^3 mixture) Superplasticizer (component 5)(kg in a m^3 mixture)^2 Coarse Aggregate  (component 6)(kg in a m^3 mixture)',\n",
       " 'Blast Furnace Slag (component 2)(kg in a m^3 mixture) Superplasticizer (component 5)(kg in a m^3 mixture)^2 Fine Aggregate (component 7)(kg in a m^3 mixture)',\n",
       " 'Blast Furnace Slag (component 2)(kg in a m^3 mixture) Superplasticizer (component 5)(kg in a m^3 mixture)^2 Age (day)',\n",
       " 'Blast Furnace Slag (component 2)(kg in a m^3 mixture) Superplasticizer (component 5)(kg in a m^3 mixture) Coarse Aggregate  (component 6)(kg in a m^3 mixture)^2',\n",
       " 'Blast Furnace Slag (component 2)(kg in a m^3 mixture) Superplasticizer (component 5)(kg in a m^3 mixture) Coarse Aggregate  (component 6)(kg in a m^3 mixture) Fine Aggregate (component 7)(kg in a m^3 mixture)',\n",
       " 'Blast Furnace Slag (component 2)(kg in a m^3 mixture) Superplasticizer (component 5)(kg in a m^3 mixture) Coarse Aggregate  (component 6)(kg in a m^3 mixture) Age (day)',\n",
       " 'Blast Furnace Slag (component 2)(kg in a m^3 mixture) Superplasticizer (component 5)(kg in a m^3 mixture) Fine Aggregate (component 7)(kg in a m^3 mixture)^2',\n",
       " 'Blast Furnace Slag (component 2)(kg in a m^3 mixture) Superplasticizer (component 5)(kg in a m^3 mixture) Fine Aggregate (component 7)(kg in a m^3 mixture) Age (day)',\n",
       " 'Blast Furnace Slag (component 2)(kg in a m^3 mixture) Superplasticizer (component 5)(kg in a m^3 mixture) Age (day)^2',\n",
       " 'Blast Furnace Slag (component 2)(kg in a m^3 mixture) Coarse Aggregate  (component 6)(kg in a m^3 mixture)^3',\n",
       " 'Blast Furnace Slag (component 2)(kg in a m^3 mixture) Coarse Aggregate  (component 6)(kg in a m^3 mixture)^2 Fine Aggregate (component 7)(kg in a m^3 mixture)',\n",
       " 'Blast Furnace Slag (component 2)(kg in a m^3 mixture) Coarse Aggregate  (component 6)(kg in a m^3 mixture)^2 Age (day)',\n",
       " 'Blast Furnace Slag (component 2)(kg in a m^3 mixture) Coarse Aggregate  (component 6)(kg in a m^3 mixture) Fine Aggregate (component 7)(kg in a m^3 mixture)^2',\n",
       " 'Blast Furnace Slag (component 2)(kg in a m^3 mixture) Coarse Aggregate  (component 6)(kg in a m^3 mixture) Fine Aggregate (component 7)(kg in a m^3 mixture) Age (day)',\n",
       " 'Blast Furnace Slag (component 2)(kg in a m^3 mixture) Coarse Aggregate  (component 6)(kg in a m^3 mixture) Age (day)^2',\n",
       " 'Blast Furnace Slag (component 2)(kg in a m^3 mixture) Fine Aggregate (component 7)(kg in a m^3 mixture)^3',\n",
       " 'Blast Furnace Slag (component 2)(kg in a m^3 mixture) Fine Aggregate (component 7)(kg in a m^3 mixture)^2 Age (day)',\n",
       " 'Blast Furnace Slag (component 2)(kg in a m^3 mixture) Fine Aggregate (component 7)(kg in a m^3 mixture) Age (day)^2',\n",
       " 'Blast Furnace Slag (component 2)(kg in a m^3 mixture) Age (day)^3',\n",
       " 'Fly Ash (component 3)(kg in a m^3 mixture)^4',\n",
       " 'Fly Ash (component 3)(kg in a m^3 mixture)^3 Water  (component 4)(kg in a m^3 mixture)',\n",
       " 'Fly Ash (component 3)(kg in a m^3 mixture)^3 Superplasticizer (component 5)(kg in a m^3 mixture)',\n",
       " 'Fly Ash (component 3)(kg in a m^3 mixture)^3 Coarse Aggregate  (component 6)(kg in a m^3 mixture)',\n",
       " 'Fly Ash (component 3)(kg in a m^3 mixture)^3 Fine Aggregate (component 7)(kg in a m^3 mixture)',\n",
       " 'Fly Ash (component 3)(kg in a m^3 mixture)^3 Age (day)',\n",
       " 'Fly Ash (component 3)(kg in a m^3 mixture)^2 Water  (component 4)(kg in a m^3 mixture)^2',\n",
       " 'Fly Ash (component 3)(kg in a m^3 mixture)^2 Water  (component 4)(kg in a m^3 mixture) Superplasticizer (component 5)(kg in a m^3 mixture)',\n",
       " 'Fly Ash (component 3)(kg in a m^3 mixture)^2 Water  (component 4)(kg in a m^3 mixture) Coarse Aggregate  (component 6)(kg in a m^3 mixture)',\n",
       " 'Fly Ash (component 3)(kg in a m^3 mixture)^2 Water  (component 4)(kg in a m^3 mixture) Fine Aggregate (component 7)(kg in a m^3 mixture)',\n",
       " 'Fly Ash (component 3)(kg in a m^3 mixture)^2 Water  (component 4)(kg in a m^3 mixture) Age (day)',\n",
       " 'Fly Ash (component 3)(kg in a m^3 mixture)^2 Superplasticizer (component 5)(kg in a m^3 mixture)^2',\n",
       " 'Fly Ash (component 3)(kg in a m^3 mixture)^2 Superplasticizer (component 5)(kg in a m^3 mixture) Coarse Aggregate  (component 6)(kg in a m^3 mixture)',\n",
       " 'Fly Ash (component 3)(kg in a m^3 mixture)^2 Superplasticizer (component 5)(kg in a m^3 mixture) Fine Aggregate (component 7)(kg in a m^3 mixture)',\n",
       " 'Fly Ash (component 3)(kg in a m^3 mixture)^2 Superplasticizer (component 5)(kg in a m^3 mixture) Age (day)',\n",
       " 'Fly Ash (component 3)(kg in a m^3 mixture)^2 Coarse Aggregate  (component 6)(kg in a m^3 mixture)^2',\n",
       " 'Fly Ash (component 3)(kg in a m^3 mixture)^2 Coarse Aggregate  (component 6)(kg in a m^3 mixture) Fine Aggregate (component 7)(kg in a m^3 mixture)',\n",
       " 'Fly Ash (component 3)(kg in a m^3 mixture)^2 Coarse Aggregate  (component 6)(kg in a m^3 mixture) Age (day)',\n",
       " 'Fly Ash (component 3)(kg in a m^3 mixture)^2 Fine Aggregate (component 7)(kg in a m^3 mixture)^2',\n",
       " 'Fly Ash (component 3)(kg in a m^3 mixture)^2 Fine Aggregate (component 7)(kg in a m^3 mixture) Age (day)',\n",
       " 'Fly Ash (component 3)(kg in a m^3 mixture)^2 Age (day)^2',\n",
       " 'Fly Ash (component 3)(kg in a m^3 mixture) Water  (component 4)(kg in a m^3 mixture)^3',\n",
       " 'Fly Ash (component 3)(kg in a m^3 mixture) Water  (component 4)(kg in a m^3 mixture)^2 Superplasticizer (component 5)(kg in a m^3 mixture)',\n",
       " 'Fly Ash (component 3)(kg in a m^3 mixture) Water  (component 4)(kg in a m^3 mixture)^2 Coarse Aggregate  (component 6)(kg in a m^3 mixture)',\n",
       " 'Fly Ash (component 3)(kg in a m^3 mixture) Water  (component 4)(kg in a m^3 mixture)^2 Fine Aggregate (component 7)(kg in a m^3 mixture)',\n",
       " 'Fly Ash (component 3)(kg in a m^3 mixture) Water  (component 4)(kg in a m^3 mixture)^2 Age (day)',\n",
       " 'Fly Ash (component 3)(kg in a m^3 mixture) Water  (component 4)(kg in a m^3 mixture) Superplasticizer (component 5)(kg in a m^3 mixture)^2',\n",
       " 'Fly Ash (component 3)(kg in a m^3 mixture) Water  (component 4)(kg in a m^3 mixture) Superplasticizer (component 5)(kg in a m^3 mixture) Coarse Aggregate  (component 6)(kg in a m^3 mixture)',\n",
       " 'Fly Ash (component 3)(kg in a m^3 mixture) Water  (component 4)(kg in a m^3 mixture) Superplasticizer (component 5)(kg in a m^3 mixture) Fine Aggregate (component 7)(kg in a m^3 mixture)',\n",
       " 'Fly Ash (component 3)(kg in a m^3 mixture) Water  (component 4)(kg in a m^3 mixture) Superplasticizer (component 5)(kg in a m^3 mixture) Age (day)',\n",
       " 'Fly Ash (component 3)(kg in a m^3 mixture) Water  (component 4)(kg in a m^3 mixture) Coarse Aggregate  (component 6)(kg in a m^3 mixture)^2',\n",
       " 'Fly Ash (component 3)(kg in a m^3 mixture) Water  (component 4)(kg in a m^3 mixture) Coarse Aggregate  (component 6)(kg in a m^3 mixture) Fine Aggregate (component 7)(kg in a m^3 mixture)',\n",
       " 'Fly Ash (component 3)(kg in a m^3 mixture) Water  (component 4)(kg in a m^3 mixture) Coarse Aggregate  (component 6)(kg in a m^3 mixture) Age (day)',\n",
       " 'Fly Ash (component 3)(kg in a m^3 mixture) Water  (component 4)(kg in a m^3 mixture) Fine Aggregate (component 7)(kg in a m^3 mixture)^2',\n",
       " 'Fly Ash (component 3)(kg in a m^3 mixture) Water  (component 4)(kg in a m^3 mixture) Fine Aggregate (component 7)(kg in a m^3 mixture) Age (day)',\n",
       " 'Fly Ash (component 3)(kg in a m^3 mixture) Water  (component 4)(kg in a m^3 mixture) Age (day)^2',\n",
       " 'Fly Ash (component 3)(kg in a m^3 mixture) Superplasticizer (component 5)(kg in a m^3 mixture)^3',\n",
       " 'Fly Ash (component 3)(kg in a m^3 mixture) Superplasticizer (component 5)(kg in a m^3 mixture)^2 Coarse Aggregate  (component 6)(kg in a m^3 mixture)',\n",
       " 'Fly Ash (component 3)(kg in a m^3 mixture) Superplasticizer (component 5)(kg in a m^3 mixture)^2 Fine Aggregate (component 7)(kg in a m^3 mixture)',\n",
       " 'Fly Ash (component 3)(kg in a m^3 mixture) Superplasticizer (component 5)(kg in a m^3 mixture)^2 Age (day)',\n",
       " 'Fly Ash (component 3)(kg in a m^3 mixture) Superplasticizer (component 5)(kg in a m^3 mixture) Coarse Aggregate  (component 6)(kg in a m^3 mixture)^2',\n",
       " 'Fly Ash (component 3)(kg in a m^3 mixture) Superplasticizer (component 5)(kg in a m^3 mixture) Coarse Aggregate  (component 6)(kg in a m^3 mixture) Fine Aggregate (component 7)(kg in a m^3 mixture)',\n",
       " 'Fly Ash (component 3)(kg in a m^3 mixture) Superplasticizer (component 5)(kg in a m^3 mixture) Coarse Aggregate  (component 6)(kg in a m^3 mixture) Age (day)',\n",
       " 'Fly Ash (component 3)(kg in a m^3 mixture) Superplasticizer (component 5)(kg in a m^3 mixture) Fine Aggregate (component 7)(kg in a m^3 mixture)^2',\n",
       " 'Fly Ash (component 3)(kg in a m^3 mixture) Superplasticizer (component 5)(kg in a m^3 mixture) Fine Aggregate (component 7)(kg in a m^3 mixture) Age (day)',\n",
       " 'Fly Ash (component 3)(kg in a m^3 mixture) Superplasticizer (component 5)(kg in a m^3 mixture) Age (day)^2',\n",
       " 'Fly Ash (component 3)(kg in a m^3 mixture) Coarse Aggregate  (component 6)(kg in a m^3 mixture)^3',\n",
       " 'Fly Ash (component 3)(kg in a m^3 mixture) Coarse Aggregate  (component 6)(kg in a m^3 mixture)^2 Fine Aggregate (component 7)(kg in a m^3 mixture)',\n",
       " 'Fly Ash (component 3)(kg in a m^3 mixture) Coarse Aggregate  (component 6)(kg in a m^3 mixture)^2 Age (day)',\n",
       " 'Fly Ash (component 3)(kg in a m^3 mixture) Coarse Aggregate  (component 6)(kg in a m^3 mixture) Fine Aggregate (component 7)(kg in a m^3 mixture)^2',\n",
       " 'Fly Ash (component 3)(kg in a m^3 mixture) Coarse Aggregate  (component 6)(kg in a m^3 mixture) Fine Aggregate (component 7)(kg in a m^3 mixture) Age (day)',\n",
       " 'Fly Ash (component 3)(kg in a m^3 mixture) Coarse Aggregate  (component 6)(kg in a m^3 mixture) Age (day)^2',\n",
       " 'Fly Ash (component 3)(kg in a m^3 mixture) Fine Aggregate (component 7)(kg in a m^3 mixture)^3',\n",
       " 'Fly Ash (component 3)(kg in a m^3 mixture) Fine Aggregate (component 7)(kg in a m^3 mixture)^2 Age (day)',\n",
       " 'Fly Ash (component 3)(kg in a m^3 mixture) Fine Aggregate (component 7)(kg in a m^3 mixture) Age (day)^2',\n",
       " 'Fly Ash (component 3)(kg in a m^3 mixture) Age (day)^3',\n",
       " 'Water  (component 4)(kg in a m^3 mixture)^4',\n",
       " 'Water  (component 4)(kg in a m^3 mixture)^3 Superplasticizer (component 5)(kg in a m^3 mixture)',\n",
       " 'Water  (component 4)(kg in a m^3 mixture)^3 Coarse Aggregate  (component 6)(kg in a m^3 mixture)',\n",
       " 'Water  (component 4)(kg in a m^3 mixture)^3 Fine Aggregate (component 7)(kg in a m^3 mixture)',\n",
       " 'Water  (component 4)(kg in a m^3 mixture)^3 Age (day)',\n",
       " 'Water  (component 4)(kg in a m^3 mixture)^2 Superplasticizer (component 5)(kg in a m^3 mixture)^2',\n",
       " 'Water  (component 4)(kg in a m^3 mixture)^2 Superplasticizer (component 5)(kg in a m^3 mixture) Coarse Aggregate  (component 6)(kg in a m^3 mixture)',\n",
       " 'Water  (component 4)(kg in a m^3 mixture)^2 Superplasticizer (component 5)(kg in a m^3 mixture) Fine Aggregate (component 7)(kg in a m^3 mixture)',\n",
       " 'Water  (component 4)(kg in a m^3 mixture)^2 Superplasticizer (component 5)(kg in a m^3 mixture) Age (day)',\n",
       " 'Water  (component 4)(kg in a m^3 mixture)^2 Coarse Aggregate  (component 6)(kg in a m^3 mixture)^2',\n",
       " 'Water  (component 4)(kg in a m^3 mixture)^2 Coarse Aggregate  (component 6)(kg in a m^3 mixture) Fine Aggregate (component 7)(kg in a m^3 mixture)',\n",
       " 'Water  (component 4)(kg in a m^3 mixture)^2 Coarse Aggregate  (component 6)(kg in a m^3 mixture) Age (day)',\n",
       " 'Water  (component 4)(kg in a m^3 mixture)^2 Fine Aggregate (component 7)(kg in a m^3 mixture)^2',\n",
       " 'Water  (component 4)(kg in a m^3 mixture)^2 Fine Aggregate (component 7)(kg in a m^3 mixture) Age (day)',\n",
       " 'Water  (component 4)(kg in a m^3 mixture)^2 Age (day)^2',\n",
       " 'Water  (component 4)(kg in a m^3 mixture) Superplasticizer (component 5)(kg in a m^3 mixture)^3',\n",
       " 'Water  (component 4)(kg in a m^3 mixture) Superplasticizer (component 5)(kg in a m^3 mixture)^2 Coarse Aggregate  (component 6)(kg in a m^3 mixture)',\n",
       " 'Water  (component 4)(kg in a m^3 mixture) Superplasticizer (component 5)(kg in a m^3 mixture)^2 Fine Aggregate (component 7)(kg in a m^3 mixture)',\n",
       " 'Water  (component 4)(kg in a m^3 mixture) Superplasticizer (component 5)(kg in a m^3 mixture)^2 Age (day)',\n",
       " 'Water  (component 4)(kg in a m^3 mixture) Superplasticizer (component 5)(kg in a m^3 mixture) Coarse Aggregate  (component 6)(kg in a m^3 mixture)^2',\n",
       " 'Water  (component 4)(kg in a m^3 mixture) Superplasticizer (component 5)(kg in a m^3 mixture) Coarse Aggregate  (component 6)(kg in a m^3 mixture) Fine Aggregate (component 7)(kg in a m^3 mixture)',\n",
       " 'Water  (component 4)(kg in a m^3 mixture) Superplasticizer (component 5)(kg in a m^3 mixture) Coarse Aggregate  (component 6)(kg in a m^3 mixture) Age (day)',\n",
       " 'Water  (component 4)(kg in a m^3 mixture) Superplasticizer (component 5)(kg in a m^3 mixture) Fine Aggregate (component 7)(kg in a m^3 mixture)^2',\n",
       " 'Water  (component 4)(kg in a m^3 mixture) Superplasticizer (component 5)(kg in a m^3 mixture) Fine Aggregate (component 7)(kg in a m^3 mixture) Age (day)',\n",
       " 'Water  (component 4)(kg in a m^3 mixture) Superplasticizer (component 5)(kg in a m^3 mixture) Age (day)^2',\n",
       " 'Water  (component 4)(kg in a m^3 mixture) Coarse Aggregate  (component 6)(kg in a m^3 mixture)^3',\n",
       " 'Water  (component 4)(kg in a m^3 mixture) Coarse Aggregate  (component 6)(kg in a m^3 mixture)^2 Fine Aggregate (component 7)(kg in a m^3 mixture)',\n",
       " 'Water  (component 4)(kg in a m^3 mixture) Coarse Aggregate  (component 6)(kg in a m^3 mixture)^2 Age (day)',\n",
       " 'Water  (component 4)(kg in a m^3 mixture) Coarse Aggregate  (component 6)(kg in a m^3 mixture) Fine Aggregate (component 7)(kg in a m^3 mixture)^2',\n",
       " 'Water  (component 4)(kg in a m^3 mixture) Coarse Aggregate  (component 6)(kg in a m^3 mixture) Fine Aggregate (component 7)(kg in a m^3 mixture) Age (day)',\n",
       " 'Water  (component 4)(kg in a m^3 mixture) Coarse Aggregate  (component 6)(kg in a m^3 mixture) Age (day)^2',\n",
       " 'Water  (component 4)(kg in a m^3 mixture) Fine Aggregate (component 7)(kg in a m^3 mixture)^3',\n",
       " 'Water  (component 4)(kg in a m^3 mixture) Fine Aggregate (component 7)(kg in a m^3 mixture)^2 Age (day)',\n",
       " 'Water  (component 4)(kg in a m^3 mixture) Fine Aggregate (component 7)(kg in a m^3 mixture) Age (day)^2',\n",
       " 'Water  (component 4)(kg in a m^3 mixture) Age (day)^3',\n",
       " 'Superplasticizer (component 5)(kg in a m^3 mixture)^4',\n",
       " 'Superplasticizer (component 5)(kg in a m^3 mixture)^3 Coarse Aggregate  (component 6)(kg in a m^3 mixture)',\n",
       " 'Superplasticizer (component 5)(kg in a m^3 mixture)^3 Fine Aggregate (component 7)(kg in a m^3 mixture)',\n",
       " 'Superplasticizer (component 5)(kg in a m^3 mixture)^3 Age (day)',\n",
       " 'Superplasticizer (component 5)(kg in a m^3 mixture)^2 Coarse Aggregate  (component 6)(kg in a m^3 mixture)^2',\n",
       " 'Superplasticizer (component 5)(kg in a m^3 mixture)^2 Coarse Aggregate  (component 6)(kg in a m^3 mixture) Fine Aggregate (component 7)(kg in a m^3 mixture)',\n",
       " 'Superplasticizer (component 5)(kg in a m^3 mixture)^2 Coarse Aggregate  (component 6)(kg in a m^3 mixture) Age (day)',\n",
       " 'Superplasticizer (component 5)(kg in a m^3 mixture)^2 Fine Aggregate (component 7)(kg in a m^3 mixture)^2',\n",
       " 'Superplasticizer (component 5)(kg in a m^3 mixture)^2 Fine Aggregate (component 7)(kg in a m^3 mixture) Age (day)',\n",
       " 'Superplasticizer (component 5)(kg in a m^3 mixture)^2 Age (day)^2',\n",
       " 'Superplasticizer (component 5)(kg in a m^3 mixture) Coarse Aggregate  (component 6)(kg in a m^3 mixture)^3',\n",
       " 'Superplasticizer (component 5)(kg in a m^3 mixture) Coarse Aggregate  (component 6)(kg in a m^3 mixture)^2 Fine Aggregate (component 7)(kg in a m^3 mixture)',\n",
       " 'Superplasticizer (component 5)(kg in a m^3 mixture) Coarse Aggregate  (component 6)(kg in a m^3 mixture)^2 Age (day)',\n",
       " 'Superplasticizer (component 5)(kg in a m^3 mixture) Coarse Aggregate  (component 6)(kg in a m^3 mixture) Fine Aggregate (component 7)(kg in a m^3 mixture)^2',\n",
       " 'Superplasticizer (component 5)(kg in a m^3 mixture) Coarse Aggregate  (component 6)(kg in a m^3 mixture) Fine Aggregate (component 7)(kg in a m^3 mixture) Age (day)',\n",
       " 'Superplasticizer (component 5)(kg in a m^3 mixture) Coarse Aggregate  (component 6)(kg in a m^3 mixture) Age (day)^2',\n",
       " 'Superplasticizer (component 5)(kg in a m^3 mixture) Fine Aggregate (component 7)(kg in a m^3 mixture)^3',\n",
       " 'Superplasticizer (component 5)(kg in a m^3 mixture) Fine Aggregate (component 7)(kg in a m^3 mixture)^2 Age (day)',\n",
       " 'Superplasticizer (component 5)(kg in a m^3 mixture) Fine Aggregate (component 7)(kg in a m^3 mixture) Age (day)^2',\n",
       " 'Superplasticizer (component 5)(kg in a m^3 mixture) Age (day)^3',\n",
       " 'Coarse Aggregate  (component 6)(kg in a m^3 mixture)^4',\n",
       " 'Coarse Aggregate  (component 6)(kg in a m^3 mixture)^3 Fine Aggregate (component 7)(kg in a m^3 mixture)',\n",
       " 'Coarse Aggregate  (component 6)(kg in a m^3 mixture)^3 Age (day)',\n",
       " 'Coarse Aggregate  (component 6)(kg in a m^3 mixture)^2 Fine Aggregate (component 7)(kg in a m^3 mixture)^2',\n",
       " 'Coarse Aggregate  (component 6)(kg in a m^3 mixture)^2 Fine Aggregate (component 7)(kg in a m^3 mixture) Age (day)',\n",
       " 'Coarse Aggregate  (component 6)(kg in a m^3 mixture)^2 Age (day)^2',\n",
       " 'Coarse Aggregate  (component 6)(kg in a m^3 mixture) Fine Aggregate (component 7)(kg in a m^3 mixture)^3',\n",
       " 'Coarse Aggregate  (component 6)(kg in a m^3 mixture) Fine Aggregate (component 7)(kg in a m^3 mixture)^2 Age (day)',\n",
       " 'Coarse Aggregate  (component 6)(kg in a m^3 mixture) Fine Aggregate (component 7)(kg in a m^3 mixture) Age (day)^2',\n",
       " 'Coarse Aggregate  (component 6)(kg in a m^3 mixture) Age (day)^3',\n",
       " 'Fine Aggregate (component 7)(kg in a m^3 mixture)^4',\n",
       " 'Fine Aggregate (component 7)(kg in a m^3 mixture)^3 Age (day)',\n",
       " 'Fine Aggregate (component 7)(kg in a m^3 mixture)^2 Age (day)^2',\n",
       " 'Fine Aggregate (component 7)(kg in a m^3 mixture) Age (day)^3',\n",
       " 'Age (day)^4']"
      ]
     },
     "execution_count": 128,
     "metadata": {},
     "output_type": "execute_result"
    }
   ],
   "source": [
    "poly.get_feature_names(X.columns)"
   ]
  },
  {
   "cell_type": "code",
   "execution_count": 129,
   "metadata": {},
   "outputs": [
    {
     "data": {
      "text/plain": [
       "array([ 0.00000000e+00,  7.29733586e+01,  3.07752669e+01, -1.73790301e+01,\n",
       "        1.00155647e+01,  6.97470771e+01, -1.59177000e+01,  2.63319904e+01,\n",
       "        1.19998198e+02, -7.47027623e+01,  8.87061149e+01,  5.54045876e+01,\n",
       "       -1.00681125e+01,  8.45014286e+00,  4.98599526e+01,  2.71787398e+01,\n",
       "        5.65539905e+01,  2.55005861e+00, -2.52927348e+01, -2.27623674e+01,\n",
       "        4.51506849e+01, -1.19304970e+02,  3.86835973e+01,  8.53595160e+01,\n",
       "       -6.68427681e+01,  8.42370993e-01, -8.46335438e+00, -7.47338816e+00,\n",
       "        5.09230754e+01,  4.85475725e+01,  4.48390890e+01, -3.10321908e+01,\n",
       "        1.78144204e+01, -2.93931800e+01, -6.60267505e+00, -4.26248977e+01,\n",
       "        9.06431808e+00,  4.55375007e+01,  6.40108163e+01,  3.81654192e+01,\n",
       "        1.14496016e+01,  2.18290758e+01, -1.27504701e+01,  8.04896968e+01,\n",
       "       -2.87924299e+02, -4.99031769e+01,  7.54887073e+01,  8.30155361e+00,\n",
       "       -1.59691241e+01, -5.98351876e+00, -2.32323159e+01, -4.86879767e+00,\n",
       "       -1.26764027e+01, -7.64927467e+00,  7.48541218e+00, -5.00485039e+01,\n",
       "       -1.75433040e+00, -5.79518572e+01, -7.91824869e+00,  3.46179942e+01,\n",
       "        2.53815074e+01, -3.00212422e+01, -5.44373235e+00, -4.71490897e+01,\n",
       "        1.67077222e+01,  5.65974577e+01, -4.43657318e+00,  5.79848922e+00,\n",
       "        9.45060286e+00,  1.47472040e+01,  1.64375200e+01, -4.25833892e+01,\n",
       "        2.02685573e+01,  6.48161398e+00, -6.52295478e+01,  6.38583572e+01,\n",
       "       -1.40480447e+01,  2.59246491e+00, -3.77988542e+01,  5.80308181e+01,\n",
       "       -1.50961977e+02,  1.21714844e+01,  9.35235311e+00, -3.77324996e+00,\n",
       "        7.20229619e+01, -2.69950345e+01, -8.34684411e+00,  9.75189258e+00,\n",
       "        1.14985008e+01, -6.26783828e+01,  1.72578628e+01,  7.41687741e+01,\n",
       "        1.61933503e+01, -1.88817310e+01, -4.92325762e+00, -4.42474234e+01,\n",
       "        1.54673927e+01,  4.38516422e+01,  8.68987699e+00, -2.08330654e+01,\n",
       "       -1.98133317e+01, -4.38021363e+01,  4.33078839e+01, -2.31149442e+01,\n",
       "       -4.52637480e+00,  7.11473692e+01, -3.19223034e+01,  5.50508463e+01,\n",
       "       -1.85756570e+02, -1.17128637e+00,  1.56000129e+01, -3.53835861e+00,\n",
       "       -3.07552928e+01, -2.04432323e+01,  2.60522156e+01, -4.65617406e-01,\n",
       "        1.32969590e+01,  4.71170007e+01, -4.64935029e+00,  8.38762989e+00,\n",
       "       -3.27702108e+00, -1.16416740e+01, -4.04372676e+01,  3.42770775e+01,\n",
       "        1.67728235e+01, -7.01351752e-01, -7.21943039e+00,  3.64702946e+01,\n",
       "        3.93313548e+00, -1.04771930e+02,  5.65469573e+01, -2.21261719e+01,\n",
       "       -2.04070670e+01, -4.41975344e+01, -4.30278791e+01, -7.21561277e+01,\n",
       "       -3.16573115e+01,  1.23370366e+01,  3.78982938e+01, -2.20208617e+01,\n",
       "        1.16338745e+01,  8.77410888e+00, -2.55726098e+01,  4.45560924e+00,\n",
       "        3.64933619e+00,  6.05144739e+00, -3.87980996e+01,  2.10782337e+01,\n",
       "        1.03914721e+01,  1.30728429e+01,  5.06411258e+01,  2.59560438e+01,\n",
       "       -4.88698367e+01,  3.54508854e+01, -2.30662352e+02,  1.11415009e+01,\n",
       "        8.22403210e+00, -1.04594147e+01, -6.24644136e+00,  5.65061003e+01,\n",
       "       -1.08211072e+02,  3.87784413e+01, -3.63337865e+01, -1.55891154e+02,\n",
       "        2.92138172e+02,  6.37291311e+01, -1.35644490e+00, -3.14811339e+01,\n",
       "       -1.35634187e+00, -2.62525303e+01,  4.74210613e+01,  4.17635060e+01,\n",
       "        3.79492111e+01,  5.89607476e+01, -4.45631915e+00, -7.17974577e+00,\n",
       "        1.83362165e+01, -6.65869760e+01,  1.31382178e+01, -5.95134009e+01,\n",
       "        1.18341087e+02,  2.06513100e+01, -1.81675662e+01, -1.11188871e+02,\n",
       "       -6.08526172e+01,  3.04224838e+01, -2.72625715e+01,  2.84087503e+01,\n",
       "        5.71201087e+01,  1.64192358e+01, -3.09570632e+01, -1.16037547e+01,\n",
       "        1.84315258e+01, -7.83601401e+00, -4.26742933e+01, -6.55387484e+01,\n",
       "       -4.11231372e+01,  2.25824468e+00,  1.88019206e+01,  4.55997178e+01,\n",
       "       -5.55975939e+01, -8.07460738e+00,  1.67140220e+01, -3.91380536e+01,\n",
       "        2.53832150e+01, -7.43481446e+01, -6.53989086e+01,  5.70830784e+01,\n",
       "       -2.06815508e+01, -8.38224600e+01,  8.28395675e+00,  2.86024212e+01,\n",
       "        6.83314710e+01,  3.49640838e+00, -8.41621666e+01, -3.73905309e+01,\n",
       "       -2.01560022e+01, -1.21844630e+01,  1.89270263e+01, -1.92570644e+01,\n",
       "       -8.35687051e+01, -8.87472876e+00, -2.34123577e+01,  3.31990818e+01,\n",
       "       -9.72442225e+00,  1.83435303e+01, -1.15665148e+02,  2.33675875e+01,\n",
       "       -1.14669583e+02,  1.73158363e+01, -3.49135407e+01,  4.65298362e+01,\n",
       "       -8.78079340e+00, -7.11108084e+01,  9.47289911e+01, -2.71234216e+01,\n",
       "        7.65428116e+00, -4.21623174e+01,  4.79875001e+00,  3.32557088e+01,\n",
       "        2.70127510e+01,  1.82068387e+01, -6.32283762e+01, -1.56258183e+01,\n",
       "        7.00055651e+01, -4.81876115e+01, -1.09542259e+01,  7.95599449e+00,\n",
       "       -2.00017214e+01, -6.26250510e+01, -1.97394942e+01,  2.40088622e+01,\n",
       "        2.57378694e+01,  5.10143787e+01,  4.74206042e+00, -2.47980193e+01,\n",
       "        1.37902010e+00, -5.79462700e+00, -2.46026930e+01, -5.27983394e+01,\n",
       "       -4.23693313e+01,  2.96652090e+01, -3.01084053e+01,  3.01350003e+01,\n",
       "       -1.65519713e+01, -1.02085662e+01, -3.28530171e+01, -9.39628508e+00,\n",
       "       -3.16345161e+00,  5.11719753e+01,  7.11399133e+01, -5.68278811e+01,\n",
       "       -3.57049315e+01, -2.70387812e+01, -1.32317515e+02, -3.58630161e+01,\n",
       "        3.83516649e+01,  3.62661869e+01, -7.39014370e+01, -7.39785232e+00,\n",
       "        2.73992043e+01,  2.99338033e+01, -1.67730501e+01, -1.15631524e+02,\n",
       "        1.19005593e+02, -1.72065066e+01,  1.36421748e+01,  2.41028658e+01,\n",
       "        1.69835016e+01,  5.56780414e+01, -3.47016817e+01,  4.89702082e+01,\n",
       "        1.25140015e+01, -1.50458666e+00,  2.15718735e+01,  3.49684594e+01,\n",
       "        2.33265376e+00, -2.89991660e+01, -3.38574861e+00,  2.52322153e+01,\n",
       "        9.34677853e+00,  4.86305582e+01, -2.33466468e+01,  1.94863877e+01,\n",
       "        3.56954231e+01, -3.85014427e+01,  7.15318011e+01,  2.99579470e+01,\n",
       "       -1.51091681e+00, -3.16716816e+01, -3.70568999e+01, -1.77170671e+01,\n",
       "       -1.39744270e+02,  2.38192086e+01,  5.15050973e+01, -3.49367492e+00,\n",
       "       -1.74470359e+01,  3.41750802e+01, -9.29112020e+00,  5.63111161e+01,\n",
       "       -1.05897420e+01,  3.20284068e+01, -1.12046296e+02, -2.40742736e+01,\n",
       "       -3.37832445e+01,  1.07248587e+01,  2.43768701e+01,  3.83060215e+00,\n",
       "        2.77153754e+01,  8.45440472e+01,  3.35098920e+00,  2.30023674e+01,\n",
       "        5.35279590e+00, -4.78549823e+01, -3.33003582e+01, -4.49503560e+01,\n",
       "        3.46733279e+01,  6.32535476e+01, -2.04183724e+01, -4.51229656e+01,\n",
       "       -1.83828711e+01, -5.34512768e+01,  1.43975233e+01,  7.73814813e+01,\n",
       "        3.90784643e+01,  3.58508032e+01,  1.54040152e+01,  2.18720484e+01,\n",
       "        1.88660360e+01, -2.03213796e+01, -1.46938636e+01, -6.38479754e+00,\n",
       "       -1.21995099e+00, -3.31020734e+01,  1.62092317e+01,  1.61635955e+01,\n",
       "       -9.44430444e+01,  1.27671792e+01, -1.20563510e+02,  7.62155357e+01,\n",
       "       -2.73098461e+01,  2.43355026e+01,  1.65656253e+01,  9.11767575e+01,\n",
       "       -7.68884144e+01, -2.37121686e+00, -1.11714937e+01, -1.12441678e+02,\n",
       "        1.79787837e+02, -1.72850047e+01,  3.19807223e+00,  3.36091694e+01,\n",
       "        7.75667613e+01,  6.97638971e+01,  2.08667197e+01,  4.85576281e+00,\n",
       "        4.95684599e+00,  3.25551908e+01, -2.57187240e+01, -1.74523135e+01,\n",
       "        2.18374606e+01, -5.21340689e+00, -5.67456600e+01,  5.95512832e+01,\n",
       "        3.80929568e+01, -4.04270119e+01, -4.33025773e+01,  2.73307990e+01,\n",
       "       -8.44336376e+00, -7.43072568e+01,  1.89196526e+01,  6.83526587e+01,\n",
       "       -7.95603844e+01, -3.38947632e+01, -2.51054105e+01, -9.58816461e+00,\n",
       "       -2.24654009e+00, -2.96981438e+01,  2.38859334e+01,  7.73334528e+01,\n",
       "        6.98207104e+01, -2.38932993e+00,  4.11805084e+01,  1.49242963e+01,\n",
       "       -2.96137484e+01,  1.23861895e+01,  2.27521752e+01, -3.50914554e+01,\n",
       "       -1.28469071e+01, -3.20255670e+01, -4.13197079e+01,  2.24271713e+01,\n",
       "        4.11845631e-01, -7.58168572e+00, -3.83963666e+01, -5.41610445e+01,\n",
       "       -3.26572917e+01,  1.39304484e+01, -6.34803039e+01, -5.60169031e-01,\n",
       "       -3.52852601e+01, -3.00806939e+01, -1.38913975e+01, -2.42896849e+01,\n",
       "        6.05957316e+00, -3.13096410e+01, -6.99676840e+01,  2.26019270e+01,\n",
       "       -1.16037868e+01, -3.50007643e+01, -3.75497334e+00, -6.57554903e+01,\n",
       "        5.72251265e+01,  2.59162341e+01, -5.27672755e+01, -5.04294892e+01,\n",
       "       -2.02098210e+01, -9.30238547e+01, -9.07769588e+00,  8.66935099e+01,\n",
       "       -3.75329471e+01, -3.08215100e+01, -5.04887243e+01, -2.07401425e-01,\n",
       "        1.31732775e+01,  2.94862114e+01,  2.56500061e+01, -1.32184751e+01,\n",
       "        1.99315038e+01, -8.19995718e+01, -7.04965033e+01, -2.84207597e+01,\n",
       "        1.72331634e+01,  6.94049236e+01,  6.67197715e+00,  9.63812730e+00,\n",
       "        5.58678282e+01, -5.79711507e+01, -7.27977546e+01,  4.95645471e+01,\n",
       "        1.50752645e+01, -3.50264562e+00,  5.53075206e+01,  4.77057053e+00,\n",
       "       -5.04916811e+01, -1.14706417e+01, -9.48050877e+00,  5.51012614e+01,\n",
       "        1.95723555e+01, -5.59899781e+01, -4.26403305e+01,  8.01336691e+01,\n",
       "        8.62707641e+00, -8.95206636e+01,  4.09160783e+01, -1.13012663e+02,\n",
       "       -3.57030173e+01,  1.95388091e+00, -7.43648323e+01, -5.04392628e+01,\n",
       "        2.34689207e+01, -4.97401321e+01, -3.31679278e+01,  1.17340753e+01,\n",
       "        1.68224200e+01, -4.51149483e+01, -4.87354911e-01,  1.97454780e+01,\n",
       "       -1.13593029e+02,  1.86755629e+02, -3.13159558e+01, -1.18444596e+01,\n",
       "        3.07529549e+01,  1.95837422e+02, -1.96574496e+02])"
      ]
     },
     "execution_count": 129,
     "metadata": {},
     "output_type": "execute_result"
    }
   ],
   "source": [
    "LR_ridgecv.coef_"
   ]
  },
  {
   "cell_type": "code",
   "execution_count": 130,
   "metadata": {},
   "outputs": [],
   "source": [
    "# pair feature names with model coefficients\n",
    "feat_imp = list(zip(poly.get_feature_names(X.columns), LR_ridgecv.coef_))"
   ]
  },
  {
   "cell_type": "code",
   "execution_count": 131,
   "metadata": {},
   "outputs": [
    {
     "data": {
      "text/plain": [
       "[('Age (day)^3', 292.138172086265),\n",
       " ('Age (day)^2', -287.924298598364),\n",
       " ('Superplasticizer (component 5)(kg in a m^3 mixture) Age (day)^2',\n",
       "  -230.66235212874915),\n",
       " ('Age (day)^4', -196.57449584621597),\n",
       " ('Fine Aggregate (component 7)(kg in a m^3 mixture) Age (day)^3',\n",
       "  195.8374219242939),\n",
       " ('Coarse Aggregate  (component 6)(kg in a m^3 mixture) Age (day)^3',\n",
       "  186.75562895768775),\n",
       " ('Blast Furnace Slag (component 2)(kg in a m^3 mixture) Age (day)^2',\n",
       "  -185.75656965580959),\n",
       " ('Blast Furnace Slag (component 2)(kg in a m^3 mixture) Age (day)^3',\n",
       "  179.7878373753097),\n",
       " ('Fine Aggregate (component 7)(kg in a m^3 mixture) Age (day)^2',\n",
       "  -155.8911538148212),\n",
       " ('Cement (component 1)(kg in a m^3 mixture) Age (day)^2',\n",
       "  -150.96197739348693)]"
      ]
     },
     "execution_count": 131,
     "metadata": {},
     "output_type": "execute_result"
    }
   ],
   "source": [
    "# sort features by coefficient absolute value\n",
    "feat_imp = sorted(feat_imp, key = lambda x: abs(x[1]), reverse=True)\n",
    "feat_imp[:10]"
   ]
  }
 ],
 "metadata": {
  "kernelspec": {
   "display_name": "Python 3",
   "language": "python",
   "name": "python3"
  },
  "language_info": {
   "codemirror_mode": {
    "name": "ipython",
    "version": 3
   },
   "file_extension": ".py",
   "mimetype": "text/x-python",
   "name": "python",
   "nbconvert_exporter": "python",
   "pygments_lexer": "ipython3",
   "version": "3.6.5"
  }
 },
 "nbformat": 4,
 "nbformat_minor": 2
}
